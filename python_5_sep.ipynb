{
 "cells": [
  {
   "cell_type": "code",
   "execution_count": 3,
   "id": "641f2bf2",
   "metadata": {},
   "outputs": [
    {
     "name": "stdout",
     "output_type": "stream",
     "text": [
      "Enter the age17\n",
      "you aer undere age\n"
     ]
    }
   ],
   "source": [
    "#if statement\n",
    "#nested if else condition\n",
    "\n",
    "age=float(input(\"Enter the age\"))\n",
    "\n",
    "if age > 18 :\n",
    "    print(\"you are elligible\")\n",
    "elif age < 18 :\n",
    "    print(\"you aer undere age\")\n",
    "else:\n",
    "    print('Nothing ')\n"
   ]
  },
  {
   "cell_type": "code",
   "execution_count": 6,
   "id": "21e7460a",
   "metadata": {},
   "outputs": [
    {
     "name": "stdout",
     "output_type": "stream",
     "text": [
      "Enter the age70\n",
      "super senior citizen\n"
     ]
    }
   ],
   "source": [
    "age=float(input(\"Enter the age\"))\n",
    "\n",
    "if age < 18:\n",
    "    print(\"You are elligible\")\n",
    "    \n",
    "elif age >=18 and age <=30:\n",
    "    print(\"Mid age \")\n",
    "elif age >45 and age <60:\n",
    "    print(\"Senior citizen\")\n",
    "    \n",
    "else :\n",
    "    print(\"super senior citizen\")"
   ]
  },
  {
   "cell_type": "code",
   "execution_count": 8,
   "id": "6e7dd45d",
   "metadata": {},
   "outputs": [
    {
     "name": "stdout",
     "output_type": "stream",
     "text": [
      "2\n",
      "3\n",
      "4\n",
      "5\n",
      "6\n",
      "7\n",
      "8\n"
     ]
    }
   ],
   "source": [
    "#loops statement\n",
    "#for loop ,while loop\n",
    "\n",
    "lst=[1,2,3,4,5,6,7]\n",
    "for i in lst:\n",
    "    #print(i)\n",
    "    #print(i**2)\n",
    "    print(i+1)"
   ]
  },
  {
   "cell_type": "code",
   "execution_count": 10,
   "id": "e8a2ae93",
   "metadata": {},
   "outputs": [
    {
     "name": "stdout",
     "output_type": "stream",
     "text": [
      "28\n"
     ]
    }
   ],
   "source": [
    "##find the sum of all functions in the list\n",
    "\n",
    "lst=[1,2,3,4,5,6,7]\n",
    "\n",
    "sum1=0\n",
    "for i in lst:\n",
    "    sum1=sum1+i\n",
    "print(sum1)"
   ]
  },
  {
   "cell_type": "code",
   "execution_count": 11,
   "id": "788fafa7",
   "metadata": {},
   "outputs": [
    {
     "data": {
      "text/plain": [
       "28"
      ]
     },
     "execution_count": 11,
     "metadata": {},
     "output_type": "execute_result"
    }
   ],
   "source": [
    "sum(lst)"
   ]
  },
  {
   "cell_type": "code",
   "execution_count": 13,
   "id": "9b92f1aa",
   "metadata": {},
   "outputs": [
    {
     "name": "stdout",
     "output_type": "stream",
     "text": [
      "Even sum is 12\n",
      "odd sum is 16\n"
     ]
    }
   ],
   "source": [
    "#adding even and odd separately\n",
    "lst=[1,2,3,4,5,6,7]\n",
    "even_sum=0\n",
    "odd_sum=0\n",
    "\n",
    "for i in lst:\n",
    "    if(i%2==0):\n",
    "        even_sum=even_sum+i\n",
    "    else:\n",
    "        odd_sum=odd_sum+i\n",
    "        \n",
    "print(\"Even sum is {}\".format(even_sum))\n",
    "print(\"odd sum is {}\".format(odd_sum))\n"
   ]
  },
  {
   "cell_type": "code",
   "execution_count": 2,
   "id": "9663db45",
   "metadata": {},
   "outputs": [
    {
     "name": "stdout",
     "output_type": "stream",
     "text": [
      "30 25\n"
     ]
    }
   ],
   "source": [
    "#while condition\n",
    "\n",
    "i=1\n",
    "even_sum=0\n",
    "odd_sum=0\n",
    "while i <= 10:\n",
    "    if i%2==0:\n",
    "        even_sum=even_sum+i\n",
    "    else:\n",
    "        odd_sum=odd_sum+i\n",
    "    \n",
    "    i=i+1\n",
    "print(even_sum,odd_sum)"
   ]
  },
  {
   "cell_type": "code",
   "execution_count": 3,
   "id": "f28c013b",
   "metadata": {},
   "outputs": [
    {
     "name": "stdout",
     "output_type": "stream",
     "text": [
      "1\n",
      "2\n",
      "3\n",
      "4\n"
     ]
    }
   ],
   "source": [
    "#break\n",
    "\n",
    "x=1\n",
    "\n",
    "while x< 7:\n",
    "    print(x)\n",
    "    \n",
    "    if x==4:\n",
    "        break\n",
    "        \n",
    "    x=x+1\n"
   ]
  },
  {
   "cell_type": "code",
   "execution_count": 2,
   "id": "1e09e829",
   "metadata": {},
   "outputs": [
    {
     "name": "stdout",
     "output_type": "stream",
     "text": [
      "2\n",
      "3\n",
      "5\n",
      "6\n",
      "7\n"
     ]
    }
   ],
   "source": [
    "#continue\n",
    "\n",
    "x=1\n",
    "\n",
    "while x< 7:\n",
    "   \n",
    "    x=x+1\n",
    "    if x==4:\n",
    "        continue\n",
    "    print(x)\n"
   ]
  },
  {
   "cell_type": "code",
   "execution_count": 7,
   "id": "c439bd9f",
   "metadata": {},
   "outputs": [
    {
     "name": "stdout",
     "output_type": "stream",
     "text": [
      "Enter the age69\n",
      "succesfully executed\n"
     ]
    }
   ],
   "source": [
    "\n",
    "\n",
    "age=int(input(\"Enter the age\"))\n",
    "if age > 18 and age <45:\n",
    "    print(\"mid age\")\n",
    "elif age < 18 or age >=60:\n",
    "    print(\"succesfully executed\")   "
   ]
  },
  {
   "cell_type": "code",
   "execution_count": 8,
   "id": "c66266b0",
   "metadata": {},
   "outputs": [
    {
     "data": {
      "text/plain": [
       "False"
      ]
     },
     "execution_count": 8,
     "metadata": {},
     "output_type": "execute_result"
    }
   ],
   "source": [
    "#bool\n",
    "a='krish'\n",
    "b=\"krsih1\"\n",
    "a==b\n"
   ]
  },
  {
   "cell_type": "code",
   "execution_count": 9,
   "id": "488a1d74",
   "metadata": {},
   "outputs": [
    {
     "data": {
      "text/plain": [
       "True"
      ]
     },
     "execution_count": 9,
     "metadata": {},
     "output_type": "execute_result"
    }
   ],
   "source": [
    "a=\"debu\"\n",
    "b=\"debu\"\n",
    "a==b"
   ]
  },
  {
   "cell_type": "code",
   "execution_count": 10,
   "id": "fb021789",
   "metadata": {},
   "outputs": [
    {
     "data": {
      "text/plain": [
       "True"
      ]
     },
     "execution_count": 10,
     "metadata": {},
     "output_type": "execute_result"
    }
   ],
   "source": [
    "a is b"
   ]
  },
  {
   "cell_type": "code",
   "execution_count": 12,
   "id": "f9d097ae",
   "metadata": {},
   "outputs": [
    {
     "name": "stdout",
     "output_type": "stream",
     "text": [
      "2402028194416\n",
      "2402028194416\n"
     ]
    }
   ],
   "source": [
    "print(id(a))\n",
    "print(id(b))"
   ]
  },
  {
   "cell_type": "code",
   "execution_count": 13,
   "id": "3395db8b",
   "metadata": {},
   "outputs": [
    {
     "data": {
      "text/plain": [
       "True"
      ]
     },
     "execution_count": 13,
     "metadata": {},
     "output_type": "execute_result"
    }
   ],
   "source": [
    "100!=109"
   ]
  },
  {
   "cell_type": "code",
   "execution_count": 14,
   "id": "fb1d522f",
   "metadata": {},
   "outputs": [
    {
     "data": {
      "text/plain": [
       "True"
      ]
     },
     "execution_count": 14,
     "metadata": {},
     "output_type": "execute_result"
    }
   ],
   "source": [
    "100<180"
   ]
  },
  {
   "cell_type": "code",
   "execution_count": 15,
   "id": "0090d4c0",
   "metadata": {},
   "outputs": [
    {
     "data": {
      "text/plain": [
       "False"
      ]
     },
     "execution_count": 15,
     "metadata": {},
     "output_type": "execute_result"
    }
   ],
   "source": [
    "280>877"
   ]
  },
  {
   "cell_type": "code",
   "execution_count": 16,
   "id": "57512cef",
   "metadata": {},
   "outputs": [
    {
     "data": {
      "text/plain": [
       "True"
      ]
     },
     "execution_count": 16,
     "metadata": {},
     "output_type": "execute_result"
    }
   ],
   "source": [
    "200>=200"
   ]
  },
  {
   "cell_type": "code",
   "execution_count": 20,
   "id": "ef248f5f",
   "metadata": {},
   "outputs": [
    {
     "name": "stdout",
     "output_type": "stream",
     "text": [
      "Enter marks69\n",
      "pass\n",
      "First class\n"
     ]
    }
   ],
   "source": [
    "marks=float(input('Enter marks'))\n",
    "\n",
    "if marks>=35 :\n",
    "    print(\"pass\")\n",
    "    if marks>=60 and marks<=70:\n",
    "        print(\"First class\")\n",
    "elif marks < 35:\n",
    "    print(\"Fail\")"
   ]
  },
  {
   "cell_type": "code",
   "execution_count": 21,
   "id": "ebcbd975",
   "metadata": {},
   "outputs": [
    {
     "data": {
      "text/plain": [
       "77"
      ]
     },
     "execution_count": 21,
     "metadata": {},
     "output_type": "execute_result"
    }
   ],
   "source": [
    "#arithmatic operator\n",
    "\n",
    "24+53"
   ]
  },
  {
   "cell_type": "code",
   "execution_count": 22,
   "id": "1b6b8d2a",
   "metadata": {},
   "outputs": [
    {
     "data": {
      "text/plain": [
       "918"
      ]
     },
     "execution_count": 22,
     "metadata": {},
     "output_type": "execute_result"
    }
   ],
   "source": [
    "34*27"
   ]
  },
  {
   "cell_type": "code",
   "execution_count": 24,
   "id": "50153d05",
   "metadata": {},
   "outputs": [
    {
     "data": {
      "text/plain": [
       "5.0"
      ]
     },
     "execution_count": 24,
     "metadata": {},
     "output_type": "execute_result"
    }
   ],
   "source": [
    "\n",
    "25/5"
   ]
  },
  {
   "cell_type": "code",
   "execution_count": 25,
   "id": "5c4cfc82",
   "metadata": {},
   "outputs": [
    {
     "data": {
      "text/plain": [
       "5"
      ]
     },
     "execution_count": 25,
     "metadata": {},
     "output_type": "execute_result"
    }
   ],
   "source": [
    "#int division output\n",
    "27//5"
   ]
  },
  {
   "cell_type": "code",
   "execution_count": 26,
   "id": "e8ed760c",
   "metadata": {},
   "outputs": [
    {
     "data": {
      "text/plain": [
       "14"
      ]
     },
     "execution_count": 26,
     "metadata": {},
     "output_type": "execute_result"
    }
   ],
   "source": [
    "48-34"
   ]
  },
  {
   "cell_type": "code",
   "execution_count": 27,
   "id": "02acf487",
   "metadata": {},
   "outputs": [
    {
     "data": {
      "text/plain": [
       "144"
      ]
     },
     "execution_count": 27,
     "metadata": {},
     "output_type": "execute_result"
    }
   ],
   "source": [
    "12**2"
   ]
  },
  {
   "cell_type": "code",
   "execution_count": null,
   "id": "969afb61",
   "metadata": {},
   "outputs": [],
   "source": []
  }
 ],
 "metadata": {
  "kernelspec": {
   "display_name": "Python 3 (ipykernel)",
   "language": "python",
   "name": "python3"
  },
  "language_info": {
   "codemirror_mode": {
    "name": "ipython",
    "version": 3
   },
   "file_extension": ".py",
   "mimetype": "text/x-python",
   "name": "python",
   "nbconvert_exporter": "python",
   "pygments_lexer": "ipython3",
   "version": "3.10.9"
  }
 },
 "nbformat": 4,
 "nbformat_minor": 5
}
