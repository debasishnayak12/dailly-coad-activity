{
 "cells": [
  {
   "cell_type": "code",
   "execution_count": 29,
   "id": "38bdcd20",
   "metadata": {},
   "outputs": [
    {
     "data": {
      "text/plain": [
       "['False',\n",
       " 'None',\n",
       " 'True',\n",
       " 'and',\n",
       " 'as',\n",
       " 'assert',\n",
       " 'async',\n",
       " 'await',\n",
       " 'break',\n",
       " 'class',\n",
       " 'continue',\n",
       " 'def',\n",
       " 'del',\n",
       " 'elif',\n",
       " 'else',\n",
       " 'except',\n",
       " 'finally',\n",
       " 'for',\n",
       " 'from',\n",
       " 'global',\n",
       " 'if',\n",
       " 'import',\n",
       " 'in',\n",
       " 'is',\n",
       " 'lambda',\n",
       " 'nonlocal',\n",
       " 'not',\n",
       " 'or',\n",
       " 'pass',\n",
       " 'raise',\n",
       " 'return',\n",
       " 'try',\n",
       " 'while',\n",
       " 'with',\n",
       " 'yield']"
      ]
     },
     "execution_count": 29,
     "metadata": {},
     "output_type": "execute_result"
    }
   ],
   "source": [
    "words=keyword.kwlist\n",
    "words"
   ]
  },
  {
   "cell_type": "code",
   "execution_count": 30,
   "id": "10255d7e",
   "metadata": {},
   "outputs": [
    {
     "data": {
      "text/plain": [
       "35"
      ]
     },
     "execution_count": 30,
     "metadata": {},
     "output_type": "execute_result"
    }
   ],
   "source": [
    "len(words)"
   ]
  },
  {
   "cell_type": "code",
   "execution_count": 31,
   "id": "78e9671a",
   "metadata": {},
   "outputs": [
    {
     "name": "stdout",
     "output_type": "stream",
     "text": [
      "9\n"
     ]
    }
   ],
   "source": [
    "a=4\n",
    "b=5\n",
    "c=a+b\n",
    "print(c)"
   ]
  },
  {
   "cell_type": "code",
   "execution_count": 32,
   "id": "3393715d",
   "metadata": {},
   "outputs": [
    {
     "name": "stdout",
     "output_type": "stream",
     "text": [
      "This is true!\n",
      "0\n",
      "1\n",
      "2\n"
     ]
    }
   ],
   "source": [
    "if True:\n",
    "    print(\"This is true!\")\n",
    "for i in range(3):\n",
    "    print(i)\n",
    "def hello():\n",
    "    print(\"Hello ,world!\")\n",
    "while False:\n",
    "    print(\"This won't print\")\n",
    "    "
   ]
  },
  {
   "cell_type": "code",
   "execution_count": 33,
   "id": "c105882e",
   "metadata": {},
   "outputs": [],
   "source": [
    "#1 + 2 + 3 + 4 + 1 + 2 + 3 + 4 + 1 + 2 + 3 + 4 + 1 + 2 + 3 + 4 + 1 + 2 + 3 + 4 + 1 + 2 + 3 + 4 + 1 + 2 + 3 + 4\n",
    "\n",
    "s = ( 1 + 2 + 3 + 4+\n",
    "     1 + 2 + 3 + 4 )"
   ]
  },
  {
   "cell_type": "code",
   "execution_count": 34,
   "id": "766c0607",
   "metadata": {},
   "outputs": [
    {
     "name": "stdout",
     "output_type": "stream",
     "text": [
      "['apple', 'grapes', 'guava']\n"
     ]
    }
   ],
   "source": [
    "fruits=[\"apple\",\"grapes\",\"guava\"]\n",
    "print(fruits)"
   ]
  },
  {
   "cell_type": "code",
   "execution_count": 35,
   "id": "46508e2f",
   "metadata": {},
   "outputs": [
    {
     "name": "stdout",
     "output_type": "stream",
     "text": [
      "['1', 'debu', ['apple', 'grapes', 'guava']]\n"
     ]
    }
   ],
   "source": [
    "hetero_mylist = ['1','debu',[\"apple\",\"grapes\",\"guava\"]]\n",
    "print(hetero_mylist)"
   ]
  },
  {
   "cell_type": "code",
   "execution_count": 36,
   "id": "2e7e5113",
   "metadata": {},
   "outputs": [],
   "source": [
    "import keyword"
   ]
  },
  {
   "cell_type": "code",
   "execution_count": 37,
   "id": "91db2828",
   "metadata": {},
   "outputs": [
    {
     "data": {
      "text/plain": [
       "str"
      ]
     },
     "execution_count": 37,
     "metadata": {},
     "output_type": "execute_result"
    }
   ],
   "source": [
    "type(\"today's thought\")"
   ]
  },
  {
   "cell_type": "code",
   "execution_count": 38,
   "id": "2c317c7c",
   "metadata": {},
   "outputs": [
    {
     "data": {
      "text/plain": [
       "14"
      ]
     },
     "execution_count": 38,
     "metadata": {},
     "output_type": "execute_result"
    }
   ],
   "source": [
    "a=6\n",
    "b=a+2\n",
    "c=b+a\n",
    "c"
   ]
  },
  {
   "cell_type": "code",
   "execution_count": 39,
   "id": "9040ec8c",
   "metadata": {},
   "outputs": [
    {
     "name": "stdout",
     "output_type": "stream",
     "text": [
      "2513758191984\n",
      "5\n",
      "2513758192208\n",
      "12\n",
      "2513758193104\n",
      "40\n"
     ]
    }
   ],
   "source": [
    "c=5\n",
    "print(id(c))\n",
    "print(c)\n",
    "d=7\n",
    "c=c+d\n",
    "print(id(c))\n",
    "print(c)\n",
    "c=40\n",
    "print(id(c))\n",
    "print(c)"
   ]
  },
  {
   "cell_type": "code",
   "execution_count": 40,
   "id": "52fd67a2",
   "metadata": {},
   "outputs": [
    {
     "data": {
      "text/plain": [
       "'abc'"
      ]
     },
     "execution_count": 40,
     "metadata": {},
     "output_type": "execute_result"
    }
   ],
   "source": [
    "c='abc'\n",
    "c"
   ]
  },
  {
   "cell_type": "code",
   "execution_count": 41,
   "id": "417b7e6b",
   "metadata": {},
   "outputs": [
    {
     "data": {
      "text/plain": [
       "2513759476912"
      ]
     },
     "execution_count": 41,
     "metadata": {},
     "output_type": "execute_result"
    }
   ],
   "source": [
    "id(c)"
   ]
  },
  {
   "cell_type": "code",
   "execution_count": 42,
   "id": "98783003",
   "metadata": {},
   "outputs": [],
   "source": [
    "a=[2,3.80,'apple',True]"
   ]
  },
  {
   "cell_type": "code",
   "execution_count": 43,
   "id": "fbf93a55",
   "metadata": {},
   "outputs": [
    {
     "data": {
      "text/plain": [
       "[2, 3.8, 'apple', True]"
      ]
     },
     "execution_count": 43,
     "metadata": {},
     "output_type": "execute_result"
    }
   ],
   "source": [
    "a"
   ]
  },
  {
   "cell_type": "code",
   "execution_count": 44,
   "id": "a9d3a9b9",
   "metadata": {},
   "outputs": [
    {
     "data": {
      "text/plain": [
       "4"
      ]
     },
     "execution_count": 44,
     "metadata": {},
     "output_type": "execute_result"
    }
   ],
   "source": [
    "len(a)"
   ]
  },
  {
   "cell_type": "code",
   "execution_count": 45,
   "id": "d5313fa7",
   "metadata": {},
   "outputs": [
    {
     "data": {
      "text/plain": [
       "2"
      ]
     },
     "execution_count": 45,
     "metadata": {},
     "output_type": "execute_result"
    }
   ],
   "source": [
    "a[0]"
   ]
  },
  {
   "cell_type": "code",
   "execution_count": 46,
   "id": "aa215ae9",
   "metadata": {},
   "outputs": [
    {
     "data": {
      "text/plain": [
       "3.8"
      ]
     },
     "execution_count": 46,
     "metadata": {},
     "output_type": "execute_result"
    }
   ],
   "source": [
    "a[1]"
   ]
  },
  {
   "cell_type": "code",
   "execution_count": 47,
   "id": "bd56fcc2",
   "metadata": {},
   "outputs": [
    {
     "data": {
      "text/plain": [
       "True"
      ]
     },
     "execution_count": 47,
     "metadata": {},
     "output_type": "execute_result"
    }
   ],
   "source": [
    "a[-1]"
   ]
  },
  {
   "cell_type": "code",
   "execution_count": 48,
   "id": "1e4df453",
   "metadata": {},
   "outputs": [],
   "source": [
    "s='grapes'"
   ]
  },
  {
   "cell_type": "code",
   "execution_count": 49,
   "id": "4928d0cd",
   "metadata": {},
   "outputs": [
    {
     "data": {
      "text/plain": [
       "'s'"
      ]
     },
     "execution_count": 49,
     "metadata": {},
     "output_type": "execute_result"
    }
   ],
   "source": [
    "s[-1]"
   ]
  },
  {
   "cell_type": "code",
   "execution_count": 50,
   "id": "73fc2c55",
   "metadata": {},
   "outputs": [
    {
     "data": {
      "text/plain": [
       "'p'"
      ]
     },
     "execution_count": 50,
     "metadata": {},
     "output_type": "execute_result"
    }
   ],
   "source": [
    "s[3]"
   ]
  },
  {
   "cell_type": "code",
   "execution_count": 51,
   "id": "2e1148bd",
   "metadata": {},
   "outputs": [
    {
     "name": "stdout",
     "output_type": "stream",
     "text": [
      "100\n",
      "5\n"
     ]
    }
   ],
   "source": [
    "score=100\n",
    "wickets=5\n",
    "print(score)\n",
    "print(wickets)"
   ]
  },
  {
   "cell_type": "code",
   "execution_count": 52,
   "id": "7dc24448",
   "metadata": {},
   "outputs": [
    {
     "name": "stdout",
     "output_type": "stream",
     "text": [
      "debu\n",
      "20\n"
     ]
    }
   ],
   "source": [
    "_name=\"debu\"\n",
    "_age=20\n",
    "print(_name)\n",
    "print(_age)"
   ]
  },
  {
   "cell_type": "code",
   "execution_count": 53,
   "id": "1289b6a0",
   "metadata": {},
   "outputs": [
    {
     "name": "stdout",
     "output_type": "stream",
     "text": [
      "6\n",
      "1\n",
      "3\n"
     ]
    }
   ],
   "source": [
    "my_list=[1,2,3,4,5,6]\n",
    "print(my_list[-1])\n",
    "print(my_list[0])\n",
    "my_list[1]=8\n",
    "print(my_list[2])"
   ]
  },
  {
   "cell_type": "code",
   "execution_count": 54,
   "id": "b5031ebc",
   "metadata": {},
   "outputs": [
    {
     "name": "stdout",
     "output_type": "stream",
     "text": [
      "(1, 2, 3, 4, 'debu', [5, 6, 7])\n"
     ]
    }
   ],
   "source": [
    "my_tuple=(1,2,3,4,\"debu\",[5,6,7])\n",
    "print(my_tuple)"
   ]
  },
  {
   "cell_type": "code",
   "execution_count": 55,
   "id": "c223870c",
   "metadata": {},
   "outputs": [
    {
     "name": "stdout",
     "output_type": "stream",
     "text": [
      "('a', 's', 'd', 'debu', 1, 2, 3)\n"
     ]
    }
   ],
   "source": [
    "my_tuple=(\"a\",\"s\",\"d\",\"debu\",1,2,3)\n",
    "print(my_tuple)"
   ]
  },
  {
   "cell_type": "code",
   "execution_count": 56,
   "id": "9ccfdcd1",
   "metadata": {},
   "outputs": [
    {
     "name": "stdout",
     "output_type": "stream",
     "text": [
      "a\n"
     ]
    }
   ],
   "source": [
    "print(my_tuple[0])"
   ]
  },
  {
   "cell_type": "code",
   "execution_count": 57,
   "id": "7bbd8fde",
   "metadata": {},
   "outputs": [
    {
     "name": "stdout",
     "output_type": "stream",
     "text": [
      "2\n"
     ]
    }
   ],
   "source": [
    "print(my_tuple[-2])"
   ]
  },
  {
   "cell_type": "code",
   "execution_count": 58,
   "id": "9e0efe24",
   "metadata": {},
   "outputs": [
    {
     "name": "stdout",
     "output_type": "stream",
     "text": [
      "debu\n"
     ]
    }
   ],
   "source": [
    "print(my_tuple[3])"
   ]
  },
  {
   "cell_type": "code",
   "execution_count": 59,
   "id": "9217bcfc",
   "metadata": {},
   "outputs": [
    {
     "name": "stdout",
     "output_type": "stream",
     "text": [
      "a\n"
     ]
    }
   ],
   "source": [
    "print(my_tuple[0])"
   ]
  },
  {
   "cell_type": "code",
   "execution_count": 60,
   "id": "fa7a1b59",
   "metadata": {},
   "outputs": [
    {
     "name": "stdout",
     "output_type": "stream",
     "text": [
      "s\n"
     ]
    }
   ],
   "source": [
    "print(my_tuple[1])"
   ]
  },
  {
   "cell_type": "code",
   "execution_count": 61,
   "id": "425e2a47",
   "metadata": {},
   "outputs": [
    {
     "name": "stdout",
     "output_type": "stream",
     "text": [
      "{'name': 'debu', 'age': 25, (1, 2, 3): 100}\n"
     ]
    }
   ],
   "source": [
    "my_dict={\"name\":\"debu\",\"age\":25,(1,2,3):100}\n",
    "print(my_dict)"
   ]
  },
  {
   "cell_type": "code",
   "execution_count": 62,
   "id": "005b3abd",
   "metadata": {},
   "outputs": [
    {
     "data": {
      "text/plain": [
       "dict_keys(['name', 'age', (1, 2, 3)])"
      ]
     },
     "execution_count": 62,
     "metadata": {},
     "output_type": "execute_result"
    }
   ],
   "source": [
    "my_dict.keys()"
   ]
  },
  {
   "cell_type": "code",
   "execution_count": 63,
   "id": "b612247c",
   "metadata": {},
   "outputs": [
    {
     "ename": "KeyError",
     "evalue": "'debu'",
     "output_type": "error",
     "traceback": [
      "\u001b[1;31m---------------------------------------------------------------------------\u001b[0m",
      "\u001b[1;31mKeyError\u001b[0m                                  Traceback (most recent call last)",
      "Cell \u001b[1;32mIn[63], line 1\u001b[0m\n\u001b[1;32m----> 1\u001b[0m \u001b[43mmy_dict\u001b[49m\u001b[43m[\u001b[49m\u001b[38;5;124;43m'\u001b[39;49m\u001b[38;5;124;43mdebu\u001b[39;49m\u001b[38;5;124;43m'\u001b[39;49m\u001b[43m]\u001b[49m\n",
      "\u001b[1;31mKeyError\u001b[0m: 'debu'"
     ]
    }
   ],
   "source": [
    "my_dict['debu']"
   ]
  },
  {
   "cell_type": "code",
   "execution_count": null,
   "id": "06d75418",
   "metadata": {},
   "outputs": [],
   "source": [
    "my_list=[1,2,3,4,[\"a\",\"b\",\"c\"]]\n",
    "print(my_list[-1])"
   ]
  },
  {
   "cell_type": "code",
   "execution_count": null,
   "id": "da3ddca9",
   "metadata": {},
   "outputs": [],
   "source": [
    "import math\n",
    "result=math.sqrt(25)\n",
    "print(result)"
   ]
  },
  {
   "cell_type": "code",
   "execution_count": null,
   "id": "b5a14a36",
   "metadata": {},
   "outputs": [],
   "source": [
    "from math import sqrt\n",
    "result=sqrt(64)\n",
    "print(result)"
   ]
  },
  {
   "cell_type": "code",
   "execution_count": null,
   "id": "1463fbdd",
   "metadata": {},
   "outputs": [],
   "source": [
    "x=10\n",
    "if x < 20:\n",
    "    print(\"this is a possitive number\")"
   ]
  },
  {
   "cell_type": "code",
   "execution_count": null,
   "id": "1582b307",
   "metadata": {},
   "outputs": [],
   "source": [
    "x=5\n",
    "if x>8:\n",
    "    print(\"it is true\")\n",
    "else:\n",
    "    print(\"it is false\")"
   ]
  },
  {
   "cell_type": "code",
   "execution_count": null,
   "id": "e1173d9b",
   "metadata": {},
   "outputs": [],
   "source": [
    "A=\"my name is debu, i have, a lenevo i-3 laptop\"\n",
    "#type(A)=string\n",
    "B=A.split('name') #3type(B)=list\n",
    "print(B)"
   ]
  },
  {
   "cell_type": "code",
   "execution_count": null,
   "id": "75a92c4d",
   "metadata": {},
   "outputs": [],
   "source": [
    "C=A.split('a')\n",
    "print(C)"
   ]
  },
  {
   "cell_type": "code",
   "execution_count": null,
   "id": "8c9a6f2d",
   "metadata": {},
   "outputs": [],
   "source": [
    "A=\"he is hari, he has ,no money\"\n",
    "B=A.split('is')\n",
    "print(B)"
   ]
  },
  {
   "cell_type": "code",
   "execution_count": null,
   "id": "42eba215",
   "metadata": {},
   "outputs": [],
   "source": [
    "C=A.split('h')\n",
    "print(C)"
   ]
  },
  {
   "cell_type": "code",
   "execution_count": null,
   "id": "58f058e8",
   "metadata": {},
   "outputs": [],
   "source": [
    "len(C)"
   ]
  },
  {
   "cell_type": "code",
   "execution_count": null,
   "id": "9c21dc0d",
   "metadata": {},
   "outputs": [],
   "source": [
    "D=A.split('i')\n",
    "print(D)"
   ]
  },
  {
   "cell_type": "code",
   "execution_count": null,
   "id": "59a39cda",
   "metadata": {},
   "outputs": [],
   "source": [
    "A.startswith('he is')"
   ]
  },
  {
   "cell_type": "code",
   "execution_count": null,
   "id": "32df90e3",
   "metadata": {},
   "outputs": [],
   "source": [
    "A.startswith('he has')"
   ]
  },
  {
   "cell_type": "code",
   "execution_count": null,
   "id": "e0dbc9aa",
   "metadata": {},
   "outputs": [],
   "source": [
    "True==True"
   ]
  },
  {
   "cell_type": "code",
   "execution_count": null,
   "id": "05e033e3",
   "metadata": {},
   "outputs": [],
   "source": [
    "True==False"
   ]
  },
  {
   "cell_type": "code",
   "execution_count": null,
   "id": "177517c1",
   "metadata": {},
   "outputs": [],
   "source": [
    "False==True"
   ]
  },
  {
   "cell_type": "code",
   "execution_count": null,
   "id": "5eea4f60",
   "metadata": {},
   "outputs": [],
   "source": [
    "False==False"
   ]
  },
  {
   "cell_type": "markdown",
   "id": "730e1abf",
   "metadata": {},
   "source": []
  },
  {
   "cell_type": "code",
   "execution_count": null,
   "id": "f72fda21",
   "metadata": {},
   "outputs": [],
   "source": []
  },
  {
   "cell_type": "code",
   "execution_count": null,
   "id": "45fd26df",
   "metadata": {},
   "outputs": [],
   "source": [
    "'''\n",
    "A=\"virat kohli is,the greatest batsman\"\n",
    "B=A.split(\"kohli\")\n",
    "print(B)\n",
    "'''"
   ]
  },
  {
   "cell_type": "code",
   "execution_count": null,
   "id": "35b435f2",
   "metadata": {},
   "outputs": [],
   "source": [
    "A=\"virat kohli is,the greatest batsman\"\n",
    "B=A.split(\"kohli\")\n",
    "print(B)"
   ]
  },
  {
   "cell_type": "code",
   "execution_count": null,
   "id": "4954e94c",
   "metadata": {},
   "outputs": [],
   "source": [
    "C=A.split(\"a\")\n",
    "print(C)"
   ]
  },
  {
   "cell_type": "code",
   "execution_count": null,
   "id": "0088ae77",
   "metadata": {},
   "outputs": [],
   "source": [
    "len(C)"
   ]
  },
  {
   "cell_type": "code",
   "execution_count": null,
   "id": "acc43071",
   "metadata": {},
   "outputs": [],
   "source": [
    "A.startswith(\"virat\")"
   ]
  },
  {
   "cell_type": "code",
   "execution_count": null,
   "id": "c2c6b3b3",
   "metadata": {},
   "outputs": [],
   "source": [
    "A.startswith(\"kohli\")"
   ]
  },
  {
   "cell_type": "code",
   "execution_count": null,
   "id": "6a79ba5e",
   "metadata": {},
   "outputs": [],
   "source": [
    "for i in range(1,8):\n",
    "    print(i)"
   ]
  },
  {
   "cell_type": "code",
   "execution_count": null,
   "id": "cabf178c",
   "metadata": {},
   "outputs": [],
   "source": [
    "for i in range(30):\n",
    "    print(i)"
   ]
  },
  {
   "cell_type": "code",
   "execution_count": null,
   "id": "7d8e602c",
   "metadata": {},
   "outputs": [],
   "source": [
    "for i in range (2,9,2):\n",
    "    print(i)"
   ]
  },
  {
   "cell_type": "code",
   "execution_count": null,
   "id": "0e132f18",
   "metadata": {},
   "outputs": [],
   "source": [
    "for i in range (1,29,6):\n",
    "    print(i)"
   ]
  },
  {
   "cell_type": "code",
   "execution_count": null,
   "id": "0b40ab5f",
   "metadata": {},
   "outputs": [],
   "source": [
    "iteration=1\n",
    "for i in range(5):\n",
    "    print(i)\n",
    "    iteration=iteration+1\n",
    "    print(\"number of iteration:\",iteration)\n",
    "    "
   ]
  },
  {
   "cell_type": "code",
   "execution_count": null,
   "id": "a2d0d0a5",
   "metadata": {},
   "outputs": [],
   "source": [
    "iteration=2\n",
    "for i in range (10):\n",
    "    print(i)\n",
    "    iteration=iteration+1\n",
    "    print(\"number of iteration:\",iteration)"
   ]
  },
  {
   "cell_type": "code",
   "execution_count": null,
   "id": "dd351496",
   "metadata": {},
   "outputs": [],
   "source": [
    "a=10\n",
    "b=3\n",
    "print(a+b)\n",
    "print(a-b)\n",
    "print(a/b)"
   ]
  },
  {
   "cell_type": "code",
   "execution_count": null,
   "id": "3e8c30b0",
   "metadata": {},
   "outputs": [],
   "source": [
    "print(a//b)"
   ]
  },
  {
   "cell_type": "code",
   "execution_count": null,
   "id": "29494224",
   "metadata": {},
   "outputs": [],
   "source": [
    "a=20\n",
    "b=3\n",
    "print(a//b)"
   ]
  },
  {
   "cell_type": "code",
   "execution_count": null,
   "id": "932c1b39",
   "metadata": {},
   "outputs": [],
   "source": [
    "print(a%b)"
   ]
  },
  {
   "cell_type": "code",
   "execution_count": null,
   "id": "258adb40",
   "metadata": {},
   "outputs": [],
   "source": [
    "print(a*b)"
   ]
  },
  {
   "cell_type": "code",
   "execution_count": null,
   "id": "c531b283",
   "metadata": {},
   "outputs": [],
   "source": [
    "print(a**b)"
   ]
  },
  {
   "cell_type": "code",
   "execution_count": null,
   "id": "ecb3fcf8",
   "metadata": {},
   "outputs": [],
   "source": [
    "print(a**a)"
   ]
  },
  {
   "cell_type": "code",
   "execution_count": null,
   "id": "9edb1e45",
   "metadata": {},
   "outputs": [],
   "source": [
    "a=3\n",
    "b=4\n",
    "print(a*b)"
   ]
  },
  {
   "cell_type": "code",
   "execution_count": null,
   "id": "b132a3f3",
   "metadata": {},
   "outputs": [],
   "source": [
    "print(a**b)"
   ]
  },
  {
   "cell_type": "code",
   "execution_count": null,
   "id": "fbd5aee2",
   "metadata": {},
   "outputs": [],
   "source": [
    "print(a**a)"
   ]
  },
  {
   "cell_type": "code",
   "execution_count": null,
   "id": "8b5689bd",
   "metadata": {},
   "outputs": [],
   "source": [
    "a=10\n",
    "b=30\n",
    "print(a==b)\n",
    "print(a or b)\n",
    "print(b or a)"
   ]
  },
  {
   "cell_type": "code",
   "execution_count": null,
   "id": "c0532c57",
   "metadata": {},
   "outputs": [],
   "source": [
    "a=5\n",
    "b=10\n",
    "print(a>b)"
   ]
  },
  {
   "cell_type": "code",
   "execution_count": null,
   "id": "43501b89",
   "metadata": {},
   "outputs": [],
   "source": [
    "print(a<b)"
   ]
  },
  {
   "cell_type": "code",
   "execution_count": null,
   "id": "b010f25a",
   "metadata": {},
   "outputs": [],
   "source": [
    "a=2\n",
    "b=2\n",
    "print(a>=b)"
   ]
  },
  {
   "cell_type": "code",
   "execution_count": null,
   "id": "f92b87aa",
   "metadata": {},
   "outputs": [],
   "source": [
    "print(a!=b)"
   ]
  },
  {
   "cell_type": "code",
   "execution_count": null,
   "id": "1f1cc2cd",
   "metadata": {},
   "outputs": [],
   "source": [
    "a=True\n",
    "b=False \n",
    "print(a&b)"
   ]
  },
  {
   "cell_type": "code",
   "execution_count": null,
   "id": "263a8381",
   "metadata": {},
   "outputs": [],
   "source": [
    "print(not b)"
   ]
  },
  {
   "cell_type": "code",
   "execution_count": null,
   "id": "7e70b2c0",
   "metadata": {},
   "outputs": [],
   "source": [
    "print(a==b)"
   ]
  },
  {
   "cell_type": "code",
   "execution_count": null,
   "id": "c19a89fd",
   "metadata": {},
   "outputs": [],
   "source": [
    "print(a or b)"
   ]
  },
  {
   "cell_type": "code",
   "execution_count": null,
   "id": "30ca8afd",
   "metadata": {},
   "outputs": [],
   "source": [
    "a=10\n",
    "b=4\n",
    "print(a | b)"
   ]
  },
  {
   "cell_type": "code",
   "execution_count": null,
   "id": "9f11daec",
   "metadata": {},
   "outputs": [],
   "source": [
    "a=30\n",
    "b=28\n",
    "print(a|b)"
   ]
  },
  {
   "cell_type": "code",
   "execution_count": null,
   "id": "438e38f7",
   "metadata": {},
   "outputs": [],
   "source": [
    "a=10\n",
    "b=4\n",
    "print(a^b)"
   ]
  },
  {
   "cell_type": "code",
   "execution_count": null,
   "id": "5147e632",
   "metadata": {},
   "outputs": [],
   "source": [
    "a = 10\n",
    "result=a>>2\n",
    "print(result)"
   ]
  },
  {
   "cell_type": "code",
   "execution_count": null,
   "id": "76f00012",
   "metadata": {},
   "outputs": [],
   "source": [
    "a=10\n",
    "result=a<<3\n",
    "print(result)"
   ]
  },
  {
   "cell_type": "markdown",
   "id": "57370b01",
   "metadata": {},
   "source": []
  },
  {
   "cell_type": "code",
   "execution_count": null,
   "id": "9a1d64b1",
   "metadata": {},
   "outputs": [],
   "source": [
    "a=20\n",
    "result=a>>2"
   ]
  },
  {
   "cell_type": "code",
   "execution_count": null,
   "id": "96e39e50",
   "metadata": {},
   "outputs": [],
   "source": [
    "print(result)"
   ]
  },
  {
   "cell_type": "code",
   "execution_count": null,
   "id": "395b2551",
   "metadata": {},
   "outputs": [],
   "source": [
    "result=a<<2\n",
    "print(result)"
   ]
  },
  {
   "cell_type": "code",
   "execution_count": null,
   "id": "70d86ea0",
   "metadata": {},
   "outputs": [],
   "source": [
    "a=100\n",
    "result=a>>2"
   ]
  },
  {
   "cell_type": "code",
   "execution_count": null,
   "id": "9e1b25b1",
   "metadata": {},
   "outputs": [],
   "source": [
    "print(result)"
   ]
  },
  {
   "cell_type": "code",
   "execution_count": null,
   "id": "5db5a819",
   "metadata": {},
   "outputs": [],
   "source": [
    "a = 5\n",
    "result=a>>2\n",
    "print(result)"
   ]
  },
  {
   "cell_type": "code",
   "execution_count": null,
   "id": "19bbb58a",
   "metadata": {},
   "outputs": [],
   "source": [
    "bin(10)"
   ]
  },
  {
   "cell_type": "code",
   "execution_count": null,
   "id": "7398ff8e",
   "metadata": {},
   "outputs": [],
   "source": [
    "'spam' + 'spamspam'"
   ]
  },
  {
   "cell_type": "code",
   "execution_count": null,
   "id": "89be5a06",
   "metadata": {},
   "outputs": [],
   "source": [
    "'spam'*3"
   ]
  },
  {
   "cell_type": "code",
   "execution_count": null,
   "id": "945869df",
   "metadata": {},
   "outputs": [],
   "source": [
    "a=10\n",
    "b=5\n",
    "print(a%b)"
   ]
  },
  {
   "cell_type": "code",
   "execution_count": null,
   "id": "077db918",
   "metadata": {},
   "outputs": [],
   "source": [
    "a=20\n",
    "result=(a>>2)  #this is right shift\n",
    "print(result)"
   ]
  },
  {
   "cell_type": "code",
   "execution_count": null,
   "id": "5ee3a3e9",
   "metadata": {},
   "outputs": [],
   "source": [
    "result = (a<<2)  #this is left shift\n",
    "print(result)"
   ]
  },
  {
   "cell_type": "code",
   "execution_count": null,
   "id": "9e5418ad",
   "metadata": {},
   "outputs": [],
   "source": [
    "a=10\n",
    "b=5\n",
    "print(a != b)"
   ]
  },
  {
   "cell_type": "code",
   "execution_count": null,
   "id": "efdeb237",
   "metadata": {},
   "outputs": [],
   "source": [
    "a=15\n",
    "b=15\n",
    "print(a != b)"
   ]
  },
  {
   "cell_type": "code",
   "execution_count": null,
   "id": "5aeff0d2",
   "metadata": {},
   "outputs": [],
   "source": [
    "print(a==b)"
   ]
  },
  {
   "cell_type": "code",
   "execution_count": null,
   "id": "7f925e23",
   "metadata": {},
   "outputs": [],
   "source": [
    "print(a>=b)"
   ]
  },
  {
   "cell_type": "code",
   "execution_count": null,
   "id": "7120cc02",
   "metadata": {},
   "outputs": [],
   "source": [
    "a=10\n",
    "b=10\n",
    "a += 3\n",
    "print(a)"
   ]
  },
  {
   "cell_type": "code",
   "execution_count": null,
   "id": "2514b7c4",
   "metadata": {},
   "outputs": [],
   "source": [
    "b == 4"
   ]
  },
  {
   "cell_type": "code",
   "execution_count": null,
   "id": "86039d76",
   "metadata": {},
   "outputs": [],
   "source": [
    "b+=4\n",
    "print(b)"
   ]
  },
  {
   "cell_type": "code",
   "execution_count": null,
   "id": "ffac2207",
   "metadata": {},
   "outputs": [],
   "source": [
    "if \"virat score a century\":\n",
    "    print(\"he is genius:\")\n",
    "else:\n",
    "    print (\"also he is a genius:\")\n",
    "\n",
    "\"\"\"\n",
    "    virat kohli is great\n",
    "    he is absolute genius\n",
    "    no one can match his level:\n",
    "\"\"\""
   ]
  },
  {
   "cell_type": "code",
   "execution_count": null,
   "id": "1af1d390",
   "metadata": {},
   "outputs": [],
   "source": [
    "a=10\n",
    "a -=3\n",
    "print(a)"
   ]
  },
  {
   "cell_type": "code",
   "execution_count": null,
   "id": "f1b58708",
   "metadata": {},
   "outputs": [],
   "source": [
    "a=5\n",
    "a*=2"
   ]
  },
  {
   "cell_type": "code",
   "execution_count": null,
   "id": "004465f2",
   "metadata": {},
   "outputs": [],
   "source": [
    "print(a)"
   ]
  },
  {
   "cell_type": "code",
   "execution_count": null,
   "id": "2b8d9983",
   "metadata": {},
   "outputs": [],
   "source": []
  },
  {
   "cell_type": "code",
   "execution_count": null,
   "id": "16af0cae",
   "metadata": {},
   "outputs": [],
   "source": [
    "if \"subha avoid the cockroach\":\n",
    "    print(\"she is brave\")\n",
    "else:\n",
    "    print(\"she is cowerd\")"
   ]
  },
  {
   "cell_type": "code",
   "execution_count": null,
   "id": "7e846a4d",
   "metadata": {},
   "outputs": [],
   "source": [
    "a = 15\n",
    "b = 4\n",
    "print(a % b)"
   ]
  },
  {
   "cell_type": "code",
   "execution_count": null,
   "id": "3b933665",
   "metadata": {},
   "outputs": [],
   "source": [
    "a = 20\n",
    "b = 6\n",
    "result = a >> 2 + b >> 2\n",
    "print(result)"
   ]
  },
  {
   "cell_type": "code",
   "execution_count": null,
   "id": "6d1404c7",
   "metadata": {},
   "outputs": [],
   "source": [
    "result = a >> 2\n",
    "print(result)"
   ]
  },
  {
   "cell_type": "code",
   "execution_count": null,
   "id": "a7420b24",
   "metadata": {},
   "outputs": [],
   "source": [
    "name=input(\"enter student name:\")\n",
    "print(f\"welcome to:{name}\")"
   ]
  },
  {
   "cell_type": "code",
   "execution_count": null,
   "id": "f4150029",
   "metadata": {},
   "outputs": [],
   "source": [
    "st_rank=input(\"enter st_rank:\")\n",
    "print(f\"welcome ur rank:{st_rank}\")"
   ]
  },
  {
   "cell_type": "code",
   "execution_count": null,
   "id": "17487ce6",
   "metadata": {},
   "outputs": [],
   "source": [
    "runs=100\n",
    "if runs >=100:\n",
    "    print(\"congrats,you scored a century:\")\n",
    "elif runs>=90:\n",
    "    print(\"omg,you just lost ur century:\")\n",
    "elif runs >= 50:\n",
    "    print(\"good, you scored a halfcentury:\")\n",
    "else:\n",
    "    print(\"sorry,you fals to score good:\")"
   ]
  },
  {
   "cell_type": "code",
   "execution_count": null,
   "id": "c90e17fe",
   "metadata": {},
   "outputs": [],
   "source": [
    "rank=3\n",
    "if rank<=5:\n",
    "    print(\"congs,you are qualified:\")\n",
    "elif rank <= 10:\n",
    "    print(\"good luck,u r in reserved :\")\n",
    "else:\n",
    "    print(\"sorry,u r rejected:\")"
   ]
  },
  {
   "cell_type": "code",
   "execution_count": null,
   "id": "8a797d43",
   "metadata": {},
   "outputs": [],
   "source": [
    "num1=10\n",
    "num2=20\n",
    "num3=30\n",
    "\n",
    "if (num1>=num2) and (num1>=num3):\n",
    "    largest=num1\n",
    "elif (num2>=num1) and (num2>=num3):\n",
    "    largest=num2\n",
    "else:\n",
    "    largest=num3\n",
    "    \n",
    "print(\"largest num is\",largest)"
   ]
  },
  {
   "cell_type": "code",
   "execution_count": null,
   "id": "324d7054",
   "metadata": {},
   "outputs": [],
   "source": [
    "a =10\n",
    "b = 8\n",
    "c = 5\n",
    "if (a>b) and (a>c):\n",
    "    elder = a\n",
    "    print(\"elder is\",a)\n",
    "elif (b>a) and (b>c):\n",
    "    print(\"elder is\",b)\n",
    "else:\n",
    "    print(\"elder is\",c)"
   ]
  },
  {
   "cell_type": "code",
   "execution_count": null,
   "id": "f1013fde",
   "metadata": {},
   "outputs": [],
   "source": [
    "num1=float(input(\"enter the first number\"))\n",
    "num2=float(input(\"enter the 2nd number\"))\n",
    "num3=float(input(\"enter the 3rd number\"))\n",
    "if (num1>num2) and (num1>num3):\n",
    "        largest=num1\n",
    "elif (num2>num1) and (num2>num3):\n",
    "       largest=num2\n",
    "else:\n",
    "    largest=num3\n",
    "    \n",
    "    print(\"largest num is\",largest)\n"
   ]
  },
  {
   "cell_type": "code",
   "execution_count": null,
   "id": "a16aca05",
   "metadata": {},
   "outputs": [],
   "source": [
    "num1=float(input(\"enter the first number\"))\n",
    "num2=float(input(\"enter the 2nd number\"))\n",
    "num3=float(input(\"enter the 3rd number\"))\n",
    "if (num1>num2) and (num1>num3):\n",
    "        largest=num1\n",
    "elif (num2>num1) and (num2>num3):\n",
    "       largest=num2\n",
    "else:\n",
    "    largest=num3\n",
    "    \n",
    "    print(\"largest num is\",largest)\n"
   ]
  },
  {
   "cell_type": "code",
   "execution_count": null,
   "id": "65ef5a85",
   "metadata": {},
   "outputs": [],
   "source": [
    "num1=float(input(\"enter the 1st num\"))\n",
    "num2=float(input(\"enter the 2nd num\"))\n",
    "num3=float(input(\"enter the 3rd num\"))\n",
    "if (num1>num2) and (num1 > num3):\n",
    "    largest=num1\n",
    "    print(\"largest num is\",largest)\n",
    "    \n",
    "elif (num2>num1) and (num2>num3):\n",
    "    largest=num2\n",
    "    print(\"largest num is\",largest)\n",
    "else:\n",
    "     print(\"largest num is\",largest)"
   ]
  },
  {
   "cell_type": "code",
   "execution_count": null,
   "id": "d8b345a7",
   "metadata": {},
   "outputs": [],
   "source": [
    "for i in  range(10):\n",
    "    print(i)"
   ]
  },
  {
   "cell_type": "code",
   "execution_count": null,
   "id": "f8397ff7",
   "metadata": {},
   "outputs": [],
   "source": [
    "for i in range (2,10,2):\n",
    "    print(i)"
   ]
  },
  {
   "cell_type": "code",
   "execution_count": null,
   "id": "1e2e7bc7",
   "metadata": {},
   "outputs": [],
   "source": [
    "Flist = [\"apple\",\"cherry\"]"
   ]
  },
  {
   "cell_type": "code",
   "execution_count": null,
   "id": "e1fd8eb3",
   "metadata": {},
   "outputs": [],
   "source": [
    "num=[10,5,18,12,9,20,30,6,15,3]\n",
    "for i in range(len(num)):\n",
    "    print(i)\n",
    "    print(num[i])"
   ]
  },
  {
   "cell_type": "code",
   "execution_count": null,
   "id": "283104ee",
   "metadata": {},
   "outputs": [],
   "source": [
    "for i in Flist:\n",
    "    print(i)\n",
    "    for j in (i):\n",
    "        if j==\"a\":\n",
    "            print(\"it's a \")\n",
    "        else:\n",
    "            print(\"it's not a\")\n"
   ]
  },
  {
   "cell_type": "code",
   "execution_count": null,
   "id": "6cf5b0e3",
   "metadata": {},
   "outputs": [],
   "source": [
    "a"
   ]
  },
  {
   "cell_type": "code",
   "execution_count": null,
   "id": "c43a3e6e",
   "metadata": {},
   "outputs": [],
   "source": [
    "country=[\"India\",\"UK\",\"USA\"]\n",
    "for index in range (len(country)):\n",
    "    print(country[index])"
   ]
  },
  {
   "cell_type": "code",
   "execution_count": null,
   "id": "1307f9ab",
   "metadata": {},
   "outputs": [],
   "source": [
    "rows=6\n",
    "for i in range (rows):\n",
    "    for j in range(i+1):\n",
    "        print(\"^\",end=\" \")\n",
    "    print()"
   ]
  },
  {
   "cell_type": "code",
   "execution_count": null,
   "id": "44dd79d3",
   "metadata": {},
   "outputs": [],
   "source": [
    "numbers=[0,1,2,3,4,5,6,7,8,9]\n",
    "print(numbers[5:])"
   ]
  },
  {
   "cell_type": "code",
   "execution_count": null,
   "id": "129d85d4",
   "metadata": {},
   "outputs": [],
   "source": [
    "print(numbers[:5])"
   ]
  },
  {
   "cell_type": "code",
   "execution_count": null,
   "id": "9a240f45",
   "metadata": {},
   "outputs": [],
   "source": [
    "print(numbers[1:5])"
   ]
  },
  {
   "cell_type": "code",
   "execution_count": null,
   "id": "3c4956f8",
   "metadata": {},
   "outputs": [],
   "source": [
    "print(numbers[1:])"
   ]
  },
  {
   "cell_type": "code",
   "execution_count": null,
   "id": "5c000c42",
   "metadata": {},
   "outputs": [],
   "source": [
    "print (numbers[:1])"
   ]
  },
  {
   "cell_type": "code",
   "execution_count": null,
   "id": "72cc7db1",
   "metadata": {},
   "outputs": [],
   "source": [
    "print(numbers[-4:])"
   ]
  },
  {
   "cell_type": "code",
   "execution_count": null,
   "id": "7d5f3a9d",
   "metadata": {},
   "outputs": [],
   "source": [
    "print(numbers[:-3])"
   ]
  },
  {
   "cell_type": "code",
   "execution_count": null,
   "id": "58fe7cb8",
   "metadata": {},
   "outputs": [],
   "source": [
    "print(numbers[1:5:2])"
   ]
  },
  {
   "cell_type": "code",
   "execution_count": null,
   "id": "8779c46b",
   "metadata": {},
   "outputs": [],
   "source": [
    "print(numbers[::-3])"
   ]
  },
  {
   "cell_type": "code",
   "execution_count": null,
   "id": "daee698e",
   "metadata": {},
   "outputs": [],
   "source": [
    "print(numbers[::2])"
   ]
  },
  {
   "cell_type": "code",
   "execution_count": null,
   "id": "641ad2f7",
   "metadata": {},
   "outputs": [],
   "source": [
    "fruits=[\"apple\",\"banana\",\"cherry\",\"apple\",\"blackberry\"]"
   ]
  },
  {
   "cell_type": "code",
   "execution_count": null,
   "id": "e290bf5e",
   "metadata": {},
   "outputs": [],
   "source": [
    "print(\"before changing ite by index\",fruits)\n",
    "fruits[0]=\"kiwi\"\n",
    "print(\"after changing item by index\",fruits)"
   ]
  },
  {
   "cell_type": "code",
   "execution_count": null,
   "id": "cda3829f",
   "metadata": {},
   "outputs": [],
   "source": [
    "fruits[2:2]=[\"guava\",\"papaya\"]\n",
    "print(\"after changing the list\",fruits)"
   ]
  },
  {
   "cell_type": "code",
   "execution_count": null,
   "id": "887aec5b",
   "metadata": {},
   "outputs": [],
   "source": [
    "del fruits[1:2]\n",
    "print(fruits)"
   ]
  },
  {
   "cell_type": "code",
   "execution_count": null,
   "id": "a19fbdb3",
   "metadata": {},
   "outputs": [],
   "source": [
    "fruits.clear()\n",
    "print(fruits)"
   ]
  },
  {
   "cell_type": "code",
   "execution_count": null,
   "id": "84d4f44e",
   "metadata": {},
   "outputs": [],
   "source": [
    "numbers=(1,2,3,4,5,6,7,8,9)\n",
    "numbers[0]\n",
    "\n",
    "\n"
   ]
  },
  {
   "cell_type": "code",
   "execution_count": null,
   "id": "81ffde91",
   "metadata": {},
   "outputs": [],
   "source": [
    "numbers[0:-1]"
   ]
  },
  {
   "cell_type": "code",
   "execution_count": null,
   "id": "968ef732",
   "metadata": {},
   "outputs": [],
   "source": [
    "numbers1=list(numbers)\n",
    "numbers1[8]=0           #we can change the tuple into list then \n",
    "                       # change the element then again convert to tuple\n",
    "numbers=tuple(numbers1)\n",
    "print(numbers)"
   ]
  },
  {
   "cell_type": "code",
   "execution_count": null,
   "id": "9c2a28ae",
   "metadata": {},
   "outputs": [],
   "source": [
    "for digit in numbers:\n",
    "    print(digit)"
   ]
  },
  {
   "cell_type": "code",
   "execution_count": null,
   "id": "dd9395ed",
   "metadata": {},
   "outputs": [],
   "source": [
    "more_numbers=(10,11,12,13)\n",
    "joined_tuple=numbers+more_numbers\n",
    "print(joined_tuple)"
   ]
  },
  {
   "cell_type": "code",
   "execution_count": null,
   "id": "be1c042a",
   "metadata": {},
   "outputs": [],
   "source": [
    "my_list=[1,2,3,4,5,6,7,8,9]\n",
    "my_list=my_list+[\"apple\"]\n",
    "my_list"
   ]
  },
  {
   "cell_type": "code",
   "execution_count": null,
   "id": "c02eb2f6",
   "metadata": {},
   "outputs": [],
   "source": [
    "my_list*2"
   ]
  },
  {
   "cell_type": "code",
   "execution_count": null,
   "id": "073069ab",
   "metadata": {},
   "outputs": [],
   "source": [
    "for i in range(9):\n",
    "        print(i)"
   ]
  },
  {
   "cell_type": "code",
   "execution_count": null,
   "id": "5fa4cff7",
   "metadata": {},
   "outputs": [],
   "source": [
    "for j in range(i):\n",
    "    print(j)"
   ]
  },
  {
   "cell_type": "code",
   "execution_count": null,
   "id": "990bd5a0",
   "metadata": {},
   "outputs": [],
   "source": [
    "my_list.append(\"orange\")"
   ]
  },
  {
   "cell_type": "code",
   "execution_count": null,
   "id": "5351d953",
   "metadata": {},
   "outputs": [],
   "source": [
    "print(my_list)"
   ]
  },
  {
   "cell_type": "code",
   "execution_count": null,
   "id": "e201bf76",
   "metadata": {},
   "outputs": [],
   "source": [
    "my_list.pop(-1)\n",
    "print(my_list)"
   ]
  },
  {
   "cell_type": "code",
   "execution_count": null,
   "id": "5500aec1",
   "metadata": {},
   "outputs": [],
   "source": [
    "popped_list=my_list.pop()"
   ]
  },
  {
   "cell_type": "code",
   "execution_count": null,
   "id": "73b985d2",
   "metadata": {},
   "outputs": [],
   "source": [
    "print(popped_list)"
   ]
  },
  {
   "cell_type": "code",
   "execution_count": null,
   "id": "c1ad3424",
   "metadata": {},
   "outputs": [],
   "source": [
    "my_list.reverse()\n",
    "print(my_list)"
   ]
  },
  {
   "cell_type": "code",
   "execution_count": null,
   "id": "74c36398",
   "metadata": {},
   "outputs": [],
   "source": [
    "my_list.sort()\n",
    "print(my_list)"
   ]
  },
  {
   "cell_type": "code",
   "execution_count": null,
   "id": "603c3f7e",
   "metadata": {},
   "outputs": [],
   "source": [
    "list1=[1,2,3]\n",
    "list2=[4,5,6]\n",
    "list3=[7,8,9]\n",
    "my_list=[list1,list2,list3]\n",
    "print(my_list)\n",
    "my_list[0]"
   ]
  },
  {
   "cell_type": "code",
   "execution_count": null,
   "id": "22007113",
   "metadata": {},
   "outputs": [],
   "source": [
    "my_dict={'name':'debu','age':20,'ps':'bdchna'}\n",
    "my_dict[\"name\"]"
   ]
  },
  {
   "cell_type": "code",
   "execution_count": null,
   "id": "bfe9ffae",
   "metadata": {},
   "outputs": [],
   "source": [
    "my_dict[\"name\"].upper()"
   ]
  },
  {
   "cell_type": "code",
   "execution_count": null,
   "id": "f70d4114",
   "metadata": {},
   "outputs": [],
   "source": [
    "my_dict\n"
   ]
  },
  {
   "cell_type": "code",
   "execution_count": null,
   "id": "bbe1643a",
   "metadata": {},
   "outputs": [],
   "source": [
    "dict1{}\n",
    "dict1.append[\"name\":\"debu\"]\n",
    "dict1.append[\"age\":20]\n",
    "print(dict1)"
   ]
  },
  {
   "cell_type": "code",
   "execution_count": null,
   "id": "d52cac0f",
   "metadata": {},
   "outputs": [],
   "source": [
    "d={'key1':1,'key2':2,'key3':3}\n",
    "d.keys()"
   ]
  },
  {
   "cell_type": "code",
   "execution_count": null,
   "id": "0df9bceb",
   "metadata": {},
   "outputs": [],
   "source": [
    "d.values()"
   ]
  },
  {
   "cell_type": "code",
   "execution_count": null,
   "id": "9a25f49d",
   "metadata": {},
   "outputs": [],
   "source": [
    "d.items()"
   ]
  },
  {
   "cell_type": "code",
   "execution_count": null,
   "id": "bd42f9a2",
   "metadata": {},
   "outputs": [],
   "source": [
    "t=(1,2,3,4)\n",
    "len(t)"
   ]
  },
  {
   "cell_type": "code",
   "execution_count": null,
   "id": "9677f05f",
   "metadata": {},
   "outputs": [],
   "source": [
    "t[-1]"
   ]
  },
  {
   "cell_type": "code",
   "execution_count": null,
   "id": "b3dc2d6f",
   "metadata": {},
   "outputs": [],
   "source": [
    "x=set()\n",
    "x.add(1)\n",
    "x"
   ]
  },
  {
   "cell_type": "code",
   "execution_count": null,
   "id": "56a12d47",
   "metadata": {},
   "outputs": [],
   "source": [
    "x.add(2)\n",
    "x"
   ]
  },
  {
   "cell_type": "code",
   "execution_count": null,
   "id": "2848ea6f",
   "metadata": {},
   "outputs": [],
   "source": [
    "list=[1,2,3,4,5,6]\n",
    "set(list)"
   ]
  },
  {
   "cell_type": "code",
   "execution_count": null,
   "id": "1239aab1",
   "metadata": {},
   "outputs": [],
   "source": [
    "list.append(7)\n",
    "list"
   ]
  },
  {
   "cell_type": "code",
   "execution_count": null,
   "id": "b85d6768",
   "metadata": {},
   "outputs": [],
   "source": [
    "set(list)"
   ]
  },
  {
   "cell_type": "code",
   "execution_count": null,
   "id": "9163731b",
   "metadata": {},
   "outputs": [],
   "source": [
    "a=5\n",
    "b=3\n",
    "c=8\n",
    "\n",
    "a==b"
   ]
  },
  {
   "cell_type": "code",
   "execution_count": null,
   "id": "b92c7bd9",
   "metadata": {},
   "outputs": [],
   "source": [
    "a>b"
   ]
  },
  {
   "cell_type": "code",
   "execution_count": null,
   "id": "eb62d374",
   "metadata": {},
   "outputs": [],
   "source": [
    "a +=3"
   ]
  },
  {
   "cell_type": "code",
   "execution_count": null,
   "id": "76b5d5ee",
   "metadata": {},
   "outputs": [],
   "source": [
    "print(a)"
   ]
  },
  {
   "cell_type": "code",
   "execution_count": null,
   "id": "142d9ffb",
   "metadata": {},
   "outputs": [],
   "source": [
    "a>c"
   ]
  },
  {
   "cell_type": "code",
   "execution_count": null,
   "id": "e66b6c98",
   "metadata": {},
   "outputs": [],
   "source": [
    "if True:\n",
    "    print(\"it is true\")\n",
    "    "
   ]
  },
  {
   "cell_type": "code",
   "execution_count": null,
   "id": "155e31da",
   "metadata": {},
   "outputs": [],
   "source": [
    "x=True\n",
    "if x:\n",
    "    print(\"it is true\")\n",
    "else:\n",
    "    print(\"it may be false ,but not true\")"
   ]
  },
  {
   "cell_type": "code",
   "execution_count": null,
   "id": "7f457469",
   "metadata": {},
   "outputs": [],
   "source": [
    "loc=\"bittle shop\"\n",
    "if loc==\"bank\":\n",
    "    print(\"welccome to bank\")\n",
    "elif loc==\"bittle shop\":\n",
    "    print(\"welcome to bittle shop\")\n",
    "else:\n",
    "    print(\"this is wrong location\")"
   ]
  },
  {
   "cell_type": "code",
   "execution_count": null,
   "id": "d89657ae",
   "metadata": {},
   "outputs": [],
   "source": [
    "list=[1,2,3,4,5,6,7,8]"
   ]
  },
  {
   "cell_type": "code",
   "execution_count": null,
   "id": "608d4481",
   "metadata": {},
   "outputs": [],
   "source": [
    "for num in list:\n",
    "    if num % 2==0:\n",
    "        print(num)"
   ]
  },
  {
   "cell_type": "code",
   "execution_count": null,
   "id": "344c716a",
   "metadata": {},
   "outputs": [],
   "source": [
    "for num in list:\n",
    "    if num % 2 != 0:\n",
    "        print(num)\n",
    "    else:\n",
    "        print(\"even number\")"
   ]
  },
  {
   "cell_type": "code",
   "execution_count": null,
   "id": "21fc2406",
   "metadata": {},
   "outputs": [],
   "source": [
    "for num in list:\n",
    "    if num % 2 == 0:\n",
    "        print(\"even numbers\")\n",
    "    else:\n",
    "        print(\"odd numbers\")"
   ]
  },
  {
   "cell_type": "code",
   "execution_count": null,
   "id": "0b1ef321",
   "metadata": {},
   "outputs": [],
   "source": [
    "list_sum=0\n",
    "for num in list:\n",
    "    list_sum +=num\n",
    "    print(list_sum)"
   ]
  },
  {
   "cell_type": "code",
   "execution_count": null,
   "id": "45d34b7d",
   "metadata": {},
   "outputs": [],
   "source": [
    "for i in \"apple\":\n",
    "    print(i)"
   ]
  },
  {
   "cell_type": "code",
   "execution_count": null,
   "id": "2c21d4f2",
   "metadata": {},
   "outputs": [],
   "source": [
    "d={\"k1\":1,\"k2\":2,\"k3\":3}\n"
   ]
  },
  {
   "cell_type": "code",
   "execution_count": null,
   "id": "8a6ed6b3",
   "metadata": {
    "scrolled": true
   },
   "outputs": [],
   "source": [
    "for item in d:\n",
    "    print(item)"
   ]
  },
  {
   "cell_type": "code",
   "execution_count": null,
   "id": "bcebc0ba",
   "metadata": {},
   "outputs": [],
   "source": [
    "d.item()"
   ]
  },
  {
   "cell_type": "code",
   "execution_count": null,
   "id": "73b09d93",
   "metadata": {},
   "outputs": [],
   "source": [
    "fruits=['apple','kiwi','papaya','berry','orange']\n",
    "for fruit in fruits:\n",
    "    print(fruit)"
   ]
  },
  {
   "cell_type": "code",
   "execution_count": null,
   "id": "9df6de0a",
   "metadata": {},
   "outputs": [],
   "source": [
    "for i in range(len(fruits)):\n",
    "    print(f\"item at index{i}is{fruits[i]}\")\n",
    "    "
   ]
  },
  {
   "cell_type": "code",
   "execution_count": null,
   "id": "fb478e59",
   "metadata": {},
   "outputs": [],
   "source": [
    "print(fruits)\n",
    "fruit1=[fruit.upper() for fruit in fruits]\n",
    "print(fruit1)\n"
   ]
  },
  {
   "cell_type": "code",
   "execution_count": null,
   "id": "ea7dbb75",
   "metadata": {},
   "outputs": [],
   "source": [
    "fruits.sort()"
   ]
  },
  {
   "cell_type": "code",
   "execution_count": null,
   "id": "96e97357",
   "metadata": {},
   "outputs": [],
   "source": [
    "print(\"in ascending order:\",fruits)"
   ]
  },
  {
   "cell_type": "code",
   "execution_count": null,
   "id": "bd875f63",
   "metadata": {},
   "outputs": [],
   "source": [
    "fruits.sort(reverse = True)\n",
    "print(\"in descending order:\",fruits)"
   ]
  },
  {
   "cell_type": "code",
   "execution_count": null,
   "id": "94aed32d",
   "metadata": {},
   "outputs": [],
   "source": [
    "fruits_copy=fruits.copy()\n",
    "print(\"copied fruit_list:\",fruits_copy)"
   ]
  },
  {
   "cell_type": "code",
   "execution_count": null,
   "id": "772e6998",
   "metadata": {},
   "outputs": [],
   "source": [
    "fruits1=[\"guava\",\"grapes\"]\n",
    "fruit_joined=fruits+fruits1\n",
    "print(\"after adding fruit_list:\",fruit_joined)"
   ]
  },
  {
   "cell_type": "code",
   "execution_count": null,
   "id": "445be3ec",
   "metadata": {},
   "outputs": [],
   "source": [
    "my_tuple=(1,2,3,4,5,6)\n",
    "tuple1=(7,8,9)\n",
    "joined_tuple=my_tuple+tuple1\n",
    "print(joined_tuple)"
   ]
  },
  {
   "cell_type": "code",
   "execution_count": null,
   "id": "e443ea1a",
   "metadata": {},
   "outputs": [],
   "source": [
    "for num in my_tuple:\n",
    "    print(num)"
   ]
  },
  {
   "cell_type": "code",
   "execution_count": null,
   "id": "663d4dc4",
   "metadata": {},
   "outputs": [],
   "source": [
    "def greet():\n",
    "    print(\"hello world!\")"
   ]
  },
  {
   "cell_type": "code",
   "execution_count": null,
   "id": "d29faee1",
   "metadata": {},
   "outputs": [],
   "source": [
    "greet()"
   ]
  },
  {
   "cell_type": "code",
   "execution_count": null,
   "id": "6b71406e",
   "metadata": {},
   "outputs": [],
   "source": [
    "def greet(name):\n",
    "    print(\"hello,\"+name+\"!\")\n",
    "greet(\"Debu\")"
   ]
  },
  {
   "cell_type": "code",
   "execution_count": null,
   "id": "5bad0fa5",
   "metadata": {},
   "outputs": [],
   "source": [
    "def greet(tuple1):\n",
    "    print(\"this is my_tuple:\" +tuple1 +\"!\")\n",
    "greet((\"1,2,3\"))\n"
   ]
  },
  {
   "cell_type": "code",
   "execution_count": null,
   "id": "883004dd",
   "metadata": {},
   "outputs": [],
   "source": [
    "def add_numbers(num1,num2):\n",
    "    return num1+num2\n",
    "result=add_numbers(2,5)\n",
    "print(result)"
   ]
  },
  {
   "cell_type": "code",
   "execution_count": null,
   "id": "fc32f3c6",
   "metadata": {},
   "outputs": [],
   "source": [
    "def introduction():\n",
    "    print(\"Hello,this is my first fuction\")\n",
    "introduction()"
   ]
  },
  {
   "cell_type": "code",
   "execution_count": null,
   "id": "0cf98148",
   "metadata": {},
   "outputs": [],
   "source": [
    "def introduction(fname):\n",
    "    print(fname + \" is my first name.\")\n",
    "introduction(\"john\")"
   ]
  },
  {
   "cell_type": "code",
   "execution_count": null,
   "id": "4840830d",
   "metadata": {},
   "outputs": [],
   "source": [
    "def intro(fname, gname):\n",
    "        print(\"my first name is \" + fname + \"my last name is\" + gname)\n",
    "intro(\"john\",\"cena\")"
   ]
  },
  {
   "cell_type": "code",
   "execution_count": null,
   "id": "beba11be",
   "metadata": {},
   "outputs": [],
   "source": [
    "def numbers(num):\n",
    "    for i in range (num):\n",
    "        b=i+2\n",
    "    return b\n",
    "        \n",
    "        "
   ]
  },
  {
   "cell_type": "code",
   "execution_count": null,
   "id": "08050c3f",
   "metadata": {},
   "outputs": [],
   "source": [
    "c=numbers(3)"
   ]
  },
  {
   "cell_type": "code",
   "execution_count": null,
   "id": "873f99cc",
   "metadata": {},
   "outputs": [],
   "source": [
    "c"
   ]
  },
  {
   "cell_type": "code",
   "execution_count": null,
   "id": "de07a56d",
   "metadata": {},
   "outputs": [],
   "source": [
    "def multi(num1,num2):\n",
    "    return num1*num2"
   ]
  },
  {
   "cell_type": "code",
   "execution_count": null,
   "id": "4a063f4a",
   "metadata": {},
   "outputs": [],
   "source": [
    "def final(n1,n2,num3):\n",
    "    v=multi(n1,n2)\n",
    "    return v+num3"
   ]
  },
  {
   "cell_type": "code",
   "execution_count": null,
   "id": "b1e3d128",
   "metadata": {},
   "outputs": [],
   "source": [
    "b=final(10,5,2)"
   ]
  },
  {
   "cell_type": "code",
   "execution_count": null,
   "id": "7e4c4fe2",
   "metadata": {},
   "outputs": [],
   "source": [
    "b"
   ]
  },
  {
   "cell_type": "code",
   "execution_count": null,
   "id": "8a21db47",
   "metadata": {},
   "outputs": [],
   "source": [
    "multi()"
   ]
  },
  {
   "cell_type": "code",
   "execution_count": null,
   "id": "502d0e5f",
   "metadata": {},
   "outputs": [],
   "source": [
    "def add_numbers(num1,num2):\n",
    "    sum=num1+num2\n",
    "    return sum\n",
    "result=add_numbers(4,8)\n",
    "print(\"the sum is \",result)"
   ]
  },
  {
   "cell_type": "code",
   "execution_count": null,
   "id": "4fca33d3",
   "metadata": {},
   "outputs": [],
   "source": [
    "def My_Mini_Calculator():\n",
    "    number_1 = float(input(\"Enter the first number: \"))\n",
    "    number_2 = float(input(\"Enter the second number: \"))\n",
    "\n",
    "    # Addition\n",
    "    result = number_1 + number_2\n",
    "    print(\"The sum is:\", result)\n",
    "\n",
    "    # Subtraction\n",
    "    result = number_1 - number_2\n",
    "    print(\"The difference is:\", result)\n",
    "\n",
    "    # Multiplication\n",
    "    result = number_1 * number_2\n",
    "    print(\"The product is:\", result)\n",
    "\n",
    "    # Division\n",
    "    result = number_1 / number_2\n",
    "    print(\"The quotient is:\", result)\n",
    "    \n",
    "# Call the function\n",
    "My_Mini_Calculator()"
   ]
  },
  {
   "cell_type": "code",
   "execution_count": null,
   "id": "02c051de",
   "metadata": {},
   "outputs": [],
   "source": [
    "num1=5\n",
    "num2=10\n",
    "if num1 !=0:\n",
    "    result=num2/num1\n",
    "    print(\"the quotient is:\",result)\n",
    "else:\n",
    "    print(\"oops therebis an error:it divide by 0.\")"
   ]
  },
  {
   "cell_type": "code",
   "execution_count": null,
   "id": "c2aabbbc",
   "metadata": {},
   "outputs": [],
   "source": [
    "def format_name():\n",
    "    first_name=input(\"enter the first name:\")\n",
    "    last_name=input(\"enter the last name:\")\n",
    "    \n",
    "    formated_first_name=first_name.capitalize()\n",
    "    formated_last_name=last_name.capitalize()\n",
    "    \n",
    "    print(\"the name is:\",formated_first_name,formated_last_name)\n",
    "    \n",
    "format_name()\n",
    "    "
   ]
  },
  {
   "cell_type": "code",
   "execution_count": null,
   "id": "c8e2cd94",
   "metadata": {},
   "outputs": [],
   "source": [
    "def print_even_numbers():\n",
    "    n=int(input(\"enter the rsnge limit:\"))\n",
    "    even_numbers=[]\n",
    "    for num in range(1,n+1):\n",
    "        if num%2 ==0:\n",
    "            even_numbers.append(num)\n",
    "    print(\"even numbers are up to :\",n,\"are\",even_numbers)\n",
    "        "
   ]
  },
  {
   "cell_type": "code",
   "execution_count": null,
   "id": "e51c1ac2",
   "metadata": {},
   "outputs": [],
   "source": [
    "print_even_numbers()"
   ]
  },
  {
   "cell_type": "code",
   "execution_count": null,
   "id": "6440976e",
   "metadata": {},
   "outputs": [],
   "source": [
    "addition= lambda x,y,z :x+y+z\n",
    "print(addition(3,4,5))"
   ]
  },
  {
   "cell_type": "code",
   "execution_count": null,
   "id": "c8258542",
   "metadata": {},
   "outputs": [],
   "source": [
    "def addition(x,y,z):\n",
    "    sum=x+y+z\n",
    "    return sum\n",
    "result=addition(3,4,5)\n",
    "print(\"the sum is:\",result)\n",
    "\n"
   ]
  },
  {
   "cell_type": "code",
   "execution_count": null,
   "id": "9ac06481",
   "metadata": {},
   "outputs": [],
   "source": [
    "square=lambda x:x**3\n",
    "print(square(2))"
   ]
  },
  {
   "cell_type": "code",
   "execution_count": null,
   "id": "c6f60cc3",
   "metadata": {},
   "outputs": [],
   "source": [
    "calculate=lambda x,y:x*y\n",
    "print(calculate(2,3))"
   ]
  },
  {
   "cell_type": "code",
   "execution_count": null,
   "id": "bef10ec4",
   "metadata": {},
   "outputs": [],
   "source": [
    "def print_even_numbers():\n",
    "    n=int(input(\"enter the range limit:\"))\n",
    "    even_numbers=[]\n",
    "    for num in range(1,n+1):\n",
    "        if num % 2 ==0:\n",
    "            even_numbers.append(num)\n",
    "            \n",
    "    print(\"even numbers up to \",n,\" are \" , even_numbers)"
   ]
  },
  {
   "cell_type": "code",
   "execution_count": null,
   "id": "da926df0",
   "metadata": {},
   "outputs": [],
   "source": [
    "print_even_numbers()"
   ]
  },
  {
   "cell_type": "code",
   "execution_count": null,
   "id": "c0729a33",
   "metadata": {
    "scrolled": true
   },
   "outputs": [],
   "source": [
    "add =lambda x,y :x+y\n",
    "print(add(5,8))"
   ]
  },
  {
   "cell_type": "code",
   "execution_count": null,
   "id": "3fc2573d",
   "metadata": {},
   "outputs": [],
   "source": [
    "add_three_numbers=lambda x,y,z :x+y+z\n",
    "result=add_three_numbers(4,5,6)\n",
    "print(\"the sum of three numbers is:\",result)\n"
   ]
  },
  {
   "cell_type": "code",
   "execution_count": 65,
   "id": "ca895a4a",
   "metadata": {},
   "outputs": [
    {
     "name": "stdout",
     "output_type": "stream",
     "text": [
      "36\n"
     ]
    }
   ],
   "source": [
    "square=lambda x:x**2\n",
    "print(square(6))"
   ]
  },
  {
   "cell_type": "code",
   "execution_count": 66,
   "id": "151a3f8b",
   "metadata": {},
   "outputs": [
    {
     "name": "stdout",
     "output_type": "stream",
     "text": [
      "debasishnayak\n"
     ]
    }
   ],
   "source": [
    "name=lambda x,y:x+y\n",
    "print(name(\"debasish\",\"nayak\"))"
   ]
  },
  {
   "cell_type": "code",
   "execution_count": 67,
   "id": "6a5eeff8",
   "metadata": {},
   "outputs": [
    {
     "name": "stdout",
     "output_type": "stream",
     "text": [
      "20\n"
     ]
    }
   ],
   "source": [
    "max_num=lambda x,y: x if x>y else y\n",
    "print(max_num(5,20))"
   ]
  },
  {
   "cell_type": "code",
   "execution_count": 68,
   "id": "49bb8f54",
   "metadata": {},
   "outputs": [
    {
     "name": "stdout",
     "output_type": "stream",
     "text": [
      "odd\n"
     ]
    }
   ],
   "source": [
    "even_or_odd=lambda x: \"even\" if x %2 ==0 else \"odd\"\n",
    "print(even_or_odd(5))"
   ]
  },
  {
   "cell_type": "code",
   "execution_count": 69,
   "id": "69d902a9",
   "metadata": {},
   "outputs": [
    {
     "name": "stdout",
     "output_type": "stream",
     "text": [
      "enter first num:8\n"
     ]
    },
    {
     "ename": "KeyboardInterrupt",
     "evalue": "Interrupted by user",
     "output_type": "error",
     "traceback": [
      "\u001b[1;31m---------------------------------------------------------------------------\u001b[0m",
      "\u001b[1;31mKeyboardInterrupt\u001b[0m                         Traceback (most recent call last)",
      "Cell \u001b[1;32mIn[69], line 2\u001b[0m\n\u001b[0;32m      1\u001b[0m add\u001b[38;5;241m=\u001b[39m\u001b[38;5;28;01mlambda\u001b[39;00m :\u001b[38;5;28mint\u001b[39m(\u001b[38;5;28minput\u001b[39m(\u001b[38;5;124m\"\u001b[39m\u001b[38;5;124menter first num:\u001b[39m\u001b[38;5;124m\"\u001b[39m))\u001b[38;5;241m+\u001b[39m \u001b[38;5;28mint\u001b[39m(\u001b[38;5;28minput\u001b[39m(\u001b[38;5;124m\"\u001b[39m\u001b[38;5;124menter sec num:\u001b[39m\u001b[38;5;124m\"\u001b[39m))\n\u001b[1;32m----> 2\u001b[0m \u001b[38;5;28mprint\u001b[39m(\u001b[43madd\u001b[49m\u001b[43m(\u001b[49m\u001b[43m)\u001b[49m)\n",
      "Cell \u001b[1;32mIn[69], line 1\u001b[0m, in \u001b[0;36m<lambda>\u001b[1;34m()\u001b[0m\n\u001b[1;32m----> 1\u001b[0m add\u001b[38;5;241m=\u001b[39m\u001b[38;5;28;01mlambda\u001b[39;00m :\u001b[38;5;28mint\u001b[39m(\u001b[38;5;28minput\u001b[39m(\u001b[38;5;124m\"\u001b[39m\u001b[38;5;124menter first num:\u001b[39m\u001b[38;5;124m\"\u001b[39m))\u001b[38;5;241m+\u001b[39m \u001b[38;5;28mint\u001b[39m(\u001b[38;5;28;43minput\u001b[39;49m\u001b[43m(\u001b[49m\u001b[38;5;124;43m\"\u001b[39;49m\u001b[38;5;124;43menter sec num:\u001b[39;49m\u001b[38;5;124;43m\"\u001b[39;49m\u001b[43m)\u001b[49m)\n\u001b[0;32m      2\u001b[0m \u001b[38;5;28mprint\u001b[39m(add())\n",
      "File \u001b[1;32m~\\anaconda3\\lib\\site-packages\\ipykernel\\kernelbase.py:1175\u001b[0m, in \u001b[0;36mKernel.raw_input\u001b[1;34m(self, prompt)\u001b[0m\n\u001b[0;32m   1171\u001b[0m \u001b[38;5;28;01mif\u001b[39;00m \u001b[38;5;129;01mnot\u001b[39;00m \u001b[38;5;28mself\u001b[39m\u001b[38;5;241m.\u001b[39m_allow_stdin:\n\u001b[0;32m   1172\u001b[0m     \u001b[38;5;28;01mraise\u001b[39;00m StdinNotImplementedError(\n\u001b[0;32m   1173\u001b[0m         \u001b[38;5;124m\"\u001b[39m\u001b[38;5;124mraw_input was called, but this frontend does not support input requests.\u001b[39m\u001b[38;5;124m\"\u001b[39m\n\u001b[0;32m   1174\u001b[0m     )\n\u001b[1;32m-> 1175\u001b[0m \u001b[38;5;28;01mreturn\u001b[39;00m \u001b[38;5;28;43mself\u001b[39;49m\u001b[38;5;241;43m.\u001b[39;49m\u001b[43m_input_request\u001b[49m\u001b[43m(\u001b[49m\n\u001b[0;32m   1176\u001b[0m \u001b[43m    \u001b[49m\u001b[38;5;28;43mstr\u001b[39;49m\u001b[43m(\u001b[49m\u001b[43mprompt\u001b[49m\u001b[43m)\u001b[49m\u001b[43m,\u001b[49m\n\u001b[0;32m   1177\u001b[0m \u001b[43m    \u001b[49m\u001b[38;5;28;43mself\u001b[39;49m\u001b[38;5;241;43m.\u001b[39;49m\u001b[43m_parent_ident\u001b[49m\u001b[43m[\u001b[49m\u001b[38;5;124;43m\"\u001b[39;49m\u001b[38;5;124;43mshell\u001b[39;49m\u001b[38;5;124;43m\"\u001b[39;49m\u001b[43m]\u001b[49m\u001b[43m,\u001b[49m\n\u001b[0;32m   1178\u001b[0m \u001b[43m    \u001b[49m\u001b[38;5;28;43mself\u001b[39;49m\u001b[38;5;241;43m.\u001b[39;49m\u001b[43mget_parent\u001b[49m\u001b[43m(\u001b[49m\u001b[38;5;124;43m\"\u001b[39;49m\u001b[38;5;124;43mshell\u001b[39;49m\u001b[38;5;124;43m\"\u001b[39;49m\u001b[43m)\u001b[49m\u001b[43m,\u001b[49m\n\u001b[0;32m   1179\u001b[0m \u001b[43m    \u001b[49m\u001b[43mpassword\u001b[49m\u001b[38;5;241;43m=\u001b[39;49m\u001b[38;5;28;43;01mFalse\u001b[39;49;00m\u001b[43m,\u001b[49m\n\u001b[0;32m   1180\u001b[0m \u001b[43m\u001b[49m\u001b[43m)\u001b[49m\n",
      "File \u001b[1;32m~\\anaconda3\\lib\\site-packages\\ipykernel\\kernelbase.py:1217\u001b[0m, in \u001b[0;36mKernel._input_request\u001b[1;34m(self, prompt, ident, parent, password)\u001b[0m\n\u001b[0;32m   1214\u001b[0m             \u001b[38;5;28;01mbreak\u001b[39;00m\n\u001b[0;32m   1215\u001b[0m \u001b[38;5;28;01mexcept\u001b[39;00m \u001b[38;5;167;01mKeyboardInterrupt\u001b[39;00m:\n\u001b[0;32m   1216\u001b[0m     \u001b[38;5;66;03m# re-raise KeyboardInterrupt, to truncate traceback\u001b[39;00m\n\u001b[1;32m-> 1217\u001b[0m     \u001b[38;5;28;01mraise\u001b[39;00m \u001b[38;5;167;01mKeyboardInterrupt\u001b[39;00m(\u001b[38;5;124m\"\u001b[39m\u001b[38;5;124mInterrupted by user\u001b[39m\u001b[38;5;124m\"\u001b[39m) \u001b[38;5;28;01mfrom\u001b[39;00m \u001b[38;5;28mNone\u001b[39m\n\u001b[0;32m   1218\u001b[0m \u001b[38;5;28;01mexcept\u001b[39;00m \u001b[38;5;167;01mException\u001b[39;00m:\n\u001b[0;32m   1219\u001b[0m     \u001b[38;5;28mself\u001b[39m\u001b[38;5;241m.\u001b[39mlog\u001b[38;5;241m.\u001b[39mwarning(\u001b[38;5;124m\"\u001b[39m\u001b[38;5;124mInvalid Message:\u001b[39m\u001b[38;5;124m\"\u001b[39m, exc_info\u001b[38;5;241m=\u001b[39m\u001b[38;5;28;01mTrue\u001b[39;00m)\n",
      "\u001b[1;31mKeyboardInterrupt\u001b[0m: Interrupted by user"
     ]
    }
   ],
   "source": [
    "add=lambda :int(input(\"enter first num:\"))+ int(input(\"enter sec num:\"))\n",
    "print(add())"
   ]
  },
  {
   "cell_type": "code",
   "execution_count": 70,
   "id": "4c30e20a",
   "metadata": {},
   "outputs": [
    {
     "name": "stdout",
     "output_type": "stream",
     "text": [
      "[1, 4, 9, 16, 25, 36, 49]\n"
     ]
    }
   ],
   "source": [
    "lambda_func=lambda x: [i **2 for i in x]\n",
    "print(lambda_func([1,2,3,4,5,6,7]))"
   ]
  },
  {
   "cell_type": "code",
   "execution_count": 71,
   "id": "cbdcc990",
   "metadata": {},
   "outputs": [
    {
     "name": "stdout",
     "output_type": "stream",
     "text": [
      "{'name': 'product4', 'price': 20}\n",
      "{'name': 'product3', 'price': 30}\n",
      "{'name': 'product2', 'price': 40}\n",
      "{'name': 'product1', 'price': 50}\n"
     ]
    }
   ],
   "source": [
    "products= [\n",
    "    {\"name\":'product1',\"price\":50},\n",
    "    {\"name\":'product2',\"price\":40},\n",
    "    {\"name\":'product3',\"price\":30},\n",
    "    {\"name\":'product4',\"price\":20}, \n",
    "]\n",
    "sorted_products=sorted(products, key=lambda x: x[\"price\"])\n",
    "for product in sorted_products:\n",
    "    print(product)\n",
    "\n",
    " "
   ]
  },
  {
   "cell_type": "code",
   "execution_count": 72,
   "id": "49b869ee",
   "metadata": {},
   "outputs": [
    {
     "name": "stdout",
     "output_type": "stream",
     "text": [
      "15\n"
     ]
    }
   ],
   "source": [
    "def recursive_sum(n):\n",
    "    if n==1:\n",
    "        return 1\n",
    "    else:\n",
    "        return n +recursive_sum(n-1)\n",
    "print(recursive_sum(5))"
   ]
  },
  {
   "cell_type": "code",
   "execution_count": 73,
   "id": "1b115472",
   "metadata": {},
   "outputs": [
    {
     "name": "stdout",
     "output_type": "stream",
     "text": [
      "6\n"
     ]
    }
   ],
   "source": [
    "def factorial(n):\n",
    "    if n == 1:\n",
    "        return 1\n",
    "    else:\n",
    "        return n*factorial(n-1)\n",
    "print(factorial(3))"
   ]
  },
  {
   "cell_type": "code",
   "execution_count": 74,
   "id": "48891e75",
   "metadata": {},
   "outputs": [
    {
     "name": "stdout",
     "output_type": "stream",
     "text": [
      "0\n",
      "1\n",
      "1\n",
      "2\n",
      "3\n",
      "5\n",
      "8\n",
      "13\n"
     ]
    }
   ],
   "source": [
    "def my_fibonacci(n):\n",
    "    a,b=0,1\n",
    "    for i in range(n):\n",
    "        print(a)\n",
    "        a,b=b,a+b\n",
    "        \n",
    "my_fibonacci(8)"
   ]
  },
  {
   "cell_type": "code",
   "execution_count": 75,
   "id": "a8e86299",
   "metadata": {},
   "outputs": [
    {
     "ename": "SyntaxError",
     "evalue": "unterminated string literal (detected at line 15) (4215574952.py, line 15)",
     "output_type": "error",
     "traceback": [
      "\u001b[1;36m  Cell \u001b[1;32mIn[75], line 15\u001b[1;36m\u001b[0m\n\u001b[1;33m    print(f\"step{cnt}:ourfibonacci series upto n-1 term={fibonacci_series})\u001b[0m\n\u001b[1;37m          ^\u001b[0m\n\u001b[1;31mSyntaxError\u001b[0m\u001b[1;31m:\u001b[0m unterminated string literal (detected at line 15)\n"
     ]
    }
   ],
   "source": [
    "cnt=1\n",
    "\n",
    "def my_fibnacci(n):\n",
    "    global cnt\n",
    "    \n",
    "    if n <= 0:\n",
    "        return[]\n",
    "    elif n==1:\n",
    "        return [0]\n",
    "    elif n== 2:\n",
    "        return [0,1]\n",
    "    else:\n",
    "        fibonacci_series = my_fibonacci(n-1)\n",
    "        \n",
    "        print(f\"step{cnt}:ourfibonacci series upto n-1 term={fibonacci_series})\n",
    "        cnt += 1\n",
    "        next_term= fibonacci_series[-1]+fibonacci_series[-2]\n",
    "        print(f\"step{cnt}:next term to add={next_term})      \n",
    "        cnt +=1\n",
    "        fibonacci_series.append(next_term)\n",
    "        print(f\"step{cnt}:our fibonacci series after adding next term={fibonacci_series})\n",
    "        cnt += 1\n",
    "        return fibonacci_series\n",
    "print()\n",
    "        \n",
    "        \n",
    "    \n",
    "    "
   ]
  },
  {
   "cell_type": "code",
   "execution_count": 76,
   "id": "45c8a66f",
   "metadata": {},
   "outputs": [
    {
     "name": "stdout",
     "output_type": "stream",
     "text": [
      "Step 1: Our Fibonacci series up to n-1 terms = [0, 1]\n",
      "Step 2: Next term to add = 1\n",
      "Step 3: Our Fibonacci series after adding next term = [0, 1, 1]\n",
      "Step 4: Our Fibonacci series up to n-1 terms = [0, 1, 1]\n",
      "Step 5: Next term to add = 2\n",
      "Step 6: Our Fibonacci series after adding next term = [0, 1, 1, 2]\n",
      "So my final Fibonacci series is --->  [0, 1, 1, 2]\n"
     ]
    }
   ],
   "source": [
    "# We need to have a counter\n",
    "cnt = 1 # This is a counter, because to explain each step. Nothing more than it.\n",
    "\n",
    "def my_fibonacci(n):\n",
    "    global cnt\n",
    "\n",
    "    if n <= 0:\n",
    "        return []\n",
    "    elif n == 1:\n",
    "        return [0]\n",
    "    elif n == 2:\n",
    "        return [0, 1]\n",
    "    else:\n",
    "        fibonacci_series = my_fibonacci(n - 1)\n",
    "        print(f\"Step {cnt}: Our Fibonacci series up to n-1 terms = {fibonacci_series}\")\n",
    "        cnt += 1\n",
    "        next_term = fibonacci_series[-1] + fibonacci_series[-2]\n",
    "        print(f\"Step {cnt}: Next term to add = {next_term}\")\n",
    "        cnt += 1\n",
    "        fibonacci_series.append(next_term)\n",
    "        print(f\"Step {cnt}: Our Fibonacci series after adding next term = {fibonacci_series}\")\n",
    "        cnt += 1\n",
    "        return fibonacci_series\n",
    "\n",
    "print(\"So my final Fibonacci series is ---> \", my_fibonacci(4))\n"
   ]
  },
  {
   "cell_type": "code",
   "execution_count": 77,
   "id": "fe15c89f",
   "metadata": {},
   "outputs": [],
   "source": [
    "class WrongAge(Exception):\n",
    "    \"Raised when the input value is less than 100\"\n",
    "    pass"
   ]
  },
  {
   "cell_type": "code",
   "execution_count": 78,
   "id": "98415e38",
   "metadata": {},
   "outputs": [
    {
     "data": {
      "text/plain": [
       "type"
      ]
     },
     "execution_count": 78,
     "metadata": {},
     "output_type": "execute_result"
    }
   ],
   "source": [
    "type(WrongAge)"
   ]
  },
  {
   "cell_type": "code",
   "execution_count": 79,
   "id": "3b09a85d",
   "metadata": {},
   "outputs": [
    {
     "name": "stdout",
     "output_type": "stream",
     "text": [
      "enter the age\n"
     ]
    },
    {
     "ename": "ValueError",
     "evalue": "invalid literal for int() with base 10: ''",
     "output_type": "error",
     "traceback": [
      "\u001b[1;31m---------------------------------------------------------------------------\u001b[0m",
      "\u001b[1;31mValueError\u001b[0m                                Traceback (most recent call last)",
      "Cell \u001b[1;32mIn[79], line 3\u001b[0m\n\u001b[0;32m      1\u001b[0m n\u001b[38;5;241m=\u001b[39m\u001b[38;5;241m18\u001b[39m\n\u001b[0;32m      2\u001b[0m \u001b[38;5;28;01mtry\u001b[39;00m :\n\u001b[1;32m----> 3\u001b[0m     input_number\u001b[38;5;241m=\u001b[39m\u001b[38;5;28;43mint\u001b[39;49m\u001b[43m(\u001b[49m\u001b[38;5;28;43minput\u001b[39;49m\u001b[43m(\u001b[49m\u001b[38;5;124;43m\"\u001b[39;49m\u001b[38;5;124;43menter the age\u001b[39;49m\u001b[38;5;124;43m\"\u001b[39;49m\u001b[43m)\u001b[49m\u001b[43m)\u001b[49m\n\u001b[0;32m      4\u001b[0m     \u001b[38;5;28;01mif\u001b[39;00m input_number \u001b[38;5;241m<\u001b[39m n:\n\u001b[0;32m      5\u001b[0m         \u001b[38;5;28;01mraise\u001b[39;00m WrongAge\n",
      "\u001b[1;31mValueError\u001b[0m: invalid literal for int() with base 10: ''"
     ]
    }
   ],
   "source": [
    "n=18\n",
    "try :\n",
    "    input_number=int(input(\"enter the age\"))\n",
    "    if input_number < n:\n",
    "        raise WrongAge\n",
    "    else:\n",
    "        print(\"you can work\")\n",
    "except WrongAge:\n",
    "    print(\"invalid age: you can't work\")"
   ]
  },
  {
   "cell_type": "code",
   "execution_count": 80,
   "id": "c3210cc8",
   "metadata": {},
   "outputs": [
    {
     "name": "stdout",
     "output_type": "stream",
     "text": [
      "there is no x\n"
     ]
    }
   ],
   "source": [
    "try:\n",
    "    print(x)\n",
    "except :\n",
    "    print(\"there is no x\")\n",
    "else:\n",
    "    print(\"no error\")"
   ]
  },
  {
   "cell_type": "code",
   "execution_count": 81,
   "id": "5acd45d2",
   "metadata": {},
   "outputs": [
    {
     "name": "stdout",
     "output_type": "stream",
     "text": [
      "there is no x\n",
      "try and except are executed\n"
     ]
    }
   ],
   "source": [
    "try:\n",
    "    print(x)\n",
    "except :\n",
    "    print(\"there is no x\")\n",
    "finally:\n",
    "    print(\"try and except are executed\")"
   ]
  },
  {
   "cell_type": "code",
   "execution_count": 82,
   "id": "93c71eed",
   "metadata": {},
   "outputs": [
    {
     "name": "stdout",
     "output_type": "stream",
     "text": [
      "enter num1:\n",
      "you entered float\n"
     ]
    }
   ],
   "source": [
    "try: \n",
    "    n = int(input(\"enter num1:\"))\n",
    "    d = int(input(\"enter num2:\"))\n",
    "    result=n/d\n",
    "    print(\"result:\",result)\n",
    "#except:\n",
    "    #print(\"younhave devided the number by zero\")\n",
    "except:\n",
    "    print(\"you entered float\")"
   ]
  },
  {
   "cell_type": "code",
   "execution_count": 83,
   "id": "8cb04a30",
   "metadata": {},
   "outputs": [
    {
     "name": "stdout",
     "output_type": "stream",
     "text": [
      "index number is not in range\n"
     ]
    }
   ],
   "source": [
    "try:\n",
    "    list1=[1,2,3,4,5,6,7]\n",
    "    print(list1[8])\n",
    "except :\n",
    "    print(\"index number is not in range\")"
   ]
  },
  {
   "cell_type": "code",
   "execution_count": 84,
   "id": "0bb0b681",
   "metadata": {},
   "outputs": [
    {
     "name": "stdout",
     "output_type": "stream",
     "text": [
      "type error\n"
     ]
    }
   ],
   "source": [
    "try:\n",
    "    x=2\n",
    "    y=6\n",
    "    z=\"12\"\n",
    "    p=x+y+z\n",
    "    print(p)\n",
    "except TypeError:\n",
    "    print(\"type error\")\n",
    "    "
   ]
  },
  {
   "cell_type": "code",
   "execution_count": 85,
   "id": "2ca4a848",
   "metadata": {},
   "outputs": [
    {
     "name": "stdout",
     "output_type": "stream",
     "text": [
      "11\n"
     ]
    }
   ],
   "source": [
    "def add_numbers(num1,num2):\n",
    "    sum=num1+num2\n",
    "    return sum\n",
    "print(add_numbers(4,7))"
   ]
  },
  {
   "cell_type": "code",
   "execution_count": 86,
   "id": "d7183284",
   "metadata": {},
   "outputs": [
    {
     "name": "stdout",
     "output_type": "stream",
     "text": [
      "enter the first number:\n"
     ]
    },
    {
     "ename": "ValueError",
     "evalue": "invalid literal for int() with base 10: ''",
     "output_type": "error",
     "traceback": [
      "\u001b[1;31m---------------------------------------------------------------------------\u001b[0m",
      "\u001b[1;31mValueError\u001b[0m                                Traceback (most recent call last)",
      "Cell \u001b[1;32mIn[86], line 17\u001b[0m\n\u001b[0;32m     14\u001b[0m     result\u001b[38;5;241m=\u001b[39mnum1\u001b[38;5;241m/\u001b[39mnum2\n\u001b[0;32m     15\u001b[0m     \u001b[38;5;28mprint\u001b[39m(\u001b[38;5;124m\"\u001b[39m\u001b[38;5;124mthe quotient is:\u001b[39m\u001b[38;5;124m\"\u001b[39m,result)\n\u001b[1;32m---> 17\u001b[0m \u001b[43mmy_calculator\u001b[49m\u001b[43m(\u001b[49m\u001b[43m)\u001b[49m\n",
      "Cell \u001b[1;32mIn[86], line 2\u001b[0m, in \u001b[0;36mmy_calculator\u001b[1;34m()\u001b[0m\n\u001b[0;32m      1\u001b[0m \u001b[38;5;28;01mdef\u001b[39;00m \u001b[38;5;21mmy_calculator\u001b[39m():\n\u001b[1;32m----> 2\u001b[0m     num1\u001b[38;5;241m=\u001b[39m\u001b[38;5;28;43mint\u001b[39;49m\u001b[43m(\u001b[49m\u001b[38;5;28;43minput\u001b[39;49m\u001b[43m(\u001b[49m\u001b[38;5;124;43m\"\u001b[39;49m\u001b[38;5;124;43menter the first number:\u001b[39;49m\u001b[38;5;124;43m\"\u001b[39;49m\u001b[43m)\u001b[49m\u001b[43m)\u001b[49m\n\u001b[0;32m      3\u001b[0m     num2\u001b[38;5;241m=\u001b[39m\u001b[38;5;28mint\u001b[39m(\u001b[38;5;28minput\u001b[39m(\u001b[38;5;124m\"\u001b[39m\u001b[38;5;124menter the2nd number:\u001b[39m\u001b[38;5;124m\"\u001b[39m))\n\u001b[0;32m      5\u001b[0m     result\u001b[38;5;241m=\u001b[39mnum1\u001b[38;5;241m+\u001b[39mnum2\n",
      "\u001b[1;31mValueError\u001b[0m: invalid literal for int() with base 10: ''"
     ]
    }
   ],
   "source": [
    "def my_calculator():\n",
    "    num1=int(input(\"enter the first number:\"))\n",
    "    num2=int(input(\"enter the2nd number:\"))\n",
    "    \n",
    "    result=num1+num2\n",
    "    print(\"the susm is:\",result)\n",
    "    \n",
    "    result=num1-num2\n",
    "    print(\"the difference is:\",result)\n",
    "    \n",
    "    result=num1*num2\n",
    "    print(\"the product is:\",result)\n",
    "    \n",
    "    result=num1/num2\n",
    "    print(\"the quotient is:\",result)\n",
    "    \n",
    "my_calculator()"
   ]
  },
  {
   "cell_type": "code",
   "execution_count": 87,
   "id": "dfdcb680",
   "metadata": {},
   "outputs": [
    {
     "ename": "KeyboardInterrupt",
     "evalue": "Interrupted by user",
     "output_type": "error",
     "traceback": [
      "\u001b[1;31m---------------------------------------------------------------------------\u001b[0m",
      "\u001b[1;31mKeyboardInterrupt\u001b[0m                         Traceback (most recent call last)",
      "Cell \u001b[1;32mIn[87], line 9\u001b[0m\n\u001b[0;32m      6\u001b[0m             even_numbers\u001b[38;5;241m.\u001b[39mappend(num)\n\u001b[0;32m      8\u001b[0m     \u001b[38;5;28mprint\u001b[39m(\u001b[38;5;124m\"\u001b[39m\u001b[38;5;124mthe even numbers in range \u001b[39m\u001b[38;5;124m\"\u001b[39m, n , \u001b[38;5;124m\"\u001b[39m\u001b[38;5;124m are \u001b[39m\u001b[38;5;124m\"\u001b[39m,even_numbers)\n\u001b[1;32m----> 9\u001b[0m \u001b[43mprint_even_numbers\u001b[49m\u001b[43m(\u001b[49m\u001b[43m)\u001b[49m\n",
      "Cell \u001b[1;32mIn[87], line 2\u001b[0m, in \u001b[0;36mprint_even_numbers\u001b[1;34m()\u001b[0m\n\u001b[0;32m      1\u001b[0m \u001b[38;5;28;01mdef\u001b[39;00m \u001b[38;5;21mprint_even_numbers\u001b[39m():\n\u001b[1;32m----> 2\u001b[0m     n\u001b[38;5;241m=\u001b[39m\u001b[38;5;28mint\u001b[39m(\u001b[38;5;28;43minput\u001b[39;49m\u001b[43m(\u001b[49m\u001b[38;5;124;43m\"\u001b[39;49m\u001b[38;5;124;43menter the range limit:\u001b[39;49m\u001b[38;5;124;43m\"\u001b[39;49m\u001b[43m)\u001b[49m)\n\u001b[0;32m      3\u001b[0m     even_numbers\u001b[38;5;241m=\u001b[39m[]\n\u001b[0;32m      4\u001b[0m     \u001b[38;5;28;01mfor\u001b[39;00m num \u001b[38;5;129;01min\u001b[39;00m \u001b[38;5;28mrange\u001b[39m(\u001b[38;5;241m1\u001b[39m,n\u001b[38;5;241m+\u001b[39m\u001b[38;5;241m1\u001b[39m):\n",
      "File \u001b[1;32m~\\anaconda3\\lib\\site-packages\\ipykernel\\kernelbase.py:1175\u001b[0m, in \u001b[0;36mKernel.raw_input\u001b[1;34m(self, prompt)\u001b[0m\n\u001b[0;32m   1171\u001b[0m \u001b[38;5;28;01mif\u001b[39;00m \u001b[38;5;129;01mnot\u001b[39;00m \u001b[38;5;28mself\u001b[39m\u001b[38;5;241m.\u001b[39m_allow_stdin:\n\u001b[0;32m   1172\u001b[0m     \u001b[38;5;28;01mraise\u001b[39;00m StdinNotImplementedError(\n\u001b[0;32m   1173\u001b[0m         \u001b[38;5;124m\"\u001b[39m\u001b[38;5;124mraw_input was called, but this frontend does not support input requests.\u001b[39m\u001b[38;5;124m\"\u001b[39m\n\u001b[0;32m   1174\u001b[0m     )\n\u001b[1;32m-> 1175\u001b[0m \u001b[38;5;28;01mreturn\u001b[39;00m \u001b[38;5;28;43mself\u001b[39;49m\u001b[38;5;241;43m.\u001b[39;49m\u001b[43m_input_request\u001b[49m\u001b[43m(\u001b[49m\n\u001b[0;32m   1176\u001b[0m \u001b[43m    \u001b[49m\u001b[38;5;28;43mstr\u001b[39;49m\u001b[43m(\u001b[49m\u001b[43mprompt\u001b[49m\u001b[43m)\u001b[49m\u001b[43m,\u001b[49m\n\u001b[0;32m   1177\u001b[0m \u001b[43m    \u001b[49m\u001b[38;5;28;43mself\u001b[39;49m\u001b[38;5;241;43m.\u001b[39;49m\u001b[43m_parent_ident\u001b[49m\u001b[43m[\u001b[49m\u001b[38;5;124;43m\"\u001b[39;49m\u001b[38;5;124;43mshell\u001b[39;49m\u001b[38;5;124;43m\"\u001b[39;49m\u001b[43m]\u001b[49m\u001b[43m,\u001b[49m\n\u001b[0;32m   1178\u001b[0m \u001b[43m    \u001b[49m\u001b[38;5;28;43mself\u001b[39;49m\u001b[38;5;241;43m.\u001b[39;49m\u001b[43mget_parent\u001b[49m\u001b[43m(\u001b[49m\u001b[38;5;124;43m\"\u001b[39;49m\u001b[38;5;124;43mshell\u001b[39;49m\u001b[38;5;124;43m\"\u001b[39;49m\u001b[43m)\u001b[49m\u001b[43m,\u001b[49m\n\u001b[0;32m   1179\u001b[0m \u001b[43m    \u001b[49m\u001b[43mpassword\u001b[49m\u001b[38;5;241;43m=\u001b[39;49m\u001b[38;5;28;43;01mFalse\u001b[39;49;00m\u001b[43m,\u001b[49m\n\u001b[0;32m   1180\u001b[0m \u001b[43m\u001b[49m\u001b[43m)\u001b[49m\n",
      "File \u001b[1;32m~\\anaconda3\\lib\\site-packages\\ipykernel\\kernelbase.py:1217\u001b[0m, in \u001b[0;36mKernel._input_request\u001b[1;34m(self, prompt, ident, parent, password)\u001b[0m\n\u001b[0;32m   1214\u001b[0m             \u001b[38;5;28;01mbreak\u001b[39;00m\n\u001b[0;32m   1215\u001b[0m \u001b[38;5;28;01mexcept\u001b[39;00m \u001b[38;5;167;01mKeyboardInterrupt\u001b[39;00m:\n\u001b[0;32m   1216\u001b[0m     \u001b[38;5;66;03m# re-raise KeyboardInterrupt, to truncate traceback\u001b[39;00m\n\u001b[1;32m-> 1217\u001b[0m     \u001b[38;5;28;01mraise\u001b[39;00m \u001b[38;5;167;01mKeyboardInterrupt\u001b[39;00m(\u001b[38;5;124m\"\u001b[39m\u001b[38;5;124mInterrupted by user\u001b[39m\u001b[38;5;124m\"\u001b[39m) \u001b[38;5;28;01mfrom\u001b[39;00m \u001b[38;5;28mNone\u001b[39m\n\u001b[0;32m   1218\u001b[0m \u001b[38;5;28;01mexcept\u001b[39;00m \u001b[38;5;167;01mException\u001b[39;00m:\n\u001b[0;32m   1219\u001b[0m     \u001b[38;5;28mself\u001b[39m\u001b[38;5;241m.\u001b[39mlog\u001b[38;5;241m.\u001b[39mwarning(\u001b[38;5;124m\"\u001b[39m\u001b[38;5;124mInvalid Message:\u001b[39m\u001b[38;5;124m\"\u001b[39m, exc_info\u001b[38;5;241m=\u001b[39m\u001b[38;5;28;01mTrue\u001b[39;00m)\n",
      "\u001b[1;31mKeyboardInterrupt\u001b[0m: Interrupted by user"
     ]
    }
   ],
   "source": [
    "def print_even_numbers():\n",
    "    n=int(input(\"enter the range limit:\"))\n",
    "    even_numbers=[]\n",
    "    for num in range(1,n+1):\n",
    "        if num%2 ==0:\n",
    "            even_numbers.append(num)\n",
    "            \n",
    "    print(\"the even numbers in range \", n , \" are \",even_numbers)\n",
    "print_even_numbers()"
   ]
  },
  {
   "cell_type": "code",
   "execution_count": null,
   "id": "6870b946",
   "metadata": {},
   "outputs": [],
   "source": [
    "add = lambda x,y: x+y\n",
    "print(add(4,5))"
   ]
  },
  {
   "cell_type": "code",
   "execution_count": 88,
   "id": "8490e328",
   "metadata": {},
   "outputs": [
    {
     "name": "stdout",
     "output_type": "stream",
     "text": [
      "odd\n"
     ]
    }
   ],
   "source": [
    "even_or_odd=lambda x: 'even' if x%2==0 else 'odd'\n",
    "print(even_or_odd(5))"
   ]
  },
  {
   "cell_type": "code",
   "execution_count": 89,
   "id": "4569236e",
   "metadata": {},
   "outputs": [
    {
     "name": "stdout",
     "output_type": "stream",
     "text": [
      "[1, 4, 9, 16, 25, 36, 49, 64]\n"
     ]
    }
   ],
   "source": [
    "square=lambda x: [i **2 for i in x]\n",
    "print(square([1,2,3,4,5,6,7,8]))"
   ]
  },
  {
   "cell_type": "code",
   "execution_count": 90,
   "id": "1bf4235d",
   "metadata": {},
   "outputs": [
    {
     "name": "stdout",
     "output_type": "stream",
     "text": [
      "{'name': 'product3', 'price': 20}\n",
      "{'name': 'product2', 'price': 40}\n",
      "{'name': 'product1', 'price': 50}\n",
      "{'name': 'product4', 'price': 60}\n"
     ]
    }
   ],
   "source": [
    "products=[{\"name\":\"product1\",\"price\":50},\n",
    "         {\"name\":\"product2\", \"price\":40},\n",
    "         {\"name\":\"product3\",\"price\":20},\n",
    "          {\"name\":\"product4\",\"price\":60},\n",
    "         ]\n",
    "sorted_products=sorted(products, key=lambda x: x[\"price\"])\n",
    "for product in sorted_products:\n",
    "    print(product)"
   ]
  },
  {
   "cell_type": "code",
   "execution_count": 93,
   "id": "5b245289",
   "metadata": {},
   "outputs": [
    {
     "name": "stdout",
     "output_type": "stream",
     "text": [
      "0\n",
      "1\n",
      "1\n",
      "2\n",
      "3\n",
      "5\n",
      "8\n",
      "13\n",
      "21\n"
     ]
    }
   ],
   "source": [
    "def my_fibonacci(n):\n",
    "        a,b =0,1 \n",
    "        for i in range(n):\n",
    "            print(a)\n",
    "            a,b=b,a+b\n",
    "my_fibonacci(9)"
   ]
  },
  {
   "cell_type": "code",
   "execution_count": 99,
   "id": "d35edaef",
   "metadata": {},
   "outputs": [
    {
     "name": "stdout",
     "output_type": "stream",
     "text": [
      "step 1: our fibonacci series up to n-1 term: [0, 1]\n",
      "step2::next to add=1\n",
      "step 3:our fibonacci series : [0, 1, 1]\n",
      "step 4: our fibonacci series up to n-1 term: [0, 1, 1]\n",
      "step5::next to add=2\n",
      "step 6:our fibonacci series : [0, 1, 1, 2]\n",
      "step 7: our fibonacci series up to n-1 term: [0, 1, 1, 2]\n",
      "step8::next to add=3\n",
      "step 9:our fibonacci series : [0, 1, 1, 2, 3]\n",
      "step 10: our fibonacci series up to n-1 term: [0, 1, 1, 2, 3]\n",
      "step11::next to add=5\n",
      "step 12:our fibonacci series : [0, 1, 1, 2, 3, 5]\n",
      "step 13: our fibonacci series up to n-1 term: [0, 1, 1, 2, 3, 5]\n",
      "step14::next to add=8\n",
      "step 15:our fibonacci series : [0, 1, 1, 2, 3, 5, 8]\n",
      "step 16: our fibonacci series up to n-1 term: [0, 1, 1, 2, 3, 5, 8]\n",
      "step17::next to add=13\n",
      "step 18:our fibonacci series : [0, 1, 1, 2, 3, 5, 8, 13]\n",
      "so my final fibonacci series is: [0, 1, 1, 2, 3, 5, 8, 13]\n"
     ]
    }
   ],
   "source": [
    "cnt=1\n",
    "def my_fibonacci(n):\n",
    "    global cnt\n",
    "    \n",
    "    if n <= 0 :\n",
    "        return []\n",
    "    elif n== 1:\n",
    "        return [0]\n",
    "    elif n == 2 :\n",
    "        return [0,1]\n",
    "    else:\n",
    "        fibonacci_series=my_fibonacci(n-1)\n",
    "        print(f\"step {cnt}: our fibonacci series up to n-1 term:\",fibonacci_series)\n",
    "        \n",
    "        cnt += 1\n",
    "        next_term=fibonacci_series[-1]+fibonacci_series[-2]\n",
    "        print(f\"step{cnt}::next to add={next_term}\")\n",
    "        \n",
    "        cnt += 1\n",
    "        fibonacci_series.append(next_term)\n",
    "        print(f\"step {cnt}:our fibonacci series :\",fibonacci_series)\n",
    "        cnt+=1\n",
    "        return fibonacci_series\n",
    "print(\"so my final fibonacci series is:\", my_fibonacci(8))\n",
    "    \n",
    "    \n",
    "              "
   ]
  },
  {
   "cell_type": "code",
   "execution_count": 1,
   "id": "a8ff6cc1",
   "metadata": {},
   "outputs": [
    {
     "name": "stdout",
     "output_type": "stream",
     "text": [
      "good morning ,it is monday\n",
      "no issue\n"
     ]
    }
   ],
   "source": [
    "try :\n",
    "    print(\"good morning ,it is monday\")\n",
    "    \n",
    "except:\n",
    "    print(\"some issue\")\n",
    "    \n",
    "else:\n",
    "    print((\"no issue\"))"
   ]
  },
  {
   "cell_type": "code",
   "execution_count": 2,
   "id": "40383d9d",
   "metadata": {},
   "outputs": [
    {
     "name": "stdout",
     "output_type": "stream",
     "text": [
      "enter the numerator:5\n",
      "enter the denominator:2.56\n",
      "Enter a valid intiger\n"
     ]
    }
   ],
   "source": [
    "try:\n",
    "    n=int(input(\"enter the numerator:\"))\n",
    "    d=int(input(\"enter the denominator:\"))\n",
    "    \n",
    "    result=n/d\n",
    "    print(\"result:\",result)\n",
    "    \n",
    "except:\n",
    "    print(\"Enter a valid intiger\")"
   ]
  },
  {
   "cell_type": "code",
   "execution_count": 5,
   "id": "66466760",
   "metadata": {},
   "outputs": [],
   "source": [
    "try:\n",
    "    file_location=\"file123.text\"\n",
    "    \n",
    "    with open(file_location,\"w\")as file:\n",
    "        file.write(\"this is my file\")\n",
    "        \n",
    "except IOError:\n",
    "    print(f\"unable to write to file'{file_location}'.\")"
   ]
  },
  {
   "cell_type": "code",
   "execution_count": 6,
   "id": "5dcb98a7",
   "metadata": {},
   "outputs": [
    {
     "name": "stdout",
     "output_type": "stream",
     "text": [
      "unsucccessful to import 'library2234'\n"
     ]
    }
   ],
   "source": [
    "try:\n",
    "    import library2234\n",
    "except:\n",
    "    print(\"unsucccessful to import 'library2234'\")"
   ]
  },
  {
   "cell_type": "code",
   "execution_count": 7,
   "id": "1dbecd47",
   "metadata": {},
   "outputs": [
    {
     "name": "stdout",
     "output_type": "stream",
     "text": [
      "1099511627776000000000000000000000000000000000000000000000000000000000000\n"
     ]
    }
   ],
   "source": [
    "try:\n",
    "    result=4000**20\n",
    "    \n",
    "except OverflowError:\n",
    "    print(\"Error:calculation resulted in an overflow\")\n",
    "else:\n",
    "    print(result)"
   ]
  },
  {
   "cell_type": "code",
   "execution_count": 8,
   "id": "91659269",
   "metadata": {
    "scrolled": true
   },
   "outputs": [
    {
     "ename": "SyntaxError",
     "evalue": "unterminated string literal (detected at line 2) (557400132.py, line 2)",
     "output_type": "error",
     "traceback": [
      "\u001b[1;36m  Cell \u001b[1;32mIn[8], line 2\u001b[1;36m\u001b[0m\n\u001b[1;33m    to be expressed by the normal number format.\"\"\"\"\u001b[0m\n\u001b[1;37m                                                   ^\u001b[0m\n\u001b[1;31mSyntaxError\u001b[0m\u001b[1;31m:\u001b[0m unterminated string literal (detected at line 2)\n"
     ]
    }
   ],
   "source": [
    "\"\"\"\"Raised when the result of an arithmetic operation is too large\n",
    "    to be expressed by the normal number format.\"\"\"\"\n",
    "try:\n",
    "    result = 5000 ** 10  # Attempting to calculate an extremely large number\n",
    "\n",
    "except OverflowError:\n",
    "    print(\"Error: Calculation resulted in an overflow.\")\n",
    "else:\n",
    "    print(result)"
   ]
  },
  {
   "cell_type": "code",
   "execution_count": 13,
   "id": "94faafd2",
   "metadata": {},
   "outputs": [
    {
     "name": "stdout",
     "output_type": "stream",
     "text": [
      "'age', object has no attribute'append'\n"
     ]
    }
   ],
   "source": [
    "try:\n",
    "    age=20\n",
    "    age.append(5)\n",
    "except:\n",
    "    print(\"'age', object has no attribute'append'\")"
   ]
  },
  {
   "cell_type": "code",
   "execution_count": 10,
   "id": "f868cfdc",
   "metadata": {},
   "outputs": [
    {
     "ename": "NameError",
     "evalue": "name 'exception' is not defined",
     "output_type": "error",
     "traceback": [
      "\u001b[1;31m---------------------------------------------------------------------------\u001b[0m",
      "\u001b[1;31mNameError\u001b[0m                                 Traceback (most recent call last)",
      "Cell \u001b[1;32mIn[10], line 1\u001b[0m\n\u001b[1;32m----> 1\u001b[0m \u001b[38;5;28;01mclass\u001b[39;00m \u001b[38;5;21;01mWrongAge\u001b[39;00m (\u001b[43mexception\u001b[49m):\n\u001b[0;32m      2\u001b[0m     \u001b[38;5;124m\"\u001b[39m\u001b[38;5;124mraised when the input age less than 18\u001b[39m\u001b[38;5;124m\"\u001b[39m\n\u001b[0;32m      3\u001b[0m     \u001b[38;5;28;01mpass\u001b[39;00m\n",
      "\u001b[1;31mNameError\u001b[0m: name 'exception' is not defined"
     ]
    }
   ],
   "source": [
    "class WrongAge (exception):\n",
    "    \"raised when the input age less than 18\"\n",
    "    pass"
   ]
  },
  {
   "cell_type": "code",
   "execution_count": 11,
   "id": "80e0ec79",
   "metadata": {},
   "outputs": [
    {
     "name": "stdout",
     "output_type": "stream",
     "text": [
      "enter the age:17\n",
      "you cannot vote at this age\n"
     ]
    }
   ],
   "source": [
    "n=18\n",
    "try:\n",
    "    input_age=int(input(\"enter the age:\"))\n",
    "    if input_age <n:\n",
    "        raise wroingAge\n",
    "    else:\n",
    "        print(\"you can vote\")\n",
    "        \n",
    "except:\n",
    "    print('you cannot vote at this age')"
   ]
  },
  {
   "cell_type": "code",
   "execution_count": 14,
   "id": "fdf2e53d",
   "metadata": {},
   "outputs": [
    {
     "name": "stderr",
     "output_type": "stream",
     "text": [
      "DEBUG:root:variables are 4 and5 \n"
     ]
    },
    {
     "data": {
      "text/plain": [
       "9"
      ]
     },
     "execution_count": 14,
     "metadata": {},
     "output_type": "execute_result"
    }
   ],
   "source": [
    "import logging\n",
    "logging.basicConfig(level=logging.DEBUG)\n",
    "\n",
    "def add(x,y):\n",
    "    logging.debug(\"variables are %s and%s \",x,y)\n",
    "    return x + y\n",
    "add(4,5)"
   ]
  },
  {
   "cell_type": "code",
   "execution_count": 16,
   "id": "f899e497",
   "metadata": {},
   "outputs": [
    {
     "name": "stderr",
     "output_type": "stream",
     "text": [
      "INFO:root:the user name is admin\n"
     ]
    }
   ],
   "source": [
    "import logging\n",
    "logging.basicConfig(level=logging.INFO)\n",
    "\n",
    "def login123(user):\n",
    "    logging.info(\"the user name is %s\", user)\n",
    "    \n",
    "login123(\"admin\")"
   ]
  },
  {
   "cell_type": "code",
   "execution_count": null,
   "id": "d20778d4",
   "metadata": {},
   "outputs": [],
   "source": [
    "import logging\n",
    "logging.basicConfig(level=logging.WARNING)\n",
    "\n",
    "def my_balance(amount):\n",
    "    if my_balance < 20000:\n",
    "        logging.warning(\"sorry \")"
   ]
  }
 ],
 "metadata": {
  "kernelspec": {
   "display_name": "Python 3 (ipykernel)",
   "language": "python",
   "name": "python3"
  },
  "language_info": {
   "codemirror_mode": {
    "name": "ipython",
    "version": 3
   },
   "file_extension": ".py",
   "mimetype": "text/x-python",
   "name": "python",
   "nbconvert_exporter": "python",
   "pygments_lexer": "ipython3",
   "version": "3.10.9"
  }
 },
 "nbformat": 4,
 "nbformat_minor": 5
}
