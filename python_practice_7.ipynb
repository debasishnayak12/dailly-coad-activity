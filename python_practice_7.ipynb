{
 "cells": [
  {
   "cell_type": "code",
   "execution_count": 21,
   "id": "4615b667",
   "metadata": {},
   "outputs": [],
   "source": [
    "import pandas as pd\n",
    "import numpy as np\n",
    "import warnings\n",
    "warnings.filterwarnings(\"ignore\")"
   ]
  },
  {
   "cell_type": "code",
   "execution_count": 63,
   "id": "e83912a0",
   "metadata": {},
   "outputs": [],
   "source": [
    "my_list=[\"a\",\"b\",\"c\",\"a\",\"a\"]\n"
   ]
  },
  {
   "cell_type": "code",
   "execution_count": 23,
   "id": "cb6c7a54",
   "metadata": {},
   "outputs": [],
   "source": [
    "my_list=set(my_list)"
   ]
  },
  {
   "cell_type": "code",
   "execution_count": 24,
   "id": "ccab2c84",
   "metadata": {},
   "outputs": [
    {
     "data": {
      "text/plain": [
       "{'a', 'b', 'c'}"
      ]
     },
     "execution_count": 24,
     "metadata": {},
     "output_type": "execute_result"
    }
   ],
   "source": [
    "my_list"
   ]
  },
  {
   "cell_type": "code",
   "execution_count": 46,
   "id": "bb45c933",
   "metadata": {},
   "outputs": [],
   "source": [
    "my_list=list(my_list)"
   ]
  },
  {
   "cell_type": "code",
   "execution_count": 47,
   "id": "fa2b5c97",
   "metadata": {},
   "outputs": [],
   "source": [
    "def facton(n):\n",
    "    if n==1:\n",
    "        return 1\n",
    "    return n*facton(n-1)"
   ]
  },
  {
   "cell_type": "code",
   "execution_count": 48,
   "id": "0ec62837",
   "metadata": {},
   "outputs": [
    {
     "data": {
      "text/plain": [
       "24"
      ]
     },
     "execution_count": 48,
     "metadata": {},
     "output_type": "execute_result"
    }
   ],
   "source": [
    "facton(4)"
   ]
  },
  {
   "cell_type": "code",
   "execution_count": 49,
   "id": "4073f099",
   "metadata": {},
   "outputs": [
    {
     "data": {
      "text/plain": [
       "1"
      ]
     },
     "execution_count": 49,
     "metadata": {},
     "output_type": "execute_result"
    }
   ],
   "source": [
    "facton(1)"
   ]
  },
  {
   "cell_type": "code",
   "execution_count": 50,
   "id": "fdb92327",
   "metadata": {},
   "outputs": [
    {
     "data": {
      "text/plain": [
       "<filter at 0x1ee692eed10>"
      ]
     },
     "execution_count": 50,
     "metadata": {},
     "output_type": "execute_result"
    }
   ],
   "source": [
    "filter(my_list,\"a\")"
   ]
  },
  {
   "cell_type": "code",
   "execution_count": 64,
   "id": "fad14ac7",
   "metadata": {},
   "outputs": [
    {
     "name": "stdout",
     "output_type": "stream",
     "text": [
      "[]\n"
     ]
    }
   ],
   "source": [
    "\n",
    "print(list(filter(lambda x:x==\"a\",range(len(my_list)))))"
   ]
  },
  {
   "cell_type": "code",
   "execution_count": 66,
   "id": "0713dcc5",
   "metadata": {},
   "outputs": [
    {
     "data": {
      "text/plain": [
       "[5, 6, 7, 8, 9]"
      ]
     },
     "execution_count": 66,
     "metadata": {},
     "output_type": "execute_result"
    }
   ],
   "source": [
    "list(filter(lambda x:x>4,range(10)))"
   ]
  },
  {
   "cell_type": "code",
   "execution_count": 68,
   "id": "d4b7b566",
   "metadata": {},
   "outputs": [
    {
     "data": {
      "text/plain": [
       "[0, 1, 4, 9, 16, 25, 36, 49, 64, 81]"
      ]
     },
     "execution_count": 68,
     "metadata": {},
     "output_type": "execute_result"
    }
   ],
   "source": [
    "list(map(lambda x:x**2,range(10)))"
   ]
  },
  {
   "cell_type": "code",
   "execution_count": null,
   "id": "b162a966",
   "metadata": {},
   "outputs": [],
   "source": []
  }
 ],
 "metadata": {
  "kernelspec": {
   "display_name": "Python 3 (ipykernel)",
   "language": "python",
   "name": "python3"
  },
  "language_info": {
   "codemirror_mode": {
    "name": "ipython",
    "version": 3
   },
   "file_extension": ".py",
   "mimetype": "text/x-python",
   "name": "python",
   "nbconvert_exporter": "python",
   "pygments_lexer": "ipython3",
   "version": "3.10.9"
  }
 },
 "nbformat": 4,
 "nbformat_minor": 5
}
