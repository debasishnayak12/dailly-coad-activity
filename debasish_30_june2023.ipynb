{
 "cells": [
  {
   "cell_type": "markdown",
   "id": "2796ffcf",
   "metadata": {},
   "source": [
    "# mean"
   ]
  },
  {
   "cell_type": "markdown",
   "id": "58c2568d",
   "metadata": {},
   "source": [
    "sum(all_the elements)/numbers of elements"
   ]
  },
  {
   "cell_type": "code",
   "execution_count": 4,
   "id": "4fa6e833",
   "metadata": {},
   "outputs": [
    {
     "data": {
      "text/plain": [
       "4.5"
      ]
     },
     "execution_count": 4,
     "metadata": {},
     "output_type": "execute_result"
    }
   ],
   "source": [
    "ls=[]\n",
    "for i in range(10):\n",
    "    ls.append(i)\n",
    "mean=sum(ls)/len(ls)\n",
    "mean"
   ]
  },
  {
   "cell_type": "code",
   "execution_count": 5,
   "id": "5c5fa77b",
   "metadata": {},
   "outputs": [
    {
     "name": "stdout",
     "output_type": "stream",
     "text": [
      "4.5\n"
     ]
    }
   ],
   "source": [
    "import statistics as s\n",
    "print(s.mean(ls))"
   ]
  },
  {
   "cell_type": "markdown",
   "id": "c362c6b8",
   "metadata": {},
   "source": [
    "# varian"
   ]
  },
  {
   "cell_type": "code",
   "execution_count": null,
   "id": "3e00733b",
   "metadata": {},
   "outputs": [],
   "source": [
    "[sum(all_the elements)-mean]**2/numers of element"
   ]
  },
  {
   "cell_type": "code",
   "execution_count": 7,
   "id": "cb807102",
   "metadata": {},
   "outputs": [
    {
     "data": {
      "text/plain": [
       "9.166666666666666"
      ]
     },
     "execution_count": 7,
     "metadata": {},
     "output_type": "execute_result"
    }
   ],
   "source": [
    "s.variance(ls)"
   ]
  },
  {
   "cell_type": "code",
   "execution_count": 10,
   "id": "72e4450c",
   "metadata": {},
   "outputs": [
    {
     "name": "stdout",
     "output_type": "stream",
     "text": [
      "Variance: 2.0\n"
     ]
    }
   ],
   "source": [
    "import numpy as np\n",
    "\n",
    "def calculate_variance(data):\n",
    "    n = len(data)\n",
    "    mean = np.mean(data)\n",
    "    squared_diff = np.square(data - mean)\n",
    "    variance = np.sum(squared_diff) / n\n",
    "    return variance\n",
    "\n",
    "# Example usage\n",
    "data = [1, 2, 3, 4, 5]\n",
    "variance = calculate_variance(data)\n",
    "print(\"Variance:\",variance)"
   ]
  },
  {
   "cell_type": "code",
   "execution_count": 11,
   "id": "abc90068",
   "metadata": {},
   "outputs": [
    {
     "name": "stdout",
     "output_type": "stream",
     "text": [
      "variance: 4.0\n"
     ]
    }
   ],
   "source": [
    "import numpy as np\n",
    "def calculate_variance(data):\n",
    "    n=len(data)\n",
    "    mean=np.mean(data)\n",
    "    squared_diff=np.square(data-mean)\n",
    "    variance=np.sum(squared_diff)/n\n",
    "    return variance\n",
    "data=[1,2,3,4,5,6,7]\n",
    "variance=calculate_variance(data)\n",
    "print(\"variance:\",variance)"
   ]
  },
  {
   "cell_type": "code",
   "execution_count": 12,
   "id": "aaf3e716",
   "metadata": {},
   "outputs": [
    {
     "name": "stdout",
     "output_type": "stream",
     "text": [
      "4\n"
     ]
    }
   ],
   "source": [
    "import statistics as s\n",
    "print(s.mean(data))"
   ]
  },
  {
   "cell_type": "code",
   "execution_count": 14,
   "id": "3214413b",
   "metadata": {},
   "outputs": [
    {
     "name": "stdout",
     "output_type": "stream",
     "text": [
      "variance: 2.9166666666666665\n"
     ]
    }
   ],
   "source": [
    "import numpy as np\n",
    "def cal_variance(data):\n",
    "    n=len(data)\n",
    "    mean=np.mean(data)\n",
    "    squared_diff=np.square(data-mean)\n",
    "    variance=np.sum(squared_diff)/n\n",
    "    return variance\n",
    "data=[4,5,6,7,8,9]\n",
    "variance=cal_variance(data)\n",
    "print(\"variance:\",variance)"
   ]
  },
  {
   "cell_type": "code",
   "execution_count": 15,
   "id": "221c5009",
   "metadata": {},
   "outputs": [
    {
     "name": "stdout",
     "output_type": "stream",
     "text": [
      "6.5\n"
     ]
    }
   ],
   "source": [
    "print(s.mean(data))"
   ]
  },
  {
   "cell_type": "code",
   "execution_count": 24,
   "id": "8aa5b164",
   "metadata": {},
   "outputs": [
    {
     "name": "stdout",
     "output_type": "stream",
     "text": [
      "variance: 2.0\n"
     ]
    }
   ],
   "source": [
    "import numpy as np\n",
    "\n",
    "def cal_variance(data):\n",
    "    n=len(data)\n",
    "    mean=np.mean(data)\n",
    "    squared_diff=np.square(data-mean)\n",
    "    variance=np.sum(squared_diff)/n\n",
    "    return variance\n",
    "data=[1,2,3,4,5]\n",
    "variance=cal_variance(data)\n",
    "print(\"variance:\",variance)"
   ]
  },
  {
   "cell_type": "code",
   "execution_count": 23,
   "id": "46ac0404",
   "metadata": {},
   "outputs": [
    {
     "name": "stdout",
     "output_type": "stream",
     "text": [
      "variance: 2.0\n"
     ]
    }
   ],
   "source": [
    "import numpy as np\n",
    "\n",
    "def cal_variance(data):\n",
    "    n=len(data)\n",
    "    mean=np.mean(data)\n",
    "    squared_diff=np.square(data-mean)\n",
    "    variance=np.sum(squared_diff)/n\n",
    "    return variance\n",
    "data=[1,2,3,4,5]\n",
    "variance=cal_variance(data)\n",
    "print(\"variance:\",variance)"
   ]
  },
  {
   "cell_type": "code",
   "execution_count": 22,
   "id": "f38a1849",
   "metadata": {},
   "outputs": [
    {
     "name": "stdout",
     "output_type": "stream",
     "text": [
      "variance: 2.9166666666666665\n"
     ]
    }
   ],
   "source": [
    "import numpy as np\n",
    "def cal_variance(data):\n",
    "    n=len(data)\n",
    "    mean=np.mean(data)\n",
    "    squared_diff=np.square(data-mean)\n",
    "    variance=np.sum(squared_diff)/n\n",
    "    return variance\n",
    "data=[4,5,6,7,8,9]\n",
    "variance=cal_variance(data)\n",
    "print(\"variance:\",variance)"
   ]
  },
  {
   "cell_type": "code",
   "execution_count": 26,
   "id": "2aa92c18",
   "metadata": {},
   "outputs": [
    {
     "name": "stdout",
     "output_type": "stream",
     "text": [
      "variance: 1.25\n"
     ]
    }
   ],
   "source": [
    "import statistics as s\n",
    "def calulate_variance(data):\n",
    "    n =len(data)\n",
    "    mean=s.mean(data)\n",
    "    squared_diff=s.square(data-mean)\n",
    "    variance=s.sum(squared_diff)/n\n",
    "    return variance\n",
    "data=[4,5,6,7]\n",
    "variance=calculate_variance(data)\n",
    "print(\"variance:\",variance)\n",
    "    \n"
   ]
  },
  {
   "cell_type": "code",
   "execution_count": 27,
   "id": "efc5276e",
   "metadata": {},
   "outputs": [
    {
     "name": "stdout",
     "output_type": "stream",
     "text": [
      "5.5\n"
     ]
    }
   ],
   "source": [
    "print(s.mean(data))"
   ]
  },
  {
   "cell_type": "code",
   "execution_count": null,
   "id": "029f7ec7",
   "metadata": {},
   "outputs": [],
   "source": []
  }
 ],
 "metadata": {
  "kernelspec": {
   "display_name": "Python 3 (ipykernel)",
   "language": "python",
   "name": "python3"
  },
  "language_info": {
   "codemirror_mode": {
    "name": "ipython",
    "version": 3
   },
   "file_extension": ".py",
   "mimetype": "text/x-python",
   "name": "python",
   "nbconvert_exporter": "python",
   "pygments_lexer": "ipython3",
   "version": "3.10.9"
  }
 },
 "nbformat": 4,
 "nbformat_minor": 5
}
