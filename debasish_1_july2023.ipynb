{
 "cells": [
  {
   "cell_type": "markdown",
   "id": "9d4bca51",
   "metadata": {},
   "source": [
    "# classes"
   ]
  },
  {
   "cell_type": "code",
   "execution_count": 2,
   "id": "c76b3c25",
   "metadata": {},
   "outputs": [],
   "source": [
    "class BankAccount:\n",
    "    def __init__(self,account_holder,account_number,balance=0):\n",
    "        self.account_number=account_number\n",
    "        self.account_holder=account_holder\n",
    "        self.balance=balance\n",
    "        \n",
    "        \n",
    "    def deposit(self,amount):\n",
    "        self.balance+=amount\n",
    "        \n",
    "    def withdrawl(self,withdrawl):\n",
    "        self.balance=self.balance-withdrawl\n",
    "        \n"
   ]
  },
  {
   "cell_type": "code",
   "execution_count": 3,
   "id": "24a281a7",
   "metadata": {},
   "outputs": [],
   "source": [
    "account1=BankAccount(\"debu\",\"1,2,3,4\",0)"
   ]
  },
  {
   "cell_type": "code",
   "execution_count": 5,
   "id": "ddbbc05a",
   "metadata": {},
   "outputs": [
    {
     "data": {
      "text/plain": [
       "'debu'"
      ]
     },
     "execution_count": 5,
     "metadata": {},
     "output_type": "execute_result"
    }
   ],
   "source": [
    "account1.account_holder"
   ]
  },
  {
   "cell_type": "code",
   "execution_count": 15,
   "id": "ea085b33",
   "metadata": {},
   "outputs": [],
   "source": [
    "account1.deposit(100)"
   ]
  },
  {
   "cell_type": "code",
   "execution_count": 16,
   "id": "19d58760",
   "metadata": {},
   "outputs": [
    {
     "data": {
      "text/plain": [
       "300"
      ]
     },
     "execution_count": 16,
     "metadata": {},
     "output_type": "execute_result"
    }
   ],
   "source": [
    "account1.balance"
   ]
  },
  {
   "cell_type": "code",
   "execution_count": 17,
   "id": "79fae9f6",
   "metadata": {},
   "outputs": [],
   "source": [
    "account1.withdrawl(100)"
   ]
  },
  {
   "cell_type": "code",
   "execution_count": 18,
   "id": "54515ddb",
   "metadata": {},
   "outputs": [
    {
     "data": {
      "text/plain": [
       "200"
      ]
     },
     "execution_count": 18,
     "metadata": {},
     "output_type": "execute_result"
    }
   ],
   "source": [
    "account1.balance"
   ]
  },
  {
   "cell_type": "code",
   "execution_count": 56,
   "id": "d2d96fb8",
   "metadata": {},
   "outputs": [],
   "source": [
    "class TodoList:\n",
    "    def __init__(self,owner):\n",
    "        self.owner=owner\n",
    "        self.tasks=[]\n",
    "        \n",
    "    def add_task(self,task):\n",
    "        self.tasks.append(task)\n",
    "        \n",
    "    def complete_task(self,task):\n",
    "        if task in self.tasks:\n",
    "            self.task.remove(task)\n",
    "            print(f\"task'{task}'is completed\")\n",
    "        else:\n",
    "            print(\"the task is not found\")\n",
    "            \n",
    "    def display_tasks(self):\n",
    "        print(f\"the todo task for{self.owner}:\")\n",
    "        for task in self.tasks:\n",
    "            print(task)"
   ]
  },
  {
   "cell_type": "code",
   "execution_count": 57,
   "id": "c8c716a1",
   "metadata": {},
   "outputs": [],
   "source": [
    "krish=TodoList(\"Debu\")"
   ]
  },
  {
   "cell_type": "code",
   "execution_count": 58,
   "id": "89fab7d7",
   "metadata": {},
   "outputs": [],
   "source": [
    "krish.add_task(\"to call mom\")\n"
   ]
  },
  {
   "cell_type": "code",
   "execution_count": 64,
   "id": "59951eef",
   "metadata": {},
   "outputs": [],
   "source": [
    "krish.add_task(\"finish the work\")"
   ]
  },
  {
   "cell_type": "code",
   "execution_count": 65,
   "id": "88de6f9a",
   "metadata": {},
   "outputs": [],
   "source": [
    "krish.add_task(\"go to school\")"
   ]
  },
  {
   "cell_type": "code",
   "execution_count": 66,
   "id": "60d05dd3",
   "metadata": {},
   "outputs": [
    {
     "data": {
      "text/plain": [
       "'Debu'"
      ]
     },
     "execution_count": 66,
     "metadata": {},
     "output_type": "execute_result"
    }
   ],
   "source": [
    "krish.owner"
   ]
  },
  {
   "cell_type": "code",
   "execution_count": 72,
   "id": "3ca3b4e4",
   "metadata": {},
   "outputs": [
    {
     "name": "stdout",
     "output_type": "stream",
     "text": [
      "the task is not found\n"
     ]
    }
   ],
   "source": [
    "krish.complete_task(\"task\")\n"
   ]
  },
  {
   "cell_type": "code",
   "execution_count": 68,
   "id": "dc2a1874",
   "metadata": {},
   "outputs": [
    {
     "name": "stdout",
     "output_type": "stream",
     "text": [
      "the todo task forDebu:\n",
      "to call mom\n",
      "finish the work\n",
      "go to school\n"
     ]
    }
   ],
   "source": [
    "krish.display_tasks()"
   ]
  },
  {
   "cell_type": "code",
   "execution_count": 26,
   "id": "5415cd43",
   "metadata": {},
   "outputs": [
    {
     "data": {
      "text/plain": [
       "'Debu'"
      ]
     },
     "execution_count": 26,
     "metadata": {},
     "output_type": "execute_result"
    }
   ],
   "source": [
    "krish.owner"
   ]
  },
  {
   "cell_type": "code",
   "execution_count": 34,
   "id": "ca6f3585",
   "metadata": {},
   "outputs": [],
   "source": [
    "class Car:\n",
    "    def __init__(self,brand,model,colour):\n",
    "        self.brand=brand\n",
    "        self.model=model\n",
    "        self.colour=colour"
   ]
  },
  {
   "cell_type": "code",
   "execution_count": 35,
   "id": "d98dd95d",
   "metadata": {},
   "outputs": [],
   "source": [
    "car1=Car(\"BMW\", 'EV', \"RED\")"
   ]
  },
  {
   "cell_type": "code",
   "execution_count": 36,
   "id": "7ca0a8a3",
   "metadata": {},
   "outputs": [
    {
     "data": {
      "text/plain": [
       "'BMW'"
      ]
     },
     "execution_count": 36,
     "metadata": {},
     "output_type": "execute_result"
    }
   ],
   "source": [
    "car1.brand"
   ]
  },
  {
   "cell_type": "code",
   "execution_count": 37,
   "id": "f7dc2884",
   "metadata": {},
   "outputs": [
    {
     "data": {
      "text/plain": [
       "'RED'"
      ]
     },
     "execution_count": 37,
     "metadata": {},
     "output_type": "execute_result"
    }
   ],
   "source": [
    "car1.colour"
   ]
  },
  {
   "cell_type": "code",
   "execution_count": 40,
   "id": "4ec19ed3",
   "metadata": {},
   "outputs": [],
   "source": [
    "def start_engine(self):\n",
    "    print(f\"the {self.colour} {self.brand} {self.model} ,engine started\")  "
   ]
  },
  {
   "cell_type": "code",
   "execution_count": 42,
   "id": "47f8238c",
   "metadata": {},
   "outputs": [],
   "source": [
    "def stop_enginie(self):\n",
    "    print(f\"the{self.colour} {self.brand} {self.model} ,engine stoped\")"
   ]
  },
  {
   "cell_type": "code",
   "execution_count": 49,
   "id": "e49c84aa",
   "metadata": {},
   "outputs": [],
   "source": [
    "class MobilePhone:\n",
    "    def __init__(self,brand,model,processor,price):\n",
    "        self.brand=brand\n",
    "        self.model=model\n",
    "        self.processor=processor\n",
    "        self.price=price\n",
    "        \n",
    "    def make_calls(self,number):\n",
    "        print(f\"caliing{number} with{self.brand} and{self.model}\")\n",
    "        \n",
    "    def send_messeeges(self,number):\n",
    "        print(f\"sending messege to {number}:{messege}\")\n",
    "    "
   ]
  },
  {
   "cell_type": "code",
   "execution_count": 50,
   "id": "aea1cd7d",
   "metadata": {},
   "outputs": [],
   "source": [
    "samsung=MobilePhone(\"samsung\",\"note3\", \"8 gen 2\",1200)"
   ]
  },
  {
   "cell_type": "code",
   "execution_count": 51,
   "id": "3e8f627e",
   "metadata": {},
   "outputs": [
    {
     "name": "stdout",
     "output_type": "stream",
     "text": [
      "caliing787487833 withsamsung andnote3\n"
     ]
    }
   ],
   "source": [
    "samsung.make_calls(787487833)"
   ]
  },
  {
   "cell_type": "code",
   "execution_count": 52,
   "id": "eb33a50e",
   "metadata": {},
   "outputs": [],
   "source": [
    "class Laptop:\n",
    "    def __init__(self,model,brand,ram):\n",
    "        self.brand=brand\n",
    "        self.model=model\n",
    "        self.ram=ram\n",
    "        \n",
    "    def power_on(self):\n",
    "        print(f\"this {self.brand} {self.model} is now switched on\")\n",
    "        \n",
    "    def power_off(self):\n",
    "        print(f\"this {self.brand} {self.model} is now switched off\")"
   ]
  },
  {
   "cell_type": "code",
   "execution_count": null,
   "id": "df633ff1",
   "metadata": {},
   "outputs": [],
   "source": []
  }
 ],
 "metadata": {
  "kernelspec": {
   "display_name": "Python 3 (ipykernel)",
   "language": "python",
   "name": "python3"
  },
  "language_info": {
   "codemirror_mode": {
    "name": "ipython",
    "version": 3
   },
   "file_extension": ".py",
   "mimetype": "text/x-python",
   "name": "python",
   "nbconvert_exporter": "python",
   "pygments_lexer": "ipython3",
   "version": "3.10.9"
  }
 },
 "nbformat": 4,
 "nbformat_minor": 5
}
