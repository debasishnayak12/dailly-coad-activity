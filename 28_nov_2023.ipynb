{
 "cells": [
  {
   "cell_type": "markdown",
   "id": "0eb5f5fe",
   "metadata": {},
   "source": [
    "# 101. \n",
    "- Write a Python program to access and print a URL's content to the console."
   ]
  },
  {
   "cell_type": "code",
   "execution_count": 1,
   "id": "78891c85",
   "metadata": {},
   "outputs": [
    {
     "name": "stdout",
     "output_type": "stream",
     "text": [
      "b'<!DOCTYPE html>\\n<html lang=en>\\n  <meta charset=utf-8>\\n  <meta name=viewport content=\"initial-scale=1, minimum-scale=1, width=device-width\">\\n  <title>Error 405 (Method Not Allowed)!!1</title>\\n  <style>\\n    *{margin:0;padding:0}html,code{font:15px/22px arial,sans-serif}html{background:#fff;color:#222;padding:15px}body{margin:7% auto 0;max-width:390px;min-height:180px;padding:30px 0 15px}* > body{background:url(//www.google.com/images/errors/robot.png) 100% 5px no-repeat;padding-right:205px}p{margin:11px 0 22px;overflow:hidden}ins{color:#777;text-decoration:none}a img{border:0}@media screen and (max-width:772px){body{background:none;margin-top:0;max-width:none;padding-right:0}}#logo{background:url(//www.google.com/images/branding/googlelogo/1x/googlelogo_color_150x54dp.png) no-repeat;margin-left:-5px}@media only screen and (min-resolution:192dpi){#logo{background:url(//www.google.com/images/branding/googlelogo/2x/googlelogo_color_150x54dp.png) no-repeat 0% 0%/100% 100%;-moz-border-image:url(//www.google.com/images/branding/googlelogo/2x/googlelogo_color_150x54dp.png) 0}}@media only screen and (-webkit-min-device-pixel-ratio:2){#logo{background:url(//www.google.com/images/branding/googlelogo/2x/googlelogo_color_150x54dp.png) no-repeat;-webkit-background-size:100% 100%}}#logo{display:inline-block;height:54px;width:150px}\\n  </style>\\n  <a href=//www.google.com/><span id=logo aria-label=Google></span></a>\\n  <p><b>405.</b> <ins>That\\xe2\\x80\\x99s an error.</ins>\\n  <p>The request method <code>Get</code> is inappropriate for the URL <code>/</code>.  <ins>That\\xe2\\x80\\x99s all we know.</ins>\\n'\n"
     ]
    }
   ],
   "source": [
    "from http.client import HTTPConnection\n",
    "# ceate connectioon\n",
    "conn=HTTPConnection(\"Google.com\")\n",
    "\n",
    "conn.request(\"Get\",\"/\")\n",
    "result=conn.getresponse()\n",
    "contents=result.read()\n",
    "print(contents)"
   ]
  },
  {
   "cell_type": "markdown",
   "id": "113961e0",
   "metadata": {},
   "source": [
    "# 102.\n",
    "- Write a Python program to get system command output."
   ]
  },
  {
   "cell_type": "code",
   "execution_count": 2,
   "id": "09c93d33",
   "metadata": {},
   "outputs": [
    {
     "name": "stdout",
     "output_type": "stream",
     "text": [
      "list of output system command dir :\n",
      " Volume in drive C is Windows-SSD\n",
      " Volume Serial Number is EEA1-3552\n",
      "\n",
      " Directory of C:\\Users\\madhu\\Desktop\\Daily_task\n",
      "\n",
      "11/28/2023  08:17 PM    <DIR>          .\n",
      "11/28/2023  09:18 AM    <DIR>          ..\n",
      "11/28/2023  07:37 PM    <DIR>          .ipynb_checkpoints\n",
      "11/28/2023  08:17 PM             7,715 28_nov_2023.ipynb\n",
      "10/07/2023  11:28 AM             1,227 customer.csv\n",
      "11/27/2023  08:17 PM                24 data.csv\n",
      "09/17/2023  09:41 AM             3,716 iris.csv\n",
      "11/23/2023  09:55 PM            13,687 python23_nov_2023.ipynb\n",
      "11/21/2023  10:37 PM            15,494 Python_21_11_23.ipynb\n",
      "11/22/2023  08:10 PM            15,738 python_22_nov_2023.ipynb\n",
      "11/24/2023  12:31 PM            21,553 Python_24_nov_2023.ipynb\n",
      "11/27/2023  12:11 PM             6,953 Python_25_nov_2023.ipynb\n",
      "11/26/2023  10:48 PM            11,273 Python_26_nov_2023.ipynb\n",
      "11/27/2023  09:23 PM            20,950 Python_27_nov.ipynb\n",
      "09/27/2023  05:33 PM             7,942 tips.csv\n",
      "              12 File(s)        126,272 bytes\n",
      "               3 Dir(s)  376,969,625,600 bytes free\n",
      "\n"
     ]
    }
   ],
   "source": [
    "import subprocess\n",
    "return_output=subprocess.check_output(\"dir\",shell=True,universal_newlines=True)\n",
    "print(\"list of output system command dir :\")\n",
    "print(return_output)"
   ]
  },
  {
   "cell_type": "markdown",
   "id": "b092f49f",
   "metadata": {},
   "source": [
    "# 103. \n",
    "- Write a Python program to extract the filename from a given path."
   ]
  },
  {
   "cell_type": "code",
   "execution_count": 3,
   "id": "b2da84a4",
   "metadata": {},
   "outputs": [],
   "source": [
    "import os\n",
    "\n",
    "file=os.path.basename(\"C:/Users/madhu/Desktop/Daily_task/python_22_nov_2023.ipynb\")"
   ]
  },
  {
   "cell_type": "code",
   "execution_count": 4,
   "id": "75aaf447",
   "metadata": {},
   "outputs": [
    {
     "name": "stdout",
     "output_type": "stream",
     "text": [
      "python_22_nov_2023.ipynb\n"
     ]
    }
   ],
   "source": [
    "print(file)"
   ]
  },
  {
   "cell_type": "markdown",
   "id": "239f84ab",
   "metadata": {},
   "source": [
    "# 104.\n",
    "- Write a Python program to get the effective group id, effective user id, real group id, and a list of supplemental group ids associated with the current process.\n",
    "- Note: Availability: Unix."
   ]
  },
  {
   "cell_type": "code",
   "execution_count": 12,
   "id": "55790793",
   "metadata": {},
   "outputs": [
    {
     "ename": "AttributeError",
     "evalue": "module 'os' has no attribute 'getegid'",
     "output_type": "error",
     "traceback": [
      "\u001b[1;31m---------------------------------------------------------------------------\u001b[0m",
      "\u001b[1;31mAttributeError\u001b[0m                            Traceback (most recent call last)",
      "Cell \u001b[1;32mIn[12], line 4\u001b[0m\n\u001b[0;32m      1\u001b[0m \u001b[38;5;28;01mimport\u001b[39;00m \u001b[38;5;21;01mos\u001b[39;00m\n\u001b[0;32m      3\u001b[0m \u001b[38;5;66;03m# print effective group id\u001b[39;00m\n\u001b[1;32m----> 4\u001b[0m \u001b[38;5;28mprint\u001b[39m(\u001b[38;5;124m\"\u001b[39m\u001b[38;5;124mEffective group id:\u001b[39m\u001b[38;5;124m\"\u001b[39m, \u001b[43mos\u001b[49m\u001b[38;5;241;43m.\u001b[39;49m\u001b[43mgetegid\u001b[49m())\n\u001b[0;32m      6\u001b[0m \u001b[38;5;66;03m# print effective user id\u001b[39;00m\n\u001b[0;32m      7\u001b[0m \u001b[38;5;28mprint\u001b[39m(\u001b[38;5;124m\"\u001b[39m\u001b[38;5;124mEffective user id:\u001b[39m\u001b[38;5;124m\"\u001b[39m, os\u001b[38;5;241m.\u001b[39mgeteuid())\n",
      "\u001b[1;31mAttributeError\u001b[0m: module 'os' has no attribute 'getegid'"
     ]
    }
   ],
   "source": [
    "import os\n",
    "\n",
    "# print effective group id\n",
    "print(\"Effective group id:\", os.getegid())\n",
    "\n",
    "# print effective user id\n",
    "print(\"Effective user id:\", os.geteuid())\n",
    "\n",
    "# print real group id\n",
    "print(\"Real group id:\", os.getgid())\n",
    "\n",
    "# print list of supplemental group\n",
    "print(\"List of supplemental groups:\", os.getgroups())\n"
   ]
  },
  {
   "cell_type": "markdown",
   "id": "b8b8a356",
   "metadata": {},
   "source": [
    "# 105.\n",
    "- Write a Python program to get the users environment."
   ]
  },
  {
   "cell_type": "code",
   "execution_count": 16,
   "id": "e06ca371",
   "metadata": {},
   "outputs": [
    {
     "name": "stdout",
     "output_type": "stream",
     "text": [
      "None\n"
     ]
    }
   ],
   "source": [
    "print(os.getenv(key=\"madhu\"))"
   ]
  },
  {
   "cell_type": "code",
   "execution_count": null,
   "id": "3cfcf014",
   "metadata": {},
   "outputs": [],
   "source": []
  }
 ],
 "metadata": {
  "kernelspec": {
   "display_name": "Python 3 (ipykernel)",
   "language": "python",
   "name": "python3"
  },
  "language_info": {
   "codemirror_mode": {
    "name": "ipython",
    "version": 3
   },
   "file_extension": ".py",
   "mimetype": "text/x-python",
   "name": "python",
   "nbconvert_exporter": "python",
   "pygments_lexer": "ipython3",
   "version": "3.10.9"
  }
 },
 "nbformat": 4,
 "nbformat_minor": 5
}
