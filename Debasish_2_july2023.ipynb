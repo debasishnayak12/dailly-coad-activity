{
 "cells": [
  {
   "cell_type": "markdown",
   "id": "559f98b4",
   "metadata": {},
   "source": [
    "# Inheritance class"
   ]
  },
  {
   "cell_type": "code",
   "execution_count": 1,
   "id": "6f39a27f",
   "metadata": {},
   "outputs": [],
   "source": [
    "class person:\n",
    "    def __init__(self,name):\n",
    "        self.name=name\n",
    "        \n",
    "    def display_info(self):\n",
    "        print(f\"name is :{self.name}\")\n",
    "        "
   ]
  },
  {
   "cell_type": "code",
   "execution_count": 2,
   "id": "6fd99354",
   "metadata": {},
   "outputs": [],
   "source": [
    "class student(person):\n",
    "    def __init__(self,name,grade):\n",
    "        super().__init__(name)\n",
    "        self.grade=grade\n",
    "        \n",
    "    def display_info(self):\n",
    "        super().display_info()\n",
    "        print(f\"grade is :{self.grade}\")"
   ]
  },
  {
   "cell_type": "code",
   "execution_count": 3,
   "id": "3c1ddd0e",
   "metadata": {},
   "outputs": [
    {
     "name": "stdout",
     "output_type": "stream",
     "text": [
      "name is :debu\n",
      "grade is :A\n"
     ]
    }
   ],
   "source": [
    "student1=student(\"debu\",\"A\")\n",
    "student1.display_info()"
   ]
  },
  {
   "cell_type": "code",
   "execution_count": 9,
   "id": "b6385792",
   "metadata": {},
   "outputs": [],
   "source": [
    "class Teachers(person):\n",
    "    def __init__(self,name,subject):\n",
    "        super().__init__(name)\n",
    "        self.subject=subject\n",
    "        \n",
    "    def display_info(self):\n",
    "        super().display_info()\n",
    "        print(f\"subject:{self.subject}\")\n",
    "        \n",
    "    "
   ]
  },
  {
   "cell_type": "code",
   "execution_count": 10,
   "id": "da6b3fe3",
   "metadata": {},
   "outputs": [
    {
     "name": "stdout",
     "output_type": "stream",
     "text": [
      "name is :krish\n",
      "subject:AI\n"
     ]
    }
   ],
   "source": [
    "teachers1=Teachers(\"krish\",\"AI\")\n",
    "teachers1.display_info()"
   ]
  },
  {
   "cell_type": "code",
   "execution_count": 11,
   "id": "6d4022b3",
   "metadata": {},
   "outputs": [],
   "source": [
    "class vehicle:\n",
    "    def __init__(self,brand):\n",
    "        self.brand=brand\n",
    "        \n",
    "    def start(self):\n",
    "        print(f\"the {self.brand} is starting\")"
   ]
  },
  {
   "cell_type": "code",
   "execution_count": 12,
   "id": "47001cfc",
   "metadata": {},
   "outputs": [],
   "source": [
    "class Bicycle(vehicle):\n",
    "    def __init__(self,brand,model):\n",
    "        super().__init__(brand)\n",
    "        self.model=model\n",
    "        \n",
    "    def start(self):\n",
    "        super().start()\n",
    "        print(f\"the {self.brand} {self.model} is ready to go\")"
   ]
  },
  {
   "cell_type": "code",
   "execution_count": 13,
   "id": "61835f45",
   "metadata": {},
   "outputs": [
    {
     "name": "stdout",
     "output_type": "stream",
     "text": [
      "the Atlas is starting\n",
      "the Atlas BS6 is ready to go\n"
     ]
    }
   ],
   "source": [
    "vehicle1=Bicycle(\"Atlas\",\"BS6\")\n",
    "vehicle1.start()"
   ]
  },
  {
   "cell_type": "code",
   "execution_count": 14,
   "id": "8c454bbf",
   "metadata": {},
   "outputs": [],
   "source": [
    "class  Animal:\n",
    "    def __init__(self,name):\n",
    "        self.name=name\n",
    "        \n",
    "    def sound(self):\n",
    "        pass"
   ]
  },
  {
   "cell_type": "code",
   "execution_count": 15,
   "id": "70bdde9b",
   "metadata": {},
   "outputs": [],
   "source": [
    "class Dog(Animal):\n",
    "    def __init__(self,name):\n",
    "        super().__init__(name)\n",
    "        \n",
    "    def sound(self):\n",
    "        print(f\"the {self.name} is barking\")"
   ]
  },
  {
   "cell_type": "code",
   "execution_count": 17,
   "id": "f27b7ac2",
   "metadata": {},
   "outputs": [
    {
     "name": "stdout",
     "output_type": "stream",
     "text": [
      "the tommy is barking\n"
     ]
    }
   ],
   "source": [
    "animal1=Dog(\"tommy\")\n",
    "animal1.sound()"
   ]
  },
  {
   "cell_type": "code",
   "execution_count": 26,
   "id": "e10631e9",
   "metadata": {},
   "outputs": [],
   "source": [
    "class student:\n",
    "    def __init__ (self,name,roll):\n",
    "        self._name=name\n",
    "        self._roll=roll\n",
    "        \n",
    "    def _display(self):\n",
    "        print(f\"the name is {self._name} and the roll is {self._roll}\")\n",
    "        "
   ]
  },
  {
   "cell_type": "code",
   "execution_count": 27,
   "id": "9dc29a58",
   "metadata": {},
   "outputs": [],
   "source": [
    "class Genius(student):\n",
    "    def __init__(self,name,roll):\n",
    "        super().__init__(name,roll)\n",
    "        \n",
    "    def displaydetails(self):\n",
    "        self._display()\n",
    "        print(f\"the {self._name } is genius and his roll {self._roll}\" )\n",
    "        "
   ]
  },
  {
   "cell_type": "code",
   "execution_count": 28,
   "id": "f0f8fe5d",
   "metadata": {},
   "outputs": [
    {
     "name": "stdout",
     "output_type": "stream",
     "text": [
      "the name is debu and the roll is 175\n"
     ]
    }
   ],
   "source": [
    "student1=Genius(\"debu\",\"175\")\n",
    "student1._display()"
   ]
  },
  {
   "cell_type": "code",
   "execution_count": 30,
   "id": "506ed2c6",
   "metadata": {},
   "outputs": [
    {
     "name": "stdout",
     "output_type": "stream",
     "text": [
      "the name is debu and the roll is 175\n",
      "the debu is genius and his roll 175\n"
     ]
    }
   ],
   "source": [
    "student1.displaydetails()"
   ]
  },
  {
   "cell_type": "code",
   "execution_count": null,
   "id": "debd8218",
   "metadata": {},
   "outputs": [],
   "source": [
    "##Polymerphism\n",
    "##multiple forms"
   ]
  },
  {
   "cell_type": "code",
   "execution_count": 37,
   "id": "98b5e5a7",
   "metadata": {},
   "outputs": [],
   "source": [
    "class Animal:\n",
    "    def __init__(self,name):\n",
    "        self.name=name\n",
    "        \n",
    "    def make_sound(self):\n",
    "        return 'generic voice'\n",
    "class Dog(Animal):\n",
    "    def make_sound(self):\n",
    "        return \"woof\"\n",
    "    \n",
    "class Cat(Animal):\n",
    "    def make_sound(self):\n",
    "        return \"meow\"\n",
    "        "
   ]
  },
  {
   "cell_type": "code",
   "execution_count": 38,
   "id": "340d9d01",
   "metadata": {},
   "outputs": [
    {
     "data": {
      "text/plain": [
       "'woof'"
      ]
     },
     "execution_count": 38,
     "metadata": {},
     "output_type": "execute_result"
    }
   ],
   "source": [
    "dog=Dog(\"tom\")\n",
    "dog.make_sound()"
   ]
  },
  {
   "cell_type": "code",
   "execution_count": 39,
   "id": "0714bdeb",
   "metadata": {},
   "outputs": [
    {
     "data": {
      "text/plain": [
       "'generic voice'"
      ]
     },
     "execution_count": 39,
     "metadata": {},
     "output_type": "execute_result"
    }
   ],
   "source": [
    "Animal('generic animal').make_sound()"
   ]
  },
  {
   "cell_type": "code",
   "execution_count": null,
   "id": "ce192281",
   "metadata": {},
   "outputs": [],
   "source": []
  }
 ],
 "metadata": {
  "kernelspec": {
   "display_name": "Python 3 (ipykernel)",
   "language": "python",
   "name": "python3"
  },
  "language_info": {
   "codemirror_mode": {
    "name": "ipython",
    "version": 3
   },
   "file_extension": ".py",
   "mimetype": "text/x-python",
   "name": "python",
   "nbconvert_exporter": "python",
   "pygments_lexer": "ipython3",
   "version": "3.10.9"
  }
 },
 "nbformat": 4,
 "nbformat_minor": 5
}
