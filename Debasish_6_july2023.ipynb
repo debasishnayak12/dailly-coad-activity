{
 "cells": [
  {
   "cell_type": "code",
   "execution_count": 2,
   "id": "0107bba9",
   "metadata": {},
   "outputs": [],
   "source": [
    "class Person:\n",
    "    def __init__(self,name,last_name):\n",
    "        self.name=name\n",
    "        self.last_name=last_name\n",
    "        \n",
    "    def __str__(self):\n",
    "        return f\"the name is {self.name} and the last name is {self.last_name}.\"\n",
    "    "
   ]
  },
  {
   "cell_type": "code",
   "execution_count": 3,
   "id": "ce063180",
   "metadata": {},
   "outputs": [
    {
     "name": "stdout",
     "output_type": "stream",
     "text": [
      "the name is Debasish and the last name is Nayak.\n"
     ]
    }
   ],
   "source": [
    "person1=Person(\"Debasish\",\"Nayak\")\n",
    "print(person1)"
   ]
  },
  {
   "cell_type": "code",
   "execution_count": 4,
   "id": "dd18898d",
   "metadata": {},
   "outputs": [
    {
     "data": {
      "text/plain": [
       "'Debasish'"
      ]
     },
     "execution_count": 4,
     "metadata": {},
     "output_type": "execute_result"
    }
   ],
   "source": [
    "person1.name"
   ]
  },
  {
   "cell_type": "code",
   "execution_count": 5,
   "id": "50841520",
   "metadata": {},
   "outputs": [
    {
     "data": {
      "text/plain": [
       "'Nayak'"
      ]
     },
     "execution_count": 5,
     "metadata": {},
     "output_type": "execute_result"
    }
   ],
   "source": [
    "person1.last_name"
   ]
  },
  {
   "cell_type": "code",
   "execution_count": 6,
   "id": "2b2b066a",
   "metadata": {},
   "outputs": [
    {
     "data": {
      "text/plain": [
       "'Hello how are u Debasish'"
      ]
     },
     "execution_count": 6,
     "metadata": {},
     "output_type": "execute_result"
    }
   ],
   "source": [
    "\"Hello how are u {}\".format(\"Debasish\")"
   ]
  },
  {
   "cell_type": "code",
   "execution_count": 7,
   "id": "0972438e",
   "metadata": {},
   "outputs": [
    {
     "data": {
      "text/plain": [
       "['__class__',\n",
       " '__delattr__',\n",
       " '__dict__',\n",
       " '__dir__',\n",
       " '__doc__',\n",
       " '__eq__',\n",
       " '__format__',\n",
       " '__ge__',\n",
       " '__getattribute__',\n",
       " '__gt__',\n",
       " '__hash__',\n",
       " '__init__',\n",
       " '__init_subclass__',\n",
       " '__le__',\n",
       " '__lt__',\n",
       " '__module__',\n",
       " '__ne__',\n",
       " '__new__',\n",
       " '__reduce__',\n",
       " '__reduce_ex__',\n",
       " '__repr__',\n",
       " '__setattr__',\n",
       " '__sizeof__',\n",
       " '__str__',\n",
       " '__subclasshook__',\n",
       " '__weakref__',\n",
       " 'last_name',\n",
       " 'name']"
      ]
     },
     "execution_count": 7,
     "metadata": {},
     "output_type": "execute_result"
    }
   ],
   "source": [
    "dir(person1)"
   ]
  },
  {
   "cell_type": "code",
   "execution_count": 14,
   "id": "bdf77e5b",
   "metadata": {},
   "outputs": [],
   "source": [
    "class BankAccount:\n",
    "    def __init__(self,account_number,account_holder,balance=0):\n",
    "        self.account_number=account_number\n",
    "        self.account_holder=account_holder\n",
    "        self.balance=balance\n",
    "        \n",
    "    def deposit(self,deposit):\n",
    "        self.balance=self.balance+deposit\n",
    "        \n",
    "    def withdrawl(self,withdrawl_amt):\n",
    "        if withdrawl_amt <= self.balance:\n",
    "            self.balance=self>balance-withdrawl_amt\n",
    "        else:\n",
    "            print(\"the balance is less\")\n",
    "        "
   ]
  },
  {
   "cell_type": "code",
   "execution_count": 16,
   "id": "dbd099ff",
   "metadata": {},
   "outputs": [
    {
     "data": {
      "text/plain": [
       "100"
      ]
     },
     "execution_count": 16,
     "metadata": {},
     "output_type": "execute_result"
    }
   ],
   "source": [
    "account=BankAccount(\"1,2,3,4\",\"Debu\")\n",
    "account.deposit(100)\n",
    "account.balance"
   ]
  },
  {
   "cell_type": "code",
   "execution_count": 17,
   "id": "afd4784a",
   "metadata": {},
   "outputs": [
    {
     "data": {
      "text/plain": [
       "'1,2,3,4'"
      ]
     },
     "execution_count": 17,
     "metadata": {},
     "output_type": "execute_result"
    }
   ],
   "source": [
    "account.account_number"
   ]
  },
  {
   "cell_type": "code",
   "execution_count": 18,
   "id": "659eb235",
   "metadata": {},
   "outputs": [
    {
     "data": {
      "text/plain": [
       "'Debu'"
      ]
     },
     "execution_count": 18,
     "metadata": {},
     "output_type": "execute_result"
    }
   ],
   "source": [
    "account.account_holder"
   ]
  },
  {
   "cell_type": "code",
   "execution_count": 28,
   "id": "04c066a3",
   "metadata": {},
   "outputs": [],
   "source": [
    "class BankAccount:\n",
    "    def __init__(self,account_number,account_holder,balance=0):\n",
    "        self.account_number=account_number\n",
    "        self.account_holder=account_holder\n",
    "        self.balance=balance\n",
    "        \n",
    "    def deposit(self,deposit):\n",
    "        self.balance +=deposit\n",
    "        print(f\"the updated balance is  {self.balance}\")\n",
    "        \n",
    "    def withdrawl(self,withdrawl_amt):\n",
    "        if withdrawl_amt <= self.balance:\n",
    "            self.balance -= withdrawl_amt\n",
    "            print(f\"the updated balance is  {self.balance}\")\n",
    "        else:\n",
    "            print(\"sorry,Insuffisient fund\")\n",
    "        "
   ]
  },
  {
   "cell_type": "code",
   "execution_count": 36,
   "id": "4d488fba",
   "metadata": {},
   "outputs": [
    {
     "name": "stdout",
     "output_type": "stream",
     "text": [
      "the updated balance is  500\n"
     ]
    },
    {
     "data": {
      "text/plain": [
       "500"
      ]
     },
     "execution_count": 36,
     "metadata": {},
     "output_type": "execute_result"
    }
   ],
   "source": [
    "account1=BankAccount(\"1,2,3,4\",\"debu\",0)\n",
    "account1.deposit(500)\n",
    "account1.balance"
   ]
  },
  {
   "cell_type": "code",
   "execution_count": 31,
   "id": "a315678f",
   "metadata": {},
   "outputs": [
    {
     "name": "stdout",
     "output_type": "stream",
     "text": [
      "sorry,Insuffisient fund\n"
     ]
    }
   ],
   "source": [
    "account1.withdrawl(5000)"
   ]
  },
  {
   "cell_type": "code",
   "execution_count": 34,
   "id": "a5cdaec0",
   "metadata": {},
   "outputs": [
    {
     "name": "stdout",
     "output_type": "stream",
     "text": [
      "sorry,Insuffisient fund\n"
     ]
    },
    {
     "data": {
      "text/plain": [
       "0"
      ]
     },
     "execution_count": 34,
     "metadata": {},
     "output_type": "execute_result"
    }
   ],
   "source": [
    "account1.withdrawl(4000)\n",
    "account1.balance"
   ]
  },
  {
   "cell_type": "code",
   "execution_count": 35,
   "id": "2f43d0e1",
   "metadata": {},
   "outputs": [
    {
     "name": "stdout",
     "output_type": "stream",
     "text": [
      "the updated balance is  1000\n"
     ]
    },
    {
     "data": {
      "text/plain": [
       "1000"
      ]
     },
     "execution_count": 35,
     "metadata": {},
     "output_type": "execute_result"
    }
   ],
   "source": [
    "account1.deposit(1000)\n",
    "account1.balance"
   ]
  },
  {
   "cell_type": "code",
   "execution_count": 64,
   "id": "8f84af57",
   "metadata": {},
   "outputs": [],
   "source": [
    "class TodoList:\n",
    "    def __init__(self,owner):\n",
    "        self.owner=owner\n",
    "        self.tasks=[]\n",
    "        \n",
    "    def add_task(self,task):\n",
    "        self.tasks.append(task)\n",
    "        \n",
    "    def complete_task(self,task):\n",
    "        if task in self.tasks:\n",
    "            self.tasks.remove(task)\n",
    "            print(f\"task {task} is completed\")\n",
    "        else:\n",
    "            print(\"The task is not found\")\n",
    "            \n",
    "    def display_task(self):\n",
    "        print(f\"The todo task of {self.owner}\")\n",
    "        for task in self.tasks:\n",
    "            print(task)\n",
    "            "
   ]
  },
  {
   "cell_type": "code",
   "execution_count": 65,
   "id": "4b5fbb59",
   "metadata": {},
   "outputs": [
    {
     "data": {
      "text/plain": [
       "'Debu'"
      ]
     },
     "execution_count": 65,
     "metadata": {},
     "output_type": "execute_result"
    }
   ],
   "source": [
    "task1=TodoList(\"Debu\")\n",
    "task1.owner"
   ]
  },
  {
   "cell_type": "code",
   "execution_count": 66,
   "id": "c781477d",
   "metadata": {},
   "outputs": [],
   "source": [
    "task1.add_task(\"i have to teach math at 9 AM\")"
   ]
  },
  {
   "cell_type": "code",
   "execution_count": 67,
   "id": "b828ea5e",
   "metadata": {},
   "outputs": [
    {
     "data": {
      "text/plain": [
       "['i have to teach math at 9 AM']"
      ]
     },
     "execution_count": 67,
     "metadata": {},
     "output_type": "execute_result"
    }
   ],
   "source": [
    "task1.tasks"
   ]
  },
  {
   "cell_type": "code",
   "execution_count": 68,
   "id": "5c10af76",
   "metadata": {},
   "outputs": [
    {
     "name": "stdout",
     "output_type": "stream",
     "text": [
      "task i have to teach math at 9 AM is completed\n"
     ]
    }
   ],
   "source": [
    "task1.complete_task(\"i have to teach math at 9 AM\")"
   ]
  },
  {
   "cell_type": "code",
   "execution_count": 69,
   "id": "f195b34a",
   "metadata": {},
   "outputs": [],
   "source": [
    "task1.add_task(\"i have to take lunch\")"
   ]
  },
  {
   "cell_type": "code",
   "execution_count": 70,
   "id": "db59c081",
   "metadata": {},
   "outputs": [
    {
     "name": "stdout",
     "output_type": "stream",
     "text": [
      "The todo task of Debu\n",
      "i have to take lunch\n"
     ]
    }
   ],
   "source": [
    "task1.display_task()"
   ]
  },
  {
   "cell_type": "code",
   "execution_count": 71,
   "id": "edc25f8f",
   "metadata": {},
   "outputs": [],
   "source": [
    "task1.add_task(\"now i need to go home\")"
   ]
  },
  {
   "cell_type": "code",
   "execution_count": 72,
   "id": "337097dd",
   "metadata": {},
   "outputs": [],
   "source": [
    "task1.add_task(\"Then i will come to teach again\")"
   ]
  },
  {
   "cell_type": "code",
   "execution_count": 73,
   "id": "158d65db",
   "metadata": {},
   "outputs": [
    {
     "name": "stdout",
     "output_type": "stream",
     "text": [
      "The todo task of Debu\n",
      "i have to take lunch\n",
      "now i need to go home\n",
      "Then i will come to teach again\n"
     ]
    }
   ],
   "source": [
    "task1.display_task()"
   ]
  },
  {
   "cell_type": "markdown",
   "id": "3fc861d3",
   "metadata": {},
   "source": [
    "# Inheritance class(oops)"
   ]
  },
  {
   "cell_type": "code",
   "execution_count": 74,
   "id": "e635648e",
   "metadata": {},
   "outputs": [],
   "source": [
    "class Person:\n",
    "    def __init__(self,name):\n",
    "        self.name=name\n",
    "        \n",
    "    def display_info(self):\n",
    "        print(f\"The name is {self.name}\")"
   ]
  },
  {
   "cell_type": "code",
   "execution_count": 80,
   "id": "68de35a7",
   "metadata": {},
   "outputs": [],
   "source": [
    "class Student(Person):\n",
    "    def __init__(self,name,grade):\n",
    "        super().__init__(name)\n",
    "        self.grade=grade\n",
    "        \n",
    "    def display_info(self):\n",
    "        super().display_info()\n",
    "        print(f\"Grade of {self.name} is {self.grade}\")\n",
    "        "
   ]
  },
  {
   "cell_type": "code",
   "execution_count": 84,
   "id": "8151ae7b",
   "metadata": {},
   "outputs": [
    {
     "data": {
      "text/plain": [
       "'Debu'"
      ]
     },
     "execution_count": 84,
     "metadata": {},
     "output_type": "execute_result"
    }
   ],
   "source": [
    "person1=Student(\"Debu\",\"A\")\n",
    "person1.name"
   ]
  },
  {
   "cell_type": "code",
   "execution_count": 85,
   "id": "f8756e93",
   "metadata": {},
   "outputs": [
    {
     "data": {
      "text/plain": [
       "'A'"
      ]
     },
     "execution_count": 85,
     "metadata": {},
     "output_type": "execute_result"
    }
   ],
   "source": [
    "person1.grade"
   ]
  },
  {
   "cell_type": "code",
   "execution_count": 86,
   "id": "18574779",
   "metadata": {},
   "outputs": [
    {
     "name": "stdout",
     "output_type": "stream",
     "text": [
      "The name is Debu\n",
      "Grade of Debu is A\n"
     ]
    }
   ],
   "source": [
    "person1.display_info()"
   ]
  },
  {
   "cell_type": "code",
   "execution_count": 88,
   "id": "4348f5bc",
   "metadata": {},
   "outputs": [],
   "source": [
    "class Teacher(Person):\n",
    "    def __init__(self,name,subject):\n",
    "        super().__init__(name)\n",
    "        self.subject=subject\n",
    "    def display_info(self):\n",
    "        super().display_info()\n",
    "        print(f\"subject : {self.subject}\")"
   ]
  },
  {
   "cell_type": "code",
   "execution_count": 89,
   "id": "e9a2a6a7",
   "metadata": {},
   "outputs": [
    {
     "data": {
      "text/plain": [
       "'math'"
      ]
     },
     "execution_count": 89,
     "metadata": {},
     "output_type": "execute_result"
    }
   ],
   "source": [
    "teacher1=Teacher(\"Debu\",\"math\")\n",
    "teacher1.subject"
   ]
  },
  {
   "cell_type": "code",
   "execution_count": 90,
   "id": "f4582e8e",
   "metadata": {},
   "outputs": [
    {
     "name": "stdout",
     "output_type": "stream",
     "text": [
      "The name is Debu\n",
      "subject : math\n"
     ]
    }
   ],
   "source": [
    "teacher1.display_info()"
   ]
  },
  {
   "cell_type": "code",
   "execution_count": 91,
   "id": "f68d0567",
   "metadata": {},
   "outputs": [],
   "source": [
    "class Vehicle:\n",
    "    def __init__(self,brand):\n",
    "        self.brand=brand\n",
    "        \n",
    "    def start(self):\n",
    "        print(f\"The {self.brand} is strarting\")"
   ]
  },
  {
   "cell_type": "code",
   "execution_count": 97,
   "id": "9d979928",
   "metadata": {},
   "outputs": [],
   "source": [
    "class Bicycle(Vehicle):\n",
    "    def __init__(self,brand,model):\n",
    "        super().__init__(brand)\n",
    "        self.model=model\n",
    "    def start(self):\n",
    "        super().start()\n",
    "        print(f\"THe {self.brand} {self.model} is ready to start\")"
   ]
  },
  {
   "cell_type": "code",
   "execution_count": 98,
   "id": "ae1cafc7",
   "metadata": {},
   "outputs": [
    {
     "data": {
      "text/plain": [
       "'atlas'"
      ]
     },
     "execution_count": 98,
     "metadata": {},
     "output_type": "execute_result"
    }
   ],
   "source": [
    "bicycle1=Bicycle(\"atlas\",\"A1\")\n",
    "bicycle1.brand"
   ]
  },
  {
   "cell_type": "code",
   "execution_count": 99,
   "id": "3726de6a",
   "metadata": {},
   "outputs": [
    {
     "data": {
      "text/plain": [
       "'A1'"
      ]
     },
     "execution_count": 99,
     "metadata": {},
     "output_type": "execute_result"
    }
   ],
   "source": [
    "bicycle1.model"
   ]
  },
  {
   "cell_type": "code",
   "execution_count": 100,
   "id": "13341f70",
   "metadata": {},
   "outputs": [
    {
     "name": "stdout",
     "output_type": "stream",
     "text": [
      "The atlas is strarting\n",
      "THe atlas A1 is ready to start\n"
     ]
    }
   ],
   "source": [
    "bicycle1.start()"
   ]
  },
  {
   "cell_type": "code",
   "execution_count": 102,
   "id": "eed7a4c3",
   "metadata": {},
   "outputs": [],
   "source": [
    "class Animal:\n",
    "    def __init__(self,name):\n",
    "        self.name=name\n",
    "    def sound(self):\n",
    "        pass"
   ]
  },
  {
   "cell_type": "code",
   "execution_count": 103,
   "id": "fdc5c99d",
   "metadata": {},
   "outputs": [],
   "source": [
    "class Dog(Animal):\n",
    "    def __init__(self,name):\n",
    "        super().__init__(name)\n",
    "        \n",
    "    def sound(self):\n",
    "        print(f\"{self.name} barks.\")"
   ]
  },
  {
   "cell_type": "code",
   "execution_count": 104,
   "id": "51c68f67",
   "metadata": {},
   "outputs": [],
   "source": [
    "class Cat(Animal):\n",
    "    def __init__(self,name):\n",
    "        super().__init__(name)\n",
    "        \n",
    "    def sound(self):\n",
    "        print(f\"{self.name} meoo.\")"
   ]
  },
  {
   "cell_type": "code",
   "execution_count": 105,
   "id": "371d6f13",
   "metadata": {},
   "outputs": [
    {
     "data": {
      "text/plain": [
       "'tommy'"
      ]
     },
     "execution_count": 105,
     "metadata": {},
     "output_type": "execute_result"
    }
   ],
   "source": [
    "dog=Dog(\"tommy\")\n",
    "dog.name"
   ]
  },
  {
   "cell_type": "code",
   "execution_count": 106,
   "id": "1ddbcd53",
   "metadata": {},
   "outputs": [
    {
     "name": "stdout",
     "output_type": "stream",
     "text": [
      "tommy barks.\n"
     ]
    }
   ],
   "source": [
    "dog.sound()"
   ]
  },
  {
   "cell_type": "code",
   "execution_count": 107,
   "id": "4ff33417",
   "metadata": {},
   "outputs": [
    {
     "name": "stdout",
     "output_type": "stream",
     "text": [
      "kity meoo.\n"
     ]
    }
   ],
   "source": [
    "cat=Cat(\"kity\")\n",
    "cat.sound()"
   ]
  },
  {
   "cell_type": "code",
   "execution_count": 108,
   "id": "e64365bc",
   "metadata": {},
   "outputs": [
    {
     "data": {
      "text/plain": [
       "['__class__',\n",
       " '__delattr__',\n",
       " '__dict__',\n",
       " '__dir__',\n",
       " '__doc__',\n",
       " '__eq__',\n",
       " '__format__',\n",
       " '__ge__',\n",
       " '__getattribute__',\n",
       " '__gt__',\n",
       " '__hash__',\n",
       " '__init__',\n",
       " '__init_subclass__',\n",
       " '__le__',\n",
       " '__lt__',\n",
       " '__module__',\n",
       " '__ne__',\n",
       " '__new__',\n",
       " '__reduce__',\n",
       " '__reduce_ex__',\n",
       " '__repr__',\n",
       " '__setattr__',\n",
       " '__sizeof__',\n",
       " '__str__',\n",
       " '__subclasshook__',\n",
       " '__weakref__',\n",
       " 'name',\n",
       " 'sound']"
      ]
     },
     "execution_count": 108,
     "metadata": {},
     "output_type": "execute_result"
    }
   ],
   "source": [
    "dir(dog)"
   ]
  },
  {
   "cell_type": "code",
   "execution_count": 111,
   "id": "a67df825",
   "metadata": {},
   "outputs": [],
   "source": [
    "class Person:\n",
    "    def __init__(self,name,lastname):\n",
    "        self.name=name\n",
    "        self.lastname=lastname\n",
    "    def display(self):\n",
    "        print(f\"The name is {self.name} and the lastname is {self.lastname}\")"
   ]
  },
  {
   "cell_type": "code",
   "execution_count": 112,
   "id": "c30d694c",
   "metadata": {},
   "outputs": [
    {
     "name": "stdout",
     "output_type": "stream",
     "text": [
      "The name is Debasish and the lastname is Nayak\n"
     ]
    }
   ],
   "source": [
    "person1=Person(\"Debasish\",\"Nayak\")\n",
    "person1.display()"
   ]
  },
  {
   "cell_type": "markdown",
   "id": "5532df57",
   "metadata": {},
   "source": [
    "# polymorphism"
   ]
  },
  {
   "cell_type": "code",
   "execution_count": 135,
   "id": "8a8bf2b9",
   "metadata": {},
   "outputs": [],
   "source": [
    "class Animal:\n",
    "    def __init__(self,name):\n",
    "        self.name=name\n",
    "        \n",
    "    def make_sound(self):\n",
    "        return \"Generic voice\"\n",
    "    \n",
    "class Dog(Animal):\n",
    "    \n",
    "    def make_sound(self):\n",
    "        return \"boo boo\"\n",
    "class Cat(Animal):\n",
    "    \n",
    "    def make_sound(self):\n",
    "        return \"meo meo\"\n",
    "class Cow(Animal):\n",
    "    \n",
    "    def make_sound(self):\n",
    "        return \"hhmaa\""
   ]
  },
  {
   "cell_type": "code",
   "execution_count": 136,
   "id": "71aff153",
   "metadata": {},
   "outputs": [
    {
     "data": {
      "text/plain": [
       "'boo boo'"
      ]
     },
     "execution_count": 136,
     "metadata": {},
     "output_type": "execute_result"
    }
   ],
   "source": [
    "dog=Dog(\"tommy\")\n",
    "dog.make_sound()"
   ]
  },
  {
   "cell_type": "code",
   "execution_count": 137,
   "id": "e110a318",
   "metadata": {},
   "outputs": [
    {
     "data": {
      "text/plain": [
       "'hhmaa'"
      ]
     },
     "execution_count": 137,
     "metadata": {},
     "output_type": "execute_result"
    }
   ],
   "source": [
    "cow=Cow(\"gullu\")\n",
    "cow.make_sound()"
   ]
  },
  {
   "cell_type": "code",
   "execution_count": 138,
   "id": "00759571",
   "metadata": {},
   "outputs": [
    {
     "data": {
      "text/plain": [
       "'meo meo'"
      ]
     },
     "execution_count": 138,
     "metadata": {},
     "output_type": "execute_result"
    }
   ],
   "source": [
    "cat=Cat(\"tom\")\n",
    "cat.make_sound()"
   ]
  },
  {
   "cell_type": "code",
   "execution_count": null,
   "id": "06c10009",
   "metadata": {},
   "outputs": [],
   "source": []
  }
 ],
 "metadata": {
  "kernelspec": {
   "display_name": "Python 3 (ipykernel)",
   "language": "python",
   "name": "python3"
  },
  "language_info": {
   "codemirror_mode": {
    "name": "ipython",
    "version": 3
   },
   "file_extension": ".py",
   "mimetype": "text/x-python",
   "name": "python",
   "nbconvert_exporter": "python",
   "pygments_lexer": "ipython3",
   "version": "3.10.9"
  }
 },
 "nbformat": 4,
 "nbformat_minor": 5
}
