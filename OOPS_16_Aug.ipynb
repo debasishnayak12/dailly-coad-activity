{
 "cells": [
  {
   "cell_type": "code",
   "execution_count": 4,
   "id": "9d1556f0",
   "metadata": {},
   "outputs": [],
   "source": [
    "class Person:\n",
    "    def __init__(self,name):\n",
    "        self.name=name\n",
    "        \n",
    "    def display_info(self):\n",
    "        print(f\"Name is : {self.name}\")"
   ]
  },
  {
   "cell_type": "code",
   "execution_count": 5,
   "id": "accffdff",
   "metadata": {},
   "outputs": [],
   "source": [
    "class Student(Person):\n",
    "    def __init__(self,name,grade):\n",
    "        super().__init__(name)\n",
    "        self.grade=grade\n",
    "        \n",
    "    def display_info(self):\n",
    "        super().display_info()\n",
    "        print(f\"Grade is : {self.grade}\")\n",
    "    \n",
    "    "
   ]
  },
  {
   "cell_type": "code",
   "execution_count": 6,
   "id": "f91eb795",
   "metadata": {},
   "outputs": [
    {
     "name": "stdout",
     "output_type": "stream",
     "text": [
      "Name is : Debu\n",
      "Grade is : A\n"
     ]
    }
   ],
   "source": [
    "student1= Student(\"Debu\",\"A\")\n",
    "student1.display_info()"
   ]
  },
  {
   "cell_type": "code",
   "execution_count": null,
   "id": "8e308c37",
   "metadata": {},
   "outputs": [],
   "source": []
  },
  {
   "cell_type": "code",
   "execution_count": null,
   "id": "2c2deeee",
   "metadata": {},
   "outputs": [],
   "source": []
  },
  {
   "cell_type": "code",
   "execution_count": 17,
   "id": "82bb6520",
   "metadata": {},
   "outputs": [],
   "source": [
    "class Person:\n",
    "    def __init__(self,name):\n",
    "        self.name=name\n",
    "\n",
    "    def display_info(self):\n",
    "        print(f\"Name is : {self.name}\")"
   ]
  },
  {
   "cell_type": "code",
   "execution_count": 18,
   "id": "b0a04977",
   "metadata": {},
   "outputs": [],
   "source": [
    "class Student(Person):\n",
    "    def __init__(self,name,grade):\n",
    "        super().__init__(name)\n",
    "        self.grade=grade\n",
    "        \n",
    "    def display_info(self):\n",
    "        super().display_info()\n",
    "        print(f\"Grade is : {self.grade}\")"
   ]
  },
  {
   "cell_type": "code",
   "execution_count": 19,
   "id": "7c90d69c",
   "metadata": {},
   "outputs": [
    {
     "name": "stdout",
     "output_type": "stream",
     "text": [
      "Name is : Krish\n",
      "Grade is : A\n"
     ]
    }
   ],
   "source": [
    "student1= Student(\"Krish\",\"A\")\n",
    "student1.display_info()"
   ]
  },
  {
   "cell_type": "code",
   "execution_count": 8,
   "id": "3af83554",
   "metadata": {},
   "outputs": [],
   "source": [
    "class Teacher(Person):\n",
    "    def __init__(self,name,subject):\n",
    "        super().__init__(name)\n",
    "        self.subject=subject\n",
    "    def display_info(self):\n",
    "        super().display_info()\n",
    "        print(f'Subject :{self.subject}')"
   ]
  },
  {
   "cell_type": "code",
   "execution_count": 9,
   "id": "462f58f1",
   "metadata": {},
   "outputs": [
    {
     "name": "stdout",
     "output_type": "stream",
     "text": [
      "Name is : Debu\n",
      "Subject :AI\n"
     ]
    }
   ],
   "source": [
    "teacher1=Teacher(\"Debu\",\"AI\")\n",
    "teacher1.display_info()"
   ]
  },
  {
   "cell_type": "code",
   "execution_count": null,
   "id": "ea1f3ba7",
   "metadata": {},
   "outputs": [],
   "source": []
  },
  {
   "cell_type": "code",
   "execution_count": null,
   "id": "51068bcc",
   "metadata": {},
   "outputs": [],
   "source": []
  },
  {
   "cell_type": "code",
   "execution_count": 14,
   "id": "bc6501c5",
   "metadata": {},
   "outputs": [],
   "source": [
    "class vehicle:\n",
    "    def __init__(self,brand):\n",
    "        self.brand=brand\n",
    "        \n",
    "    def start(self):\n",
    "        print(f\" The {self.brand} is starting\")\n",
    "        "
   ]
  },
  {
   "cell_type": "code",
   "execution_count": 15,
   "id": "727e57aa",
   "metadata": {},
   "outputs": [],
   "source": [
    "class Bicycle(vehicle):\n",
    "    def __init__(self,brand,model):\n",
    "        super().__init__(brand)\n",
    "        self.model=model\n",
    "        \n",
    "    def start(self):\n",
    "        super().start()\n",
    "        print(f\"The {self.brand} {self.model} is starting \")"
   ]
  },
  {
   "cell_type": "code",
   "execution_count": 16,
   "id": "d819be79",
   "metadata": {},
   "outputs": [
    {
     "name": "stdout",
     "output_type": "stream",
     "text": [
      " The HERO is starting\n",
      "The HERO EV is starting \n"
     ]
    }
   ],
   "source": [
    "veh1=Bicycle(\"HERO\",\"EV\")\n",
    "veh1.start()"
   ]
  },
  {
   "cell_type": "code",
   "execution_count": null,
   "id": "af85f155",
   "metadata": {},
   "outputs": [],
   "source": []
  },
  {
   "cell_type": "code",
   "execution_count": null,
   "id": "43490d99",
   "metadata": {},
   "outputs": [],
   "source": []
  },
  {
   "cell_type": "code",
   "execution_count": 21,
   "id": "f441b40e",
   "metadata": {},
   "outputs": [],
   "source": [
    "class Animal:\n",
    "    def __init__(self,name):\n",
    "        self.name=name\n",
    "        \n",
    "    def sound(self):\n",
    "        pass"
   ]
  },
  {
   "cell_type": "code",
   "execution_count": 22,
   "id": "035474d3",
   "metadata": {},
   "outputs": [],
   "source": [
    "class Dog(Animal):\n",
    "    def __init__(self,name):\n",
    "        super().__init__(name)\n",
    "        \n",
    "    def sound(self):\n",
    "        print(f\" {self.name} barks \")"
   ]
  },
  {
   "cell_type": "code",
   "execution_count": 25,
   "id": "99f1254b",
   "metadata": {},
   "outputs": [],
   "source": [
    "class Cat(Animal):\n",
    "    def __init__(self,name):\n",
    "        super().__init__(name)\n",
    "        \n",
    "    def sound(self):\n",
    "        print(f\"{self.name} meows\")"
   ]
  },
  {
   "cell_type": "code",
   "execution_count": 26,
   "id": "a787fb9c",
   "metadata": {},
   "outputs": [
    {
     "name": "stdout",
     "output_type": "stream",
     "text": [
      " poppy barks \n",
      "pussy meows\n"
     ]
    }
   ],
   "source": [
    "animal1=Dog(\"poppy\")\n",
    "animal2=Cat(\"pussy\")\n",
    "animal1.sound()\n",
    "animal2.sound()"
   ]
  },
  {
   "cell_type": "code",
   "execution_count": null,
   "id": "8a0b88b9",
   "metadata": {},
   "outputs": [],
   "source": []
  },
  {
   "cell_type": "code",
   "execution_count": null,
   "id": "9c531a44",
   "metadata": {},
   "outputs": [],
   "source": []
  },
  {
   "cell_type": "code",
   "execution_count": 27,
   "id": "55447a19",
   "metadata": {},
   "outputs": [],
   "source": [
    "class Person:\n",
    "    def __init__(self,name,last_name):\n",
    "        self.name=name\n",
    "        self.last_name=last_name\n",
    "        \n",
    "    def display_info(self):\n",
    "        print(f\"The name is {self.name} and last name is {self.last_name}\")"
   ]
  },
  {
   "cell_type": "code",
   "execution_count": 28,
   "id": "e3402ca5",
   "metadata": {},
   "outputs": [
    {
     "name": "stdout",
     "output_type": "stream",
     "text": [
      "The name is Debasish and last name is Nayak\n"
     ]
    }
   ],
   "source": [
    "person1=Person(\"Debasish\",\"Nayak\")\n",
    "person1.display_info()"
   ]
  },
  {
   "cell_type": "code",
   "execution_count": 29,
   "id": "b2191e85",
   "metadata": {},
   "outputs": [
    {
     "data": {
      "text/plain": [
       "['__class__',\n",
       " '__delattr__',\n",
       " '__dict__',\n",
       " '__dir__',\n",
       " '__doc__',\n",
       " '__eq__',\n",
       " '__format__',\n",
       " '__ge__',\n",
       " '__getattribute__',\n",
       " '__gt__',\n",
       " '__hash__',\n",
       " '__init__',\n",
       " '__init_subclass__',\n",
       " '__le__',\n",
       " '__lt__',\n",
       " '__module__',\n",
       " '__ne__',\n",
       " '__new__',\n",
       " '__reduce__',\n",
       " '__reduce_ex__',\n",
       " '__repr__',\n",
       " '__setattr__',\n",
       " '__sizeof__',\n",
       " '__str__',\n",
       " '__subclasshook__',\n",
       " '__weakref__',\n",
       " 'display_info',\n",
       " 'last_name',\n",
       " 'name']"
      ]
     },
     "execution_count": 29,
     "metadata": {},
     "output_type": "execute_result"
    }
   ],
   "source": [
    "dir(person1)"
   ]
  },
  {
   "cell_type": "code",
   "execution_count": 35,
   "id": "a800e186",
   "metadata": {},
   "outputs": [],
   "source": [
    "class Student:\n",
    "    def __init__(self,name,roll):\n",
    "        self.name=name\n",
    "        self.roll=roll\n",
    "        \n",
    "    def display_(self):\n",
    "        print(f\"The name is {self.name} and roll is {self.roll}\")"
   ]
  },
  {
   "cell_type": "code",
   "execution_count": 37,
   "id": "5cd52c37",
   "metadata": {},
   "outputs": [
    {
     "name": "stdout",
     "output_type": "stream",
     "text": [
      "The name is Debu and roll is 167\n"
     ]
    }
   ],
   "source": [
    "student1=Student(\"Debu\",167)\n",
    "student1.display_()"
   ]
  },
  {
   "cell_type": "code",
   "execution_count": 38,
   "id": "39cb79eb",
   "metadata": {},
   "outputs": [
    {
     "data": {
      "text/plain": [
       "['__class__',\n",
       " '__delattr__',\n",
       " '__dict__',\n",
       " '__dir__',\n",
       " '__doc__',\n",
       " '__eq__',\n",
       " '__format__',\n",
       " '__ge__',\n",
       " '__getattribute__',\n",
       " '__gt__',\n",
       " '__hash__',\n",
       " '__init__',\n",
       " '__init_subclass__',\n",
       " '__le__',\n",
       " '__lt__',\n",
       " '__module__',\n",
       " '__ne__',\n",
       " '__new__',\n",
       " '__reduce__',\n",
       " '__reduce_ex__',\n",
       " '__repr__',\n",
       " '__setattr__',\n",
       " '__sizeof__',\n",
       " '__str__',\n",
       " '__subclasshook__',\n",
       " '__weakref__',\n",
       " 'display_',\n",
       " 'name',\n",
       " 'roll']"
      ]
     },
     "execution_count": 38,
     "metadata": {},
     "output_type": "execute_result"
    }
   ],
   "source": [
    "dir(student1)"
   ]
  },
  {
   "cell_type": "code",
   "execution_count": 39,
   "id": "4e846da7",
   "metadata": {},
   "outputs": [],
   "source": [
    "class Genius(Student):\n",
    "    def __init__(self,name,roll):\n",
    "        super().__init__(name,roll)\n",
    "        \n",
    "    def displaydetails(self):\n",
    "        print(f\"Name is :{self.name}\")\n",
    "        self.display_()"
   ]
  },
  {
   "cell_type": "code",
   "execution_count": 40,
   "id": "8913e18b",
   "metadata": {},
   "outputs": [
    {
     "name": "stdout",
     "output_type": "stream",
     "text": [
      "Name is :Debu\n",
      "The name is Debu and roll is 165\n"
     ]
    }
   ],
   "source": [
    "genius=Genius(\"Debu\",165)\n",
    "genius.displaydetails()"
   ]
  },
  {
   "cell_type": "code",
   "execution_count": 41,
   "id": "a575cb85",
   "metadata": {},
   "outputs": [
    {
     "data": {
      "text/plain": [
       "['__class__',\n",
       " '__delattr__',\n",
       " '__dict__',\n",
       " '__dir__',\n",
       " '__doc__',\n",
       " '__eq__',\n",
       " '__format__',\n",
       " '__ge__',\n",
       " '__getattribute__',\n",
       " '__gt__',\n",
       " '__hash__',\n",
       " '__init__',\n",
       " '__init_subclass__',\n",
       " '__le__',\n",
       " '__lt__',\n",
       " '__module__',\n",
       " '__ne__',\n",
       " '__new__',\n",
       " '__reduce__',\n",
       " '__reduce_ex__',\n",
       " '__repr__',\n",
       " '__setattr__',\n",
       " '__sizeof__',\n",
       " '__str__',\n",
       " '__subclasshook__',\n",
       " '__weakref__',\n",
       " 'display_',\n",
       " 'displaydetails',\n",
       " 'name',\n",
       " 'roll']"
      ]
     },
     "execution_count": 41,
     "metadata": {},
     "output_type": "execute_result"
    }
   ],
   "source": [
    "dir(genius)"
   ]
  },
  {
   "cell_type": "code",
   "execution_count": null,
   "id": "0338c13f",
   "metadata": {},
   "outputs": [],
   "source": []
  }
 ],
 "metadata": {
  "kernelspec": {
   "display_name": "Python 3 (ipykernel)",
   "language": "python",
   "name": "python3"
  },
  "language_info": {
   "codemirror_mode": {
    "name": "ipython",
    "version": 3
   },
   "file_extension": ".py",
   "mimetype": "text/x-python",
   "name": "python",
   "nbconvert_exporter": "python",
   "pygments_lexer": "ipython3",
   "version": "3.10.9"
  }
 },
 "nbformat": 4,
 "nbformat_minor": 5
}
