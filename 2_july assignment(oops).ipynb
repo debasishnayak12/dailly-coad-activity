{
 "cells": [
  {
   "cell_type": "markdown",
   "id": "58e2dbc4",
   "metadata": {},
   "source": [
    "# Assignments :"
   ]
  },
  {
   "cell_type": "markdown",
   "id": "70095e0c",
   "metadata": {},
   "source": [
    "# 1-:"
   ]
  },
  {
   "cell_type": "code",
   "execution_count": 1,
   "id": "2b8ffb39",
   "metadata": {},
   "outputs": [],
   "source": [
    "class Person:\n",
    "    def __init__(self,name,age):\n",
    "        self.name=name\n",
    "        self.age=age\n",
    "        \n",
    "    def introduce(self):\n",
    "        print(f\"The name is {self.name} and age is {self.age}\")"
   ]
  },
  {
   "cell_type": "code",
   "execution_count": 2,
   "id": "77283d2b",
   "metadata": {},
   "outputs": [
    {
     "name": "stdout",
     "output_type": "stream",
     "text": [
      "The name is Debasish and age is 20\n"
     ]
    }
   ],
   "source": [
    "person=Person(\"Debasish\",20)\n",
    "person.introduce()"
   ]
  },
  {
   "cell_type": "markdown",
   "id": "7e10adca",
   "metadata": {},
   "source": [
    "2-:"
   ]
  },
  {
   "cell_type": "code",
   "execution_count": 4,
   "id": "71e8160f",
   "metadata": {},
   "outputs": [],
   "source": [
    "class Car:\n",
    "    def __init__(self,brand,model):\n",
    "        self.brand=brand\n",
    "        self.model=model\n",
    "        \n",
    "    def display_info(self):\n",
    "        print(f\"the {self.brand} {self.model} is here.\")"
   ]
  },
  {
   "cell_type": "code",
   "execution_count": 6,
   "id": "4fbe3e97",
   "metadata": {},
   "outputs": [
    {
     "name": "stdout",
     "output_type": "stream",
     "text": [
      "the Audi Q7 is here.\n"
     ]
    }
   ],
   "source": [
    "car1=Car(\"Audi\",\"Q7\")\n",
    "car1.display_info()"
   ]
  },
  {
   "cell_type": "code",
   "execution_count": 22,
   "id": "e059e4c4",
   "metadata": {},
   "outputs": [],
   "source": [
    "class BankAccount:\n",
    "    def __init__(self,account_number,balance=0):\n",
    "        self.account_number=account_number\n",
    "        self.balance=balance\n",
    "        \n",
    "    def diposit(self,diposit) :\n",
    "        self.diposit=diposit\n",
    "        self.balance += diposit\n",
    "        \n",
    "    \n",
    "    def display_balance(self):\n",
    "        print(f\"the account number is:{self.account_number}and balance is :{self.balance}\")\n",
    "    "
   ]
  },
  {
   "cell_type": "code",
   "execution_count": 23,
   "id": "99bfb2ef",
   "metadata": {},
   "outputs": [
    {
     "data": {
      "text/plain": [
       "0"
      ]
     },
     "execution_count": 23,
     "metadata": {},
     "output_type": "execute_result"
    }
   ],
   "source": [
    "account1=BankAccount(\"1234\",0)\n",
    "account1.balance\n"
   ]
  },
  {
   "cell_type": "code",
   "execution_count": 24,
   "id": "e57f3150",
   "metadata": {},
   "outputs": [
    {
     "data": {
      "text/plain": [
       "500"
      ]
     },
     "execution_count": 24,
     "metadata": {},
     "output_type": "execute_result"
    }
   ],
   "source": [
    "account1.diposit(500)\n",
    "account1.balance"
   ]
  },
  {
   "cell_type": "code",
   "execution_count": 25,
   "id": "3654e03c",
   "metadata": {},
   "outputs": [
    {
     "name": "stdout",
     "output_type": "stream",
     "text": [
      "the account number is:1234and balance is :500\n"
     ]
    }
   ],
   "source": [
    "account1.display_balance()"
   ]
  },
  {
   "cell_type": "markdown",
   "id": "ac22308e",
   "metadata": {},
   "source": [
    "4-:"
   ]
  },
  {
   "cell_type": "code",
   "execution_count": 26,
   "id": "fd4d880e",
   "metadata": {},
   "outputs": [],
   "source": [
    "class MobilePhone:\n",
    "    def __init__(self,brand,model):\n",
    "        self.brand=brand\n",
    "        self.model=model\n",
    "        \n",
    "    def make_call(self,number):\n",
    "        self.number=number\n",
    "        print(f\"call {self.number} on {self.brand} {self.model} phone\")\n",
    "        "
   ]
  },
  {
   "cell_type": "code",
   "execution_count": 30,
   "id": "4b640afb",
   "metadata": {},
   "outputs": [],
   "source": [
    "phone=MobilePhone(\"Nokia\",\"1200\",)"
   ]
  },
  {
   "cell_type": "code",
   "execution_count": 31,
   "id": "432f54c9",
   "metadata": {},
   "outputs": [
    {
     "name": "stdout",
     "output_type": "stream",
     "text": [
      "call 876308833 on Nokia 1200 phone\n"
     ]
    }
   ],
   "source": [
    "phone.make_call(876308833)"
   ]
  },
  {
   "cell_type": "markdown",
   "id": "de24b185",
   "metadata": {},
   "source": [
    "5:-"
   ]
  },
  {
   "cell_type": "code",
   "execution_count": 32,
   "id": "fd8af4cb",
   "metadata": {},
   "outputs": [],
   "source": [
    "class Book:\n",
    "    def __init__(self,title,author):\n",
    "        self.title=title\n",
    "        self.author=author\n",
    "        \n",
    "    def display_info(self):\n",
    "        print(f\"The title is {self.title} and author is {self.author}\")"
   ]
  },
  {
   "cell_type": "code",
   "execution_count": 33,
   "id": "82437044",
   "metadata": {},
   "outputs": [
    {
     "name": "stdout",
     "output_type": "stream",
     "text": [
      "The title is Physics and author is SL Arora\n"
     ]
    }
   ],
   "source": [
    "books=Book(\"Physics\",\"SL Arora\")\n",
    "books.display_info()"
   ]
  },
  {
   "cell_type": "markdown",
   "id": "3265be17",
   "metadata": {},
   "source": [
    "6:-"
   ]
  },
  {
   "cell_type": "code",
   "execution_count": 48,
   "id": "8740ec17",
   "metadata": {},
   "outputs": [],
   "source": [
    "class vehicle:\n",
    "    def __init__(self,brand):\n",
    "        self.brand=brand\n",
    "        \n",
    "        \n",
    "        \n",
    "     "
   ]
  },
  {
   "cell_type": "code",
   "execution_count": 49,
   "id": "e1240e25",
   "metadata": {},
   "outputs": [],
   "source": [
    "class Car(vehicle):\n",
    "    def __init__(self,brand,model,year):\n",
    "        super().__init__(brand)\n",
    "        self.model=model\n",
    "        self.year=year\n",
    "        \n",
    "    def start_engine(self):\n",
    "        \n",
    "        print(f\"The {self.brand} {self.model} which made in {self.year} is start\")\n",
    "        \n",
    "    def stop_engine(self):\n",
    "        \n",
    "        print(f\"The car {self.brand} {self.model} which made in {self.year} is stoped\")"
   ]
  },
  {
   "cell_type": "code",
   "execution_count": 50,
   "id": "cd4fdcce",
   "metadata": {},
   "outputs": [],
   "source": [
    "class Motorcycle(vehicle):\n",
    "    def __init__(self,brand,model,year):\n",
    "        super().__init__(brand)\n",
    "        self.model=model\n",
    "        self.year=year\n",
    "        \n",
    "    def start_engine(self):\n",
    "        \n",
    "        print(f\"The bike {self.brand} {self.model} which made in {self.year} is start\")\n",
    "        \n",
    "    def stop_engine(self):\n",
    "        \n",
    "        print(f\"The bike {self.brand} {self.model} which made in {self.year} is stoped\")"
   ]
  },
  {
   "cell_type": "code",
   "execution_count": 51,
   "id": "cc11c6a4",
   "metadata": {},
   "outputs": [],
   "source": [
    "vehicle1=Car(\"Honda\",\"city\",\"1900\")\n"
   ]
  },
  {
   "cell_type": "code",
   "execution_count": 52,
   "id": "628a9540",
   "metadata": {},
   "outputs": [
    {
     "name": "stdout",
     "output_type": "stream",
     "text": [
      "The car Honda city which made in 1900 is stoped\n"
     ]
    }
   ],
   "source": [
    "vehicle1.stop_engine()"
   ]
  },
  {
   "cell_type": "code",
   "execution_count": 53,
   "id": "b946f185",
   "metadata": {},
   "outputs": [
    {
     "name": "stdout",
     "output_type": "stream",
     "text": [
      "The Honda city which made in 1900 is start\n"
     ]
    }
   ],
   "source": [
    "vehicle1.start_engine()"
   ]
  },
  {
   "cell_type": "code",
   "execution_count": 54,
   "id": "f5a0b0e9",
   "metadata": {},
   "outputs": [],
   "source": [
    "vehicle2=Motorcycle(\"Hero\",\"delux\",\"1890\")"
   ]
  },
  {
   "cell_type": "code",
   "execution_count": 55,
   "id": "3cc8ce52",
   "metadata": {},
   "outputs": [
    {
     "name": "stdout",
     "output_type": "stream",
     "text": [
      "The bike Hero delux which made in 1890 is start\n"
     ]
    }
   ],
   "source": [
    "vehicle2.start_engine()"
   ]
  },
  {
   "cell_type": "code",
   "execution_count": 56,
   "id": "2389d602",
   "metadata": {},
   "outputs": [
    {
     "name": "stdout",
     "output_type": "stream",
     "text": [
      "The bike Hero delux which made in 1890 is stoped\n"
     ]
    }
   ],
   "source": [
    "vehicle2.stop_engine()"
   ]
  },
  {
   "cell_type": "markdown",
   "id": "db93e85e",
   "metadata": {},
   "source": [
    "7:-"
   ]
  },
  {
   "cell_type": "code",
   "execution_count": 58,
   "id": "a9a21027",
   "metadata": {},
   "outputs": [],
   "source": [
    "class Animal:\n",
    "    def __init__(self,name):\n",
    "        self.name=name\n",
    "        \n",
    "    def eat(self):\n",
    "        print(f\"The {self.name} is eating \")\n",
    "        \n",
    "    def sleep(self):\n",
    "        print(f\"THe {self.name} is sleeping \")\n",
    "        "
   ]
  },
  {
   "cell_type": "code",
   "execution_count": 59,
   "id": "e1cc4d5d",
   "metadata": {},
   "outputs": [],
   "source": [
    "class Dog(Animal):\n",
    "    def __init__(self,name):\n",
    "        super().__init__(name)\n",
    "        \n",
    "    def barks(self):\n",
    "        print(f\" {self.name} barks\")\n",
    "    "
   ]
  },
  {
   "cell_type": "code",
   "execution_count": 60,
   "id": "0deff14a",
   "metadata": {},
   "outputs": [],
   "source": [
    "class Cat(Animal):\n",
    "    def __init__(self,name):\n",
    "        super().__init__(name)\n",
    "        \n",
    "    def meow(self):\n",
    "        print(f\"{self.name} meow\")"
   ]
  },
  {
   "cell_type": "code",
   "execution_count": 61,
   "id": "9f123dda",
   "metadata": {},
   "outputs": [],
   "source": [
    "animal1=Animal(\"allice\")"
   ]
  },
  {
   "cell_type": "code",
   "execution_count": 62,
   "id": "d8cf1d17",
   "metadata": {},
   "outputs": [
    {
     "name": "stdout",
     "output_type": "stream",
     "text": [
      "The allice is eating \n"
     ]
    }
   ],
   "source": [
    "animal1.eat()"
   ]
  },
  {
   "cell_type": "code",
   "execution_count": 63,
   "id": "d6e20e95",
   "metadata": {},
   "outputs": [
    {
     "name": "stdout",
     "output_type": "stream",
     "text": [
      "tom meow\n"
     ]
    }
   ],
   "source": [
    "cat=Cat(\"tom\")\n",
    "cat.meow()"
   ]
  },
  {
   "cell_type": "markdown",
   "id": "3dec0efa",
   "metadata": {},
   "source": [
    "8:-"
   ]
  },
  {
   "cell_type": "code",
   "execution_count": 9,
   "id": "a75609b4",
   "metadata": {},
   "outputs": [],
   "source": [
    "class LibraryItem:\n",
    "    def __init__(self,author):\n",
    "        \n",
    "        self.author=author\n",
    "        \n",
    "        \n",
    "    \n",
    "        "
   ]
  },
  {
   "cell_type": "code",
   "execution_count": 10,
   "id": "de71826c",
   "metadata": {},
   "outputs": [],
   "source": [
    "class book(LibraryItem):\n",
    "    def __init__(self,title,author,publication_year):\n",
    "        super().__init__(author)\n",
    "        self.title=title\n",
    "        self.publication_year=publication_year\n",
    "        \n",
    "    def checkout(self):\n",
    "        print(f\"the {self.author}'s {self.title} book was published on {self.publication_year}\")\n",
    "        \n",
    "    def return_item(self):\n",
    "        print(f\"{self.title} book is to return. \")"
   ]
  },
  {
   "cell_type": "code",
   "execution_count": 11,
   "id": "c15de99d",
   "metadata": {},
   "outputs": [],
   "source": [
    "class magazine(LibraryItem):\n",
    "    def __init__(self,title,author,publication_year):\n",
    "        super().__init__(author)\n",
    "        self.title=title\n",
    "        self.publication_year=publication_year\n",
    "        \n",
    "    def checkout(self):\n",
    "        print(f\"the {self.author}'s {self.title} magazine was published on {self.publication_year}\")\n",
    "        \n",
    "    def return_item(self):\n",
    "        print(f\"{self.title} magazine is to return. \") "
   ]
  },
  {
   "cell_type": "code",
   "execution_count": 12,
   "id": "692bb7e8",
   "metadata": {},
   "outputs": [],
   "source": [
    "book1=book(\"physics\",\"sl arora\",\"1800\")"
   ]
  },
  {
   "cell_type": "code",
   "execution_count": 13,
   "id": "d2828184",
   "metadata": {},
   "outputs": [
    {
     "name": "stdout",
     "output_type": "stream",
     "text": [
      "the sl arora's physics book was published on 1800\n"
     ]
    }
   ],
   "source": [
    "book1.checkout()"
   ]
  },
  {
   "cell_type": "code",
   "execution_count": 14,
   "id": "2032d2bf",
   "metadata": {},
   "outputs": [
    {
     "name": "stdout",
     "output_type": "stream",
     "text": [
      "physics book is to return. \n"
     ]
    }
   ],
   "source": [
    "book1.return_item()"
   ]
  },
  {
   "cell_type": "code",
   "execution_count": 15,
   "id": "0707a500",
   "metadata": {},
   "outputs": [],
   "source": [
    "mg1=magazine(\"koutilya\",\"sk.khuntia\",\"1950\")"
   ]
  },
  {
   "cell_type": "code",
   "execution_count": 16,
   "id": "68c6ea95",
   "metadata": {
    "scrolled": true
   },
   "outputs": [
    {
     "name": "stdout",
     "output_type": "stream",
     "text": [
      "the sk.khuntia's koutilya magazine was published on 1950\n"
     ]
    }
   ],
   "source": [
    "mg1.checkout()"
   ]
  },
  {
   "cell_type": "code",
   "execution_count": 17,
   "id": "2c1461c5",
   "metadata": {},
   "outputs": [
    {
     "name": "stdout",
     "output_type": "stream",
     "text": [
      "koutilya magazine is to return. \n"
     ]
    }
   ],
   "source": [
    "mg1.return_item()"
   ]
  },
  {
   "cell_type": "markdown",
   "id": "f04eaa83",
   "metadata": {},
   "source": [
    "9:-"
   ]
  },
  {
   "cell_type": "code",
   "execution_count": 63,
   "id": "2e024822",
   "metadata": {},
   "outputs": [],
   "source": [
    "class Employee:\n",
    "    def __init__(self,name,salary,department):\n",
    "        self.name=name\n",
    "        self.salary=salary\n",
    "        self.department=department\n",
    "        \n",
    "class manager(Employee) :\n",
    "    def __init__(self,name,salary,department):\n",
    "        \n",
    "        super().__init__(name,salary,department)\n",
    "        self.tasks=[]\n",
    "    \n",
    "    def assign_task(self,task):\n",
    "        if task in self.tasks:\n",
    "            \n",
    "            self.tasks.append(task)\n",
    "            \n",
    "            print(f'{self.tasks} is the task for manager')\n",
    "            \n",
    "        else:\n",
    "            print(\"no task found\")\n",
    "        \n",
    "class staff(Employee):\n",
    "    def __init__(self,name,salary,department):\n",
    "        super().__init__(name,salary,department)\n",
    "         \n",
    "    def attend_meeting(self):\n",
    "        print(f\"{self.name} employee attend the meeting\")\n",
    "              \n",
    "    "
   ]
  },
  {
   "cell_type": "code",
   "execution_count": 64,
   "id": "2773966e",
   "metadata": {},
   "outputs": [],
   "source": [
    "employee=manager(\"debu\",\"5000\",\"saling\")"
   ]
  },
  {
   "cell_type": "code",
   "execution_count": 65,
   "id": "8013b1a5",
   "metadata": {},
   "outputs": [
    {
     "name": "stdout",
     "output_type": "stream",
     "text": [
      "no task found\n"
     ]
    }
   ],
   "source": [
    "employee.assign_task('you have to sale this today ')"
   ]
  },
  {
   "cell_type": "code",
   "execution_count": 68,
   "id": "354f75a9",
   "metadata": {},
   "outputs": [
    {
     "name": "stdout",
     "output_type": "stream",
     "text": [
      "debu employee attend the meeting\n"
     ]
    }
   ],
   "source": [
    "empl2=staff(\"debu\",\"5000\",\"saling\")\n",
    "empl2.attend_meeting()\n"
   ]
  },
  {
   "cell_type": "code",
   "execution_count": 69,
   "id": "b2eb2cce",
   "metadata": {},
   "outputs": [],
   "source": [
    "class BankAccount:\n",
    "    def __init__(self, account_number, balance):\n",
    "        self.account_number = account_number\n",
    "        self.balance = balance\n",
    "\n",
    "    def withdraw(self, amount):\n",
    "        if amount <= self.balance:\n",
    "            self.balance -= amount\n",
    "            print(f\"Withdrew {amount} from account {self.account_number}.\")\n",
    "        else:\n",
    "            print(\"Insufficient funds.\")\n",
    "\n",
    "    def deposit(self, amount):\n",
    "        self.balance += amount\n",
    "        print(f\"Deposited {amount} into account {self.account_number}.\")\n",
    "\n",
    "\n",
    "class CheckingAccount(BankAccount):\n",
    "    def __init__(self, account_number, balance):\n",
    "        super().__init__(account_number, balance)\n",
    "        self.transaction_limit = 500\n",
    "\n",
    "    def withdraw(self, amount):\n",
    "        if amount <= self.transaction_limit:\n",
    "            super().withdraw(amount)\n",
    "        else:\n",
    "            print(f\"Transaction limit exceeded. Maximum withdrawal amount is {self.transaction_limit}.\")\n",
    "\n",
    "\n",
    "class SavingsAccount(BankAccount):\n",
    "    def __init__(self, account_number, balance):\n",
    "        super().__init__(account_number, balance)\n",
    "        self.withdrawal_limit = 3\n",
    "\n",
    "    def withdraw(self, amount):\n",
    "        if self.withdrawal_limit > 0:\n",
    "            super().withdraw(amount)\n",
    "            self.withdrawal_limit -= 1\n",
    "        else:\n",
    "            print(\"Withdrawal limit exceeded. No more withdrawals allowed.\")\n",
    "\n",
    "\n",
    "\n",
    "checking = CheckingAccount(\"123456789\", 1000)\n",
    "savings = SavingsAccount(\"987654321\", 5000)\n",
    "\n"
   ]
  },
  {
   "cell_type": "code",
   "execution_count": 73,
   "id": "75d1a7e9",
   "metadata": {},
   "outputs": [
    {
     "name": "stdout",
     "output_type": "stream",
     "text": [
      "Withdrew 200 from account 123456789.\n"
     ]
    }
   ],
   "source": [
    "\n",
    "checking.withdraw(200)"
   ]
  },
  {
   "cell_type": "code",
   "execution_count": 75,
   "id": "a489028b",
   "metadata": {},
   "outputs": [
    {
     "data": {
      "text/plain": [
       "800"
      ]
     },
     "execution_count": 75,
     "metadata": {},
     "output_type": "execute_result"
    }
   ],
   "source": [
    "checking.balance"
   ]
  },
  {
   "cell_type": "code",
   "execution_count": null,
   "id": "0b517207",
   "metadata": {},
   "outputs": [],
   "source": []
  }
 ],
 "metadata": {
  "kernelspec": {
   "display_name": "Python 3 (ipykernel)",
   "language": "python",
   "name": "python3"
  },
  "language_info": {
   "codemirror_mode": {
    "name": "ipython",
    "version": 3
   },
   "file_extension": ".py",
   "mimetype": "text/x-python",
   "name": "python",
   "nbconvert_exporter": "python",
   "pygments_lexer": "ipython3",
   "version": "3.10.9"
  }
 },
 "nbformat": 4,
 "nbformat_minor": 5
}
