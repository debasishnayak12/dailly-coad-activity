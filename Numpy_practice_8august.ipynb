{
 "cells": [
  {
   "cell_type": "code",
   "execution_count": 1,
   "id": "d95478b3",
   "metadata": {},
   "outputs": [],
   "source": [
    "import numpy as np\n"
   ]
  },
  {
   "cell_type": "code",
   "execution_count": 3,
   "id": "21ca29d3",
   "metadata": {},
   "outputs": [
    {
     "data": {
      "text/plain": [
       "'1.23.5'"
      ]
     },
     "execution_count": 3,
     "metadata": {},
     "output_type": "execute_result"
    }
   ],
   "source": [
    "#1\n",
    "np.__version__"
   ]
  },
  {
   "cell_type": "markdown",
   "id": "9e533724",
   "metadata": {},
   "source": [
    "2. Write a NumPy program to convert a list of numeric values into a one-dimensional NumPy array."
   ]
  },
  {
   "cell_type": "code",
   "execution_count": 4,
   "id": "c0049267",
   "metadata": {},
   "outputs": [
    {
     "data": {
      "text/plain": [
       "array([1, 2, 3, 4, 5])"
      ]
     },
     "execution_count": 4,
     "metadata": {},
     "output_type": "execute_result"
    }
   ],
   "source": [
    "lst=[1,2,3,4,5]\n",
    "arr=np.array(lst)\n",
    "arr"
   ]
  },
  {
   "cell_type": "markdown",
   "id": "6097ee92",
   "metadata": {},
   "source": [
    "3.Write a NumPy program to create a 3x3 matrix with values ranging from 2 to 10."
   ]
  },
  {
   "cell_type": "code",
   "execution_count": 6,
   "id": "22ca5958",
   "metadata": {},
   "outputs": [
    {
     "name": "stdout",
     "output_type": "stream",
     "text": [
      "[[ 2  3  4]\n",
      " [ 5  6  7]\n",
      " [ 8  9 10]]\n"
     ]
    }
   ],
   "source": [
    "arr=np.arange(2,11).reshape(3,3)\n",
    "print(arr)"
   ]
  },
  {
   "cell_type": "markdown",
   "id": "3e81b0cb",
   "metadata": {},
   "source": [
    "4. Write a NumPy program to create a null vector of size 10 and update the sixth value to 11."
   ]
  },
  {
   "cell_type": "code",
   "execution_count": 7,
   "id": "8b7a4481",
   "metadata": {},
   "outputs": [],
   "source": [
    "arr=np.zeros(10)"
   ]
  },
  {
   "cell_type": "code",
   "execution_count": 8,
   "id": "8cada5d4",
   "metadata": {},
   "outputs": [
    {
     "data": {
      "text/plain": [
       "array([0., 0., 0., 0., 0., 0., 0., 0., 0., 0.])"
      ]
     },
     "execution_count": 8,
     "metadata": {},
     "output_type": "execute_result"
    }
   ],
   "source": [
    "arr"
   ]
  },
  {
   "cell_type": "code",
   "execution_count": 9,
   "id": "d1201e5d",
   "metadata": {},
   "outputs": [],
   "source": [
    "arr[6]=11"
   ]
  },
  {
   "cell_type": "code",
   "execution_count": 10,
   "id": "f5044076",
   "metadata": {},
   "outputs": [
    {
     "data": {
      "text/plain": [
       "array([ 0.,  0.,  0.,  0.,  0.,  0., 11.,  0.,  0.,  0.])"
      ]
     },
     "execution_count": 10,
     "metadata": {},
     "output_type": "execute_result"
    }
   ],
   "source": [
    "arr"
   ]
  },
  {
   "cell_type": "markdown",
   "id": "5ec81857",
   "metadata": {},
   "source": [
    "5. Write a NumPy program to create an array with values ranging from 12 to 38.\n"
   ]
  },
  {
   "cell_type": "code",
   "execution_count": 11,
   "id": "011b9f6e",
   "metadata": {},
   "outputs": [
    {
     "data": {
      "text/plain": [
       "array([[12, 13, 14, 15, 16, 17, 18, 19, 20],\n",
       "       [21, 22, 23, 24, 25, 26, 27, 28, 29],\n",
       "       [30, 31, 32, 33, 34, 35, 36, 37, 38]])"
      ]
     },
     "execution_count": 11,
     "metadata": {},
     "output_type": "execute_result"
    }
   ],
   "source": [
    "arr=np.arange(12,39).reshape(3,9)\n",
    "arr"
   ]
  },
  {
   "cell_type": "code",
   "execution_count": 12,
   "id": "4585c05e",
   "metadata": {},
   "outputs": [
    {
     "data": {
      "text/plain": [
       "array([[30, 31, 32, 33, 34, 35, 36, 37, 38],\n",
       "       [21, 22, 23, 24, 25, 26, 27, 28, 29],\n",
       "       [12, 13, 14, 15, 16, 17, 18, 19, 20]])"
      ]
     },
     "execution_count": 12,
     "metadata": {},
     "output_type": "execute_result"
    }
   ],
   "source": [
    "#make it reverse of 2 dimension\n",
    "\n",
    "arr[::-1]"
   ]
  },
  {
   "cell_type": "code",
   "execution_count": 13,
   "id": "bf5a4513",
   "metadata": {},
   "outputs": [],
   "source": [
    "lst=[1,2,4,6,7]\n",
    "arr=np.array(lst)"
   ]
  },
  {
   "cell_type": "code",
   "execution_count": 14,
   "id": "cdd43aba",
   "metadata": {},
   "outputs": [
    {
     "data": {
      "text/plain": [
       "array([1, 2, 4, 6, 7])"
      ]
     },
     "execution_count": 14,
     "metadata": {},
     "output_type": "execute_result"
    }
   ],
   "source": [
    "arr"
   ]
  },
  {
   "cell_type": "code",
   "execution_count": 17,
   "id": "8fdb20be",
   "metadata": {},
   "outputs": [
    {
     "data": {
      "text/plain": [
       "array([7, 6, 4, 2, 1])"
      ]
     },
     "execution_count": 17,
     "metadata": {},
     "output_type": "execute_result"
    }
   ],
   "source": [
    "arr[::-1]"
   ]
  },
  {
   "cell_type": "markdown",
   "id": "1398a387",
   "metadata": {},
   "source": [
    "7-Write a NumPy program to convert an array to a floating type."
   ]
  },
  {
   "cell_type": "code",
   "execution_count": 21,
   "id": "08a36e4f",
   "metadata": {},
   "outputs": [
    {
     "data": {
      "text/plain": [
       "array([1., 2., 4., 6., 7.])"
      ]
     },
     "execution_count": 21,
     "metadata": {},
     "output_type": "execute_result"
    }
   ],
   "source": [
    "np.asfarray(arr)"
   ]
  },
  {
   "cell_type": "markdown",
   "id": "deb5e894",
   "metadata": {},
   "source": [
    "8. Write a NumPy program to create a 2D array with 1 on the border and 0 inside."
   ]
  },
  {
   "cell_type": "code",
   "execution_count": 27,
   "id": "991c6575",
   "metadata": {},
   "outputs": [
    {
     "data": {
      "text/plain": [
       "array([[1., 1., 1., 1., 1.],\n",
       "       [1., 1., 1., 1., 1.],\n",
       "       [1., 1., 1., 1., 1.],\n",
       "       [1., 1., 1., 1., 1.],\n",
       "       [1., 1., 1., 1., 1.]])"
      ]
     },
     "execution_count": 27,
     "metadata": {},
     "output_type": "execute_result"
    }
   ],
   "source": [
    "arr=np.ones(25).reshape(5,5)\n",
    "arr"
   ]
  },
  {
   "cell_type": "code",
   "execution_count": 28,
   "id": "70dfed9e",
   "metadata": {},
   "outputs": [
    {
     "name": "stdout",
     "output_type": "stream",
     "text": [
      "[[1. 1. 1. 1. 1.]\n",
      " [1. 0. 0. 0. 1.]\n",
      " [1. 0. 0. 0. 1.]\n",
      " [1. 0. 0. 0. 1.]\n",
      " [1. 1. 1. 1. 1.]]\n"
     ]
    }
   ],
   "source": [
    "arr[1:4,1:4]=0\n",
    "print(arr)"
   ]
  },
  {
   "cell_type": "markdown",
   "id": "2d8a8b7c",
   "metadata": {},
   "source": [
    "9. Write a NumPy program to add a border (filled with 0's) around an existing array."
   ]
  },
  {
   "cell_type": "code",
   "execution_count": 29,
   "id": "8899e96a",
   "metadata": {},
   "outputs": [
    {
     "data": {
      "text/plain": [
       "array([[ 0,  1,  2,  3,  4],\n",
       "       [ 5,  6,  7,  8,  9],\n",
       "       [10, 11, 12, 13, 14],\n",
       "       [15, 16, 17, 18, 19]])"
      ]
     },
     "execution_count": 29,
     "metadata": {},
     "output_type": "execute_result"
    }
   ],
   "source": [
    "arr=np.arange(20).reshape(4,5)\n",
    "arr"
   ]
  },
  {
   "cell_type": "code",
   "execution_count": 31,
   "id": "61a49459",
   "metadata": {},
   "outputs": [
    {
     "data": {
      "text/plain": [
       "array([[ 0,  0,  0,  0,  0,  0,  0],\n",
       "       [ 0,  0,  1,  2,  3,  4,  0],\n",
       "       [ 0,  5,  6,  7,  8,  9,  0],\n",
       "       [ 0, 10, 11, 12, 13, 14,  0],\n",
       "       [ 0, 15, 16, 17, 18, 19,  0],\n",
       "       [ 0,  0,  0,  0,  0,  0,  0]])"
      ]
     },
     "execution_count": 31,
     "metadata": {},
     "output_type": "execute_result"
    }
   ],
   "source": [
    "arr = np.pad(arr, pad_width=1, mode='constant', constant_values=0)\n",
    "arr"
   ]
  },
  {
   "cell_type": "markdown",
   "id": "5d694bab",
   "metadata": {},
   "source": [
    "10. Write a NumPy program to create an 8x8 matrix and fill it with a checkerboard pattern."
   ]
  },
  {
   "cell_type": "code",
   "execution_count": 33,
   "id": "445a1c0e",
   "metadata": {},
   "outputs": [
    {
     "name": "stdout",
     "output_type": "stream",
     "text": [
      "Checkerboard pattern:\n",
      "[[0 1 0 1 0 1 0 1]\n",
      " [1 0 1 0 1 0 1 0]\n",
      " [0 1 0 1 0 1 0 1]\n",
      " [1 0 1 0 1 0 1 0]\n",
      " [0 1 0 1 0 1 0 1]\n",
      " [1 0 1 0 1 0 1 0]\n",
      " [0 1 0 1 0 1 0 1]\n",
      " [1 0 1 0 1 0 1 0]]\n"
     ]
    }
   ],
   "source": [
    "import numpy as np\n",
    "\n",
    "print(\"Checkerboard pattern:\")\n",
    "x = np.zeros((8,8),dtype=int)\n",
    "x[1::2,::2] = 1\n",
    "x[::2,1::2] = 1\n",
    "print(x)"
   ]
  },
  {
   "cell_type": "markdown",
   "id": "6269fdee",
   "metadata": {},
   "source": [
    "11. Write a NumPy program to convert a list and tuple into arrays.\n"
   ]
  },
  {
   "cell_type": "code",
   "execution_count": 40,
   "id": "63383d4e",
   "metadata": {},
   "outputs": [
    {
     "data": {
      "text/plain": [
       "array([1, 2, 3, 4, 5, 6])"
      ]
     },
     "execution_count": 40,
     "metadata": {},
     "output_type": "execute_result"
    }
   ],
   "source": [
    "lst=[1,2,3,4,5,6]\n",
    "tpl=([5,6,7],[8,9,7])\n",
    "arr=np.array(lst)\n",
    "arr"
   ]
  },
  {
   "cell_type": "code",
   "execution_count": 41,
   "id": "b42de98c",
   "metadata": {},
   "outputs": [
    {
     "data": {
      "text/plain": [
       "array([[5, 6, 7],\n",
       "       [8, 9, 7]])"
      ]
     },
     "execution_count": 41,
     "metadata": {},
     "output_type": "execute_result"
    }
   ],
   "source": [
    "np.array(tpl)"
   ]
  },
  {
   "cell_type": "markdown",
   "id": "c77b1e71",
   "metadata": {},
   "source": [
    "12. Write a NumPy program to append values to the end of an array.\n"
   ]
  },
  {
   "cell_type": "code",
   "execution_count": 44,
   "id": "f8900066",
   "metadata": {},
   "outputs": [
    {
     "name": "stdout",
     "output_type": "stream",
     "text": [
      "Original array :\n",
      "[1, 2, 3, 4]\n",
      "After append array :\n",
      "[ 1  2  3  4  5  6  7  8  9 10]\n"
     ]
    }
   ],
   "source": [
    "arr1=[1,2,3,4]\n",
    "print(\"Original array :\")\n",
    "print(arr1)\n",
    "arr=np.append(arr1,[[5,6,7],[8,9,10]])\n",
    "print(\"After append array :\")\n",
    "print(arr)"
   ]
  },
  {
   "cell_type": "markdown",
   "id": "595ebfba",
   "metadata": {},
   "source": [
    "13. Write a NumPy program to create an empty and full array.\n"
   ]
  },
  {
   "cell_type": "code",
   "execution_count": 51,
   "id": "8869f862",
   "metadata": {},
   "outputs": [
    {
     "data": {
      "text/plain": [
       "array([0.00000000e+000, 0.00000000e+000, 0.00000000e+000, 0.00000000e+000,\n",
       "       0.00000000e+000, 0.00000000e+000, 3.71349263e-312])"
      ]
     },
     "execution_count": 51,
     "metadata": {},
     "output_type": "execute_result"
    }
   ],
   "source": [
    "np.empty(7)"
   ]
  },
  {
   "cell_type": "code",
   "execution_count": 50,
   "id": "033733f2",
   "metadata": {},
   "outputs": [
    {
     "data": {
      "text/plain": [
       "array([[6, 6, 6],\n",
       "       [6, 6, 6]])"
      ]
     },
     "execution_count": 50,
     "metadata": {},
     "output_type": "execute_result"
    }
   ],
   "source": [
    "np.full((2,3),6)"
   ]
  },
  {
   "cell_type": "markdown",
   "id": "726940fb",
   "metadata": {},
   "source": [
    "14. Write a NumPy program to convert Centigrade degrees into Fahrenheit degrees."
   ]
  },
  {
   "cell_type": "markdown",
   "id": "78a254b1",
   "metadata": {},
   "source": [
    "15. Write a NumPy program to find the real and imaginary parts of an array of complex numbers.\n"
   ]
  },
  {
   "cell_type": "code",
   "execution_count": 54,
   "id": "b07f149c",
   "metadata": {},
   "outputs": [
    {
     "name": "stdout",
     "output_type": "stream",
     "text": [
      "Original arrays :\n",
      "[1.+0.j]\n",
      "[0.70710678+0.70710678j]\n",
      "'x' array real : [1.]\n",
      "'y' array real : [0.70710678]\n",
      "'x' array imaginary : [0.]\n",
      "'y' array imaginary : [0.70710678]\n"
     ]
    }
   ],
   "source": [
    "#x=np.array([1+0j])\n",
    "#y=np.array([0+1j])\n",
    "x=np.sqrt([1+0j])\n",
    "y=np.sqrt([0+1j])\n",
    "print(\"Original arrays :\")\n",
    "print(x)\n",
    "print(y)\n",
    "print(\"'x' array real :\",x.real)\n",
    "print(\"'y' array real :\",y.real)\n",
    "print(\"'x' array imaginary :\",x.imag)\n",
    "print(\"'y' array imaginary :\",y.imag)\n"
   ]
  },
  {
   "cell_type": "markdown",
   "id": "720238c3",
   "metadata": {},
   "source": [
    "16. Write a NumPy program to find the number of elements in an array. It also finds the length of one array element in bytes and the total bytes consumed by the elements.\n"
   ]
  },
  {
   "cell_type": "code",
   "execution_count": 57,
   "id": "9691c9d8",
   "metadata": {},
   "outputs": [
    {
     "name": "stdout",
     "output_type": "stream",
     "text": [
      "The number of elements in arr : 3\n",
      "The length of one element in bytes : 8\n",
      "The totsl bytes consumed by the elements : 24\n"
     ]
    }
   ],
   "source": [
    "arr=np.array([1,2,3],dtype=np.float64)\n",
    "print(\"The number of elements in arr :\",arr.size)\n",
    "print(\"The length of one element in bytes :\",arr.itemsize)\n",
    "print(\"The totsl bytes consumed by the elements :\",arr.nbytes)"
   ]
  },
  {
   "cell_type": "code",
   "execution_count": null,
   "id": "d356032f",
   "metadata": {},
   "outputs": [],
   "source": []
  }
 ],
 "metadata": {
  "kernelspec": {
   "display_name": "Python 3 (ipykernel)",
   "language": "python",
   "name": "python3"
  },
  "language_info": {
   "codemirror_mode": {
    "name": "ipython",
    "version": 3
   },
   "file_extension": ".py",
   "mimetype": "text/x-python",
   "name": "python",
   "nbconvert_exporter": "python",
   "pygments_lexer": "ipython3",
   "version": "3.10.9"
  }
 },
 "nbformat": 4,
 "nbformat_minor": 5
}
