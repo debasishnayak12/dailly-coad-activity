{
 "cells": [
  {
   "cell_type": "markdown",
   "id": "c484205e",
   "metadata": {},
   "source": [
    "# 81. \n",
    "- Write a Python program to concatenate N strings."
   ]
  },
  {
   "cell_type": "code",
   "execution_count": 1,
   "id": "2d8236bd",
   "metadata": {},
   "outputs": [],
   "source": [
    "my_list=[\"apple\",\"cycle\",\"Bike\",\"Orange\"]\n",
    "concatenate_list=\"-\".join(my_list)"
   ]
  },
  {
   "cell_type": "code",
   "execution_count": 2,
   "id": "ad8ee028",
   "metadata": {},
   "outputs": [
    {
     "data": {
      "text/plain": [
       "'apple-cycle-Bike-Orange'"
      ]
     },
     "execution_count": 2,
     "metadata": {},
     "output_type": "execute_result"
    }
   ],
   "source": [
    "concatenate_list"
   ]
  },
  {
   "cell_type": "markdown",
   "id": "4b12ebdc",
   "metadata": {},
   "source": [
    "# 82.\n",
    "- Write a Python program to calculate the sum of all items of a container (tuple, list, set, dictionary)."
   ]
  },
  {
   "cell_type": "code",
   "execution_count": 30,
   "id": "11c5529e",
   "metadata": {},
   "outputs": [],
   "source": [
    "l=[1,2,3]\n",
    "t=(1,2,3)\n",
    "d={\n",
    "    \"A\":1,\n",
    "    \"B\":2,\n",
    "    \"C\":3,\n",
    "    \"D\":4\n",
    "  }"
   ]
  },
  {
   "cell_type": "code",
   "execution_count": 31,
   "id": "2d39d38c",
   "metadata": {},
   "outputs": [
    {
     "data": {
      "text/plain": [
       "6"
      ]
     },
     "execution_count": 31,
     "metadata": {},
     "output_type": "execute_result"
    }
   ],
   "source": [
    "l_sum=sum(l)\n",
    "l_sum"
   ]
  },
  {
   "cell_type": "code",
   "execution_count": 32,
   "id": "9f84d2e1",
   "metadata": {},
   "outputs": [
    {
     "data": {
      "text/plain": [
       "6"
      ]
     },
     "execution_count": 32,
     "metadata": {},
     "output_type": "execute_result"
    }
   ],
   "source": [
    "t_sum=sum(t)\n",
    "t_sum"
   ]
  },
  {
   "cell_type": "code",
   "execution_count": 33,
   "id": "6b75eff6",
   "metadata": {},
   "outputs": [
    {
     "data": {
      "text/plain": [
       "10"
      ]
     },
     "execution_count": 33,
     "metadata": {},
     "output_type": "execute_result"
    }
   ],
   "source": [
    "d_sum=sum(d.values())\n",
    "d_sum"
   ]
  },
  {
   "cell_type": "code",
   "execution_count": 26,
   "id": "e7921f0a",
   "metadata": {},
   "outputs": [
    {
     "data": {
      "text/plain": [
       "dict"
      ]
     },
     "execution_count": 26,
     "metadata": {},
     "output_type": "execute_result"
    }
   ],
   "source": [
    "type(d)"
   ]
  },
  {
   "cell_type": "markdown",
   "id": "f9071077",
   "metadata": {},
   "source": [
    "# 3. \n",
    "- Write a Python program to test whether all numbers in a list are greater than a certain number."
   ]
  },
  {
   "cell_type": "code",
   "execution_count": 38,
   "id": "41f31705",
   "metadata": {},
   "outputs": [
    {
     "name": "stdout",
     "output_type": "stream",
     "text": [
      "3 is equal with number 3\n",
      "4 is greater than 3\n",
      "5 is greater than 3\n",
      "6 is greater than 3\n",
      "7 is greater than 3\n",
      "8 is greater than 3\n",
      "9 is greater than 3\n"
     ]
    }
   ],
   "source": [
    "n=3\n",
    "my_list=[3,4,5,6,7,8,9]\n",
    "for i in my_list:\n",
    "    if i > n:\n",
    "        print(f\"{i} is greater than {n}\")\n",
    "    elif i==n:\n",
    "        print(f\"{i} is equal with number {n}\")\n",
    "    else:\n",
    "        print(f\"{i} is lesser than {n}\")"
   ]
  },
  {
   "cell_type": "markdown",
   "id": "5727b4ff",
   "metadata": {},
   "source": [
    "# 84.\n",
    "- Write a Python program to count the number of occurrences of a specific character in a string."
   ]
  },
  {
   "cell_type": "code",
   "execution_count": 44,
   "id": "f2970eb2",
   "metadata": {},
   "outputs": [
    {
     "name": "stdout",
     "output_type": "stream",
     "text": [
      "a 2\n",
      "r 2\n",
      "r 2\n",
      "o 1\n",
      "g 1\n",
      "a 2\n",
      "n 1\n",
      "t 1\n"
     ]
    }
   ],
   "source": [
    "st=\"arrogant\"\n",
    "for i in st:\n",
    "    print(i,st.count(i))"
   ]
  },
  {
   "cell_type": "code",
   "execution_count": 46,
   "id": "1419250b",
   "metadata": {},
   "outputs": [
    {
     "data": {
      "text/plain": [
       "2"
      ]
     },
     "execution_count": 46,
     "metadata": {},
     "output_type": "execute_result"
    }
   ],
   "source": [
    "# count occurance for a\n",
    "st.count(\"a\")"
   ]
  },
  {
   "cell_type": "markdown",
   "id": "2a9984c3",
   "metadata": {},
   "source": [
    "# 85.\n",
    "- Write a Python program to check whether a file path is a file or a directory."
   ]
  },
  {
   "cell_type": "code",
   "execution_count": 47,
   "id": "48651f09",
   "metadata": {},
   "outputs": [
    {
     "name": "stdout",
     "output_type": "stream",
     "text": [
      "This is a file \n"
     ]
    }
   ],
   "source": [
    "import os\n",
    "file=\"iris.csv\"\n",
    "\n",
    "# check wheter it is a file or not\n",
    "if os.path.isfile(file):\n",
    "    print(\"This is a file \")\n",
    "elif os.path.isdir(file): # check whether it is a file path or not \n",
    "    print('\\nThis is a file path ')\n",
    "else:\n",
    "    print(\"this is a special file or device file\") # if it is not a file or path it obviously a special file "
   ]
  },
  {
   "cell_type": "markdown",
   "id": "0a642385",
   "metadata": {},
   "source": [
    "# 86.\n",
    "- Write a Python program to get the ASCII value of a character."
   ]
  },
  {
   "cell_type": "code",
   "execution_count": 2,
   "id": "9ff1d8d1",
   "metadata": {},
   "outputs": [
    {
     "name": "stdout",
     "output_type": "stream",
     "text": [
      "ASCII code for a : 97\n",
      "ASCII code for A : 65\n",
      "ASCII code for 1 : 50\n",
      "ASCII code for @ : 64\n"
     ]
    }
   ],
   "source": [
    "# find the unicode for character a\n",
    "print(\"ASCII code for a :\",ord(('a')))\n",
    "\n",
    "#find the unicode for A\n",
    "print(\"ASCII code for A :\",ord(('A')))\n",
    "\n",
    "#fiind the unicide for 2\n",
    "print(\"ASCII code for 1 :\",ord(('2')))\n",
    "\n",
    "# find the unicode for @\n",
    "print(\"ASCII code for @ :\",ord(('@')))"
   ]
  },
  {
   "cell_type": "markdown",
   "id": "3727dce4",
   "metadata": {},
   "source": [
    "# 87.\n",
    "- Write a Python program to get the size of a file."
   ]
  },
  {
   "cell_type": "code",
   "execution_count": 12,
   "id": "d9ba14eb",
   "metadata": {},
   "outputs": [
    {
     "name": "stdout",
     "output_type": "stream",
     "text": [
      "File size of iris.csv in bytes : 3716 bytes\n"
     ]
    }
   ],
   "source": [
    "import os\n",
    "f_size=os.path.getsize(\"iris.csv\")\n",
    "print(\"File size of iris.csv in bytes :\",f_size,\"bytes\")"
   ]
  },
  {
   "cell_type": "code",
   "execution_count": 7,
   "id": "3acf0c61",
   "metadata": {},
   "outputs": [],
   "source": [
    "# another trick to find the size of file\n",
    "file_size=os.stat(\"iris.csv\")"
   ]
  },
  {
   "cell_type": "code",
   "execution_count": 10,
   "id": "fa06a245",
   "metadata": {},
   "outputs": [
    {
     "data": {
      "text/plain": [
       "3716"
      ]
     },
     "execution_count": 10,
     "metadata": {},
     "output_type": "execute_result"
    }
   ],
   "source": [
    "file_size.st_size"
   ]
  },
  {
   "cell_type": "markdown",
   "id": "faa7bbd8",
   "metadata": {},
   "source": [
    "# 88.\n",
    "- Given variables x=30 and y=20, write a Python program to print \"30+20=50\"."
   ]
  },
  {
   "cell_type": "code",
   "execution_count": 13,
   "id": "54dc6a58",
   "metadata": {},
   "outputs": [
    {
     "name": "stdout",
     "output_type": "stream",
     "text": [
      "30+20=50\n"
     ]
    }
   ],
   "source": [
    "x=30\n",
    "y=20\n",
    "sum=x+y\n",
    "print(f\"{x}+{y}={sum}\")"
   ]
  },
  {
   "cell_type": "markdown",
   "id": "c87125c7",
   "metadata": {},
   "source": [
    "# 89.\n",
    "- Write a Python program to perform an action if a condition is true.\n",
    "Given a variable name, if the value is 1, display the string \"First day of a Month!\" and do nothing if the value is not equal."
   ]
  },
  {
   "cell_type": "code",
   "execution_count": 19,
   "id": "0c115569",
   "metadata": {},
   "outputs": [
    {
     "name": "stdout",
     "output_type": "stream",
     "text": [
      "First day of a Month!\n"
     ]
    }
   ],
   "source": [
    "x=[1,2,3,4,5]\n",
    "if len(x)==5:\n",
    "    if x[0]==1:\n",
    "        print( \"First day of a Month!\")\n",
    "    else:\n",
    "        pass\n",
    "    "
   ]
  },
  {
   "cell_type": "code",
   "execution_count": 23,
   "id": "cc097e0a",
   "metadata": {},
   "outputs": [
    {
     "name": "stdout",
     "output_type": "stream",
     "text": [
      "First day of a Month!\n"
     ]
    }
   ],
   "source": [
    "# or\n",
    "x=1\n",
    "if x==1:\n",
    "    print(\"First day of a Month!\")\n",
    "else:\n",
    "    pass"
   ]
  },
  {
   "cell_type": "markdown",
   "id": "1348c47c",
   "metadata": {},
   "source": [
    "# 90. \n",
    "- Write a Python program to create a copy of its own source code."
   ]
  },
  {
   "cell_type": "code",
   "execution_count": 56,
   "id": "a2ed9010",
   "metadata": {},
   "outputs": [
    {
     "name": "stdout",
     "output_type": "stream",
     "text": [
      ",0\n",
      " 0,1\n",
      " 1,2\n",
      " 2,3\n",
      " 3,4\n",
      " "
     ]
    }
   ],
   "source": [
    "def file_copy(src,dest):\n",
    "    with open(src) as f,open(dest,'w') as d:\n",
    "        \n",
    "        file_copy(\"iris.csv\",\"data.csv\")\n",
    "\n",
    "with open(\"data.csv\",'r') as c_file:\n",
    "    for i in c_file:\n",
    "        print(i,end=\" \")"
   ]
  },
  {
   "cell_type": "markdown",
   "id": "5813198a",
   "metadata": {},
   "source": [
    "# 91. \n",
    "- Write a Python program to swap two variables."
   ]
  },
  {
   "cell_type": "code",
   "execution_count": 60,
   "id": "46cf1135",
   "metadata": {},
   "outputs": [
    {
     "name": "stdout",
     "output_type": "stream",
     "text": [
      "Initial value of x is : 50\n",
      "Initial value of y is :40\n",
      "\n",
      "After swap x is : 40\n",
      "After swap y is : 50\n"
     ]
    }
   ],
   "source": [
    "x=50\n",
    "y=40\n",
    "print(\"Initial value of x is : %d\"%x)\n",
    "print(\"Initial value of y is :%d\"%y)\n",
    "\n",
    "z=y\n",
    "y=x\n",
    "x=z\n",
    "print()\n",
    "print(\"After swap x is : %d\"%x)\n",
    "print(\"After swap y is : %d\"%y)"
   ]
  },
  {
   "cell_type": "markdown",
   "id": "5dff7e53",
   "metadata": {},
   "source": [
    "# 92.\n",
    "- Write a Python program to define a string containing special characters in various forms."
   ]
  },
  {
   "cell_type": "code",
   "execution_count": 65,
   "id": "a1c6a983",
   "metadata": {},
   "outputs": [
    {
     "name": "stdout",
     "output_type": "stream",
     "text": [
      "/{}&[]$/*\n",
      "\n",
      "/{'''}/*#@::\n",
      "\n",
      "/()/@/#{/}\n"
     ]
    }
   ],
   "source": [
    "print(\"/{}&[]$/*\")\n",
    "print()\n",
    "print(\"/{'''}/*#@::\")\n",
    "print()\n",
    "print(\"/()\"\"/\"\"@/#\"\"{/}\")"
   ]
  },
  {
   "cell_type": "markdown",
   "id": "f735af1f",
   "metadata": {},
   "source": [
    "# 93.\n",
    "- Write a Python program to get the Identity, Type, and Value of an object."
   ]
  },
  {
   "cell_type": "code",
   "execution_count": 69,
   "id": "32ed904e",
   "metadata": {},
   "outputs": [
    {
     "name": "stdout",
     "output_type": "stream",
     "text": [
      "Identity of x : 20\n",
      "\n",
      "Type of x : <class 'int'>\n",
      "\n",
      "Value of x : 2644368032592\n"
     ]
    }
   ],
   "source": [
    "x=20\n",
    "#identity \n",
    "print(\"Identity of x :\",x)\n",
    "# type of x\n",
    "print(\"\\nType of x :\",type(x))\n",
    "\n",
    "# value means id of x\n",
    "print(\"\\nValue of x :\",id(x))"
   ]
  },
  {
   "cell_type": "markdown",
   "id": "c725172b",
   "metadata": {},
   "source": [
    "# 94. \n",
    "- Write a Python program to convert the bytes in a given string to a list of integers."
   ]
  },
  {
   "cell_type": "code",
   "execution_count": 75,
   "id": "ed571265",
   "metadata": {},
   "outputs": [
    {
     "name": "stdout",
     "output_type": "stream",
     "text": [
      "converts the bytes into a list :\n",
      "[97, 98, 99]\n"
     ]
    }
   ],
   "source": [
    "x=b\"abc\"\n",
    "print(\"converts the bytes into a list :\")\n",
    "\n",
    "print(list(x))"
   ]
  },
  {
   "cell_type": "markdown",
   "id": "68a67b09",
   "metadata": {},
   "source": [
    "# 95.\n",
    "- Write a Python program to check whether a string is numeric."
   ]
  },
  {
   "cell_type": "code",
   "execution_count": 81,
   "id": "e0366765",
   "metadata": {},
   "outputs": [
    {
     "name": "stdout",
     "output_type": "stream",
     "text": [
      "The string is numeric\n"
     ]
    }
   ],
   "source": [
    "x=\"12345\"\n",
    "try:\n",
    "    i=float(x)\n",
    "    print(\"The string is numeric\")\n",
    "except (\"value error / type error\"):\n",
    "    print(\"The string not a numeric\")"
   ]
  },
  {
   "cell_type": "markdown",
   "id": "ccf19b3f",
   "metadata": {},
   "source": [
    "# 96.\n",
    "- Write a Python program to print the current call stack."
   ]
  },
  {
   "cell_type": "code",
   "execution_count": 82,
   "id": "2488ba08",
   "metadata": {},
   "outputs": [
    {
     "name": "stderr",
     "output_type": "stream",
     "text": [
      "  File \"C:\\Users\\madhu\\anaconda3\\lib\\runpy.py\", line 196, in _run_module_as_main\n",
      "    return _run_code(code, main_globals, None,\n",
      "  File \"C:\\Users\\madhu\\anaconda3\\lib\\runpy.py\", line 86, in _run_code\n",
      "    exec(code, run_globals)\n",
      "  File \"C:\\Users\\madhu\\anaconda3\\lib\\site-packages\\ipykernel_launcher.py\", line 17, in <module>\n",
      "    app.launch_new_instance()\n",
      "  File \"C:\\Users\\madhu\\anaconda3\\lib\\site-packages\\traitlets\\config\\application.py\", line 992, in launch_instance\n",
      "    app.start()\n",
      "  File \"C:\\Users\\madhu\\anaconda3\\lib\\site-packages\\ipykernel\\kernelapp.py\", line 711, in start\n",
      "    self.io_loop.start()\n",
      "  File \"C:\\Users\\madhu\\anaconda3\\lib\\site-packages\\tornado\\platform\\asyncio.py\", line 199, in start\n",
      "    self.asyncio_loop.run_forever()\n",
      "  File \"C:\\Users\\madhu\\anaconda3\\lib\\asyncio\\base_events.py\", line 603, in run_forever\n",
      "    self._run_once()\n",
      "  File \"C:\\Users\\madhu\\anaconda3\\lib\\asyncio\\base_events.py\", line 1906, in _run_once\n",
      "    handle._run()\n",
      "  File \"C:\\Users\\madhu\\anaconda3\\lib\\asyncio\\events.py\", line 80, in _run\n",
      "    self._context.run(self._callback, *self._args)\n",
      "  File \"C:\\Users\\madhu\\anaconda3\\lib\\site-packages\\ipykernel\\kernelbase.py\", line 510, in dispatch_queue\n",
      "    await self.process_one()\n",
      "  File \"C:\\Users\\madhu\\anaconda3\\lib\\site-packages\\ipykernel\\kernelbase.py\", line 499, in process_one\n",
      "    await dispatch(*args)\n",
      "  File \"C:\\Users\\madhu\\anaconda3\\lib\\site-packages\\ipykernel\\kernelbase.py\", line 406, in dispatch_shell\n",
      "    await result\n",
      "  File \"C:\\Users\\madhu\\anaconda3\\lib\\site-packages\\ipykernel\\kernelbase.py\", line 729, in execute_request\n",
      "    reply_content = await reply_content\n",
      "  File \"C:\\Users\\madhu\\anaconda3\\lib\\site-packages\\ipykernel\\ipkernel.py\", line 411, in do_execute\n",
      "    res = shell.run_cell(\n",
      "  File \"C:\\Users\\madhu\\anaconda3\\lib\\site-packages\\ipykernel\\zmqshell.py\", line 531, in run_cell\n",
      "    return super().run_cell(*args, **kwargs)\n",
      "  File \"C:\\Users\\madhu\\anaconda3\\lib\\site-packages\\IPython\\core\\interactiveshell.py\", line 2961, in run_cell\n",
      "    result = self._run_cell(\n",
      "  File \"C:\\Users\\madhu\\anaconda3\\lib\\site-packages\\IPython\\core\\interactiveshell.py\", line 3016, in _run_cell\n",
      "    result = runner(coro)\n",
      "  File \"C:\\Users\\madhu\\anaconda3\\lib\\site-packages\\IPython\\core\\async_helpers.py\", line 129, in _pseudo_sync_runner\n",
      "    coro.send(None)\n",
      "  File \"C:\\Users\\madhu\\anaconda3\\lib\\site-packages\\IPython\\core\\interactiveshell.py\", line 3221, in run_cell_async\n",
      "    has_raised = await self.run_ast_nodes(code_ast.body, cell_name,\n",
      "  File \"C:\\Users\\madhu\\anaconda3\\lib\\site-packages\\IPython\\core\\interactiveshell.py\", line 3400, in run_ast_nodes\n",
      "    if await self.run_code(code, result, async_=asy):\n",
      "  File \"C:\\Users\\madhu\\anaconda3\\lib\\site-packages\\IPython\\core\\interactiveshell.py\", line 3460, in run_code\n",
      "    exec(code_obj, self.user_global_ns, self.user_ns)\n",
      "  File \"C:\\Users\\madhu\\AppData\\Local\\Temp\\ipykernel_18880\\4212440723.py\", line 6, in <module>\n",
      "    fun()\n",
      "  File \"C:\\Users\\madhu\\AppData\\Local\\Temp\\ipykernel_18880\\4212440723.py\", line 3, in fun\n",
      "    return abc()\n",
      "  File \"C:\\Users\\madhu\\AppData\\Local\\Temp\\ipykernel_18880\\4212440723.py\", line 5, in abc\n",
      "    traceback.print_stack()\n"
     ]
    }
   ],
   "source": [
    "import traceback\n",
    "def fun():\n",
    "    return abc()\n",
    "def abc():\n",
    "    traceback.print_stack()\n",
    "fun()"
   ]
  },
  {
   "cell_type": "markdown",
   "id": "0e1d232c",
   "metadata": {},
   "source": [
    "# 97. \n",
    "- Write a Python program to list the special variables used in the language."
   ]
  },
  {
   "cell_type": "code",
   "execution_count": null,
   "id": "e36068ad",
   "metadata": {},
   "outputs": [],
   "source": []
  },
  {
   "cell_type": "code",
   "execution_count": null,
   "id": "ee39d807",
   "metadata": {},
   "outputs": [],
   "source": []
  },
  {
   "cell_type": "markdown",
   "id": "8f3321bb",
   "metadata": {},
   "source": [
    "# 98.\n",
    "- Write a Python program to get system time.\n",
    "\n",
    "- Note : The system time is important for debugging, network information, random number seeds, or something as simple as program performance."
   ]
  },
  {
   "cell_type": "code",
   "execution_count": 105,
   "id": "b88315f9",
   "metadata": {},
   "outputs": [
    {
     "name": "stdout",
     "output_type": "stream",
     "text": [
      "Mon Nov 27 21:08:26 2023\n"
     ]
    }
   ],
   "source": [
    "import time\n",
    "time=time.ctime()\n",
    "print(time)"
   ]
  },
  {
   "cell_type": "markdown",
   "id": "2e8f6670",
   "metadata": {},
   "source": [
    "# 99. \n",
    "- Write a Python program to clear the screen or terminal."
   ]
  },
  {
   "cell_type": "code",
   "execution_count": 108,
   "id": "b93451a0",
   "metadata": {},
   "outputs": [
    {
     "data": {
      "text/plain": [
       "1"
      ]
     },
     "execution_count": 108,
     "metadata": {},
     "output_type": "execute_result"
    }
   ],
   "source": [
    "import time\n",
    "import os\n",
    "\n",
    "os.system(\"ls\") # this command for listing all contents in current dir\n",
    "\n",
    "time.sleep(2)\n",
    "os.system(\"clear\")"
   ]
  },
  {
   "cell_type": "markdown",
   "id": "231dd865",
   "metadata": {},
   "source": [
    "# 100.\n",
    "- Write a Python program to get the name of the host on which the routine is running."
   ]
  },
  {
   "cell_type": "code",
   "execution_count": 109,
   "id": "fe2593fc",
   "metadata": {},
   "outputs": [],
   "source": [
    "import socket\n",
    "host_name=socket.gethostname()"
   ]
  },
  {
   "cell_type": "code",
   "execution_count": 110,
   "id": "559daba4",
   "metadata": {},
   "outputs": [
    {
     "name": "stdout",
     "output_type": "stream",
     "text": [
      "The host name is : PM-Sonali\n"
     ]
    }
   ],
   "source": [
    "print(\"The host name is :\",host_name)"
   ]
  },
  {
   "cell_type": "code",
   "execution_count": null,
   "id": "0f04af30",
   "metadata": {},
   "outputs": [],
   "source": []
  }
 ],
 "metadata": {
  "kernelspec": {
   "display_name": "Python 3 (ipykernel)",
   "language": "python",
   "name": "python3"
  },
  "language_info": {
   "codemirror_mode": {
    "name": "ipython",
    "version": 3
   },
   "file_extension": ".py",
   "mimetype": "text/x-python",
   "name": "python",
   "nbconvert_exporter": "python",
   "pygments_lexer": "ipython3",
   "version": "3.10.9"
  }
 },
 "nbformat": 4,
 "nbformat_minor": 5
}
