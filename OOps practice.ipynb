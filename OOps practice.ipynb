{
 "cells": [
  {
   "cell_type": "code",
   "execution_count": 15,
   "id": "c4c30921",
   "metadata": {},
   "outputs": [],
   "source": [
    "#lets create a class\n",
    "class laptop:\n",
    "    def __init__(self,brand,model_name,color):\n",
    "        self.brand=brand\n",
    "        self.model_name=model_name\n",
    "        self.color=color\n",
    "        self.details=brand+' '+model_name+' '+color\n",
    "        \n",
    "laptop1=laptop(\"Lenevo\",\"corei3\",\"brown\")"
   ]
  },
  {
   "cell_type": "code",
   "execution_count": 16,
   "id": "af2415ad",
   "metadata": {},
   "outputs": [
    {
     "data": {
      "text/plain": [
       "'Lenevo'"
      ]
     },
     "execution_count": 16,
     "metadata": {},
     "output_type": "execute_result"
    }
   ],
   "source": [
    "laptop1.brand"
   ]
  },
  {
   "cell_type": "code",
   "execution_count": 17,
   "id": "ef3afe77",
   "metadata": {},
   "outputs": [
    {
     "data": {
      "text/plain": [
       "'corei3'"
      ]
     },
     "execution_count": 17,
     "metadata": {},
     "output_type": "execute_result"
    }
   ],
   "source": [
    "laptop1.model_name"
   ]
  },
  {
   "cell_type": "code",
   "execution_count": 18,
   "id": "46ec01dc",
   "metadata": {},
   "outputs": [
    {
     "data": {
      "text/plain": [
       "'brown'"
      ]
     },
     "execution_count": 18,
     "metadata": {},
     "output_type": "execute_result"
    }
   ],
   "source": [
    "laptop1.color"
   ]
  },
  {
   "cell_type": "code",
   "execution_count": 19,
   "id": "bb00b465",
   "metadata": {},
   "outputs": [
    {
     "data": {
      "text/plain": [
       "'Lenevo corei3 brown'"
      ]
     },
     "execution_count": 19,
     "metadata": {},
     "output_type": "execute_result"
    }
   ],
   "source": [
    "laptop1.details"
   ]
  },
  {
   "cell_type": "code",
   "execution_count": 20,
   "id": "7a3ad4b0",
   "metadata": {},
   "outputs": [],
   "source": [
    "class person:\n",
    "    def __init__(self,name,last_name):\n",
    "        self.name=name\n",
    "        self.last_name=last_name\n",
    "        \n",
    "    def __str__(self):\n",
    "        return f\"The name is {self.name} and the last name is {self.last_name}\"\n",
    "    "
   ]
  },
  {
   "cell_type": "code",
   "execution_count": 21,
   "id": "eb3a8e6b",
   "metadata": {},
   "outputs": [],
   "source": [
    "person1=person(\"Debasish\",\"Nayak\")"
   ]
  },
  {
   "cell_type": "code",
   "execution_count": 23,
   "id": "10443c7c",
   "metadata": {},
   "outputs": [
    {
     "name": "stdout",
     "output_type": "stream",
     "text": [
      "The name is Debasish and the last name is Nayak\n"
     ]
    }
   ],
   "source": [
    "print(person1)"
   ]
  },
  {
   "cell_type": "code",
   "execution_count": 82,
   "id": "5e065c9a",
   "metadata": {},
   "outputs": [],
   "source": [
    "# lest create a new class bankaccount\n",
    "class BankAccount:\n",
    "    def __init__(self,account_holder,account_no,balance=0):\n",
    "        self.account_holder=account_holder\n",
    "        self.account_no=account_no\n",
    "        self.balance=balance\n",
    "        \n",
    "    def deposit(self,amount):\n",
    "        self.balance=self.balance+amount\n",
    "        \n",
    "    def withdrawl(self,withdrawl_amount):\n",
    "        if withdrawl_amount<=self.balance:\n",
    "            self.balance=self.balance-withdrawl_amount\n",
    "        else:\n",
    "            print(f\"Insufficient balance and your balance is {self.balance}\")\n",
    "        \n",
    "        \n",
    "    \n",
    "    "
   ]
  },
  {
   "cell_type": "code",
   "execution_count": 83,
   "id": "812ab39d",
   "metadata": {},
   "outputs": [],
   "source": [
    "account1=BankAccount(\"Debasish\",\"100293802\",0)"
   ]
  },
  {
   "cell_type": "code",
   "execution_count": 84,
   "id": "ed686a64",
   "metadata": {},
   "outputs": [
    {
     "data": {
      "text/plain": [
       "0"
      ]
     },
     "execution_count": 84,
     "metadata": {},
     "output_type": "execute_result"
    }
   ],
   "source": [
    "account1.balance"
   ]
  },
  {
   "cell_type": "code",
   "execution_count": 85,
   "id": "81384fd5",
   "metadata": {},
   "outputs": [
    {
     "data": {
      "text/plain": [
       "'Debasish'"
      ]
     },
     "execution_count": 85,
     "metadata": {},
     "output_type": "execute_result"
    }
   ],
   "source": [
    "account1.account_holder"
   ]
  },
  {
   "cell_type": "code",
   "execution_count": 86,
   "id": "968c9f5c",
   "metadata": {},
   "outputs": [
    {
     "data": {
      "text/plain": [
       "'100293802'"
      ]
     },
     "execution_count": 86,
     "metadata": {},
     "output_type": "execute_result"
    }
   ],
   "source": [
    "account1.account_no"
   ]
  },
  {
   "cell_type": "code",
   "execution_count": 87,
   "id": "5b78f466",
   "metadata": {},
   "outputs": [],
   "source": [
    "account1.deposit(100)"
   ]
  },
  {
   "cell_type": "code",
   "execution_count": 88,
   "id": "8a4cd170",
   "metadata": {},
   "outputs": [
    {
     "data": {
      "text/plain": [
       "100"
      ]
     },
     "execution_count": 88,
     "metadata": {},
     "output_type": "execute_result"
    }
   ],
   "source": [
    "account1.balance"
   ]
  },
  {
   "cell_type": "code",
   "execution_count": 89,
   "id": "7fdffa8c",
   "metadata": {},
   "outputs": [],
   "source": [
    "account1.withdrawl(50)"
   ]
  },
  {
   "cell_type": "code",
   "execution_count": 90,
   "id": "e2d67e37",
   "metadata": {},
   "outputs": [
    {
     "data": {
      "text/plain": [
       "50"
      ]
     },
     "execution_count": 90,
     "metadata": {},
     "output_type": "execute_result"
    }
   ],
   "source": [
    "account1.balance"
   ]
  },
  {
   "cell_type": "code",
   "execution_count": 91,
   "id": "d64f3ff9",
   "metadata": {},
   "outputs": [],
   "source": [
    "account1.deposit(1000)"
   ]
  },
  {
   "cell_type": "code",
   "execution_count": 92,
   "id": "2cabab46",
   "metadata": {},
   "outputs": [
    {
     "data": {
      "text/plain": [
       "1050"
      ]
     },
     "execution_count": 92,
     "metadata": {},
     "output_type": "execute_result"
    }
   ],
   "source": [
    "account1.balance"
   ]
  },
  {
   "cell_type": "code",
   "execution_count": 93,
   "id": "acda4973",
   "metadata": {},
   "outputs": [
    {
     "name": "stdout",
     "output_type": "stream",
     "text": [
      "Insufficient balance and your balance is 1050\n"
     ]
    }
   ],
   "source": [
    "account1.withdrawl(1200)"
   ]
  },
  {
   "cell_type": "code",
   "execution_count": 102,
   "id": "9021740c",
   "metadata": {},
   "outputs": [],
   "source": [
    "# class representing a todo list \n",
    "class Todolist:\n",
    "    #constructor\n",
    "    def __init__(self,owner):\n",
    "        self.owner=owner\n",
    "        self.tasks=[]\n",
    "        \n",
    "    def add_task(self,task):\n",
    "        self.tasks.append(task)\n",
    "        \n",
    "    def complete_task(self,task):\n",
    "        if task in self.tasks:\n",
    "            self.tasks.remove(task)\n",
    "            print(f\"task '{task}' completed\")\n",
    "        else:\n",
    "            print(\"The task is not  found \")\n",
    "            \n",
    "    def display_tasks(self):\n",
    "        print(f\"The task for {self.owner} :\")\n",
    "        for task in self.tasks:\n",
    "            print(task)"
   ]
  },
  {
   "cell_type": "code",
   "execution_count": 103,
   "id": "684d8525",
   "metadata": {},
   "outputs": [],
   "source": [
    "todolist1=Todolist(\"Debasish\")"
   ]
  },
  {
   "cell_type": "code",
   "execution_count": 104,
   "id": "b80871d3",
   "metadata": {},
   "outputs": [],
   "source": [
    "todolist1.add_task(\"To call mother\")"
   ]
  },
  {
   "cell_type": "code",
   "execution_count": 105,
   "id": "03195c2e",
   "metadata": {},
   "outputs": [
    {
     "data": {
      "text/plain": [
       "['To call mother']"
      ]
     },
     "execution_count": 105,
     "metadata": {},
     "output_type": "execute_result"
    }
   ],
   "source": [
    "todolist1.tasks"
   ]
  },
  {
   "cell_type": "code",
   "execution_count": 106,
   "id": "3cf0ad7d",
   "metadata": {},
   "outputs": [
    {
     "name": "stdout",
     "output_type": "stream",
     "text": [
      "The task for Debasish :\n",
      "To call mother\n"
     ]
    }
   ],
   "source": [
    "todolist1.display_tasks()"
   ]
  },
  {
   "cell_type": "code",
   "execution_count": 107,
   "id": "7a3a39c1",
   "metadata": {},
   "outputs": [
    {
     "name": "stdout",
     "output_type": "stream",
     "text": [
      "The task is not  found \n"
     ]
    }
   ],
   "source": [
    "todolist1.complete_task(\"cook rice meal for lunch \")"
   ]
  },
  {
   "cell_type": "code",
   "execution_count": 108,
   "id": "a13a8c6e",
   "metadata": {},
   "outputs": [
    {
     "name": "stdout",
     "output_type": "stream",
     "text": [
      "task 'To call mother' completed\n"
     ]
    }
   ],
   "source": [
    "todolist1.complete_task(('To call mother'))"
   ]
  },
  {
   "cell_type": "code",
   "execution_count": 134,
   "id": "ad272132",
   "metadata": {},
   "outputs": [],
   "source": [
    "class BankAccount:\n",
    "    def __init__(self,account_no,account_holder,balance=0):\n",
    "        self.account_no=account_no\n",
    "        self.account_holder=account_holder\n",
    "        self.balance=balance\n",
    "        "
   ]
  },
  {
   "cell_type": "code",
   "execution_count": 135,
   "id": "a843c623",
   "metadata": {},
   "outputs": [],
   "source": [
    "acocunt1=BankAccount(1239493,\"Debasish\",0)"
   ]
  },
  {
   "cell_type": "code",
   "execution_count": 136,
   "id": "01e3161a",
   "metadata": {},
   "outputs": [
    {
     "data": {
      "text/plain": [
       "'Debasish'"
      ]
     },
     "execution_count": 136,
     "metadata": {},
     "output_type": "execute_result"
    }
   ],
   "source": [
    "account1.account_holder"
   ]
  },
  {
   "cell_type": "code",
   "execution_count": 137,
   "id": "9b6661dd",
   "metadata": {},
   "outputs": [
    {
     "data": {
      "text/plain": [
       "0"
      ]
     },
     "execution_count": 137,
     "metadata": {},
     "output_type": "execute_result"
    }
   ],
   "source": [
    "acocunt1.balance"
   ]
  },
  {
   "cell_type": "code",
   "execution_count": 139,
   "id": "a5872fbc",
   "metadata": {},
   "outputs": [
    {
     "data": {
      "text/plain": [
       "'100293802'"
      ]
     },
     "execution_count": 139,
     "metadata": {},
     "output_type": "execute_result"
    }
   ],
   "source": [
    "account1.account_no"
   ]
  },
  {
   "cell_type": "code",
   "execution_count": 141,
   "id": "081dc0ae",
   "metadata": {},
   "outputs": [
    {
     "name": "stdout",
     "output_type": "stream",
     "text": [
      "<__main__.BankAccount object at 0x0000021786049F90>\n"
     ]
    }
   ],
   "source": [
    "print(account1)"
   ]
  },
  {
   "cell_type": "code",
   "execution_count": 142,
   "id": "56beb989",
   "metadata": {},
   "outputs": [],
   "source": [
    "class Animal:\n",
    "    def __init__(self,name,brand):\n",
    "        self.name=name\n",
    "        self.brand=brand\n",
    "        \n",
    "    def voice(self,sound):\n",
    "        self.sound=sound\n",
    "        return f\"The {self.name} create sound {self.sound}\""
   ]
  },
  {
   "cell_type": "code",
   "execution_count": 144,
   "id": "1ceaa43a",
   "metadata": {},
   "outputs": [],
   "source": [
    "dog=Animal(\"dog\",\"Labrador\")"
   ]
  },
  {
   "cell_type": "code",
   "execution_count": 146,
   "id": "67af7d82",
   "metadata": {},
   "outputs": [
    {
     "data": {
      "text/plain": [
       "'The dog create sound boo boo'"
      ]
     },
     "execution_count": 146,
     "metadata": {},
     "output_type": "execute_result"
    }
   ],
   "source": [
    "dog.voice(\"boo boo\")"
   ]
  },
  {
   "cell_type": "code",
   "execution_count": null,
   "id": "a40e62c9",
   "metadata": {},
   "outputs": [],
   "source": []
  }
 ],
 "metadata": {
  "kernelspec": {
   "display_name": "Python 3 (ipykernel)",
   "language": "python",
   "name": "python3"
  },
  "language_info": {
   "codemirror_mode": {
    "name": "ipython",
    "version": 3
   },
   "file_extension": ".py",
   "mimetype": "text/x-python",
   "name": "python",
   "nbconvert_exporter": "python",
   "pygments_lexer": "ipython3",
   "version": "3.10.9"
  }
 },
 "nbformat": 4,
 "nbformat_minor": 5
}
