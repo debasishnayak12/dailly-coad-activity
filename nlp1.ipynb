{
 "cells": [
  {
   "cell_type": "code",
   "execution_count": 1,
   "metadata": {},
   "outputs": [
    {
     "name": "stdout",
     "output_type": "stream",
     "text": [
      "Requirement already satisfied: nltk in c:\\users\\madhu\\anaconda3\\lib\\site-packages (3.7)\n",
      "Requirement already satisfied: joblib in c:\\users\\madhu\\anaconda3\\lib\\site-packages (from nltk) (1.3.1)\n",
      "Requirement already satisfied: regex>=2021.8.3 in c:\\users\\madhu\\anaconda3\\lib\\site-packages (from nltk) (2022.7.9)\n",
      "Requirement already satisfied: tqdm in c:\\users\\madhu\\anaconda3\\lib\\site-packages (from nltk) (4.66.5)\n",
      "Requirement already satisfied: click in c:\\users\\madhu\\anaconda3\\lib\\site-packages (from nltk) (8.1.7)\n",
      "Requirement already satisfied: colorama in c:\\users\\madhu\\anaconda3\\lib\\site-packages (from click->nltk) (0.4.6)\n"
     ]
    },
    {
     "name": "stderr",
     "output_type": "stream",
     "text": [
      "WARNING: Ignoring invalid distribution -lask (c:\\users\\madhu\\anaconda3\\lib\\site-packages)\n",
      "WARNING: Ignoring invalid distribution -atplotlib (c:\\users\\madhu\\anaconda3\\lib\\site-packages)\n",
      "WARNING: Ignoring invalid distribution -lask (c:\\users\\madhu\\anaconda3\\lib\\site-packages)\n",
      "WARNING: Ignoring invalid distribution -atplotlib (c:\\users\\madhu\\anaconda3\\lib\\site-packages)\n",
      "WARNING: Ignoring invalid distribution -lask (c:\\users\\madhu\\anaconda3\\lib\\site-packages)\n",
      "WARNING: Ignoring invalid distribution -atplotlib (c:\\users\\madhu\\anaconda3\\lib\\site-packages)\n",
      "WARNING: Ignoring invalid distribution -lask (c:\\users\\madhu\\anaconda3\\lib\\site-packages)\n",
      "WARNING: Ignoring invalid distribution -atplotlib (c:\\users\\madhu\\anaconda3\\lib\\site-packages)\n",
      "WARNING: Ignoring invalid distribution -lask (c:\\users\\madhu\\anaconda3\\lib\\site-packages)\n",
      "WARNING: Ignoring invalid distribution -atplotlib (c:\\users\\madhu\\anaconda3\\lib\\site-packages)\n",
      "WARNING: Ignoring invalid distribution -lask (c:\\users\\madhu\\anaconda3\\lib\\site-packages)\n",
      "WARNING: Ignoring invalid distribution -atplotlib (c:\\users\\madhu\\anaconda3\\lib\\site-packages)\n"
     ]
    }
   ],
   "source": [
    "!pip install nltk"
   ]
  },
  {
   "cell_type": "code",
   "execution_count": 4,
   "metadata": {},
   "outputs": [],
   "source": [
    "paragraph = \"\"\"\n",
    "Modi was born and raised in Vadnagar in northeastern Gujarat,\n",
    "where he completed his secondary education. He was introduced to the RSS at the age of eight.\n",
    "At the age of 18, he was married to Jashodaben Modi, whom he abandoned soon after, \n",
    "only publicly acknowledging her four decades later when legally required to do so. Modi became a full-time worker for the \n",
    "RSS in Gujarat in 1971. The RSS assigned him to the BJP in 1985 and he rose through the party hierarchy, becoming general \n",
    "secretary in 1998.[b] In 2001, Modi was appointed Chief Minister of Gujarat and elected to the legislative assembly \n",
    "soon after. His administration is considered complicit in the 2002 Gujarat riots,[c] and has been criticised for its \n",
    "management of the crisis. According to official records, a little over 1,000 people were killed, three-quarters of\n",
    "whom were Muslim; independent sources estimated 2,000 deaths, mostly Muslim.[13] A Special Investigation Team\n",
    "appointed by the Supreme Court of India in 2012 found no evidence to initiate prosecution proceedings against him.\n",
    "\"\"\"\n"
   ]
  },
  {
   "cell_type": "code",
   "execution_count": 5,
   "metadata": {},
   "outputs": [
    {
     "data": {
      "text/plain": [
       "'\\nModi was born and raised in Vadnagar in northeastern Gujarat,\\nwhere he completed his secondary education. He was introduced to the RSS at the age of eight.\\nAt the age of 18, he was married to Jashodaben Modi, whom he abandoned soon after, \\nonly publicly acknowledging her four decades later when legally required to do so. Modi became a full-time worker for the \\nRSS in Gujarat in 1971. The RSS assigned him to the BJP in 1985 and he rose through the party hierarchy, becoming general \\nsecretary in 1998.[b] In 2001, Modi was appointed Chief Minister of Gujarat and elected to the legislative assembly \\nsoon after. His administration is considered complicit in the 2002 Gujarat riots,[c] and has been criticised for its \\nmanagement of the crisis. According to official records, a little over 1,000 people were killed, three-quarters of\\nwhom were Muslim; independent sources estimated 2,000 deaths, mostly Muslim.[13] A Special Investigation Team\\nappointed by the Supreme Court of India in 2012 found no evidence to initiate prosecution proceedings against him.\\n'"
      ]
     },
     "execution_count": 5,
     "metadata": {},
     "output_type": "execute_result"
    }
   ],
   "source": [
    "paragraph"
   ]
  },
  {
   "cell_type": "code",
   "execution_count": 6,
   "metadata": {},
   "outputs": [],
   "source": [
    "import nltk\n",
    "from nltk.stem import PorterStemmer\n",
    "from nltk.corpus import stopwords"
   ]
  },
  {
   "cell_type": "code",
   "execution_count": 7,
   "metadata": {},
   "outputs": [
    {
     "name": "stderr",
     "output_type": "stream",
     "text": [
      "[nltk_data] Downloading package punkt to\n",
      "[nltk_data]     C:\\Users\\madhu\\AppData\\Roaming\\nltk_data...\n",
      "[nltk_data]   Package punkt is already up-to-date!\n"
     ]
    }
   ],
   "source": [
    "## Tokenization - covert paragraph -> sentences -> words\n",
    "nltk.download('punkt')\n",
    "sentences = nltk.sent_tokenize(paragraph)"
   ]
  },
  {
   "cell_type": "code",
   "execution_count": 8,
   "metadata": {},
   "outputs": [
    {
     "data": {
      "text/plain": [
       "['\\nModi was born and raised in Vadnagar in northeastern Gujarat,\\nwhere he completed his secondary education.',\n",
       " 'He was introduced to the RSS at the age of eight.',\n",
       " 'At the age of 18, he was married to Jashodaben Modi, whom he abandoned soon after, \\nonly publicly acknowledging her four decades later when legally required to do so.',\n",
       " 'Modi became a full-time worker for the \\nRSS in Gujarat in 1971.',\n",
       " 'The RSS assigned him to the BJP in 1985 and he rose through the party hierarchy, becoming general \\nsecretary in 1998.',\n",
       " '[b] In 2001, Modi was appointed Chief Minister of Gujarat and elected to the legislative assembly \\nsoon after.',\n",
       " 'His administration is considered complicit in the 2002 Gujarat riots,[c] and has been criticised for its \\nmanagement of the crisis.',\n",
       " 'According to official records, a little over 1,000 people were killed, three-quarters of\\nwhom were Muslim; independent sources estimated 2,000 deaths, mostly Muslim.',\n",
       " '[13] A Special Investigation Team\\nappointed by the Supreme Court of India in 2012 found no evidence to initiate prosecution proceedings against him.']"
      ]
     },
     "execution_count": 8,
     "metadata": {},
     "output_type": "execute_result"
    }
   ],
   "source": [
    "print(sentences)"
   ]
  },
  {
   "cell_type": "code",
   "execution_count": 9,
   "metadata": {},
   "outputs": [],
   "source": [
    "stemmer = PorterStemmer()"
   ]
  },
  {
   "cell_type": "code",
   "execution_count": 11,
   "metadata": {},
   "outputs": [
    {
     "data": {
      "text/plain": [
       "'histori'"
      ]
     },
     "execution_count": 11,
     "metadata": {},
     "output_type": "execute_result"
    }
   ],
   "source": [
    "## by stemming we get the root word of the word you give \n",
    "stemmer.stem('history')"
   ]
  },
  {
   "cell_type": "code",
   "execution_count": 12,
   "metadata": {},
   "outputs": [],
   "source": [
    "##Lemmatizer - help to get root or base word but it more accurate than stemming \n",
    "from nltk.stem import WordNetLemmatizer\n",
    "lemmatizer = WordNetLemmatizer()"
   ]
  },
  {
   "cell_type": "code",
   "execution_count": 13,
   "metadata": {},
   "outputs": [
    {
     "data": {
      "text/plain": [
       "'go'"
      ]
     },
     "execution_count": 13,
     "metadata": {},
     "output_type": "execute_result"
    }
   ],
   "source": [
    "lemmatizer.lemmatize('goes')"
   ]
  },
  {
   "cell_type": "code",
   "execution_count": 14,
   "metadata": {},
   "outputs": [
    {
     "data": {
      "text/plain": [
       "9"
      ]
     },
     "execution_count": 14,
     "metadata": {},
     "output_type": "execute_result"
    }
   ],
   "source": [
    "len(sentences)"
   ]
  },
  {
   "cell_type": "code",
   "execution_count": 15,
   "metadata": {},
   "outputs": [],
   "source": [
    "#import regularexpression for cleaning data \n",
    "import re \n",
    "corpus = []\n",
    "for i in range (len(sentences)):\n",
    "    review = re.sub('[^a-zA-Z]',' ',sentences[i])\n",
    "    review = review.lower()\n",
    "    corpus.append(review)\n",
    "\n"
   ]
  },
  {
   "cell_type": "code",
   "execution_count": 16,
   "metadata": {},
   "outputs": [
    {
     "name": "stdout",
     "output_type": "stream",
     "text": [
      "[' modi was born and raised in vadnagar in northeastern gujarat  where he completed his secondary education ', 'he was introduced to the rss at the age of eight ', 'at the age of     he was married to jashodaben modi  whom he abandoned soon after   only publicly acknowledging her four decades later when legally required to do so ', 'modi became a full time worker for the  rss in gujarat in      ', 'the rss assigned him to the bjp in      and he rose through the party hierarchy  becoming general  secretary in      ', ' b  in       modi was appointed chief minister of gujarat and elected to the legislative assembly  soon after ', 'his administration is considered complicit in the      gujarat riots  c  and has been criticised for its  management of the crisis ', 'according to official records  a little over       people were killed  three quarters of whom were muslim  independent sources estimated       deaths  mostly muslim ', '     a special investigation team appointed by the supreme court of india in      found no evidence to initiate prosecution proceedings against him ']\n"
     ]
    }
   ],
   "source": [
    "print(corpus)"
   ]
  },
  {
   "cell_type": "code",
   "execution_count": 17,
   "metadata": {},
   "outputs": [
    {
     "data": {
      "text/plain": [
       "['i',\n",
       " 'me',\n",
       " 'my',\n",
       " 'myself',\n",
       " 'we',\n",
       " 'our',\n",
       " 'ours',\n",
       " 'ourselves',\n",
       " 'you',\n",
       " \"you're\",\n",
       " \"you've\",\n",
       " \"you'll\",\n",
       " \"you'd\",\n",
       " 'your',\n",
       " 'yours',\n",
       " 'yourself',\n",
       " 'yourselves',\n",
       " 'he',\n",
       " 'him',\n",
       " 'his',\n",
       " 'himself',\n",
       " 'she',\n",
       " \"she's\",\n",
       " 'her',\n",
       " 'hers',\n",
       " 'herself',\n",
       " 'it',\n",
       " \"it's\",\n",
       " 'its',\n",
       " 'itself',\n",
       " 'they',\n",
       " 'them',\n",
       " 'their',\n",
       " 'theirs',\n",
       " 'themselves',\n",
       " 'what',\n",
       " 'which',\n",
       " 'who',\n",
       " 'whom',\n",
       " 'this',\n",
       " 'that',\n",
       " \"that'll\",\n",
       " 'these',\n",
       " 'those',\n",
       " 'am',\n",
       " 'is',\n",
       " 'are',\n",
       " 'was',\n",
       " 'were',\n",
       " 'be',\n",
       " 'been',\n",
       " 'being',\n",
       " 'have',\n",
       " 'has',\n",
       " 'had',\n",
       " 'having',\n",
       " 'do',\n",
       " 'does',\n",
       " 'did',\n",
       " 'doing',\n",
       " 'a',\n",
       " 'an',\n",
       " 'the',\n",
       " 'and',\n",
       " 'but',\n",
       " 'if',\n",
       " 'or',\n",
       " 'because',\n",
       " 'as',\n",
       " 'until',\n",
       " 'while',\n",
       " 'of',\n",
       " 'at',\n",
       " 'by',\n",
       " 'for',\n",
       " 'with',\n",
       " 'about',\n",
       " 'against',\n",
       " 'between',\n",
       " 'into',\n",
       " 'through',\n",
       " 'during',\n",
       " 'before',\n",
       " 'after',\n",
       " 'above',\n",
       " 'below',\n",
       " 'to',\n",
       " 'from',\n",
       " 'up',\n",
       " 'down',\n",
       " 'in',\n",
       " 'out',\n",
       " 'on',\n",
       " 'off',\n",
       " 'over',\n",
       " 'under',\n",
       " 'again',\n",
       " 'further',\n",
       " 'then',\n",
       " 'once',\n",
       " 'here',\n",
       " 'there',\n",
       " 'when',\n",
       " 'where',\n",
       " 'why',\n",
       " 'how',\n",
       " 'all',\n",
       " 'any',\n",
       " 'both',\n",
       " 'each',\n",
       " 'few',\n",
       " 'more',\n",
       " 'most',\n",
       " 'other',\n",
       " 'some',\n",
       " 'such',\n",
       " 'no',\n",
       " 'nor',\n",
       " 'not',\n",
       " 'only',\n",
       " 'own',\n",
       " 'same',\n",
       " 'so',\n",
       " 'than',\n",
       " 'too',\n",
       " 'very',\n",
       " 's',\n",
       " 't',\n",
       " 'can',\n",
       " 'will',\n",
       " 'just',\n",
       " 'don',\n",
       " \"don't\",\n",
       " 'should',\n",
       " \"should've\",\n",
       " 'now',\n",
       " 'd',\n",
       " 'll',\n",
       " 'm',\n",
       " 'o',\n",
       " 're',\n",
       " 've',\n",
       " 'y',\n",
       " 'ain',\n",
       " 'aren',\n",
       " \"aren't\",\n",
       " 'couldn',\n",
       " \"couldn't\",\n",
       " 'didn',\n",
       " \"didn't\",\n",
       " 'doesn',\n",
       " \"doesn't\",\n",
       " 'hadn',\n",
       " \"hadn't\",\n",
       " 'hasn',\n",
       " \"hasn't\",\n",
       " 'haven',\n",
       " \"haven't\",\n",
       " 'isn',\n",
       " \"isn't\",\n",
       " 'ma',\n",
       " 'mightn',\n",
       " \"mightn't\",\n",
       " 'mustn',\n",
       " \"mustn't\",\n",
       " 'needn',\n",
       " \"needn't\",\n",
       " 'shan',\n",
       " \"shan't\",\n",
       " 'shouldn',\n",
       " \"shouldn't\",\n",
       " 'wasn',\n",
       " \"wasn't\",\n",
       " 'weren',\n",
       " \"weren't\",\n",
       " 'won',\n",
       " \"won't\",\n",
       " 'wouldn',\n",
       " \"wouldn't\"]"
      ]
     },
     "execution_count": 17,
     "metadata": {},
     "output_type": "execute_result"
    }
   ],
   "source": [
    "stopwords.words('english')"
   ]
  },
  {
   "cell_type": "code",
   "execution_count": 18,
   "metadata": {},
   "outputs": [
    {
     "name": "stdout",
     "output_type": "stream",
     "text": [
      "modi\n",
      "born\n",
      "rais\n",
      "vadnagar\n",
      "northeastern\n",
      "gujarat\n",
      "complet\n",
      "secondari\n",
      "educ\n",
      "introduc\n",
      "rss\n",
      "age\n",
      "eight\n",
      "age\n",
      "marri\n",
      "jashodaben\n",
      "modi\n",
      "abandon\n",
      "soon\n",
      "publicli\n",
      "acknowledg\n",
      "four\n",
      "decad\n",
      "later\n",
      "legal\n",
      "requir\n",
      "modi\n",
      "becam\n",
      "full\n",
      "time\n",
      "worker\n",
      "rss\n",
      "gujarat\n",
      "rss\n",
      "assign\n",
      "bjp\n",
      "rose\n",
      "parti\n",
      "hierarchi\n",
      "becom\n",
      "gener\n",
      "secretari\n",
      "b\n",
      "modi\n",
      "appoint\n",
      "chief\n",
      "minist\n",
      "gujarat\n",
      "elect\n",
      "legisl\n",
      "assembl\n",
      "soon\n",
      "administr\n",
      "consid\n",
      "complicit\n",
      "gujarat\n",
      "riot\n",
      "c\n",
      "criticis\n",
      "manag\n",
      "crisi\n",
      "accord\n",
      "offici\n",
      "record\n",
      "littl\n",
      "peopl\n",
      "kill\n",
      "three\n",
      "quarter\n",
      "muslim\n",
      "independ\n",
      "sourc\n",
      "estim\n",
      "death\n",
      "mostli\n",
      "muslim\n",
      "special\n",
      "investig\n",
      "team\n",
      "appoint\n",
      "suprem\n",
      "court\n",
      "india\n",
      "found\n",
      "evid\n",
      "initi\n",
      "prosecut\n",
      "proceed\n"
     ]
    }
   ],
   "source": [
    "## stemming \n",
    "for i in corpus:\n",
    "    words = nltk.word_tokenize(i)\n",
    "    for word in words :\n",
    "        if word not in stopwords.words('english'):\n",
    "            print(stemmer.stem(word))"
   ]
  },
  {
   "cell_type": "code",
   "execution_count": 19,
   "metadata": {},
   "outputs": [
    {
     "name": "stdout",
     "output_type": "stream",
     "text": [
      "modi\n",
      "born\n",
      "raised\n",
      "vadnagar\n",
      "northeastern\n",
      "gujarat\n",
      "completed\n",
      "secondary\n",
      "education\n",
      "introduced\n",
      "r\n",
      "age\n",
      "eight\n",
      "age\n",
      "married\n",
      "jashodaben\n",
      "modi\n",
      "abandoned\n",
      "soon\n",
      "publicly\n",
      "acknowledging\n",
      "four\n",
      "decade\n",
      "later\n",
      "legally\n",
      "required\n",
      "modi\n",
      "became\n",
      "full\n",
      "time\n",
      "worker\n",
      "r\n",
      "gujarat\n",
      "r\n",
      "assigned\n",
      "bjp\n",
      "rose\n",
      "party\n",
      "hierarchy\n",
      "becoming\n",
      "general\n",
      "secretary\n",
      "b\n",
      "modi\n",
      "appointed\n",
      "chief\n",
      "minister\n",
      "gujarat\n",
      "elected\n",
      "legislative\n",
      "assembly\n",
      "soon\n",
      "administration\n",
      "considered\n",
      "complicit\n",
      "gujarat\n",
      "riot\n",
      "c\n",
      "criticised\n",
      "management\n",
      "crisis\n",
      "according\n",
      "official\n",
      "record\n",
      "little\n",
      "people\n",
      "killed\n",
      "three\n",
      "quarter\n",
      "muslim\n",
      "independent\n",
      "source\n",
      "estimated\n",
      "death\n",
      "mostly\n",
      "muslim\n",
      "special\n",
      "investigation\n",
      "team\n",
      "appointed\n",
      "supreme\n",
      "court\n",
      "india\n",
      "found\n",
      "evidence\n",
      "initiate\n",
      "prosecution\n",
      "proceeding\n"
     ]
    }
   ],
   "source": [
    "## lemmatization \n",
    "for i in corpus:\n",
    "    words = nltk.word_tokenize(i)\n",
    "    for word in words :\n",
    "        if word not in stopwords.words('english'):\n",
    "            print(lemmatizer.lemmatize(word))"
   ]
  },
  {
   "cell_type": "code",
   "execution_count": 30,
   "metadata": {},
   "outputs": [
    {
     "name": "stdout",
     "output_type": "stream",
     "text": [
      "['modi', 'was', 'born', 'and', 'raised', 'in', 'vadnagar', 'in', 'northeastern', 'gujarat', 'where', 'he', 'completed', 'his', 'secondary', 'education']\n",
      "['modi born raised vadnagar northeastern gujarat completed secondary education']\n",
      "['he', 'was', 'introduced', 'to', 'the', 'rss', 'at', 'the', 'age', 'of', 'eight']\n",
      "['modi born raised vadnagar northeastern gujarat completed secondary education', 'introduced r age eight']\n",
      "['at', 'the', 'age', 'of', 'he', 'was', 'married', 'to', 'jashodaben', 'modi', 'whom', 'he', 'abandoned', 'soon', 'after', 'only', 'publicly', 'acknowledging', 'her', 'four', 'decades', 'later', 'when', 'legally', 'required', 'to', 'do', 'so']\n",
      "['modi born raised vadnagar northeastern gujarat completed secondary education', 'introduced r age eight', 'age married jashodaben modi abandoned soon publicly acknowledging four decade later legally required']\n",
      "['modi', 'became', 'a', 'full', 'time', 'worker', 'for', 'the', 'rss', 'in', 'gujarat', 'in']\n",
      "['modi born raised vadnagar northeastern gujarat completed secondary education', 'introduced r age eight', 'age married jashodaben modi abandoned soon publicly acknowledging four decade later legally required', 'modi became full time worker r gujarat']\n",
      "['the', 'rss', 'assigned', 'him', 'to', 'the', 'bjp', 'in', 'and', 'he', 'rose', 'through', 'the', 'party', 'hierarchy', 'becoming', 'general', 'secretary', 'in']\n",
      "['modi born raised vadnagar northeastern gujarat completed secondary education', 'introduced r age eight', 'age married jashodaben modi abandoned soon publicly acknowledging four decade later legally required', 'modi became full time worker r gujarat', 'r assigned bjp rose party hierarchy becoming general secretary']\n",
      "['b', 'in', 'modi', 'was', 'appointed', 'chief', 'minister', 'of', 'gujarat', 'and', 'elected', 'to', 'the', 'legislative', 'assembly', 'soon', 'after']\n",
      "['modi born raised vadnagar northeastern gujarat completed secondary education', 'introduced r age eight', 'age married jashodaben modi abandoned soon publicly acknowledging four decade later legally required', 'modi became full time worker r gujarat', 'r assigned bjp rose party hierarchy becoming general secretary', 'b modi appointed chief minister gujarat elected legislative assembly soon']\n",
      "['his', 'administration', 'is', 'considered', 'complicit', 'in', 'the', 'gujarat', 'riots', 'c', 'and', 'has', 'been', 'criticised', 'for', 'its', 'management', 'of', 'the', 'crisis']\n",
      "['modi born raised vadnagar northeastern gujarat completed secondary education', 'introduced r age eight', 'age married jashodaben modi abandoned soon publicly acknowledging four decade later legally required', 'modi became full time worker r gujarat', 'r assigned bjp rose party hierarchy becoming general secretary', 'b modi appointed chief minister gujarat elected legislative assembly soon', 'administration considered complicit gujarat riot c criticised management crisis']\n",
      "['according', 'to', 'official', 'records', 'a', 'little', 'over', 'people', 'were', 'killed', 'three', 'quarters', 'of', 'whom', 'were', 'muslim', 'independent', 'sources', 'estimated', 'deaths', 'mostly', 'muslim']\n",
      "['modi born raised vadnagar northeastern gujarat completed secondary education', 'introduced r age eight', 'age married jashodaben modi abandoned soon publicly acknowledging four decade later legally required', 'modi became full time worker r gujarat', 'r assigned bjp rose party hierarchy becoming general secretary', 'b modi appointed chief minister gujarat elected legislative assembly soon', 'administration considered complicit gujarat riot c criticised management crisis', 'according official record little people killed three quarter muslim independent source estimated death mostly muslim']\n",
      "['a', 'special', 'investigation', 'team', 'appointed', 'by', 'the', 'supreme', 'court', 'of', 'india', 'in', 'found', 'no', 'evidence', 'to', 'initiate', 'prosecution', 'proceedings', 'against', 'him']\n",
      "['modi born raised vadnagar northeastern gujarat completed secondary education', 'introduced r age eight', 'age married jashodaben modi abandoned soon publicly acknowledging four decade later legally required', 'modi became full time worker r gujarat', 'r assigned bjp rose party hierarchy becoming general secretary', 'b modi appointed chief minister gujarat elected legislative assembly soon', 'administration considered complicit gujarat riot c criticised management crisis', 'according official record little people killed three quarter muslim independent source estimated death mostly muslim', 'special investigation team appointed supreme court india found evidence initiate prosecution proceeding']\n"
     ]
    }
   ],
   "source": [
    "## Apply stopwords lemmatize\n",
    "\n",
    "import re\n",
    "corpus = []\n",
    "\n",
    "for i in range(len(sentences)):\n",
    "    review = re.sub('[^a-zA-Z]',' ',sentences[i])\n",
    "    review =review.lower()\n",
    "    review = review.split()\n",
    "    print(review)\n",
    "    review = [lemmatizer.lemmatize(word) for word in review if word not in stopwords.words('english')]\n",
    "    review = ' '.join(review)\n",
    "    corpus.append(review)\n"
   ]
  },
  {
   "cell_type": "code",
   "execution_count": 36,
   "metadata": {},
   "outputs": [],
   "source": [
    "## from sklearn import CountVectorrizer(Bag of words)\n",
    "from sklearn.feature_extraction.text import CountVectorizer\n",
    "cv = CountVectorizer(binary=True ,ngram_range=(3,3)) ## tri gram\n"
   ]
  },
  {
   "cell_type": "code",
   "execution_count": 37,
   "metadata": {},
   "outputs": [],
   "source": [
    "X=cv.fit_transform(corpus)"
   ]
  },
  {
   "cell_type": "code",
   "execution_count": 38,
   "metadata": {},
   "outputs": [
    {
     "data": {
      "text/plain": [
       "array([[0, 0, 0, 0, 0, 0, 0, 0, 0, 0, 0, 1, 0, 1, 0, 0, 0, 0, 0, 0, 0, 0,\n",
       "        0, 0, 0, 0, 1, 0, 0, 0, 0, 0, 0, 0, 0, 0, 0, 0, 0, 0, 0, 0, 0, 0,\n",
       "        0, 1, 0, 1, 0, 0, 0, 0, 0, 1, 0, 0, 0, 0, 0, 0, 0, 0, 0, 0, 1]],\n",
       "      dtype=int64)"
      ]
     },
     "execution_count": 38,
     "metadata": {},
     "output_type": "execute_result"
    }
   ],
   "source": [
    "X[0].toarray()"
   ]
  },
  {
   "cell_type": "code",
   "execution_count": 39,
   "metadata": {},
   "outputs": [
    {
     "data": {
      "text/plain": [
       "{'modi born raised': 45,\n",
       " 'born raised vadnagar': 11,\n",
       " 'raised vadnagar northeastern': 53,\n",
       " 'vadnagar northeastern gujarat': 64,\n",
       " 'northeastern gujarat completed': 47,\n",
       " 'gujarat completed secondary': 26,\n",
       " 'completed secondary education': 13,\n",
       " 'introduced age eight': 33,\n",
       " 'age married jashodaben': 4,\n",
       " 'married jashodaben modi': 40,\n",
       " 'jashodaben modi abandoned': 35,\n",
       " 'modi abandoned soon': 42,\n",
       " 'abandoned soon publicly': 0,\n",
       " 'soon publicly acknowledging': 57,\n",
       " 'publicly acknowledging four': 51,\n",
       " 'acknowledging four decade': 2,\n",
       " 'four decade later': 24,\n",
       " 'decade later legally': 19,\n",
       " 'later legally required': 37,\n",
       " 'modi became full': 44,\n",
       " 'became full time': 8,\n",
       " 'full time worker': 25,\n",
       " 'time worker gujarat': 63,\n",
       " 'assigned bjp rose': 7,\n",
       " 'bjp rose party': 10,\n",
       " 'rose party hierarchy': 56,\n",
       " 'party hierarchy becoming': 49,\n",
       " 'hierarchy becoming general': 29,\n",
       " 'becoming general secretary': 9,\n",
       " 'modi appointed chief': 43,\n",
       " 'appointed chief minister': 5,\n",
       " 'chief minister gujarat': 12,\n",
       " 'minister gujarat elected': 41,\n",
       " 'gujarat elected legislative': 27,\n",
       " 'elected legislative assembly': 20,\n",
       " 'legislative assembly soon': 38,\n",
       " 'administration considered complicit': 3,\n",
       " 'considered complicit gujarat': 15,\n",
       " 'complicit gujarat riot': 14,\n",
       " 'gujarat riot criticised': 28,\n",
       " 'riot criticised management': 55,\n",
       " 'criticised management crisis': 17,\n",
       " 'according official record': 1,\n",
       " 'official record little': 48,\n",
       " 'record little people': 54,\n",
       " 'little people killed': 39,\n",
       " 'people killed three': 50,\n",
       " 'killed three quarter': 36,\n",
       " 'three quarter muslim': 62,\n",
       " 'quarter muslim independent': 52,\n",
       " 'muslim independent source': 46,\n",
       " 'independent source estimated': 30,\n",
       " 'source estimated death': 58,\n",
       " 'estimated death mostly': 21,\n",
       " 'death mostly muslim': 18,\n",
       " 'special investigation team': 59,\n",
       " 'investigation team appointed': 34,\n",
       " 'team appointed supreme': 61,\n",
       " 'appointed supreme court': 6,\n",
       " 'supreme court india': 60,\n",
       " 'court india found': 16,\n",
       " 'india found evidence': 31,\n",
       " 'found evidence initiate': 23,\n",
       " 'evidence initiate prosecution': 22,\n",
       " 'initiate prosecution proceeding': 32}"
      ]
     },
     "execution_count": 39,
     "metadata": {},
     "output_type": "execute_result"
    }
   ],
   "source": [
    "cv.vocabulary_"
   ]
  },
  {
   "cell_type": "code",
   "execution_count": 40,
   "metadata": {},
   "outputs": [
    {
     "data": {
      "text/plain": [
       "'modi born raised vadnagar northeastern gujarat completed secondary education'"
      ]
     },
     "execution_count": 40,
     "metadata": {},
     "output_type": "execute_result"
    }
   ],
   "source": [
    "corpus[0]"
   ]
  },
  {
   "cell_type": "code",
   "execution_count": 50,
   "metadata": {},
   "outputs": [],
   "source": [
    "## TFIDF vectorizer \n",
    "\n",
    "from sklearn.feature_extraction.text import TfidfVectorizer\n",
    "cv = TfidfVectorizer(ngram_range=(3,3),max_features=20)\n",
    "\n",
    "X = cv.fit_transform(corpus)\n"
   ]
  },
  {
   "cell_type": "code",
   "execution_count": 51,
   "metadata": {},
   "outputs": [
    {
     "data": {
      "text/plain": [
       "array([[0.        , 0.        , 0.        , 0.        , 0.        ,\n",
       "        0.        , 0.        , 0.        , 0.        , 0.        ,\n",
       "        0.        , 0.        , 0.70710678, 0.        , 0.70710678,\n",
       "        0.        , 0.        , 0.        , 0.        , 0.        ]])"
      ]
     },
     "execution_count": 51,
     "metadata": {},
     "output_type": "execute_result"
    }
   ],
   "source": [
    "X[0].toarray()"
   ]
  },
  {
   "cell_type": "code",
   "execution_count": 52,
   "metadata": {},
   "outputs": [
    {
     "data": {
      "text/plain": [
       "{'modi born raised': 12,\n",
       " 'northeastern gujarat completed': 14,\n",
       " 'married jashodaben modi': 7,\n",
       " 'jashodaben modi abandoned': 2,\n",
       " 'modi abandoned soon': 9,\n",
       " 'abandoned soon publicly': 0,\n",
       " 'publicly acknowledging four': 18,\n",
       " 'later legally required': 4,\n",
       " 'modi became full': 11,\n",
       " 'party hierarchy becoming': 16,\n",
       " 'modi appointed chief': 10,\n",
       " 'minister gujarat elected': 8,\n",
       " 'legislative assembly soon': 5,\n",
       " 'official record little': 15,\n",
       " 'little people killed': 6,\n",
       " 'people killed three': 17,\n",
       " 'killed three quarter': 3,\n",
       " 'quarter muslim independent': 19,\n",
       " 'muslim independent source': 13,\n",
       " 'investigation team appointed': 1}"
      ]
     },
     "execution_count": 52,
     "metadata": {},
     "output_type": "execute_result"
    }
   ],
   "source": [
    "cv.vocabulary_"
   ]
  },
  {
   "cell_type": "code",
   "execution_count": null,
   "metadata": {},
   "outputs": [],
   "source": []
  }
 ],
 "metadata": {
  "kernelspec": {
   "display_name": "base",
   "language": "python",
   "name": "python3"
  },
  "language_info": {
   "codemirror_mode": {
    "name": "ipython",
    "version": 3
   },
   "file_extension": ".py",
   "mimetype": "text/x-python",
   "name": "python",
   "nbconvert_exporter": "python",
   "pygments_lexer": "ipython3",
   "version": "3.10.9"
  }
 },
 "nbformat": 4,
 "nbformat_minor": 2
}
