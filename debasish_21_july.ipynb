{
 "cells": [
  {
   "cell_type": "markdown",
   "id": "4f01be4c",
   "metadata": {},
   "source": [
    "# 1:-"
   ]
  },
  {
   "cell_type": "markdown",
   "id": "2e9c8209",
   "metadata": {},
   "source": [
    "Write a function in Python that accepts one numeric parameter. This parameter will be the measure of an angle in radians. The function should convert the radians into degrees and then return that value.\n",
    "\n",
    "While you might find a Python library to do this for you, you should write the function yourself. One hint you get is that you’ll need to use Pi in order to solve this problem. You can import the value for Pi from Python’s math module."
   ]
  },
  {
   "cell_type": "code",
   "execution_count": 1,
   "id": "ccc60d3c",
   "metadata": {},
   "outputs": [],
   "source": [
    "from math import pi\n",
    "def p_angle(x):\n",
    "    value=x*(180/pi)\n",
    "    return  value\n",
    "\n",
    "    \n"
   ]
  },
  {
   "cell_type": "code",
   "execution_count": 9,
   "id": "557bc2e9",
   "metadata": {},
   "outputs": [
    {
     "name": "stdout",
     "output_type": "stream",
     "text": [
      "114.59155902616465\n"
     ]
    }
   ],
   "source": [
    "value=p_angle(2)\n",
    "print(value)"
   ]
  },
  {
   "cell_type": "code",
   "execution_count": 10,
   "id": "e737cb82",
   "metadata": {},
   "outputs": [
    {
     "name": "stdout",
     "output_type": "stream",
     "text": [
      "1718.8733853924696\n"
     ]
    }
   ],
   "source": [
    "m=p_angle(30)\n",
    "print(m)\n"
   ]
  },
  {
   "cell_type": "code",
   "execution_count": null,
   "id": "963c6bce",
   "metadata": {},
   "outputs": [],
   "source": []
  },
  {
   "cell_type": "markdown",
   "id": "ab601915",
   "metadata": {},
   "source": [
    "# 2:-"
   ]
  },
  {
   "cell_type": "markdown",
   "id": "f56e943f",
   "metadata": {},
   "source": [
    "Create a function in Python that accepts two parameters. The first will be a list of numbers. The second parameter will be a string that can be one of the following values: asc, desc, and none.\n",
    "\n",
    "If the second parameter is “asc,” then the function should return a list with the numbers in ascending order. If it’s “desc,” then the list should be in descending order, and if it’s “none,” it should return the original list unaltered."
   ]
  },
  {
   "cell_type": "code",
   "execution_count": 16,
   "id": "8bb5b764",
   "metadata": {},
   "outputs": [],
   "source": [
    "def my_fnc(num_lst,orders):\n",
    "    if orders=='asc':\n",
    "        return sorted(num_lst)\n",
    "    elif orders=='desc':\n",
    "        return sorted(num_lst,reverse=True)\n",
    "    else:\n",
    "        return num_lst"
   ]
  },
  {
   "cell_type": "code",
   "execution_count": 19,
   "id": "973046da",
   "metadata": {},
   "outputs": [
    {
     "name": "stdout",
     "output_type": "stream",
     "text": [
      "[1, 2, 3, 5, 4, 8, 6, 7]\n"
     ]
    }
   ],
   "source": [
    "print(my_fnc([1,2,3,5,4,8,6,7],orders=None))"
   ]
  },
  {
   "cell_type": "markdown",
   "id": "15c0a029",
   "metadata": {},
   "source": [
    "# 3:-"
   ]
  },
  {
   "cell_type": "markdown",
   "id": "1224170b",
   "metadata": {},
   "source": [
    "Write a function in Python that accepts a decimal number and returns the equivalent binary number. To make this simple, the decimal number will always be less than 1,024, so the binary number returned will always be less than ten digits long."
   ]
  },
  {
   "cell_type": "code",
   "execution_count": 22,
   "id": "808838f6",
   "metadata": {},
   "outputs": [
    {
     "name": "stdout",
     "output_type": "stream",
     "text": [
      "0010000000\n"
     ]
    }
   ],
   "source": [
    "def decimal_to_binary(decimal_num):\n",
    "    # Convert the decimal number to binary\n",
    "    binary_num = bin(int(decimal_num * 1024))[2:]\n",
    "\n",
    "    # Pad the binary number with leading zeros to make it 10 digits long\n",
    "    binary_num = binary_num.zfill(10)\n",
    "\n",
    "    return binary_num\n",
    "\n",
    "# Test the function\n",
    "decimal_number = 0.125\n",
    "binary_number = decimal_to_binary(decimal_number)\n",
    "print(binary_number)  # Output: '0001010000'\n"
   ]
  },
  {
   "cell_type": "code",
   "execution_count": 24,
   "id": "2431180e",
   "metadata": {},
   "outputs": [
    {
     "data": {
      "text/plain": [
       "10"
      ]
     },
     "execution_count": 24,
     "metadata": {},
     "output_type": "execute_result"
    }
   ],
   "source": [
    "len(binary_number)"
   ]
  },
  {
   "cell_type": "markdown",
   "id": "2dd6b1a6",
   "metadata": {},
   "source": [
    "# 4:-"
   ]
  },
  {
   "cell_type": "markdown",
   "id": "539fb644",
   "metadata": {},
   "source": [
    "Create a function in Python that accepts a single word and returns the number of vowels in that word. In this function, only a, e, i, o, and u will be counted as vowels — not y."
   ]
  },
  {
   "cell_type": "code",
   "execution_count": 46,
   "id": "bfd7c1a7",
   "metadata": {},
   "outputs": [
    {
     "name": "stdout",
     "output_type": "stream",
     "text": [
      "2\n"
     ]
    }
   ],
   "source": [
    "def find_vowel(a_word):\n",
    "    \n",
    "    vowels=\"aeiou\"\n",
    "    count=0\n",
    "    for i in a_word:\n",
    "        if i in vowels:\n",
    "            count += 1\n",
    "        \n",
    "    return count\n",
    "        \n",
    "if __name__==\"__main__\":\n",
    "    a_word=\"apple\"\n",
    "    num_of_vowels=find_vowel(a_word)\n",
    "    \n",
    "print(num_of_vowels)"
   ]
  },
  {
   "cell_type": "markdown",
   "id": "9d678594",
   "metadata": {},
   "source": [
    "# 5:-"
   ]
  },
  {
   "cell_type": "markdown",
   "id": "e6eabc0c",
   "metadata": {},
   "source": [
    "Hide the credit card number\n",
    "Write a function in Python that accepts a credit card number. It should return a string where all the characters are hidden with an asterisk except the last four. For example, if the function gets sent “4444444444444444”, then it should return “4444”."
   ]
  },
  {
   "cell_type": "code",
   "execution_count": 51,
   "id": "f5e93b83",
   "metadata": {},
   "outputs": [
    {
     "name": "stdout",
     "output_type": "stream",
     "text": [
      "**********5555\n"
     ]
    }
   ],
   "source": [
    "def hide_number_not_last4(number):\n",
    "    \n",
    "    digit_number=list(number)\n",
    "    last_4=digit_number[-4:]\n",
    "    hide_numbers=\"*\" * (len(digit_number)-4)\n",
    "    return\"\".join([hide_numbers]+last_4)\n",
    "\n",
    "if __name__==\"__main__\":\n",
    "    number=\"55555555555555\"\n",
    "    credit_card_num=hide_number_not_last4(number)\n",
    "    \n",
    "print(credit_card_num) "
   ]
  },
  {
   "cell_type": "markdown",
   "id": "82dccc34",
   "metadata": {},
   "source": [
    "# 6:-"
   ]
  },
  {
   "cell_type": "markdown",
   "id": "61a63238",
   "metadata": {},
   "source": [
    "Create a Python function that accepts a string. This function should count the number of Xs and the number of Os in the string. It should then return a boolean value of either True or False.\n",
    "\n",
    "If the count of Xs and Os are equal, then the function should return True. If the count isn’t the same, it should return False. If there are no Xs or Os in the string, it should also return True because 0 equals 0. The string can contain any type and number of characters."
   ]
  },
  {
   "cell_type": "code",
   "execution_count": 17,
   "id": "b01fa076",
   "metadata": {},
   "outputs": [
    {
     "name": "stdout",
     "output_type": "stream",
     "text": [
      "False\n"
     ]
    }
   ],
   "source": [
    "def count_x_o(word):\n",
    "    \n",
    "    count_x=0\n",
    "    count_o=0\n",
    "    for i in word:\n",
    "        if i ==\"X\":\n",
    "            count_x += 1\n",
    "        elif i ==\"O\":\n",
    "            count_o += 1\n",
    "    if count_x==count_o:\n",
    "        return True\n",
    "    else:\n",
    "        return False\n",
    "    \n",
    "if __name__==\"__main__\":\n",
    "    word=\"XOXOX\"\n",
    "    result=count_x_o(word)\n",
    "    print(result)"
   ]
  },
  {
   "cell_type": "markdown",
   "id": "19401ff6",
   "metadata": {},
   "source": [
    "# 7:-"
   ]
  },
  {
   "cell_type": "markdown",
   "id": "3064ab91",
   "metadata": {},
   "source": [
    "Write a Python function that accepts three parameters. The first parameter is an integer. The second is one of the following mathematical operators: +, -, /, or . The third parameter will also be an integer.\n",
    "\n",
    "The function should perform a calculation and return the results. For example, if the function is passed 6 and 4, it should return 24"
   ]
  },
  {
   "cell_type": "code",
   "execution_count": 20,
   "id": "857e502e",
   "metadata": {},
   "outputs": [
    {
     "name": "stdout",
     "output_type": "stream",
     "text": [
      "15\n"
     ]
    }
   ],
   "source": [
    "def calculator(num1,operator,num2):\n",
    "    \n",
    "    \n",
    "    if operator=='+':\n",
    "        return num1 + num2\n",
    "    elif operator=='-':\n",
    "        return num1 - num2\n",
    "    elif operator=='/':\n",
    "        return num1 / num2\n",
    "    elif operator=='*':\n",
    "        return num1 * num2\n",
    "    else:\n",
    "        print(\"invalid operator\")\n",
    "        \n",
    "if __name__==\"__main__\":\n",
    "    num1=10\n",
    "    num2=5\n",
    "    operator='+'\n",
    "    result=calculator(num1,operator,num2)\n",
    "    print(result)"
   ]
  },
  {
   "cell_type": "markdown",
   "id": "5d674492",
   "metadata": {},
   "source": [
    "# 8:-"
   ]
  },
  {
   "cell_type": "markdown",
   "id": "94812645",
   "metadata": {},
   "source": [
    "Create a function in Python that accepts two parameters. The first should be the full price of an item as an integer. The second should be the discount percentage as an integer.\n",
    "\n",
    "The function should return the price of the item after the discount has been applied. For example, if the price is 100 and the discount is 20, the function should return 80."
   ]
  },
  {
   "cell_type": "code",
   "execution_count": 30,
   "id": "6babfd5c",
   "metadata": {},
   "outputs": [
    {
     "name": "stdout",
     "output_type": "stream",
     "text": [
      "the actual price: 200\n",
      "after discount : 180\n"
     ]
    }
   ],
   "source": [
    "def discount_price(main_price,discount):\n",
    "    print(\"the actual price:\",main_price)\n",
    "    \n",
    "    disc_price=int(main_price-(main_price*(discount/100)))\n",
    "    return disc_price\n",
    "\n",
    "result=discount_price(200,10)\n",
    "print(\"after discount :\",result)\n",
    "    \n",
    "   \n",
    "    \n",
    "    \n",
    "    \n",
    "                   \n",
    "    \n",
    "    "
   ]
  },
  {
   "cell_type": "markdown",
   "id": "869e7031",
   "metadata": {},
   "source": [
    "# 9:-"
   ]
  },
  {
   "cell_type": "markdown",
   "id": "d61cfd5d",
   "metadata": {},
   "source": [
    "Write a function in Python that accepts a list of any length that contains a mix of non-negative integers and strings. The function should return a list with only the integers in the original list in the same order."
   ]
  },
  {
   "cell_type": "code",
   "execution_count": 34,
   "id": "bf60ae1d",
   "metadata": {},
   "outputs": [
    {
     "name": "stdout",
     "output_type": "stream",
     "text": [
      "[1, 2, 5, 7]\n"
     ]
    }
   ],
   "source": [
    "def my_list(list):\n",
    "    new_list=[]\n",
    "    for i in list:\n",
    "        if isinstance(i,int):\n",
    "            new_list.append(i)\n",
    "    return new_list\n",
    "    \n",
    "if __name__==\"__main__\":\n",
    "    list=[1,2,\"apple\",5,\"hello\",7]\n",
    "    result=my_list(list)\n",
    "    print(result)"
   ]
  },
  {
   "cell_type": "markdown",
   "id": "c8362d19",
   "metadata": {},
   "source": [
    "# 10:-"
   ]
  },
  {
   "cell_type": "markdown",
   "id": "bf1c3c83",
   "metadata": {},
   "source": [
    "Create a Python function that accepts a string. The function should return a string, with each character in the original string doubled. If you send the function “now” as a parameter, it should return “nnooww,” and if you send “123a!”, it should return “112233aa!!”."
   ]
  },
  {
   "cell_type": "code",
   "execution_count": 36,
   "id": "a27c8cd9",
   "metadata": {},
   "outputs": [
    {
     "name": "stdout",
     "output_type": "stream",
     "text": [
      "DDEEBBUU\n"
     ]
    }
   ],
   "source": [
    "def double_string(string):\n",
    "    repeat_string=\"\"\n",
    "    \n",
    "    for i in string:\n",
    "        repeat_string += i*2\n",
    "        \n",
    "    return repeat_string\n",
    "\n",
    "if __name__==\"__main__\":\n",
    "    string=\"DEBU\"\n",
    "    result=double_string(string)\n",
    "    print(result)\n",
    "        \n",
    "    "
   ]
  },
  {
   "cell_type": "code",
   "execution_count": null,
   "id": "8dcd6651",
   "metadata": {},
   "outputs": [],
   "source": []
  }
 ],
 "metadata": {
  "kernelspec": {
   "display_name": "Python 3 (ipykernel)",
   "language": "python",
   "name": "python3"
  },
  "language_info": {
   "codemirror_mode": {
    "name": "ipython",
    "version": 3
   },
   "file_extension": ".py",
   "mimetype": "text/x-python",
   "name": "python",
   "nbconvert_exporter": "python",
   "pygments_lexer": "ipython3",
   "version": "3.10.9"
  }
 },
 "nbformat": 4,
 "nbformat_minor": 5
}
