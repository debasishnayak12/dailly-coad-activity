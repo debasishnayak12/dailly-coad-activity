{
 "cells": [
  {
   "cell_type": "code",
   "execution_count": 8,
   "id": "13270fc3",
   "metadata": {},
   "outputs": [],
   "source": [
    "import pandas as pd\n",
    "import numpy as np"
   ]
  },
  {
   "cell_type": "code",
   "execution_count": 9,
   "id": "3ac300a6",
   "metadata": {},
   "outputs": [
    {
     "name": "stdout",
     "output_type": "stream",
     "text": [
      "Mean is : 12.0\n",
      "The std is : 7.010196655077313\n"
     ]
    }
   ],
   "source": [
    "data=[4,6,8,9,13,19,25]\n",
    "mean=np.mean(data)\n",
    "std=np.std(data)\n",
    "print(\"Mean is :\",mean)\n",
    "print(\"The std is :\",std)"
   ]
  },
  {
   "cell_type": "code",
   "execution_count": 10,
   "id": "2594eb72",
   "metadata": {},
   "outputs": [
    {
     "name": "stdout",
     "output_type": "stream",
     "text": [
      "Variance : 49.142857142857146\n"
     ]
    }
   ],
   "source": [
    "variance=np.var(data)\n",
    "print(\"Variance :\",variance)"
   ]
  },
  {
   "cell_type": "code",
   "execution_count": 13,
   "id": "8d9590dd",
   "metadata": {},
   "outputs": [
    {
     "name": "stdout",
     "output_type": "stream",
     "text": [
      "25 percentile is : 7.0\n",
      "50 percentile is : 9.0\n",
      "75 percentile is : 16.0\n"
     ]
    }
   ],
   "source": [
    "_25_percentile=pd.Series(data).quantile(0.25)\n",
    "_50_percentile=pd.Series(data).quantile(0.50)\n",
    "_75_percentile=pd.Series(data).quantile(0.75)\n",
    "print(\"25 percentile is :\",_25_percentile)\n",
    "print(\"50 percentile is :\",_50_percentile)\n",
    "print(\"75 percentile is :\",_75_percentile)"
   ]
  },
  {
   "cell_type": "code",
   "execution_count": null,
   "id": "7b18100a",
   "metadata": {},
   "outputs": [],
   "source": []
  }
 ],
 "metadata": {
  "kernelspec": {
   "display_name": "Python 3 (ipykernel)",
   "language": "python",
   "name": "python3"
  },
  "language_info": {
   "codemirror_mode": {
    "name": "ipython",
    "version": 3
   },
   "file_extension": ".py",
   "mimetype": "text/x-python",
   "name": "python",
   "nbconvert_exporter": "python",
   "pygments_lexer": "ipython3",
   "version": "3.10.9"
  }
 },
 "nbformat": 4,
 "nbformat_minor": 5
}
