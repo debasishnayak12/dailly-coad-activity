{
 "cells": [
  {
   "cell_type": "code",
   "execution_count": 1,
   "id": "2d6c4f97",
   "metadata": {},
   "outputs": [],
   "source": [
    "import pandas as pd\n"
   ]
  },
  {
   "cell_type": "code",
   "execution_count": 2,
   "id": "edb23f24",
   "metadata": {},
   "outputs": [
    {
     "data": {
      "text/html": [
       "<div>\n",
       "<style scoped>\n",
       "    .dataframe tbody tr th:only-of-type {\n",
       "        vertical-align: middle;\n",
       "    }\n",
       "\n",
       "    .dataframe tbody tr th {\n",
       "        vertical-align: top;\n",
       "    }\n",
       "\n",
       "    .dataframe thead th {\n",
       "        text-align: right;\n",
       "    }\n",
       "</style>\n",
       "<table border=\"1\" class=\"dataframe\">\n",
       "  <thead>\n",
       "    <tr style=\"text-align: right;\">\n",
       "      <th></th>\n",
       "      <th>Name</th>\n",
       "      <th>Age</th>\n",
       "    </tr>\n",
       "  </thead>\n",
       "  <tbody>\n",
       "    <tr>\n",
       "      <th>0</th>\n",
       "      <td>Debu</td>\n",
       "      <td>19</td>\n",
       "    </tr>\n",
       "    <tr>\n",
       "      <th>1</th>\n",
       "      <td>Bubu</td>\n",
       "      <td>20</td>\n",
       "    </tr>\n",
       "    <tr>\n",
       "      <th>2</th>\n",
       "      <td>Ranjit</td>\n",
       "      <td>25</td>\n",
       "    </tr>\n",
       "  </tbody>\n",
       "</table>\n",
       "</div>"
      ],
      "text/plain": [
       "     Name  Age\n",
       "0    Debu   19\n",
       "1    Bubu   20\n",
       "2  Ranjit   25"
      ]
     },
     "execution_count": 2,
     "metadata": {},
     "output_type": "execute_result"
    }
   ],
   "source": [
    "data={\n",
    "    'Name':['Debu','Bubu','Ranjit'],\n",
    "    'Age':[19,20,25]\n",
    "}\n",
    "df=pd.DataFrame(data)\n",
    "df"
   ]
  },
  {
   "cell_type": "code",
   "execution_count": 3,
   "id": "46eee4b1",
   "metadata": {},
   "outputs": [],
   "source": [
    "from sklearn.preprocessing import LabelEncoder"
   ]
  },
  {
   "cell_type": "code",
   "execution_count": 4,
   "id": "f0b5b933",
   "metadata": {},
   "outputs": [],
   "source": [
    "l=LabelEncoder()\n",
    "d=df.columns\n",
    "for i in d:\n",
    "    if df[i].dtypes=='object':\n",
    "        df[i]=l.fit_transform(df[i])"
   ]
  },
  {
   "cell_type": "code",
   "execution_count": 5,
   "id": "3f3ac78c",
   "metadata": {},
   "outputs": [
    {
     "data": {
      "text/html": [
       "<div>\n",
       "<style scoped>\n",
       "    .dataframe tbody tr th:only-of-type {\n",
       "        vertical-align: middle;\n",
       "    }\n",
       "\n",
       "    .dataframe tbody tr th {\n",
       "        vertical-align: top;\n",
       "    }\n",
       "\n",
       "    .dataframe thead th {\n",
       "        text-align: right;\n",
       "    }\n",
       "</style>\n",
       "<table border=\"1\" class=\"dataframe\">\n",
       "  <thead>\n",
       "    <tr style=\"text-align: right;\">\n",
       "      <th></th>\n",
       "      <th>Name</th>\n",
       "      <th>Age</th>\n",
       "    </tr>\n",
       "  </thead>\n",
       "  <tbody>\n",
       "    <tr>\n",
       "      <th>0</th>\n",
       "      <td>1</td>\n",
       "      <td>19</td>\n",
       "    </tr>\n",
       "    <tr>\n",
       "      <th>1</th>\n",
       "      <td>0</td>\n",
       "      <td>20</td>\n",
       "    </tr>\n",
       "    <tr>\n",
       "      <th>2</th>\n",
       "      <td>2</td>\n",
       "      <td>25</td>\n",
       "    </tr>\n",
       "  </tbody>\n",
       "</table>\n",
       "</div>"
      ],
      "text/plain": [
       "   Name  Age\n",
       "0     1   19\n",
       "1     0   20\n",
       "2     2   25"
      ]
     },
     "execution_count": 5,
     "metadata": {},
     "output_type": "execute_result"
    }
   ],
   "source": [
    "df"
   ]
  },
  {
   "cell_type": "code",
   "execution_count": 6,
   "id": "5f236d69",
   "metadata": {},
   "outputs": [
    {
     "data": {
      "text/html": [
       "<div>\n",
       "<style scoped>\n",
       "    .dataframe tbody tr th:only-of-type {\n",
       "        vertical-align: middle;\n",
       "    }\n",
       "\n",
       "    .dataframe tbody tr th {\n",
       "        vertical-align: top;\n",
       "    }\n",
       "\n",
       "    .dataframe thead th {\n",
       "        text-align: right;\n",
       "    }\n",
       "</style>\n",
       "<table border=\"1\" class=\"dataframe\">\n",
       "  <thead>\n",
       "    <tr style=\"text-align: right;\">\n",
       "      <th></th>\n",
       "      <th>Name</th>\n",
       "      <th>Age</th>\n",
       "      <th>city</th>\n",
       "      <th>ID</th>\n",
       "    </tr>\n",
       "  </thead>\n",
       "  <tbody>\n",
       "    <tr>\n",
       "      <th>0</th>\n",
       "      <td>Debu</td>\n",
       "      <td>19</td>\n",
       "      <td>Delhi</td>\n",
       "      <td>101</td>\n",
       "    </tr>\n",
       "    <tr>\n",
       "      <th>1</th>\n",
       "      <td>Bubu</td>\n",
       "      <td>20</td>\n",
       "      <td>Mumbai</td>\n",
       "      <td>102</td>\n",
       "    </tr>\n",
       "    <tr>\n",
       "      <th>2</th>\n",
       "      <td>Gudu</td>\n",
       "      <td>23</td>\n",
       "      <td>Pune</td>\n",
       "      <td>302</td>\n",
       "    </tr>\n",
       "    <tr>\n",
       "      <th>3</th>\n",
       "      <td>Ranjit</td>\n",
       "      <td>26</td>\n",
       "      <td>Bengaluru</td>\n",
       "      <td>283</td>\n",
       "    </tr>\n",
       "  </tbody>\n",
       "</table>\n",
       "</div>"
      ],
      "text/plain": [
       "     Name  Age       city   ID\n",
       "0    Debu   19      Delhi  101\n",
       "1    Bubu   20     Mumbai  102\n",
       "2    Gudu   23       Pune  302\n",
       "3  Ranjit   26  Bengaluru  283"
      ]
     },
     "execution_count": 6,
     "metadata": {},
     "output_type": "execute_result"
    }
   ],
   "source": [
    "data1={\n",
    "    'Name':['Debu','Bubu','Gudu','Ranjit'],\n",
    "    'Age':[19,20,23,26],\n",
    "    'city':['Delhi','Mumbai','Pune','Bengaluru'],\n",
    "    'ID':[101,102,302,283]\n",
    "}\n",
    "df=pd.DataFrame(data1)\n",
    "df"
   ]
  },
  {
   "cell_type": "code",
   "execution_count": 7,
   "id": "d374724f",
   "metadata": {},
   "outputs": [],
   "source": [
    "l=LabelEncoder()\n",
    "d=df.columns\n",
    "for i in d:\n",
    "    if df[i].dtypes=='object':\n",
    "        df[i]=l.fit_transform(df[i])\n",
    "    "
   ]
  },
  {
   "cell_type": "code",
   "execution_count": 8,
   "id": "71eb5d81",
   "metadata": {},
   "outputs": [
    {
     "data": {
      "text/html": [
       "<div>\n",
       "<style scoped>\n",
       "    .dataframe tbody tr th:only-of-type {\n",
       "        vertical-align: middle;\n",
       "    }\n",
       "\n",
       "    .dataframe tbody tr th {\n",
       "        vertical-align: top;\n",
       "    }\n",
       "\n",
       "    .dataframe thead th {\n",
       "        text-align: right;\n",
       "    }\n",
       "</style>\n",
       "<table border=\"1\" class=\"dataframe\">\n",
       "  <thead>\n",
       "    <tr style=\"text-align: right;\">\n",
       "      <th></th>\n",
       "      <th>Name</th>\n",
       "      <th>Age</th>\n",
       "      <th>city</th>\n",
       "      <th>ID</th>\n",
       "    </tr>\n",
       "  </thead>\n",
       "  <tbody>\n",
       "    <tr>\n",
       "      <th>0</th>\n",
       "      <td>1</td>\n",
       "      <td>19</td>\n",
       "      <td>1</td>\n",
       "      <td>101</td>\n",
       "    </tr>\n",
       "    <tr>\n",
       "      <th>1</th>\n",
       "      <td>0</td>\n",
       "      <td>20</td>\n",
       "      <td>2</td>\n",
       "      <td>102</td>\n",
       "    </tr>\n",
       "    <tr>\n",
       "      <th>2</th>\n",
       "      <td>2</td>\n",
       "      <td>23</td>\n",
       "      <td>3</td>\n",
       "      <td>302</td>\n",
       "    </tr>\n",
       "    <tr>\n",
       "      <th>3</th>\n",
       "      <td>3</td>\n",
       "      <td>26</td>\n",
       "      <td>0</td>\n",
       "      <td>283</td>\n",
       "    </tr>\n",
       "  </tbody>\n",
       "</table>\n",
       "</div>"
      ],
      "text/plain": [
       "   Name  Age  city   ID\n",
       "0     1   19     1  101\n",
       "1     0   20     2  102\n",
       "2     2   23     3  302\n",
       "3     3   26     0  283"
      ]
     },
     "execution_count": 8,
     "metadata": {},
     "output_type": "execute_result"
    }
   ],
   "source": [
    "df"
   ]
  },
  {
   "cell_type": "code",
   "execution_count": 9,
   "id": "624415d0",
   "metadata": {},
   "outputs": [
    {
     "name": "stdout",
     "output_type": "stream",
     "text": [
      "Encoded labels  [0 2 3 4 1]\n",
      "Decoded Labels : ['Apple' 'Orange' 'Pineapple' 'cherry' 'Guava']\n"
     ]
    }
   ],
   "source": [
    "#LableEncoding without sklearn\n",
    "\n",
    "class labelEncoder:\n",
    "    def __init__(self):\n",
    "        self.label_map={}\n",
    "        self.reverse_label_map={}\n",
    "        self.current_label=0\n",
    "    def fit(self,label):\n",
    "        for label in labels:\n",
    "            if label not in self.label_map:\n",
    "                self.label_map[label]=self.current_label\n",
    "                self.reverse_label_map[self.current_label]=label\n",
    "                self.current_label +=1\n",
    "    def transform(self,labels):\n",
    "        encoded_labels=[]\n",
    "        for label in labels:\n",
    "            if label in self.label_map:\n",
    "                encoded_labels.append(self.label_map[label])\n",
    "            else:\n",
    "                raise ValueError (f\"Label '{label}' not found in label maping\")\n",
    "                                  \n",
    "        return encoded_labels\n",
    "                            \n",
    "    def inverse_transform(self,encoded_labels):\n",
    "        original_labels=[]\n",
    "        for encoded_label in encoded_labels:\n",
    "            if encoded_label in self.reverse_label_map:\n",
    "                original_labels.append(self.reverse_label_map[encoded_label])\n",
    "            else:\n",
    "                raise VallueError (f\"encoded label 'encoded_label' not found in reverse label maping\")                         \n",
    "        return original_labels\n",
    "    \n",
    "Fruits=['Apple','Orange','Pineapple','cherry','Guava']\n",
    "\n",
    "#create and fit the label encoder\n",
    "encoder=LabelEncoder()\n",
    "encoder.fit(Fruits)\n",
    "\n",
    "#transform the labels to  encoded integers\n",
    "encoded_labels=encoder.transform(Fruits)\n",
    "print(\"Encoded labels \",encoded_labels)\n",
    "\n",
    "#invers transform to get back the original labels\n",
    "decoded_labels=encoder.inverse_transform(encoded_labels)\n",
    "print(\"Decoded Labels :\",decoded_labels)\n",
    "\n",
    "\n",
    "                                   \n",
    "                                   \n",
    "                                   \n",
    "                                   \n",
    "                                   \n",
    "                                   \n",
    "                                   \n",
    "                                  \n",
    "\n",
    "                                  \n",
    "                                  "
   ]
  },
  {
   "cell_type": "code",
   "execution_count": null,
   "id": "5d31e0b0",
   "metadata": {},
   "outputs": [],
   "source": []
  },
  {
   "cell_type": "markdown",
   "id": "8d4623e6",
   "metadata": {},
   "source": [
    "# min-maxscaler"
   ]
  },
  {
   "cell_type": "code",
   "execution_count": 10,
   "id": "1086357b",
   "metadata": {},
   "outputs": [
    {
     "data": {
      "text/html": [
       "<div>\n",
       "<style scoped>\n",
       "    .dataframe tbody tr th:only-of-type {\n",
       "        vertical-align: middle;\n",
       "    }\n",
       "\n",
       "    .dataframe tbody tr th {\n",
       "        vertical-align: top;\n",
       "    }\n",
       "\n",
       "    .dataframe thead th {\n",
       "        text-align: right;\n",
       "    }\n",
       "</style>\n",
       "<table border=\"1\" class=\"dataframe\">\n",
       "  <thead>\n",
       "    <tr style=\"text-align: right;\">\n",
       "      <th></th>\n",
       "      <th>Name</th>\n",
       "      <th>Age</th>\n",
       "      <th>city</th>\n",
       "      <th>ID</th>\n",
       "    </tr>\n",
       "  </thead>\n",
       "  <tbody>\n",
       "    <tr>\n",
       "      <th>0</th>\n",
       "      <td>1</td>\n",
       "      <td>19</td>\n",
       "      <td>1</td>\n",
       "      <td>101</td>\n",
       "    </tr>\n",
       "    <tr>\n",
       "      <th>1</th>\n",
       "      <td>0</td>\n",
       "      <td>20</td>\n",
       "      <td>2</td>\n",
       "      <td>102</td>\n",
       "    </tr>\n",
       "    <tr>\n",
       "      <th>2</th>\n",
       "      <td>2</td>\n",
       "      <td>23</td>\n",
       "      <td>3</td>\n",
       "      <td>302</td>\n",
       "    </tr>\n",
       "    <tr>\n",
       "      <th>3</th>\n",
       "      <td>3</td>\n",
       "      <td>26</td>\n",
       "      <td>0</td>\n",
       "      <td>283</td>\n",
       "    </tr>\n",
       "  </tbody>\n",
       "</table>\n",
       "</div>"
      ],
      "text/plain": [
       "   Name  Age  city   ID\n",
       "0     1   19     1  101\n",
       "1     0   20     2  102\n",
       "2     2   23     3  302\n",
       "3     3   26     0  283"
      ]
     },
     "execution_count": 10,
     "metadata": {},
     "output_type": "execute_result"
    }
   ],
   "source": [
    "df"
   ]
  },
  {
   "cell_type": "code",
   "execution_count": 25,
   "id": "f619a651",
   "metadata": {},
   "outputs": [
    {
     "data": {
      "text/plain": [
       "array([[ 0,  1,  2,  3,  4],\n",
       "       [ 5,  6,  7,  8,  9],\n",
       "       [10, 11, 12, 13, 14],\n",
       "       [15, 16, 17, 18, 19]])"
      ]
     },
     "execution_count": 25,
     "metadata": {},
     "output_type": "execute_result"
    }
   ],
   "source": [
    "from sklearn.preprocessing import MinMaxScaler\n",
    "data=np.arange(0,20).reshape(4,5)\n",
    "data"
   ]
  },
  {
   "cell_type": "code",
   "execution_count": 12,
   "id": "124340c8",
   "metadata": {},
   "outputs": [
    {
     "name": "stdout",
     "output_type": "stream",
     "text": [
      "[[0.         0.         0.         0.         0.        ]\n",
      " [0.33333333 0.33333333 0.33333333 0.33333333 0.33333333]\n",
      " [0.66666667 0.66666667 0.66666667 0.66666667 0.66666667]\n",
      " [1.         1.         1.         1.         1.        ]]\n"
     ]
    }
   ],
   "source": [
    "scaler=MinMaxScaler()\n",
    "scaled_data=scaler.fit_transform(data)\n",
    "print(scaled_data)"
   ]
  },
  {
   "cell_type": "markdown",
   "id": "82f38c7b",
   "metadata": {},
   "source": [
    "minmaxsscaler without sklearn library"
   ]
  },
  {
   "cell_type": "code",
   "execution_count": 14,
   "id": "dedc2c01",
   "metadata": {},
   "outputs": [
    {
     "name": "stdout",
     "output_type": "stream",
     "text": [
      "[0.0, 0.25, 0.5, 0.75, 1.0]\n"
     ]
    }
   ],
   "source": [
    "#min-max scaler for single data\n",
    "data=[1.0,2.0,3.0,4.0,5.0]\n",
    "def min_max_scaler(dataset):\n",
    "    min_val=min(dataset)\n",
    "    max_val=max(dataset)\n",
    "    scaled_data=[(x-min_val)/(max_val-min_val) for x in dataset]\n",
    "    return scaled_data\n",
    "scaled_data=min_max_scaler(data)\n",
    "print(scaled_data)"
   ]
  },
  {
   "cell_type": "code",
   "execution_count": 27,
   "id": "23b99c8b",
   "metadata": {},
   "outputs": [
    {
     "name": "stdout",
     "output_type": "stream",
     "text": [
      "[[0.         0.05263158 0.10526316 0.15789474 0.21052632]\n",
      " [0.26315789 0.31578947 0.36842105 0.42105263 0.47368421]\n",
      " [0.52631579 0.57894737 0.63157895 0.68421053 0.73684211]\n",
      " [0.78947368 0.84210526 0.89473684 0.94736842 1.        ]]\n"
     ]
    }
   ],
   "source": [
    "#min_max_scaler for multiple element array\n",
    "\n",
    "def min_max_scaler(dataset,feature_range=(0,1)):\n",
    "    dataset=np.array(dataset)\n",
    "    min_val=dataset.min()\n",
    "    max_val=dataset.max()\n",
    "    \n",
    "    if min_val==max_val:\n",
    "        #Handle the case where all the value are same to avoid division by zero\n",
    "        return np.full(dataset.shape,feature_range[0])\n",
    "    scaled_data=(dataset-min_val)/(max_val-min_val)*(feature_range[1]-feature_range[0])+feature_range[0]\n",
    "    \n",
    "    return scaled_data\n",
    "data=np.arange(0,20).reshape(4,5)\n",
    "scaled_data=min_max_scaler(data,feature_range=(0,1))\n",
    "print(scaled_data)"
   ]
  },
  {
   "cell_type": "code",
   "execution_count": null,
   "id": "05d75476",
   "metadata": {},
   "outputs": [],
   "source": []
  }
 ],
 "metadata": {
  "kernelspec": {
   "display_name": "Python 3 (ipykernel)",
   "language": "python",
   "name": "python3"
  },
  "language_info": {
   "codemirror_mode": {
    "name": "ipython",
    "version": 3
   },
   "file_extension": ".py",
   "mimetype": "text/x-python",
   "name": "python",
   "nbconvert_exporter": "python",
   "pygments_lexer": "ipython3",
   "version": "3.10.9"
  }
 },
 "nbformat": 4,
 "nbformat_minor": 5
}
