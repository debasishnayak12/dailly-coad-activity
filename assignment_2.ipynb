{
 "cells": [
  {
   "cell_type": "markdown",
   "id": "d707fae5",
   "metadata": {},
   "source": [
    " #### 1.What are the two values of the Boolean data type? How do you write them?"
   ]
  },
  {
   "cell_type": "markdown",
   "id": "28bfb23b",
   "metadata": {},
   "source": [
    "ANS - Two values of boolean are 'True' and 'False'  .\n",
    "    - it helps in decision making .\n",
    "    - Example: \n",
    "        is_raining = True  # A boolean variable\n",
    "\n",
    "        if is_raining:\n",
    "            print(\"Take an umbrella!\")\n",
    "        else:\n",
    "            print(\"Enjoy the sunshine!\")\n"
   ]
  },
  {
   "cell_type": "markdown",
   "id": "c5ce7e23",
   "metadata": {},
   "source": [
    "#### 2.What are the three different types of Boolean operators?"
   ]
  },
  {
   "cell_type": "markdown",
   "id": "340de326",
   "metadata": {},
   "source": [
    "ANS - There are three type of boolean operators :\n",
    "    -- AND,\n",
    "    -- OR,\n",
    "    -- NOT"
   ]
  },
  {
   "cell_type": "markdown",
   "id": "7195db18",
   "metadata": {},
   "source": [
    "#### 3.Make a list of each Boolean operator&#39;s truth tables (i.e. every possible combination of Boolean values for the operator and what it evaluate )."
   ]
  },
  {
   "cell_type": "markdown",
   "id": "a5fdf502",
   "metadata": {},
   "source": [
    "#### ANS :"
   ]
  },
  {
   "cell_type": "raw",
   "id": "da9153d7",
   "metadata": {},
   "source": [
    "Truth table for AND :\n",
    "\n",
    " (A)\t (B)   (A and B)\n",
    "True\tTrue\tTrue\n",
    "True\tFalse\tFalse\n",
    "False\tTrue\tFalse\n",
    "False\tFalse\tFalse"
   ]
  },
  {
   "cell_type": "raw",
   "id": "0bf31989",
   "metadata": {},
   "source": [
    "Truth Table for OR :\n",
    "\n",
    " (A)\t (B)\t(A or B)\n",
    "True\tTrue\tTrue\n",
    "True\tFalse\tTrue\n",
    "False\tTrue\tTrue\n",
    "False\tFalse\tFalse"
   ]
  },
  {
   "cell_type": "raw",
   "id": "e5876462",
   "metadata": {},
   "source": [
    "Truth Table for NOT :\n",
    "\n",
    " (A)\t(not A)\n",
    "True\tFalse\n",
    "False\tTrue"
   ]
  },
  {
   "cell_type": "markdown",
   "id": "ffc2f946",
   "metadata": {},
   "source": [
    "#### 4. What are the values of the following expressions?\n",
    "(5 > 4) and (3 == 5)\n",
    "\n",
    "not (5 > 4)\n",
    "\n",
    "(5 > 4) or (3 == 5)\n",
    "\n",
    "not ((5 > 4) or (3 == 5))\n",
    "\n",
    "(True and True) and (True == False)\n",
    "\n",
    "(not False) or (not True)"
   ]
  },
  {
   "cell_type": "markdown",
   "id": "8d3f1261",
   "metadata": {},
   "source": [
    "#### ANS :"
   ]
  },
  {
   "cell_type": "markdown",
   "id": "4299e708",
   "metadata": {},
   "source": [
    "(5 > 4) and (3 == 5)  -> False\n",
    "\n",
    "not (5 > 4)    -> False\n",
    "\n",
    "(5 > 4) or (3 == 5)  ->True\n",
    "\n",
    "not ((5 > 4) or (3 == 5))  -> False\n",
    "\n",
    "(True and True) and (True == False) ->False\n",
    "\n",
    "(not False) or (not True) -> True"
   ]
  },
  {
   "cell_type": "markdown",
   "id": "d3388954",
   "metadata": {},
   "source": [
    "#### 5. What are the six comparison operators?"
   ]
  },
  {
   "cell_type": "markdown",
   "id": "2621e262",
   "metadata": {},
   "source": [
    "#### ANS :"
   ]
  },
  {
   "cell_type": "markdown",
   "id": "60a6b0c9",
   "metadata": {},
   "source": [
    "1. greaterthan( > )\n",
    "\n",
    "2. Lessthan( < )\n",
    "\n",
    "3. Equal( == )\n",
    "\n",
    "4. Notequal( != )\n",
    "\n",
    "5. Greaterequal( >= )\n",
    "\n",
    "6. Lesserequal( <= )"
   ]
  },
  {
   "cell_type": "markdown",
   "id": "a9730afc",
   "metadata": {},
   "source": [
    "#### 6. How do you tell the difference between the equal to and assignment operators?Describe a condition and when you would use one."
   ]
  },
  {
   "cell_type": "markdown",
   "id": "675576eb",
   "metadata": {},
   "source": [
    "#### ANS :"
   ]
  },
  {
   "cell_type": "markdown",
   "id": "c596e18d",
   "metadata": {},
   "source": [
    "i. Equal to -> ( == )\n",
    "\n",
    "ii. Assignment -> ( = )\n",
    "    \n",
    "a = 10 (assignment)\n",
    "\n",
    "if a==10: ( Checking equalto or not )\n",
    "\n",
    "    print(\"True\")\n"
   ]
  },
  {
   "cell_type": "markdown",
   "id": "fbb1dbc8",
   "metadata": {},
   "source": [
    "#### 7. Identify the three blocks in this code:\n",
    "spam = 0\n",
    "\n",
    "if spam == 10:\n",
    "    \n",
    "print('eggs')\n",
    "\n",
    "if spam > 5:\n",
    "    \n",
    "print('bacon')\n",
    "\n",
    "else:\n",
    "    \n",
    "print('ham')\n",
    "\n",
    "print('spam')\n",
    "\n",
    "print('spam')"
   ]
  },
  {
   "cell_type": "markdown",
   "id": "2876c1f8",
   "metadata": {},
   "source": [
    "#### ANS :"
   ]
  },
  {
   "cell_type": "markdown",
   "id": "99e4235a",
   "metadata": {},
   "source": [
    "spam = 0\n",
    "\n",
    "if spam == 10:\n",
    "\n",
    "    print('eggs')\n",
    "    \n",
    "if spam > 5:\n",
    "\n",
    "    print('bacon')\n",
    "    \n",
    "else:\n",
    "\n",
    "    print('ham')\n",
    "    \n",
    "print('spam')\n",
    "\n",
    "print('spam')"
   ]
  },
  {
   "cell_type": "markdown",
   "id": "0c7db532",
   "metadata": {},
   "source": [
    "#### 8. Write code that prints Hello if 1 is stored in spam, prints Howdy if 2 is stored in spam, and prints Greetings! if anything else is stored in spam."
   ]
  },
  {
   "cell_type": "markdown",
   "id": "a6c54384",
   "metadata": {},
   "source": [
    "#### ANS :"
   ]
  },
  {
   "cell_type": "markdown",
   "id": "0ef61043",
   "metadata": {},
   "source": [
    "span = int(input(\"Enter a digit to spam : \"))\n",
    "\n",
    "if span==1:\n",
    "    \n",
    "    print(\"Hello\")\n",
    "    \n",
    "elif(span==2):\n",
    "    \n",
    "    print(\"Howdy\")\n",
    "    \n",
    "else:\n",
    "    \n",
    "    print(\"Greetings!\")"
   ]
  },
  {
   "cell_type": "markdown",
   "id": "b37db9c3",
   "metadata": {},
   "source": [
    "#### 9.If your programme is stuck in an endless loop, what keys you’ll press?"
   ]
  },
  {
   "cell_type": "markdown",
   "id": "f299c6ba",
   "metadata": {},
   "source": [
    "#### ANS :"
   ]
  },
  {
   "cell_type": "markdown",
   "id": "832ad0a4",
   "metadata": {},
   "source": [
    "1. ForWindows : Ctrl + c is the common key to stop an ongoing or running programme .\n",
    "2. mac : Use Command + Option + Esc to open the Force Quit menu."
   ]
  },
  {
   "cell_type": "markdown",
   "id": "2e90c65b",
   "metadata": {},
   "source": [
    "#### 10. How can you tell the difference between break and continue?"
   ]
  },
  {
   "cell_type": "markdown",
   "id": "f9fc728e",
   "metadata": {},
   "source": [
    "1. break:\n",
    "* Purpose: Exits the loop entirely, stopping further iterations.\n",
    "* Effect: The loop terminates immediately when break is encountered, and the program continues with the next line of code after the loop.\n",
    "\n",
    "2. continue:\n",
    "* Purpose: Skips the current iteration and moves to the next iteration of the loop.\n",
    "* Effect: The loop continues to run but skips any code below the continue statement for the current iteration."
   ]
  },
  {
   "cell_type": "markdown",
   "id": "fed29eb4",
   "metadata": {},
   "source": [
    "#### 11. In a for loop, what is the difference between range(10), range(0, 10), and range(0, 10, 1)?"
   ]
  },
  {
   "cell_type": "markdown",
   "id": "7069858c",
   "metadata": {},
   "source": [
    "* range(10) :\n",
    "    * this is the simplest form of range where by default it takes from 0-10 range but exclude 10 \n",
    "    \n",
    "* range(0,10):\n",
    "    * it same as simple range but specifies start from 0 and step is default 1 .\n",
    "    \n",
    "* range(0,10,1):\n",
    "    * Here it also work as same above but here start point and steps and end point mentioned , 1 is step as it take one after one number from range \n",
    "    "
   ]
  },
  {
   "cell_type": "markdown",
   "id": "45e7f79f",
   "metadata": {},
   "source": [
    "#### 12. Write a short program that prints the numbers 1 to 10 using a for loop. Then write an equivalent program that prints the numbers 1 to 10 using a while loop."
   ]
  },
  {
   "cell_type": "markdown",
   "id": "00ccbab3",
   "metadata": {},
   "source": [
    "#### ANS :\n",
    "\n",
    "#### FOR Loop :\n",
    "\n",
    "print(\"This is for for loop :\")\n",
    "\n",
    "for i in range(1,11):\n",
    "    \n",
    "    print(i,end=' ')\n",
    "    \n",
    "#### While Loop :\n",
    "\n",
    "print(\"\\nthis is for while loop :\")\n",
    "\n",
    "j=1\n",
    "\n",
    "while j<=10:\n",
    "    \n",
    "    print(j,end=' ')\n",
    "    \n",
    "    j+=1\n",
    " "
   ]
  },
  {
   "cell_type": "markdown",
   "id": "f9b4337d",
   "metadata": {},
   "source": [
    "#### 13. If you had a function named bacon() inside a module named spam, how would you call it after importing spam?"
   ]
  },
  {
   "cell_type": "markdown",
   "id": "d725fa74",
   "metadata": {},
   "source": [
    "#### ANS :\n",
    "* import spam\n",
    "    * Bacon = spam.bacon()\n",
    "* OR from span import bacon"
   ]
  },
  {
   "cell_type": "code",
   "execution_count": null,
   "id": "cd66d703",
   "metadata": {},
   "outputs": [],
   "source": []
  }
 ],
 "metadata": {
  "kernelspec": {
   "display_name": "Python 3 (ipykernel)",
   "language": "python",
   "name": "python3"
  },
  "language_info": {
   "codemirror_mode": {
    "name": "ipython",
    "version": 3
   },
   "file_extension": ".py",
   "mimetype": "text/x-python",
   "name": "python",
   "nbconvert_exporter": "python",
   "pygments_lexer": "ipython3",
   "version": "3.10.9"
  }
 },
 "nbformat": 4,
 "nbformat_minor": 5
}
