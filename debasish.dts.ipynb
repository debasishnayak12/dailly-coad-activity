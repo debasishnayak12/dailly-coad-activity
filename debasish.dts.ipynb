{
 "cells": [
  {
   "cell_type": "code",
   "execution_count": 1,
   "id": "2e7e5113",
   "metadata": {},
   "outputs": [],
   "source": [
    "import keyword"
   ]
  },
  {
   "cell_type": "code",
   "execution_count": 2,
   "id": "38bdcd20",
   "metadata": {},
   "outputs": [
    {
     "data": {
      "text/plain": [
       "['False',\n",
       " 'None',\n",
       " 'True',\n",
       " 'and',\n",
       " 'as',\n",
       " 'assert',\n",
       " 'async',\n",
       " 'await',\n",
       " 'break',\n",
       " 'class',\n",
       " 'continue',\n",
       " 'def',\n",
       " 'del',\n",
       " 'elif',\n",
       " 'else',\n",
       " 'except',\n",
       " 'finally',\n",
       " 'for',\n",
       " 'from',\n",
       " 'global',\n",
       " 'if',\n",
       " 'import',\n",
       " 'in',\n",
       " 'is',\n",
       " 'lambda',\n",
       " 'nonlocal',\n",
       " 'not',\n",
       " 'or',\n",
       " 'pass',\n",
       " 'raise',\n",
       " 'return',\n",
       " 'try',\n",
       " 'while',\n",
       " 'with',\n",
       " 'yield']"
      ]
     },
     "execution_count": 2,
     "metadata": {},
     "output_type": "execute_result"
    }
   ],
   "source": [
    "words=keyword.kwlist\n",
    "words"
   ]
  },
  {
   "cell_type": "code",
   "execution_count": 3,
   "id": "10255d7e",
   "metadata": {},
   "outputs": [
    {
     "data": {
      "text/plain": [
       "35"
      ]
     },
     "execution_count": 3,
     "metadata": {},
     "output_type": "execute_result"
    }
   ],
   "source": [
    "len(words)"
   ]
  },
  {
   "cell_type": "code",
   "execution_count": 1,
   "id": "78e9671a",
   "metadata": {},
   "outputs": [
    {
     "name": "stdout",
     "output_type": "stream",
     "text": [
      "9\n"
     ]
    }
   ],
   "source": [
    "a=4\n",
    "b=5\n",
    "c=a+b\n",
    "print(c)"
   ]
  },
  {
   "cell_type": "code",
   "execution_count": 4,
   "id": "3393715d",
   "metadata": {},
   "outputs": [
    {
     "name": "stdout",
     "output_type": "stream",
     "text": [
      "This is true!\n",
      "0\n",
      "1\n",
      "2\n"
     ]
    }
   ],
   "source": [
    "if True:\n",
    "    print(\"This is true!\")\n",
    "for i in range(3):\n",
    "    print(i)\n",
    "def hello():\n",
    "    print(\"Hello ,world!\")\n",
    "while False:\n",
    "    print(\"This won't print\")\n",
    "    "
   ]
  },
  {
   "cell_type": "code",
   "execution_count": 10,
   "id": "c105882e",
   "metadata": {},
   "outputs": [],
   "source": [
    "#1 + 2 + 3 + 4 + 1 + 2 + 3 + 4 + 1 + 2 + 3 + 4 + 1 + 2 + 3 + 4 + 1 + 2 + 3 + 4 + 1 + 2 + 3 + 4 + 1 + 2 + 3 + 4\n",
    "\n",
    "s = ( 1 + 2 + 3 + 4+\n",
    "     1 + 2 + 3 + 4 )"
   ]
  },
  {
   "cell_type": "code",
   "execution_count": 1,
   "id": "766c0607",
   "metadata": {},
   "outputs": [
    {
     "name": "stdout",
     "output_type": "stream",
     "text": [
      "['apple', 'grapes', 'guava']\n"
     ]
    }
   ],
   "source": [
    "fruits=[\"apple\",\"grapes\",\"guava\"]\n",
    "print(fruits)"
   ]
  },
  {
   "cell_type": "code",
   "execution_count": 3,
   "id": "46508e2f",
   "metadata": {},
   "outputs": [
    {
     "name": "stdout",
     "output_type": "stream",
     "text": [
      "['1', 'debu', ['apple', 'grapes', 'guava']]\n"
     ]
    }
   ],
   "source": [
    "hetero_mylist = ['1','debu',[\"apple\",\"grapes\",\"guava\"]]\n",
    "print(hetero_mylist)"
   ]
  },
  {
   "cell_type": "code",
   "execution_count": 9,
   "id": "91db2828",
   "metadata": {},
   "outputs": [
    {
     "data": {
      "text/plain": [
       "str"
      ]
     },
     "execution_count": 9,
     "metadata": {},
     "output_type": "execute_result"
    }
   ],
   "source": [
    "type(\"today's thought\")"
   ]
  },
  {
   "cell_type": "code",
   "execution_count": 10,
   "id": "2c317c7c",
   "metadata": {},
   "outputs": [
    {
     "data": {
      "text/plain": [
       "14"
      ]
     },
     "execution_count": 10,
     "metadata": {},
     "output_type": "execute_result"
    }
   ],
   "source": [
    "a=6\n",
    "b=a+2\n",
    "c=b+a\n",
    "c"
   ]
  },
  {
   "cell_type": "code",
   "execution_count": 15,
   "id": "9040ec8c",
   "metadata": {},
   "outputs": [
    {
     "name": "stdout",
     "output_type": "stream",
     "text": [
      "1982174265712\n",
      "5\n",
      "1982174265936\n",
      "12\n",
      "1982174266832\n",
      "40\n"
     ]
    }
   ],
   "source": [
    "c=5\n",
    "print(id(c))\n",
    "print(c)\n",
    "d=7\n",
    "c=c+d\n",
    "print(id(c))\n",
    "print(c)\n",
    "c=40\n",
    "print(id(c))\n",
    "print(c)"
   ]
  },
  {
   "cell_type": "code",
   "execution_count": 16,
   "id": "52fd67a2",
   "metadata": {},
   "outputs": [
    {
     "data": {
      "text/plain": [
       "'abc'"
      ]
     },
     "execution_count": 16,
     "metadata": {},
     "output_type": "execute_result"
    }
   ],
   "source": [
    "c='abc'\n",
    "c"
   ]
  },
  {
   "cell_type": "code",
   "execution_count": 14,
   "id": "417b7e6b",
   "metadata": {},
   "outputs": [
    {
     "data": {
      "text/plain": [
       "1982174266832"
      ]
     },
     "execution_count": 14,
     "metadata": {},
     "output_type": "execute_result"
    }
   ],
   "source": [
    "id(c)"
   ]
  },
  {
   "cell_type": "code",
   "execution_count": 18,
   "id": "98783003",
   "metadata": {},
   "outputs": [],
   "source": [
    "a=[2,3.80,'apple',True]"
   ]
  },
  {
   "cell_type": "code",
   "execution_count": 21,
   "id": "fbf93a55",
   "metadata": {},
   "outputs": [
    {
     "data": {
      "text/plain": [
       "[2, 3.8, 'apple', True]"
      ]
     },
     "execution_count": 21,
     "metadata": {},
     "output_type": "execute_result"
    }
   ],
   "source": [
    "a"
   ]
  },
  {
   "cell_type": "code",
   "execution_count": 20,
   "id": "a9d3a9b9",
   "metadata": {},
   "outputs": [
    {
     "data": {
      "text/plain": [
       "4"
      ]
     },
     "execution_count": 20,
     "metadata": {},
     "output_type": "execute_result"
    }
   ],
   "source": [
    "len(a)"
   ]
  },
  {
   "cell_type": "code",
   "execution_count": 22,
   "id": "d5313fa7",
   "metadata": {},
   "outputs": [
    {
     "data": {
      "text/plain": [
       "2"
      ]
     },
     "execution_count": 22,
     "metadata": {},
     "output_type": "execute_result"
    }
   ],
   "source": [
    "a[0]"
   ]
  },
  {
   "cell_type": "code",
   "execution_count": 23,
   "id": "aa215ae9",
   "metadata": {},
   "outputs": [
    {
     "data": {
      "text/plain": [
       "3.8"
      ]
     },
     "execution_count": 23,
     "metadata": {},
     "output_type": "execute_result"
    }
   ],
   "source": [
    "a[1]"
   ]
  },
  {
   "cell_type": "code",
   "execution_count": 24,
   "id": "bd56fcc2",
   "metadata": {},
   "outputs": [
    {
     "data": {
      "text/plain": [
       "True"
      ]
     },
     "execution_count": 24,
     "metadata": {},
     "output_type": "execute_result"
    }
   ],
   "source": [
    "a[-1]"
   ]
  },
  {
   "cell_type": "code",
   "execution_count": 25,
   "id": "1e4df453",
   "metadata": {},
   "outputs": [],
   "source": [
    "s='grapes'"
   ]
  },
  {
   "cell_type": "code",
   "execution_count": 26,
   "id": "4928d0cd",
   "metadata": {},
   "outputs": [
    {
     "data": {
      "text/plain": [
       "'s'"
      ]
     },
     "execution_count": 26,
     "metadata": {},
     "output_type": "execute_result"
    }
   ],
   "source": [
    "s[-1]"
   ]
  },
  {
   "cell_type": "code",
   "execution_count": 27,
   "id": "73fc2c55",
   "metadata": {},
   "outputs": [
    {
     "data": {
      "text/plain": [
       "'p'"
      ]
     },
     "execution_count": 27,
     "metadata": {},
     "output_type": "execute_result"
    }
   ],
   "source": [
    "s[3]"
   ]
  },
  {
   "cell_type": "code",
   "execution_count": 1,
   "id": "2e1148bd",
   "metadata": {},
   "outputs": [
    {
     "name": "stdout",
     "output_type": "stream",
     "text": [
      "100\n",
      "5\n"
     ]
    }
   ],
   "source": [
    "score=100\n",
    "wickets=5\n",
    "print(score)\n",
    "print(wickets)"
   ]
  },
  {
   "cell_type": "code",
   "execution_count": 5,
   "id": "7dc24448",
   "metadata": {},
   "outputs": [
    {
     "name": "stdout",
     "output_type": "stream",
     "text": [
      "debu\n",
      "20\n"
     ]
    }
   ],
   "source": [
    "_name=\"debu\"\n",
    "_age=20\n",
    "print(_name)\n",
    "print(_age)"
   ]
  },
  {
   "cell_type": "code",
   "execution_count": 6,
   "id": "1289b6a0",
   "metadata": {},
   "outputs": [
    {
     "name": "stdout",
     "output_type": "stream",
     "text": [
      "6\n",
      "1\n",
      "3\n"
     ]
    }
   ],
   "source": [
    "my_list=[1,2,3,4,5,6]\n",
    "print(my_list[-1])\n",
    "print(my_list[0])\n",
    "my_list[1]=8\n",
    "print(my_list[2])"
   ]
  },
  {
   "cell_type": "code",
   "execution_count": 7,
   "id": "b5031ebc",
   "metadata": {},
   "outputs": [
    {
     "name": "stdout",
     "output_type": "stream",
     "text": [
      "(1, 2, 3, 4, 'debu', [5, 6, 7])\n"
     ]
    }
   ],
   "source": [
    "my_tuple=(1,2,3,4,\"debu\",[5,6,7])\n",
    "print(my_tuple)"
   ]
  },
  {
   "cell_type": "code",
   "execution_count": 12,
   "id": "c223870c",
   "metadata": {},
   "outputs": [
    {
     "name": "stdout",
     "output_type": "stream",
     "text": [
      "('a', 's', 'd', 'debu', 1, 2, 3)\n"
     ]
    }
   ],
   "source": [
    "my_tuple=(\"a\",\"s\",\"d\",\"debu\",1,2,3)\n",
    "print(my_tuple)"
   ]
  },
  {
   "cell_type": "code",
   "execution_count": 13,
   "id": "9ccfdcd1",
   "metadata": {},
   "outputs": [
    {
     "name": "stdout",
     "output_type": "stream",
     "text": [
      "a\n"
     ]
    }
   ],
   "source": [
    "print(my_tuple[0])"
   ]
  },
  {
   "cell_type": "code",
   "execution_count": 14,
   "id": "7bbd8fde",
   "metadata": {},
   "outputs": [
    {
     "name": "stdout",
     "output_type": "stream",
     "text": [
      "2\n"
     ]
    }
   ],
   "source": [
    "print(my_tuple[-2])"
   ]
  },
  {
   "cell_type": "code",
   "execution_count": 15,
   "id": "9e0efe24",
   "metadata": {},
   "outputs": [
    {
     "name": "stdout",
     "output_type": "stream",
     "text": [
      "debu\n"
     ]
    }
   ],
   "source": [
    "print(my_tuple[3])"
   ]
  },
  {
   "cell_type": "code",
   "execution_count": 24,
   "id": "9217bcfc",
   "metadata": {},
   "outputs": [
    {
     "name": "stdout",
     "output_type": "stream",
     "text": [
      "a\n"
     ]
    }
   ],
   "source": [
    "print(my_tuple[0])"
   ]
  },
  {
   "cell_type": "code",
   "execution_count": 18,
   "id": "fa7a1b59",
   "metadata": {},
   "outputs": [
    {
     "name": "stdout",
     "output_type": "stream",
     "text": [
      "s\n"
     ]
    }
   ],
   "source": [
    "print(my_tuple[1])"
   ]
  },
  {
   "cell_type": "code",
   "execution_count": 26,
   "id": "425e2a47",
   "metadata": {},
   "outputs": [
    {
     "name": "stdout",
     "output_type": "stream",
     "text": [
      "{'name': 'debu', 'age': 25, (1, 2, 3): 100}\n"
     ]
    }
   ],
   "source": [
    "my_dict={\"name\":\"debu\",\"age\":25,(1,2,3):100}\n",
    "print(my_dict)"
   ]
  },
  {
   "cell_type": "code",
   "execution_count": 28,
   "id": "005b3abd",
   "metadata": {},
   "outputs": [
    {
     "data": {
      "text/plain": [
       "dict_keys(['name', 'age', (1, 2, 3)])"
      ]
     },
     "execution_count": 28,
     "metadata": {},
     "output_type": "execute_result"
    }
   ],
   "source": [
    "my_dict.keys()"
   ]
  },
  {
   "cell_type": "code",
   "execution_count": 31,
   "id": "b612247c",
   "metadata": {},
   "outputs": [
    {
     "ename": "KeyError",
     "evalue": "'debu'",
     "output_type": "error",
     "traceback": [
      "\u001b[1;31m---------------------------------------------------------------------------\u001b[0m",
      "\u001b[1;31mKeyError\u001b[0m                                  Traceback (most recent call last)",
      "Cell \u001b[1;32mIn[31], line 1\u001b[0m\n\u001b[1;32m----> 1\u001b[0m \u001b[43mmy_dict\u001b[49m\u001b[43m[\u001b[49m\u001b[38;5;124;43m'\u001b[39;49m\u001b[38;5;124;43mdebu\u001b[39;49m\u001b[38;5;124;43m'\u001b[39;49m\u001b[43m]\u001b[49m\n",
      "\u001b[1;31mKeyError\u001b[0m: 'debu'"
     ]
    }
   ],
   "source": [
    "my_dict['debu']"
   ]
  },
  {
   "cell_type": "code",
   "execution_count": 36,
   "id": "06d75418",
   "metadata": {},
   "outputs": [
    {
     "name": "stdout",
     "output_type": "stream",
     "text": [
      "['a', 'b', 'c']\n"
     ]
    }
   ],
   "source": [
    "my_list=[1,2,3,4,[\"a\",\"b\",\"c\"]]\n",
    "print(my_list[-1])"
   ]
  },
  {
   "cell_type": "code",
   "execution_count": 37,
   "id": "da3ddca9",
   "metadata": {},
   "outputs": [
    {
     "name": "stdout",
     "output_type": "stream",
     "text": [
      "5.0\n"
     ]
    }
   ],
   "source": [
    "import math\n",
    "result=math.sqrt(25)\n",
    "print(result)"
   ]
  },
  {
   "cell_type": "code",
   "execution_count": 41,
   "id": "b5a14a36",
   "metadata": {},
   "outputs": [
    {
     "name": "stdout",
     "output_type": "stream",
     "text": [
      "8.0\n"
     ]
    }
   ],
   "source": [
    "from math import sqrt\n",
    "result=sqrt(64)\n",
    "print(result)"
   ]
  },
  {
   "cell_type": "code",
   "execution_count": 42,
   "id": "1463fbdd",
   "metadata": {},
   "outputs": [
    {
     "name": "stdout",
     "output_type": "stream",
     "text": [
      "this is a possitive number\n"
     ]
    }
   ],
   "source": [
    "x=10\n",
    "if x < 20:\n",
    "    print(\"this is a possitive number\")"
   ]
  },
  {
   "cell_type": "code",
   "execution_count": 45,
   "id": "1582b307",
   "metadata": {},
   "outputs": [
    {
     "name": "stdout",
     "output_type": "stream",
     "text": [
      "it is false\n"
     ]
    }
   ],
   "source": [
    "x=5\n",
    "if x>8:\n",
    "    print(\"it is true\")\n",
    "else:\n",
    "    print(\"it is false\")"
   ]
  },
  {
   "cell_type": "code",
   "execution_count": 4,
   "id": "e1173d9b",
   "metadata": {},
   "outputs": [
    {
     "name": "stdout",
     "output_type": "stream",
     "text": [
      "['my ', ' is debu, i have, a lenevo i-3 laptop']\n"
     ]
    }
   ],
   "source": [
    "A=\"my name is debu, i have, a lenevo i-3 laptop\"\n",
    "#type(A)=string\n",
    "B=A.split('name') #3type(B)=list\n",
    "print(B)"
   ]
  },
  {
   "cell_type": "code",
   "execution_count": 9,
   "id": "75a92c4d",
   "metadata": {},
   "outputs": [
    {
     "name": "stdout",
     "output_type": "stream",
     "text": [
      "['my n', 'me is debu, i h', 've, ', ' lenevo i-3 l', 'ptop']\n"
     ]
    }
   ],
   "source": [
    "C=A.split('a')\n",
    "print(C)"
   ]
  },
  {
   "cell_type": "code",
   "execution_count": 10,
   "id": "8c9a6f2d",
   "metadata": {},
   "outputs": [
    {
     "name": "stdout",
     "output_type": "stream",
     "text": [
      "['he ', ' hari, he has ,no money']\n"
     ]
    }
   ],
   "source": [
    "A=\"he is hari, he has ,no money\"\n",
    "B=A.split('is')\n",
    "print(B)"
   ]
  },
  {
   "cell_type": "code",
   "execution_count": 11,
   "id": "42eba215",
   "metadata": {},
   "outputs": [
    {
     "name": "stdout",
     "output_type": "stream",
     "text": [
      "['', 'e is ', 'ari, ', 'e ', 'as ,no money']\n"
     ]
    }
   ],
   "source": [
    "C=A.split('h')\n",
    "print(C)"
   ]
  },
  {
   "cell_type": "code",
   "execution_count": 12,
   "id": "58f058e8",
   "metadata": {},
   "outputs": [
    {
     "data": {
      "text/plain": [
       "5"
      ]
     },
     "execution_count": 12,
     "metadata": {},
     "output_type": "execute_result"
    }
   ],
   "source": [
    "len(C)"
   ]
  },
  {
   "cell_type": "code",
   "execution_count": 13,
   "id": "9c21dc0d",
   "metadata": {},
   "outputs": [
    {
     "name": "stdout",
     "output_type": "stream",
     "text": [
      "['he ', 's har', ', he has ,no money']\n"
     ]
    }
   ],
   "source": [
    "D=A.split('i')\n",
    "print(D)"
   ]
  },
  {
   "cell_type": "code",
   "execution_count": 20,
   "id": "59a39cda",
   "metadata": {},
   "outputs": [
    {
     "data": {
      "text/plain": [
       "True"
      ]
     },
     "execution_count": 20,
     "metadata": {},
     "output_type": "execute_result"
    }
   ],
   "source": [
    "A.startswith('he is')"
   ]
  },
  {
   "cell_type": "code",
   "execution_count": 21,
   "id": "32df90e3",
   "metadata": {},
   "outputs": [
    {
     "data": {
      "text/plain": [
       "False"
      ]
     },
     "execution_count": 21,
     "metadata": {},
     "output_type": "execute_result"
    }
   ],
   "source": [
    "A.startswith('he has')"
   ]
  },
  {
   "cell_type": "code",
   "execution_count": 51,
   "id": "e0dbc9aa",
   "metadata": {},
   "outputs": [
    {
     "data": {
      "text/plain": [
       "True"
      ]
     },
     "execution_count": 51,
     "metadata": {},
     "output_type": "execute_result"
    }
   ],
   "source": [
    "True==True"
   ]
  },
  {
   "cell_type": "code",
   "execution_count": 52,
   "id": "05e033e3",
   "metadata": {},
   "outputs": [
    {
     "data": {
      "text/plain": [
       "False"
      ]
     },
     "execution_count": 52,
     "metadata": {},
     "output_type": "execute_result"
    }
   ],
   "source": [
    "True==False"
   ]
  },
  {
   "cell_type": "code",
   "execution_count": 53,
   "id": "177517c1",
   "metadata": {},
   "outputs": [
    {
     "data": {
      "text/plain": [
       "False"
      ]
     },
     "execution_count": 53,
     "metadata": {},
     "output_type": "execute_result"
    }
   ],
   "source": [
    "False==True"
   ]
  },
  {
   "cell_type": "code",
   "execution_count": 54,
   "id": "5eea4f60",
   "metadata": {},
   "outputs": [
    {
     "data": {
      "text/plain": [
       "True"
      ]
     },
     "execution_count": 54,
     "metadata": {},
     "output_type": "execute_result"
    }
   ],
   "source": [
    "False==False"
   ]
  },
  {
   "cell_type": "markdown",
   "id": "730e1abf",
   "metadata": {},
   "source": []
  },
  {
   "cell_type": "code",
   "execution_count": null,
   "id": "f72fda21",
   "metadata": {},
   "outputs": [],
   "source": []
  },
  {
   "cell_type": "code",
   "execution_count": 55,
   "id": "45fd26df",
   "metadata": {},
   "outputs": [
    {
     "data": {
      "text/plain": [
       "'\\nA=\"virat kohli is,the greatest batsman\"\\nB=A.split(\"kohli\")\\nprint(B)\\n'"
      ]
     },
     "execution_count": 55,
     "metadata": {},
     "output_type": "execute_result"
    }
   ],
   "source": [
    "'''\n",
    "A=\"virat kohli is,the greatest batsman\"\n",
    "B=A.split(\"kohli\")\n",
    "print(B)\n",
    "'''"
   ]
  },
  {
   "cell_type": "code",
   "execution_count": 28,
   "id": "35b435f2",
   "metadata": {},
   "outputs": [
    {
     "name": "stdout",
     "output_type": "stream",
     "text": [
      "['virat ', ' is,the greatest batsman']\n"
     ]
    }
   ],
   "source": [
    "A=\"virat kohli is,the greatest batsman\"\n",
    "B=A.split(\"kohli\")\n",
    "print(B)"
   ]
  },
  {
   "cell_type": "code",
   "execution_count": 29,
   "id": "4954e94c",
   "metadata": {},
   "outputs": [
    {
     "name": "stdout",
     "output_type": "stream",
     "text": [
      "['vir', 't kohli is,the gre', 'test b', 'tsm', 'n']\n"
     ]
    }
   ],
   "source": [
    "C=A.split(\"a\")\n",
    "print(C)"
   ]
  },
  {
   "cell_type": "code",
   "execution_count": 30,
   "id": "0088ae77",
   "metadata": {},
   "outputs": [
    {
     "data": {
      "text/plain": [
       "5"
      ]
     },
     "execution_count": 30,
     "metadata": {},
     "output_type": "execute_result"
    }
   ],
   "source": [
    "len(C)"
   ]
  },
  {
   "cell_type": "code",
   "execution_count": 31,
   "id": "acc43071",
   "metadata": {},
   "outputs": [
    {
     "data": {
      "text/plain": [
       "True"
      ]
     },
     "execution_count": 31,
     "metadata": {},
     "output_type": "execute_result"
    }
   ],
   "source": [
    "A.startswith(\"virat\")"
   ]
  },
  {
   "cell_type": "code",
   "execution_count": 33,
   "id": "c2c6b3b3",
   "metadata": {},
   "outputs": [
    {
     "data": {
      "text/plain": [
       "False"
      ]
     },
     "execution_count": 33,
     "metadata": {},
     "output_type": "execute_result"
    }
   ],
   "source": [
    "A.startswith(\"kohli\")"
   ]
  },
  {
   "cell_type": "code",
   "execution_count": 34,
   "id": "6a79ba5e",
   "metadata": {},
   "outputs": [
    {
     "name": "stdout",
     "output_type": "stream",
     "text": [
      "1\n",
      "2\n",
      "3\n",
      "4\n",
      "5\n",
      "6\n",
      "7\n"
     ]
    }
   ],
   "source": [
    "for i in range(1,8):\n",
    "    print(i)"
   ]
  },
  {
   "cell_type": "code",
   "execution_count": 39,
   "id": "cabf178c",
   "metadata": {},
   "outputs": [
    {
     "name": "stdout",
     "output_type": "stream",
     "text": [
      "0\n",
      "1\n",
      "2\n",
      "3\n",
      "4\n",
      "5\n",
      "6\n",
      "7\n",
      "8\n",
      "9\n",
      "10\n",
      "11\n",
      "12\n",
      "13\n",
      "14\n",
      "15\n",
      "16\n",
      "17\n",
      "18\n",
      "19\n",
      "20\n",
      "21\n",
      "22\n",
      "23\n",
      "24\n",
      "25\n",
      "26\n",
      "27\n",
      "28\n",
      "29\n"
     ]
    }
   ],
   "source": [
    "for i in range(30):\n",
    "    print(i)"
   ]
  },
  {
   "cell_type": "code",
   "execution_count": 40,
   "id": "7d8e602c",
   "metadata": {},
   "outputs": [
    {
     "name": "stdout",
     "output_type": "stream",
     "text": [
      "2\n",
      "4\n",
      "6\n",
      "8\n"
     ]
    }
   ],
   "source": [
    "for i in range (2,9,2):\n",
    "    print(i)"
   ]
  },
  {
   "cell_type": "code",
   "execution_count": 41,
   "id": "0e132f18",
   "metadata": {},
   "outputs": [
    {
     "name": "stdout",
     "output_type": "stream",
     "text": [
      "1\n",
      "7\n",
      "13\n",
      "19\n",
      "25\n"
     ]
    }
   ],
   "source": [
    "for i in range (1,29,6):\n",
    "    print(i)"
   ]
  },
  {
   "cell_type": "code",
   "execution_count": 44,
   "id": "0b40ab5f",
   "metadata": {},
   "outputs": [
    {
     "name": "stdout",
     "output_type": "stream",
     "text": [
      "0\n",
      "number of iteration: 2\n",
      "1\n",
      "number of iteration: 3\n",
      "2\n",
      "number of iteration: 4\n",
      "3\n",
      "number of iteration: 5\n",
      "4\n",
      "number of iteration: 6\n"
     ]
    }
   ],
   "source": [
    "iteration=1\n",
    "for i in range(5):\n",
    "    print(i)\n",
    "    iteration=iteration+1\n",
    "    print(\"number of iteration:\",iteration)\n",
    "    "
   ]
  },
  {
   "cell_type": "code",
   "execution_count": 45,
   "id": "a2d0d0a5",
   "metadata": {},
   "outputs": [
    {
     "name": "stdout",
     "output_type": "stream",
     "text": [
      "0\n",
      "number of iteration: 3\n",
      "1\n",
      "number of iteration: 4\n",
      "2\n",
      "number of iteration: 5\n",
      "3\n",
      "number of iteration: 6\n",
      "4\n",
      "number of iteration: 7\n",
      "5\n",
      "number of iteration: 8\n",
      "6\n",
      "number of iteration: 9\n",
      "7\n",
      "number of iteration: 10\n",
      "8\n",
      "number of iteration: 11\n",
      "9\n",
      "number of iteration: 12\n"
     ]
    }
   ],
   "source": [
    "iteration=2\n",
    "for i in range (10):\n",
    "    print(i)\n",
    "    iteration=iteration+1\n",
    "    print(\"number of iteration:\",iteration)"
   ]
  },
  {
   "cell_type": "code",
   "execution_count": 1,
   "id": "dd351496",
   "metadata": {},
   "outputs": [
    {
     "name": "stdout",
     "output_type": "stream",
     "text": [
      "13\n",
      "7\n",
      "3.3333333333333335\n"
     ]
    }
   ],
   "source": [
    "a=10\n",
    "b=3\n",
    "print(a+b)\n",
    "print(a-b)\n",
    "print(a/b)"
   ]
  },
  {
   "cell_type": "code",
   "execution_count": 2,
   "id": "3e8c30b0",
   "metadata": {},
   "outputs": [
    {
     "name": "stdout",
     "output_type": "stream",
     "text": [
      "3\n"
     ]
    }
   ],
   "source": [
    "print(a//b)"
   ]
  },
  {
   "cell_type": "code",
   "execution_count": 3,
   "id": "29494224",
   "metadata": {},
   "outputs": [
    {
     "name": "stdout",
     "output_type": "stream",
     "text": [
      "6\n"
     ]
    }
   ],
   "source": [
    "a=20\n",
    "b=3\n",
    "print(a//b)"
   ]
  },
  {
   "cell_type": "code",
   "execution_count": 4,
   "id": "932c1b39",
   "metadata": {},
   "outputs": [
    {
     "name": "stdout",
     "output_type": "stream",
     "text": [
      "2\n"
     ]
    }
   ],
   "source": [
    "print(a%b)"
   ]
  },
  {
   "cell_type": "code",
   "execution_count": 5,
   "id": "258adb40",
   "metadata": {},
   "outputs": [
    {
     "name": "stdout",
     "output_type": "stream",
     "text": [
      "60\n"
     ]
    }
   ],
   "source": [
    "print(a*b)"
   ]
  },
  {
   "cell_type": "code",
   "execution_count": 6,
   "id": "c531b283",
   "metadata": {},
   "outputs": [
    {
     "name": "stdout",
     "output_type": "stream",
     "text": [
      "8000\n"
     ]
    }
   ],
   "source": [
    "print(a**b)"
   ]
  },
  {
   "cell_type": "code",
   "execution_count": 7,
   "id": "ecb3fcf8",
   "metadata": {},
   "outputs": [
    {
     "name": "stdout",
     "output_type": "stream",
     "text": [
      "104857600000000000000000000\n"
     ]
    }
   ],
   "source": [
    "print(a**a)"
   ]
  },
  {
   "cell_type": "code",
   "execution_count": 8,
   "id": "9edb1e45",
   "metadata": {},
   "outputs": [
    {
     "name": "stdout",
     "output_type": "stream",
     "text": [
      "12\n"
     ]
    }
   ],
   "source": [
    "a=3\n",
    "b=4\n",
    "print(a*b)"
   ]
  },
  {
   "cell_type": "code",
   "execution_count": 9,
   "id": "b132a3f3",
   "metadata": {},
   "outputs": [
    {
     "name": "stdout",
     "output_type": "stream",
     "text": [
      "81\n"
     ]
    }
   ],
   "source": [
    "print(a**b)"
   ]
  },
  {
   "cell_type": "code",
   "execution_count": 12,
   "id": "fbd5aee2",
   "metadata": {},
   "outputs": [
    {
     "name": "stdout",
     "output_type": "stream",
     "text": [
      "27\n"
     ]
    }
   ],
   "source": [
    "print(a**a)"
   ]
  },
  {
   "cell_type": "code",
   "execution_count": 26,
   "id": "8b5689bd",
   "metadata": {},
   "outputs": [
    {
     "name": "stdout",
     "output_type": "stream",
     "text": [
      "False\n",
      "10\n",
      "30\n"
     ]
    }
   ],
   "source": [
    "a=10\n",
    "b=30\n",
    "print(a==b)\n",
    "print(a or b)\n",
    "print(b or a)"
   ]
  },
  {
   "cell_type": "code",
   "execution_count": 14,
   "id": "c0532c57",
   "metadata": {},
   "outputs": [
    {
     "name": "stdout",
     "output_type": "stream",
     "text": [
      "False\n"
     ]
    }
   ],
   "source": [
    "a=5\n",
    "b=10\n",
    "print(a>b)"
   ]
  },
  {
   "cell_type": "code",
   "execution_count": 15,
   "id": "43501b89",
   "metadata": {},
   "outputs": [
    {
     "name": "stdout",
     "output_type": "stream",
     "text": [
      "True\n"
     ]
    }
   ],
   "source": [
    "print(a<b)"
   ]
  },
  {
   "cell_type": "code",
   "execution_count": 16,
   "id": "b010f25a",
   "metadata": {},
   "outputs": [
    {
     "name": "stdout",
     "output_type": "stream",
     "text": [
      "True\n"
     ]
    }
   ],
   "source": [
    "a=2\n",
    "b=2\n",
    "print(a>=b)"
   ]
  },
  {
   "cell_type": "code",
   "execution_count": 17,
   "id": "f92b87aa",
   "metadata": {},
   "outputs": [
    {
     "name": "stdout",
     "output_type": "stream",
     "text": [
      "False\n"
     ]
    }
   ],
   "source": [
    "print(a!=b)"
   ]
  },
  {
   "cell_type": "code",
   "execution_count": 20,
   "id": "1f1cc2cd",
   "metadata": {},
   "outputs": [
    {
     "name": "stdout",
     "output_type": "stream",
     "text": [
      "False\n"
     ]
    }
   ],
   "source": [
    "a=True\n",
    "b=False \n",
    "print(a&b)"
   ]
  },
  {
   "cell_type": "code",
   "execution_count": 22,
   "id": "263a8381",
   "metadata": {},
   "outputs": [
    {
     "name": "stdout",
     "output_type": "stream",
     "text": [
      "True\n"
     ]
    }
   ],
   "source": [
    "print(not b)"
   ]
  },
  {
   "cell_type": "code",
   "execution_count": 23,
   "id": "7e70b2c0",
   "metadata": {},
   "outputs": [
    {
     "name": "stdout",
     "output_type": "stream",
     "text": [
      "False\n"
     ]
    }
   ],
   "source": [
    "print(a==b)"
   ]
  },
  {
   "cell_type": "code",
   "execution_count": 24,
   "id": "c19a89fd",
   "metadata": {},
   "outputs": [
    {
     "name": "stdout",
     "output_type": "stream",
     "text": [
      "True\n"
     ]
    }
   ],
   "source": [
    "print(a or b)"
   ]
  },
  {
   "cell_type": "code",
   "execution_count": 29,
   "id": "30ca8afd",
   "metadata": {},
   "outputs": [
    {
     "name": "stdout",
     "output_type": "stream",
     "text": [
      "14\n"
     ]
    }
   ],
   "source": [
    "a=10\n",
    "b=4\n",
    "print(a | b)"
   ]
  },
  {
   "cell_type": "code",
   "execution_count": 33,
   "id": "9f11daec",
   "metadata": {},
   "outputs": [
    {
     "name": "stdout",
     "output_type": "stream",
     "text": [
      "30\n"
     ]
    }
   ],
   "source": [
    "a=30\n",
    "b=28\n",
    "print(a|b)"
   ]
  },
  {
   "cell_type": "code",
   "execution_count": 34,
   "id": "438e38f7",
   "metadata": {},
   "outputs": [
    {
     "name": "stdout",
     "output_type": "stream",
     "text": [
      "14\n"
     ]
    }
   ],
   "source": [
    "a=10\n",
    "b=4\n",
    "print(a^b)"
   ]
  },
  {
   "cell_type": "code",
   "execution_count": 35,
   "id": "5147e632",
   "metadata": {},
   "outputs": [
    {
     "name": "stdout",
     "output_type": "stream",
     "text": [
      "2\n"
     ]
    }
   ],
   "source": [
    "a = 10\n",
    "result=a>>2\n",
    "print(result)"
   ]
  },
  {
   "cell_type": "code",
   "execution_count": 50,
   "id": "76f00012",
   "metadata": {},
   "outputs": [
    {
     "name": "stdout",
     "output_type": "stream",
     "text": [
      "80\n"
     ]
    }
   ],
   "source": [
    "a=10\n",
    "result=a<<3\n",
    "print(result)"
   ]
  },
  {
   "cell_type": "markdown",
   "id": "57370b01",
   "metadata": {},
   "source": []
  },
  {
   "cell_type": "code",
   "execution_count": 37,
   "id": "9a1d64b1",
   "metadata": {},
   "outputs": [],
   "source": [
    "a=20\n",
    "result=a>>2"
   ]
  },
  {
   "cell_type": "code",
   "execution_count": 38,
   "id": "96e39e50",
   "metadata": {},
   "outputs": [
    {
     "name": "stdout",
     "output_type": "stream",
     "text": [
      "5\n"
     ]
    }
   ],
   "source": [
    "print(result)"
   ]
  },
  {
   "cell_type": "code",
   "execution_count": 39,
   "id": "395b2551",
   "metadata": {},
   "outputs": [
    {
     "name": "stdout",
     "output_type": "stream",
     "text": [
      "80\n"
     ]
    }
   ],
   "source": [
    "result=a<<2\n",
    "print(result)"
   ]
  },
  {
   "cell_type": "code",
   "execution_count": 46,
   "id": "70d86ea0",
   "metadata": {},
   "outputs": [],
   "source": [
    "a=100\n",
    "result=a>>2"
   ]
  },
  {
   "cell_type": "code",
   "execution_count": 47,
   "id": "9e1b25b1",
   "metadata": {},
   "outputs": [
    {
     "name": "stdout",
     "output_type": "stream",
     "text": [
      "25\n"
     ]
    }
   ],
   "source": [
    "print(result)"
   ]
  },
  {
   "cell_type": "code",
   "execution_count": 42,
   "id": "5db5a819",
   "metadata": {},
   "outputs": [
    {
     "name": "stdout",
     "output_type": "stream",
     "text": [
      "1\n"
     ]
    }
   ],
   "source": [
    "a = 5\n",
    "result=a>>2\n",
    "print(result)"
   ]
  },
  {
   "cell_type": "code",
   "execution_count": 43,
   "id": "19bbb58a",
   "metadata": {},
   "outputs": [
    {
     "data": {
      "text/plain": [
       "'0b1010'"
      ]
     },
     "execution_count": 43,
     "metadata": {},
     "output_type": "execute_result"
    }
   ],
   "source": [
    "bin(10)"
   ]
  },
  {
   "cell_type": "code",
   "execution_count": 56,
   "id": "7398ff8e",
   "metadata": {},
   "outputs": [
    {
     "data": {
      "text/plain": [
       "'spamspamspam'"
      ]
     },
     "execution_count": 56,
     "metadata": {},
     "output_type": "execute_result"
    }
   ],
   "source": [
    "'spam' + 'spamspam'"
   ]
  },
  {
   "cell_type": "code",
   "execution_count": 57,
   "id": "89be5a06",
   "metadata": {},
   "outputs": [
    {
     "data": {
      "text/plain": [
       "'spamspamspam'"
      ]
     },
     "execution_count": 57,
     "metadata": {},
     "output_type": "execute_result"
    }
   ],
   "source": [
    "'spam'*3"
   ]
  },
  {
   "cell_type": "code",
   "execution_count": 1,
   "id": "945869df",
   "metadata": {},
   "outputs": [
    {
     "name": "stdout",
     "output_type": "stream",
     "text": [
      "0\n"
     ]
    }
   ],
   "source": [
    "a=10\n",
    "b=5\n",
    "print(a%b)"
   ]
  },
  {
   "cell_type": "code",
   "execution_count": 2,
   "id": "077db918",
   "metadata": {},
   "outputs": [
    {
     "name": "stdout",
     "output_type": "stream",
     "text": [
      "5\n"
     ]
    }
   ],
   "source": [
    "a=20\n",
    "result=(a>>2)  #this is right shift\n",
    "print(result)"
   ]
  },
  {
   "cell_type": "code",
   "execution_count": 3,
   "id": "5ee3a3e9",
   "metadata": {},
   "outputs": [
    {
     "name": "stdout",
     "output_type": "stream",
     "text": [
      "80\n"
     ]
    }
   ],
   "source": [
    "result = (a<<2)  #this is left shift\n",
    "print(result)"
   ]
  },
  {
   "cell_type": "code",
   "execution_count": 4,
   "id": "9e5418ad",
   "metadata": {},
   "outputs": [
    {
     "name": "stdout",
     "output_type": "stream",
     "text": [
      "True\n"
     ]
    }
   ],
   "source": [
    "a=10\n",
    "b=5\n",
    "print(a != b)"
   ]
  },
  {
   "cell_type": "code",
   "execution_count": 5,
   "id": "efdeb237",
   "metadata": {},
   "outputs": [
    {
     "name": "stdout",
     "output_type": "stream",
     "text": [
      "False\n"
     ]
    }
   ],
   "source": [
    "a=15\n",
    "b=15\n",
    "print(a != b)"
   ]
  },
  {
   "cell_type": "code",
   "execution_count": 7,
   "id": "5aeff0d2",
   "metadata": {},
   "outputs": [
    {
     "name": "stdout",
     "output_type": "stream",
     "text": [
      "True\n"
     ]
    }
   ],
   "source": [
    "print(a==b)"
   ]
  },
  {
   "cell_type": "code",
   "execution_count": 9,
   "id": "7f925e23",
   "metadata": {},
   "outputs": [
    {
     "name": "stdout",
     "output_type": "stream",
     "text": [
      "True\n"
     ]
    }
   ],
   "source": [
    "print(a>=b)"
   ]
  },
  {
   "cell_type": "code",
   "execution_count": 13,
   "id": "7120cc02",
   "metadata": {},
   "outputs": [
    {
     "name": "stdout",
     "output_type": "stream",
     "text": [
      "13\n"
     ]
    }
   ],
   "source": [
    "a=10\n",
    "b=10\n",
    "a += 3\n",
    "print(a)"
   ]
  },
  {
   "cell_type": "code",
   "execution_count": 14,
   "id": "2514b7c4",
   "metadata": {},
   "outputs": [
    {
     "data": {
      "text/plain": [
       "False"
      ]
     },
     "execution_count": 14,
     "metadata": {},
     "output_type": "execute_result"
    }
   ],
   "source": [
    "b == 4"
   ]
  },
  {
   "cell_type": "code",
   "execution_count": 15,
   "id": "86039d76",
   "metadata": {},
   "outputs": [
    {
     "name": "stdout",
     "output_type": "stream",
     "text": [
      "14\n"
     ]
    }
   ],
   "source": [
    "b+=4\n",
    "print(b)"
   ]
  },
  {
   "cell_type": "code",
   "execution_count": 24,
   "id": "ffac2207",
   "metadata": {},
   "outputs": [
    {
     "name": "stdout",
     "output_type": "stream",
     "text": [
      "he is genius:\n"
     ]
    },
    {
     "data": {
      "text/plain": [
       "'\\n    virat kohli is great\\n    he is absolute genius\\n    no one can match his level:\\n'"
      ]
     },
     "execution_count": 24,
     "metadata": {},
     "output_type": "execute_result"
    }
   ],
   "source": [
    "if \"virat score a century\":\n",
    "    print(\"he is genius:\")\n",
    "else:\n",
    "    print (\"also he is a genius:\")\n",
    "\n",
    "\"\"\"\n",
    "    virat kohli is great\n",
    "    he is absolute genius\n",
    "    no one can match his level:\n",
    "\"\"\""
   ]
  },
  {
   "cell_type": "code",
   "execution_count": 25,
   "id": "1af1d390",
   "metadata": {},
   "outputs": [
    {
     "name": "stdout",
     "output_type": "stream",
     "text": [
      "7\n"
     ]
    }
   ],
   "source": [
    "a=10\n",
    "a -=3\n",
    "print(a)"
   ]
  },
  {
   "cell_type": "code",
   "execution_count": 26,
   "id": "f1b58708",
   "metadata": {},
   "outputs": [],
   "source": [
    "a=5\n",
    "a*=2"
   ]
  },
  {
   "cell_type": "code",
   "execution_count": 27,
   "id": "004465f2",
   "metadata": {},
   "outputs": [
    {
     "name": "stdout",
     "output_type": "stream",
     "text": [
      "10\n"
     ]
    }
   ],
   "source": [
    "print(a)"
   ]
  },
  {
   "cell_type": "code",
   "execution_count": null,
   "id": "2b8d9983",
   "metadata": {},
   "outputs": [],
   "source": []
  },
  {
   "cell_type": "code",
   "execution_count": 28,
   "id": "16af0cae",
   "metadata": {},
   "outputs": [
    {
     "name": "stdout",
     "output_type": "stream",
     "text": [
      "she is brave\n"
     ]
    }
   ],
   "source": [
    "if \"subha avoid the cockroach\":\n",
    "    print(\"she is brave\")\n",
    "else:\n",
    "    print(\"she is cowerd\")"
   ]
  },
  {
   "cell_type": "code",
   "execution_count": 29,
   "id": "7e846a4d",
   "metadata": {},
   "outputs": [
    {
     "name": "stdout",
     "output_type": "stream",
     "text": [
      "3\n"
     ]
    }
   ],
   "source": [
    "a = 15\n",
    "b = 4\n",
    "print(a % b)"
   ]
  },
  {
   "cell_type": "code",
   "execution_count": 30,
   "id": "3b933665",
   "metadata": {},
   "outputs": [
    {
     "name": "stdout",
     "output_type": "stream",
     "text": [
      "0\n"
     ]
    }
   ],
   "source": [
    "a = 20\n",
    "b = 6\n",
    "result = a >> 2 + b >> 2\n",
    "print(result)"
   ]
  },
  {
   "cell_type": "code",
   "execution_count": 32,
   "id": "6d1404c7",
   "metadata": {},
   "outputs": [
    {
     "name": "stdout",
     "output_type": "stream",
     "text": [
      "5\n"
     ]
    }
   ],
   "source": [
    "result = a >> 2\n",
    "print(result)"
   ]
  },
  {
   "cell_type": "code",
   "execution_count": 4,
   "id": "a7420b24",
   "metadata": {},
   "outputs": [
    {
     "name": "stdout",
     "output_type": "stream",
     "text": [
      "enter student name:jerry\n",
      "welcome to:jerry\n"
     ]
    }
   ],
   "source": [
    "name=input(\"enter student name:\")\n",
    "print(f\"welcome to:{name}\")"
   ]
  },
  {
   "cell_type": "code",
   "execution_count": 8,
   "id": "f4150029",
   "metadata": {},
   "outputs": [
    {
     "name": "stdout",
     "output_type": "stream",
     "text": [
      "enter st_rank:1\n",
      "welcome ur rank:1\n"
     ]
    }
   ],
   "source": [
    "st_rank=input(\"enter st_rank:\")\n",
    "print(f\"welcome ur rank:{st_rank}\")"
   ]
  },
  {
   "cell_type": "code",
   "execution_count": 13,
   "id": "17487ce6",
   "metadata": {},
   "outputs": [
    {
     "name": "stdout",
     "output_type": "stream",
     "text": [
      "congrats,you scored a century:\n"
     ]
    }
   ],
   "source": [
    "runs=100\n",
    "if runs >=100:\n",
    "    print(\"congrats,you scored a century:\")\n",
    "elif runs>=90:\n",
    "    print(\"omg,you just lost ur century:\")\n",
    "elif runs >= 50:\n",
    "    print(\"good, you scored a halfcentury:\")\n",
    "else:\n",
    "    print(\"sorry,you fals to score good:\")"
   ]
  },
  {
   "cell_type": "code",
   "execution_count": 20,
   "id": "c90e17fe",
   "metadata": {},
   "outputs": [
    {
     "name": "stdout",
     "output_type": "stream",
     "text": [
      "congs,you are qualified:\n"
     ]
    }
   ],
   "source": [
    "rank=3\n",
    "if rank<=5:\n",
    "    print(\"congs,you are qualified:\")\n",
    "elif rank <= 10:\n",
    "    print(\"good luck,u r in reserved :\")\n",
    "else:\n",
    "    print(\"sorry,u r rejected:\")"
   ]
  },
  {
   "cell_type": "code",
   "execution_count": 25,
   "id": "8a797d43",
   "metadata": {},
   "outputs": [
    {
     "name": "stdout",
     "output_type": "stream",
     "text": [
      "largest num is 30\n"
     ]
    }
   ],
   "source": [
    "num1=10\n",
    "num2=20\n",
    "num3=30\n",
    "\n",
    "if (num1>=num2) and (num1>=num3):\n",
    "    largest=num1\n",
    "elif (num2>=num1) and (num2>=num3):\n",
    "    largest=num2\n",
    "else:\n",
    "    largest=num3\n",
    "    \n",
    "print(\"largest num is\",largest)"
   ]
  },
  {
   "cell_type": "code",
   "execution_count": 30,
   "id": "324d7054",
   "metadata": {},
   "outputs": [
    {
     "name": "stdout",
     "output_type": "stream",
     "text": [
      "elder is 10\n"
     ]
    }
   ],
   "source": [
    "a =10\n",
    "b = 8\n",
    "c = 5\n",
    "if (a>b) and (a>c):\n",
    "    elder = a\n",
    "    print(\"elder is\",a)\n",
    "elif (b>a) and (b>c):\n",
    "    print(\"elder is\",b)\n",
    "else:\n",
    "    print(\"elder is\",c)"
   ]
  },
  {
   "cell_type": "code",
   "execution_count": 37,
   "id": "f1013fde",
   "metadata": {},
   "outputs": [
    {
     "name": "stdout",
     "output_type": "stream",
     "text": [
      "enter the first number10\n",
      "enter the 2nd number20\n",
      "enter the 3rd number50\n",
      "largest num is 50.0\n"
     ]
    }
   ],
   "source": [
    "num1=float(input(\"enter the first number\"))\n",
    "num2=float(input(\"enter the 2nd number\"))\n",
    "num3=float(input(\"enter the 3rd number\"))\n",
    "if (num1>num2) and (num1>num3):\n",
    "        largest=num1\n",
    "elif (num2>num1) and (num2>num3):\n",
    "       largest=num2\n",
    "else:\n",
    "    largest=num3\n",
    "    \n",
    "    print(\"largest num is\",largest)\n"
   ]
  },
  {
   "cell_type": "code",
   "execution_count": 39,
   "id": "a16aca05",
   "metadata": {},
   "outputs": [
    {
     "name": "stdout",
     "output_type": "stream",
     "text": [
      "enter the first number25\n",
      "enter the 2nd number52\n",
      "enter the 3rd number62\n",
      "largest num is 62.0\n"
     ]
    }
   ],
   "source": [
    "num1=float(input(\"enter the first number\"))\n",
    "num2=float(input(\"enter the 2nd number\"))\n",
    "num3=float(input(\"enter the 3rd number\"))\n",
    "if (num1>num2) and (num1>num3):\n",
    "        largest=num1\n",
    "elif (num2>num1) and (num2>num3):\n",
    "       largest=num2\n",
    "else:\n",
    "    largest=num3\n",
    "    \n",
    "    print(\"largest num is\",largest)\n"
   ]
  },
  {
   "cell_type": "code",
   "execution_count": 41,
   "id": "65ef5a85",
   "metadata": {},
   "outputs": [
    {
     "name": "stdout",
     "output_type": "stream",
     "text": [
      "enter the 1st num58\n",
      "enter the 2nd num67\n",
      "enter the 3rd num89\n",
      "largest num is 62.0\n"
     ]
    }
   ],
   "source": [
    "num1=float(input(\"enter the 1st num\"))\n",
    "num2=float(input(\"enter the 2nd num\"))\n",
    "num3=float(input(\"enter the 3rd num\"))\n",
    "if (num1>num2) and (num1 > num3):\n",
    "    largest=num1\n",
    "    print(\"largest num is\",largest)\n",
    "    \n",
    "elif (num2>num1) and (num2>num3):\n",
    "    largest=num2\n",
    "    print(\"largest num is\",largest)\n",
    "else:\n",
    "     print(\"largest num is\",largest)"
   ]
  },
  {
   "cell_type": "code",
   "execution_count": 42,
   "id": "d8b345a7",
   "metadata": {},
   "outputs": [
    {
     "name": "stdout",
     "output_type": "stream",
     "text": [
      "0\n",
      "1\n",
      "2\n",
      "3\n",
      "4\n",
      "5\n",
      "6\n",
      "7\n",
      "8\n",
      "9\n"
     ]
    }
   ],
   "source": [
    "for i in  range(10):\n",
    "    print(i)"
   ]
  },
  {
   "cell_type": "code",
   "execution_count": 43,
   "id": "f8397ff7",
   "metadata": {},
   "outputs": [
    {
     "name": "stdout",
     "output_type": "stream",
     "text": [
      "2\n",
      "4\n",
      "6\n",
      "8\n"
     ]
    }
   ],
   "source": [
    "for i in range (2,10,2):\n",
    "    print(i)"
   ]
  },
  {
   "cell_type": "code",
   "execution_count": 57,
   "id": "1e2e7bc7",
   "metadata": {},
   "outputs": [],
   "source": [
    "Flist = [\"apple\",\"cherry\"]"
   ]
  },
  {
   "cell_type": "code",
   "execution_count": 50,
   "id": "e1fd8eb3",
   "metadata": {},
   "outputs": [
    {
     "name": "stdout",
     "output_type": "stream",
     "text": [
      "0\n",
      "10\n",
      "1\n",
      "5\n",
      "2\n",
      "18\n",
      "3\n",
      "12\n",
      "4\n",
      "9\n",
      "5\n",
      "20\n",
      "6\n",
      "30\n",
      "7\n",
      "6\n",
      "8\n",
      "15\n",
      "9\n",
      "3\n"
     ]
    }
   ],
   "source": [
    "num=[10,5,18,12,9,20,30,6,15,3]\n",
    "for i in range(len(num)):\n",
    "    print(i)\n",
    "    print(num[i])"
   ]
  },
  {
   "cell_type": "code",
   "execution_count": 60,
   "id": "283104ee",
   "metadata": {},
   "outputs": [
    {
     "name": "stdout",
     "output_type": "stream",
     "text": [
      "apple\n",
      "it's a \n",
      "it's not a\n",
      "it's not a\n",
      "it's not a\n",
      "it's not a\n",
      "cherry\n",
      "it's not a\n",
      "it's not a\n",
      "it's not a\n",
      "it's not a\n",
      "it's not a\n",
      "it's not a\n"
     ]
    }
   ],
   "source": [
    "for i in Flist:\n",
    "    print(i)\n",
    "    for j in (i):\n",
    "        if j==\"a\":\n",
    "            print(\"it's a \")\n",
    "        else:\n",
    "            print(\"it's not a\")\n"
   ]
  },
  {
   "cell_type": "code",
   "execution_count": 56,
   "id": "6cf5b0e3",
   "metadata": {},
   "outputs": [
    {
     "data": {
      "text/plain": [
       "10"
      ]
     },
     "execution_count": 56,
     "metadata": {},
     "output_type": "execute_result"
    }
   ],
   "source": [
    "a"
   ]
  },
  {
   "cell_type": "code",
   "execution_count": 66,
   "id": "c43a3e6e",
   "metadata": {},
   "outputs": [
    {
     "name": "stdout",
     "output_type": "stream",
     "text": [
      "India\n",
      "UK\n",
      "USA\n"
     ]
    }
   ],
   "source": [
    "country=[\"India\",\"UK\",\"USA\"]\n",
    "for index in range (len(country)):\n",
    "    print(country[index])"
   ]
  },
  {
   "cell_type": "code",
   "execution_count": 71,
   "id": "1307f9ab",
   "metadata": {},
   "outputs": [
    {
     "name": "stdout",
     "output_type": "stream",
     "text": [
      "^ \n",
      "^ ^ \n",
      "^ ^ ^ \n",
      "^ ^ ^ ^ \n",
      "^ ^ ^ ^ ^ \n",
      "^ ^ ^ ^ ^ ^ \n"
     ]
    }
   ],
   "source": [
    "rows=6\n",
    "for i in range (rows):\n",
    "    for j in range(i+1):\n",
    "        print(\"^\",end=\" \")\n",
    "    print()"
   ]
  },
  {
   "cell_type": "code",
   "execution_count": 2,
   "id": "44dd79d3",
   "metadata": {},
   "outputs": [
    {
     "name": "stdout",
     "output_type": "stream",
     "text": [
      "[5, 6, 7, 8, 9]\n"
     ]
    }
   ],
   "source": [
    "numbers=[0,1,2,3,4,5,6,7,8,9]\n",
    "print(numbers[5:])"
   ]
  },
  {
   "cell_type": "code",
   "execution_count": 4,
   "id": "129d85d4",
   "metadata": {},
   "outputs": [
    {
     "name": "stdout",
     "output_type": "stream",
     "text": [
      "[0, 1, 2, 3, 4]\n"
     ]
    }
   ],
   "source": [
    "print(numbers[:5])"
   ]
  },
  {
   "cell_type": "code",
   "execution_count": 5,
   "id": "9a240f45",
   "metadata": {},
   "outputs": [
    {
     "name": "stdout",
     "output_type": "stream",
     "text": [
      "[1, 2, 3, 4]\n"
     ]
    }
   ],
   "source": [
    "print(numbers[1:5])"
   ]
  },
  {
   "cell_type": "code",
   "execution_count": 6,
   "id": "3c4956f8",
   "metadata": {},
   "outputs": [
    {
     "name": "stdout",
     "output_type": "stream",
     "text": [
      "[1, 2, 3, 4, 5, 6, 7, 8, 9]\n"
     ]
    }
   ],
   "source": [
    "print(numbers[1:])"
   ]
  },
  {
   "cell_type": "code",
   "execution_count": 7,
   "id": "5c000c42",
   "metadata": {},
   "outputs": [
    {
     "name": "stdout",
     "output_type": "stream",
     "text": [
      "[0]\n"
     ]
    }
   ],
   "source": [
    "print (numbers[:1])"
   ]
  },
  {
   "cell_type": "code",
   "execution_count": 8,
   "id": "72cc7db1",
   "metadata": {},
   "outputs": [
    {
     "name": "stdout",
     "output_type": "stream",
     "text": [
      "[6, 7, 8, 9]\n"
     ]
    }
   ],
   "source": [
    "print(numbers[-4:])"
   ]
  },
  {
   "cell_type": "code",
   "execution_count": 9,
   "id": "7d5f3a9d",
   "metadata": {},
   "outputs": [
    {
     "name": "stdout",
     "output_type": "stream",
     "text": [
      "[0, 1, 2, 3, 4, 5, 6]\n"
     ]
    }
   ],
   "source": [
    "print(numbers[:-3])"
   ]
  },
  {
   "cell_type": "code",
   "execution_count": 10,
   "id": "58fe7cb8",
   "metadata": {},
   "outputs": [
    {
     "name": "stdout",
     "output_type": "stream",
     "text": [
      "[1, 3]\n"
     ]
    }
   ],
   "source": [
    "print(numbers[1:5:2])"
   ]
  },
  {
   "cell_type": "code",
   "execution_count": 3,
   "id": "8779c46b",
   "metadata": {},
   "outputs": [
    {
     "name": "stdout",
     "output_type": "stream",
     "text": [
      "[9, 6, 3, 0]\n"
     ]
    }
   ],
   "source": [
    "print(numbers[::-3])"
   ]
  },
  {
   "cell_type": "code",
   "execution_count": 4,
   "id": "daee698e",
   "metadata": {},
   "outputs": [
    {
     "name": "stdout",
     "output_type": "stream",
     "text": [
      "[0, 2, 4, 6, 8]\n"
     ]
    }
   ],
   "source": [
    "print(numbers[::2])"
   ]
  },
  {
   "cell_type": "code",
   "execution_count": 4,
   "id": "641ad2f7",
   "metadata": {},
   "outputs": [],
   "source": [
    "fruits=[\"apple\",\"banana\",\"cherry\",\"apple\",\"blackberry\"]"
   ]
  },
  {
   "cell_type": "code",
   "execution_count": 2,
   "id": "e290bf5e",
   "metadata": {},
   "outputs": [
    {
     "name": "stdout",
     "output_type": "stream",
     "text": [
      "before changing ite by index ['apple', 'banana', 'cherry', 'apple', 'blackberry']\n",
      "after changing item by index ['kiwi', 'banana', 'cherry', 'apple', 'blackberry']\n"
     ]
    }
   ],
   "source": [
    "print(\"before changing ite by index\",fruits)\n",
    "fruits[0]=\"kiwi\"\n",
    "print(\"after changing item by index\",fruits)"
   ]
  },
  {
   "cell_type": "code",
   "execution_count": 3,
   "id": "cda3829f",
   "metadata": {},
   "outputs": [
    {
     "name": "stdout",
     "output_type": "stream",
     "text": [
      "after changing the list ['kiwi', 'banana', 'guava', 'papaya', 'cherry', 'apple', 'blackberry']\n"
     ]
    }
   ],
   "source": [
    "fruits[2:2]=[\"guava\",\"papaya\"]\n",
    "print(\"after changing the list\",fruits)"
   ]
  },
  {
   "cell_type": "code",
   "execution_count": 6,
   "id": "887aec5b",
   "metadata": {},
   "outputs": [
    {
     "name": "stdout",
     "output_type": "stream",
     "text": [
      "['apple', 'cherry', 'apple', 'blackberry']\n"
     ]
    }
   ],
   "source": [
    "del fruits[1:2]\n",
    "print(fruits)"
   ]
  },
  {
   "cell_type": "code",
   "execution_count": 5,
   "id": "a19fbdb3",
   "metadata": {},
   "outputs": [
    {
     "name": "stdout",
     "output_type": "stream",
     "text": [
      "[]\n"
     ]
    }
   ],
   "source": [
    "fruits.clear()\n",
    "print(fruits)"
   ]
  },
  {
   "cell_type": "code",
   "execution_count": 8,
   "id": "84d4f44e",
   "metadata": {},
   "outputs": [
    {
     "data": {
      "text/plain": [
       "1"
      ]
     },
     "execution_count": 8,
     "metadata": {},
     "output_type": "execute_result"
    }
   ],
   "source": [
    "numbers=(1,2,3,4,5,6,7,8,9)\n",
    "numbers[0]\n",
    "\n",
    "\n"
   ]
  },
  {
   "cell_type": "code",
   "execution_count": 11,
   "id": "81ffde91",
   "metadata": {},
   "outputs": [
    {
     "data": {
      "text/plain": [
       "(1, 2, 3, 4, 5, 6, 7, 8)"
      ]
     },
     "execution_count": 11,
     "metadata": {},
     "output_type": "execute_result"
    }
   ],
   "source": [
    "numbers[0:-1]"
   ]
  },
  {
   "cell_type": "code",
   "execution_count": 19,
   "id": "968ef732",
   "metadata": {},
   "outputs": [
    {
     "name": "stdout",
     "output_type": "stream",
     "text": [
      "(1, 2, 3, 4, 5, 6, 7, 8, 0)\n"
     ]
    }
   ],
   "source": [
    "numbers1=list(numbers)\n",
    "numbers1[8]=0           #we can change the tuple into list then \n",
    "                       # change the element then again convert to tuple\n",
    "numbers=tuple(numbers1)\n",
    "print(numbers)"
   ]
  },
  {
   "cell_type": "code",
   "execution_count": 20,
   "id": "9c2a28ae",
   "metadata": {},
   "outputs": [
    {
     "name": "stdout",
     "output_type": "stream",
     "text": [
      "1\n",
      "2\n",
      "3\n",
      "4\n",
      "5\n",
      "6\n",
      "7\n",
      "8\n",
      "0\n"
     ]
    }
   ],
   "source": [
    "for digit in numbers:\n",
    "    print(digit)"
   ]
  },
  {
   "cell_type": "code",
   "execution_count": 22,
   "id": "dd9395ed",
   "metadata": {},
   "outputs": [
    {
     "name": "stdout",
     "output_type": "stream",
     "text": [
      "(1, 2, 3, 4, 5, 6, 7, 8, 0, 10, 11, 12, 13)\n"
     ]
    }
   ],
   "source": [
    "more_numbers=(10,11,12,13)\n",
    "joined_tuple=numbers+more_numbers\n",
    "print(joined_tuple)"
   ]
  },
  {
   "cell_type": "code",
   "execution_count": 22,
   "id": "be1c042a",
   "metadata": {},
   "outputs": [
    {
     "data": {
      "text/plain": [
       "[1, 2, 3, 4, 5, 6, 7, 8, 9, 'apple']"
      ]
     },
     "execution_count": 22,
     "metadata": {},
     "output_type": "execute_result"
    }
   ],
   "source": [
    "my_list=[1,2,3,4,5,6,7,8,9]\n",
    "my_list=my_list+[\"apple\"]\n",
    "my_list"
   ]
  },
  {
   "cell_type": "code",
   "execution_count": 3,
   "id": "c02eb2f6",
   "metadata": {},
   "outputs": [
    {
     "data": {
      "text/plain": [
       "[1, 2, 3, 4, 5, 6, 7, 8, 9, 'apple', 1, 2, 3, 4, 5, 6, 7, 8, 9, 'apple']"
      ]
     },
     "execution_count": 3,
     "metadata": {},
     "output_type": "execute_result"
    }
   ],
   "source": [
    "my_list*2"
   ]
  },
  {
   "cell_type": "code",
   "execution_count": 11,
   "id": "073069ab",
   "metadata": {},
   "outputs": [
    {
     "name": "stdout",
     "output_type": "stream",
     "text": [
      "0\n",
      "1\n",
      "2\n",
      "3\n",
      "4\n",
      "5\n",
      "6\n",
      "7\n",
      "8\n"
     ]
    }
   ],
   "source": [
    "for i in range(9):\n",
    "        print(i)"
   ]
  },
  {
   "cell_type": "code",
   "execution_count": 12,
   "id": "5fa4cff7",
   "metadata": {},
   "outputs": [
    {
     "name": "stdout",
     "output_type": "stream",
     "text": [
      "0\n",
      "1\n",
      "2\n",
      "3\n",
      "4\n",
      "5\n",
      "6\n",
      "7\n"
     ]
    }
   ],
   "source": [
    "for j in range(i):\n",
    "    print(j)"
   ]
  },
  {
   "cell_type": "code",
   "execution_count": 13,
   "id": "990bd5a0",
   "metadata": {},
   "outputs": [],
   "source": [
    "my_list.append(\"orange\")"
   ]
  },
  {
   "cell_type": "code",
   "execution_count": 19,
   "id": "5351d953",
   "metadata": {},
   "outputs": [
    {
     "name": "stdout",
     "output_type": "stream",
     "text": [
      "[1, 2, 3, 4, 5, 6, 7, 8, 9]\n"
     ]
    }
   ],
   "source": [
    "print(my_list)"
   ]
  },
  {
   "cell_type": "code",
   "execution_count": 23,
   "id": "e201bf76",
   "metadata": {},
   "outputs": [
    {
     "name": "stdout",
     "output_type": "stream",
     "text": [
      "[1, 2, 3, 4, 5, 6, 7, 8, 9]\n"
     ]
    }
   ],
   "source": [
    "my_list.pop(-1)\n",
    "print(my_list)"
   ]
  },
  {
   "cell_type": "code",
   "execution_count": 24,
   "id": "5500aec1",
   "metadata": {},
   "outputs": [],
   "source": [
    "popped_list=my_list.pop()"
   ]
  },
  {
   "cell_type": "code",
   "execution_count": 25,
   "id": "73b985d2",
   "metadata": {},
   "outputs": [
    {
     "name": "stdout",
     "output_type": "stream",
     "text": [
      "9\n"
     ]
    }
   ],
   "source": [
    "print(popped_list)"
   ]
  },
  {
   "cell_type": "code",
   "execution_count": 26,
   "id": "c1ad3424",
   "metadata": {},
   "outputs": [
    {
     "name": "stdout",
     "output_type": "stream",
     "text": [
      "[8, 7, 6, 5, 4, 3, 2, 1]\n"
     ]
    }
   ],
   "source": [
    "my_list.reverse()\n",
    "print(my_list)"
   ]
  },
  {
   "cell_type": "code",
   "execution_count": 27,
   "id": "74c36398",
   "metadata": {},
   "outputs": [
    {
     "name": "stdout",
     "output_type": "stream",
     "text": [
      "[1, 2, 3, 4, 5, 6, 7, 8]\n"
     ]
    }
   ],
   "source": [
    "my_list.sort()\n",
    "print(my_list)"
   ]
  },
  {
   "cell_type": "code",
   "execution_count": 31,
   "id": "603c3f7e",
   "metadata": {},
   "outputs": [
    {
     "name": "stdout",
     "output_type": "stream",
     "text": [
      "[[1, 2, 3], [4, 5, 6], [7, 8, 9]]\n"
     ]
    },
    {
     "data": {
      "text/plain": [
       "[1, 2, 3]"
      ]
     },
     "execution_count": 31,
     "metadata": {},
     "output_type": "execute_result"
    }
   ],
   "source": [
    "list1=[1,2,3]\n",
    "list2=[4,5,6]\n",
    "list3=[7,8,9]\n",
    "my_list=[list1,list2,list3]\n",
    "print(my_list)\n",
    "my_list[0]"
   ]
  },
  {
   "cell_type": "code",
   "execution_count": 32,
   "id": "22007113",
   "metadata": {},
   "outputs": [
    {
     "data": {
      "text/plain": [
       "'debu'"
      ]
     },
     "execution_count": 32,
     "metadata": {},
     "output_type": "execute_result"
    }
   ],
   "source": [
    "my_dict={'name':'debu','age':20,'ps':'bdchna'}\n",
    "my_dict[\"name\"]"
   ]
  },
  {
   "cell_type": "code",
   "execution_count": 33,
   "id": "bfe9ffae",
   "metadata": {},
   "outputs": [
    {
     "data": {
      "text/plain": [
       "'DEBU'"
      ]
     },
     "execution_count": 33,
     "metadata": {},
     "output_type": "execute_result"
    }
   ],
   "source": [
    "my_dict[\"name\"].upper()"
   ]
  },
  {
   "cell_type": "code",
   "execution_count": 36,
   "id": "f70d4114",
   "metadata": {},
   "outputs": [
    {
     "data": {
      "text/plain": [
       "{'name': 'debu', 'age': 20, 'ps': 'bdchna'}"
      ]
     },
     "execution_count": 36,
     "metadata": {},
     "output_type": "execute_result"
    }
   ],
   "source": [
    "my_dict\n"
   ]
  },
  {
   "cell_type": "code",
   "execution_count": 42,
   "id": "bbe1643a",
   "metadata": {},
   "outputs": [
    {
     "ename": "SyntaxError",
     "evalue": "invalid syntax (2256289728.py, line 1)",
     "output_type": "error",
     "traceback": [
      "\u001b[1;36m  Cell \u001b[1;32mIn[42], line 1\u001b[1;36m\u001b[0m\n\u001b[1;33m    dict1{}\u001b[0m\n\u001b[1;37m         ^\u001b[0m\n\u001b[1;31mSyntaxError\u001b[0m\u001b[1;31m:\u001b[0m invalid syntax\n"
     ]
    }
   ],
   "source": [
    "dict1{}\n",
    "dict1.append[\"name\":\"debu\"]\n",
    "dict1.append[\"age\":20]\n",
    "print(dict1)"
   ]
  },
  {
   "cell_type": "code",
   "execution_count": 43,
   "id": "d52cac0f",
   "metadata": {},
   "outputs": [
    {
     "data": {
      "text/plain": [
       "dict_keys(['key1', 'key2', 'key3'])"
      ]
     },
     "execution_count": 43,
     "metadata": {},
     "output_type": "execute_result"
    }
   ],
   "source": [
    "d={'key1':1,'key2':2,'key3':3}\n",
    "d.keys()"
   ]
  },
  {
   "cell_type": "code",
   "execution_count": 44,
   "id": "0df9bceb",
   "metadata": {},
   "outputs": [
    {
     "data": {
      "text/plain": [
       "dict_values([1, 2, 3])"
      ]
     },
     "execution_count": 44,
     "metadata": {},
     "output_type": "execute_result"
    }
   ],
   "source": [
    "d.values()"
   ]
  },
  {
   "cell_type": "code",
   "execution_count": 45,
   "id": "9a25f49d",
   "metadata": {},
   "outputs": [
    {
     "data": {
      "text/plain": [
       "dict_items([('key1', 1), ('key2', 2), ('key3', 3)])"
      ]
     },
     "execution_count": 45,
     "metadata": {},
     "output_type": "execute_result"
    }
   ],
   "source": [
    "d.items()"
   ]
  },
  {
   "cell_type": "code",
   "execution_count": 53,
   "id": "bd42f9a2",
   "metadata": {},
   "outputs": [
    {
     "data": {
      "text/plain": [
       "4"
      ]
     },
     "execution_count": 53,
     "metadata": {},
     "output_type": "execute_result"
    }
   ],
   "source": [
    "t=(1,2,3,4)\n",
    "len(t)"
   ]
  },
  {
   "cell_type": "code",
   "execution_count": 54,
   "id": "9677f05f",
   "metadata": {},
   "outputs": [
    {
     "data": {
      "text/plain": [
       "4"
      ]
     },
     "execution_count": 54,
     "metadata": {},
     "output_type": "execute_result"
    }
   ],
   "source": [
    "t[-1]"
   ]
  },
  {
   "cell_type": "code",
   "execution_count": 57,
   "id": "b3dc2d6f",
   "metadata": {},
   "outputs": [
    {
     "data": {
      "text/plain": [
       "{1}"
      ]
     },
     "execution_count": 57,
     "metadata": {},
     "output_type": "execute_result"
    }
   ],
   "source": [
    "x=set()\n",
    "x.add(1)\n",
    "x"
   ]
  },
  {
   "cell_type": "code",
   "execution_count": 59,
   "id": "56a12d47",
   "metadata": {},
   "outputs": [
    {
     "data": {
      "text/plain": [
       "{1, 2}"
      ]
     },
     "execution_count": 59,
     "metadata": {},
     "output_type": "execute_result"
    }
   ],
   "source": [
    "x.add(2)\n",
    "x"
   ]
  },
  {
   "cell_type": "code",
   "execution_count": 60,
   "id": "2848ea6f",
   "metadata": {},
   "outputs": [
    {
     "data": {
      "text/plain": [
       "{1, 2, 3, 4, 5, 6}"
      ]
     },
     "execution_count": 60,
     "metadata": {},
     "output_type": "execute_result"
    }
   ],
   "source": [
    "list=[1,2,3,4,5,6]\n",
    "set(list)"
   ]
  },
  {
   "cell_type": "code",
   "execution_count": 66,
   "id": "1239aab1",
   "metadata": {},
   "outputs": [
    {
     "data": {
      "text/plain": [
       "[1, 2, 3, 4, 5, 6, 7]"
      ]
     },
     "execution_count": 66,
     "metadata": {},
     "output_type": "execute_result"
    }
   ],
   "source": [
    "list.append(7)\n",
    "list"
   ]
  },
  {
   "cell_type": "code",
   "execution_count": 67,
   "id": "b85d6768",
   "metadata": {},
   "outputs": [
    {
     "data": {
      "text/plain": [
       "{1, 2, 3, 4, 5, 6, 7}"
      ]
     },
     "execution_count": 67,
     "metadata": {},
     "output_type": "execute_result"
    }
   ],
   "source": [
    "set(list)"
   ]
  },
  {
   "cell_type": "code",
   "execution_count": 68,
   "id": "9163731b",
   "metadata": {},
   "outputs": [
    {
     "data": {
      "text/plain": [
       "False"
      ]
     },
     "execution_count": 68,
     "metadata": {},
     "output_type": "execute_result"
    }
   ],
   "source": [
    "a=5\n",
    "b=3\n",
    "c=8\n",
    "\n",
    "a==b"
   ]
  },
  {
   "cell_type": "code",
   "execution_count": 69,
   "id": "b92c7bd9",
   "metadata": {},
   "outputs": [
    {
     "data": {
      "text/plain": [
       "True"
      ]
     },
     "execution_count": 69,
     "metadata": {},
     "output_type": "execute_result"
    }
   ],
   "source": [
    "a>b"
   ]
  },
  {
   "cell_type": "code",
   "execution_count": 72,
   "id": "eb62d374",
   "metadata": {},
   "outputs": [],
   "source": [
    "a +=3"
   ]
  },
  {
   "cell_type": "code",
   "execution_count": 73,
   "id": "76b5d5ee",
   "metadata": {},
   "outputs": [
    {
     "name": "stdout",
     "output_type": "stream",
     "text": [
      "10\n"
     ]
    }
   ],
   "source": [
    "print(a)"
   ]
  },
  {
   "cell_type": "code",
   "execution_count": 74,
   "id": "142d9ffb",
   "metadata": {},
   "outputs": [
    {
     "data": {
      "text/plain": [
       "True"
      ]
     },
     "execution_count": 74,
     "metadata": {},
     "output_type": "execute_result"
    }
   ],
   "source": [
    "a>c"
   ]
  },
  {
   "cell_type": "code",
   "execution_count": 76,
   "id": "e66b6c98",
   "metadata": {},
   "outputs": [
    {
     "name": "stdout",
     "output_type": "stream",
     "text": [
      "it is true\n"
     ]
    }
   ],
   "source": [
    "if True:\n",
    "    print(\"it is true\")\n",
    "    "
   ]
  },
  {
   "cell_type": "code",
   "execution_count": 78,
   "id": "155e31da",
   "metadata": {},
   "outputs": [
    {
     "name": "stdout",
     "output_type": "stream",
     "text": [
      "it is true\n"
     ]
    }
   ],
   "source": [
    "x=True\n",
    "if x:\n",
    "    print(\"it is true\")\n",
    "else:\n",
    "    print(\"it may be false ,but not true\")"
   ]
  },
  {
   "cell_type": "code",
   "execution_count": 86,
   "id": "7f457469",
   "metadata": {},
   "outputs": [
    {
     "name": "stdout",
     "output_type": "stream",
     "text": [
      "welcome to bittle shop\n"
     ]
    }
   ],
   "source": [
    "loc=\"bittle shop\"\n",
    "if loc==\"bank\":\n",
    "    print(\"welccome to bank\")\n",
    "elif loc==\"bittle shop\":\n",
    "    print(\"welcome to bittle shop\")\n",
    "else:\n",
    "    print(\"this is wrong location\")"
   ]
  },
  {
   "cell_type": "code",
   "execution_count": 89,
   "id": "d89657ae",
   "metadata": {},
   "outputs": [],
   "source": [
    "list=[1,2,3,4,5,6,7,8]"
   ]
  },
  {
   "cell_type": "code",
   "execution_count": 88,
   "id": "608d4481",
   "metadata": {},
   "outputs": [
    {
     "name": "stdout",
     "output_type": "stream",
     "text": [
      "2\n",
      "4\n",
      "6\n",
      "8\n"
     ]
    }
   ],
   "source": [
    "for num in list:\n",
    "    if num % 2==0:\n",
    "        print(num)"
   ]
  },
  {
   "cell_type": "code",
   "execution_count": 93,
   "id": "344c716a",
   "metadata": {},
   "outputs": [
    {
     "name": "stdout",
     "output_type": "stream",
     "text": [
      "1\n",
      "even number\n",
      "3\n",
      "even number\n",
      "5\n",
      "even number\n",
      "7\n",
      "even number\n"
     ]
    }
   ],
   "source": [
    "for num in list:\n",
    "    if num % 2 != 0:\n",
    "        print(num)\n",
    "    else:\n",
    "        print(\"even number\")"
   ]
  },
  {
   "cell_type": "code",
   "execution_count": 94,
   "id": "21fc2406",
   "metadata": {},
   "outputs": [
    {
     "name": "stdout",
     "output_type": "stream",
     "text": [
      "odd numbers\n",
      "even numbers\n",
      "odd numbers\n",
      "even numbers\n",
      "odd numbers\n",
      "even numbers\n",
      "odd numbers\n",
      "even numbers\n"
     ]
    }
   ],
   "source": [
    "for num in list:\n",
    "    if num % 2 == 0:\n",
    "        print(\"even numbers\")\n",
    "    else:\n",
    "        print(\"odd numbers\")"
   ]
  },
  {
   "cell_type": "code",
   "execution_count": 95,
   "id": "0b1ef321",
   "metadata": {},
   "outputs": [
    {
     "name": "stdout",
     "output_type": "stream",
     "text": [
      "1\n",
      "3\n",
      "6\n",
      "10\n",
      "15\n",
      "21\n",
      "28\n",
      "36\n"
     ]
    }
   ],
   "source": [
    "list_sum=0\n",
    "for num in list:\n",
    "    list_sum +=num\n",
    "    print(list_sum)"
   ]
  },
  {
   "cell_type": "code",
   "execution_count": 96,
   "id": "45d34b7d",
   "metadata": {},
   "outputs": [
    {
     "name": "stdout",
     "output_type": "stream",
     "text": [
      "a\n",
      "p\n",
      "p\n",
      "l\n",
      "e\n"
     ]
    }
   ],
   "source": [
    "for i in \"apple\":\n",
    "    print(i)"
   ]
  },
  {
   "cell_type": "code",
   "execution_count": 108,
   "id": "2c21d4f2",
   "metadata": {},
   "outputs": [],
   "source": [
    "d={\"k1\":1,\"k2\":2,\"k3\":3}\n"
   ]
  },
  {
   "cell_type": "code",
   "execution_count": 109,
   "id": "8a6ed6b3",
   "metadata": {
    "scrolled": true
   },
   "outputs": [
    {
     "name": "stdout",
     "output_type": "stream",
     "text": [
      "k1\n",
      "k2\n",
      "k3\n"
     ]
    }
   ],
   "source": [
    "for item in d:\n",
    "    print(item)"
   ]
  },
  {
   "cell_type": "code",
   "execution_count": 110,
   "id": "bcebc0ba",
   "metadata": {},
   "outputs": [
    {
     "ename": "AttributeError",
     "evalue": "'dict' object has no attribute 'item'",
     "output_type": "error",
     "traceback": [
      "\u001b[1;31m---------------------------------------------------------------------------\u001b[0m",
      "\u001b[1;31mAttributeError\u001b[0m                            Traceback (most recent call last)",
      "Cell \u001b[1;32mIn[110], line 1\u001b[0m\n\u001b[1;32m----> 1\u001b[0m \u001b[43md\u001b[49m\u001b[38;5;241;43m.\u001b[39;49m\u001b[43mitem\u001b[49m()\n",
      "\u001b[1;31mAttributeError\u001b[0m: 'dict' object has no attribute 'item'"
     ]
    }
   ],
   "source": [
    "d.item()"
   ]
  },
  {
   "cell_type": "code",
   "execution_count": 3,
   "id": "73b09d93",
   "metadata": {},
   "outputs": [
    {
     "name": "stdout",
     "output_type": "stream",
     "text": [
      "apple\n",
      "kiwi\n",
      "papaya\n",
      "berry\n",
      "orange\n"
     ]
    }
   ],
   "source": [
    "fruits=['apple','kiwi','papaya','berry','orange']\n",
    "for fruit in fruits:\n",
    "    print(fruit)"
   ]
  },
  {
   "cell_type": "code",
   "execution_count": 4,
   "id": "9df6de0a",
   "metadata": {},
   "outputs": [
    {
     "name": "stdout",
     "output_type": "stream",
     "text": [
      "item at index0isapple\n",
      "item at index1iskiwi\n",
      "item at index2ispapaya\n",
      "item at index3isberry\n",
      "item at index4isorange\n"
     ]
    }
   ],
   "source": [
    "for i in range(len(fruits)):\n",
    "    print(f\"item at index{i}is{fruits[i]}\")\n",
    "    "
   ]
  },
  {
   "cell_type": "code",
   "execution_count": 18,
   "id": "fb478e59",
   "metadata": {},
   "outputs": [
    {
     "name": "stdout",
     "output_type": "stream",
     "text": [
      "['papaya', 'orange', 'kiwi', 'berry', 'apple']\n",
      "['PAPAYA', 'ORANGE', 'KIWI', 'BERRY', 'APPLE']\n"
     ]
    }
   ],
   "source": [
    "print(fruits)\n",
    "fruit1=[fruit.upper() for fruit in fruits]\n",
    "print(fruit1)\n"
   ]
  },
  {
   "cell_type": "code",
   "execution_count": 19,
   "id": "ea7dbb75",
   "metadata": {},
   "outputs": [],
   "source": [
    "fruits.sort()"
   ]
  },
  {
   "cell_type": "code",
   "execution_count": 20,
   "id": "96e97357",
   "metadata": {},
   "outputs": [
    {
     "name": "stdout",
     "output_type": "stream",
     "text": [
      "in ascending order: ['apple', 'berry', 'kiwi', 'orange', 'papaya']\n"
     ]
    }
   ],
   "source": [
    "print(\"in ascending order:\",fruits)"
   ]
  },
  {
   "cell_type": "code",
   "execution_count": 21,
   "id": "bd875f63",
   "metadata": {},
   "outputs": [
    {
     "name": "stdout",
     "output_type": "stream",
     "text": [
      "in descending order: ['papaya', 'orange', 'kiwi', 'berry', 'apple']\n"
     ]
    }
   ],
   "source": [
    "fruits.sort(reverse = True)\n",
    "print(\"in descending order:\",fruits)"
   ]
  },
  {
   "cell_type": "code",
   "execution_count": 22,
   "id": "94aed32d",
   "metadata": {},
   "outputs": [
    {
     "name": "stdout",
     "output_type": "stream",
     "text": [
      "copied fruit_list: ['papaya', 'orange', 'kiwi', 'berry', 'apple']\n"
     ]
    }
   ],
   "source": [
    "fruits_copy=fruits.copy()\n",
    "print(\"copied fruit_list:\",fruits_copy)"
   ]
  },
  {
   "cell_type": "code",
   "execution_count": 25,
   "id": "772e6998",
   "metadata": {},
   "outputs": [
    {
     "name": "stdout",
     "output_type": "stream",
     "text": [
      "after adding fruit_list: ['papaya', 'orange', 'kiwi', 'berry', 'apple', 'guava', 'grapes']\n"
     ]
    }
   ],
   "source": [
    "fruits1=[\"guava\",\"grapes\"]\n",
    "fruit_joined=fruits+fruits1\n",
    "print(\"after adding fruit_list:\",fruit_joined)"
   ]
  },
  {
   "cell_type": "code",
   "execution_count": 26,
   "id": "445be3ec",
   "metadata": {},
   "outputs": [
    {
     "name": "stdout",
     "output_type": "stream",
     "text": [
      "(1, 2, 3, 4, 5, 6, 7, 8, 9)\n"
     ]
    }
   ],
   "source": [
    "my_tuple=(1,2,3,4,5,6)\n",
    "tuple1=(7,8,9)\n",
    "joined_tuple=my_tuple+tuple1\n",
    "print(joined_tuple)"
   ]
  },
  {
   "cell_type": "code",
   "execution_count": 27,
   "id": "e443ea1a",
   "metadata": {},
   "outputs": [
    {
     "name": "stdout",
     "output_type": "stream",
     "text": [
      "1\n",
      "2\n",
      "3\n",
      "4\n",
      "5\n",
      "6\n"
     ]
    }
   ],
   "source": [
    "for num in my_tuple:\n",
    "    print(num)"
   ]
  },
  {
   "cell_type": "code",
   "execution_count": 28,
   "id": "663d4dc4",
   "metadata": {},
   "outputs": [],
   "source": [
    "def greet():\n",
    "    print(\"hello world!\")"
   ]
  },
  {
   "cell_type": "code",
   "execution_count": 29,
   "id": "d29faee1",
   "metadata": {},
   "outputs": [
    {
     "name": "stdout",
     "output_type": "stream",
     "text": [
      "hello world!\n"
     ]
    }
   ],
   "source": [
    "greet()"
   ]
  },
  {
   "cell_type": "code",
   "execution_count": 35,
   "id": "6b71406e",
   "metadata": {},
   "outputs": [
    {
     "name": "stdout",
     "output_type": "stream",
     "text": [
      "hello,Debu!\n"
     ]
    }
   ],
   "source": [
    "def greet(name):\n",
    "    print(\"hello,\"+name+\"!\")\n",
    "greet(\"Debu\")"
   ]
  },
  {
   "cell_type": "code",
   "execution_count": 49,
   "id": "5bad0fa5",
   "metadata": {},
   "outputs": [
    {
     "name": "stdout",
     "output_type": "stream",
     "text": [
      "this is my_tuple:1,2,3!\n"
     ]
    }
   ],
   "source": [
    "def greet(tuple1):\n",
    "    print(\"this is my_tuple:\" +tuple1 +\"!\")\n",
    "greet((\"1,2,3\"))\n"
   ]
  },
  {
   "cell_type": "code",
   "execution_count": 50,
   "id": "883004dd",
   "metadata": {},
   "outputs": [
    {
     "name": "stdout",
     "output_type": "stream",
     "text": [
      "7\n"
     ]
    }
   ],
   "source": [
    "def add_numbers(num1,num2):\n",
    "    return num1+num2\n",
    "result=add_numbers(2,5)\n",
    "print(result)"
   ]
  },
  {
   "cell_type": "code",
   "execution_count": 3,
   "id": "fc32f3c6",
   "metadata": {},
   "outputs": [
    {
     "name": "stdout",
     "output_type": "stream",
     "text": [
      "Hello,this is my first fuction\n"
     ]
    }
   ],
   "source": [
    "def introduction():\n",
    "    print(\"Hello,this is my first fuction\")\n",
    "introduction()"
   ]
  },
  {
   "cell_type": "code",
   "execution_count": 9,
   "id": "0cf98148",
   "metadata": {},
   "outputs": [
    {
     "name": "stdout",
     "output_type": "stream",
     "text": [
      "john is my first name.\n"
     ]
    }
   ],
   "source": [
    "def introduction(fname):\n",
    "    print(fname + \" is my first name.\")\n",
    "introduction(\"john\")"
   ]
  },
  {
   "cell_type": "code",
   "execution_count": 13,
   "id": "4840830d",
   "metadata": {},
   "outputs": [
    {
     "name": "stdout",
     "output_type": "stream",
     "text": [
      "my first name is johnmy last name iscena\n"
     ]
    }
   ],
   "source": [
    "def intro(fname, gname):\n",
    "        print(\"my first name is \" + fname + \"my last name is\" + gname)\n",
    "intro(\"john\",\"cena\")"
   ]
  },
  {
   "cell_type": "code",
   "execution_count": 25,
   "id": "beba11be",
   "metadata": {},
   "outputs": [],
   "source": [
    "def numbers(num):\n",
    "    for i in range (num):\n",
    "        b=i+2\n",
    "    return b\n",
    "        \n",
    "        "
   ]
  },
  {
   "cell_type": "code",
   "execution_count": 26,
   "id": "08050c3f",
   "metadata": {},
   "outputs": [],
   "source": [
    "c=numbers(3)"
   ]
  },
  {
   "cell_type": "code",
   "execution_count": 27,
   "id": "873f99cc",
   "metadata": {},
   "outputs": [
    {
     "data": {
      "text/plain": [
       "4"
      ]
     },
     "execution_count": 27,
     "metadata": {},
     "output_type": "execute_result"
    }
   ],
   "source": [
    "c"
   ]
  },
  {
   "cell_type": "code",
   "execution_count": 28,
   "id": "de07a56d",
   "metadata": {},
   "outputs": [],
   "source": [
    "def multi(num1,num2):\n",
    "    return num1*num2"
   ]
  },
  {
   "cell_type": "code",
   "execution_count": 29,
   "id": "4a063f4a",
   "metadata": {},
   "outputs": [],
   "source": [
    "def final(n1,n2,num3):\n",
    "    v=multi(n1,n2)\n",
    "    return v+num3"
   ]
  },
  {
   "cell_type": "code",
   "execution_count": 35,
   "id": "b1e3d128",
   "metadata": {},
   "outputs": [],
   "source": [
    "b=final(10,5,2)"
   ]
  },
  {
   "cell_type": "code",
   "execution_count": 36,
   "id": "7e4c4fe2",
   "metadata": {},
   "outputs": [
    {
     "data": {
      "text/plain": [
       "52"
      ]
     },
     "execution_count": 36,
     "metadata": {},
     "output_type": "execute_result"
    }
   ],
   "source": [
    "b"
   ]
  },
  {
   "cell_type": "code",
   "execution_count": 34,
   "id": "8a21db47",
   "metadata": {},
   "outputs": [
    {
     "ename": "TypeError",
     "evalue": "multi() takes 2 positional arguments but 3 were given",
     "output_type": "error",
     "traceback": [
      "\u001b[1;31m---------------------------------------------------------------------------\u001b[0m",
      "\u001b[1;31mTypeError\u001b[0m                                 Traceback (most recent call last)",
      "Cell \u001b[1;32mIn[34], line 1\u001b[0m\n\u001b[1;32m----> 1\u001b[0m \u001b[43mmulti\u001b[49m\u001b[43m(\u001b[49m\u001b[38;5;241;43m10\u001b[39;49m\u001b[43m,\u001b[49m\u001b[38;5;241;43m20\u001b[39;49m\u001b[43m,\u001b[49m\u001b[38;5;241;43m30\u001b[39;49m\u001b[43m)\u001b[49m\n",
      "\u001b[1;31mTypeError\u001b[0m: multi() takes 2 positional arguments but 3 were given"
     ]
    }
   ],
   "source": [
    "multi()"
   ]
  },
  {
   "cell_type": "code",
   "execution_count": 44,
   "id": "502d0e5f",
   "metadata": {},
   "outputs": [
    {
     "name": "stdout",
     "output_type": "stream",
     "text": [
      "the sum is  12\n"
     ]
    }
   ],
   "source": [
    "def add_numbers(num1,num2):\n",
    "    sum=num1+num2\n",
    "    return sum\n",
    "result=add_numbers(4,8)\n",
    "print(\"the sum is \",result)"
   ]
  },
  {
   "cell_type": "code",
   "execution_count": 55,
   "id": "4fca33d3",
   "metadata": {},
   "outputs": [
    {
     "name": "stdout",
     "output_type": "stream",
     "text": [
      "Enter the first number: 3\n",
      "Enter the second number: 4\n",
      "The sum is: 7.0\n",
      "The difference is: -1.0\n",
      "The product is: 12.0\n",
      "The quotient is: 0.75\n"
     ]
    }
   ],
   "source": [
    "def My_Mini_Calculator():\n",
    "    number_1 = float(input(\"Enter the first number: \"))\n",
    "    number_2 = float(input(\"Enter the second number: \"))\n",
    "\n",
    "    # Addition\n",
    "    result = number_1 + number_2\n",
    "    print(\"The sum is:\", result)\n",
    "\n",
    "    # Subtraction\n",
    "    result = number_1 - number_2\n",
    "    print(\"The difference is:\", result)\n",
    "\n",
    "    # Multiplication\n",
    "    result = number_1 * number_2\n",
    "    print(\"The product is:\", result)\n",
    "\n",
    "    # Division\n",
    "    result = number_1 / number_2\n",
    "    print(\"The quotient is:\", result)\n",
    "    \n",
    "# Call the function\n",
    "My_Mini_Calculator()"
   ]
  },
  {
   "cell_type": "code",
   "execution_count": 63,
   "id": "02c051de",
   "metadata": {},
   "outputs": [
    {
     "name": "stdout",
     "output_type": "stream",
     "text": [
      "the quotient is: 2.0\n"
     ]
    }
   ],
   "source": [
    "num1=5\n",
    "num2=10\n",
    "if num1 !=0:\n",
    "    result=num2/num1\n",
    "    print(\"the quotient is:\",result)\n",
    "else:\n",
    "    print(\"oops therebis an error:it divide by 0.\")"
   ]
  },
  {
   "cell_type": "code",
   "execution_count": 65,
   "id": "c2aabbbc",
   "metadata": {},
   "outputs": [
    {
     "name": "stdout",
     "output_type": "stream",
     "text": [
      "enter the first name:debasish\n",
      "enter the last name:nayak\n",
      "the name is: Debasish Nayak\n"
     ]
    }
   ],
   "source": [
    "def format_name():\n",
    "    first_name=input(\"enter the first name:\")\n",
    "    last_name=input(\"enter the last name:\")\n",
    "    \n",
    "    formated_first_name=first_name.capitalize()\n",
    "    formated_last_name=last_name.capitalize()\n",
    "    \n",
    "    print(\"the name is:\",formated_first_name,formated_last_name)\n",
    "    \n",
    "format_name()\n",
    "    "
   ]
  },
  {
   "cell_type": "code",
   "execution_count": 68,
   "id": "c8e2cd94",
   "metadata": {},
   "outputs": [],
   "source": [
    "def print_even_numbers():\n",
    "    n=int(input(\"enter the rsnge limit:\"))\n",
    "    even_numbers=[]\n",
    "    for num in range(1,n+1):\n",
    "        if num%2 ==0:\n",
    "            even_numbers.append(num)\n",
    "    print(\"even numbers are up to :\",n,\"are\",even_numbers)\n",
    "        "
   ]
  },
  {
   "cell_type": "code",
   "execution_count": 69,
   "id": "e51c1ac2",
   "metadata": {},
   "outputs": [
    {
     "name": "stdout",
     "output_type": "stream",
     "text": [
      "enter the rsnge limit:9\n",
      "even numbers are up to : 9 are [2, 4, 6, 8]\n"
     ]
    }
   ],
   "source": [
    "print_even_numbers()"
   ]
  },
  {
   "cell_type": "code",
   "execution_count": 71,
   "id": "6440976e",
   "metadata": {},
   "outputs": [
    {
     "name": "stdout",
     "output_type": "stream",
     "text": [
      "12\n"
     ]
    }
   ],
   "source": [
    "addition= lambda x,y,z :x+y+z\n",
    "print(addition(3,4,5))"
   ]
  },
  {
   "cell_type": "code",
   "execution_count": 75,
   "id": "c8258542",
   "metadata": {},
   "outputs": [
    {
     "name": "stdout",
     "output_type": "stream",
     "text": [
      "the sum is: 12\n"
     ]
    }
   ],
   "source": [
    "def addition(x,y,z):\n",
    "    sum=x+y+z\n",
    "    return sum\n",
    "result=addition(3,4,5)\n",
    "print(\"the sum is:\",result)\n",
    "\n"
   ]
  },
  {
   "cell_type": "code",
   "execution_count": 76,
   "id": "9ac06481",
   "metadata": {},
   "outputs": [
    {
     "name": "stdout",
     "output_type": "stream",
     "text": [
      "8\n"
     ]
    }
   ],
   "source": [
    "square=lambda x:x**3\n",
    "print(square(2))"
   ]
  },
  {
   "cell_type": "code",
   "execution_count": 78,
   "id": "c6f60cc3",
   "metadata": {},
   "outputs": [
    {
     "name": "stdout",
     "output_type": "stream",
     "text": [
      "6\n"
     ]
    }
   ],
   "source": [
    "calculate=lambda x,y:x*y\n",
    "print(calculate(2,3))"
   ]
  },
  {
   "cell_type": "code",
   "execution_count": 5,
   "id": "bef10ec4",
   "metadata": {},
   "outputs": [],
   "source": [
    "def print_even_numbers():\n",
    "    n=int(input(\"enter the range limit:\"))\n",
    "    even_numbers=[]\n",
    "    for num in range(1,n+1):\n",
    "        if num % 2 ==0:\n",
    "            even_numbers.append(num)\n",
    "            \n",
    "    print(\"even numbers up to \",n,\" are \" , even_numbers)"
   ]
  },
  {
   "cell_type": "code",
   "execution_count": 6,
   "id": "da926df0",
   "metadata": {},
   "outputs": [
    {
     "name": "stdout",
     "output_type": "stream",
     "text": [
      "enter the range limit:9\n",
      "even numbers up to  9  are  [2, 4, 6, 8]\n"
     ]
    }
   ],
   "source": [
    "print_even_numbers()"
   ]
  },
  {
   "cell_type": "code",
   "execution_count": 8,
   "id": "c0729a33",
   "metadata": {
    "scrolled": true
   },
   "outputs": [
    {
     "name": "stdout",
     "output_type": "stream",
     "text": [
      "13\n"
     ]
    }
   ],
   "source": [
    "add =lambda x,y :x+y\n",
    "print(add(5,8))"
   ]
  },
  {
   "cell_type": "code",
   "execution_count": 11,
   "id": "3fc2573d",
   "metadata": {},
   "outputs": [
    {
     "name": "stdout",
     "output_type": "stream",
     "text": [
      "the sum of three numbers is: 15\n"
     ]
    }
   ],
   "source": [
    "add_three_numbers=lambda x,y,z :x+y+z\n",
    "result=add_three_numbers(4,5,6)\n",
    "print(\"the sum of three numbers is:\",result)\n"
   ]
  },
  {
   "cell_type": "code",
   "execution_count": 12,
   "id": "ca895a4a",
   "metadata": {},
   "outputs": [
    {
     "name": "stdout",
     "output_type": "stream",
     "text": [
      "36\n"
     ]
    }
   ],
   "source": [
    "square=lambda x:x**2\n",
    "print(square(6))"
   ]
  },
  {
   "cell_type": "code",
   "execution_count": 29,
   "id": "151a3f8b",
   "metadata": {},
   "outputs": [
    {
     "name": "stdout",
     "output_type": "stream",
     "text": [
      "debasishnayak\n"
     ]
    }
   ],
   "source": [
    "name=lambda x,y:x+y\n",
    "print(name(\"debasish\",\"nayak\"))"
   ]
  },
  {
   "cell_type": "code",
   "execution_count": 30,
   "id": "6a5eeff8",
   "metadata": {},
   "outputs": [
    {
     "name": "stdout",
     "output_type": "stream",
     "text": [
      "20\n"
     ]
    }
   ],
   "source": [
    "max_num=lambda x,y: x if x>y else y\n",
    "print(max_num(5,20))"
   ]
  },
  {
   "cell_type": "code",
   "execution_count": 31,
   "id": "49bb8f54",
   "metadata": {},
   "outputs": [
    {
     "name": "stdout",
     "output_type": "stream",
     "text": [
      "odd\n"
     ]
    }
   ],
   "source": [
    "even_or_odd=lambda x: \"even\" if x %2 ==0 else \"odd\"\n",
    "print(even_or_odd(5))"
   ]
  },
  {
   "cell_type": "code",
   "execution_count": 32,
   "id": "69d902a9",
   "metadata": {},
   "outputs": [
    {
     "name": "stdout",
     "output_type": "stream",
     "text": [
      "enter first num:30\n",
      "enter sec num:60\n",
      "90\n"
     ]
    }
   ],
   "source": [
    "add=lambda :int(input(\"enter first num:\"))+ int(input(\"enter sec num:\"))\n",
    "print(add())"
   ]
  },
  {
   "cell_type": "code",
   "execution_count": 33,
   "id": "4c30e20a",
   "metadata": {},
   "outputs": [
    {
     "name": "stdout",
     "output_type": "stream",
     "text": [
      "[1, 4, 9, 16, 25, 36, 49]\n"
     ]
    }
   ],
   "source": [
    "lambda_func=lambda x: [i **2 for i in x]\n",
    "print(lambda_func([1,2,3,4,5,6,7]))"
   ]
  },
  {
   "cell_type": "code",
   "execution_count": 50,
   "id": "cbdcc990",
   "metadata": {},
   "outputs": [
    {
     "name": "stdout",
     "output_type": "stream",
     "text": [
      "{'name': 'product4', 'price': 20}\n",
      "{'name': 'product3', 'price': 30}\n",
      "{'name': 'product2', 'price': 40}\n",
      "{'name': 'product1', 'price': 50}\n"
     ]
    }
   ],
   "source": [
    "products= [\n",
    "    {\"name\":'product1',\"price\":50},\n",
    "    {\"name\":'product2',\"price\":40},\n",
    "    {\"name\":'product3',\"price\":30},\n",
    "    {\"name\":'product4',\"price\":20}, \n",
    "]\n",
    "sorted_products=sorted(products, key=lambda x: x[\"price\"])\n",
    "for product in sorted_products:\n",
    "    print(product)\n",
    "\n",
    " "
   ]
  },
  {
   "cell_type": "code",
   "execution_count": 53,
   "id": "49b869ee",
   "metadata": {},
   "outputs": [
    {
     "name": "stdout",
     "output_type": "stream",
     "text": [
      "15\n"
     ]
    }
   ],
   "source": [
    "def recursive_sum(n):\n",
    "    if n==1:\n",
    "        return 1\n",
    "    else:\n",
    "        return n +recursive_sum(n-1)\n",
    "print(recursive_sum(5))"
   ]
  },
  {
   "cell_type": "code",
   "execution_count": 54,
   "id": "1b115472",
   "metadata": {},
   "outputs": [
    {
     "name": "stdout",
     "output_type": "stream",
     "text": [
      "6\n"
     ]
    }
   ],
   "source": [
    "def factorial(n):\n",
    "    if n == 1:\n",
    "        return 1\n",
    "    else:\n",
    "        return n*factorial(n-1)\n",
    "print(factorial(3))"
   ]
  },
  {
   "cell_type": "code",
   "execution_count": 56,
   "id": "48891e75",
   "metadata": {},
   "outputs": [
    {
     "name": "stdout",
     "output_type": "stream",
     "text": [
      "0\n",
      "1\n",
      "1\n",
      "2\n",
      "3\n",
      "5\n",
      "8\n",
      "13\n"
     ]
    }
   ],
   "source": [
    "def my_fibonacci(n):\n",
    "    a,b=0,1\n",
    "    for i in range(n):\n",
    "        print(a)\n",
    "        a,b=b,a+b\n",
    "        \n",
    "my_fibonacci(8)"
   ]
  },
  {
   "cell_type": "code",
   "execution_count": null,
   "id": "a8e86299",
   "metadata": {},
   "outputs": [],
   "source": [
    "cnt=1\n",
    "\n",
    "def my_fibnacci(n):\n",
    "    global cnt\n",
    "    \n",
    "    if n <= 0:\n",
    "        return[]\n",
    "    elif n==1:\n",
    "        return [0]\n",
    "    elif n== 2:\n",
    "        return [0,1]\n",
    "    else:\n",
    "        fibonacci_series = my_fibonacci(n-1)\n",
    "        \n",
    "        print(f\"step{cnt}:ourfibonacci series upto n-1 term={fibonacci_series})\n",
    "        cnt += 1\n",
    "        next_term= fibonacci_series[-1]+fibonacci_series[-2]\n",
    "        print(f\"step{cnt}:next term to add={next_term})      \n",
    "        cnt +=1\n",
    "        fibonacci_series.append(next_term)\n",
    "        print(f\"step{cnt}:our fibonacci series after adding next term={fibonacci_series})\n",
    "        cnt += 1\n",
    "        return fibonacci_series\n",
    "print()\n",
    "        \n",
    "        \n",
    "    \n",
    "    "
   ]
  },
  {
   "cell_type": "code",
   "execution_count": 59,
   "id": "45c8a66f",
   "metadata": {},
   "outputs": [
    {
     "name": "stdout",
     "output_type": "stream",
     "text": [
      "Step 1: Our Fibonacci series up to n-1 terms = [0, 1]\n",
      "Step 2: Next term to add = 1\n",
      "Step 3: Our Fibonacci series after adding next term = [0, 1, 1]\n",
      "Step 4: Our Fibonacci series up to n-1 terms = [0, 1, 1]\n",
      "Step 5: Next term to add = 2\n",
      "Step 6: Our Fibonacci series after adding next term = [0, 1, 1, 2]\n",
      "So my final Fibonacci series is --->  [0, 1, 1, 2]\n"
     ]
    }
   ],
   "source": [
    "# We need to have a counter\n",
    "cnt = 1 # This is a counter, because to explain each step. Nothing more than it.\n",
    "\n",
    "def my_fibonacci(n):\n",
    "    global cnt\n",
    "\n",
    "    if n <= 0:\n",
    "        return []\n",
    "    elif n == 1:\n",
    "        return [0]\n",
    "    elif n == 2:\n",
    "        return [0, 1]\n",
    "    else:\n",
    "        fibonacci_series = my_fibonacci(n - 1)\n",
    "        print(f\"Step {cnt}: Our Fibonacci series up to n-1 terms = {fibonacci_series}\")\n",
    "        cnt += 1\n",
    "        next_term = fibonacci_series[-1] + fibonacci_series[-2]\n",
    "        print(f\"Step {cnt}: Next term to add = {next_term}\")\n",
    "        cnt += 1\n",
    "        fibonacci_series.append(next_term)\n",
    "        print(f\"Step {cnt}: Our Fibonacci series after adding next term = {fibonacci_series}\")\n",
    "        cnt += 1\n",
    "        return fibonacci_series\n",
    "\n",
    "print(\"So my final Fibonacci series is ---> \", my_fibonacci(4))\n"
   ]
  },
  {
   "cell_type": "code",
   "execution_count": 8,
   "id": "fe15c89f",
   "metadata": {},
   "outputs": [],
   "source": [
    "class WrongAge(Exception):\n",
    "    \"Raised when the input value is less than 100\"\n",
    "    pass"
   ]
  },
  {
   "cell_type": "code",
   "execution_count": 9,
   "id": "98415e38",
   "metadata": {},
   "outputs": [
    {
     "data": {
      "text/plain": [
       "type"
      ]
     },
     "execution_count": 9,
     "metadata": {},
     "output_type": "execute_result"
    }
   ],
   "source": [
    "type(WrongAge)"
   ]
  },
  {
   "cell_type": "code",
   "execution_count": 12,
   "id": "3b09a85d",
   "metadata": {},
   "outputs": [
    {
     "name": "stdout",
     "output_type": "stream",
     "text": [
      "enter the age10\n",
      "invalid age: you can't work\n"
     ]
    }
   ],
   "source": [
    "n=18\n",
    "try :\n",
    "    input_number=int(input(\"enter the age\"))\n",
    "    if input_number < n:\n",
    "        raise WrongAge\n",
    "    else:\n",
    "        print(\"you can work\")\n",
    "except WrongAge:\n",
    "    print(\"invalid age: you can't work\")"
   ]
  },
  {
   "cell_type": "code",
   "execution_count": 5,
   "id": "c3210cc8",
   "metadata": {},
   "outputs": [
    {
     "name": "stdout",
     "output_type": "stream",
     "text": [
      "there is no x\n"
     ]
    }
   ],
   "source": [
    "try:\n",
    "    print(x)\n",
    "except :\n",
    "    print(\"there is no x\")\n",
    "else:\n",
    "    print(\"no error\")"
   ]
  },
  {
   "cell_type": "code",
   "execution_count": 2,
   "id": "5acd45d2",
   "metadata": {},
   "outputs": [
    {
     "name": "stdout",
     "output_type": "stream",
     "text": [
      "there is no x\n",
      "try and except are executed\n"
     ]
    }
   ],
   "source": [
    "try:\n",
    "    print(x)\n",
    "except :\n",
    "    print(\"there is no x\")\n",
    "finally:\n",
    "    print(\"try and except are executed\")"
   ]
  },
  {
   "cell_type": "code",
   "execution_count": 25,
   "id": "93c71eed",
   "metadata": {},
   "outputs": [
    {
     "name": "stdout",
     "output_type": "stream",
     "text": [
      "enter num1:5\n",
      "enter num2:8.9\n",
      "you entered float\n"
     ]
    }
   ],
   "source": [
    "try: \n",
    "    n = int(input(\"enter num1:\"))\n",
    "    d = int(input(\"enter num2:\"))\n",
    "    result=n/d\n",
    "    print(\"result:\",result)\n",
    "#except:\n",
    "    #print(\"younhave devided the number by zero\")\n",
    "except:\n",
    "    print(\"you entered float\")"
   ]
  },
  {
   "cell_type": "code",
   "execution_count": 27,
   "id": "8cb04a30",
   "metadata": {},
   "outputs": [
    {
     "name": "stdout",
     "output_type": "stream",
     "text": [
      "index number is not in range\n"
     ]
    }
   ],
   "source": [
    "try:\n",
    "    list1=[1,2,3,4,5,6,7]\n",
    "    print(list1[8])\n",
    "except :\n",
    "    print(\"index number is not in range\")"
   ]
  },
  {
   "cell_type": "code",
   "execution_count": null,
   "id": "0bb0b681",
   "metadata": {},
   "outputs": [],
   "source": [
    "try:\n",
    "    x=2\n",
    "    y=6\n",
    "    z=\"12\"\n",
    "    p=x+y+z\n",
    "    print(p)\n",
    "except TypeError:\n",
    "    print()\n",
    "    "
   ]
  }
 ],
 "metadata": {
  "kernelspec": {
   "display_name": "Python 3 (ipykernel)",
   "language": "python",
   "name": "python3"
  },
  "language_info": {
   "codemirror_mode": {
    "name": "ipython",
    "version": 3
   },
   "file_extension": ".py",
   "mimetype": "text/x-python",
   "name": "python",
   "nbconvert_exporter": "python",
   "pygments_lexer": "ipython3",
   "version": "3.10.9"
  }
 },
 "nbformat": 4,
 "nbformat_minor": 5
}
