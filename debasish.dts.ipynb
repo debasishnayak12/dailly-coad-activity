{
 "cells": [
  {
   "cell_type": "code",
   "execution_count": 1,
   "id": "2e7e5113",
   "metadata": {},
   "outputs": [],
   "source": [
    "import keyword"
   ]
  },
  {
   "cell_type": "code",
   "execution_count": 2,
   "id": "38bdcd20",
   "metadata": {},
   "outputs": [
    {
     "data": {
      "text/plain": [
       "['False',\n",
       " 'None',\n",
       " 'True',\n",
       " 'and',\n",
       " 'as',\n",
       " 'assert',\n",
       " 'async',\n",
       " 'await',\n",
       " 'break',\n",
       " 'class',\n",
       " 'continue',\n",
       " 'def',\n",
       " 'del',\n",
       " 'elif',\n",
       " 'else',\n",
       " 'except',\n",
       " 'finally',\n",
       " 'for',\n",
       " 'from',\n",
       " 'global',\n",
       " 'if',\n",
       " 'import',\n",
       " 'in',\n",
       " 'is',\n",
       " 'lambda',\n",
       " 'nonlocal',\n",
       " 'not',\n",
       " 'or',\n",
       " 'pass',\n",
       " 'raise',\n",
       " 'return',\n",
       " 'try',\n",
       " 'while',\n",
       " 'with',\n",
       " 'yield']"
      ]
     },
     "execution_count": 2,
     "metadata": {},
     "output_type": "execute_result"
    }
   ],
   "source": [
    "words=keyword.kwlist\n",
    "words"
   ]
  },
  {
   "cell_type": "code",
   "execution_count": 3,
   "id": "10255d7e",
   "metadata": {},
   "outputs": [
    {
     "data": {
      "text/plain": [
       "35"
      ]
     },
     "execution_count": 3,
     "metadata": {},
     "output_type": "execute_result"
    }
   ],
   "source": [
    "len(words)"
   ]
  },
  {
   "cell_type": "code",
   "execution_count": 1,
   "id": "78e9671a",
   "metadata": {},
   "outputs": [
    {
     "name": "stdout",
     "output_type": "stream",
     "text": [
      "9\n"
     ]
    }
   ],
   "source": [
    "a=4\n",
    "b=5\n",
    "c=a+b\n",
    "print(c)"
   ]
  },
  {
   "cell_type": "code",
   "execution_count": 4,
   "id": "3393715d",
   "metadata": {},
   "outputs": [
    {
     "name": "stdout",
     "output_type": "stream",
     "text": [
      "This is true!\n",
      "0\n",
      "1\n",
      "2\n"
     ]
    }
   ],
   "source": [
    "if True:\n",
    "    print(\"This is true!\")\n",
    "for i in range(3):\n",
    "    print(i)\n",
    "def hello():\n",
    "    print(\"Hello ,world!\")\n",
    "while False:\n",
    "    print(\"This won't print\")\n",
    "    "
   ]
  },
  {
   "cell_type": "code",
   "execution_count": 10,
   "id": "c105882e",
   "metadata": {},
   "outputs": [],
   "source": [
    "#1 + 2 + 3 + 4 + 1 + 2 + 3 + 4 + 1 + 2 + 3 + 4 + 1 + 2 + 3 + 4 + 1 + 2 + 3 + 4 + 1 + 2 + 3 + 4 + 1 + 2 + 3 + 4\n",
    "\n",
    "s = ( 1 + 2 + 3 + 4+\n",
    "     1 + 2 + 3 + 4 )"
   ]
  },
  {
   "cell_type": "code",
   "execution_count": 1,
   "id": "766c0607",
   "metadata": {},
   "outputs": [
    {
     "name": "stdout",
     "output_type": "stream",
     "text": [
      "['apple', 'grapes', 'guava']\n"
     ]
    }
   ],
   "source": [
    "fruits=[\"apple\",\"grapes\",\"guava\"]\n",
    "print(fruits)"
   ]
  },
  {
   "cell_type": "code",
   "execution_count": 3,
   "id": "46508e2f",
   "metadata": {},
   "outputs": [
    {
     "name": "stdout",
     "output_type": "stream",
     "text": [
      "['1', 'debu', ['apple', 'grapes', 'guava']]\n"
     ]
    }
   ],
   "source": [
    "hetero_mylist = ['1','debu',[\"apple\",\"grapes\",\"guava\"]]\n",
    "print(hetero_mylist)"
   ]
  },
  {
   "cell_type": "code",
   "execution_count": 9,
   "id": "91db2828",
   "metadata": {},
   "outputs": [
    {
     "data": {
      "text/plain": [
       "str"
      ]
     },
     "execution_count": 9,
     "metadata": {},
     "output_type": "execute_result"
    }
   ],
   "source": [
    "type(\"today's thought\")"
   ]
  },
  {
   "cell_type": "code",
   "execution_count": 10,
   "id": "2c317c7c",
   "metadata": {},
   "outputs": [
    {
     "data": {
      "text/plain": [
       "14"
      ]
     },
     "execution_count": 10,
     "metadata": {},
     "output_type": "execute_result"
    }
   ],
   "source": [
    "a=6\n",
    "b=a+2\n",
    "c=b+a\n",
    "c"
   ]
  },
  {
   "cell_type": "code",
   "execution_count": 15,
   "id": "9040ec8c",
   "metadata": {},
   "outputs": [
    {
     "name": "stdout",
     "output_type": "stream",
     "text": [
      "1982174265712\n",
      "5\n",
      "1982174265936\n",
      "12\n",
      "1982174266832\n",
      "40\n"
     ]
    }
   ],
   "source": [
    "c=5\n",
    "print(id(c))\n",
    "print(c)\n",
    "d=7\n",
    "c=c+d\n",
    "print(id(c))\n",
    "print(c)\n",
    "c=40\n",
    "print(id(c))\n",
    "print(c)"
   ]
  },
  {
   "cell_type": "code",
   "execution_count": 16,
   "id": "52fd67a2",
   "metadata": {},
   "outputs": [
    {
     "data": {
      "text/plain": [
       "'abc'"
      ]
     },
     "execution_count": 16,
     "metadata": {},
     "output_type": "execute_result"
    }
   ],
   "source": [
    "c='abc'\n",
    "c"
   ]
  },
  {
   "cell_type": "code",
   "execution_count": 14,
   "id": "417b7e6b",
   "metadata": {},
   "outputs": [
    {
     "data": {
      "text/plain": [
       "1982174266832"
      ]
     },
     "execution_count": 14,
     "metadata": {},
     "output_type": "execute_result"
    }
   ],
   "source": [
    "id(c)"
   ]
  },
  {
   "cell_type": "code",
   "execution_count": 18,
   "id": "98783003",
   "metadata": {},
   "outputs": [],
   "source": [
    "a=[2,3.80,'apple',True]"
   ]
  },
  {
   "cell_type": "code",
   "execution_count": 21,
   "id": "fbf93a55",
   "metadata": {},
   "outputs": [
    {
     "data": {
      "text/plain": [
       "[2, 3.8, 'apple', True]"
      ]
     },
     "execution_count": 21,
     "metadata": {},
     "output_type": "execute_result"
    }
   ],
   "source": [
    "a"
   ]
  },
  {
   "cell_type": "code",
   "execution_count": 20,
   "id": "a9d3a9b9",
   "metadata": {},
   "outputs": [
    {
     "data": {
      "text/plain": [
       "4"
      ]
     },
     "execution_count": 20,
     "metadata": {},
     "output_type": "execute_result"
    }
   ],
   "source": [
    "len(a)"
   ]
  },
  {
   "cell_type": "code",
   "execution_count": 22,
   "id": "d5313fa7",
   "metadata": {},
   "outputs": [
    {
     "data": {
      "text/plain": [
       "2"
      ]
     },
     "execution_count": 22,
     "metadata": {},
     "output_type": "execute_result"
    }
   ],
   "source": [
    "a[0]"
   ]
  },
  {
   "cell_type": "code",
   "execution_count": 23,
   "id": "aa215ae9",
   "metadata": {},
   "outputs": [
    {
     "data": {
      "text/plain": [
       "3.8"
      ]
     },
     "execution_count": 23,
     "metadata": {},
     "output_type": "execute_result"
    }
   ],
   "source": [
    "a[1]"
   ]
  },
  {
   "cell_type": "code",
   "execution_count": 24,
   "id": "bd56fcc2",
   "metadata": {},
   "outputs": [
    {
     "data": {
      "text/plain": [
       "True"
      ]
     },
     "execution_count": 24,
     "metadata": {},
     "output_type": "execute_result"
    }
   ],
   "source": [
    "a[-1]"
   ]
  },
  {
   "cell_type": "code",
   "execution_count": 25,
   "id": "1e4df453",
   "metadata": {},
   "outputs": [],
   "source": [
    "s='grapes'"
   ]
  },
  {
   "cell_type": "code",
   "execution_count": 26,
   "id": "4928d0cd",
   "metadata": {},
   "outputs": [
    {
     "data": {
      "text/plain": [
       "'s'"
      ]
     },
     "execution_count": 26,
     "metadata": {},
     "output_type": "execute_result"
    }
   ],
   "source": [
    "s[-1]"
   ]
  },
  {
   "cell_type": "code",
   "execution_count": 27,
   "id": "73fc2c55",
   "metadata": {},
   "outputs": [
    {
     "data": {
      "text/plain": [
       "'p'"
      ]
     },
     "execution_count": 27,
     "metadata": {},
     "output_type": "execute_result"
    }
   ],
   "source": [
    "s[3]"
   ]
  },
  {
   "cell_type": "code",
   "execution_count": 1,
   "id": "2e1148bd",
   "metadata": {},
   "outputs": [
    {
     "name": "stdout",
     "output_type": "stream",
     "text": [
      "100\n",
      "5\n"
     ]
    }
   ],
   "source": [
    "score=100\n",
    "wickets=5\n",
    "print(score)\n",
    "print(wickets)"
   ]
  },
  {
   "cell_type": "code",
   "execution_count": 5,
   "id": "7dc24448",
   "metadata": {},
   "outputs": [
    {
     "name": "stdout",
     "output_type": "stream",
     "text": [
      "debu\n",
      "20\n"
     ]
    }
   ],
   "source": [
    "_name=\"debu\"\n",
    "_age=20\n",
    "print(_name)\n",
    "print(_age)"
   ]
  },
  {
   "cell_type": "code",
   "execution_count": 6,
   "id": "1289b6a0",
   "metadata": {},
   "outputs": [
    {
     "name": "stdout",
     "output_type": "stream",
     "text": [
      "6\n",
      "1\n",
      "3\n"
     ]
    }
   ],
   "source": [
    "my_list=[1,2,3,4,5,6]\n",
    "print(my_list[-1])\n",
    "print(my_list[0])\n",
    "my_list[1]=8\n",
    "print(my_list[2])"
   ]
  },
  {
   "cell_type": "code",
   "execution_count": 7,
   "id": "b5031ebc",
   "metadata": {},
   "outputs": [
    {
     "name": "stdout",
     "output_type": "stream",
     "text": [
      "(1, 2, 3, 4, 'debu', [5, 6, 7])\n"
     ]
    }
   ],
   "source": [
    "my_tuple=(1,2,3,4,\"debu\",[5,6,7])\n",
    "print(my_tuple)"
   ]
  },
  {
   "cell_type": "code",
   "execution_count": 12,
   "id": "c223870c",
   "metadata": {},
   "outputs": [
    {
     "name": "stdout",
     "output_type": "stream",
     "text": [
      "('a', 's', 'd', 'debu', 1, 2, 3)\n"
     ]
    }
   ],
   "source": [
    "my_tuple=(\"a\",\"s\",\"d\",\"debu\",1,2,3)\n",
    "print(my_tuple)"
   ]
  },
  {
   "cell_type": "code",
   "execution_count": 13,
   "id": "9ccfdcd1",
   "metadata": {},
   "outputs": [
    {
     "name": "stdout",
     "output_type": "stream",
     "text": [
      "a\n"
     ]
    }
   ],
   "source": [
    "print(my_tuple[0])"
   ]
  },
  {
   "cell_type": "code",
   "execution_count": 14,
   "id": "7bbd8fde",
   "metadata": {},
   "outputs": [
    {
     "name": "stdout",
     "output_type": "stream",
     "text": [
      "2\n"
     ]
    }
   ],
   "source": [
    "print(my_tuple[-2])"
   ]
  },
  {
   "cell_type": "code",
   "execution_count": 15,
   "id": "9e0efe24",
   "metadata": {},
   "outputs": [
    {
     "name": "stdout",
     "output_type": "stream",
     "text": [
      "debu\n"
     ]
    }
   ],
   "source": [
    "print(my_tuple[3])"
   ]
  },
  {
   "cell_type": "code",
   "execution_count": 24,
   "id": "9217bcfc",
   "metadata": {},
   "outputs": [
    {
     "name": "stdout",
     "output_type": "stream",
     "text": [
      "a\n"
     ]
    }
   ],
   "source": [
    "print(my_tuple[0])"
   ]
  },
  {
   "cell_type": "code",
   "execution_count": 18,
   "id": "fa7a1b59",
   "metadata": {},
   "outputs": [
    {
     "name": "stdout",
     "output_type": "stream",
     "text": [
      "s\n"
     ]
    }
   ],
   "source": [
    "print(my_tuple[1])"
   ]
  },
  {
   "cell_type": "code",
   "execution_count": 26,
   "id": "425e2a47",
   "metadata": {},
   "outputs": [
    {
     "name": "stdout",
     "output_type": "stream",
     "text": [
      "{'name': 'debu', 'age': 25, (1, 2, 3): 100}\n"
     ]
    }
   ],
   "source": [
    "my_dict={\"name\":\"debu\",\"age\":25,(1,2,3):100}\n",
    "print(my_dict)"
   ]
  },
  {
   "cell_type": "code",
   "execution_count": 28,
   "id": "005b3abd",
   "metadata": {},
   "outputs": [
    {
     "data": {
      "text/plain": [
       "dict_keys(['name', 'age', (1, 2, 3)])"
      ]
     },
     "execution_count": 28,
     "metadata": {},
     "output_type": "execute_result"
    }
   ],
   "source": [
    "my_dict.keys()"
   ]
  },
  {
   "cell_type": "code",
   "execution_count": 31,
   "id": "b612247c",
   "metadata": {},
   "outputs": [
    {
     "ename": "KeyError",
     "evalue": "'debu'",
     "output_type": "error",
     "traceback": [
      "\u001b[1;31m---------------------------------------------------------------------------\u001b[0m",
      "\u001b[1;31mKeyError\u001b[0m                                  Traceback (most recent call last)",
      "Cell \u001b[1;32mIn[31], line 1\u001b[0m\n\u001b[1;32m----> 1\u001b[0m \u001b[43mmy_dict\u001b[49m\u001b[43m[\u001b[49m\u001b[38;5;124;43m'\u001b[39;49m\u001b[38;5;124;43mdebu\u001b[39;49m\u001b[38;5;124;43m'\u001b[39;49m\u001b[43m]\u001b[49m\n",
      "\u001b[1;31mKeyError\u001b[0m: 'debu'"
     ]
    }
   ],
   "source": [
    "my_dict['debu']"
   ]
  },
  {
   "cell_type": "code",
   "execution_count": 36,
   "id": "06d75418",
   "metadata": {},
   "outputs": [
    {
     "name": "stdout",
     "output_type": "stream",
     "text": [
      "['a', 'b', 'c']\n"
     ]
    }
   ],
   "source": [
    "my_list=[1,2,3,4,[\"a\",\"b\",\"c\"]]\n",
    "print(my_list[-1])"
   ]
  },
  {
   "cell_type": "code",
   "execution_count": 37,
   "id": "da3ddca9",
   "metadata": {},
   "outputs": [
    {
     "name": "stdout",
     "output_type": "stream",
     "text": [
      "5.0\n"
     ]
    }
   ],
   "source": [
    "import math\n",
    "result=math.sqrt(25)\n",
    "print(result)"
   ]
  },
  {
   "cell_type": "code",
   "execution_count": 41,
   "id": "b5a14a36",
   "metadata": {},
   "outputs": [
    {
     "name": "stdout",
     "output_type": "stream",
     "text": [
      "8.0\n"
     ]
    }
   ],
   "source": [
    "from math import sqrt\n",
    "result=sqrt(64)\n",
    "print(result)"
   ]
  },
  {
   "cell_type": "code",
   "execution_count": 42,
   "id": "1463fbdd",
   "metadata": {},
   "outputs": [
    {
     "name": "stdout",
     "output_type": "stream",
     "text": [
      "this is a possitive number\n"
     ]
    }
   ],
   "source": [
    "x=10\n",
    "if x < 20:\n",
    "    print(\"this is a possitive number\")"
   ]
  },
  {
   "cell_type": "code",
   "execution_count": 45,
   "id": "1582b307",
   "metadata": {},
   "outputs": [
    {
     "name": "stdout",
     "output_type": "stream",
     "text": [
      "it is false\n"
     ]
    }
   ],
   "source": [
    "x=5\n",
    "if x>8:\n",
    "    print(\"it is true\")\n",
    "else:\n",
    "    print(\"it is false\")"
   ]
  },
  {
   "cell_type": "code",
   "execution_count": 4,
   "id": "e1173d9b",
   "metadata": {},
   "outputs": [
    {
     "name": "stdout",
     "output_type": "stream",
     "text": [
      "['my ', ' is debu, i have, a lenevo i-3 laptop']\n"
     ]
    }
   ],
   "source": [
    "A=\"my name is debu, i have, a lenevo i-3 laptop\"\n",
    "#type(A)=string\n",
    "B=A.split('name') #3type(B)=list\n",
    "print(B)"
   ]
  },
  {
   "cell_type": "code",
   "execution_count": 9,
   "id": "75a92c4d",
   "metadata": {},
   "outputs": [
    {
     "name": "stdout",
     "output_type": "stream",
     "text": [
      "['my n', 'me is debu, i h', 've, ', ' lenevo i-3 l', 'ptop']\n"
     ]
    }
   ],
   "source": [
    "C=A.split('a')\n",
    "print(C)"
   ]
  },
  {
   "cell_type": "code",
   "execution_count": 10,
   "id": "8c9a6f2d",
   "metadata": {},
   "outputs": [
    {
     "name": "stdout",
     "output_type": "stream",
     "text": [
      "['he ', ' hari, he has ,no money']\n"
     ]
    }
   ],
   "source": [
    "A=\"he is hari, he has ,no money\"\n",
    "B=A.split('is')\n",
    "print(B)"
   ]
  },
  {
   "cell_type": "code",
   "execution_count": 11,
   "id": "42eba215",
   "metadata": {},
   "outputs": [
    {
     "name": "stdout",
     "output_type": "stream",
     "text": [
      "['', 'e is ', 'ari, ', 'e ', 'as ,no money']\n"
     ]
    }
   ],
   "source": [
    "C=A.split('h')\n",
    "print(C)"
   ]
  },
  {
   "cell_type": "code",
   "execution_count": 12,
   "id": "58f058e8",
   "metadata": {},
   "outputs": [
    {
     "data": {
      "text/plain": [
       "5"
      ]
     },
     "execution_count": 12,
     "metadata": {},
     "output_type": "execute_result"
    }
   ],
   "source": [
    "len(C)"
   ]
  },
  {
   "cell_type": "code",
   "execution_count": 13,
   "id": "9c21dc0d",
   "metadata": {},
   "outputs": [
    {
     "name": "stdout",
     "output_type": "stream",
     "text": [
      "['he ', 's har', ', he has ,no money']\n"
     ]
    }
   ],
   "source": [
    "D=A.split('i')\n",
    "print(D)"
   ]
  },
  {
   "cell_type": "code",
   "execution_count": 20,
   "id": "59a39cda",
   "metadata": {},
   "outputs": [
    {
     "data": {
      "text/plain": [
       "True"
      ]
     },
     "execution_count": 20,
     "metadata": {},
     "output_type": "execute_result"
    }
   ],
   "source": [
    "A.startswith('he is')"
   ]
  },
  {
   "cell_type": "code",
   "execution_count": 21,
   "id": "32df90e3",
   "metadata": {},
   "outputs": [
    {
     "data": {
      "text/plain": [
       "False"
      ]
     },
     "execution_count": 21,
     "metadata": {},
     "output_type": "execute_result"
    }
   ],
   "source": [
    "A.startswith('he has')"
   ]
  },
  {
   "cell_type": "code",
   "execution_count": 26,
   "id": "5eea4f60",
   "metadata": {},
   "outputs": [
    {
     "data": {
      "text/plain": [
       "True"
      ]
     },
     "execution_count": 26,
     "metadata": {},
     "output_type": "execute_result"
    }
   ],
   "source": [
    "True==True\n",
    "True==False\n",
    "False==True\n",
    "False==False"
   ]
  },
  {
   "cell_type": "markdown",
   "id": "730e1abf",
   "metadata": {},
   "source": []
  },
  {
   "cell_type": "code",
   "execution_count": 28,
   "id": "35b435f2",
   "metadata": {},
   "outputs": [
    {
     "name": "stdout",
     "output_type": "stream",
     "text": [
      "['virat ', ' is,the greatest batsman']\n"
     ]
    }
   ],
   "source": [
    "A=\"virat kohli is,the greatest batsman\"\n",
    "B=A.split(\"kohli\")\n",
    "print(B)"
   ]
  },
  {
   "cell_type": "code",
   "execution_count": 29,
   "id": "4954e94c",
   "metadata": {},
   "outputs": [
    {
     "name": "stdout",
     "output_type": "stream",
     "text": [
      "['vir', 't kohli is,the gre', 'test b', 'tsm', 'n']\n"
     ]
    }
   ],
   "source": [
    "C=A.split(\"a\")\n",
    "print(C)"
   ]
  },
  {
   "cell_type": "code",
   "execution_count": 30,
   "id": "0088ae77",
   "metadata": {},
   "outputs": [
    {
     "data": {
      "text/plain": [
       "5"
      ]
     },
     "execution_count": 30,
     "metadata": {},
     "output_type": "execute_result"
    }
   ],
   "source": [
    "len(C)"
   ]
  },
  {
   "cell_type": "code",
   "execution_count": 31,
   "id": "acc43071",
   "metadata": {},
   "outputs": [
    {
     "data": {
      "text/plain": [
       "True"
      ]
     },
     "execution_count": 31,
     "metadata": {},
     "output_type": "execute_result"
    }
   ],
   "source": [
    "A.startswith(\"virat\")"
   ]
  },
  {
   "cell_type": "code",
   "execution_count": 33,
   "id": "c2c6b3b3",
   "metadata": {},
   "outputs": [
    {
     "data": {
      "text/plain": [
       "False"
      ]
     },
     "execution_count": 33,
     "metadata": {},
     "output_type": "execute_result"
    }
   ],
   "source": [
    "A.startswith(\"kohli\")"
   ]
  },
  {
   "cell_type": "code",
   "execution_count": 34,
   "id": "6a79ba5e",
   "metadata": {},
   "outputs": [
    {
     "name": "stdout",
     "output_type": "stream",
     "text": [
      "1\n",
      "2\n",
      "3\n",
      "4\n",
      "5\n",
      "6\n",
      "7\n"
     ]
    }
   ],
   "source": [
    "for i in range(1,8):\n",
    "    print(i)"
   ]
  },
  {
   "cell_type": "code",
   "execution_count": 39,
   "id": "cabf178c",
   "metadata": {},
   "outputs": [
    {
     "name": "stdout",
     "output_type": "stream",
     "text": [
      "0\n",
      "1\n",
      "2\n",
      "3\n",
      "4\n",
      "5\n",
      "6\n",
      "7\n",
      "8\n",
      "9\n",
      "10\n",
      "11\n",
      "12\n",
      "13\n",
      "14\n",
      "15\n",
      "16\n",
      "17\n",
      "18\n",
      "19\n",
      "20\n",
      "21\n",
      "22\n",
      "23\n",
      "24\n",
      "25\n",
      "26\n",
      "27\n",
      "28\n",
      "29\n"
     ]
    }
   ],
   "source": [
    "for i in range(30):\n",
    "    print(i)"
   ]
  },
  {
   "cell_type": "code",
   "execution_count": 40,
   "id": "7d8e602c",
   "metadata": {},
   "outputs": [
    {
     "name": "stdout",
     "output_type": "stream",
     "text": [
      "2\n",
      "4\n",
      "6\n",
      "8\n"
     ]
    }
   ],
   "source": [
    "for i in range (2,9,2):\n",
    "    print(i)"
   ]
  },
  {
   "cell_type": "code",
   "execution_count": 41,
   "id": "0e132f18",
   "metadata": {},
   "outputs": [
    {
     "name": "stdout",
     "output_type": "stream",
     "text": [
      "1\n",
      "7\n",
      "13\n",
      "19\n",
      "25\n"
     ]
    }
   ],
   "source": [
    "for i in range (1,29,6):\n",
    "    print(i)"
   ]
  },
  {
   "cell_type": "code",
   "execution_count": 44,
   "id": "0b40ab5f",
   "metadata": {},
   "outputs": [
    {
     "name": "stdout",
     "output_type": "stream",
     "text": [
      "0\n",
      "number of iteration: 2\n",
      "1\n",
      "number of iteration: 3\n",
      "2\n",
      "number of iteration: 4\n",
      "3\n",
      "number of iteration: 5\n",
      "4\n",
      "number of iteration: 6\n"
     ]
    }
   ],
   "source": [
    "iteration=1\n",
    "for i in range(5):\n",
    "    print(i)\n",
    "    iteration=iteration+1\n",
    "    print(\"number of iteration:\",iteration)\n",
    "    "
   ]
  },
  {
   "cell_type": "code",
   "execution_count": 45,
   "id": "a2d0d0a5",
   "metadata": {},
   "outputs": [
    {
     "name": "stdout",
     "output_type": "stream",
     "text": [
      "0\n",
      "number of iteration: 3\n",
      "1\n",
      "number of iteration: 4\n",
      "2\n",
      "number of iteration: 5\n",
      "3\n",
      "number of iteration: 6\n",
      "4\n",
      "number of iteration: 7\n",
      "5\n",
      "number of iteration: 8\n",
      "6\n",
      "number of iteration: 9\n",
      "7\n",
      "number of iteration: 10\n",
      "8\n",
      "number of iteration: 11\n",
      "9\n",
      "number of iteration: 12\n"
     ]
    }
   ],
   "source": [
    "iteration=2\n",
    "for i in range (10):\n",
    "    print(i)\n",
    "    iteration=iteration+1\n",
    "    print(\"number of iteration:\",iteration)"
   ]
  },
  {
   "cell_type": "code",
   "execution_count": null,
   "id": "dd351496",
   "metadata": {},
   "outputs": [],
   "source": []
  }
 ],
 "metadata": {
  "kernelspec": {
   "display_name": "Python 3 (ipykernel)",
   "language": "python",
   "name": "python3"
  },
  "language_info": {
   "codemirror_mode": {
    "name": "ipython",
    "version": 3
   },
   "file_extension": ".py",
   "mimetype": "text/x-python",
   "name": "python",
   "nbconvert_exporter": "python",
   "pygments_lexer": "ipython3",
   "version": "3.10.9"
  }
 },
 "nbformat": 4,
 "nbformat_minor": 5
}
