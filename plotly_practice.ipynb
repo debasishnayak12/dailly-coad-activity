{
 "cells": [
  {
   "cell_type": "code",
   "execution_count": 1,
   "id": "4a092d94",
   "metadata": {},
   "outputs": [],
   "source": [
    "import plotly.express as px\n",
    "import pandas as pd"
   ]
  },
  {
   "cell_type": "code",
   "execution_count": null,
   "id": "055a2adf",
   "metadata": {},
   "outputs": [],
   "source": [
    "df=pd.read_csv('https://raw.githubusercontent.com/RanjitM007/DSData/master/MNC_Salaries.csv')"
   ]
  },
  {
   "cell_type": "code",
   "execution_count": null,
   "id": "661ddef4",
   "metadata": {},
   "outputs": [],
   "source": [
    "df.head()"
   ]
  },
  {
   "cell_type": "markdown",
   "id": "eb0bb52c",
   "metadata": {},
   "source": [
    "# line_plot"
   ]
  },
  {
   "cell_type": "code",
   "execution_count": null,
   "id": "edf2fb47",
   "metadata": {},
   "outputs": [],
   "source": [
    "fig=px.line(df,x=\"Position\",y=\"Salary\")\n",
    "fig.show()"
   ]
  },
  {
   "cell_type": "markdown",
   "id": "35f09fa9",
   "metadata": {},
   "source": [
    "Maximum rating got between 3 and 5"
   ]
  },
  {
   "cell_type": "code",
   "execution_count": null,
   "id": "f5e184fc",
   "metadata": {},
   "outputs": [],
   "source": [
    "fig=px.line(df,x=\"Age\",y=\"Salary\")\n",
    "fig.show()"
   ]
  },
  {
   "cell_type": "markdown",
   "id": "9229b0a4",
   "metadata": {},
   "source": [
    "# Bar plot"
   ]
  },
  {
   "cell_type": "code",
   "execution_count": null,
   "id": "f5ede7af",
   "metadata": {},
   "outputs": [],
   "source": [
    "#plot bar plot using plotly\n",
    "fig=px.bar(df,x=\"Position\",y=\"Salary\",color=\"Salary\")\n",
    "fig.show()"
   ]
  },
  {
   "cell_type": "markdown",
   "id": "508cb057",
   "metadata": {},
   "source": [
    "# Histogram"
   ]
  },
  {
   "cell_type": "code",
   "execution_count": null,
   "id": "963132be",
   "metadata": {},
   "outputs": [],
   "source": [
    "#plot histplot by using plotly\n",
    "plot=px.histogram(df,x=\"Number\",y=\"Salary\",color=\"Number\")\n",
    "plot.show()\n"
   ]
  },
  {
   "cell_type": "markdown",
   "id": "80d84189",
   "metadata": {},
   "source": [
    "# Scatter plot"
   ]
  },
  {
   "cell_type": "code",
   "execution_count": null,
   "id": "e96c3612",
   "metadata": {},
   "outputs": [],
   "source": [
    "#plot scatter plot\n",
    "plot=px.scatter(df,x=\"Position\",y=\"Salary\",symbol=\"Position\",color=\"Salary\",size=\"Age\")\n",
    "plot.show()"
   ]
  },
  {
   "cell_type": "code",
   "execution_count": null,
   "id": "d17a800f",
   "metadata": {},
   "outputs": [],
   "source": [
    "#plot piechart\n",
    "fig=px.pie(df,values=\"Salary\",names=\"Position\",color=\"Position\",title=\"Pie chart of Position and Salary\")\n",
    "fig.show()"
   ]
  },
  {
   "cell_type": "markdown",
   "id": "f0d4f89b",
   "metadata": {},
   "source": [
    "Here maximum salary in 'C' Position and mimimum salary in 'SG' Position"
   ]
  },
  {
   "cell_type": "markdown",
   "id": "ceddef1e",
   "metadata": {},
   "source": [
    "# Box plot"
   ]
  },
  {
   "cell_type": "code",
   "execution_count": null,
   "id": "80bd25de",
   "metadata": {},
   "outputs": [],
   "source": [
    "#plotting box plot\n",
    "plot=px.box(df,x=\"Position\",y=\"Salary\",width=800,height=600)\n",
    "plot.show()"
   ]
  },
  {
   "cell_type": "markdown",
   "id": "c76eeee7",
   "metadata": {},
   "source": [
    "Here we observe some outliers in PG,SF,SG,PF Positions"
   ]
  },
  {
   "cell_type": "markdown",
   "id": "f94b5363",
   "metadata": {},
   "source": [
    "# Volin plot"
   ]
  },
  {
   "cell_type": "code",
   "execution_count": null,
   "id": "a5da8f7a",
   "metadata": {},
   "outputs": [],
   "source": [
    "#ploting violin plot\n",
    "fig=px.violin(df,x=\"Position\",y=\"Salary\",color=\"Position\")\n",
    "fig.show()"
   ]
  },
  {
   "cell_type": "markdown",
   "id": "ffc89fb2",
   "metadata": {},
   "source": [
    "Number of 'SG' position is more but more salaroid position is 'C'"
   ]
  },
  {
   "cell_type": "markdown",
   "id": "e92a9720",
   "metadata": {},
   "source": [
    "# Contour plot"
   ]
  },
  {
   "cell_type": "code",
   "execution_count": null,
   "id": "eb1b0172",
   "metadata": {},
   "outputs": [],
   "source": [
    "#plotting Contour plot\n",
    "import plotly.graph_objects as go\n",
    "import numpy as np\n",
    "\n",
    "x=df[\"Salary\"]\n",
    "y=df[\"Numb\"]\n",
    "\n",
    "#create 2D grid of x and y\n",
    "[X,Y]=np.meshgrid(x,y)\n",
    "\n",
    "Z=X**2/Y**2\n",
    "\n",
    "fig=go.Figure(data=go.Contour(x=x,y=y,z=Z))\n",
    "fig.show()"
   ]
  },
  {
   "cell_type": "code",
   "execution_count": null,
   "id": "5570e283",
   "metadata": {},
   "outputs": [],
   "source": []
  }
 ],
 "metadata": {
  "kernelspec": {
   "display_name": "Python 3 (ipykernel)",
   "language": "python",
   "name": "python3"
  },
  "language_info": {
   "codemirror_mode": {
    "name": "ipython",
    "version": 3
   },
   "file_extension": ".py",
   "mimetype": "text/x-python",
   "name": "python",
   "nbconvert_exporter": "python",
   "pygments_lexer": "ipython3",
   "version": "3.10.9"
  }
 },
 "nbformat": 4,
 "nbformat_minor": 5
}
