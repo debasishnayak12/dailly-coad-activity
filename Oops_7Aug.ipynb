{
 "cells": [
  {
   "cell_type": "code",
   "execution_count": 6,
   "id": "2aad57e4",
   "metadata": {},
   "outputs": [],
   "source": [
    "class Person:\n",
    "    def __init__ (self,name,age):\n",
    "        self.name=name\n",
    "        self.age=age\n",
    "        \n",
    "    def __str__(self):\n",
    "        return f\"{self.name}{self.age}\""
   ]
  },
  {
   "cell_type": "code",
   "execution_count": 7,
   "id": "c60ec450",
   "metadata": {},
   "outputs": [
    {
     "data": {
      "text/plain": [
       "'Debu21'"
      ]
     },
     "execution_count": 7,
     "metadata": {},
     "output_type": "execute_result"
    }
   ],
   "source": [
    "p1=Person(\"Debu\",21)\n",
    "p1.__str__()"
   ]
  },
  {
   "cell_type": "code",
   "execution_count": 13,
   "id": "a7caa33b",
   "metadata": {},
   "outputs": [],
   "source": [
    "class Teacher:\n",
    "    def __init__(self,name):\n",
    "        self.name=name\n",
    "        \n",
    "    def display(self):\n",
    "        print(\"Teacher's name is \" ,self.name)"
   ]
  },
  {
   "cell_type": "code",
   "execution_count": 23,
   "id": "331aa2f5",
   "metadata": {},
   "outputs": [
    {
     "name": "stdout",
     "output_type": "stream",
     "text": [
      "Teacher's name is  Raghunath\n"
     ]
    }
   ],
   "source": [
    "t1=Teacher(\"Raghunath\")\n",
    "t1.display()"
   ]
  },
  {
   "cell_type": "code",
   "execution_count": 21,
   "id": "80d07ce0",
   "metadata": {},
   "outputs": [],
   "source": [
    "class department(Teacher):\n",
    "    def __init__(self,name,subject):\n",
    "        super().__init__(name)\n",
    "        self.subject=subject\n",
    "        \n",
    "    def display(self):\n",
    "        print(\"Teacher\", self.name ,\"teaching\", self.subject)"
   ]
  },
  {
   "cell_type": "code",
   "execution_count": 24,
   "id": "3bd07a8d",
   "metadata": {},
   "outputs": [
    {
     "name": "stdout",
     "output_type": "stream",
     "text": [
      "Teacher Raghu teaching English\n"
     ]
    }
   ],
   "source": [
    "d1=department(\"Raghu\",\"English\")\n",
    "d1.display()"
   ]
  },
  {
   "cell_type": "code",
   "execution_count": null,
   "id": "6ca4df5c",
   "metadata": {},
   "outputs": [],
   "source": []
  },
  {
   "cell_type": "code",
   "execution_count": 31,
   "id": "34cfd852",
   "metadata": {},
   "outputs": [],
   "source": [
    "class Vehicle:\n",
    "    def __init__(self,max_speed,num_wheel):\n",
    "        self.max_speed=max_speed\n",
    "        self.num_wheel=num_wheel\n",
    "        \n",
    "    def move(self):\n",
    "        print(\"Vehivle is moving\")"
   ]
  },
  {
   "cell_type": "code",
   "execution_count": 32,
   "id": "5f4aef4f",
   "metadata": {},
   "outputs": [],
   "source": [
    "class Car(Vehicle):\n",
    "    def __init__(self,max_speed,num_wheel,num_doors):\n",
    "        super().__init__(max_speed,num_wheel)\n",
    "        self.num_doors=num_doors\n",
    "        \n",
    "    def Hunk(self):\n",
    "        print(\"Hunk..\")"
   ]
  },
  {
   "cell_type": "code",
   "execution_count": 29,
   "id": "df0b124e",
   "metadata": {},
   "outputs": [],
   "source": [
    "class Bus(Vehicle):\n",
    "    def __init__(self,max_speed,num_wheel,passenger_capacity):\n",
    "        super().__init__(max_speed,num_wheel)\n",
    "        self.passenger_capacity=passenger_capacity\n",
    "        \n",
    "    def open_doors(self):\n",
    "        print(\"open doors\")"
   ]
  },
  {
   "cell_type": "code",
   "execution_count": 34,
   "id": "358a5c0a",
   "metadata": {},
   "outputs": [
    {
     "name": "stdout",
     "output_type": "stream",
     "text": [
      "Max speed of my car 200\n",
      "num of wheels of my car  4\n",
      "Num of doors of my cars  4\n"
     ]
    }
   ],
   "source": [
    "car=Car(200,4,4)\n",
    "print(\"Max speed of my car\",car.max_speed)\n",
    "print(\"num of wheels of my car \",car.num_wheel)\n",
    "print(\"Num of doors of my cars \",car.num_doors)"
   ]
  },
  {
   "cell_type": "code",
   "execution_count": 35,
   "id": "9c90132a",
   "metadata": {},
   "outputs": [
    {
     "name": "stdout",
     "output_type": "stream",
     "text": [
      "top speed of the bus  100\n",
      "no of wheels of the bus  6\n",
      "Bus is moving with the speed  100 and the passenger limit is  50\n"
     ]
    }
   ],
   "source": [
    "bus=Bus(100,6,50)\n",
    "print(\"top speed of the bus \",bus.max_speed)\n",
    "print(\"no of wheels of the bus \",bus.num_wheel)\n",
    "print(\"Bus is moving with the speed \",bus.max_speed, \"and the passenger limit is \",bus.passenger_capacity)"
   ]
  },
  {
   "cell_type": "code",
   "execution_count": 77,
   "id": "ad1c30b2",
   "metadata": {},
   "outputs": [],
   "source": [
    "class Animal:\n",
    "    def __init__(self,name):\n",
    "        self.name=name\n",
    "        \n",
    "    def sound(self):\n",
    "        print(\"sound grooo...\")\n",
    "        \n",
    "class Dog(Animal):\n",
    "    def __inti__(self,name,color):\n",
    "        super().__init__(name)\n",
    "        self.color=color\n",
    "        \n",
    "    def sound(self):\n",
    "        print(\"Bowww....\")\n",
    "        \n",
    "class Cat(Animal):\n",
    "    def __init__(self,name,age):\n",
    "        super().__init__(name)\n",
    "        self.age=age\n",
    "        \n",
    "    def sound(self):\n",
    "        print(\"Meooo..\")\n",
    "    "
   ]
  },
  {
   "cell_type": "code",
   "execution_count": 78,
   "id": "d7c64cbc",
   "metadata": {},
   "outputs": [
    {
     "ename": "TypeError",
     "evalue": "Animal.__init__() takes 2 positional arguments but 3 were given",
     "output_type": "error",
     "traceback": [
      "\u001b[1;31m---------------------------------------------------------------------------\u001b[0m",
      "\u001b[1;31mTypeError\u001b[0m                                 Traceback (most recent call last)",
      "Cell \u001b[1;32mIn[78], line 1\u001b[0m\n\u001b[1;32m----> 1\u001b[0m dog\u001b[38;5;241m=\u001b[39m\u001b[43mDog\u001b[49m\u001b[43m(\u001b[49m\u001b[38;5;124;43m\"\u001b[39;49m\u001b[38;5;124;43mTommy\u001b[39;49m\u001b[38;5;124;43m\"\u001b[39;49m\u001b[43m,\u001b[49m\u001b[38;5;124;43m\"\u001b[39;49m\u001b[38;5;124;43mblack\u001b[39;49m\u001b[38;5;124;43m\"\u001b[39;49m\u001b[43m)\u001b[49m\n\u001b[0;32m      2\u001b[0m dog\u001b[38;5;241m.\u001b[39mname\n\u001b[0;32m      3\u001b[0m dog\u001b[38;5;241m.\u001b[39msound()\n",
      "\u001b[1;31mTypeError\u001b[0m: Animal.__init__() takes 2 positional arguments but 3 were given"
     ]
    }
   ],
   "source": [
    "dog=Dog(\"Tommy\",\"black\")\n",
    "dog.name\n",
    "dog.sound()"
   ]
  },
  {
   "cell_type": "code",
   "execution_count": 79,
   "id": "50e5cef5",
   "metadata": {},
   "outputs": [
    {
     "name": "stdout",
     "output_type": "stream",
     "text": [
      "Meooo..\n"
     ]
    }
   ],
   "source": [
    "cat=Cat(\"Pushy\",1)\n",
    "cat.age\n",
    "cat.sound()"
   ]
  },
  {
   "cell_type": "code",
   "execution_count": null,
   "id": "b084f090",
   "metadata": {},
   "outputs": [],
   "source": []
  },
  {
   "cell_type": "code",
   "execution_count": 134,
   "id": "89d9514c",
   "metadata": {},
   "outputs": [],
   "source": [
    "class Todolist:\n",
    "    def __init__(self,owner):\n",
    "        self.owner=owner\n",
    "        self.task=[]\n",
    "        \n",
    "    def add_task(self,task):\n",
    "        self.task.append(task)\n",
    "        \n",
    "    def complete_task(self,task):\n",
    "        if task in self.task:\n",
    "            self.task.remove(task)\n",
    "            print(\"The task\", task ,\"is completed\")\n",
    "            \n",
    "    def display_tasks(self):\n",
    "        print(f\"Todo task for {self.owner} is :\")\n",
    "        for task in self.task:\n",
    "            print(task)\n",
    "            \n",
    "        "
   ]
  },
  {
   "cell_type": "code",
   "execution_count": 135,
   "id": "fdabde69",
   "metadata": {},
   "outputs": [],
   "source": [
    "dk=Todolist(\"Debu\")"
   ]
  },
  {
   "cell_type": "code",
   "execution_count": 136,
   "id": "a35ae37b",
   "metadata": {},
   "outputs": [
    {
     "data": {
      "text/plain": [
       "'Debu'"
      ]
     },
     "execution_count": 136,
     "metadata": {},
     "output_type": "execute_result"
    }
   ],
   "source": [
    "dk.owner"
   ]
  },
  {
   "cell_type": "code",
   "execution_count": 109,
   "id": "30e0554d",
   "metadata": {},
   "outputs": [],
   "source": [
    "dk.add_task(\"To call mom\")\n",
    "dk.add_task(\"To cook\")\n",
    "dk.add_task(\"To fill water tank\")\n",
    "dk.add_task(\"To call father\")\n",
    "dk.add_task(\"To call fr\")"
   ]
  },
  {
   "cell_type": "code",
   "execution_count": 110,
   "id": "8cf0a738",
   "metadata": {},
   "outputs": [
    {
     "name": "stdout",
     "output_type": "stream",
     "text": [
      "The task To call fr is completed\n"
     ]
    }
   ],
   "source": [
    "ctask=dk.complete_task(\"To call fr\")\n",
    "ctask"
   ]
  },
  {
   "cell_type": "code",
   "execution_count": 111,
   "id": "489c8985",
   "metadata": {},
   "outputs": [
    {
     "name": "stdout",
     "output_type": "stream",
     "text": [
      "Todo task for Debu is :\n",
      "To call mom\n",
      "To cook\n",
      "To fill water tank\n",
      "To call father\n"
     ]
    }
   ],
   "source": [
    "dk.display_tasks()"
   ]
  },
  {
   "cell_type": "code",
   "execution_count": 112,
   "id": "4b3c62b1",
   "metadata": {},
   "outputs": [
    {
     "name": "stdout",
     "output_type": "stream",
     "text": [
      "The task To call father is completed\n"
     ]
    }
   ],
   "source": [
    "dk.complete_task(\"To call father\")"
   ]
  },
  {
   "cell_type": "code",
   "execution_count": 138,
   "id": "567679dd",
   "metadata": {},
   "outputs": [],
   "source": [
    "class Bankaccount:\n",
    "    def __init__(self,account_holder,account_no,balance=0):\n",
    "        self.account_holder=account_holder\n",
    "        self.account_no=account_no\n",
    "        self.balance=balance\n",
    "        \n",
    "    def deposite(self,amount):\n",
    "        self.balance+=amount\n",
    "        print('The curent balance is ',self.balance)\n",
    "        \n",
    "    def withdraw(self,amount):\n",
    "        self.balance=self.balance-self.amount\n",
    "        print(\"The curent balance is \",self.balance)"
   ]
  },
  {
   "cell_type": "code",
   "execution_count": 139,
   "id": "384446fc",
   "metadata": {},
   "outputs": [],
   "source": [
    "dt=Bankaccount(\"Debu\",\"192838\",0)"
   ]
  },
  {
   "cell_type": "code",
   "execution_count": 140,
   "id": "f20ba5d9",
   "metadata": {},
   "outputs": [
    {
     "name": "stdout",
     "output_type": "stream",
     "text": [
      "The curent balance is  100\n"
     ]
    }
   ],
   "source": [
    "dt.deposite(100)"
   ]
  },
  {
   "cell_type": "code",
   "execution_count": 141,
   "id": "b6b5401a",
   "metadata": {},
   "outputs": [
    {
     "data": {
      "text/plain": [
       "'192838'"
      ]
     },
     "execution_count": 141,
     "metadata": {},
     "output_type": "execute_result"
    }
   ],
   "source": [
    "dt.account_no"
   ]
  },
  {
   "cell_type": "code",
   "execution_count": 142,
   "id": "322b2d87",
   "metadata": {},
   "outputs": [
    {
     "data": {
      "text/plain": [
       "'Debu'"
      ]
     },
     "execution_count": 142,
     "metadata": {},
     "output_type": "execute_result"
    }
   ],
   "source": [
    "dt.account_holder"
   ]
  },
  {
   "cell_type": "code",
   "execution_count": 137,
   "id": "8fc5f66c",
   "metadata": {},
   "outputs": [
    {
     "data": {
      "text/plain": [
       "100"
      ]
     },
     "execution_count": 137,
     "metadata": {},
     "output_type": "execute_result"
    }
   ],
   "source": [
    "dt.balance"
   ]
  },
  {
   "cell_type": "code",
   "execution_count": null,
   "id": "28e34e52",
   "metadata": {},
   "outputs": [],
   "source": []
  }
 ],
 "metadata": {
  "kernelspec": {
   "display_name": "Python 3 (ipykernel)",
   "language": "python",
   "name": "python3"
  },
  "language_info": {
   "codemirror_mode": {
    "name": "ipython",
    "version": 3
   },
   "file_extension": ".py",
   "mimetype": "text/x-python",
   "name": "python",
   "nbconvert_exporter": "python",
   "pygments_lexer": "ipython3",
   "version": "3.10.9"
  }
 },
 "nbformat": 4,
 "nbformat_minor": 5
}
