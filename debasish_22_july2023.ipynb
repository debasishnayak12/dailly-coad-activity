{
 "cells": [
  {
   "cell_type": "code",
   "execution_count": 2,
   "id": "c1923a6e",
   "metadata": {},
   "outputs": [
    {
     "name": "stdout",
     "output_type": "stream",
     "text": [
      "Enter a age:30\n",
      "You can work\n"
     ]
    }
   ],
   "source": [
    "n=18\n",
    "\n",
    "try:\n",
    "    input_num=int(input(\"Enter a age:\"))\n",
    "    if input_num<n:\n",
    "        raise wrongage\n",
    "    else:\n",
    "        print(\"You can work\")\n",
    "        \n",
    "except:\n",
    "    print(\"You can't work,wrongage\")"
   ]
  },
  {
   "cell_type": "code",
   "execution_count": 2,
   "id": "386cfccb",
   "metadata": {},
   "outputs": [
    {
     "name": "stderr",
     "output_type": "stream",
     "text": [
      "DEBUG:root:variables are 4 and 5 \n"
     ]
    },
    {
     "data": {
      "text/plain": [
       "9"
      ]
     },
     "execution_count": 2,
     "metadata": {},
     "output_type": "execute_result"
    }
   ],
   "source": [
    "import  logging\n",
    "\n",
    "logging.basicConfig(level=logging.DEBUG)\n",
    "\n",
    "def add(x,y):\n",
    "    logging.debug('variables are %s and %s ',x,y)\n",
    "    return x+y\n",
    "add(4,5)"
   ]
  },
  {
   "cell_type": "code",
   "execution_count": 3,
   "id": "ec83f385",
   "metadata": {},
   "outputs": [
    {
     "name": "stderr",
     "output_type": "stream",
     "text": [
      "INFO:root:user Admin user is logged in\n"
     ]
    }
   ],
   "source": [
    "logging.basicConfig(level=logging.INFO)\n",
    "\n",
    "def login(user):\n",
    "    logging.info('user %s is logged in',user)\n",
    "    \n",
    "login('Admin user')"
   ]
  },
  {
   "cell_type": "code",
   "execution_count": 7,
   "id": "8e81f014",
   "metadata": {},
   "outputs": [
    {
     "name": "stderr",
     "output_type": "stream",
     "text": [
      "WARNING:root:sorry ,you have low balance: 500\n"
     ]
    }
   ],
   "source": [
    "logging.basicConfig(level=logging.WARNING)\n",
    "def mybalance(amount):\n",
    "    if amount < 4000:\n",
    "        logging.warning('sorry ,you have low balance: %s',amount)\n",
    "        \n",
    "mybalance(500)"
   ]
  },
  {
   "cell_type": "code",
   "execution_count": 8,
   "id": "3cc8a596",
   "metadata": {},
   "outputs": [
    {
     "name": "stderr",
     "output_type": "stream",
     "text": [
      "ERROR:root:zero division error\n"
     ]
    }
   ],
   "source": [
    "logging.basicConfig(level=logging.ERROR)\n",
    "\n",
    "def let_devide(n,d):\n",
    "    try:\n",
    "        result=n/d\n",
    "        \n",
    "    except:\n",
    "        logging.error('zero division error')\n",
    "        \n",
    "    else:\n",
    "        return result\n",
    "    \n",
    "let_devide(5,0)\n",
    "    "
   ]
  },
  {
   "cell_type": "code",
   "execution_count": 9,
   "id": "75c564c4",
   "metadata": {},
   "outputs": [
    {
     "name": "stderr",
     "output_type": "stream",
     "text": [
      "CRITICAL:root:systom faiure: you need to handle this issue now\n"
     ]
    }
   ],
   "source": [
    "logging.basicConfig(level=logging.CRITICAL)\n",
    "\n",
    "def letchecksystem(sys):\n",
    "    if sys != \"OK\":\n",
    "        logging.critical('systom faiure: %s',sys)\n",
    "        \n",
    "letchecksystem('you need to handle this issue now')"
   ]
  },
  {
   "cell_type": "code",
   "execution_count": 10,
   "id": "07d4e002",
   "metadata": {},
   "outputs": [
    {
     "name": "stdout",
     "output_type": "stream",
     "text": [
      "9\n"
     ]
    }
   ],
   "source": [
    "def add_numbers(num1,num2):\n",
    "    sum = num1 + num2\n",
    "    return sum\n",
    "result=add_numbers(4,5)\n",
    "print(result)"
   ]
  },
  {
   "cell_type": "code",
   "execution_count": 12,
   "id": "d6c83cfd",
   "metadata": {},
   "outputs": [
    {
     "name": "stdout",
     "output_type": "stream",
     "text": [
      "enter 1st num: 10\n",
      "enter 2nd num: 5\n",
      "The sum is : 15.0\n",
      "The diff is : 5.0\n",
      "The product is: 50.0\n",
      "The division is : 2.0\n"
     ]
    }
   ],
   "source": [
    "def my_calculator():\n",
    "    num1=float(input(\"enter 1st num: \"))\n",
    "    num2=float(input(\"enter 2nd num: \"))\n",
    "    \n",
    "    result=num1+num2\n",
    "    print(\"The sum is :\",result)\n",
    "    \n",
    "    result=num1-num2\n",
    "    print(\"The diff is :\",result)\n",
    "    \n",
    "    result=num1*num2\n",
    "    print(\"The product is:\",result)\n",
    "    \n",
    "    result=num1/num2\n",
    "    print(\"The division is :\",result)\n",
    "    \n",
    "    \n",
    "my_calculator()\n",
    "    "
   ]
  },
  {
   "cell_type": "code",
   "execution_count": 15,
   "id": "8c0b729a",
   "metadata": {},
   "outputs": [],
   "source": [
    "def my_calculator():\n",
    "    num1=float(input(\"enter 1st num: \"))\n",
    "    num2=float(input(\"enter 2nd num: \"))\n",
    "    \n",
    "    result=num1+num2\n",
    "    print(\"The sum is :\",result)\n",
    "    \n",
    "    result=num1-num2\n",
    "    print(\"The diff is :\",result)\n",
    "    \n",
    "    result=num1*num2\n",
    "    print(\"The product is:\",result)\n",
    "    \n",
    "    \n",
    "    if num2 != 0:\n",
    "        result=num1/num2\n",
    "        print(\"The quotient is :\",result)\n",
    "    else:\n",
    "        print(\"oops there is an error : zero division error\")"
   ]
  },
  {
   "cell_type": "code",
   "execution_count": 16,
   "id": "7ad97e68",
   "metadata": {
    "scrolled": true
   },
   "outputs": [
    {
     "name": "stdout",
     "output_type": "stream",
     "text": [
      "enter 1st num: 10\n",
      "enter 2nd num: 0\n",
      "The sum is : 10.0\n",
      "The diff is : 10.0\n",
      "The product is: 0.0\n",
      "oops there is an error : zero division error\n"
     ]
    }
   ],
   "source": [
    "my_calculator()"
   ]
  },
  {
   "cell_type": "code",
   "execution_count": 19,
   "id": "4dcdb58a",
   "metadata": {},
   "outputs": [],
   "source": [
    "def format_name():\n",
    "    first_name=input(\"Enter first name : \")\n",
    "    last_name=input(\"Enter last name : \")\n",
    "    \n",
    "    formated_first_name=first_name.capitalize()\n",
    "    formated_last_name=last_name.capitalize()\n",
    "    \n",
    "    print(\"The candidate name is :\",formated_first_name+formated_last_name)\n",
    "    "
   ]
  },
  {
   "cell_type": "code",
   "execution_count": 20,
   "id": "446a5aaf",
   "metadata": {},
   "outputs": [
    {
     "name": "stdout",
     "output_type": "stream",
     "text": [
      "Enter first name : debu\n",
      "Enter last name : nayak\n",
      "The candidate name is : DebuNayak\n"
     ]
    }
   ],
   "source": [
    "format_name()"
   ]
  },
  {
   "cell_type": "code",
   "execution_count": 30,
   "id": "833a5f05",
   "metadata": {},
   "outputs": [
    {
     "name": "stdout",
     "output_type": "stream",
     "text": [
      "[2, 4, 6, 8]\n"
     ]
    }
   ],
   "source": [
    "def find_even_num(my_list):\n",
    "    even_num=[]\n",
    "    \n",
    "    for num in my_list:\n",
    "        if num %2 == 0 :\n",
    "            even_num.append(num)\n",
    "    return even_num\n",
    "if __name__==\"__main__\":   \n",
    "    my_list=[1,2,3,4,5,6,7,8]\n",
    "    result=find_even_num(my_list)\n",
    "    print(result)"
   ]
  },
  {
   "cell_type": "code",
   "execution_count": 31,
   "id": "980967a6",
   "metadata": {},
   "outputs": [
    {
     "name": "stdout",
     "output_type": "stream",
     "text": [
      "12\n"
     ]
    }
   ],
   "source": [
    "add_numbers=lambda x,y,z: x+y+z\n",
    "print(add_numbers(2,4,6))"
   ]
  },
  {
   "cell_type": "code",
   "execution_count": 32,
   "id": "3f1c0383",
   "metadata": {},
   "outputs": [
    {
     "name": "stdout",
     "output_type": "stream",
     "text": [
      "100\n"
     ]
    }
   ],
   "source": [
    "square=lambda x:x**2\n",
    "\n",
    "result=square(10)\n",
    "print(result)"
   ]
  },
  {
   "cell_type": "code",
   "execution_count": 34,
   "id": "b946b4c2",
   "metadata": {},
   "outputs": [
    {
     "name": "stdout",
     "output_type": "stream",
     "text": [
      "Debasish  Nayak\n"
     ]
    }
   ],
   "source": [
    "concat=lambda x,y : x + y\n",
    "\n",
    "print(concat(\"Debasish \" , \" Nayak\"))"
   ]
  },
  {
   "cell_type": "code",
   "execution_count": 35,
   "id": "a7ba5d02",
   "metadata": {},
   "outputs": [
    {
     "name": "stdout",
     "output_type": "stream",
     "text": [
      "10\n"
     ]
    }
   ],
   "source": [
    "max_num=lambda x,y: x if x>y else y\n",
    "print(max_num(5,10))"
   ]
  },
  {
   "cell_type": "code",
   "execution_count": 36,
   "id": "0ff375e4",
   "metadata": {},
   "outputs": [
    {
     "name": "stdout",
     "output_type": "stream",
     "text": [
      "odd\n"
     ]
    }
   ],
   "source": [
    "even_odd=lambda x:\"even\" if x %2 ==0 else \"odd\"\n",
    "print(even_odd(7))"
   ]
  },
  {
   "cell_type": "code",
   "execution_count": 37,
   "id": "ec4eda1e",
   "metadata": {},
   "outputs": [],
   "source": [
    "add=lambda: int(input(\"Enter the 1st num:\")) +int(input(\"Enter the 2nd num:\"))\n"
   ]
  },
  {
   "cell_type": "code",
   "execution_count": 38,
   "id": "128e2355",
   "metadata": {},
   "outputs": [
    {
     "name": "stdout",
     "output_type": "stream",
     "text": [
      "Enter the 1st num:8\n",
      "Enter the 2nd num:4\n",
      "12\n"
     ]
    }
   ],
   "source": [
    "print(add())"
   ]
  },
  {
   "cell_type": "code",
   "execution_count": 41,
   "id": "0f3a553a",
   "metadata": {},
   "outputs": [
    {
     "name": "stdout",
     "output_type": "stream",
     "text": [
      "[1, 4, 9, 16, 25]\n"
     ]
    }
   ],
   "source": [
    "my_function=lambda x:[i **2 for i in x]\n",
    "print(my_function([1,2,3,4,5]))\n"
   ]
  },
  {
   "cell_type": "code",
   "execution_count": 51,
   "id": "43c4dbb7",
   "metadata": {},
   "outputs": [
    {
     "name": "stdout",
     "output_type": "stream",
     "text": [
      "{'name': 'product4', 'price': 20}\n",
      "{'name': 'product3', 'price': 30}\n",
      "{'name': 'product1', 'price': 40}\n",
      "{'name': 'product2', 'price': 50}\n"
     ]
    }
   ],
   "source": [
    "products=[\n",
    "    {'name': 'product1','price':40},\n",
    "    {'name': 'product2', 'price':50},\n",
    "    {'name':'product3', 'price':30},\n",
    "    {'name': 'product4','price':20},\n",
    "]\n",
    "\n",
    "sorted_products=sorted(products,key=lambda x:x['price'])\n",
    "for product in sorted_products:\n",
    "    print(product)"
   ]
  },
  {
   "cell_type": "code",
   "execution_count": 53,
   "id": "7dffa090",
   "metadata": {},
   "outputs": [
    {
     "data": {
      "text/plain": [
       "55"
      ]
     },
     "execution_count": 53,
     "metadata": {},
     "output_type": "execute_result"
    }
   ],
   "source": [
    "def recursive_sum(n):\n",
    "    if n==1:\n",
    "        return 1\n",
    "    else:\n",
    "        return n + recursive_sum(n-1)\n",
    "recursive_sum(10)"
   ]
  },
  {
   "cell_type": "code",
   "execution_count": null,
   "id": "73e0f553",
   "metadata": {},
   "outputs": [],
   "source": []
  }
 ],
 "metadata": {
  "kernelspec": {
   "display_name": "Python 3 (ipykernel)",
   "language": "python",
   "name": "python3"
  },
  "language_info": {
   "codemirror_mode": {
    "name": "ipython",
    "version": 3
   },
   "file_extension": ".py",
   "mimetype": "text/x-python",
   "name": "python",
   "nbconvert_exporter": "python",
   "pygments_lexer": "ipython3",
   "version": "3.10.9"
  }
 },
 "nbformat": 4,
 "nbformat_minor": 5
}
