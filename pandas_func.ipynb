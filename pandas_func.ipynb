{
 "cells": [
  {
   "cell_type": "markdown",
   "id": "da4ab32a",
   "metadata": {},
   "source": [
    "# PANDAS"
   ]
  },
  {
   "cell_type": "code",
   "execution_count": 2,
   "id": "853467e2",
   "metadata": {},
   "outputs": [],
   "source": [
    "from io import StringIO\n",
    "import pandas as pd\n",
    "import numpy as np"
   ]
  },
  {
   "cell_type": "code",
   "execution_count": 4,
   "id": "edf7c7c4",
   "metadata": {},
   "outputs": [
    {
     "name": "stdout",
     "output_type": "stream",
     "text": [
      "      column1  column2  column3  column4\n",
      "Row1        0        1        2        3\n",
      "Row2        4        5        6        7\n",
      "Row3        8        9       10       11\n",
      "Row4       12       13       14       15\n",
      "row5       16       17       18       19\n"
     ]
    }
   ],
   "source": [
    "df=pd.DataFrame(data=np.arange(0,20).reshape(5,4),index=[\"Row1\",\"Row2\",\"Row3\",\"Row4\",\"row5\"],columns=[\"column1\",\"column2\",\"column3\",\"column4\"])\n",
    "print(df)"
   ]
  },
  {
   "cell_type": "code",
   "execution_count": 3,
   "id": "a6b0f89f",
   "metadata": {},
   "outputs": [
    {
     "name": "stdout",
     "output_type": "stream",
     "text": [
      "orginal dataframe :\n",
      "   A   B   C\n",
      "0 -1   6 -11\n",
      "1  2  -7 -12\n",
      "2 -3   8  13\n",
      "3  4  -9  14\n",
      "4 -5  10 -15\n",
      "DataFrame with absolute values:\n",
      "   A   B   C\n",
      "0  1   6  11\n",
      "1  2   7  12\n",
      "2  3   8  13\n",
      "3  4   9  14\n",
      "4  5  10  15\n"
     ]
    }
   ],
   "source": [
    "#use of df.abs()\n",
    "data={\n",
    "    'A': [-1,2,-3,4,-5],\n",
    "    'B': [6,-7,8,-9,10],\n",
    "    'C': [-11,-12,13,14,-15]\n",
    "}\n",
    "\n",
    "df=pd.DataFrame(data)\n",
    "print(\"orginal dataframe :\")\n",
    "print(df)\n",
    "\n",
    "abs_df=df.abs()\n",
    "\n",
    "print('DataFrame with absolute values:')\n",
    "print(abs_df)"
   ]
  },
  {
   "cell_type": "code",
   "execution_count": 4,
   "id": "e5f60e3f",
   "metadata": {},
   "outputs": [
    {
     "name": "stdout",
     "output_type": "stream",
     "text": [
      "DataFrame 1 is :\n",
      "   A  B  C\n",
      "0  1  4  7\n",
      "1  2  5  8\n",
      "2  3  6  9\n",
      "DataFrame 2 is :\n",
      "   A  B  C\n",
      "0  3  2  7\n",
      "1  4  1  4\n",
      "2  5  6  9\n",
      "Addition of two dataframe :\n",
      "   A   B   C\n",
      "0  4   6  14\n",
      "1  6   6  12\n",
      "2  8  12  18\n"
     ]
    }
   ],
   "source": [
    "#use of df.add()\n",
    "data1={\n",
    "    'A': [1,2,3],\n",
    "    'B': [4,5,6],\n",
    "    'C': [7,8,9]\n",
    "}\n",
    "data2={\n",
    "    'A': [3,4,5],\n",
    "    'B': [2,1,6],\n",
    "    'C': [7,4,9]\n",
    "}\n",
    "df1=pd.DataFrame(data1)\n",
    "df2=pd.DataFrame(data2)\n",
    "print(\"DataFrame 1 is :\")\n",
    "print(df1)\n",
    "print(\"DataFrame 2 is :\")\n",
    "print(df2)\n",
    "\n",
    "df_add=df1.add(df2)\n",
    "print(\"Addition of two dataframe :\")\n",
    "print(df_add)"
   ]
  },
  {
   "cell_type": "code",
   "execution_count": 5,
   "id": "e4d40aad",
   "metadata": {},
   "outputs": [
    {
     "name": "stdout",
     "output_type": "stream",
     "text": [
      "addition of scalar with dataframe :\n",
      "   A   B   C\n",
      "0  6   9  12\n",
      "1  7  10  13\n",
      "2  8  11  14\n"
     ]
    }
   ],
   "source": [
    "#add of a scalar with DataFrame\n",
    "\n",
    "print(\"addition of scalar with dataframe :\")\n",
    "print(df1.add(5))"
   ]
  },
  {
   "cell_type": "code",
   "execution_count": 6,
   "id": "3838c095",
   "metadata": {},
   "outputs": [
    {
     "name": "stdout",
     "output_type": "stream",
     "text": [
      "Original DataFrame is :\n",
      "   A  B  C\n",
      "0  1  4  7\n",
      "1  2  5  8\n",
      "2  3  6  9\n",
      "After adding prefix the DataFrame is :\n",
      "   Column_A  Column_B  Column_C\n",
      "0         1         4         7\n",
      "1         2         5         8\n",
      "2         3         6         9\n"
     ]
    }
   ],
   "source": [
    "#Use of df.add_prefix()\n",
    "data={\n",
    "    'A': [1,2,3],\n",
    "    'B': [4,5,6],\n",
    "    'C': [7,8,9]\n",
    "}\n",
    "\n",
    "df=pd.DataFrame(data)\n",
    "print(\"Original DataFrame is :\")\n",
    "print(df)\n",
    "\n",
    "df_prefix=df.add_prefix(\"Column_\")\n",
    "print(\"After adding prefix the DataFrame is :\")\n",
    "print(df_prefix)"
   ]
  },
  {
   "cell_type": "code",
   "execution_count": 7,
   "id": "ede916d9",
   "metadata": {},
   "outputs": [
    {
     "name": "stdout",
     "output_type": "stream",
     "text": [
      "dataframe after adding suffix:\n",
      "   A_column  B_column  C_column\n",
      "0         1         4         7\n",
      "1         2         5         8\n",
      "2         3         6         9\n"
     ]
    }
   ],
   "source": [
    "#Using df.add_suffix\n",
    "df_suffix=df.add_suffix(\"_column\")\n",
    "print(\"dataframe after adding suffix:\")\n",
    "print(df_suffix)"
   ]
  },
  {
   "cell_type": "code",
   "execution_count": 8,
   "id": "1b336603",
   "metadata": {},
   "outputs": [
    {
     "name": "stdout",
     "output_type": "stream",
     "text": [
      "original dataframe is :\n",
      "   A   B   C\n",
      "0  1   6  11\n",
      "1  2   7  12\n",
      "2  3   8  13\n",
      "3  4   9  14\n",
      "4  5  10  15\n",
      "aggregated dataframe is :\n",
      "         A     B     C\n",
      "sum   15.0  40.0  65.0\n",
      "mean   3.0   8.0  13.0\n",
      "max    5.0  10.0  15.0\n",
      "min    1.0   6.0  11.0\n"
     ]
    }
   ],
   "source": [
    "#Using df.agg\n",
    "data={\n",
    "    'A': [1,2,3,4,5],\n",
    "    'B': [6,7,8,9,10],\n",
    "    'C': [11,12,13,14,15]\n",
    "}\n",
    "\n",
    "print(\"original dataframe is :\")\n",
    "df=pd.DataFrame(data)\n",
    "print(df)\n",
    "aggregated_df=df.agg(['sum','mean','max','min'])\n",
    "print(\"aggregated dataframe is :\")\n",
    "print(aggregated_df)"
   ]
  },
  {
   "cell_type": "code",
   "execution_count": 9,
   "id": "33f88a3d",
   "metadata": {},
   "outputs": [
    {
     "name": "stdout",
     "output_type": "stream",
     "text": [
      "original DataFrame1 is :\n",
      "   A  B\n",
      "0  1  4\n",
      "1  2  5\n",
      "2  3  6\n",
      "Original DataFrame 2 is :\n",
      "   B   C\n",
      "0  7  10\n",
      "1  8  11\n",
      "2  9  12\n",
      "Aligned DataFrame 1 ;\n",
      "   A  B   C\n",
      "0  1  4 NaN\n",
      "1  2  5 NaN\n",
      "2  3  6 NaN\n",
      "Aligned dataFrame 2 is :\n",
      "    A  B   C\n",
      "0 NaN  7  10\n",
      "1 NaN  8  11\n",
      "2 NaN  9  12\n"
     ]
    }
   ],
   "source": [
    "#using df.align\n",
    "data1={'A':[1,2,3],\n",
    "       'B':[4,5,6]\n",
    "      }\n",
    "data2={'B':[7,8,9],\n",
    "       'C':[10,11,12]\n",
    "      }\n",
    "df1=pd.DataFrame(data1)\n",
    "df2=pd.DataFrame(data2)\n",
    "print(\"original DataFrame1 is :\")\n",
    "print(df1)\n",
    "print(\"Original DataFrame 2 is :\")\n",
    "print(df2)\n",
    "aligned_df1,aligned_df2=df1.align(df2)\n",
    "print(\"Aligned DataFrame 1 ;\")\n",
    "print(aligned_df1)\n",
    "print(\"Aligned dataFrame 2 is :\")\n",
    "print(aligned_df2)"
   ]
  },
  {
   "cell_type": "code",
   "execution_count": 10,
   "id": "e2556811",
   "metadata": {},
   "outputs": [
    {
     "name": "stdout",
     "output_type": "stream",
     "text": [
      "DataFrame 1:\n",
      "   A  B\n",
      "0  1  4\n",
      "1  2  5\n",
      "2  3  6\n",
      "\n",
      "DataFrame 2:\n",
      "   B   C\n",
      "0  7  10\n",
      "1  8  11\n",
      "2  9  12\n",
      "\n",
      "Aligned DataFrame 1:\n",
      "   A  B   C\n",
      "0  1  4 NaN\n",
      "1  2  5 NaN\n",
      "2  3  6 NaN\n",
      "\n",
      "Aligned DataFrame 2:\n",
      "    A  B   C\n",
      "0 NaN  7  10\n",
      "1 NaN  8  11\n",
      "2 NaN  9  12\n"
     ]
    }
   ],
   "source": [
    "import pandas as pd\n",
    "\n",
    "# Create two sample DataFrames with different column names and indices\n",
    "data1 = {\n",
    "    'A': [1, 2, 3],\n",
    "    'B': [4, 5, 6]\n",
    "}\n",
    "df1 = pd.DataFrame(data1)\n",
    "\n",
    "data2 = {\n",
    "    'B': [7, 8, 9],\n",
    "    'C': [10, 11, 12]\n",
    "}\n",
    "df2 = pd.DataFrame(data2)\n",
    "\n",
    "# Display the original DataFrames\n",
    "print(\"DataFrame 1:\")\n",
    "print(df1)\n",
    "print(\"\\nDataFrame 2:\")\n",
    "print(df2)\n",
    "\n",
    "# Align the DataFrames along both row and column indices using df.align()\n",
    "aligned_df1, aligned_df2 = df1.align(df2)\n",
    "\n",
    "# Display the aligned DataFrames\n",
    "print(\"\\nAligned DataFrame 1:\")\n",
    "print(aligned_df1)\n",
    "print(\"\\nAligned DataFrame 2:\")\n",
    "print(aligned_df2)\n"
   ]
  },
  {
   "cell_type": "code",
   "execution_count": 11,
   "id": "33d60396",
   "metadata": {},
   "outputs": [
    {
     "name": "stdout",
     "output_type": "stream",
     "text": [
      "original DataFrame :\n",
      "   A  B  C\n",
      "0  0  0  1\n",
      "1  2  3  1\n",
      "2  3  4  1\n",
      "\n",
      "Check if all elements of column non_zero:\n",
      "A    False\n",
      "B    False\n",
      "C     True\n",
      "dtype: bool\n",
      "\n",
      "check if all elementes in rows non_zero :\n",
      "0    False\n",
      "1     True\n",
      "2     True\n",
      "dtype: bool\n"
     ]
    }
   ],
   "source": [
    "#Using df.all()\n",
    "data={'A' :[0,2,3,],\n",
    "     'B': [0,3,4],\n",
    "     'C': [1,1,1]\n",
    "     }\n",
    "df=pd.DataFrame(data)\n",
    "print(\"original DataFrame :\")\n",
    "print(df)\n",
    "all_columns=df.all()\n",
    "print(\"\\nCheck if all elements of column non_zero:\")\n",
    "print(all_columns)\n",
    "all_rows=df.all(axis=1)\n",
    "print(\"\\ncheck if all elementes in rows non_zero :\")\n",
    "print(all_rows)\n"
   ]
  },
  {
   "cell_type": "code",
   "execution_count": 12,
   "id": "b815fa85",
   "metadata": {},
   "outputs": [
    {
     "name": "stdout",
     "output_type": "stream",
     "text": [
      "original DataFrame :\n",
      "   A  B  C\n",
      "0  0  0  0\n",
      "1  2  3  1\n",
      "2  3  4  1\n",
      "check if any element of column is non_zero :\n",
      "A    True\n",
      "B    True\n",
      "C    True\n",
      "dtype: bool\n",
      "check if any element of row is non_zero:\n",
      "0    False\n",
      "1     True\n",
      "2     True\n",
      "dtype: bool\n"
     ]
    }
   ],
   "source": [
    "# USing df.any\n",
    "data={'A' :[0,2,3,],\n",
    "     'B': [0,3,4],\n",
    "     'C': [0,1,1]\n",
    "     }\n",
    "df=pd.DataFrame(data)\n",
    "print(\"original DataFrame :\")\n",
    "print(df)\n",
    "any_column=df.any()\n",
    "print(\"check if any element of column is non_zero :\")\n",
    "print(any_column)\n",
    "any_row=df.any(axis=1)\n",
    "print(\"check if any element of row is non_zero:\")\n",
    "print(any_row)"
   ]
  },
  {
   "cell_type": "code",
   "execution_count": 13,
   "id": "7e06aa82",
   "metadata": {},
   "outputs": [
    {
     "name": "stdout",
     "output_type": "stream",
     "text": [
      "original dataframe 1:\n",
      "   A  B\n",
      "0  1  4\n",
      "1  2  5\n",
      "2  3  6\n",
      "Original DataFrame 2:\n",
      "   A   B\n",
      "0  7  10\n",
      "1  8  11\n",
      "2  9  12\n",
      "DataFrame after append :\n",
      "   A   B\n",
      "0  1   4\n",
      "1  2   5\n",
      "2  3   6\n",
      "0  7  10\n",
      "1  8  11\n",
      "2  9  12\n"
     ]
    },
    {
     "name": "stderr",
     "output_type": "stream",
     "text": [
      "C:\\Users\\madhu\\AppData\\Local\\Temp\\ipykernel_18504\\4174461875.py:16: FutureWarning: The frame.append method is deprecated and will be removed from pandas in a future version. Use pandas.concat instead.\n",
      "  append_func=df1.append(df2)\n"
     ]
    }
   ],
   "source": [
    "#Using df.append\n",
    "data1 = {\n",
    "    'A': [1, 2, 3],\n",
    "    'B': [4, 5, 6]\n",
    "}\n",
    "data2 = {\n",
    "    'A': [7, 8, 9],\n",
    "    'B': [10, 11, 12]\n",
    "}\n",
    "df1=pd.DataFrame(data1)\n",
    "print(\"original dataframe 1:\")\n",
    "print(df1)\n",
    "df2=pd.DataFrame(data2)\n",
    "print(\"Original DataFrame 2:\")\n",
    "print(df2)\n",
    "append_func=df1.append(df2)\n",
    "print(\"DataFrame after append :\")\n",
    "print(append_func)\n"
   ]
  },
  {
   "cell_type": "code",
   "execution_count": 14,
   "id": "6ff5ba5e",
   "metadata": {},
   "outputs": [
    {
     "name": "stdout",
     "output_type": "stream",
     "text": [
      "Original DataFrame :\n",
      "   A  B  C\n",
      "0  1  4  7\n",
      "1  2  5  8\n",
      "2  3  6  9\n",
      "After apply result columnwise :\n",
      "0    2\n",
      "1    4\n",
      "2    6\n",
      "Name: A, dtype: int64\n",
      "After apply result rowwise :\n",
      "0    16\n",
      "1    25\n",
      "2    36\n",
      "Name: B, dtype: int64\n"
     ]
    }
   ],
   "source": [
    "#df.apply\n",
    "data = {\n",
    "    'A': [1, 2, 3],\n",
    "    'B': [4, 5, 6],\n",
    "    'C': [7, 8, 9]\n",
    "    \n",
    "    }\n",
    "\n",
    "df=pd.DataFrame(data)\n",
    "print(\"Original DataFrame :\")\n",
    "print(df)\n",
    "def double_value(x):\n",
    "        return x*2\n",
    "    \n",
    "result_columnwise=df['A'].apply(double_value)\n",
    "print(\"After apply result columnwise :\")\n",
    "print(result_columnwise)\n",
    "\n",
    "result_rowwise=df['B'].apply(lambda x:x**2)\n",
    "print(\"After apply result rowwise :\")\n",
    "print(result_rowwise)"
   ]
  },
  {
   "cell_type": "code",
   "execution_count": 18,
   "id": "f9a57a48",
   "metadata": {},
   "outputs": [
    {
     "name": "stdout",
     "output_type": "stream",
     "text": [
      "original DataFrame :\n",
      "   A  B  C\n",
      "0  1  4  7\n",
      "1  2  5  8\n",
      "2  3  6  9\n",
      "After square  all elemenets :\n",
      "   A   B   C\n",
      "0  1  16  49\n",
      "1  4  25  64\n",
      "2  9  36  81\n"
     ]
    }
   ],
   "source": [
    "#df.applymap\n",
    "data= {\n",
    "    'A': [1, 2, 3],\n",
    "    'B': [4, 5, 6],\n",
    "    'C': [7, 8, 9]\n",
    "    \n",
    "    }\n",
    "df=pd.DataFrame(data)\n",
    "print(\"original DataFrame :\")\n",
    "print(df)\n",
    "def square(x):\n",
    "    return x**2\n",
    "all_square=df.applymap(square)\n",
    "\n",
    "print(\"After square  all elemenets :\")\n",
    "print(all_square)"
   ]
  },
  {
   "cell_type": "code",
   "execution_count": 19,
   "id": "b68a6802",
   "metadata": {},
   "outputs": [
    {
     "name": "stdout",
     "output_type": "stream",
     "text": [
      "Original dataframe :\n",
      "   A  B\n",
      "0  1  4\n",
      "1  2  5\n",
      "2  3  6\n",
      "New asigned DataFrame is :\n",
      "   A  B  C\n",
      "0  1  4  5\n",
      "1  2  5  7\n",
      "2  3  6  9\n"
     ]
    }
   ],
   "source": [
    "#Using df.assign\n",
    "data= {\n",
    "    'A': [1, 2, 3],\n",
    "    'B': [4, 5, 6],\n",
    "    \n",
    "    }\n",
    "df=pd.DataFrame(data)\n",
    "print(\"Original dataframe :\")\n",
    "print(df)\n",
    "\n",
    "df_new=df.assign(C=df['A']+df['B'])\n",
    "print(\"New asigned DataFrame is :\")\n",
    "print(df_new)"
   ]
  },
  {
   "cell_type": "code",
   "execution_count": 21,
   "id": "be1fde64",
   "metadata": {},
   "outputs": [
    {
     "name": "stdout",
     "output_type": "stream",
     "text": [
      "A      int64\n",
      "B    float64\n",
      "C      int64\n",
      "dtype: object\n",
      "New datatype :\n",
      "A    float64\n",
      "B      int32\n",
      "C      int64\n",
      "dtype: object\n"
     ]
    }
   ],
   "source": [
    "#Using df.astype\n",
    "\n",
    "data= {\n",
    "    'A': [1, 2, 3],\n",
    "    'B': [4.0, 5.0, 6.0],\n",
    "    'C': [7, 8, 9]\n",
    "    \n",
    "    }\n",
    "df=pd.DataFrame(data)\n",
    "print(df.dtypes)\n",
    "df_new=df.astype({'A':float ,'B':int})\n",
    "print(\"New datatype :\")\n",
    "print(df_new.dtypes)"
   ]
  },
  {
   "cell_type": "code",
   "execution_count": 22,
   "id": "62a6d346",
   "metadata": {},
   "outputs": [
    {
     "name": "stdout",
     "output_type": "stream",
     "text": [
      "Age of Bob is : 30\n",
      "      Name  Age           City\n",
      "0    Alice   25        NewYork\n",
      "1      Bob   30  San Francisco\n",
      "2  Charlie   22        Chicago\n"
     ]
    }
   ],
   "source": [
    "#Using df.at\n",
    "data={\n",
    "    'Name':['Alice','Bob','Charlie'],\n",
    "    'Age':[25,30,22],\n",
    "    'City':['NewYork','San Francisco','Los Angeles']\n",
    "}\n",
    "\n",
    "df=pd.DataFrame(data)\n",
    "Age_of_Bob=df.at[1,'Age']\n",
    "print(\"Age of Bob is :\",Age_of_Bob)\n",
    "df.at[2,'City']='Chicago'\n",
    "print(df)"
   ]
  },
  {
   "cell_type": "code",
   "execution_count": 24,
   "id": "85d30890",
   "metadata": {},
   "outputs": [
    {
     "name": "stdout",
     "output_type": "stream",
     "text": [
      "Row label index : RangeIndex(start=0, stop=3, step=1)\n",
      "Columns labels Index(['Name', 'Age', 'City'], dtype='object')\n"
     ]
    }
   ],
   "source": [
    "#using df.axes\n",
    "data={\n",
    "    'Name':['Alice','Bob','Charlie'],\n",
    "    'Age':[25,30,22],\n",
    "    'City':['NewYork','San Francisco','Los Angeles']\n",
    "}\n",
    "\n",
    "df=pd.DataFrame(data)\n",
    "\n",
    "axes_labels=df.axes\n",
    "print(\"Row label index :\",axes_labels[0])\n",
    "print(\"Columns labels\",axes_labels[1])"
   ]
  },
  {
   "cell_type": "code",
   "execution_count": 26,
   "id": "da877621",
   "metadata": {},
   "outputs": [
    {
     "name": "stdout",
     "output_type": "stream",
     "text": [
      "Ozriginal DataFrame :\n",
      "     A    B\n",
      "0  1.0  4.0\n",
      "1  NaN  NaN\n",
      "2  3.0  6.0\n",
      "aftr bfilled DataFRame :\n",
      "     A    B\n",
      "0  1.0  4.0\n",
      "1  3.0  6.0\n",
      "2  3.0  6.0\n"
     ]
    }
   ],
   "source": [
    "#Using df.backfill\\bfill\n",
    "data= {\n",
    "    'A': [1, np.nan, 3],\n",
    "    'B': [4, np.nan, 6],\n",
    "    \n",
    "    }\n",
    "df=pd.DataFrame(data)\n",
    "\n",
    "print(\"Ozriginal DataFrame :\")\n",
    "print(df)\n",
    "df_bfilled=df.bfill()\n",
    "print(\"aftr bfilled DataFRame :\")\n",
    "print(df_bfilled)"
   ]
  },
  {
   "cell_type": "code",
   "execution_count": 31,
   "id": "3a5c8051",
   "metadata": {},
   "outputs": [
    {
     "data": {
      "image/png": "[encoded data removed]",
      "text/plain": [
       "<Figure size 640x480 with 1 Axes>"
      ]
     },
     "metadata": {},
     "output_type": "display_data"
    }
   ],
   "source": [
    "#Using df.boxplot\n",
    "import matplotlib.pyplot as plt\n",
    "data = {\n",
    "    'Group': ['A', 'A', 'B', 'B', 'B', 'C', 'C', 'C'],\n",
    "    'Values': [5, 10, 15, 20, 25, 30, 35, 40]\n",
    "}\n",
    "df=pd.DataFrame(data)\n",
    "\n",
    "df.boxplot(column='Values',by='Group')\n",
    "\n",
    "plt.title('Boxplot of values by Group :')\n",
    "plt.ylabel('Values')\n",
    "plt.xlabel('Group')\n",
    "plt.show()"
   ]
  },
  {
   "cell_type": "code",
   "execution_count": 32,
   "id": "5450a6e8",
   "metadata": {},
   "outputs": [
    {
     "name": "stdout",
     "output_type": "stream",
     "text": [
      "original DataFrame is :\n",
      "    A   B\n",
      "0  10   2\n",
      "1   5   7\n",
      "2  20  18\n",
      "3  15  30\n",
      "4  25   5\n",
      "After cllipped Dataframe :\n",
      "    A   B\n",
      "0  10  10\n",
      "1  10  10\n",
      "2  20  18\n",
      "3  15  20\n",
      "4  20  10\n"
     ]
    }
   ],
   "source": [
    "#using df.clip\n",
    "data = {\n",
    "    'A': [10, 5, 20, 15, 25],\n",
    "    'B': [2, 7, 18, 30, 5],\n",
    "}\n",
    "\n",
    "df =pd.DataFrame(data)\n",
    "df_clipped=df.clip(lower=10,upper=20)\n",
    "print(\"original DataFrame is :\")\n",
    "print(df)\n",
    "print(\"After cllipped Dataframe :\")\n",
    "print(df_clipped)\n"
   ]
  },
  {
   "cell_type": "code",
   "execution_count": 33,
   "id": "0816d524",
   "metadata": {},
   "outputs": [
    {
     "name": "stdout",
     "output_type": "stream",
     "text": [
      "The columns are :\n",
      "Index(['Name', 'Age', 'City'], dtype='object')\n"
     ]
    }
   ],
   "source": [
    "#Using df.columns\n",
    "data={\n",
    "    'Name':['Alice','Bob','Charlie'],\n",
    "    'Age':[25,30,22],\n",
    "    'City':['NewYork','San Francisco','Los Angeles']\n",
    "}\n",
    "df=pd.DataFrame(data)\n",
    "df_column=df.columns\n",
    "print(\"The columns are :\")\n",
    "print(df_column)"
   ]
  },
  {
   "cell_type": "code",
   "execution_count": 34,
   "id": "e747e0ad",
   "metadata": {},
   "outputs": [
    {
     "name": "stdout",
     "output_type": "stream",
     "text": [
      "DataFrame 1 :\n",
      "   A  B\n",
      "0  1  4\n",
      "1  2  5\n",
      "2  3  6\n",
      "DataFrame 2:\n",
      "    A   B\n",
      "0  10  40\n",
      "1  20  50\n",
      "2  30  60\n",
      "Combined df is :\n",
      "    A   B\n",
      "0  11  44\n",
      "1  22  55\n",
      "2  33  66\n"
     ]
    }
   ],
   "source": [
    "#Using df.combine\n",
    "data1 = {\n",
    "    'A': [1, 2, 3],\n",
    "    'B': [4, 5, 6],\n",
    "}\n",
    "data2 = {\n",
    "    'A': [10, 20, 30],\n",
    "    'B': [40, 50, 60],\n",
    "}\n",
    "\n",
    "df1=pd.DataFrame(data1)\n",
    "df2=pd.DataFrame(data2)\n",
    "\n",
    "def custom_combine(a,b):\n",
    "    return a+b\n",
    "\n",
    "combined_df=pd.DataFrame.combine(df1,df2,custom_combine)\n",
    "print(\"DataFrame 1 :\")\n",
    "print(df1)\n",
    "print(\"DataFrame 2:\")\n",
    "print(df2)\n",
    "print(\"Combined df is :\")\n",
    "print(combined_df)"
   ]
  },
  {
   "cell_type": "code",
   "execution_count": 38,
   "id": "8cbdd714",
   "metadata": {},
   "outputs": [
    {
     "name": "stdout",
     "output_type": "stream",
     "text": [
      "compared DataFrame :\n",
      "     A          B      \n",
      "  self other self other\n",
      "0  NaN   NaN  4.0   7.0\n",
      "2  3.0   4.0  NaN   NaN\n"
     ]
    }
   ],
   "source": [
    "#Using df.compare\n",
    "data1 = {\n",
    "    'A': [1, 2, 3],\n",
    "    'B': [4, 5, 6],\n",
    "}\n",
    "data2 = {\n",
    "    'A': [1, 2, 4],\n",
    "    'B': [7, 5, 6],\n",
    "}\n",
    "df1=pd.DataFrame(data1)\n",
    "df2=pd.DataFrame(data2)\n",
    "\n",
    "compared_df=df1.compare(df2)\n",
    "print(\"compared DataFrame :\")\n",
    "print(compared_df)"
   ]
  },
  {
   "cell_type": "code",
   "execution_count": null,
   "id": "7ca9bfd6",
   "metadata": {},
   "outputs": [],
   "source": []
  }
 ],
 "metadata": {
  "kernelspec": {
   "display_name": "Python 3 (ipykernel)",
   "language": "python",
   "name": "python3"
  },
  "language_info": {
   "codemirror_mode": {
    "name": "ipython",
    "version": 3
   },
   "file_extension": ".py",
   "mimetype": "text/x-python",
   "name": "python",
   "nbconvert_exporter": "python",
   "pygments_lexer": "ipython3",
   "version": "3.10.9"
  }
 },
 "nbformat": 4,
 "nbformat_minor": 5
}
