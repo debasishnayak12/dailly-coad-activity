{
 "cells": [
  {
   "cell_type": "code",
   "execution_count": 3,
   "id": "03561ef1",
   "metadata": {},
   "outputs": [],
   "source": [
    "class Person:\n",
    "    def __init__(self,name):\n",
    "        self.name=name\n",
    "        \n",
    "    def display_info(self):\n",
    "        print(f\"name is : {self.name}\")\n",
    "        "
   ]
  },
  {
   "cell_type": "code",
   "execution_count": 4,
   "id": "002e726c",
   "metadata": {},
   "outputs": [],
   "source": [
    "class Student(Person):\n",
    "    def __init__(self,name,grade):\n",
    "        super().__init__(name)\n",
    "        self.grade=grade\n",
    "        \n",
    "    def display_info(self):\n",
    "        super().display_info()\n",
    "        print(f\"Grade is : {self.grade}\")"
   ]
  },
  {
   "cell_type": "code",
   "execution_count": 5,
   "id": "823a5e65",
   "metadata": {},
   "outputs": [],
   "source": [
    "student1=Student(\"Debu\",\"A+\")"
   ]
  },
  {
   "cell_type": "code",
   "execution_count": 6,
   "id": "06d886ce",
   "metadata": {},
   "outputs": [
    {
     "name": "stdout",
     "output_type": "stream",
     "text": [
      "name is : Debu\n",
      "Grade is : A+\n"
     ]
    }
   ],
   "source": [
    "student1.display_info()"
   ]
  },
  {
   "cell_type": "code",
   "execution_count": 7,
   "id": "aa40679f",
   "metadata": {},
   "outputs": [],
   "source": [
    "class Teacher(Person):\n",
    "    def __init__(self,name,subject):\n",
    "        super().__init__(name)\n",
    "        self.subject=subject\n",
    "        \n",
    "    def display_info(self):\n",
    "        super().display_info()\n",
    "        print(f\"Subject is : {self.subject}\")"
   ]
  },
  {
   "cell_type": "code",
   "execution_count": 10,
   "id": "a569cbfe",
   "metadata": {},
   "outputs": [],
   "source": [
    "teacher=Teacher(\"Akash\",\"Math\")"
   ]
  },
  {
   "cell_type": "code",
   "execution_count": 11,
   "id": "54a252ea",
   "metadata": {},
   "outputs": [
    {
     "name": "stdout",
     "output_type": "stream",
     "text": [
      "name is : Akash\n",
      "Subject is : Math\n"
     ]
    }
   ],
   "source": [
    "teacher.display_info()"
   ]
  },
  {
   "cell_type": "code",
   "execution_count": 17,
   "id": "87a31cb2",
   "metadata": {},
   "outputs": [],
   "source": [
    "class Vehicle:\n",
    "    def __init__(self,model,brand):\n",
    "        self.model=model\n",
    "        self.brand=brand\n",
    "        \n",
    "    def start(self):\n",
    "        print(f\"The {self.brand} {self.model} is start to run\")"
   ]
  },
  {
   "cell_type": "code",
   "execution_count": 18,
   "id": "4e837c4f",
   "metadata": {},
   "outputs": [],
   "source": [
    "class Bicycle(Vehicle):\n",
    "    def __init__(self,model,brand):\n",
    "        super().__init__(model,brand)\n",
    "        \n",
    "    def start(self):\n",
    "        super().start()\n",
    "        "
   ]
  },
  {
   "cell_type": "code",
   "execution_count": 19,
   "id": "744ea57e",
   "metadata": {},
   "outputs": [],
   "source": [
    "bicycle1=Bicycle(\"V1\",\"Hero\")"
   ]
  },
  {
   "cell_type": "code",
   "execution_count": 20,
   "id": "186e988d",
   "metadata": {},
   "outputs": [
    {
     "name": "stdout",
     "output_type": "stream",
     "text": [
      "The Hero V1 is start to run\n"
     ]
    }
   ],
   "source": [
    "bicycle1.start()"
   ]
  },
  {
   "cell_type": "code",
   "execution_count": 21,
   "id": "6f0aae54",
   "metadata": {},
   "outputs": [],
   "source": [
    "class Car(Vehicle):\n",
    "    def __init__(self,model,brand):\n",
    "        super().__init__(model,brand)\n",
    "        \n",
    "    def start(self):\n",
    "        super().start()"
   ]
  },
  {
   "cell_type": "code",
   "execution_count": 22,
   "id": "5e6b2aa1",
   "metadata": {},
   "outputs": [],
   "source": [
    "car1=Car(\"Q3\",\"Audi\")"
   ]
  },
  {
   "cell_type": "code",
   "execution_count": 23,
   "id": "df95e1e5",
   "metadata": {},
   "outputs": [
    {
     "name": "stdout",
     "output_type": "stream",
     "text": [
      "The Audi Q3 is start to run\n"
     ]
    }
   ],
   "source": [
    "car1.start()"
   ]
  },
  {
   "cell_type": "code",
   "execution_count": 24,
   "id": "1d62c1b2",
   "metadata": {},
   "outputs": [],
   "source": [
    "# parent class \n",
    "class Student:\n",
    "    #protected attributes using single underscore\n",
    "    #if we want to create private attribute then instead of sinngle we \n",
    "    #should use double under score\n",
    "    def __init__(self,name,roll):\n",
    "        self._name=name\n",
    "        self._roll=roll\n",
    "\n",
    "    def _display(self):\n",
    "        print(f\"Name is {self._name} and roll number is {self._roll}\")"
   ]
  },
  {
   "cell_type": "code",
   "execution_count": 25,
   "id": "3c97a4c2",
   "metadata": {},
   "outputs": [],
   "source": [
    "student=Student('Debu',123)"
   ]
  },
  {
   "cell_type": "code",
   "execution_count": 26,
   "id": "4a73598a",
   "metadata": {},
   "outputs": [
    {
     "name": "stdout",
     "output_type": "stream",
     "text": [
      "Name is Debu and roll number is 123\n"
     ]
    }
   ],
   "source": [
    "student._display()"
   ]
  },
  {
   "cell_type": "code",
   "execution_count": 27,
   "id": "f2c13703",
   "metadata": {},
   "outputs": [
    {
     "data": {
      "text/plain": [
       "['__class__',\n",
       " '__delattr__',\n",
       " '__dict__',\n",
       " '__dir__',\n",
       " '__doc__',\n",
       " '__eq__',\n",
       " '__format__',\n",
       " '__ge__',\n",
       " '__getattribute__',\n",
       " '__gt__',\n",
       " '__hash__',\n",
       " '__init__',\n",
       " '__init_subclass__',\n",
       " '__le__',\n",
       " '__lt__',\n",
       " '__module__',\n",
       " '__ne__',\n",
       " '__new__',\n",
       " '__reduce__',\n",
       " '__reduce_ex__',\n",
       " '__repr__',\n",
       " '__setattr__',\n",
       " '__sizeof__',\n",
       " '__str__',\n",
       " '__subclasshook__',\n",
       " '__weakref__',\n",
       " '_display',\n",
       " '_name',\n",
       " '_roll']"
      ]
     },
     "execution_count": 27,
     "metadata": {},
     "output_type": "execute_result"
    }
   ],
   "source": [
    "dir(student)"
   ]
  },
  {
   "cell_type": "code",
   "execution_count": 28,
   "id": "2323eabc",
   "metadata": {},
   "outputs": [],
   "source": [
    "#child class genius \n",
    "class Genius(Student):\n",
    "    def __init__(self,name,roll):\n",
    "        super().__init__(name,roll)\n",
    "        \n",
    "    def displaydetails(self):\n",
    "        print(f\"Name is : {self._name}\")\n",
    "        self._display()\n",
    "        "
   ]
  },
  {
   "cell_type": "code",
   "execution_count": 29,
   "id": "3d27832a",
   "metadata": {},
   "outputs": [],
   "source": [
    "g_stud=Genius(\"Debu\",123)"
   ]
  },
  {
   "cell_type": "code",
   "execution_count": 30,
   "id": "ae57589f",
   "metadata": {},
   "outputs": [
    {
     "name": "stdout",
     "output_type": "stream",
     "text": [
      "Name is : Debu\n",
      "Name is Debu and roll number is 123\n"
     ]
    }
   ],
   "source": [
    "g_stud.displaydetails()"
   ]
  },
  {
   "cell_type": "code",
   "execution_count": 31,
   "id": "de594265",
   "metadata": {},
   "outputs": [
    {
     "name": "stdout",
     "output_type": "stream",
     "text": [
      "Name is Debu and roll number is 123\n"
     ]
    }
   ],
   "source": [
    "g_stud._display()"
   ]
  },
  {
   "cell_type": "code",
   "execution_count": 32,
   "id": "c63d5ee2",
   "metadata": {},
   "outputs": [
    {
     "data": {
      "text/plain": [
       "['__class__',\n",
       " '__delattr__',\n",
       " '__dict__',\n",
       " '__dir__',\n",
       " '__doc__',\n",
       " '__eq__',\n",
       " '__format__',\n",
       " '__ge__',\n",
       " '__getattribute__',\n",
       " '__gt__',\n",
       " '__hash__',\n",
       " '__init__',\n",
       " '__init_subclass__',\n",
       " '__le__',\n",
       " '__lt__',\n",
       " '__module__',\n",
       " '__ne__',\n",
       " '__new__',\n",
       " '__reduce__',\n",
       " '__reduce_ex__',\n",
       " '__repr__',\n",
       " '__setattr__',\n",
       " '__sizeof__',\n",
       " '__str__',\n",
       " '__subclasshook__',\n",
       " '__weakref__',\n",
       " '_display',\n",
       " '_name',\n",
       " '_roll',\n",
       " 'displaydetails']"
      ]
     },
     "execution_count": 32,
     "metadata": {},
     "output_type": "execute_result"
    }
   ],
   "source": [
    "dir(g_stud)"
   ]
  },
  {
   "cell_type": "code",
   "execution_count": 45,
   "id": "1d3c6af3",
   "metadata": {},
   "outputs": [],
   "source": [
    "# polymorphism\n",
    "## multiple forms\n",
    "\n",
    "class Animal:\n",
    "    def __init__(self,name):\n",
    "        self.name=name\n",
    "        \n",
    "    def make_sound(self):\n",
    "        return \"Generic sound\"\n",
    "        \n",
    "class Dog(Animal):\n",
    "    def make_sound(self):\n",
    "        return \"woof!\"\n",
    "\n",
    "class Cat(Animal):\n",
    "    def make_sound(self):\n",
    "        return \"Meaow!\"\n"
   ]
  },
  {
   "cell_type": "code",
   "execution_count": 46,
   "id": "93819b35",
   "metadata": {},
   "outputs": [],
   "source": [
    "cat=Cat(\"Tom\")"
   ]
  },
  {
   "cell_type": "code",
   "execution_count": 47,
   "id": "9a180d7c",
   "metadata": {},
   "outputs": [
    {
     "data": {
      "text/plain": [
       "'Meaow!'"
      ]
     },
     "execution_count": 47,
     "metadata": {},
     "output_type": "execute_result"
    }
   ],
   "source": [
    "cat.make_sound()"
   ]
  },
  {
   "cell_type": "code",
   "execution_count": 49,
   "id": "d40d9c44",
   "metadata": {},
   "outputs": [
    {
     "name": "stdout",
     "output_type": "stream",
     "text": [
      "Meaow!\n"
     ]
    }
   ],
   "source": [
    "print(cat.make_sound())"
   ]
  },
  {
   "cell_type": "code",
   "execution_count": 58,
   "id": "d477ee7b",
   "metadata": {},
   "outputs": [
    {
     "name": "stdout",
     "output_type": "stream",
     "text": [
      "True\n"
     ]
    }
   ],
   "source": [
    "my_list=[1,2,3,4]\n",
    "\n",
    "for i in my_list:\n",
    "\n",
    "    if i==2:\n",
    "        print(True)\n",
    "    "
   ]
  },
  {
   "cell_type": "code",
   "execution_count": 69,
   "id": "219c3ad6",
   "metadata": {},
   "outputs": [
    {
     "data": {
      "text/plain": [
       "[4, 3, 2, 1]"
      ]
     },
     "execution_count": 69,
     "metadata": {},
     "output_type": "execute_result"
    }
   ],
   "source": [
    "my_list[::-1]"
   ]
  },
  {
   "cell_type": "code",
   "execution_count": 72,
   "id": "45978542",
   "metadata": {},
   "outputs": [
    {
     "name": "stdout",
     "output_type": "stream",
     "text": [
      "[3, 6, 9]\n"
     ]
    }
   ],
   "source": [
    "list=[1,2,3,4,5,6,7,8,9]\n",
    "\n",
    "print(list[2::3])"
   ]
  },
  {
   "cell_type": "code",
   "execution_count": 75,
   "id": "28014282",
   "metadata": {},
   "outputs": [
    {
     "data": {
      "text/plain": [
       "2"
      ]
     },
     "execution_count": 75,
     "metadata": {},
     "output_type": "execute_result"
    }
   ],
   "source": [
    "string=\"Hello\"\n",
    "string.index(\"l\")"
   ]
  },
  {
   "cell_type": "code",
   "execution_count": 76,
   "id": "102490fa",
   "metadata": {},
   "outputs": [
    {
     "data": {
      "text/plain": [
       "0"
      ]
     },
     "execution_count": 76,
     "metadata": {},
     "output_type": "execute_result"
    }
   ],
   "source": [
    "string.index(\"H\")"
   ]
  },
  {
   "cell_type": "code",
   "execution_count": null,
   "id": "67cac7de",
   "metadata": {},
   "outputs": [],
   "source": []
  }
 ],
 "metadata": {
  "kernelspec": {
   "display_name": "Python 3 (ipykernel)",
   "language": "python",
   "name": "python3"
  },
  "language_info": {
   "codemirror_mode": {
    "name": "ipython",
    "version": 3
   },
   "file_extension": ".py",
   "mimetype": "text/x-python",
   "name": "python",
   "nbconvert_exporter": "python",
   "pygments_lexer": "ipython3",
   "version": "3.10.9"
  }
 },
 "nbformat": 4,
 "nbformat_minor": 5
}
