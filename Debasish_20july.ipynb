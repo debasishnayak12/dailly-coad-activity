{
 "cells": [
  {
   "cell_type": "code",
   "execution_count": 1,
   "id": "ad031208",
   "metadata": {},
   "outputs": [
    {
     "name": "stdout",
     "output_type": "stream",
     "text": [
      "[0, 1, 2, 3, 4]\n"
     ]
    }
   ],
   "source": [
    "numbers=[0,1,2,3,4,5,6,7,8,9]\n",
    "\n",
    "print(numbers[:5])"
   ]
  },
  {
   "cell_type": "code",
   "execution_count": 2,
   "id": "20995665",
   "metadata": {},
   "outputs": [
    {
     "name": "stdout",
     "output_type": "stream",
     "text": [
      "[5, 6, 7, 8, 9]\n"
     ]
    }
   ],
   "source": [
    "print(numbers[5:])"
   ]
  },
  {
   "cell_type": "code",
   "execution_count": 3,
   "id": "e921d50f",
   "metadata": {},
   "outputs": [
    {
     "name": "stdout",
     "output_type": "stream",
     "text": [
      "[6, 7, 8, 9]\n"
     ]
    }
   ],
   "source": [
    "print(numbers[-4:])"
   ]
  },
  {
   "cell_type": "code",
   "execution_count": 5,
   "id": "5cb8f54b",
   "metadata": {},
   "outputs": [
    {
     "name": "stdout",
     "output_type": "stream",
     "text": [
      "[2]\n"
     ]
    }
   ],
   "source": [
    "print(numbers[2:3])"
   ]
  },
  {
   "cell_type": "code",
   "execution_count": 6,
   "id": "d0e42659",
   "metadata": {},
   "outputs": [
    {
     "name": "stdout",
     "output_type": "stream",
     "text": [
      "[2, 3]\n"
     ]
    }
   ],
   "source": [
    "print(numbers[2:4])"
   ]
  },
  {
   "cell_type": "code",
   "execution_count": 9,
   "id": "2ec2b6f1",
   "metadata": {},
   "outputs": [
    {
     "name": "stdout",
     "output_type": "stream",
     "text": [
      "[5, 6, 7, 8, 9]\n"
     ]
    }
   ],
   "source": [
    "print(numbers[5::])"
   ]
  },
  {
   "cell_type": "code",
   "execution_count": 11,
   "id": "41aae215",
   "metadata": {},
   "outputs": [
    {
     "name": "stdout",
     "output_type": "stream",
     "text": [
      "[2, 4, 6]\n"
     ]
    }
   ],
   "source": [
    "print(numbers[2:8:2])"
   ]
  },
  {
   "cell_type": "code",
   "execution_count": 18,
   "id": "88bd5861",
   "metadata": {},
   "outputs": [
    {
     "name": "stdout",
     "output_type": "stream",
     "text": [
      "[9, 8, 7, 6, 5, 4, 3, 2, 1, 0]\n"
     ]
    }
   ],
   "source": [
    "print(numbers[::-1])"
   ]
  },
  {
   "cell_type": "code",
   "execution_count": 20,
   "id": "d767a1b7",
   "metadata": {},
   "outputs": [
    {
     "name": "stdout",
     "output_type": "stream",
     "text": [
      "[0, 3, 6, 9]\n"
     ]
    }
   ],
   "source": [
    "print(numbers[::3])"
   ]
  },
  {
   "cell_type": "code",
   "execution_count": 21,
   "id": "de804108",
   "metadata": {},
   "outputs": [],
   "source": [
    "fruits=['apple','banana','cherry']"
   ]
  },
  {
   "cell_type": "code",
   "execution_count": 22,
   "id": "69b152b7",
   "metadata": {},
   "outputs": [
    {
     "name": "stdout",
     "output_type": "stream",
     "text": [
      "before append: ['apple', 'banana', 'cherry']\n",
      "After append: ['apple', 'banana', 'cherry', 'dragonfruit']\n"
     ]
    }
   ],
   "source": [
    "print(\"before append:\",fruits)\n",
    "fruits.append('dragonfruit')\n",
    "print(\"After append:\",fruits)"
   ]
  },
  {
   "cell_type": "code",
   "execution_count": 25,
   "id": "0603fb9d",
   "metadata": {},
   "outputs": [
    {
     "name": "stdout",
     "output_type": "stream",
     "text": [
      "before insert  fruit: ['apple', 'banana', 'cherry', 'dragonfruit']\n",
      "after insert: ['apple', 'kiwi', 'banana', 'cherry', 'dragonfruit']\n"
     ]
    }
   ],
   "source": [
    "print(\"before insert  fruit:\",fruits)\n",
    "fruits.insert(1,'kiwi')\n",
    "print(\"after insert:\",fruits)"
   ]
  },
  {
   "cell_type": "code",
   "execution_count": 26,
   "id": "567259fe",
   "metadata": {},
   "outputs": [
    {
     "name": "stdout",
     "output_type": "stream",
     "text": [
      "Before extend : ['apple', 'kiwi', 'banana', 'cherry', 'dragonfruit']\n",
      "after extend : ['apple', 'kiwi', 'banana', 'cherry', 'dragonfruit', 'mango', 'guava']\n"
     ]
    }
   ],
   "source": [
    "print(\"Before extend :\",fruits)\n",
    "fruits.extend(['mango','guava'])\n",
    "print(\"after extend :\",fruits)"
   ]
  },
  {
   "cell_type": "code",
   "execution_count": 28,
   "id": "e0a99dcb",
   "metadata": {},
   "outputs": [
    {
     "name": "stdout",
     "output_type": "stream",
     "text": [
      "apple\n",
      "kiwi\n",
      "banana\n",
      "cherry\n",
      "dragonfruit\n",
      "mango\n",
      "guava\n"
     ]
    }
   ],
   "source": [
    "for fruit in fruits:\n",
    "    print(fruit)"
   ]
  },
  {
   "cell_type": "code",
   "execution_count": 29,
   "id": "7432ea17",
   "metadata": {},
   "outputs": [
    {
     "name": "stdout",
     "output_type": "stream",
     "text": [
      "Item at index 0 is apple\n",
      "Item at index 1 is kiwi\n",
      "Item at index 2 is banana\n",
      "Item at index 3 is cherry\n",
      "Item at index 4 is dragonfruit\n",
      "Item at index 5 is mango\n",
      "Item at index 6 is guava\n"
     ]
    }
   ],
   "source": [
    "for i in range(len(fruits)):\n",
    "    print(f\"Item at index {i} is {fruits[i]}\")"
   ]
  },
  {
   "cell_type": "code",
   "execution_count": 30,
   "id": "0a956c06",
   "metadata": {},
   "outputs": [
    {
     "name": "stdout",
     "output_type": "stream",
     "text": [
      "['APPLE', 'KIWI', 'BANANA', 'CHERRY', 'DRAGONFRUIT', 'MANGO', 'GUAVA']\n"
     ]
    }
   ],
   "source": [
    "capitalized_fruits=[fruit.upper() for fruit in fruits]\n",
    "print(capitalized_fruits)"
   ]
  },
  {
   "cell_type": "code",
   "execution_count": 31,
   "id": "f1148ed8",
   "metadata": {},
   "outputs": [
    {
     "name": "stdout",
     "output_type": "stream",
     "text": [
      "apple\n",
      "kiwi\n",
      "banana\n",
      "cherry\n",
      "dragonfruit\n",
      "mango\n",
      "guava\n"
     ]
    }
   ],
   "source": [
    "i=0\n",
    "while i < len(fruits):\n",
    "    print(fruits[i])\n",
    "    i +=1\n",
    "    \n"
   ]
  },
  {
   "cell_type": "code",
   "execution_count": 33,
   "id": "ecbf0503",
   "metadata": {},
   "outputs": [
    {
     "name": "stdout",
     "output_type": "stream",
     "text": [
      "sorted list ascending: ['apple', 'banana', 'cherry', 'dragonfruit', 'guava', 'kiwi', 'mango']\n"
     ]
    }
   ],
   "source": [
    "fruits.sort()\n",
    "print(\"sorted list ascending:\",fruits)"
   ]
  },
  {
   "cell_type": "code",
   "execution_count": 34,
   "id": "2d8e6475",
   "metadata": {},
   "outputs": [
    {
     "name": "stdout",
     "output_type": "stream",
     "text": [
      "sorted list descending: ['mango', 'kiwi', 'guava', 'dragonfruit', 'cherry', 'banana', 'apple']\n"
     ]
    }
   ],
   "source": [
    "fruits.sort(reverse=True)\n",
    "print(\"sorted list descending:\",fruits)"
   ]
  },
  {
   "cell_type": "code",
   "execution_count": 35,
   "id": "7da57d6b",
   "metadata": {},
   "outputs": [
    {
     "name": "stdout",
     "output_type": "stream",
     "text": [
      "the new list is : ['mango', 'kiwi', 'guava', 'dragonfruit', 'cherry', 'banana', 'apple', 'elderberry', 'fig', 'grape']\n"
     ]
    }
   ],
   "source": [
    "fruits_extra=['elderberry','fig','grape']\n",
    "joined_fruits=fruits+fruits_extra\n",
    "print(\"the new list is :\",joined_fruits)"
   ]
  },
  {
   "cell_type": "code",
   "execution_count": 37,
   "id": "7a952821",
   "metadata": {},
   "outputs": [
    {
     "name": "stdout",
     "output_type": "stream",
     "text": [
      "['mango', 'kiwi', 'guava', 'dragonfruit', 'cherry', 'banana']\n"
     ]
    }
   ],
   "source": [
    "fruits.pop(6)\n",
    "print(fruits)"
   ]
  },
  {
   "cell_type": "code",
   "execution_count": null,
   "id": "0e9f4a13",
   "metadata": {},
   "outputs": [],
   "source": []
  }
 ],
 "metadata": {
  "kernelspec": {
   "display_name": "Python 3 (ipykernel)",
   "language": "python",
   "name": "python3"
  },
  "language_info": {
   "codemirror_mode": {
    "name": "ipython",
    "version": 3
   },
   "file_extension": ".py",
   "mimetype": "text/x-python",
   "name": "python",
   "nbconvert_exporter": "python",
   "pygments_lexer": "ipython3",
   "version": "3.10.9"
  }
 },
 "nbformat": 4,
 "nbformat_minor": 5
}
