{
 "cells": [
  {
   "cell_type": "code",
   "execution_count": 3,
   "metadata": {},
   "outputs": [],
   "source": [
    "import cv2\n",
    "import numpy as np"
   ]
  },
  {
   "cell_type": "code",
   "execution_count": 6,
   "metadata": {},
   "outputs": [],
   "source": [
    "def white_ball_detect():\n",
    "    cap=cv2.VideoCapture(0)\n",
    "    \n",
    "    while True:\n",
    "        ret, frame=cap.read()\n",
    "        if not ret :\n",
    "            break\n",
    "        blured_frame=cv2.GaussianBlur(frame,(5,5),0)\n",
    "        hsv_frame=cv2.cvtColor(blured_frame,cv2.COLOR_BGR2HSV)\n",
    "        \n",
    "        lower_white=np.array([0,0,168])\n",
    "        upper_white=np.array([172,111,255])\n",
    "        white_mask=cv2.inRange(hsv_frame,lower_white,upper_white)\n",
    "        \n",
    "        kernel=np.ones((5,5),np.uint8)\n",
    "        white_mask=cv2.erode(white_mask,kernel,iterations=2)\n",
    "        white_mask=cv2.dilate(white_mask,kernel,iterations=2)\n",
    "        \n",
    "        contours, _ =cv2.findContours(white_mask,cv2.RETR_TREE,cv2.CHAIN_APPROX_SIMPLE)\n",
    "        \n",
    "        ball_detected=False\n",
    "        ball_bbox=None\n",
    "        \n",
    "        for contour in contours:\n",
    "            area=cv2.contourArea(contour)\n",
    "            \n",
    "            perimeter=cv2.arcLength(contour,True)\n",
    "            \n",
    "            if perimeter != 0:\n",
    "                circulatory=4 * np.pi * (area/(perimeter*perimeter))\n",
    "                \n",
    "            else:\n",
    "                circulatory=0\n",
    "                \n",
    "            if area > 500 and 0.7 <= circulatory <= 1.2:\n",
    "                x,y,w,h = cv2.boundingRect(contour)\n",
    "                \n",
    "                ball_bbox=(x,y,w,h )\n",
    "                ball_detected=True\n",
    "                \n",
    "                cv2.rectangle(frame,(x,y),(x+w,y+h),(0,0,255),2)\n",
    "                cv2.drawContours(frame,[contour],-1,(0,255,0),1)\n",
    "                \n",
    "            if not ball_detected:\n",
    "                if ball_bbox is not None:\n",
    "                    ball_bbox=(x,y,w,h)\n",
    "                    \n",
    "                    cv2.rectangle(frame,(x,y),(x+w,y+h),(0,255,0),2)\n",
    "                    \n",
    "            cv2.imshow(\"white ball detected\",frame)\n",
    "            \n",
    "        if cv2.waitKey(1) & 0xFF==ord(\"c\"):\n",
    "            break\n",
    "        \n",
    "    \n",
    "    cap.release()\n",
    "    cv2.destroyAllWindows()\n",
    "    \n",
    "\n",
    "                    \n",
    "white_ball_detect()      \n",
    "            \n",
    "                     \n",
    "                    \n"
   ]
  },
  {
   "cell_type": "code",
   "execution_count": null,
   "metadata": {},
   "outputs": [],
   "source": []
  }
 ],
 "metadata": {
  "kernelspec": {
   "display_name": "debu",
   "language": "python",
   "name": "python3"
  },
  "language_info": {
   "codemirror_mode": {
    "name": "ipython",
    "version": 3
   },
   "file_extension": ".py",
   "mimetype": "text/x-python",
   "name": "python",
   "nbconvert_exporter": "python",
   "pygments_lexer": "ipython3",
   "version": "3.9.17"
  }
 },
 "nbformat": 4,
 "nbformat_minor": 2
}
