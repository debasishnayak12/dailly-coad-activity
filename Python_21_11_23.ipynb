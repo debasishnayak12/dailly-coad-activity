{
 "cells": [
  {
   "cell_type": "markdown",
   "id": "ec9d3c22",
   "metadata": {},
   "source": [
    "1. Write a Python program to print the following string in a specific format (see the output).\n",
    "Sample String : \"Twinkle, twinkle, little star, How I wonder what you are! Up above the world so high, Like a diamond in the sky. Twinkle, twinkle, little star, How I wonder what you are\"\n",
    "Output :\n",
    "\n",
    "- Twinkle, twinkle, little star,\n",
    "\t- How I wonder what you are! \n",
    "\t\t- Up above the world so high,   \t\t\n",
    "\t\t- Like a diamond in the sky. \n",
    "- Twinkle, twinkle, little star, \n",
    "\t- How I wonder what you are"
   ]
  },
  {
   "cell_type": "code",
   "execution_count": 1,
   "id": "3d30ec41",
   "metadata": {},
   "outputs": [
    {
     "name": "stdout",
     "output_type": "stream",
     "text": [
      "Twinkle,twinkle,little star, \n",
      "\thow I wonder what you are! \n",
      "\t\tUp above the world so high, \n",
      "\t\tLike a diamond in the sky. \n",
      "Twinkle ,twinkle,little star, \n",
      "\tHow I wonder What you are\n"
     ]
    }
   ],
   "source": [
    "print(\"Twinkle,twinkle,little star, \\n\\thow I wonder what you are! \\n\\t\\tUp above the world so high, \\n\\t\\tLike a diamond in the sky. \\nTwinkle ,twinkle,little star, \\n\\tHow I wonder What you are\")"
   ]
  },
  {
   "cell_type": "markdown",
   "id": "c7e814cf",
   "metadata": {},
   "source": [
    "# 2.\n",
    "- Write a Python program to find out what version of Python you are using."
   ]
  },
  {
   "cell_type": "code",
   "execution_count": 2,
   "id": "ddcf3082",
   "metadata": {},
   "outputs": [
    {
     "data": {
      "application/javascript": [
       "\n",
       "        if (window._pyforest_update_imports_cell) { window._pyforest_update_imports_cell('import sys'); }\n",
       "    "
      ],
      "text/plain": [
       "<IPython.core.display.Javascript object>"
      ]
     },
     "metadata": {},
     "output_type": "display_data"
    },
    {
     "name": "stdout",
     "output_type": "stream",
     "text": [
      "3.10.9 | packaged by Anaconda, Inc. | (main, Mar  1 2023, 18:18:15) [MSC v.1916 64 bit (AMD64)]\n"
     ]
    }
   ],
   "source": [
    "print(sys.version)"
   ]
  },
  {
   "cell_type": "markdown",
   "id": "d1aca09c",
   "metadata": {},
   "source": [
    "# 3.\n",
    "- Write a Python program to display the current date and time."
   ]
  },
  {
   "cell_type": "code",
   "execution_count": 3,
   "id": "f474bbf6",
   "metadata": {},
   "outputs": [
    {
     "name": "stdout",
     "output_type": "stream",
     "text": [
      "current date time  2023-47-11/21/23 21:47:40\n"
     ]
    }
   ],
   "source": [
    "import datetime\n",
    "dt=datetime.datetime.now()\n",
    "current_datetime=dt.strftime(\"%Y-%M-%D %H:%M:%S\")\n",
    "print(\"current date time \",current_datetime)\n"
   ]
  },
  {
   "cell_type": "markdown",
   "id": "c99ec131",
   "metadata": {},
   "source": [
    "# 4. \n",
    "- Write a Python program that calculates the area of a circle based on the radius entered by the user."
   ]
  },
  {
   "cell_type": "code",
   "execution_count": 4,
   "id": "eddcadd1",
   "metadata": {},
   "outputs": [
    {
     "name": "stdout",
     "output_type": "stream",
     "text": [
      "Enter the radius of circle :3.4\n"
     ]
    },
    {
     "data": {
      "application/javascript": [
       "\n",
       "        if (window._pyforest_update_imports_cell) { window._pyforest_update_imports_cell('import sys\\nimport numpy as np'); }\n",
       "    "
      ],
      "text/plain": [
       "<IPython.core.display.Javascript object>"
      ]
     },
     "metadata": {},
     "output_type": "display_data"
    },
    {
     "name": "stdout",
     "output_type": "stream",
     "text": [
      "Area of the circle is : 36.316811075498\n"
     ]
    }
   ],
   "source": [
    "radius=float(input(\"Enter the radius of circle :\"))\n",
    "area_of_circle=(np.pi)*(radius**2)\n",
    "print(\"Area of the circle is :\", area_of_circle)"
   ]
  },
  {
   "cell_type": "markdown",
   "id": "aaeee663",
   "metadata": {},
   "source": [
    "# 5.\n",
    "- Write a Python program that accepts the user's first and last name and prints them in reverse order with a space between them."
   ]
  },
  {
   "cell_type": "code",
   "execution_count": 5,
   "id": "7d6e8df3",
   "metadata": {},
   "outputs": [
    {
     "name": "stdout",
     "output_type": "stream",
     "text": [
      "Enter the first name :Debasish\n",
      "Enter the last name :nayak\n",
      "nayak Debasish\n"
     ]
    }
   ],
   "source": [
    "first_name=input(\"Enter the first name :\")\n",
    "last_name=input(\"Enter the last name :\")\n",
    "\n",
    "print(last_name , first_name)\n"
   ]
  },
  {
   "cell_type": "markdown",
   "id": "bcec9c82",
   "metadata": {},
   "source": [
    "# 6.\n",
    "- Write a Python program that accepts a sequence of comma-separated numbers \n",
    "- from the user and generates a list and a tuple of those numbers."
   ]
  },
  {
   "cell_type": "code",
   "execution_count": 6,
   "id": "bc4c0f0d",
   "metadata": {},
   "outputs": [
    {
     "name": "stdout",
     "output_type": "stream",
     "text": [
      "ENter  comma-separated numbers :1,2,3,4\n",
      "list : ['1', ',', '2', ',', '3', ',', '4']\n",
      "Tuple : ('1', ',', '2', ',', '3', ',', '4')\n"
     ]
    }
   ],
   "source": [
    "data=input(\"ENter  comma-separated numbers :\")\n",
    "print(\"list :\",list(data))\n",
    "print(\"Tuple :\",tuple(data))"
   ]
  },
  {
   "cell_type": "markdown",
   "id": "2b8248c1",
   "metadata": {},
   "source": [
    "# 7.\n",
    "- Write a Python program that accepts a filename from the user and prints the extension of the file."
   ]
  },
  {
   "cell_type": "code",
   "execution_count": 7,
   "id": "ed0a5021",
   "metadata": {},
   "outputs": [
    {
     "name": "stdout",
     "output_type": "stream",
     "text": [
      "Enter file namefile.csv\n",
      "Extension of file : csv\n"
     ]
    }
   ],
   "source": [
    "file_name=input(\"Enter file name\")\n",
    "print(\"Extension of file :\",file_name.split('.')[-1])"
   ]
  },
  {
   "cell_type": "markdown",
   "id": "e521c10c",
   "metadata": {},
   "source": [
    "# 8. \n",
    "- Write a Python program to display the first and last colors from the following list.\n",
    "- color_list = [\"Red\",\"Green\",\"White\" ,\"Black\"]"
   ]
  },
  {
   "cell_type": "code",
   "execution_count": 8,
   "id": "f4fd73b7",
   "metadata": {},
   "outputs": [
    {
     "name": "stdout",
     "output_type": "stream",
     "text": [
      "First and last color are : ['Red', 'Black']\n"
     ]
    }
   ],
   "source": [
    "color_list=[\"Red\",\"Green\",\"White\",\"Black\"]\n",
    "print(\"First and last color are :\",color_list[0::3])"
   ]
  },
  {
   "cell_type": "code",
   "execution_count": 9,
   "id": "51458740",
   "metadata": {},
   "outputs": [
    {
     "data": {
      "text/plain": [
       "['Red', 'Black']"
      ]
     },
     "execution_count": 9,
     "metadata": {},
     "output_type": "execute_result"
    }
   ],
   "source": [
    "color_list[0::3]"
   ]
  },
  {
   "cell_type": "markdown",
   "id": "0199d6ef",
   "metadata": {},
   "source": [
    "# 9. \n",
    "- Write a Python program to display the examination schedule. (extract the date from exam_st_date).\n",
    "exam_st_date = (11, 12, 2014)"
   ]
  },
  {
   "cell_type": "code",
   "execution_count": 15,
   "id": "437941db",
   "metadata": {},
   "outputs": [
    {
     "name": "stdout",
     "output_type": "stream",
     "text": [
      "Exam will start from : 21 / 11 / 2014\n"
     ]
    }
   ],
   "source": [
    "exam_st_date=(21,11,2014)\n",
    "print(\"Exam will start from : %d / %d / %d\"%exam_st_date)"
   ]
  },
  {
   "cell_type": "markdown",
   "id": "11f5734b",
   "metadata": {},
   "source": [
    "# 10. \n",
    "- Write a Python program that accepts an integer (n) and computes the value of n+nn+nnn."
   ]
  },
  {
   "cell_type": "code",
   "execution_count": 17,
   "id": "74e7552d",
   "metadata": {},
   "outputs": [
    {
     "name": "stdout",
     "output_type": "stream",
     "text": [
      "Enter the integer :3\n",
      "n+nn+nnn = 39\n"
     ]
    }
   ],
   "source": [
    "n=int(input(\"Enter the integer :\"))\n",
    "sum_n3=n+(n**2)+(n**3)\n",
    "print(\"n+nn+nnn =\",sum_n3)"
   ]
  },
  {
   "cell_type": "markdown",
   "id": "e0d50384",
   "metadata": {},
   "source": [
    "# 11. \n",
    "- Write a Python program to print the documents (syntax, description etc.) of Python built-in function(s)."
   ]
  },
  {
   "cell_type": "code",
   "execution_count": 24,
   "id": "85d5e46c",
   "metadata": {},
   "outputs": [
    {
     "name": "stdout",
     "output_type": "stream",
     "text": [
      "bool(x) -> bool\n",
      "\n",
      "Returns True when the argument x is true, False otherwise.\n",
      "The builtins True and False are the only two instances of the class bool.\n",
      "The class bool is a subclass of the class int, and cannot be subclassed.\n"
     ]
    }
   ],
   "source": [
    "print(False.__doc__)"
   ]
  },
  {
   "cell_type": "code",
   "execution_count": 23,
   "id": "c01dc7ef",
   "metadata": {},
   "outputs": [
    {
     "name": "stdout",
     "output_type": "stream",
     "text": [
      "bool(x) -> bool\n",
      "\n",
      "Returns True when the argument x is true, False otherwise.\n",
      "The builtins True and False are the only two instances of the class bool.\n",
      "The class bool is a subclass of the class int, and cannot be subclassed.\n"
     ]
    }
   ],
   "source": [
    "print(True.__doc__)"
   ]
  },
  {
   "cell_type": "code",
   "execution_count": 25,
   "id": "eb53297d",
   "metadata": {},
   "outputs": [
    {
     "name": "stdout",
     "output_type": "stream",
     "text": [
      "str(object='') -> str\n",
      "str(bytes_or_buffer[, encoding[, errors]]) -> str\n",
      "\n",
      "Create a new string object from the given object. If encoding or\n",
      "errors is specified, then the object must expose a data buffer\n",
      "that will be decoded using the given encoding and error handler.\n",
      "Otherwise, returns the result of object.__str__() (if defined)\n",
      "or repr(object).\n",
      "encoding defaults to sys.getdefaultencoding().\n",
      "errors defaults to 'strict'.\n"
     ]
    }
   ],
   "source": [
    "print(str.__doc__)"
   ]
  },
  {
   "cell_type": "code",
   "execution_count": 26,
   "id": "7d9af345",
   "metadata": {},
   "outputs": [
    {
     "name": "stdout",
     "output_type": "stream",
     "text": [
      "int([x]) -> integer\n",
      "int(x, base=10) -> integer\n",
      "\n",
      "Convert a number or string to an integer, or return 0 if no arguments\n",
      "are given.  If x is a number, return x.__int__().  For floating point\n",
      "numbers, this truncates towards zero.\n",
      "\n",
      "If x is not a number or if base is given, then x must be a string,\n",
      "bytes, or bytearray instance representing an integer literal in the\n",
      "given base.  The literal can be preceded by '+' or '-' and be surrounded\n",
      "by whitespace.  The base defaults to 10.  Valid bases are 0 and 2-36.\n",
      "Base 0 means to interpret the base from the string as an integer literal.\n",
      ">>> int('0b100', base=0)\n",
      "4\n"
     ]
    }
   ],
   "source": [
    "print(int.__doc__)"
   ]
  },
  {
   "cell_type": "markdown",
   "id": "4011df85",
   "metadata": {},
   "source": [
    "# 12. \n",
    "- Write a Python program that prints the calendar for a given month and year.\n",
    "- Note : Use 'calendar' module."
   ]
  },
  {
   "cell_type": "code",
   "execution_count": 30,
   "id": "9f26dd0b",
   "metadata": {},
   "outputs": [
    {
     "name": "stdout",
     "output_type": "stream",
     "text": [
      "   November 2023\n",
      "Su Mo Tu We Th Fr Sa\n",
      "          1  2  3  4\n",
      " 5  6  7  8  9 10 11\n",
      "12 13 14 15 16 17 18\n",
      "19 20 21 22 23 24 25\n",
      "26 27 28 29 30\n",
      "\n"
     ]
    }
   ],
   "source": [
    "import calendar\n",
    "yy=2023\n",
    "mm=11\n",
    "print(calendar.month(yy,mm))"
   ]
  },
  {
   "cell_type": "markdown",
   "id": "e1b54907",
   "metadata": {},
   "source": [
    "# 13. \n",
    "-  Write a Python program to print the following 'here document'.\n",
    " - Sample string :\n",
    " - a string that you \"don't\" have to escape\n",
    " - This\n",
    " - is a ....... multi-line\n",
    " - heredoc string --------> example\n"
   ]
  },
  {
   "cell_type": "code",
   "execution_count": 32,
   "id": "14e9110a",
   "metadata": {},
   "outputs": [
    {
     "name": "stdout",
     "output_type": "stream",
     "text": [
      "\n",
      "a string that you \"don't\" have to escape\n",
      "This\n",
      "is a ....... multi-line\n",
      "heredoc string --------> example\n",
      "\n"
     ]
    }
   ],
   "source": [
    "print(\"\"\"\n",
    "a string that you \"don't\" have to escape\n",
    "This\n",
    "is a ....... multi-line\n",
    "heredoc string --------> example\n",
    "\"\"\")"
   ]
  },
  {
   "cell_type": "markdown",
   "id": "9bb467d9",
   "metadata": {},
   "source": [
    "# 14. \n",
    "- Write a Python program to calculate the number of days between two dates.\n",
    "- Sample dates : (2014, 7, 2), (2014, 7, 11)"
   ]
  },
  {
   "cell_type": "code",
   "execution_count": 34,
   "id": "e21ac36e",
   "metadata": {},
   "outputs": [
    {
     "name": "stdout",
     "output_type": "stream",
     "text": [
      "13\n"
     ]
    }
   ],
   "source": [
    "from datetime import date\n",
    "f_date=date(2023 , 7 , 2)\n",
    "l_date=date(2023 , 7 , 15)\n",
    "diff_date=l_date-f_date\n",
    "print(diff_date.days)"
   ]
  },
  {
   "cell_type": "markdown",
   "id": "836a89db",
   "metadata": {},
   "source": [
    "# 15. \n",
    "- Write a Python program to get the volume of a sphere with radius six."
   ]
  },
  {
   "cell_type": "code",
   "execution_count": 38,
   "id": "9527b43d",
   "metadata": {},
   "outputs": [
    {
     "data": {
      "application/javascript": [
       "\n",
       "        if (window._pyforest_update_imports_cell) { window._pyforest_update_imports_cell('import sys\\nimport numpy as np'); }\n",
       "    "
      ],
      "text/plain": [
       "<IPython.core.display.Javascript object>"
      ]
     },
     "metadata": {},
     "output_type": "display_data"
    },
    {
     "name": "stdout",
     "output_type": "stream",
     "text": [
      "Volume of the sphere : 150.79644737231007\n"
     ]
    }
   ],
   "source": [
    "r=6\n",
    "vol=(4/3)*(np.pi)*(r**2)\n",
    "print(\"Volume of the sphere :\",vol)"
   ]
  },
  {
   "cell_type": "code",
   "execution_count": null,
   "id": "ba851067",
   "metadata": {},
   "outputs": [],
   "source": []
  }
 ],
 "metadata": {
  "kernelspec": {
   "display_name": "Python 3 (ipykernel)",
   "language": "python",
   "name": "python3"
  },
  "language_info": {
   "codemirror_mode": {
    "name": "ipython",
    "version": 3
   },
   "file_extension": ".py",
   "mimetype": "text/x-python",
   "name": "python",
   "nbconvert_exporter": "python",
   "pygments_lexer": "ipython3",
   "version": "3.10.9"
  }
 },
 "nbformat": 4,
 "nbformat_minor": 5
}
