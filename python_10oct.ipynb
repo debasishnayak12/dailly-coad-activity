{
 "cells": [
  {
   "cell_type": "code",
   "execution_count": 11,
   "id": "df05b9d0",
   "metadata": {},
   "outputs": [
    {
     "name": "stdout",
     "output_type": "stream",
     "text": [
      "2023-10-10 11:54:39.581872\n"
     ]
    }
   ],
   "source": [
    "import datetime\n",
    "x=datetime.datetime.now()\n",
    "print(x)"
   ]
  },
  {
   "cell_type": "code",
   "execution_count": 12,
   "id": "fccf5df3",
   "metadata": {},
   "outputs": [
    {
     "name": "stdout",
     "output_type": "stream",
     "text": [
      "2023\n",
      "Tuesday\n",
      "11:54:39\n"
     ]
    }
   ],
   "source": [
    "#giving only year and day\n",
    "print(x.year)\n",
    "print(x.strftime(\"%A\"))\n",
    "#giving time\n",
    "print(x.strftime(\"%T\"))"
   ]
  },
  {
   "cell_type": "code",
   "execution_count": 13,
   "id": "bf99caf0",
   "metadata": {},
   "outputs": [
    {
     "name": "stdout",
     "output_type": "stream",
     "text": [
      "October\n"
     ]
    }
   ],
   "source": [
    "#give month name\n",
    "print(x.strftime(\"%B\"))"
   ]
  },
  {
   "cell_type": "code",
   "execution_count": 15,
   "id": "7c3366ad",
   "metadata": {},
   "outputs": [
    {
     "name": "stdout",
     "output_type": "stream",
     "text": [
      "Tue Oct 10 11:54:39 2023\n"
     ]
    }
   ],
   "source": [
    "#local version of date and time\n",
    "print(x.strftime(\"%c\"))\n",
    "# loacal version of time \"%X\"\n",
    "# local version of date\"%x\""
   ]
  },
  {
   "cell_type": "code",
   "execution_count": 20,
   "id": "466d4a4c",
   "metadata": {},
   "outputs": [
    {
     "data": {
      "text/plain": [
       "64"
      ]
     },
     "execution_count": 20,
     "metadata": {},
     "output_type": "execute_result"
    }
   ],
   "source": [
    "#4 to the power of 3\n",
    "4**3"
   ]
  },
  {
   "cell_type": "code",
   "execution_count": 21,
   "id": "7168beac",
   "metadata": {},
   "outputs": [
    {
     "data": {
      "text/plain": [
       "64"
      ]
     },
     "execution_count": 21,
     "metadata": {},
     "output_type": "execute_result"
    }
   ],
   "source": [
    "x=pow(4,3)\n",
    "x"
   ]
  },
  {
   "cell_type": "code",
   "execution_count": 24,
   "id": "938f9429",
   "metadata": {},
   "outputs": [
    {
     "name": "stdout",
     "output_type": "stream",
     "text": [
      "3\n",
      "4\n"
     ]
    }
   ],
   "source": [
    "#converting to round number\n",
    "import math\n",
    "\n",
    "#math.ceil used to convert to upward round up number\n",
    "x=math.ceil(2.4)\n",
    "#math.floor convert to downword round up number \n",
    "y=math.floor(4.7)\n",
    "\n",
    "print(x)\n",
    "print(y)"
   ]
  },
  {
   "cell_type": "code",
   "execution_count": 25,
   "id": "d15f0a31",
   "metadata": {},
   "outputs": [
    {
     "data": {
      "text/plain": [
       "3.141592653589793"
      ]
     },
     "execution_count": 25,
     "metadata": {},
     "output_type": "execute_result"
    }
   ],
   "source": [
    "#pi value\n",
    "math.pi"
   ]
  },
  {
   "cell_type": "code",
   "execution_count": 40,
   "id": "d33bc08b",
   "metadata": {},
   "outputs": [
    {
     "name": "stdout",
     "output_type": "stream",
     "text": [
      "My name is Debasish Nayak\n"
     ]
    }
   ],
   "source": [
    "#inheritance\n",
    "class Person:                      #parent class \n",
    "    def __init__(self,fname,lname):       \n",
    "        self.fname=fname\n",
    "        self.lname=lname\n",
    "        \n",
    "    def name(self):                 #method\n",
    "        print(\"My name is {} {}\".format(self.fname,self.lname))\n",
    "        \n",
    "x=Person(\"Debasish\",\"Nayak\")\n",
    "x.name()"
   ]
  },
  {
   "cell_type": "code",
   "execution_count": 55,
   "id": "63c74440",
   "metadata": {},
   "outputs": [],
   "source": [
    "class student(Person):                    #child class\n",
    "    def __init__(self,fname,lname,rank):  #construcor\n",
    "        super().__init__(fname,lname)\n",
    "        self.rank=rank\n",
    "            \n",
    "    def result(self):                     #method\n",
    "        print(f\"Name is {self.fname} {self.lname} and rank is {self.rank}\")\n",
    "        \n",
    "st=student(\"Debasish\",\"Nayak\",1)"
   ]
  },
  {
   "cell_type": "code",
   "execution_count": 56,
   "id": "b9857874",
   "metadata": {},
   "outputs": [
    {
     "name": "stdout",
     "output_type": "stream",
     "text": [
      "My name is Debasish Nayak\n"
     ]
    }
   ],
   "source": [
    "st.name()"
   ]
  },
  {
   "cell_type": "code",
   "execution_count": 71,
   "id": "7e92dcd3",
   "metadata": {},
   "outputs": [
    {
     "name": "stdout",
     "output_type": "stream",
     "text": [
      "{'brand': 'Ford', 'model': 'Mustang', 'year': 2022}\n"
     ]
    }
   ],
   "source": [
    "'''\n",
    "Dictionaries can't carry duplicates by default \n",
    "it delete duplicates value and keep one\n",
    "  '''\n",
    "\n",
    "thisdict = {\n",
    "  \"brand\": \"Ford\",\n",
    "  \"model\": \"Mustang\",\n",
    "  \"year\": 1964,\n",
    "  \"year\":2022\n",
    "}\n",
    "\n",
    "print(thisdict)"
   ]
  },
  {
   "cell_type": "code",
   "execution_count": 62,
   "id": "5b944c5d",
   "metadata": {},
   "outputs": [
    {
     "data": {
      "text/plain": [
       "{'brand': 'Ford', 'year': 2022}"
      ]
     },
     "execution_count": 62,
     "metadata": {},
     "output_type": "execute_result"
    }
   ],
   "source": [
    "#delete values \n",
    "thisdict.pop(\"model\",\"Mustang\") \n",
    "thisdict"
   ]
  },
  {
   "cell_type": "code",
   "execution_count": 69,
   "id": "8903cd2c",
   "metadata": {},
   "outputs": [
    {
     "data": {
      "text/plain": [
       "{'brand': 'Ford', 'year': 2022}"
      ]
     },
     "execution_count": 69,
     "metadata": {},
     "output_type": "execute_result"
    }
   ],
   "source": [
    "#or del thisdict[\"model\"]\n",
    "del thisdict[\"model\"]\n",
    "thisdict"
   ]
  },
  {
   "cell_type": "code",
   "execution_count": 76,
   "id": "88a11fdc",
   "metadata": {},
   "outputs": [
    {
     "name": "stdout",
     "output_type": "stream",
     "text": [
      "brand\n",
      "model\n",
      "year\n"
     ]
    }
   ],
   "source": [
    "#loping for keys\n",
    "for x in thisdict:\n",
    "    print(x)\n",
    "   "
   ]
  },
  {
   "cell_type": "code",
   "execution_count": 74,
   "id": "a7c026a0",
   "metadata": {},
   "outputs": [
    {
     "name": "stdout",
     "output_type": "stream",
     "text": [
      "Ford\n",
      "Mustang\n",
      "2022\n"
     ]
    }
   ],
   "source": [
    "#looping f0r values\n",
    "\n",
    "for x in thisdict.values(): # or print(thisdict[x])\n",
    "    print(x)"
   ]
  },
  {
   "cell_type": "code",
   "execution_count": 80,
   "id": "e4d0c11b",
   "metadata": {},
   "outputs": [
    {
     "name": "stdout",
     "output_type": "stream",
     "text": [
      "brand : Ford\n",
      "model : Mustang\n",
      "year : 2022\n"
     ]
    }
   ],
   "source": [
    "#looping for both key and values  by usign items method\n",
    "for x,y in thisdict.items():\n",
    "    print(x,\":\",y)\n",
    "    "
   ]
  },
  {
   "cell_type": "code",
   "execution_count": 81,
   "id": "22e9a579",
   "metadata": {},
   "outputs": [
    {
     "name": "stdout",
     "output_type": "stream",
     "text": [
      "['apple', 'banana', 'cherry', 'apple', 'cherry']\n"
     ]
    }
   ],
   "source": [
    "mylist= [\"apple\", \"banana\", \"cherry\", \"apple\", \"cherry\"]\n",
    "print(mylist)"
   ]
  },
  {
   "cell_type": "code",
   "execution_count": 82,
   "id": "6da627d1",
   "metadata": {},
   "outputs": [
    {
     "data": {
      "text/plain": [
       "5"
      ]
     },
     "execution_count": 82,
     "metadata": {},
     "output_type": "execute_result"
    }
   ],
   "source": [
    "len(mylist)"
   ]
  },
  {
   "cell_type": "code",
   "execution_count": 83,
   "id": "118fe24d",
   "metadata": {},
   "outputs": [
    {
     "data": {
      "text/plain": [
       "['banana', 'cherry']"
      ]
     },
     "execution_count": 83,
     "metadata": {},
     "output_type": "execute_result"
    }
   ],
   "source": [
    "mylist[1:3]"
   ]
  },
  {
   "cell_type": "code",
   "execution_count": 84,
   "id": "b4b12156",
   "metadata": {},
   "outputs": [],
   "source": [
    "mylist.append(\"guava\")"
   ]
  },
  {
   "cell_type": "code",
   "execution_count": 85,
   "id": "758a0b16",
   "metadata": {},
   "outputs": [
    {
     "data": {
      "text/plain": [
       "['apple', 'banana', 'cherry', 'apple', 'cherry', 'guava']"
      ]
     },
     "execution_count": 85,
     "metadata": {},
     "output_type": "execute_result"
    }
   ],
   "source": [
    "mylist"
   ]
  },
  {
   "cell_type": "code",
   "execution_count": 86,
   "id": "0dcd9fcc",
   "metadata": {},
   "outputs": [],
   "source": [
    "mylist.insert(2,\"Guava\")"
   ]
  },
  {
   "cell_type": "code",
   "execution_count": 93,
   "id": "29c68aca",
   "metadata": {},
   "outputs": [
    {
     "data": {
      "text/plain": [
       "[None, None, None, None, None, None]"
      ]
     },
     "execution_count": 93,
     "metadata": {},
     "output_type": "execute_result"
    }
   ],
   "source": [
    "[mylist.remove(x) for x in \"papaya\"]"
   ]
  },
  {
   "cell_type": "code",
   "execution_count": 94,
   "id": "a451f098",
   "metadata": {},
   "outputs": [
    {
     "data": {
      "text/plain": [
       "['apple', 'banana', 'Guava', 'cherry', 'apple', 'cherry', 'guava']"
      ]
     },
     "execution_count": 94,
     "metadata": {},
     "output_type": "execute_result"
    }
   ],
   "source": [
    "mylist"
   ]
  },
  {
   "cell_type": "code",
   "execution_count": 95,
   "id": "ffc96e87",
   "metadata": {},
   "outputs": [],
   "source": [
    "mylist.sort()"
   ]
  },
  {
   "cell_type": "code",
   "execution_count": 96,
   "id": "00e8b576",
   "metadata": {},
   "outputs": [
    {
     "data": {
      "text/plain": [
       "['Guava', 'apple', 'apple', 'banana', 'cherry', 'cherry', 'guava']"
      ]
     },
     "execution_count": 96,
     "metadata": {},
     "output_type": "execute_result"
    }
   ],
   "source": [
    "mylist"
   ]
  },
  {
   "cell_type": "code",
   "execution_count": 105,
   "id": "c0e74f89",
   "metadata": {},
   "outputs": [],
   "source": [
    "mylist.remove(\"Guava\")"
   ]
  },
  {
   "cell_type": "code",
   "execution_count": 106,
   "id": "6ea86ef5",
   "metadata": {},
   "outputs": [
    {
     "data": {
      "text/plain": [
       "['apple', 'apple', 'banana', 'cherry', 'cherry', 'guava']"
      ]
     },
     "execution_count": 106,
     "metadata": {},
     "output_type": "execute_result"
    }
   ],
   "source": [
    "mylist"
   ]
  },
  {
   "cell_type": "code",
   "execution_count": 107,
   "id": "e52d5c3d",
   "metadata": {},
   "outputs": [
    {
     "name": "stdout",
     "output_type": "stream",
     "text": [
      "Yes , apple is in mylist\n"
     ]
    }
   ],
   "source": [
    "if \"apple\" in mylist:\n",
    "    print(\"Yes , apple is in mylist\")\n",
    "    \n",
    "else:\n",
    "    print(\"No, apple is not there\")"
   ]
  },
  {
   "cell_type": "code",
   "execution_count": 128,
   "id": "1ec7e3c0",
   "metadata": {},
   "outputs": [
    {
     "name": "stdout",
     "output_type": "stream",
     "text": [
      "apple -- 5\n",
      "apple -- 5\n",
      "banana -- 6\n",
      "cherry -- 6\n",
      "cherry -- 6\n",
      "guava -- 5\n"
     ]
    }
   ],
   "source": [
    "#elements of mylist and there length\n",
    "for i in mylist:\n",
    "    print(i,\"--\", len(i))"
   ]
  },
  {
   "cell_type": "code",
   "execution_count": 134,
   "id": "a77ef4db",
   "metadata": {},
   "outputs": [
    {
     "name": "stdout",
     "output_type": "stream",
     "text": [
      "x and z are equal\n"
     ]
    }
   ],
   "source": [
    "x=13\n",
    "y=15\n",
    "z=13\n",
    "\n",
    "if x > y :\n",
    "    print(\"yes,x is bigger than y\")\n",
    "    \n",
    "elif x==y :\n",
    "    print(\"x and y are equal\")\n",
    "    \n",
    "elif x > z:\n",
    "    print(\"x less than y\")\n",
    "    \n",
    "elif x==z :\n",
    "    print(\"x and z are equal\")\n",
    "    \n",
    "elif x==z==y:\n",
    "    print(\"x,y,z all are equal\")\n",
    "    \n",
    "else:\n",
    "    print(\"no relatiion among them\")\n",
    "    "
   ]
  },
  {
   "cell_type": "code",
   "execution_count": 143,
   "id": "b7d37daf",
   "metadata": {},
   "outputs": [
    {
     "name": "stdout",
     "output_type": "stream",
     "text": [
      "0\n",
      "1\n",
      "2\n",
      "3\n",
      "4\n",
      "5\n",
      "6\n",
      "7\n"
     ]
    }
   ],
   "source": [
    "#while loop\n",
    "\n",
    "i=0\n",
    "\n",
    "while i < 10 :\n",
    "    print(i)   # it gives to 9\n",
    "    if i==7:\n",
    "         break\n",
    "    i+=1\n",
    "    #print(i)   # it gives to 10"
   ]
  },
  {
   "cell_type": "code",
   "execution_count": null,
   "id": "7a532910",
   "metadata": {},
   "outputs": [],
   "source": []
  }
 ],
 "metadata": {
  "kernelspec": {
   "display_name": "Python 3 (ipykernel)",
   "language": "python",
   "name": "python3"
  },
  "language_info": {
   "codemirror_mode": {
    "name": "ipython",
    "version": 3
   },
   "file_extension": ".py",
   "mimetype": "text/x-python",
   "name": "python",
   "nbconvert_exporter": "python",
   "pygments_lexer": "ipython3",
   "version": "3.10.9"
  }
 },
 "nbformat": 4,
 "nbformat_minor": 5
}
