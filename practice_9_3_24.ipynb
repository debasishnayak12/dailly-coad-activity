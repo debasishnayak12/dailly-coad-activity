{
 "cells": [
  {
   "cell_type": "code",
   "execution_count": 1,
   "id": "9eb36ae5",
   "metadata": {},
   "outputs": [
    {
     "name": "stdout",
     "output_type": "stream",
     "text": [
      "Emil Refsnes\n",
      "Tobias Refsnes\n",
      "Linus Refsnes\n"
     ]
    }
   ],
   "source": [
    "def my_function(fname):\n",
    "    \n",
    "    print(fname + \" Refsnes\")\n",
    "\n",
    "my_function(\"Emil\")\n",
    "my_function(\"Tobias\")\n",
    "my_function(\"Linus\")"
   ]
  },
  {
   "cell_type": "code",
   "execution_count": 2,
   "id": "c4d58d9d",
   "metadata": {},
   "outputs": [
    {
     "name": "stdout",
     "output_type": "stream",
     "text": [
      "Emil Refsnes\n"
     ]
    }
   ],
   "source": [
    "def my_function(fname, lname):\n",
    "    print(fname + \" \" + lname)\n",
    "\n",
    "my_function(\"Emil\", \"Refsnes\")"
   ]
  },
  {
   "cell_type": "code",
   "execution_count": 3,
   "id": "7e8438ca",
   "metadata": {},
   "outputs": [
    {
     "name": "stdout",
     "output_type": "stream",
     "text": [
      "The youngest child is Linus\n"
     ]
    }
   ],
   "source": [
    "def my_function(*kids):\n",
    "    print(\"The youngest child is \" + kids[2])\n",
    "\n",
    "my_function(\"Emil\", \"Tobias\", \"Linus\")"
   ]
  },
  {
   "cell_type": "code",
   "execution_count": 7,
   "id": "72a2ea2f",
   "metadata": {},
   "outputs": [],
   "source": [
    "# define a function which will count lower and upper caes in a string or list or a set \n",
    "\n",
    "def caseCounter(s):\n",
    "    d={\"UPPER_CASE\": 0 ,\"LOWER_CASE\": 0}\n",
    "\n",
    "    for i in s:\n",
    "        if i.isupper():\n",
    "            d[\"UPPER_CASE\"] += 1\n",
    "        elif i.islower():\n",
    "            d[\"LOWER_CASE\"] += 1\n",
    "            \n",
    "        else :\n",
    "            pass\n",
    "        \n",
    "    print(f\"No of Upper case in this : {d['UPPER_CASE']}\")\n",
    "    print(f\"No of Lower case in this : {d['LOWER_CASE']}\")"
   ]
  },
  {
   "cell_type": "code",
   "execution_count": 8,
   "id": "65ebc006",
   "metadata": {},
   "outputs": [
    {
     "name": "stdout",
     "output_type": "stream",
     "text": [
      "No of Upper case in this : 2\n",
      "No of Lower case in this : 11\n"
     ]
    }
   ],
   "source": [
    "caseCounter(\"Debasish Nayak\")"
   ]
  },
  {
   "cell_type": "code",
   "execution_count": 4,
   "id": "478637d3",
   "metadata": {},
   "outputs": [
    {
     "data": {
      "text/plain": [
       "'sehgdbedfff'"
      ]
     },
     "execution_count": 4,
     "metadata": {},
     "output_type": "execute_result"
    }
   ],
   "source": [
    "s=\"sehgdbeDFFF\"\n",
    "s.lower()"
   ]
  },
  {
   "cell_type": "code",
   "execution_count": 15,
   "id": "a3588045",
   "metadata": {},
   "outputs": [],
   "source": [
    "# define a function which will give multiplication of all element in a list\n",
    "\n",
    "def multipy(s):\n",
    "    total=1\n",
    "    for i in s:\n",
    "        total *= i\n",
    "    return total"
   ]
  },
  {
   "cell_type": "code",
   "execution_count": 16,
   "id": "6e217593",
   "metadata": {},
   "outputs": [
    {
     "data": {
      "text/plain": [
       "24"
      ]
     },
     "execution_count": 16,
     "metadata": {},
     "output_type": "execute_result"
    }
   ],
   "source": [
    "\n",
    "multipy([1,2,3,4])"
   ]
  },
  {
   "cell_type": "code",
   "execution_count": 17,
   "id": "de2746dd",
   "metadata": {},
   "outputs": [],
   "source": [
    "# define a function which will give another list with squared value of old list\n",
    "\n",
    "def squaredlist(my_list):\n",
    "    i=0\n",
    "    \n",
    "    while i < len(my_list):\n",
    "        my_list[i]=my_list[i]**2\n",
    "        \n",
    "        i += 1\n",
    "        \n",
    "    return my_list"
   ]
  },
  {
   "cell_type": "code",
   "execution_count": 18,
   "id": "c401ae37",
   "metadata": {},
   "outputs": [
    {
     "data": {
      "text/plain": [
       "[1, 4, 9, 9, 9, 16, 25, 36]"
      ]
     },
     "execution_count": 18,
     "metadata": {},
     "output_type": "execute_result"
    }
   ],
   "source": [
    "squaredlist([1,2,3,3,3,4,5,6])"
   ]
  },
  {
   "cell_type": "code",
   "execution_count": 19,
   "id": "1a934fdd",
   "metadata": {},
   "outputs": [],
   "source": [
    "# define a function which will give a sentence of all value and keys of a dict with two simple line of english\n",
    "\n",
    "def dictDecomposer(theDict):\n",
    "    print(f\"The keys of the dict :{list(theDict.keys())}\")\n",
    "    print(f\"The values of the dict : {list(theDict.values())}\")"
   ]
  },
  {
   "cell_type": "code",
   "execution_count": 21,
   "id": "3de9b71d",
   "metadata": {},
   "outputs": [
    {
     "name": "stdout",
     "output_type": "stream",
     "text": [
      "The keys of the dict :['Name ', 'Roll ', 'class ']\n",
      "The values of the dict : ['Debu', 100, '12th']\n"
     ]
    }
   ],
   "source": [
    "my_dict={\"Name \": \"Debu\",\n",
    "        \"Roll \": 100,\n",
    "        \"class \": \"12th\"}\n",
    "dictDecomposer(my_dict)"
   ]
  },
  {
   "cell_type": "code",
   "execution_count": null,
   "id": "f5c7b8d7",
   "metadata": {},
   "outputs": [],
   "source": []
  }
 ],
 "metadata": {
  "kernelspec": {
   "display_name": "Python 3 (ipykernel)",
   "language": "python",
   "name": "python3"
  },
  "language_info": {
   "codemirror_mode": {
    "name": "ipython",
    "version": 3
   },
   "file_extension": ".py",
   "mimetype": "text/x-python",
   "name": "python",
   "nbconvert_exporter": "python",
   "pygments_lexer": "ipython3",
   "version": "3.10.9"
  }
 },
 "nbformat": 4,
 "nbformat_minor": 5
}
