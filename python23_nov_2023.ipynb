{
 "cells": [
  {
   "cell_type": "markdown",
   "id": "308b2753",
   "metadata": {},
   "source": [
    "# 31.\n",
    "- Write a Python program that computes the greatest common divisor (GCD) of two positive integers."
   ]
  },
  {
   "cell_type": "code",
   "execution_count": 8,
   "id": "c5532745",
   "metadata": {},
   "outputs": [
    {
     "name": "stdout",
     "output_type": "stream",
     "text": [
      " The greatest common divisor is 1\n"
     ]
    }
   ],
   "source": [
    "def gcd(x,y):\n",
    "    gcd=1\n",
    "    \n",
    "    if x % y ==0 :\n",
    "        return y\n",
    "    \n",
    "    for i in range(int(y/2),0,-1):\n",
    "        if x % i ==0 and y % i ==0:\n",
    "            gcd=i\n",
    "            break\n",
    "            \n",
    "    return gcd\n",
    "GCD=gcd(4,5)\n",
    "print(f\" The greatest common divisor is {GCD}\")\n"
   ]
  },
  {
   "cell_type": "code",
   "execution_count": 10,
   "id": "5a3025fb",
   "metadata": {},
   "outputs": [
    {
     "data": {
      "text/plain": [
       "17"
      ]
     },
     "execution_count": 10,
     "metadata": {},
     "output_type": "execute_result"
    }
   ],
   "source": [
    "gcd(17,34)"
   ]
  },
  {
   "cell_type": "markdown",
   "id": "0d3c9ef0",
   "metadata": {},
   "source": [
    "# 32. \n",
    "- Write a Python program to find the least common multiple (LCM) of two positive integers."
   ]
  },
  {
   "cell_type": "code",
   "execution_count": 5,
   "id": "0ffd863d",
   "metadata": {},
   "outputs": [],
   "source": [
    "def lcm(x,y):\n",
    "    if x>y:\n",
    "        z=x\n",
    "    else:\n",
    "        z=y\n",
    "        \n",
    "    while True:\n",
    "        if (z % x==0) and (z % y==0):\n",
    "            lcm=z\n",
    "            break\n",
    "        z += 1\n",
    "        \n",
    "    return lcm"
   ]
  },
  {
   "cell_type": "code",
   "execution_count": 6,
   "id": "82452869",
   "metadata": {},
   "outputs": [
    {
     "data": {
      "text/plain": [
       "90"
      ]
     },
     "execution_count": 6,
     "metadata": {},
     "output_type": "execute_result"
    }
   ],
   "source": [
    "lcm(10,9)"
   ]
  },
  {
   "cell_type": "markdown",
   "id": "a0e4ef8e",
   "metadata": {},
   "source": [
    "# 33.\n",
    "- Write a Python program to sum three given integers. However, if two values are equal, the sum will be zero."
   ]
  },
  {
   "cell_type": "code",
   "execution_count": 16,
   "id": "1fe44e60",
   "metadata": {},
   "outputs": [],
   "source": [
    "def addition(x,y,z):\n",
    "    sum=x+y+z\n",
    "    \n",
    "    if x==y or x==z or y==z:\n",
    "        sum=0\n",
    "    return sum"
   ]
  },
  {
   "cell_type": "code",
   "execution_count": 14,
   "id": "dbac7659",
   "metadata": {},
   "outputs": [
    {
     "data": {
      "text/plain": [
       "0"
      ]
     },
     "execution_count": 14,
     "metadata": {},
     "output_type": "execute_result"
    }
   ],
   "source": [
    "addition(2,3,2)"
   ]
  },
  {
   "cell_type": "code",
   "execution_count": 17,
   "id": "b870adea",
   "metadata": {},
   "outputs": [
    {
     "data": {
      "text/plain": [
       "9"
      ]
     },
     "execution_count": 17,
     "metadata": {},
     "output_type": "execute_result"
    }
   ],
   "source": [
    "addition(2,3,4)"
   ]
  },
  {
   "cell_type": "markdown",
   "id": "bfa8fb10",
   "metadata": {},
   "source": [
    "# 34. \n",
    "- Write a Python program to sum two given integers. However, if the sum is between 15 and 20 it will return 20."
   ]
  },
  {
   "cell_type": "code",
   "execution_count": 25,
   "id": "d5862077",
   "metadata": {},
   "outputs": [],
   "source": [
    "def addition(x,y):\n",
    "    sum=x+y\n",
    "    if sum in range(15,20):\n",
    "        sum=20\n",
    "\n",
    "    return sum"
   ]
  },
  {
   "cell_type": "code",
   "execution_count": 28,
   "id": "7a884883",
   "metadata": {},
   "outputs": [
    {
     "data": {
      "text/plain": [
       "21"
      ]
     },
     "execution_count": 28,
     "metadata": {},
     "output_type": "execute_result"
    }
   ],
   "source": [
    "addition(15,6)"
   ]
  },
  {
   "cell_type": "markdown",
   "id": "b7b02958",
   "metadata": {},
   "source": [
    "# 35.\n",
    "- Write a Python program that returns true if the two given integer values are equal or their sum or difference is 5."
   ]
  },
  {
   "cell_type": "code",
   "execution_count": 32,
   "id": "1dc3a51d",
   "metadata": {},
   "outputs": [],
   "source": [
    "def integer(x,y):\n",
    "    sum=int(x+y)\n",
    "    diff=abs(x-y)\n",
    "    if x==y:\n",
    "        return True\n",
    "    elif sum==5 or diff==5:\n",
    "        return True\n",
    "    else:\n",
    "        return sum"
   ]
  },
  {
   "cell_type": "code",
   "execution_count": 33,
   "id": "115a836e",
   "metadata": {},
   "outputs": [
    {
     "data": {
      "text/plain": [
       "True"
      ]
     },
     "execution_count": 33,
     "metadata": {},
     "output_type": "execute_result"
    }
   ],
   "source": [
    "integer(5,5)"
   ]
  },
  {
   "cell_type": "code",
   "execution_count": 34,
   "id": "933500c8",
   "metadata": {},
   "outputs": [
    {
     "data": {
      "text/plain": [
       "12"
      ]
     },
     "execution_count": 34,
     "metadata": {},
     "output_type": "execute_result"
    }
   ],
   "source": [
    "integer(4,8)"
   ]
  },
  {
   "cell_type": "markdown",
   "id": "02a1a9c8",
   "metadata": {},
   "source": [
    "# 36. \n",
    "- Write a Python program to add two objects if both objects are integers."
   ]
  },
  {
   "cell_type": "code",
   "execution_count": 65,
   "id": "c00c1796",
   "metadata": {},
   "outputs": [],
   "source": [
    "def  adding(x,y):\n",
    "    if not (isinstance(x,int) and (isinstance(y,int))):\n",
    "        return \"You must input an integer\"\n",
    "    else:\n",
    "        return x+y\n",
    "\n",
    "  "
   ]
  },
  {
   "cell_type": "code",
   "execution_count": 67,
   "id": "ceac214b",
   "metadata": {},
   "outputs": [
    {
     "data": {
      "text/plain": [
       "'You must input integer'"
      ]
     },
     "execution_count": 67,
     "metadata": {},
     "output_type": "execute_result"
    }
   ],
   "source": [
    "adding(7.8,9)"
   ]
  },
  {
   "cell_type": "code",
   "execution_count": 70,
   "id": "08857a24",
   "metadata": {},
   "outputs": [
    {
     "data": {
      "text/plain": [
       "12"
      ]
     },
     "execution_count": 70,
     "metadata": {},
     "output_type": "execute_result"
    }
   ],
   "source": [
    "adding(5,7)"
   ]
  },
  {
   "cell_type": "markdown",
   "id": "e4f11b98",
   "metadata": {},
   "source": [
    "# 37.\n",
    "- Write a Python program that displays your name, age, and address on three different lines."
   ]
  },
  {
   "cell_type": "code",
   "execution_count": 83,
   "id": "c2f1444e",
   "metadata": {},
   "outputs": [
    {
     "name": "stdout",
     "output_type": "stream",
     "text": [
      "MY details :  \n",
      "Name : Debasish Nayak  \n",
      "Age : 20  \n",
      "Adress : Odisha\n"
     ]
    }
   ],
   "source": [
    "Name=\"Debasish Nayak\"\n",
    "Age=20\n",
    "Adress=\"Odisha\"\n",
    "print(f\"MY details :  \\nName : {Name}  \\nAge : {Age}  \\nAdress : {Adress}\")"
   ]
  },
  {
   "cell_type": "markdown",
   "id": "a2516955",
   "metadata": {},
   "source": [
    "# 38. \n",
    "- Write a Python program to solve (x + y) * (x + y).\n",
    "- Test Data : x = 4, y = 3\n"
   ]
  },
  {
   "cell_type": "code",
   "execution_count": 93,
   "id": "08832f37",
   "metadata": {},
   "outputs": [],
   "source": [
    "def square_sum(x,y):\n",
    "    sum=x+y\n",
    "    result=sum**2\n",
    "    print(f\"({x}+{y})^2 :\",result)"
   ]
  },
  {
   "cell_type": "code",
   "execution_count": 94,
   "id": "b6cca78d",
   "metadata": {},
   "outputs": [
    {
     "name": "stdout",
     "output_type": "stream",
     "text": [
      "(5+8)^2 : 169\n"
     ]
    }
   ],
   "source": [
    "square_sum(5,8)"
   ]
  },
  {
   "cell_type": "code",
   "execution_count": 95,
   "id": "821dc935",
   "metadata": {},
   "outputs": [
    {
     "name": "stdout",
     "output_type": "stream",
     "text": [
      "(4+3)^2 : 49\n"
     ]
    }
   ],
   "source": [
    "square_sum(4,3)"
   ]
  },
  {
   "cell_type": "markdown",
   "id": "5d36e0d8",
   "metadata": {},
   "source": [
    "# 39. \n",
    "- Write a Python program to compute the future value of a specified principal amount, rate of interest, and number of years.\n",
    "- Test Data : amt = 10000, int = 3.5, years = 7"
   ]
  },
  {
   "cell_type": "code",
   "execution_count": 101,
   "id": "e7faca39",
   "metadata": {},
   "outputs": [
    {
     "name": "stdout",
     "output_type": "stream",
     "text": [
      "12722.79\n"
     ]
    }
   ],
   "source": [
    "amt=10000\n",
    "int=3.5\n",
    "years=7\n",
    "\n",
    "future_value=amt*(1+(0.01*int))**years\n",
    "print(round(future_value,2))"
   ]
  },
  {
   "cell_type": "markdown",
   "id": "8ce50bbd",
   "metadata": {},
   "source": [
    "# 40. \n",
    "- Write a Python program to calculate the distance between the points (x1, y1) and (x2, y2).\n"
   ]
  },
  {
   "cell_type": "code",
   "execution_count": 107,
   "id": "74bd291b",
   "metadata": {},
   "outputs": [
    {
     "name": "stdout",
     "output_type": "stream",
     "text": [
      "4.123\n"
     ]
    }
   ],
   "source": [
    "import math\n",
    "p1=[10,8]\n",
    "p2=[6,9]\n",
    "\n",
    "distance=math.sqrt((p1[0]-p2[0])**2 + (p1[1]-p2[1])**2)\n",
    "print(round(distance,3))"
   ]
  },
  {
   "cell_type": "markdown",
   "id": "b3191939",
   "metadata": {},
   "source": [
    "# 41.\n",
    "- Write a Python program to check whether a file exists."
   ]
  },
  {
   "cell_type": "code",
   "execution_count": 117,
   "id": "e193f72c",
   "metadata": {},
   "outputs": [
    {
     "data": {
      "text/plain": [
       "False"
      ]
     },
     "execution_count": 117,
     "metadata": {},
     "output_type": "execute_result"
    }
   ],
   "source": [
    "import os.path\n",
    "os.path.isfile(\"file.csv\")\n",
    "     "
   ]
  },
  {
   "cell_type": "markdown",
   "id": "ac1f8586",
   "metadata": {},
   "source": [
    "# 42.\n",
    "- Write a Python program to determine if a Python shell is executing in 32bit or 64bit mode on OS."
   ]
  },
  {
   "cell_type": "code",
   "execution_count": 125,
   "id": "76a7ed1b",
   "metadata": {},
   "outputs": [
    {
     "data": {
      "text/plain": [
       "('64bit', 'WindowsPE')"
      ]
     },
     "execution_count": 125,
     "metadata": {},
     "output_type": "execute_result"
    }
   ],
   "source": [
    "import platform\n",
    "platform.architecture()"
   ]
  },
  {
   "cell_type": "code",
   "execution_count": 135,
   "id": "46e2c651",
   "metadata": {},
   "outputs": [
    {
     "name": "stdout",
     "output_type": "stream",
     "text": [
      "64\n"
     ]
    }
   ],
   "source": [
    "import struct\n",
    "print(struct.calcsize(\"P\") * 8)"
   ]
  },
  {
   "cell_type": "markdown",
   "id": "0528c62b",
   "metadata": {},
   "source": [
    "# 43.\n",
    "- Write a Python program to get OS name, platform and release information."
   ]
  },
  {
   "cell_type": "code",
   "execution_count": 136,
   "id": "d1842cf1",
   "metadata": {},
   "outputs": [],
   "source": [
    "import platform\n",
    "import os\n"
   ]
  },
  {
   "cell_type": "code",
   "execution_count": 141,
   "id": "1a80bfbe",
   "metadata": {},
   "outputs": [
    {
     "name": "stdout",
     "output_type": "stream",
     "text": [
      "Operating System name :  nt\n",
      "Os system : Windows\n",
      "system version : 10\n"
     ]
    }
   ],
   "source": [
    "print(\"Operating System name : \",os.name)\n",
    "print(\"Os system :\",platform.system())\n",
    "print(\"system version :\",platform.release())"
   ]
  },
  {
   "cell_type": "markdown",
   "id": "21732d62",
   "metadata": {},
   "source": [
    "# 44. \n",
    "- Write a Python program to locate Python site packages."
   ]
  },
  {
   "cell_type": "code",
   "execution_count": 142,
   "id": "62340f61",
   "metadata": {},
   "outputs": [
    {
     "data": {
      "text/plain": [
       "['C:\\\\Users\\\\madhu\\\\anaconda3',\n",
       " 'C:\\\\Users\\\\madhu\\\\anaconda3\\\\lib\\\\site-packages']"
      ]
     },
     "execution_count": 142,
     "metadata": {},
     "output_type": "execute_result"
    }
   ],
   "source": [
    "import site\n",
    "site.getsitepackages()"
   ]
  },
  {
   "cell_type": "markdown",
   "id": "85e776e0",
   "metadata": {},
   "source": [
    "# 45.\n",
    "- Write a Python program that calls an external command."
   ]
  },
  {
   "cell_type": "code",
   "execution_count": null,
   "id": "5cdb052a",
   "metadata": {},
   "outputs": [],
   "source": []
  },
  {
   "cell_type": "code",
   "execution_count": null,
   "id": "10158bd6",
   "metadata": {},
   "outputs": [],
   "source": []
  },
  {
   "cell_type": "code",
   "execution_count": null,
   "id": "25aeb197",
   "metadata": {},
   "outputs": [],
   "source": []
  }
 ],
 "metadata": {
  "kernelspec": {
   "display_name": "Python 3 (ipykernel)",
   "language": "python",
   "name": "python3"
  },
  "language_info": {
   "codemirror_mode": {
    "name": "ipython",
    "version": 3
   },
   "file_extension": ".py",
   "mimetype": "text/x-python",
   "name": "python",
   "nbconvert_exporter": "python",
   "pygments_lexer": "ipython3",
   "version": "3.10.9"
  }
 },
 "nbformat": 4,
 "nbformat_minor": 5
}
