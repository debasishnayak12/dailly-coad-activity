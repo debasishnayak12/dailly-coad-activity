{
 "cells": [
  {
   "cell_type": "code",
   "execution_count": 65,
   "id": "2aa3da59-7ab9-45d1-adbc-1391c3bf9d59",
   "metadata": {},
   "outputs": [],
   "source": [
    "import requests\n",
    "import logging\n",
    "import os\n",
    "from bs4 import BeautifulSoup\n",
    "from urllib.request import urlopen"
   ]
  },
  {
   "cell_type": "code",
   "execution_count": 66,
   "id": "cf111e05-f476-44cf-a453-e990cc3242e7",
   "metadata": {},
   "outputs": [],
   "source": [
    "save_dir=\"image\"\n",
    "if not os.path.exists(save_dir):\n",
    "    os.makedirs(save_dir)"
   ]
  },
  {
   "cell_type": "code",
   "execution_count": 67,
   "id": "4895d054-60b7-474a-9889-7089df2eb34e",
   "metadata": {},
   "outputs": [],
   "source": [
    "query=\"amita bachhan \""
   ]
  },
  {
   "cell_type": "code",
   "execution_count": 68,
   "id": "2a77ff72-4490-46fe-8d5a-9b8018e01d8b",
   "metadata": {},
   "outputs": [
    {
     "data": {
      "text/plain": [
       "<Response [200]>"
      ]
     },
     "execution_count": 68,
     "metadata": {},
     "output_type": "execute_result"
    }
   ],
   "source": [
    "response=requests.get(f\"https://www.google.com/search?q={query}&tbm=isch&sxsrf=AB5stBgJdiogB-tGHIsoxTk8raL9pgxghQ:1690958988921&source=lnms&sa=X&ved=2ahUKEwis2vSOsb2AAxWhxzgGHf4mCbQQ0pQJegQIAhAG&biw=1280&bih=595&dpr=1.5\")\n",
    "response"
   ]
  },
  {
   "cell_type": "code",
   "execution_count": 69,
   "id": "8b322626-29fc-4ac4-8bfa-c7f376ff8c0d",
   "metadata": {},
   "outputs": [
    {
     "data": {
      "text/plain": [
       "<!DOCTYPE html PUBLIC \"-//WAPFORUM//DTD XHTML Mobile 1.0//EN\" \"http://www.wapforum.org/DTD/xhtml-mobile10.dtd\">\n",
       "<html lang=\"en-IN\" xmlns=\"http://www.w3.org/1999/xhtml\"><head><meta content=\"application/xhtml+xml; charset=utf-8\" http-equiv=\"Content-Type\"/><meta content=\"no-cache\" name=\"Cache-Control\"/><title>amita bachhan - Google Search</title><style>a{text-decoration:none;color:inherit}a:hover{text-decoration:underline}a img{border:0}body{font-family:arial,sans-serif;padding:8px;margin:0 auto;max-width:700px;min-width:240px;}.FbhRzb{border-left:thin solid #dadce0;border-right:thin solid #dadce0;border-top:thin solid #dadce0;height:40px;overflow:hidden}.n692Zd{margin-bottom:10px}.cvifge{height:40px;border-spacing:0}.QvGUP{height:40px;padding:0 8px 0 8px;vertical-align:top}.O4cRJf{height:40px;width:100%;padding:0;padding-right:16px}.O1ePr{height:40px;padding:0;vertical-align:top}.kgJEQe{height:36px;width:98px;vertical-align:top;margin-top:4px}.lXLRf{vertical-align:top}.MhzMZd{border:0;vertical-align:middle;font-size:14px;height:40px;padding:0;width:100%;padding-left:16px}.xB0fq{height:40px;border:none;font-size:14px;background-color:#1a73e8;color:#fff;padding:0 16px;margin:0;vertical-align:top;cursor:pointer}.xB0fq:focus{border:1px solid #1a73e8}.M7pB2{border:thin solid #dadce0;margin:0 0 3px 0;font-size:13px;font-weight:500;height:40px}.euZec{width:100%;height:40px;text-align:center;border-spacing:0}table.euZec td{padding:0;width:25%}.QIqI7{display:inline-block;padding-top:4px;font-weight:bold;color:#4285f4}.EY24We{border-bottom:2px solid #4285f4}.CsQyDc{display:inline-block;color:#70757a}.TuS8Ad{font-size:14px}.HddGcc{padding:8px;color:#70757a}.dzp8ae{font-weight:bold;color:#3c4043}.rEM8G{color:#70757a}.bookcf{table-layout:fixed;width:100%;border-spacing:0}.InWNIe{text-align:center}.uZgmoc{border:thin solid #dadce0;color:#70757a;font-size:14px;text-align:center;table-layout:fixed;width:100%}.frGj1b{display:block;padding:12px 0 12px 0;width:100%}.BnJWBc{text-align:center;padding:6px 0 13px 0;height:35px}.e3goi{vertical-align:top;padding:0;height:180px}.GpQGbf{margin:auto;border-collapse:collapse;border-spacing:0;width:100%}</style></head><body><style>.X6ZCif{color:#202124;font-size:11px;line-height:16px;display:inline-block;padding-top:2px;overflow:hidden;padding-bottom:4px;width:100%}.TwVfHd{border-radius:16px;border:thin solid #dadce0;display:inline-block;padding:8px 8px;margin-right:8px;margin-bottom:4px}.yekiAe{background-color:#dadce0}.ezO2md{border:thin solid #dadce0;padding:12px 16px 12px 16px;margin-bottom:10px;font-family:arial,sans-serif}.lIMUZd{font-family:arial,sans-serif}.kk667b{padding-bottom:12px}.Mw6wOc{width:100%;border-spacing:0}.fBgPuf{padding-bottom:12px}.K3JWGf{display:block;float:right;padding-left:16px;max-width:72px;max-height:72px}.CSfvHb{padding-bottom:8px}.fYyStc{word-break:break-word}.ynsChf{display:block;white-space:nowrap;overflow:hidden;text-overflow:ellipsis}.Fj3V3b{color:#1967d2;font-size:14px;line-height:20px}.FrIlee{color:#202124;font-size:11px;line-height:16px}.F9iS2e{color:#70757a;font-size:11px;line-height:16px}.WMQ2Le{color:#70757a;font-size:12px;line-height:16px}.x3G5ab{color:#202124;font-size:12px;line-height:16px}.fuLhoc{color:#1967d2;font-size:16px;line-height:20px}.epoveb{font-size:24px;line-height:28px;font-weight:400;color:#202124}.dXDvrc{color:#0d652d;font-size:14px;line-height:20px;word-wrap:break-word}.dloBPe{font-weight:bold}.YVIcad{color:#70757a}.JkVVdd{color:#ea4335}.oXZRFd{color:#ea4335}.MQHtg{color:#fbbc04}.pyMRrb{color:#1e8e3e}.EtTZid{color:#1e8e3e}.M3vVJe{color:#1967d2}.qXLe6d{display:block}.NHQNef{font-style:italic}.Cb8Z7c{white-space:pre}a.ZWRArf{text-decoration:none}a .CVA68e:hover{text-decoration:underline}.mnTahd{width:100%}.IkMU6e{border-spacing:0}.SjCsie{width:100%}.EnarA{text-align:center}.NZWO1b{width:162px;height:140px;line-height:140px;overflow:'hidden';text-align:center}.yWs4tf{text-align:center;margin:auto;vertical-align:middle;max-width:162px;max-height:140px}.jB2rPd{padding-top:2px;padding-bottom:8px;}</style><div class=\"n692Zd\"><div class=\"BnJWBc\"><a class=\"lXLRf\" href=\"/?sa=X&amp;biw=1280&amp;bih=595&amp;output=images&amp;ie=UTF-8&amp;tbm=isch&amp;ved=0ahUKEwj5ku7ek76AAxVz3TgGHcJrCKAQPAgC\"><img alt=\"Google\" class=\"kgJEQe\" src=\"/images/branding/searchlogo/1x/googlelogo_desk_heirloom_color_150x55dp.gif\"/></a></div><div class=\"FbhRzb\"><form action=\"/search\"><input name=\"biw\" type=\"hidden\" value=\"1280\"/><input name=\"bih\" type=\"hidden\" value=\"595\"/><input name=\"ie\" type=\"hidden\" value=\"ISO-8859-1\"/><input name=\"tbm\" type=\"hidden\" value=\"isch\"/><input name=\"oq\" type=\"hidden\"/><input name=\"aqs\" type=\"hidden\"/><table class=\"cvifge\"><tr><td class=\"O4cRJf\"><input class=\"MhzMZd\" name=\"q\" type=\"text\" value=\"amita bachhan\"/></td><td class=\"O1ePr\"><input class=\"xB0fq\" type=\"submit\" value=\"Search\"/></td></tr></table></form></div><div class=\"M7pB2\"><table class=\"euZec\"><tbody><tr><td><a class=\"CsQyDc\" href=\"/search?q=amitabh+bachchan&amp;biw=1280&amp;bih=595&amp;ie=UTF-8&amp;source=lnms&amp;sa=X&amp;ved=0ahUKEwj5ku7ek76AAxVz3TgGHcJrCKAQ_AUIBCgA\">ALL</a></td><td><a class=\"CsQyDc\" href=\"/search?q=amitabh+bachchan&amp;biw=1280&amp;bih=595&amp;ie=UTF-8&amp;tbm=nws&amp;source=lnms&amp;sa=X&amp;ved=0ahUKEwj5ku7ek76AAxVz3TgGHcJrCKAQ_AUIBSgB\">NEWS</a></td><td class=\"EY24We\"><span class=\"QIqI7\">IMAGES</span></td><td><a class=\"CsQyDc\" href=\"/search?q=amitabh+bachchan&amp;biw=1280&amp;bih=595&amp;ie=UTF-8&amp;tbm=vid&amp;source=lnms&amp;sa=X&amp;ved=0ahUKEwj5ku7ek76AAxVz3TgGHcJrCKAQ_AUIBygD\">VIDEOS</a></td></tr></tbody></table></div></div><div class=\"X6ZCif\"><a class=\"TwVfHd\" href=\"/search?biw=1280&amp;bih=595&amp;ie=UTF-8&amp;tbm=isch&amp;q=amitabh+bachchan&amp;chips=q:amitabh+bachchan,g_1:jaya+bachchan&amp;sa=X&amp;ved=0ahUKEwj5ku7ek76AAxVz3TgGHcJrCKAQ4lYICygA\">jaya bachchan</a><a class=\"TwVfHd\" href=\"/search?biw=1280&amp;bih=595&amp;ie=UTF-8&amp;tbm=isch&amp;q=amitabh+bachchan&amp;chips=q:amitabh+bachchan,g_1:wallpaper&amp;sa=X&amp;ved=0ahUKEwj5ku7ek76AAxVz3TgGHcJrCKAQ4lYIDCgB\">wallpaper</a><a class=\"TwVfHd\" href=\"/search?biw=1280&amp;bih=595&amp;ie=UTF-8&amp;tbm=isch&amp;q=amitabh+bachchan&amp;chips=q:amitabh+bachchan,g_1:old&amp;sa=X&amp;ved=0ahUKEwj5ku7ek76AAxVz3TgGHcJrCKAQ4lYIDSgC\">old</a><a class=\"TwVfHd\" href=\"/search?biw=1280&amp;bih=595&amp;ie=UTF-8&amp;tbm=isch&amp;q=amitabh+bachchan&amp;chips=q:amitabh+bachchan,g_1:abhishek+bachchan&amp;sa=X&amp;ved=0ahUKEwj5ku7ek76AAxVz3TgGHcJrCKAQ4lYIDigD\">abhishek bachchan</a><a class=\"TwVfHd\" href=\"/search?biw=1280&amp;bih=595&amp;ie=UTF-8&amp;tbm=isch&amp;q=amitabh+bachchan&amp;chips=q:amitabh+bachchan,g_1:house&amp;sa=X&amp;ved=0ahUKEwj5ku7ek76AAxVz3TgGHcJrCKAQ4lYIDygE\">house</a><a class=\"TwVfHd\" href=\"/search?biw=1280&amp;bih=595&amp;ie=UTF-8&amp;tbm=isch&amp;q=amitabh+bachchan&amp;chips=q:amitabh+bachchan,g_1:actor&amp;sa=X&amp;ved=0ahUKEwj5ku7ek76AAxVz3TgGHcJrCKAQ4lYIECgF\">actor</a><a class=\"TwVfHd\" href=\"/search?biw=1280&amp;bih=595&amp;ie=UTF-8&amp;tbm=isch&amp;q=amitabh+bachchan&amp;chips=q:amitabh+bachchan,g_1:childhood&amp;sa=X&amp;ved=0ahUKEwj5ku7ek76AAxVz3TgGHcJrCKAQ4lYIESgG\">childhood</a><a class=\"TwVfHd\" href=\"/search?biw=1280&amp;bih=595&amp;ie=UTF-8&amp;tbm=isch&amp;q=amitabh+bachchan&amp;chips=q:amitabh+bachchan,g_1:movie&amp;sa=X&amp;ved=0ahUKEwj5ku7ek76AAxVz3TgGHcJrCKAQ4lYIEigH\">movie</a><a class=\"TwVfHd\" href=\"/search?biw=1280&amp;bih=595&amp;ie=UTF-8&amp;tbm=isch&amp;q=amitabh+bachchan&amp;chips=q:amitabh+bachchan,g_1:daughter&amp;sa=X&amp;ved=0ahUKEwj5ku7ek76AAxVz3TgGHcJrCKAQ4lYIEygI\">daughter</a><a class=\"TwVfHd\" href=\"/search?biw=1280&amp;bih=595&amp;ie=UTF-8&amp;tbm=isch&amp;q=amitabh+bachchan&amp;chips=q:amitabh+bachchan,g_1:don&amp;sa=X&amp;ved=0ahUKEwj5ku7ek76AAxVz3TgGHcJrCKAQ4lYIFCgJ\">don</a></div><div><div> <div> <div class=\"lIMUZd\"><div><table class=\"Mw6wOc\"><tbody><tr><td><div> <div> <span class=\"qXLe6d F9iS2e\"> <span class=\"fYyStc\">Showing results for </span> <a class=\"dloBPe M3vVJe\" href=\"/search?biw=1280&amp;bih=595&amp;ie=UTF-8&amp;tbm=isch&amp;q=amitabh+bachchan&amp;spell=1&amp;sa=X&amp;ved=2ahUKEwj5ku7ek76AAxVz3TgGHcJrCKAQvwV6BAgUEAE\">amitabh bachchan</a> <span class=\"fYyStc\">\n",
       "</span> <span class=\"fYyStc\">Search instead for </span> <a class=\"M3vVJe\" href=\"/search?biw=1280&amp;bih=595&amp;ie=UTF-8&amp;tbm=isch&amp;q=amita+bachhan&amp;nfpr=1&amp;sa=X&amp;ved=2ahUKEwj5ku7ek76AAxVz3TgGHcJrCKAQvgV6BAgUEAI\">amita bachhan</a> </span> </div> </div></td></tr></tbody></table></div></div> </div> </div><table class=\"GpQGbf\"><tr><td align=\"center\" class=\"e3goi\"><div class=\"mnTahd\"> <div> <div class=\"lIMUZd\"><div><table class=\"IkMU6e\"><tr><td><a href=\"/url?q=https://www.imdb.com/name/nm0000821/&amp;sa=U&amp;ved=2ahUKEwj5ku7ek76AAxVz3TgGHcJrCKAQqoUBegQIBxAB&amp;usg=AOvVaw3oJYr4Bk15xvi381NNN8J5\"><div class=\"NZWO1b\"><img alt=\"\" class=\"yWs4tf\" src=\"https://encrypted-tbn0.gstatic.com/images?q=tbn:ANd9GcQWvy9YvHIyHFFT--SjGswi-ZIw3G9asKkc9ig4uGjDS-qbV1orjfCC9i53-w&amp;s\"/></div></a></td></tr><tr><td><a href=\"/url?q=https://www.imdb.com/name/nm0000821/&amp;sa=U&amp;ved=2ahUKEwj5ku7ek76AAxVz3TgGHcJrCKAQr4kDegQIBxAC&amp;usg=AOvVaw1GPDbxItDtCFFCXmH5QLn_\"><div class=\"jB2rPd\"> <span class=\"qXLe6d x3G5ab\"> <span class=\"fYyStc\">Amitabh Bachchan - IMDb</span> </span> <span class=\"qXLe6d F9iS2e\"> <span class=\"fYyStc\">www.imdb.com</span> </span> </div></a></td></tr></table></div></div> </div> </div></td><td align=\"center\" class=\"e3goi\"><div class=\"mnTahd\"> <div> <div class=\"lIMUZd\"><div><table class=\"IkMU6e\"><tr><td><a href=\"/url?q=https://www.britannica.com/biography/Amitabh-Bachchan&amp;sa=U&amp;ved=2ahUKEwj5ku7ek76AAxVz3TgGHcJrCKAQqoUBegQIEhAB&amp;usg=AOvVaw3czV8mxBppGggRnbpKFyeM\"><div class=\"NZWO1b\"><img alt=\"\" class=\"yWs4tf\" src=\"https://encrypted-tbn0.gstatic.com/images?q=tbn:ANd9GcReLbi-f1Gy56BiWuvfUM5TNT23XuQq_8yha6qiO7E-M8gjk638jpY8gxKDdw&amp;s\"/></div></a></td></tr><tr><td><a href=\"/url?q=https://www.britannica.com/biography/Amitabh-Bachchan&amp;sa=U&amp;ved=2ahUKEwj5ku7ek76AAxVz3TgGHcJrCKAQr4kDegQIEhAC&amp;usg=AOvVaw02yHyKeyU09TM_mcL7sy8i\"><div class=\"jB2rPd\"> <span class=\"qXLe6d x3G5ab\"> <span class=\"fYyStc\">Amitabh Bachchan |...</span> </span> <span class=\"qXLe6d F9iS2e\"> <span class=\"fYyStc\">www.britannica.com</span> </span> </div></a></td></tr></table></div></div> </div> </div></td><td align=\"center\" class=\"e3goi\"><div class=\"mnTahd\"> <div> <div class=\"lIMUZd\"><div><table class=\"IkMU6e\"><tr><td><a href=\"/url?q=https://en.wikipedia.org/wiki/Amitabh_Bachchan&amp;sa=U&amp;ved=2ahUKEwj5ku7ek76AAxVz3TgGHcJrCKAQqoUBegQIExAB&amp;usg=AOvVaw2ez3p3fH4U7tC1mtrlZjx7\"><div class=\"NZWO1b\"><img alt=\"\" class=\"yWs4tf\" src=\"https://encrypted-tbn0.gstatic.com/images?q=tbn:ANd9GcTIKlEueA9GWKImKOvLr8iDBvsoaAgUrwPraEt1JD8aNvJuYEULYs5gDRlUQg&amp;s\"/></div></a></td></tr><tr><td><a href=\"/url?q=https://en.wikipedia.org/wiki/Amitabh_Bachchan&amp;sa=U&amp;ved=2ahUKEwj5ku7ek76AAxVz3TgGHcJrCKAQr4kDegQIExAC&amp;usg=AOvVaw2mGDwQpIjJ_o5F7N0_ndIg\"><div class=\"jB2rPd\"> <span class=\"qXLe6d x3G5ab\"> <span class=\"fYyStc\">Amitabh Bachchan -...</span> </span> <span class=\"qXLe6d F9iS2e\"> <span class=\"fYyStc\">en.wikipedia.org</span> </span> </div></a></td></tr></table></div></div> </div> </div></td><td align=\"center\" class=\"e3goi\"><div class=\"mnTahd\"> <div> <div class=\"lIMUZd\"><div><table class=\"IkMU6e\"><tr><td><a href=\"/url?q=https://in.bookmyshow.com/person/amitabh-bachchan/138&amp;sa=U&amp;ved=2ahUKEwj5ku7ek76AAxVz3TgGHcJrCKAQqoUBegQIDxAB&amp;usg=AOvVaw1m-xrXFEs_6j8WixawByYH\"><div class=\"NZWO1b\"><img alt=\"\" class=\"yWs4tf\" src=\"https://encrypted-tbn0.gstatic.com/images?q=tbn:ANd9GcQFkxylHmgG0nKpMZrwEHO5DN1NGfcHJPcF7BEpUlFDF5NkqDFlVXxb65SMBTg&amp;s\"/></div></a></td></tr><tr><td><a href=\"/url?q=https://in.bookmyshow.com/person/amitabh-bachchan/138&amp;sa=U&amp;ved=2ahUKEwj5ku7ek76AAxVz3TgGHcJrCKAQr4kDegQIDxAC&amp;usg=AOvVaw3Q1YocV6KgZNf6JnJQl4Zj\"><div class=\"jB2rPd\"> <span class=\"qXLe6d x3G5ab\"> <span class=\"fYyStc\">Amitabh Bachchan - Movies,...</span> </span> <span class=\"qXLe6d F9iS2e\"> <span class=\"fYyStc\">in.bookmyshow.com</span> </span> </div></a></td></tr></table></div></div> </div> </div></td></tr><tr><td align=\"center\" class=\"e3goi\"><div class=\"mnTahd\"> <div> <div class=\"lIMUZd\"><div><table class=\"IkMU6e\"><tr><td><a href=\"/url?q=https://simple.wikipedia.org/wiki/Amitabh_Bachchan&amp;sa=U&amp;ved=2ahUKEwj5ku7ek76AAxVz3TgGHcJrCKAQqoUBegQIChAB&amp;usg=AOvVaw02MTxyE_WnSgzuuuIWjhs3\"><div class=\"NZWO1b\"><img alt=\"\" class=\"yWs4tf\" src=\"https://encrypted-tbn0.gstatic.com/images?q=tbn:ANd9GcQwupKp2FFqx1xozH2S2tbpWcaNr0zauGm4cX5_gih4coLBH8sCDpw_pyq5BM0&amp;s\"/></div></a></td></tr><tr><td><a href=\"/url?q=https://simple.wikipedia.org/wiki/Amitabh_Bachchan&amp;sa=U&amp;ved=2ahUKEwj5ku7ek76AAxVz3TgGHcJrCKAQr4kDegQIChAC&amp;usg=AOvVaw3jSFMrsejyxhkhsd7j0DUm\"><div class=\"jB2rPd\"> <span class=\"qXLe6d x3G5ab\"> <span class=\"fYyStc\">Amitabh Bachchan - Simple...</span> </span> <span class=\"qXLe6d F9iS2e\"> <span class=\"fYyStc\">simple.wikipedia.org</span> </span> </div></a></td></tr></table></div></div> </div> </div></td><td align=\"center\" class=\"e3goi\"><div class=\"mnTahd\"> <div> <div class=\"lIMUZd\"><div><table class=\"IkMU6e\"><tr><td><a href=\"/url?q=https://www.news18.com/news/movies/on-amitabh-bachchans-80th-birthday-80-facts-about-the-shahenshah-of-bollywood-6138511.html&amp;sa=U&amp;ved=2ahUKEwj5ku7ek76AAxVz3TgGHcJrCKAQqoUBegQIERAB&amp;usg=AOvVaw0FMEatyNCIgUVO38lRjPAV\"><div class=\"NZWO1b\"><img alt=\"\" class=\"yWs4tf\" src=\"https://encrypted-tbn0.gstatic.com/images?q=tbn:ANd9GcQ2YMBy8EynmU8fJ_E8TMv8NMX_YdoS1gvQJm0WL7OnTo2F7jaZ5UZn1z14bzQ&amp;s\"/></div></a></td></tr><tr><td><a href=\"/url?q=https://www.news18.com/news/movies/on-amitabh-bachchans-80th-birthday-80-facts-about-the-shahenshah-of-bollywood-6138511.html&amp;sa=U&amp;ved=2ahUKEwj5ku7ek76AAxVz3TgGHcJrCKAQr4kDegQIERAC&amp;usg=AOvVaw3vfZnn_FAWbEiriOJmdY2H\"><div class=\"jB2rPd\"> <span class=\"qXLe6d x3G5ab\"> <span class=\"fYyStc\">On Amitabh Bachchan's 80th...</span> </span> <span class=\"qXLe6d F9iS2e\"> <span class=\"fYyStc\">www.news18.com</span> </span> </div></a></td></tr></table></div></div> </div> </div></td><td align=\"center\" class=\"e3goi\"><div class=\"mnTahd\"> <div> <div class=\"lIMUZd\"><div><table class=\"IkMU6e\"><tr><td><a href=\"/url?q=https://www.indiatoday.in/movies/celebrities/story/amitabh-bachchans-old-tweet-about-bra-panties-goes-viral-ask-this-in-kbc-says-internet-2412353-2023-07-27&amp;sa=U&amp;ved=2ahUKEwj5ku7ek76AAxVz3TgGHcJrCKAQqoUBegQICxAB&amp;usg=AOvVaw1xcC0R9PDxQZXd2tZRY0-W\"><div class=\"NZWO1b\"><img alt=\"\" class=\"yWs4tf\" src=\"https://encrypted-tbn0.gstatic.com/images?q=tbn:ANd9GcQXwk2r_ZXBBSliNdrHWox9dPrLGzxJLbEs5Z5IheAHhzocpiZA0Rcaj18mwWo&amp;s\"/></div></a></td></tr><tr><td><a href=\"/url?q=https://www.indiatoday.in/movies/celebrities/story/amitabh-bachchans-old-tweet-about-bra-panties-goes-viral-ask-this-in-kbc-says-internet-2412353-2023-07-27&amp;sa=U&amp;ved=2ahUKEwj5ku7ek76AAxVz3TgGHcJrCKAQr4kDegQICxAC&amp;usg=AOvVaw2BjpGgnPxI5ik1NSAlGAnQ\"><div class=\"jB2rPd\"> <span class=\"qXLe6d x3G5ab\"> <span class=\"fYyStc\">Amitabh Bachchan's old...</span> </span> <span class=\"qXLe6d F9iS2e\"> <span class=\"fYyStc\">www.indiatoday.in</span> </span> </div></a></td></tr></table></div></div> </div> </div></td><td align=\"center\" class=\"e3goi\"><div class=\"mnTahd\"> <div> <div class=\"lIMUZd\"><div><table class=\"IkMU6e\"><tr><td><a href=\"/url?q=https://www.gadgets360.com/entertainment/actor/amitabh-bachchan&amp;sa=U&amp;ved=2ahUKEwj5ku7ek76AAxVz3TgGHcJrCKAQqoUBegQIDhAB&amp;usg=AOvVaw1WyBUh6MD85WjeHlLAhC31\"><div class=\"NZWO1b\"><img alt=\"\" class=\"yWs4tf\" src=\"https://encrypted-tbn0.gstatic.com/images?q=tbn:ANd9GcTc3YW3biyTv_xyUd1zmt9VAvQFtXMpnkKo8Rv5xkB8x82MbiXZ-Huwg_8FTU0&amp;s\"/></div></a></td></tr><tr><td><a href=\"/url?q=https://www.gadgets360.com/entertainment/actor/amitabh-bachchan&amp;sa=U&amp;ved=2ahUKEwj5ku7ek76AAxVz3TgGHcJrCKAQr4kDegQIDhAC&amp;usg=AOvVaw2cjsbvuV44Quj-if6ZJaCF\"><div class=\"jB2rPd\"> <span class=\"qXLe6d x3G5ab\"> <span class=\"fYyStc\">Amitabh Bachchan Movies:...</span> </span> <span class=\"qXLe6d F9iS2e\"> <span class=\"fYyStc\">www.gadgets360.com</span> </span> </div></a></td></tr></table></div></div> </div> </div></td></tr><tr><td align=\"center\" class=\"e3goi\"><div class=\"mnTahd\"> <div> <div class=\"lIMUZd\"><div><table class=\"IkMU6e\"><tr><td><a href=\"/url?q=https://lehren.com/entertainment/bollywood/when-amitabh-bachchan-announced-break-from-cinematic-career/149839/&amp;sa=U&amp;ved=2ahUKEwj5ku7ek76AAxVz3TgGHcJrCKAQqoUBegQIDRAB&amp;usg=AOvVaw2jSIJA0mhjAJTd5TosQe9-\"><div class=\"NZWO1b\"><img alt=\"\" class=\"yWs4tf\" src=\"https://encrypted-tbn0.gstatic.com/images?q=tbn:ANd9GcSlTiWQrsMunMMZl74ZiKEbFl3IZ_iGUGuRQagruSmAH9yWfyuRzJVR4fONOhI&amp;s\"/></div></a></td></tr><tr><td><a href=\"/url?q=https://lehren.com/entertainment/bollywood/when-amitabh-bachchan-announced-break-from-cinematic-career/149839/&amp;sa=U&amp;ved=2ahUKEwj5ku7ek76AAxVz3TgGHcJrCKAQr4kDegQIDRAC&amp;usg=AOvVaw0nQCy4eQGRTGLtvXUrKix6\"><div class=\"jB2rPd\"> <span class=\"qXLe6d x3G5ab\"> <span class=\"fYyStc\">When Amitabh Bachchan...</span> </span> <span class=\"qXLe6d F9iS2e\"> <span class=\"fYyStc\">lehren.com</span> </span> </div></a></td></tr></table></div></div> </div> </div></td><td align=\"center\" class=\"e3goi\"><div class=\"mnTahd\"> <div> <div class=\"lIMUZd\"><div><table class=\"IkMU6e\"><tr><td><a href=\"/url?q=https://m.timesofindia.com/entertainment/hindi/bollywood/news/amitabh-bachchan-opens-up-on-having-5-releases-in-2022/articleshow/94037898.cms&amp;sa=U&amp;ved=2ahUKEwj5ku7ek76AAxVz3TgGHcJrCKAQqoUBegQICRAB&amp;usg=AOvVaw0vTTpZmlQrCiDWUbgNrC5w\"><div class=\"NZWO1b\"><img alt=\"\" class=\"yWs4tf\" src=\"https://encrypted-tbn0.gstatic.com/images?q=tbn:ANd9GcS-PTSrpqDXd8x-VXW1bESEgPr4BLx7z2JEamg1qjcSkDHxEaembnI8nYxh-WU&amp;s\"/></div></a></td></tr><tr><td><a href=\"/url?q=https://m.timesofindia.com/entertainment/hindi/bollywood/news/amitabh-bachchan-opens-up-on-having-5-releases-in-2022/articleshow/94037898.cms&amp;sa=U&amp;ved=2ahUKEwj5ku7ek76AAxVz3TgGHcJrCKAQr4kDegQICRAC&amp;usg=AOvVaw3gSclG209TjCfuhnd2xJcg\"><div class=\"jB2rPd\"> <span class=\"qXLe6d x3G5ab\"> <span class=\"fYyStc\">Amitabh Bachchan opens up...</span> </span> <span class=\"qXLe6d F9iS2e\"> <span class=\"fYyStc\">m.timesofindia.com</span> </span> </div></a></td></tr></table></div></div> </div> </div></td><td align=\"center\" class=\"e3goi\"><div class=\"mnTahd\"> <div> <div class=\"lIMUZd\"><div><table class=\"IkMU6e\"><tr><td><a href=\"/url?q=https://www.telegraphindia.com/entertainment/11-amitabh-bachchan-classics-at-cinemas-to-mark-his-80th-birthday-heres-a-ready-reckoner/cid/1890855&amp;sa=U&amp;ved=2ahUKEwj5ku7ek76AAxVz3TgGHcJrCKAQqoUBegQIEBAB&amp;usg=AOvVaw3Inqwh7AQP-AVgu3qGD8c2\"><div class=\"NZWO1b\"><img alt=\"\" class=\"yWs4tf\" src=\"https://encrypted-tbn0.gstatic.com/images?q=tbn:ANd9GcQOpIVz7Pg8iQcne-ifcVRWSlrrdFUGZtLURIOogRqaxaUJLEYDGLioMMbRWA&amp;s\"/></div></a></td></tr><tr><td><a href=\"/url?q=https://www.telegraphindia.com/entertainment/11-amitabh-bachchan-classics-at-cinemas-to-mark-his-80th-birthday-heres-a-ready-reckoner/cid/1890855&amp;sa=U&amp;ved=2ahUKEwj5ku7ek76AAxVz3TgGHcJrCKAQr4kDegQIEBAC&amp;usg=AOvVaw0hnI5kLc2JdebVE3GvPf3M\"><div class=\"jB2rPd\"> <span class=\"qXLe6d x3G5ab\"> <span class=\"fYyStc\">Amitabh Bachchan | 11...</span> </span> <span class=\"qXLe6d F9iS2e\"> <span class=\"fYyStc\">www.telegraphindia.com</span> </span> </div></a></td></tr></table></div></div> </div> </div></td><td align=\"center\" class=\"e3goi\"><div class=\"mnTahd\"> <div> <div class=\"lIMUZd\"><div><table class=\"IkMU6e\"><tr><td><a href=\"/url?q=https://www.moneycontrol.com/news/trends/entertainment/why-we-still-flock-to-theatres-to-watch-amitabh-bachchan-on-the-big-screen-9507061.html&amp;sa=U&amp;ved=2ahUKEwj5ku7ek76AAxVz3TgGHcJrCKAQqoUBegQIDBAB&amp;usg=AOvVaw09gPtoQSckdnVNmpRYtw9Z\"><div class=\"NZWO1b\"><img alt=\"\" class=\"yWs4tf\" src=\"https://encrypted-tbn0.gstatic.com/images?q=tbn:ANd9GcT_MxvWsWXCqVuAEU8loaQfy1qPRAvpfHpimlM8rQ7rQj1HFsRqwqZdSU3gvg&amp;s\"/></div></a></td></tr><tr><td><a href=\"/url?q=https://www.moneycontrol.com/news/trends/entertainment/why-we-still-flock-to-theatres-to-watch-amitabh-bachchan-on-the-big-screen-9507061.html&amp;sa=U&amp;ved=2ahUKEwj5ku7ek76AAxVz3TgGHcJrCKAQr4kDegQIDBAC&amp;usg=AOvVaw3D_qnVbV_gNB1kMxEHTgO6\"><div class=\"jB2rPd\"> <span class=\"qXLe6d x3G5ab\"> <span class=\"fYyStc\">Why we still flock to...</span> </span> <span class=\"qXLe6d F9iS2e\"> <span class=\"fYyStc\">www.moneycontrol.com</span> </span> </div></a></td></tr></table></div></div> </div> </div></td></tr><tr><td align=\"center\" class=\"e3goi\"><div class=\"mnTahd\"> <div> <div class=\"lIMUZd\"><div><table class=\"IkMU6e\"><tr><td><a href=\"/url?q=https://www.jagranjosh.com/general-knowledge/amitabh-bachchan-biography-1594496838-1&amp;sa=U&amp;ved=2ahUKEwj5ku7ek76AAxVz3TgGHcJrCKAQqoUBegQIBRAB&amp;usg=AOvVaw1oMc_9J4pgzLR3W_01GIT6\"><div class=\"NZWO1b\"><img alt=\"\" class=\"yWs4tf\" src=\"https://encrypted-tbn0.gstatic.com/images?q=tbn:ANd9GcSse-k-n1mHVWrewqFcq82acFJLhjR1QG9YCHPG2VlZFuniO0xo3up0F5jiwKc&amp;s\"/></div></a></td></tr><tr><td><a href=\"/url?q=https://www.jagranjosh.com/general-knowledge/amitabh-bachchan-biography-1594496838-1&amp;sa=U&amp;ved=2ahUKEwj5ku7ek76AAxVz3TgGHcJrCKAQr4kDegQIBRAC&amp;usg=AOvVaw0MVChNbZ7ltcZUcZwo85pz\"><div class=\"jB2rPd\"> <span class=\"qXLe6d x3G5ab\"> <span class=\"fYyStc\">Amitabh Bachchan Biography:...</span> </span> <span class=\"qXLe6d F9iS2e\"> <span class=\"fYyStc\">www.jagranjosh.com</span> </span> </div></a></td></tr></table></div></div> </div> </div></td><td align=\"center\" class=\"e3goi\"><div class=\"mnTahd\"> <div> <div class=\"lIMUZd\"><div><table class=\"IkMU6e\"><tr><td><a href=\"/url?q=https://www.rottentomatoes.com/celebrity/amitabh_bachchan&amp;sa=U&amp;ved=2ahUKEwj5ku7ek76AAxVz3TgGHcJrCKAQqoUBegQIABAB&amp;usg=AOvVaw2lrHGfoW-cLmNxkcpxhLZj\"><div class=\"NZWO1b\"><img alt=\"\" class=\"yWs4tf\" src=\"https://encrypted-tbn0.gstatic.com/images?q=tbn:ANd9GcRE39u0MIevim3p7ofZSmm6NVguB7U02yosaShxKGaLElsNf8UChoRV85NyCA&amp;s\"/></div></a></td></tr><tr><td><a href=\"/url?q=https://www.rottentomatoes.com/celebrity/amitabh_bachchan&amp;sa=U&amp;ved=2ahUKEwj5ku7ek76AAxVz3TgGHcJrCKAQr4kDegQIABAC&amp;usg=AOvVaw2Z_V9kUgaCGs0Ke06TnDfc\"><div class=\"jB2rPd\"> <span class=\"qXLe6d x3G5ab\"> <span class=\"fYyStc\">Amitabh Bachchan - Rotten...</span> </span> <span class=\"qXLe6d F9iS2e\"> <span class=\"fYyStc\">www.rottentomatoes.com</span> </span> </div></a></td></tr></table></div></div> </div> </div></td><td align=\"center\" class=\"e3goi\"><div class=\"mnTahd\"> <div> <div class=\"lIMUZd\"><div><table class=\"IkMU6e\"><tr><td><a href=\"/url?q=https://www.bollywoodshaadis.com/articles/amitabh-bachchan-and-jaya-bachchan-shot-the-climax-scene-of-abhimaan-a-day-after-their-honeymoon-42651&amp;sa=U&amp;ved=2ahUKEwj5ku7ek76AAxVz3TgGHcJrCKAQqoUBegQIAxAB&amp;usg=AOvVaw0Tbeb2FMC3t2aB12c-iFmT\"><div class=\"NZWO1b\"><img alt=\"\" class=\"yWs4tf\" src=\"https://encrypted-tbn0.gstatic.com/images?q=tbn:ANd9GcS8Ups6AULLmG9d2AgkMbHtcm3s4CGZuVUaKlu-RUuzPgOYp-giM-BfgQYkEio&amp;s\"/></div></a></td></tr><tr><td><a href=\"/url?q=https://www.bollywoodshaadis.com/articles/amitabh-bachchan-and-jaya-bachchan-shot-the-climax-scene-of-abhimaan-a-day-after-their-honeymoon-42651&amp;sa=U&amp;ved=2ahUKEwj5ku7ek76AAxVz3TgGHcJrCKAQr4kDegQIAxAC&amp;usg=AOvVaw1cq4VyJVpYU9H781TJku5-\"><div class=\"jB2rPd\"> <span class=\"qXLe6d x3G5ab\"> <span class=\"fYyStc\">Amitabh Bachchan And Jaya...</span> </span> <span class=\"qXLe6d F9iS2e\"> <span class=\"fYyStc\">www.bollywoodshaadis.com</span> </span> </div></a></td></tr></table></div></div> </div> </div></td><td align=\"center\" class=\"e3goi\"><div class=\"mnTahd\"> <div> <div class=\"lIMUZd\"><div><table class=\"IkMU6e\"><tr><td><a href=\"/url?q=https://www.koimoi.com/bollywood-news/when-jaya-bachchan-was-revealed-to-bang-phones-in-anger-by-her-daughter-shweta-adding-amitabh-bachchan-is-the-biggest-baby-in-the-house-an-attention-seeker/&amp;sa=U&amp;ved=2ahUKEwj5ku7ek76AAxVz3TgGHcJrCKAQqoUBegQIBBAB&amp;usg=AOvVaw1C6jLmFPNa2Mjow_svrF-r\"><div class=\"NZWO1b\"><img alt=\"\" class=\"yWs4tf\" src=\"https://encrypted-tbn0.gstatic.com/images?q=tbn:ANd9GcSrmWl_wFHt87fcsAekP1WMxrvtIWQw4AvymbW1UBC8vgn-qvffw11d3pjEaQ&amp;s\"/></div></a></td></tr><tr><td><a href=\"/url?q=https://www.koimoi.com/bollywood-news/when-jaya-bachchan-was-revealed-to-bang-phones-in-anger-by-her-daughter-shweta-adding-amitabh-bachchan-is-the-biggest-baby-in-the-house-an-attention-seeker/&amp;sa=U&amp;ved=2ahUKEwj5ku7ek76AAxVz3TgGHcJrCKAQr4kDegQIBBAC&amp;usg=AOvVaw3MRk41gYmkYV4y7dtCSuk6\"><div class=\"jB2rPd\"> <span class=\"qXLe6d x3G5ab\"> <span class=\"fYyStc\">When Jaya Bachchan Was...</span> </span> <span class=\"qXLe6d F9iS2e\"> <span class=\"fYyStc\">www.koimoi.com</span> </span> </div></a></td></tr></table></div></div> </div> </div></td></tr><tr><td align=\"center\" class=\"e3goi\"><div class=\"mnTahd\"> <div> <div class=\"lIMUZd\"><div><table class=\"IkMU6e\"><tr><td><a href=\"/url?q=https://www.wionews.com/photos/amitabh-bachchan-at-80-the-different-shades-of-big-b-524264&amp;sa=U&amp;ved=2ahUKEwj5ku7ek76AAxVz3TgGHcJrCKAQqoUBegQICBAB&amp;usg=AOvVaw2EwY4O9VLFI3AHolaDtzm3\"><div class=\"NZWO1b\"><img alt=\"\" class=\"yWs4tf\" src=\"https://encrypted-tbn0.gstatic.com/images?q=tbn:ANd9GcQhTgNPonnhINJkq6WHw-tlE2ptK6UnBJufKvFY-lhadxyfCc7TOF6Pd5d8bhk&amp;s\"/></div></a></td></tr><tr><td><a href=\"/url?q=https://www.wionews.com/photos/amitabh-bachchan-at-80-the-different-shades-of-big-b-524264&amp;sa=U&amp;ved=2ahUKEwj5ku7ek76AAxVz3TgGHcJrCKAQr4kDegQICBAC&amp;usg=AOvVaw2N0Aynfuu5RXEr06wVESAq\"><div class=\"jB2rPd\"> <span class=\"qXLe6d x3G5ab\"> <span class=\"fYyStc\">Amitabh Bachchan at 80: The...</span> </span> <span class=\"qXLe6d F9iS2e\"> <span class=\"fYyStc\">www.wionews.com</span> </span> </div></a></td></tr></table></div></div> </div> </div></td><td align=\"center\" class=\"e3goi\"><div class=\"mnTahd\"> <div> <div class=\"lIMUZd\"><div><table class=\"IkMU6e\"><tr><td><a href=\"/url?q=https://www.dnaindia.com/bollywood/report-not-amitabh-bachchan-but-superstar-rajesh-khanna-was-first-choice-for-1975-blockbuster-deewaar-salim-khan-3049603&amp;sa=U&amp;ved=2ahUKEwj5ku7ek76AAxVz3TgGHcJrCKAQqoUBegQIBhAB&amp;usg=AOvVaw0IlBdePsIkCGR_pn5JfwvI\"><div class=\"NZWO1b\"><img alt=\"\" class=\"yWs4tf\" src=\"https://encrypted-tbn0.gstatic.com/images?q=tbn:ANd9GcRjf6-CbHsGvd2nskI_T0TsgPzMOcQ53LFQSI4Djt3NU-h6hR-cf5ZNv40_Yg&amp;s\"/></div></a></td></tr><tr><td><a href=\"/url?q=https://www.dnaindia.com/bollywood/report-not-amitabh-bachchan-but-superstar-rajesh-khanna-was-first-choice-for-1975-blockbuster-deewaar-salim-khan-3049603&amp;sa=U&amp;ved=2ahUKEwj5ku7ek76AAxVz3TgGHcJrCKAQr4kDegQIBhAC&amp;usg=AOvVaw3OI6A5fqT7dRPYDdck6W1r\"><div class=\"jB2rPd\"> <span class=\"qXLe6d x3G5ab\"> <span class=\"fYyStc\">Not Amitabh Bachchan but...</span> </span> <span class=\"qXLe6d F9iS2e\"> <span class=\"fYyStc\">www.dnaindia.com</span> </span> </div></a></td></tr></table></div></div> </div> </div></td><td align=\"center\" class=\"e3goi\"><div class=\"mnTahd\"> <div> <div class=\"lIMUZd\"><div><table class=\"IkMU6e\"><tr><td><a href=\"/url?q=https://nationaltoday.com/birthday/amitabh-bachchan/&amp;sa=U&amp;ved=2ahUKEwj5ku7ek76AAxVz3TgGHcJrCKAQqoUBegQIARAB&amp;usg=AOvVaw1li_qyPQHBvWR0-qoSent3\"><div class=\"NZWO1b\"><img alt=\"\" class=\"yWs4tf\" src=\"https://encrypted-tbn0.gstatic.com/images?q=tbn:ANd9GcSz67XkA-nYCC4qDOXIX8zshkxRIbImyICKTBgDfB0XdMfoC_jvcewdiIlTAQ&amp;s\"/></div></a></td></tr><tr><td><a href=\"/url?q=https://nationaltoday.com/birthday/amitabh-bachchan/&amp;sa=U&amp;ved=2ahUKEwj5ku7ek76AAxVz3TgGHcJrCKAQr4kDegQIARAC&amp;usg=AOvVaw2xB62OjHcF_QnvQEHViFGr\"><div class=\"jB2rPd\"> <span class=\"qXLe6d x3G5ab\"> <span class=\"fYyStc\">Amitabh Bachchan - Age,...</span> </span> <span class=\"qXLe6d F9iS2e\"> <span class=\"fYyStc\">nationaltoday.com</span> </span> </div></a></td></tr></table></div></div> </div> </div></td><td align=\"center\" class=\"e3goi\"><div class=\"mnTahd\"> <div> <div class=\"lIMUZd\"><div><table class=\"IkMU6e\"><tr><td><a href=\"/url?q=https://www.ndtv.com/entertainment/shweta-poses-with-dad-amitabh-bachchan-and-brother-abhishek-in-this-happy-pic-3713782&amp;sa=U&amp;ved=2ahUKEwj5ku7ek76AAxVz3TgGHcJrCKAQqoUBegQIAhAB&amp;usg=AOvVaw2q3tqeInhPFeZCjkjQLJwj\"><div class=\"NZWO1b\"><img alt=\"\" class=\"yWs4tf\" src=\"https://encrypted-tbn0.gstatic.com/images?q=tbn:ANd9GcSoHZmUbekfZfKUhkD1mNyWv6ymy8AOEBYxmZQUpoFFlNU8jBRy8sWrdbbcay4&amp;s\"/></div></a></td></tr><tr><td><a href=\"/url?q=https://www.ndtv.com/entertainment/shweta-poses-with-dad-amitabh-bachchan-and-brother-abhishek-in-this-happy-pic-3713782&amp;sa=U&amp;ved=2ahUKEwj5ku7ek76AAxVz3TgGHcJrCKAQr4kDegQIAhAC&amp;usg=AOvVaw0NphH8indmJQrs0Z2sjpUb\"><div class=\"jB2rPd\"> <span class=\"qXLe6d x3G5ab\"> <span class=\"fYyStc\">Shweta Poses With Dad...</span> </span> <span class=\"qXLe6d F9iS2e\"> <span class=\"fYyStc\">www.ndtv.com</span> </span> </div></a></td></tr></table></div></div> </div> </div></td></tr></table></div><table class=\"uZgmoc\"><tbody><td><a class=\"frGj1b\" href=\"/search?q=amitabh+bachchan&amp;biw=1280&amp;bih=595&amp;ie=UTF-8&amp;tbm=isch&amp;ei=92PKZLm7D_O64-EPwtehgAo&amp;start=20&amp;sa=N\">Next &gt;</a></td></tbody></table><br/><div class=\"TuS8Ad\" data-ved=\"0ahUKEwj5ku7ek76AAxVz3TgGHcJrCKAQpyoIVg\"><style>.VYM29{font-weight:bold}</style><div align=\"center\" class=\"HddGcc\"><span class=\"VYM29\">Bhubaneswar, Odisha</span><span> - </span><span>From your IP address</span><span> - </span><a href=\"/url?q=https://support.google.com/websearch%3Fp%3Dws_settings_location%26hl%3Den-IN&amp;sa=U&amp;ved=0ahUKEwj5ku7ek76AAxVz3TgGHcJrCKAQty4IVw&amp;usg=AOvVaw3F1ZqdmgnhqN4vyx3Tj98G\">Learn more</a></div><div align=\"center\"><a class=\"rEM8G\" href=\"/url?q=https://accounts.google.com/ServiceLogin%3Fcontinue%3Dhttps://www.google.com/search%253Fq%253Damita%252Bbachhan%252B%2526tbm%253Disch%2526sxsrf%253DAB5stBgJdiogB-tGHIsoxTk8raL9pgxghQ:1690958988921%2526source%253Dlnms%2526sa%253DX%2526ved%253D2ahUKEwis2vSOsb2AAxWhxzgGHf4mCbQQ0pQJegQIAhAG%2526biw%253D1280%2526bih%253D595%2526dpr%253D1.5%26hl%3Den&amp;sa=U&amp;ved=0ahUKEwj5ku7ek76AAxVz3TgGHcJrCKAQxs8CCFg&amp;usg=AOvVaw0FOUtKWnRugYuiSDm56P7f\">Sign in</a></div><div><table class=\"bookcf\"><tbody class=\"InWNIe\"><tr><td><a class=\"rEM8G\" href=\"https://www.google.com/preferences?hl=en&amp;sa=X&amp;ved=0ahUKEwj5ku7ek76AAxVz3TgGHcJrCKAQv5YECFk\">Settings</a></td><td><a class=\"rEM8G\" href=\"https://www.google.com/intl/en_in/policies/privacy/\">Privacy</a></td><td><a class=\"rEM8G\" href=\"https://www.google.com/intl/en_in/policies/terms/\">Terms</a></td></tr></tbody></table></div></div><div> </div></body></html>"
      ]
     },
     "execution_count": 69,
     "metadata": {},
     "output_type": "execute_result"
    }
   ],
   "source": [
    "soup=BeautifulSoup(response.content,\"html.parser\")\n",
    "soup"
   ]
  },
  {
   "cell_type": "code",
   "execution_count": 70,
   "id": "0d6a02c9-5f62-4d46-9a9d-550690d76cf9",
   "metadata": {},
   "outputs": [
    {
     "data": {
      "text/plain": [
       "[<img alt=\"Google\" class=\"kgJEQe\" src=\"/images/branding/searchlogo/1x/googlelogo_desk_heirloom_color_150x55dp.gif\"/>,\n",
       " <img alt=\"\" class=\"yWs4tf\" src=\"https://encrypted-tbn0.gstatic.com/images?q=tbn:ANd9GcQWvy9YvHIyHFFT--SjGswi-ZIw3G9asKkc9ig4uGjDS-qbV1orjfCC9i53-w&amp;s\"/>,\n",
       " <img alt=\"\" class=\"yWs4tf\" src=\"https://encrypted-tbn0.gstatic.com/images?q=tbn:ANd9GcReLbi-f1Gy56BiWuvfUM5TNT23XuQq_8yha6qiO7E-M8gjk638jpY8gxKDdw&amp;s\"/>,\n",
       " <img alt=\"\" class=\"yWs4tf\" src=\"https://encrypted-tbn0.gstatic.com/images?q=tbn:ANd9GcTIKlEueA9GWKImKOvLr8iDBvsoaAgUrwPraEt1JD8aNvJuYEULYs5gDRlUQg&amp;s\"/>,\n",
       " <img alt=\"\" class=\"yWs4tf\" src=\"https://encrypted-tbn0.gstatic.com/images?q=tbn:ANd9GcQFkxylHmgG0nKpMZrwEHO5DN1NGfcHJPcF7BEpUlFDF5NkqDFlVXxb65SMBTg&amp;s\"/>,\n",
       " <img alt=\"\" class=\"yWs4tf\" src=\"https://encrypted-tbn0.gstatic.com/images?q=tbn:ANd9GcQwupKp2FFqx1xozH2S2tbpWcaNr0zauGm4cX5_gih4coLBH8sCDpw_pyq5BM0&amp;s\"/>,\n",
       " <img alt=\"\" class=\"yWs4tf\" src=\"https://encrypted-tbn0.gstatic.com/images?q=tbn:ANd9GcQ2YMBy8EynmU8fJ_E8TMv8NMX_YdoS1gvQJm0WL7OnTo2F7jaZ5UZn1z14bzQ&amp;s\"/>,\n",
       " <img alt=\"\" class=\"yWs4tf\" src=\"https://encrypted-tbn0.gstatic.com/images?q=tbn:ANd9GcQXwk2r_ZXBBSliNdrHWox9dPrLGzxJLbEs5Z5IheAHhzocpiZA0Rcaj18mwWo&amp;s\"/>,\n",
       " <img alt=\"\" class=\"yWs4tf\" src=\"https://encrypted-tbn0.gstatic.com/images?q=tbn:ANd9GcTc3YW3biyTv_xyUd1zmt9VAvQFtXMpnkKo8Rv5xkB8x82MbiXZ-Huwg_8FTU0&amp;s\"/>,\n",
       " <img alt=\"\" class=\"yWs4tf\" src=\"https://encrypted-tbn0.gstatic.com/images?q=tbn:ANd9GcSlTiWQrsMunMMZl74ZiKEbFl3IZ_iGUGuRQagruSmAH9yWfyuRzJVR4fONOhI&amp;s\"/>,\n",
       " <img alt=\"\" class=\"yWs4tf\" src=\"https://encrypted-tbn0.gstatic.com/images?q=tbn:ANd9GcS-PTSrpqDXd8x-VXW1bESEgPr4BLx7z2JEamg1qjcSkDHxEaembnI8nYxh-WU&amp;s\"/>,\n",
       " <img alt=\"\" class=\"yWs4tf\" src=\"https://encrypted-tbn0.gstatic.com/images?q=tbn:ANd9GcQOpIVz7Pg8iQcne-ifcVRWSlrrdFUGZtLURIOogRqaxaUJLEYDGLioMMbRWA&amp;s\"/>,\n",
       " <img alt=\"\" class=\"yWs4tf\" src=\"https://encrypted-tbn0.gstatic.com/images?q=tbn:ANd9GcT_MxvWsWXCqVuAEU8loaQfy1qPRAvpfHpimlM8rQ7rQj1HFsRqwqZdSU3gvg&amp;s\"/>,\n",
       " <img alt=\"\" class=\"yWs4tf\" src=\"https://encrypted-tbn0.gstatic.com/images?q=tbn:ANd9GcSse-k-n1mHVWrewqFcq82acFJLhjR1QG9YCHPG2VlZFuniO0xo3up0F5jiwKc&amp;s\"/>,\n",
       " <img alt=\"\" class=\"yWs4tf\" src=\"https://encrypted-tbn0.gstatic.com/images?q=tbn:ANd9GcRE39u0MIevim3p7ofZSmm6NVguB7U02yosaShxKGaLElsNf8UChoRV85NyCA&amp;s\"/>,\n",
       " <img alt=\"\" class=\"yWs4tf\" src=\"https://encrypted-tbn0.gstatic.com/images?q=tbn:ANd9GcS8Ups6AULLmG9d2AgkMbHtcm3s4CGZuVUaKlu-RUuzPgOYp-giM-BfgQYkEio&amp;s\"/>,\n",
       " <img alt=\"\" class=\"yWs4tf\" src=\"https://encrypted-tbn0.gstatic.com/images?q=tbn:ANd9GcSrmWl_wFHt87fcsAekP1WMxrvtIWQw4AvymbW1UBC8vgn-qvffw11d3pjEaQ&amp;s\"/>,\n",
       " <img alt=\"\" class=\"yWs4tf\" src=\"https://encrypted-tbn0.gstatic.com/images?q=tbn:ANd9GcQhTgNPonnhINJkq6WHw-tlE2ptK6UnBJufKvFY-lhadxyfCc7TOF6Pd5d8bhk&amp;s\"/>,\n",
       " <img alt=\"\" class=\"yWs4tf\" src=\"https://encrypted-tbn0.gstatic.com/images?q=tbn:ANd9GcRjf6-CbHsGvd2nskI_T0TsgPzMOcQ53LFQSI4Djt3NU-h6hR-cf5ZNv40_Yg&amp;s\"/>,\n",
       " <img alt=\"\" class=\"yWs4tf\" src=\"https://encrypted-tbn0.gstatic.com/images?q=tbn:ANd9GcSz67XkA-nYCC4qDOXIX8zshkxRIbImyICKTBgDfB0XdMfoC_jvcewdiIlTAQ&amp;s\"/>,\n",
       " <img alt=\"\" class=\"yWs4tf\" src=\"https://encrypted-tbn0.gstatic.com/images?q=tbn:ANd9GcSoHZmUbekfZfKUhkD1mNyWv6ymy8AOEBYxmZQUpoFFlNU8jBRy8sWrdbbcay4&amp;s\"/>]"
      ]
     },
     "execution_count": 70,
     "metadata": {},
     "output_type": "execute_result"
    }
   ],
   "source": [
    "image_tag=soup.find_all(\"img\")\n",
    "image_tag"
   ]
  },
  {
   "cell_type": "code",
   "execution_count": 71,
   "id": "50fbae7c-4fb2-44a1-a717-81884fcc2160",
   "metadata": {},
   "outputs": [],
   "source": [
    "del image_tag[0]\n"
   ]
  },
  {
   "cell_type": "code",
   "execution_count": 72,
   "id": "9ca46817-fdda-473c-ab96-60155405e838",
   "metadata": {},
   "outputs": [
    {
     "data": {
      "text/plain": [
       "[<img alt=\"\" class=\"yWs4tf\" src=\"https://encrypted-tbn0.gstatic.com/images?q=tbn:ANd9GcQWvy9YvHIyHFFT--SjGswi-ZIw3G9asKkc9ig4uGjDS-qbV1orjfCC9i53-w&amp;s\"/>,\n",
       " <img alt=\"\" class=\"yWs4tf\" src=\"https://encrypted-tbn0.gstatic.com/images?q=tbn:ANd9GcReLbi-f1Gy56BiWuvfUM5TNT23XuQq_8yha6qiO7E-M8gjk638jpY8gxKDdw&amp;s\"/>,\n",
       " <img alt=\"\" class=\"yWs4tf\" src=\"https://encrypted-tbn0.gstatic.com/images?q=tbn:ANd9GcTIKlEueA9GWKImKOvLr8iDBvsoaAgUrwPraEt1JD8aNvJuYEULYs5gDRlUQg&amp;s\"/>,\n",
       " <img alt=\"\" class=\"yWs4tf\" src=\"https://encrypted-tbn0.gstatic.com/images?q=tbn:ANd9GcQFkxylHmgG0nKpMZrwEHO5DN1NGfcHJPcF7BEpUlFDF5NkqDFlVXxb65SMBTg&amp;s\"/>,\n",
       " <img alt=\"\" class=\"yWs4tf\" src=\"https://encrypted-tbn0.gstatic.com/images?q=tbn:ANd9GcQwupKp2FFqx1xozH2S2tbpWcaNr0zauGm4cX5_gih4coLBH8sCDpw_pyq5BM0&amp;s\"/>,\n",
       " <img alt=\"\" class=\"yWs4tf\" src=\"https://encrypted-tbn0.gstatic.com/images?q=tbn:ANd9GcQ2YMBy8EynmU8fJ_E8TMv8NMX_YdoS1gvQJm0WL7OnTo2F7jaZ5UZn1z14bzQ&amp;s\"/>,\n",
       " <img alt=\"\" class=\"yWs4tf\" src=\"https://encrypted-tbn0.gstatic.com/images?q=tbn:ANd9GcQXwk2r_ZXBBSliNdrHWox9dPrLGzxJLbEs5Z5IheAHhzocpiZA0Rcaj18mwWo&amp;s\"/>,\n",
       " <img alt=\"\" class=\"yWs4tf\" src=\"https://encrypted-tbn0.gstatic.com/images?q=tbn:ANd9GcTc3YW3biyTv_xyUd1zmt9VAvQFtXMpnkKo8Rv5xkB8x82MbiXZ-Huwg_8FTU0&amp;s\"/>,\n",
       " <img alt=\"\" class=\"yWs4tf\" src=\"https://encrypted-tbn0.gstatic.com/images?q=tbn:ANd9GcSlTiWQrsMunMMZl74ZiKEbFl3IZ_iGUGuRQagruSmAH9yWfyuRzJVR4fONOhI&amp;s\"/>,\n",
       " <img alt=\"\" class=\"yWs4tf\" src=\"https://encrypted-tbn0.gstatic.com/images?q=tbn:ANd9GcS-PTSrpqDXd8x-VXW1bESEgPr4BLx7z2JEamg1qjcSkDHxEaembnI8nYxh-WU&amp;s\"/>,\n",
       " <img alt=\"\" class=\"yWs4tf\" src=\"https://encrypted-tbn0.gstatic.com/images?q=tbn:ANd9GcQOpIVz7Pg8iQcne-ifcVRWSlrrdFUGZtLURIOogRqaxaUJLEYDGLioMMbRWA&amp;s\"/>,\n",
       " <img alt=\"\" class=\"yWs4tf\" src=\"https://encrypted-tbn0.gstatic.com/images?q=tbn:ANd9GcT_MxvWsWXCqVuAEU8loaQfy1qPRAvpfHpimlM8rQ7rQj1HFsRqwqZdSU3gvg&amp;s\"/>,\n",
       " <img alt=\"\" class=\"yWs4tf\" src=\"https://encrypted-tbn0.gstatic.com/images?q=tbn:ANd9GcSse-k-n1mHVWrewqFcq82acFJLhjR1QG9YCHPG2VlZFuniO0xo3up0F5jiwKc&amp;s\"/>,\n",
       " <img alt=\"\" class=\"yWs4tf\" src=\"https://encrypted-tbn0.gstatic.com/images?q=tbn:ANd9GcRE39u0MIevim3p7ofZSmm6NVguB7U02yosaShxKGaLElsNf8UChoRV85NyCA&amp;s\"/>,\n",
       " <img alt=\"\" class=\"yWs4tf\" src=\"https://encrypted-tbn0.gstatic.com/images?q=tbn:ANd9GcS8Ups6AULLmG9d2AgkMbHtcm3s4CGZuVUaKlu-RUuzPgOYp-giM-BfgQYkEio&amp;s\"/>,\n",
       " <img alt=\"\" class=\"yWs4tf\" src=\"https://encrypted-tbn0.gstatic.com/images?q=tbn:ANd9GcSrmWl_wFHt87fcsAekP1WMxrvtIWQw4AvymbW1UBC8vgn-qvffw11d3pjEaQ&amp;s\"/>,\n",
       " <img alt=\"\" class=\"yWs4tf\" src=\"https://encrypted-tbn0.gstatic.com/images?q=tbn:ANd9GcQhTgNPonnhINJkq6WHw-tlE2ptK6UnBJufKvFY-lhadxyfCc7TOF6Pd5d8bhk&amp;s\"/>,\n",
       " <img alt=\"\" class=\"yWs4tf\" src=\"https://encrypted-tbn0.gstatic.com/images?q=tbn:ANd9GcRjf6-CbHsGvd2nskI_T0TsgPzMOcQ53LFQSI4Djt3NU-h6hR-cf5ZNv40_Yg&amp;s\"/>,\n",
       " <img alt=\"\" class=\"yWs4tf\" src=\"https://encrypted-tbn0.gstatic.com/images?q=tbn:ANd9GcSz67XkA-nYCC4qDOXIX8zshkxRIbImyICKTBgDfB0XdMfoC_jvcewdiIlTAQ&amp;s\"/>,\n",
       " <img alt=\"\" class=\"yWs4tf\" src=\"https://encrypted-tbn0.gstatic.com/images?q=tbn:ANd9GcSoHZmUbekfZfKUhkD1mNyWv6ymy8AOEBYxmZQUpoFFlNU8jBRy8sWrdbbcay4&amp;s\"/>]"
      ]
     },
     "execution_count": 72,
     "metadata": {},
     "output_type": "execute_result"
    }
   ],
   "source": [
    "image_tag"
   ]
  },
  {
   "cell_type": "code",
   "execution_count": 73,
   "id": "b3b1625b-cd9b-4979-a679-00bbe5dd0372",
   "metadata": {},
   "outputs": [
    {
     "data": {
      "text/plain": [
       "20"
      ]
     },
     "execution_count": 73,
     "metadata": {},
     "output_type": "execute_result"
    }
   ],
   "source": [
    "len(image_tag)"
   ]
  },
  {
   "cell_type": "code",
   "execution_count": 74,
   "id": "532ab106-536f-4326-8519-7081f4bdcc0d",
   "metadata": {},
   "outputs": [],
   "source": [
    "for i in image_tag:\n",
    "    image_url=i['src']\n",
    "    image_data=requests.get(image_url).content\n",
    "    with open(os.path.join(save_dir,f\"{query}_{image_tag.index(i)}.JPG\"),\"wb\") as f:\n",
    "        f.write(image_data)"
   ]
  },
  {
   "cell_type": "code",
   "execution_count": null,
   "id": "a5fe1356-f357-4ea8-a043-6be09b3cb338",
   "metadata": {},
   "outputs": [],
   "source": []
  }
 ],
 "metadata": {
  "kernelspec": {
   "display_name": "Python 3 (ipykernel)",
   "language": "python",
   "name": "python3"
  },
  "language_info": {
   "codemirror_mode": {
    "name": "ipython",
    "version": 3
   },
   "file_extension": ".py",
   "mimetype": "text/x-python",
   "name": "python",
   "nbconvert_exporter": "python",
   "pygments_lexer": "ipython3",
   "version": "3.9.0"
  }
 },
 "nbformat": 4,
 "nbformat_minor": 5
}
