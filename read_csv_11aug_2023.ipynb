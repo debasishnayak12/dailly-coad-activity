{
 "cells": [
  {
   "cell_type": "code",
   "execution_count": 88,
   "id": "7ec304fd",
   "metadata": {},
   "outputs": [],
   "source": [
    "import pandas as pd\n",
    "import matplotlib.pyplot as plt\n",
    "%matplotlib inline"
   ]
  },
  {
   "cell_type": "code",
   "execution_count": 75,
   "id": "be0366b1",
   "metadata": {},
   "outputs": [
    {
     "data": {
      "text/html": [
       "<div>\n",
       "<style scoped>\n",
       "    .dataframe tbody tr th:only-of-type {\n",
       "        vertical-align: middle;\n",
       "    }\n",
       "\n",
       "    .dataframe tbody tr th {\n",
       "        vertical-align: top;\n",
       "    }\n",
       "\n",
       "    .dataframe thead th {\n",
       "        text-align: right;\n",
       "    }\n",
       "</style>\n",
       "<table border=\"1\" class=\"dataframe\">\n",
       "  <thead>\n",
       "    <tr style=\"text-align: right;\">\n",
       "      <th></th>\n",
       "      <th>Security Code</th>\n",
       "      <th>Type</th>\n",
       "      <th>Issuer Name</th>\n",
       "      <th>Security Id</th>\n",
       "      <th>Security Name</th>\n",
       "      <th>Status</th>\n",
       "      <th>Group</th>\n",
       "      <th>Face Value</th>\n",
       "      <th>ISIN No</th>\n",
       "      <th>Industry</th>\n",
       "      <th>...</th>\n",
       "      <th>Industry New Name</th>\n",
       "      <th>Igroup Name</th>\n",
       "      <th>ISubgroup Name</th>\n",
       "      <th>Date</th>\n",
       "      <th>Open</th>\n",
       "      <th>High</th>\n",
       "      <th>Low</th>\n",
       "      <th>Close</th>\n",
       "      <th>Adj Close</th>\n",
       "      <th>Volume</th>\n",
       "    </tr>\n",
       "  </thead>\n",
       "  <tbody>\n",
       "    <tr>\n",
       "      <th>0</th>\n",
       "      <td>532921.0</td>\n",
       "      <td>BSE</td>\n",
       "      <td>Adani Ports and Special Economic Zone Ltd</td>\n",
       "      <td>ADANIPORTS</td>\n",
       "      <td>ADANI PORTS AND SPECIAL ECONOMIC ZONE LTD.</td>\n",
       "      <td>Active</td>\n",
       "      <td>A</td>\n",
       "      <td>2.0</td>\n",
       "      <td>INE742F01042</td>\n",
       "      <td>Port &amp; Port services</td>\n",
       "      <td>...</td>\n",
       "      <td>Services</td>\n",
       "      <td>Transport Infrastructure</td>\n",
       "      <td>Port &amp; Port services</td>\n",
       "      <td>NaN</td>\n",
       "      <td>NaN</td>\n",
       "      <td>NaN</td>\n",
       "      <td>NaN</td>\n",
       "      <td>NaN</td>\n",
       "      <td>NaN</td>\n",
       "      <td>NaN</td>\n",
       "    </tr>\n",
       "    <tr>\n",
       "      <th>1</th>\n",
       "      <td>532921.0</td>\n",
       "      <td>BSE</td>\n",
       "      <td>Adani Ports and Special Economic Zone Ltd</td>\n",
       "      <td>ADANIPORTS</td>\n",
       "      <td>ADANI PORTS AND SPECIAL ECONOMIC ZONE LTD.</td>\n",
       "      <td>Active</td>\n",
       "      <td>A</td>\n",
       "      <td>2.0</td>\n",
       "      <td>INE742F01042</td>\n",
       "      <td>Port &amp; Port services</td>\n",
       "      <td>...</td>\n",
       "      <td>Services</td>\n",
       "      <td>Transport Infrastructure</td>\n",
       "      <td>Port &amp; Port services</td>\n",
       "      <td>NaN</td>\n",
       "      <td>NaN</td>\n",
       "      <td>NaN</td>\n",
       "      <td>NaN</td>\n",
       "      <td>NaN</td>\n",
       "      <td>NaN</td>\n",
       "      <td>NaN</td>\n",
       "    </tr>\n",
       "    <tr>\n",
       "      <th>2</th>\n",
       "      <td>532921.0</td>\n",
       "      <td>BSE</td>\n",
       "      <td>Adani Ports and Special Economic Zone Ltd</td>\n",
       "      <td>ADANIPORTS</td>\n",
       "      <td>ADANI PORTS AND SPECIAL ECONOMIC ZONE LTD.</td>\n",
       "      <td>Active</td>\n",
       "      <td>A</td>\n",
       "      <td>2.0</td>\n",
       "      <td>INE742F01042</td>\n",
       "      <td>Port &amp; Port services</td>\n",
       "      <td>...</td>\n",
       "      <td>Services</td>\n",
       "      <td>Transport Infrastructure</td>\n",
       "      <td>Port &amp; Port services</td>\n",
       "      <td>NaN</td>\n",
       "      <td>NaN</td>\n",
       "      <td>NaN</td>\n",
       "      <td>NaN</td>\n",
       "      <td>NaN</td>\n",
       "      <td>NaN</td>\n",
       "      <td>NaN</td>\n",
       "    </tr>\n",
       "    <tr>\n",
       "      <th>3</th>\n",
       "      <td>532921.0</td>\n",
       "      <td>BSE</td>\n",
       "      <td>Adani Ports and Special Economic Zone Ltd</td>\n",
       "      <td>ADANIPORTS</td>\n",
       "      <td>ADANI PORTS AND SPECIAL ECONOMIC ZONE LTD.</td>\n",
       "      <td>Active</td>\n",
       "      <td>A</td>\n",
       "      <td>2.0</td>\n",
       "      <td>INE742F01042</td>\n",
       "      <td>Port &amp; Port services</td>\n",
       "      <td>...</td>\n",
       "      <td>Services</td>\n",
       "      <td>Transport Infrastructure</td>\n",
       "      <td>Port &amp; Port services</td>\n",
       "      <td>NaN</td>\n",
       "      <td>NaN</td>\n",
       "      <td>NaN</td>\n",
       "      <td>NaN</td>\n",
       "      <td>NaN</td>\n",
       "      <td>NaN</td>\n",
       "      <td>NaN</td>\n",
       "    </tr>\n",
       "    <tr>\n",
       "      <th>4</th>\n",
       "      <td>532921.0</td>\n",
       "      <td>BSE</td>\n",
       "      <td>Adani Ports and Special Economic Zone Ltd</td>\n",
       "      <td>ADANIPORTS</td>\n",
       "      <td>ADANI PORTS AND SPECIAL ECONOMIC ZONE LTD.</td>\n",
       "      <td>Active</td>\n",
       "      <td>A</td>\n",
       "      <td>2.0</td>\n",
       "      <td>INE742F01042</td>\n",
       "      <td>Port &amp; Port services</td>\n",
       "      <td>...</td>\n",
       "      <td>Services</td>\n",
       "      <td>Transport Infrastructure</td>\n",
       "      <td>Port &amp; Port services</td>\n",
       "      <td>NaN</td>\n",
       "      <td>NaN</td>\n",
       "      <td>NaN</td>\n",
       "      <td>NaN</td>\n",
       "      <td>NaN</td>\n",
       "      <td>NaN</td>\n",
       "      <td>NaN</td>\n",
       "    </tr>\n",
       "  </tbody>\n",
       "</table>\n",
       "<p>5 rows × 22 columns</p>\n",
       "</div>"
      ],
      "text/plain": [
       "   Security Code Type                                Issuer Name Security Id  \\\n",
       "0       532921.0  BSE  Adani Ports and Special Economic Zone Ltd  ADANIPORTS   \n",
       "1       532921.0  BSE  Adani Ports and Special Economic Zone Ltd  ADANIPORTS   \n",
       "2       532921.0  BSE  Adani Ports and Special Economic Zone Ltd  ADANIPORTS   \n",
       "3       532921.0  BSE  Adani Ports and Special Economic Zone Ltd  ADANIPORTS   \n",
       "4       532921.0  BSE  Adani Ports and Special Economic Zone Ltd  ADANIPORTS   \n",
       "\n",
       "                                Security Name  Status Group  Face Value  \\\n",
       "0  ADANI PORTS AND SPECIAL ECONOMIC ZONE LTD.  Active    A          2.0   \n",
       "1  ADANI PORTS AND SPECIAL ECONOMIC ZONE LTD.  Active    A          2.0   \n",
       "2  ADANI PORTS AND SPECIAL ECONOMIC ZONE LTD.  Active    A          2.0   \n",
       "3  ADANI PORTS AND SPECIAL ECONOMIC ZONE LTD.  Active    A          2.0   \n",
       "4  ADANI PORTS AND SPECIAL ECONOMIC ZONE LTD.  Active    A          2.0   \n",
       "\n",
       "        ISIN No              Industry  ... Industry New Name  \\\n",
       "0  INE742F01042  Port & Port services  ...          Services   \n",
       "1  INE742F01042  Port & Port services  ...          Services   \n",
       "2  INE742F01042  Port & Port services  ...          Services   \n",
       "3  INE742F01042  Port & Port services  ...          Services   \n",
       "4  INE742F01042  Port & Port services  ...          Services   \n",
       "\n",
       "                Igroup Name        ISubgroup Name Date Open High  Low  Close  \\\n",
       "0  Transport Infrastructure  Port & Port services  NaN  NaN  NaN  NaN    NaN   \n",
       "1  Transport Infrastructure  Port & Port services  NaN  NaN  NaN  NaN    NaN   \n",
       "2  Transport Infrastructure  Port & Port services  NaN  NaN  NaN  NaN    NaN   \n",
       "3  Transport Infrastructure  Port & Port services  NaN  NaN  NaN  NaN    NaN   \n",
       "4  Transport Infrastructure  Port & Port services  NaN  NaN  NaN  NaN    NaN   \n",
       "\n",
       "   Adj Close  Volume  \n",
       "0        NaN     NaN  \n",
       "1        NaN     NaN  \n",
       "2        NaN     NaN  \n",
       "3        NaN     NaN  \n",
       "4        NaN     NaN  \n",
       "\n",
       "[5 rows x 22 columns]"
      ]
     },
     "execution_count": 75,
     "metadata": {},
     "output_type": "execute_result"
    }
   ],
   "source": [
    "df=pd.read_csv(\"https://raw.githubusercontent.com/RanjitM007/DATASETS/main/ADANI%20PORTS%20AND%20SPECIAL%20ECONOMIC%20ZONE%20LTD.csv\")\n",
    "df.head()"
   ]
  },
  {
   "cell_type": "code",
   "execution_count": 76,
   "id": "b3f6259b",
   "metadata": {},
   "outputs": [
    {
     "data": {
      "text/plain": [
       "0       ADANIPORTS\n",
       "1       ADANIPORTS\n",
       "2       ADANIPORTS\n",
       "3       ADANIPORTS\n",
       "4       ADANIPORTS\n",
       "           ...    \n",
       "7311           NaN\n",
       "7312           NaN\n",
       "7313           NaN\n",
       "7314           NaN\n",
       "7315           NaN\n",
       "Name: Security Id, Length: 7316, dtype: object"
      ]
     },
     "execution_count": 76,
     "metadata": {},
     "output_type": "execute_result"
    }
   ],
   "source": [
    "df['Security Id']"
   ]
  },
  {
   "cell_type": "code",
   "execution_count": 77,
   "id": "df67a787",
   "metadata": {},
   "outputs": [
    {
     "data": {
      "text/plain": [
       "Security Code         True\n",
       "Type                  True\n",
       "Issuer Name           True\n",
       "Security Id           True\n",
       "Security Name         True\n",
       "Status                True\n",
       "Group                 True\n",
       "Face Value            True\n",
       "ISIN No               True\n",
       "Industry              True\n",
       "Instrument            True\n",
       "Sector Name           True\n",
       "Industry New Name     True\n",
       "Igroup Name           True\n",
       "ISubgroup Name        True\n",
       "Date                  True\n",
       "Open                  True\n",
       "High                  True\n",
       "Low                   True\n",
       "Close                 True\n",
       "Adj Close             True\n",
       "Volume               False\n",
       "dtype: bool"
      ]
     },
     "execution_count": 77,
     "metadata": {},
     "output_type": "execute_result"
    }
   ],
   "source": [
    "df.all()"
   ]
  },
  {
   "cell_type": "code",
   "execution_count": 78,
   "id": "126f6653",
   "metadata": {},
   "outputs": [
    {
     "data": {
      "text/html": [
       "<div>\n",
       "<style scoped>\n",
       "    .dataframe tbody tr th:only-of-type {\n",
       "        vertical-align: middle;\n",
       "    }\n",
       "\n",
       "    .dataframe tbody tr th {\n",
       "        vertical-align: top;\n",
       "    }\n",
       "\n",
       "    .dataframe thead th {\n",
       "        text-align: right;\n",
       "    }\n",
       "</style>\n",
       "<table border=\"1\" class=\"dataframe\">\n",
       "  <thead>\n",
       "    <tr style=\"text-align: right;\">\n",
       "      <th></th>\n",
       "      <th>Security Code</th>\n",
       "      <th>Face Value</th>\n",
       "      <th>Open</th>\n",
       "      <th>High</th>\n",
       "      <th>Low</th>\n",
       "      <th>Close</th>\n",
       "      <th>Adj Close</th>\n",
       "      <th>Volume</th>\n",
       "    </tr>\n",
       "  </thead>\n",
       "  <tbody>\n",
       "    <tr>\n",
       "      <th>count</th>\n",
       "      <td>3658.0</td>\n",
       "      <td>3658.0</td>\n",
       "      <td>3651.000000</td>\n",
       "      <td>3651.000000</td>\n",
       "      <td>3651.000000</td>\n",
       "      <td>3651.000000</td>\n",
       "      <td>3651.000000</td>\n",
       "      <td>3.651000e+03</td>\n",
       "    </tr>\n",
       "    <tr>\n",
       "      <th>mean</th>\n",
       "      <td>532921.0</td>\n",
       "      <td>2.0</td>\n",
       "      <td>292.323410</td>\n",
       "      <td>296.943246</td>\n",
       "      <td>286.760120</td>\n",
       "      <td>291.558990</td>\n",
       "      <td>282.949093</td>\n",
       "      <td>6.621623e+05</td>\n",
       "    </tr>\n",
       "    <tr>\n",
       "      <th>std</th>\n",
       "      <td>0.0</td>\n",
       "      <td>0.0</td>\n",
       "      <td>193.004974</td>\n",
       "      <td>195.565545</td>\n",
       "      <td>189.776743</td>\n",
       "      <td>192.588101</td>\n",
       "      <td>192.974823</td>\n",
       "      <td>2.249374e+06</td>\n",
       "    </tr>\n",
       "    <tr>\n",
       "      <th>min</th>\n",
       "      <td>532921.0</td>\n",
       "      <td>2.0</td>\n",
       "      <td>50.220001</td>\n",
       "      <td>52.500000</td>\n",
       "      <td>50.000000</td>\n",
       "      <td>51.480000</td>\n",
       "      <td>47.482185</td>\n",
       "      <td>0.000000e+00</td>\n",
       "    </tr>\n",
       "    <tr>\n",
       "      <th>25%</th>\n",
       "      <td>532921.0</td>\n",
       "      <td>2.0</td>\n",
       "      <td>142.500000</td>\n",
       "      <td>145.600006</td>\n",
       "      <td>139.150002</td>\n",
       "      <td>142.409996</td>\n",
       "      <td>133.850822</td>\n",
       "      <td>1.347685e+05</td>\n",
       "    </tr>\n",
       "    <tr>\n",
       "      <th>50%</th>\n",
       "      <td>532921.0</td>\n",
       "      <td>2.0</td>\n",
       "      <td>260.450012</td>\n",
       "      <td>264.600006</td>\n",
       "      <td>255.399994</td>\n",
       "      <td>259.850006</td>\n",
       "      <td>250.458145</td>\n",
       "      <td>2.414020e+05</td>\n",
       "    </tr>\n",
       "    <tr>\n",
       "      <th>75%</th>\n",
       "      <td>532921.0</td>\n",
       "      <td>2.0</td>\n",
       "      <td>372.600006</td>\n",
       "      <td>376.349991</td>\n",
       "      <td>367.000000</td>\n",
       "      <td>371.225006</td>\n",
       "      <td>361.544525</td>\n",
       "      <td>5.376635e+05</td>\n",
       "    </tr>\n",
       "    <tr>\n",
       "      <th>max</th>\n",
       "      <td>532921.0</td>\n",
       "      <td>2.0</td>\n",
       "      <td>973.849976</td>\n",
       "      <td>987.900024</td>\n",
       "      <td>967.000000</td>\n",
       "      <td>969.400024</td>\n",
       "      <td>969.400024</td>\n",
       "      <td>7.403108e+07</td>\n",
       "    </tr>\n",
       "  </tbody>\n",
       "</table>\n",
       "</div>"
      ],
      "text/plain": [
       "       Security Code  Face Value         Open         High          Low  \\\n",
       "count         3658.0      3658.0  3651.000000  3651.000000  3651.000000   \n",
       "mean        532921.0         2.0   292.323410   296.943246   286.760120   \n",
       "std              0.0         0.0   193.004974   195.565545   189.776743   \n",
       "min         532921.0         2.0    50.220001    52.500000    50.000000   \n",
       "25%         532921.0         2.0   142.500000   145.600006   139.150002   \n",
       "50%         532921.0         2.0   260.450012   264.600006   255.399994   \n",
       "75%         532921.0         2.0   372.600006   376.349991   367.000000   \n",
       "max         532921.0         2.0   973.849976   987.900024   967.000000   \n",
       "\n",
       "             Close    Adj Close        Volume  \n",
       "count  3651.000000  3651.000000  3.651000e+03  \n",
       "mean    291.558990   282.949093  6.621623e+05  \n",
       "std     192.588101   192.974823  2.249374e+06  \n",
       "min      51.480000    47.482185  0.000000e+00  \n",
       "25%     142.409996   133.850822  1.347685e+05  \n",
       "50%     259.850006   250.458145  2.414020e+05  \n",
       "75%     371.225006   361.544525  5.376635e+05  \n",
       "max     969.400024   969.400024  7.403108e+07  "
      ]
     },
     "execution_count": 78,
     "metadata": {},
     "output_type": "execute_result"
    }
   ],
   "source": [
    "df.describe()"
   ]
  },
  {
   "cell_type": "code",
   "execution_count": 79,
   "id": "d27972ac",
   "metadata": {},
   "outputs": [
    {
     "data": {
      "text/plain": [
       "RangeIndex(start=0, stop=7316, step=1)"
      ]
     },
     "execution_count": 79,
     "metadata": {},
     "output_type": "execute_result"
    }
   ],
   "source": [
    "df.axes[0]"
   ]
  },
  {
   "cell_type": "code",
   "execution_count": 80,
   "id": "3822f05a",
   "metadata": {},
   "outputs": [
    {
     "data": {
      "text/plain": [
       "Index(['Security Code', 'Type', 'Issuer Name', 'Security Id', 'Security Name',\n",
       "       'Status', 'Group', 'Face Value', 'ISIN No', 'Industry', 'Instrument',\n",
       "       'Sector Name', 'Industry New Name', 'Igroup Name', 'ISubgroup Name',\n",
       "       'Date', 'Open', 'High', 'Low', 'Close', 'Adj Close', 'Volume'],\n",
       "      dtype='object')"
      ]
     },
     "execution_count": 80,
     "metadata": {},
     "output_type": "execute_result"
    }
   ],
   "source": [
    "df.axes[1]"
   ]
  },
  {
   "cell_type": "code",
   "execution_count": 81,
   "id": "9b3d268d",
   "metadata": {},
   "outputs": [
    {
     "data": {
      "text/plain": [
       "Index(['Security Code', 'Type', 'Issuer Name', 'Security Id', 'Security Name',\n",
       "       'Status', 'Group', 'Face Value', 'ISIN No', 'Industry', 'Instrument',\n",
       "       'Sector Name', 'Industry New Name', 'Igroup Name', 'ISubgroup Name',\n",
       "       'Date', 'Open', 'High', 'Low', 'Close', 'Adj Close', 'Volume'],\n",
       "      dtype='object')"
      ]
     },
     "execution_count": 81,
     "metadata": {},
     "output_type": "execute_result"
    }
   ],
   "source": [
    "df.columns"
   ]
  },
  {
   "cell_type": "code",
   "execution_count": 82,
   "id": "648df3b2",
   "metadata": {},
   "outputs": [],
   "source": [
    "nan_count=df.isnull().sum()"
   ]
  },
  {
   "cell_type": "code",
   "execution_count": 83,
   "id": "f7902dd4",
   "metadata": {},
   "outputs": [
    {
     "data": {
      "text/plain": [
       "Security Code        3658\n",
       "Type                 3658\n",
       "Issuer Name          3658\n",
       "Security Id          3658\n",
       "Security Name        3658\n",
       "Status               3658\n",
       "Group                3658\n",
       "Face Value           3658\n",
       "ISIN No              3658\n",
       "Industry             3658\n",
       "Instrument           3658\n",
       "Sector Name          3658\n",
       "Industry New Name    3658\n",
       "Igroup Name          3658\n",
       "ISubgroup Name       3658\n",
       "Date                 3658\n",
       "Open                 3665\n",
       "High                 3665\n",
       "Low                  3665\n",
       "Close                3665\n",
       "Adj Close            3665\n",
       "Volume               3665\n",
       "dtype: int64"
      ]
     },
     "execution_count": 83,
     "metadata": {},
     "output_type": "execute_result"
    }
   ],
   "source": [
    "nan_count"
   ]
  },
  {
   "cell_type": "code",
   "execution_count": 84,
   "id": "c90ab46e",
   "metadata": {},
   "outputs": [],
   "source": [
    "nan_per=(nan_count/len(df))*100"
   ]
  },
  {
   "cell_type": "code",
   "execution_count": 85,
   "id": "58d400b2",
   "metadata": {},
   "outputs": [
    {
     "data": {
      "text/plain": [
       "Security Code        50.000000\n",
       "Type                 50.000000\n",
       "Issuer Name          50.000000\n",
       "Security Id          50.000000\n",
       "Security Name        50.000000\n",
       "Status               50.000000\n",
       "Group                50.000000\n",
       "Face Value           50.000000\n",
       "ISIN No              50.000000\n",
       "Industry             50.000000\n",
       "Instrument           50.000000\n",
       "Sector Name          50.000000\n",
       "Industry New Name    50.000000\n",
       "Igroup Name          50.000000\n",
       "ISubgroup Name       50.000000\n",
       "Date                 50.000000\n",
       "Open                 50.095681\n",
       "High                 50.095681\n",
       "Low                  50.095681\n",
       "Close                50.095681\n",
       "Adj Close            50.095681\n",
       "Volume               50.095681\n",
       "dtype: float64"
      ]
     },
     "execution_count": 85,
     "metadata": {},
     "output_type": "execute_result"
    }
   ],
   "source": [
    "nan_per"
   ]
  },
  {
   "cell_type": "code",
   "execution_count": 86,
   "id": "73b8ee04",
   "metadata": {
    "scrolled": true
   },
   "outputs": [
    {
     "name": "stdout",
     "output_type": "stream",
     "text": [
      "Type\n"
     ]
    },
    {
     "ename": "TypeError",
     "evalue": "Series.fillna() got an unexpected keyword argument 'inlpace'",
     "output_type": "error",
     "traceback": [
      "\u001b[1;31m---------------------------------------------------------------------------\u001b[0m",
      "\u001b[1;31mTypeError\u001b[0m                                 Traceback (most recent call last)",
      "Cell \u001b[1;32mIn[86], line 4\u001b[0m\n\u001b[0;32m      2\u001b[0m \u001b[38;5;28;01mif\u001b[39;00m df[i]\u001b[38;5;241m.\u001b[39mdtypes\u001b[38;5;241m==\u001b[39m\u001b[38;5;124m'\u001b[39m\u001b[38;5;124mobject\u001b[39m\u001b[38;5;124m'\u001b[39m:\n\u001b[0;32m      3\u001b[0m     \u001b[38;5;28mprint\u001b[39m(i)\n\u001b[1;32m----> 4\u001b[0m     df[i]\u001b[38;5;241m=\u001b[39m\u001b[43mdf\u001b[49m\u001b[43m[\u001b[49m\u001b[43mi\u001b[49m\u001b[43m]\u001b[49m\u001b[38;5;241;43m.\u001b[39;49m\u001b[43mfillna\u001b[49m\u001b[43m(\u001b[49m\u001b[43mdf\u001b[49m\u001b[43m[\u001b[49m\u001b[43mi\u001b[49m\u001b[43m]\u001b[49m\u001b[38;5;241;43m.\u001b[39;49m\u001b[43mmode\u001b[49m\u001b[43m(\u001b[49m\u001b[43m)\u001b[49m\u001b[43m[\u001b[49m\u001b[38;5;241;43m0\u001b[39;49m\u001b[43m]\u001b[49m\u001b[43m,\u001b[49m\u001b[43minlpace\u001b[49m\u001b[38;5;241;43m=\u001b[39;49m\u001b[38;5;28;43;01mTrue\u001b[39;49;00m\u001b[43m)\u001b[49m\n\u001b[0;32m      5\u001b[0m \u001b[38;5;28;01melse\u001b[39;00m:\n\u001b[0;32m      6\u001b[0m     df[i]\u001b[38;5;241m=\u001b[39mdf[i]\u001b[38;5;241m.\u001b[39mfillna(df[i]\u001b[38;5;241m.\u001b[39mmean())\n",
      "File \u001b[1;32m~\\anaconda3\\lib\\site-packages\\pandas\\util\\_decorators.py:331\u001b[0m, in \u001b[0;36mdeprecate_nonkeyword_arguments.<locals>.decorate.<locals>.wrapper\u001b[1;34m(*args, **kwargs)\u001b[0m\n\u001b[0;32m    325\u001b[0m \u001b[38;5;28;01mif\u001b[39;00m \u001b[38;5;28mlen\u001b[39m(args) \u001b[38;5;241m>\u001b[39m num_allow_args:\n\u001b[0;32m    326\u001b[0m     warnings\u001b[38;5;241m.\u001b[39mwarn(\n\u001b[0;32m    327\u001b[0m         msg\u001b[38;5;241m.\u001b[39mformat(arguments\u001b[38;5;241m=\u001b[39m_format_argument_list(allow_args)),\n\u001b[0;32m    328\u001b[0m         \u001b[38;5;167;01mFutureWarning\u001b[39;00m,\n\u001b[0;32m    329\u001b[0m         stacklevel\u001b[38;5;241m=\u001b[39mfind_stack_level(),\n\u001b[0;32m    330\u001b[0m     )\n\u001b[1;32m--> 331\u001b[0m \u001b[38;5;28;01mreturn\u001b[39;00m func(\u001b[38;5;241m*\u001b[39margs, \u001b[38;5;241m*\u001b[39m\u001b[38;5;241m*\u001b[39mkwargs)\n",
      "\u001b[1;31mTypeError\u001b[0m: Series.fillna() got an unexpected keyword argument 'inlpace'"
     ]
    }
   ],
   "source": [
    "for i in df.columns:\n",
    "    if df[i].dtypes=='object':\n",
    "        print(i)\n",
    "        df[i]=df[i].fillna(df[i].mode()[0],inlpace=True)\n",
    "    else:\n",
    "        df[i]=df[i].fillna(df[i].mean())\n"
   ]
  },
  {
   "cell_type": "code",
   "execution_count": 70,
   "id": "1df5e120",
   "metadata": {},
   "outputs": [
    {
     "data": {
      "text/plain": [
       "Security Code          0.0\n",
       "Type                 100.0\n",
       "Issuer Name          100.0\n",
       "Security Id          100.0\n",
       "Security Name        100.0\n",
       "Status               100.0\n",
       "Group                100.0\n",
       "Face Value             0.0\n",
       "ISIN No              100.0\n",
       "Industry             100.0\n",
       "Instrument           100.0\n",
       "Sector Name          100.0\n",
       "Industry New Name    100.0\n",
       "Igroup Name          100.0\n",
       "ISubgroup Name       100.0\n",
       "Date                 100.0\n",
       "Open                   0.0\n",
       "High                   0.0\n",
       "Low                    0.0\n",
       "Close                  0.0\n",
       "Adj Close              0.0\n",
       "Volume                 0.0\n",
       "dtype: float64"
      ]
     },
     "execution_count": 70,
     "metadata": {},
     "output_type": "execute_result"
    }
   ],
   "source": [
    "nan_count=((df.isnull().sum())/len(df))*100\n",
    "nan_count"
   ]
  },
  {
   "cell_type": "code",
   "execution_count": 71,
   "id": "ffa865b7",
   "metadata": {},
   "outputs": [
    {
     "data": {
      "text/plain": [
       "Security Code        float64\n",
       "Type                  object\n",
       "Issuer Name           object\n",
       "Security Id           object\n",
       "Security Name         object\n",
       "Status                object\n",
       "Group                 object\n",
       "Face Value           float64\n",
       "ISIN No               object\n",
       "Industry              object\n",
       "Instrument            object\n",
       "Sector Name           object\n",
       "Industry New Name     object\n",
       "Igroup Name           object\n",
       "ISubgroup Name        object\n",
       "Date                  object\n",
       "Open                 float64\n",
       "High                 float64\n",
       "Low                  float64\n",
       "Close                float64\n",
       "Adj Close            float64\n",
       "Volume               float64\n",
       "dtype: object"
      ]
     },
     "execution_count": 71,
     "metadata": {},
     "output_type": "execute_result"
    }
   ],
   "source": [
    "df.dtypes"
   ]
  },
  {
   "cell_type": "code",
   "execution_count": 16,
   "id": "1dc4e554",
   "metadata": {},
   "outputs": [
    {
     "data": {
      "text/plain": [
       "<Axes: >"
      ]
     },
     "execution_count": 16,
     "metadata": {},
     "output_type": "execute_result"
    },
    {
     "data": {
      "image/png": "[encoded data removed]",
      "text/plain": [
       "<Figure size 640x480 with 1 Axes>"
      ]
     },
     "metadata": {},
     "output_type": "display_data"
    }
   ],
   "source": [
    "df.boxplot()"
   ]
  },
  {
   "cell_type": "code",
   "execution_count": null,
   "id": "6ef7fb46",
   "metadata": {},
   "outputs": [],
   "source": [
    "df."
   ]
  }
 ],
 "metadata": {
  "kernelspec": {
   "display_name": "Python 3 (ipykernel)",
   "language": "python",
   "name": "python3"
  },
  "language_info": {
   "codemirror_mode": {
    "name": "ipython",
    "version": 3
   },
   "file_extension": ".py",
   "mimetype": "text/x-python",
   "name": "python",
   "nbconvert_exporter": "python",
   "pygments_lexer": "ipython3",
   "version": "3.10.9"
  }
 },
 "nbformat": 4,
 "nbformat_minor": 5
}
