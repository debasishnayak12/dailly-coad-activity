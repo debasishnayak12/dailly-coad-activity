{
 "cells": [
  {
   "cell_type": "code",
   "execution_count": 2,
   "id": "cb26872d",
   "metadata": {},
   "outputs": [],
   "source": [
    "import numpy as np"
   ]
  },
  {
   "cell_type": "markdown",
   "id": "db5ad9db",
   "metadata": {},
   "source": [
    "1:-"
   ]
  },
  {
   "cell_type": "markdown",
   "id": "1f54af27",
   "metadata": {},
   "source": [
    "Write a Numpy program to get the Numpy version and show the Numpy build configuration."
   ]
  },
  {
   "cell_type": "code",
   "execution_count": 18,
   "id": "8855f702",
   "metadata": {},
   "outputs": [
    {
     "name": "stdout",
     "output_type": "stream",
     "text": [
      "1.23.5\n"
     ]
    }
   ],
   "source": [
    "print(np.__version__)\n"
   ]
  },
  {
   "cell_type": "code",
   "execution_count": 19,
   "id": "a419a51e",
   "metadata": {},
   "outputs": [
    {
     "name": "stdout",
     "output_type": "stream",
     "text": [
      "blas_armpl_info:\n",
      "  NOT AVAILABLE\n",
      "blas_mkl_info:\n",
      "    libraries = ['mkl_rt']\n",
      "    library_dirs = ['C:/Users/madhu/anaconda3\\\\Library\\\\lib']\n",
      "    define_macros = [('SCIPY_MKL_H', None), ('HAVE_CBLAS', None)]\n",
      "    include_dirs = ['C:/Users/madhu/anaconda3\\\\Library\\\\include']\n",
      "blas_opt_info:\n",
      "    libraries = ['mkl_rt']\n",
      "    library_dirs = ['C:/Users/madhu/anaconda3\\\\Library\\\\lib']\n",
      "    define_macros = [('SCIPY_MKL_H', None), ('HAVE_CBLAS', None)]\n",
      "    include_dirs = ['C:/Users/madhu/anaconda3\\\\Library\\\\include']\n",
      "lapack_armpl_info:\n",
      "  NOT AVAILABLE\n",
      "lapack_mkl_info:\n",
      "    libraries = ['mkl_rt']\n",
      "    library_dirs = ['C:/Users/madhu/anaconda3\\\\Library\\\\lib']\n",
      "    define_macros = [('SCIPY_MKL_H', None), ('HAVE_CBLAS', None)]\n",
      "    include_dirs = ['C:/Users/madhu/anaconda3\\\\Library\\\\include']\n",
      "lapack_opt_info:\n",
      "    libraries = ['mkl_rt']\n",
      "    library_dirs = ['C:/Users/madhu/anaconda3\\\\Library\\\\lib']\n",
      "    define_macros = [('SCIPY_MKL_H', None), ('HAVE_CBLAS', None)]\n",
      "    include_dirs = ['C:/Users/madhu/anaconda3\\\\Library\\\\include']\n",
      "Supported SIMD extensions in this NumPy install:\n",
      "    baseline = SSE,SSE2,SSE3\n",
      "    found = SSSE3,SSE41,POPCNT,SSE42,AVX,F16C,FMA3,AVX2,AVX512F,AVX512CD,AVX512_SKX,AVX512_CLX,AVX512_CNL\n",
      "    not found = \n",
      "None\n"
     ]
    }
   ],
   "source": [
    "print(np.show_config())"
   ]
  },
  {
   "cell_type": "markdown",
   "id": "b455c0fb",
   "metadata": {},
   "source": [
    "2. Write a NumPy program to get help with the add function."
   ]
  },
  {
   "cell_type": "code",
   "execution_count": 21,
   "id": "a220ee76",
   "metadata": {},
   "outputs": [
    {
     "name": "stdout",
     "output_type": "stream",
     "text": [
      "add(x1, x2, /, out=None, *, where=True, casting='same_kind', order='K', dtype=None, subok=True[, signature, extobj])\n",
      "\n",
      "Add arguments element-wise.\n",
      "\n",
      "Parameters\n",
      "----------\n",
      "x1, x2 : array_like\n",
      "    The arrays to be added.\n",
      "    If ``x1.shape != x2.shape``, they must be broadcastable to a common\n",
      "    shape (which becomes the shape of the output).\n",
      "out : ndarray, None, or tuple of ndarray and None, optional\n",
      "    A location into which the result is stored. If provided, it must have\n",
      "    a shape that the inputs broadcast to. If not provided or None,\n",
      "    a freshly-allocated array is returned. A tuple (possible only as a\n",
      "    keyword argument) must have length equal to the number of outputs.\n",
      "where : array_like, optional\n",
      "    This condition is broadcast over the input. At locations where the\n",
      "    condition is True, the `out` array will be set to the ufunc result.\n",
      "    Elsewhere, the `out` array will retain its original value.\n",
      "    Note that if an uninitialized `out` array is created via the default\n",
      "    ``out=None``, locations within it where the condition is False will\n",
      "    remain uninitialized.\n",
      "**kwargs\n",
      "    For other keyword-only arguments, see the\n",
      "    :ref:`ufunc docs <ufuncs.kwargs>`.\n",
      "\n",
      "Returns\n",
      "-------\n",
      "add : ndarray or scalar\n",
      "    The sum of `x1` and `x2`, element-wise.\n",
      "    This is a scalar if both `x1` and `x2` are scalars.\n",
      "\n",
      "Notes\n",
      "-----\n",
      "Equivalent to `x1` + `x2` in terms of array broadcasting.\n",
      "\n",
      "Examples\n",
      "--------\n",
      ">>> np.add(1.0, 4.0)\n",
      "5.0\n",
      ">>> x1 = np.arange(9.0).reshape((3, 3))\n",
      ">>> x2 = np.arange(3.0)\n",
      ">>> np.add(x1, x2)\n",
      "array([[  0.,   2.,   4.],\n",
      "       [  3.,   5.,   7.],\n",
      "       [  6.,   8.,  10.]])\n",
      "\n",
      "The ``+`` operator can be used as a shorthand for ``np.add`` on ndarrays.\n",
      "\n",
      ">>> x1 = np.arange(9.0).reshape((3, 3))\n",
      ">>> x2 = np.arange(3.0)\n",
      ">>> x1 + x2\n",
      "array([[ 0.,  2.,  4.],\n",
      "       [ 3.,  5.,  7.],\n",
      "       [ 6.,  8., 10.]])\n"
     ]
    }
   ],
   "source": [
    "np.info(np.add)"
   ]
  },
  {
   "cell_type": "code",
   "execution_count": 23,
   "id": "392d32d9",
   "metadata": {},
   "outputs": [
    {
     "data": {
      "text/plain": [
       "13"
      ]
     },
     "execution_count": 23,
     "metadata": {},
     "output_type": "execute_result"
    }
   ],
   "source": [
    "np.add(5,8)"
   ]
  },
  {
   "cell_type": "code",
   "execution_count": 39,
   "id": "57e4af7b",
   "metadata": {},
   "outputs": [
    {
     "data": {
      "text/plain": [
       "array([[ 0.,  2.,  4.,  6.],\n",
       "       [ 4.,  6.,  8., 10.]])"
      ]
     },
     "execution_count": 39,
     "metadata": {},
     "output_type": "execute_result"
    }
   ],
   "source": [
    "x1=np.arange(8.0).reshape((2,4))\n",
    "x2=np.arange(4.0)\n",
    "\n",
    "\n",
    "np.add(x1,x2)\n",
    "#x1+x2"
   ]
  },
  {
   "cell_type": "code",
   "execution_count": 35,
   "id": "726fc72e",
   "metadata": {},
   "outputs": [
    {
     "data": {
      "text/plain": [
       "array([0., 1., 2.])"
      ]
     },
     "execution_count": 35,
     "metadata": {},
     "output_type": "execute_result"
    }
   ],
   "source": [
    "x2"
   ]
  },
  {
   "cell_type": "code",
   "execution_count": 36,
   "id": "54cbe3df",
   "metadata": {},
   "outputs": [
    {
     "data": {
      "text/plain": [
       "array([[0., 1., 2., 3.],\n",
       "       [4., 5., 6., 7.]])"
      ]
     },
     "execution_count": 36,
     "metadata": {},
     "output_type": "execute_result"
    }
   ],
   "source": [
    "x1"
   ]
  },
  {
   "cell_type": "markdown",
   "id": "0d625dd6",
   "metadata": {},
   "source": [
    "3. Write a NumPy program to test whether none of the elements of a given array are zero."
   ]
  },
  {
   "cell_type": "code",
   "execution_count": 43,
   "id": "a8851b3e",
   "metadata": {},
   "outputs": [
    {
     "name": "stdout",
     "output_type": "stream",
     "text": [
      "Test if none of the element of said array is zero :\n",
      "[1 2 3 4 5]\n"
     ]
    },
    {
     "data": {
      "text/plain": [
       "True"
      ]
     },
     "execution_count": 43,
     "metadata": {},
     "output_type": "execute_result"
    }
   ],
   "source": [
    "x=np.array([1,2,3,4,5])\n",
    "print(\"Test if none of the element of said array is zero :\")\n",
    "print(x)\n",
    "np.all(x)"
   ]
  },
  {
   "cell_type": "code",
   "execution_count": 44,
   "id": "659f8943",
   "metadata": {},
   "outputs": [
    {
     "name": "stdout",
     "output_type": "stream",
     "text": [
      "Test if none of the element of said array is zero:\n"
     ]
    },
    {
     "data": {
      "text/plain": [
       "False"
      ]
     },
     "execution_count": 44,
     "metadata": {},
     "output_type": "execute_result"
    }
   ],
   "source": [
    "x=np.array([0,1,2,3,])\n",
    "print('Test if none of the element of said array is zero:')\n",
    "np.all(x)"
   ]
  },
  {
   "cell_type": "markdown",
   "id": "8a538664",
   "metadata": {},
   "source": [
    "4. Write a NumPy program to test if any of the elements of a given array are non-zero"
   ]
  },
  {
   "cell_type": "code",
   "execution_count": 47,
   "id": "5829f086",
   "metadata": {},
   "outputs": [
    {
     "name": "stdout",
     "output_type": "stream",
     "text": [
      "Test if any of the elements of a given aray are non-zero:\n",
      "True\n"
     ]
    }
   ],
   "source": [
    "x=np.array([1,0,0,0])\n",
    "\n",
    "print(\"Test if any of the elements of a given aray are non-zero:\")\n",
    "print(np.any(x))"
   ]
  },
  {
   "cell_type": "markdown",
   "id": "85846d52",
   "metadata": {},
   "source": [
    "5. Write a NumPy program to test a given array element-wise for finiteness (not infinity or not a number)."
   ]
  },
  {
   "cell_type": "code",
   "execution_count": 51,
   "id": "f870bb83",
   "metadata": {},
   "outputs": [
    {
     "name": "stdout",
     "output_type": "stream",
     "text": [
      "Test the given array element-wise for finitness:\n",
      "[ True  True False False]\n"
     ]
    }
   ],
   "source": [
    "x=np.array([1,2,np.nan,np.inf])\n",
    "print(\"Test the given array element-wise for finitness:\")\n",
    "print(np.isfinite(x))"
   ]
  },
  {
   "cell_type": "code",
   "execution_count": 49,
   "id": "7e30c221",
   "metadata": {},
   "outputs": [
    {
     "data": {
      "text/plain": [
       "nan"
      ]
     },
     "execution_count": 49,
     "metadata": {},
     "output_type": "execute_result"
    }
   ],
   "source": [
    "np.nan"
   ]
  },
  {
   "cell_type": "markdown",
   "id": "61ae3aed",
   "metadata": {},
   "source": [
    "6. Write a NumPy program to test elements-wise for positive or negative infinity. "
   ]
  },
  {
   "cell_type": "code",
   "execution_count": 53,
   "id": "65917be9",
   "metadata": {},
   "outputs": [
    {
     "name": "stdout",
     "output_type": "stream",
     "text": [
      "Test to element-wise for positive or negative infinity:\n",
      "[False False False  True]\n"
     ]
    }
   ],
   "source": [
    "x=np.array([1,2,np.nan,np.inf])\n",
    "print('Test to element-wise for positive or negative infinity:')\n",
    "print(np.isinf(x))"
   ]
  },
  {
   "cell_type": "markdown",
   "id": "079d6a61",
   "metadata": {},
   "source": [
    "7. Write a NumPy program to test element-wise for NaN of a given array."
   ]
  },
  {
   "cell_type": "code",
   "execution_count": 54,
   "id": "dd4b43d6",
   "metadata": {},
   "outputs": [
    {
     "name": "stdout",
     "output_type": "stream",
     "text": [
      "Test element-wise foro nan of a given array:\n",
      "[False False False  True False]\n"
     ]
    }
   ],
   "source": [
    "x=np.array([1,2,3,np.nan,np.inf])\n",
    "print(\"Test element-wise foro nan of a given array:\")\n",
    "print(np.isnan(x))"
   ]
  },
  {
   "cell_type": "markdown",
   "id": "010bb0f0",
   "metadata": {},
   "source": [
    "8. Write a NumPy program to test element-wise for complex numbers, real numbers in a given array. Also test if a given number is of a scalar type or not"
   ]
  },
  {
   "cell_type": "code",
   "execution_count": 4,
   "id": "f446ba1d",
   "metadata": {},
   "outputs": [
    {
     "name": "stdout",
     "output_type": "stream",
     "text": [
      "Check complex number:\n",
      "[False False  True False  True False]\n"
     ]
    }
   ],
   "source": [
    "x=np.array([1,2,1+2j,3,2j,5])\n",
    "print(\"Check complex number:\")\n",
    "print(np.iscomplex(x))"
   ]
  },
  {
   "cell_type": "code",
   "execution_count": 5,
   "id": "626675b4",
   "metadata": {},
   "outputs": [
    {
     "name": "stdout",
     "output_type": "stream",
     "text": [
      "Check real number :\n",
      "[ True  True False  True False  True]\n"
     ]
    }
   ],
   "source": [
    "print(\"Check real number :\")\n",
    "print(np.isreal(x))"
   ]
  },
  {
   "cell_type": "code",
   "execution_count": 8,
   "id": "f9e638f9",
   "metadata": {},
   "outputs": [
    {
     "name": "stdout",
     "output_type": "stream",
     "text": [
      "False\n"
     ]
    }
   ],
   "source": [
    "print(np.isscalar([3.0]))"
   ]
  },
  {
   "cell_type": "code",
   "execution_count": 9,
   "id": "cb51ef43",
   "metadata": {},
   "outputs": [
    {
     "name": "stdout",
     "output_type": "stream",
     "text": [
      "True\n"
     ]
    }
   ],
   "source": [
    "print(np.isscalar(3.0))"
   ]
  },
  {
   "cell_type": "markdown",
   "id": "3a9f0f5e",
   "metadata": {},
   "source": [
    "9. Write a NumPy program to test whether two arrays are element-wise equal within a tolerance."
   ]
  },
  {
   "cell_type": "code",
   "execution_count": null,
   "id": "d74598c7",
   "metadata": {},
   "outputs": [],
   "source": []
  },
  {
   "cell_type": "markdown",
   "id": "605fe0b7",
   "metadata": {},
   "source": [
    "10. Write a NumPy program to create an element-wise comparison (greater, greater_equal, less and less_equal) of two given arrays"
   ]
  },
  {
   "cell_type": "code",
   "execution_count": 16,
   "id": "7ca5570f",
   "metadata": {},
   "outputs": [
    {
     "name": "stdout",
     "output_type": "stream",
     "text": [
      "Original array :\n",
      "[1 4 3]\n",
      "[5 3 6]\n",
      "Comparison greater  :\n",
      "[False  True False]\n"
     ]
    }
   ],
   "source": [
    "x=np.array([1,4,3])\n",
    "y=np.array([5,3,6])\n",
    "print(\"Original array :\")\n",
    "print(x)\n",
    "print(y)\n",
    "\n",
    "print(\"Comparison greater  :\")\n",
    "print(np.greater(x,y))"
   ]
  },
  {
   "cell_type": "code",
   "execution_count": 17,
   "id": "4cc4ee12",
   "metadata": {},
   "outputs": [
    {
     "name": "stdout",
     "output_type": "stream",
     "text": [
      "comparison greater_equal:\n",
      "[False  True False]\n"
     ]
    }
   ],
   "source": [
    "print(\"comparison greater_equal:\")\n",
    "print(np.greater_equal(x,y))"
   ]
  },
  {
   "cell_type": "code",
   "execution_count": 18,
   "id": "97429a52",
   "metadata": {},
   "outputs": [
    {
     "name": "stdout",
     "output_type": "stream",
     "text": [
      "comparison less:\n",
      "[ True False  True]\n"
     ]
    }
   ],
   "source": [
    "print(\"comparison less:\")\n",
    "print(np.less(x,y))"
   ]
  },
  {
   "cell_type": "code",
   "execution_count": 19,
   "id": "dc9e1e08",
   "metadata": {},
   "outputs": [
    {
     "name": "stdout",
     "output_type": "stream",
     "text": [
      "comparison less_equal:\n",
      "[ True False  True]\n"
     ]
    }
   ],
   "source": [
    "print(\"comparison less_equal:\")\n",
    "print(np.less_equal(x,y))"
   ]
  },
  {
   "cell_type": "markdown",
   "id": "46955d8e",
   "metadata": {},
   "source": [
    "11. Write a NumPy program to create an element-wise comparison (equal, equal within a tolerance) of two given arrays."
   ]
  },
  {
   "cell_type": "code",
   "execution_count": 20,
   "id": "a6f0e975",
   "metadata": {},
   "outputs": [
    {
     "name": "stdout",
     "output_type": "stream",
     "text": [
      "original numbers :\n",
      "[  72   79   85   90  150 -135  120  -10   60  100]\n",
      "[  72.         79.         85.         90.        150.       -135.\n",
      "  120.        -10.         60.        100.000001]\n",
      "equal comparison :\n",
      "[ True  True  True  True  True  True  True  True  True False]\n",
      "equal within tolerance comparison :\n",
      "True\n"
     ]
    }
   ],
   "source": [
    "x = np.array([72, 79, 85, 90, 150, -135, 120, -10, 60, 100])\n",
    "y = np.array([72, 79, 85, 90, 150, -135, 120, -10, 60, 100.000001])\n",
    "print(\"original numbers :\")\n",
    "print(x)\n",
    "print(y)\n",
    "print(\"equal comparison :\")\n",
    "print(np.equal(x,y))\n",
    "print(\"equal within tolerance comparison :\")\n",
    "print(np.allclose(x,y))\n"
   ]
  },
  {
   "cell_type": "markdown",
   "id": "a065a589",
   "metadata": {},
   "source": [
    "12. Write a NumPy program to create an array with the values 1, 7, 13, 105 and determine the size of the memory occupied by the array."
   ]
  },
  {
   "cell_type": "code",
   "execution_count": 22,
   "id": "eee69ef7",
   "metadata": {},
   "outputs": [
    {
     "name": "stdout",
     "output_type": "stream",
     "text": [
      "original array:\n",
      "[  1   7  13 105]\n",
      "The size of the memory occupied by the said array :\n",
      "16 bytes\n"
     ]
    }
   ],
   "source": [
    "x=np.array([1,7,13,105])\n",
    "print(\"original array:\")\n",
    "print(x)\n",
    "print(\"The size of the memory occupied by the said array :\")\n",
    "print(\"%d bytes\" % (x.size * x.itemsize))"
   ]
  },
  {
   "cell_type": "markdown",
   "id": "0383af34",
   "metadata": {},
   "source": [
    "13. Write a NumPy program to create an array of 10 zeros, 10 ones, and 10 fives. "
   ]
  },
  {
   "cell_type": "code",
   "execution_count": 24,
   "id": "405c8847",
   "metadata": {},
   "outputs": [
    {
     "name": "stdout",
     "output_type": "stream",
     "text": [
      "Array of 10 zeros :\n",
      "[0. 0. 0. 0. 0. 0. 0. 0. 0. 0.]\n"
     ]
    }
   ],
   "source": [
    "print(\"Array of 10 zeros :\")\n",
    "print(np.zeros(10))"
   ]
  },
  {
   "cell_type": "code",
   "execution_count": 25,
   "id": "0e983cd6",
   "metadata": {},
   "outputs": [
    {
     "name": "stdout",
     "output_type": "stream",
     "text": [
      "Array of 10 ones :\n",
      "[1. 1. 1. 1. 1. 1. 1. 1. 1. 1.]\n"
     ]
    }
   ],
   "source": [
    "print(\"Array of 10 ones :\")\n",
    "print(np.ones(10))"
   ]
  },
  {
   "cell_type": "code",
   "execution_count": 32,
   "id": "4cecf754",
   "metadata": {},
   "outputs": [
    {
     "name": "stdout",
     "output_type": "stream",
     "text": [
      "[0. 0. 0. 0. 0. 0. 0. 0. 0. 0.]\n",
      "Array of 10 fives :\n",
      "[5. 5. 5. 5. 5. 5. 5. 5. 5. 5.]\n"
     ]
    }
   ],
   "source": [
    "\n",
    "x=np.zeros(10)\n",
    "print(x)\n",
    "y=np.add(x,5)\n",
    "print(\"Array of 10 fives :\")\n",
    "\n",
    "print(y)"
   ]
  },
  {
   "cell_type": "code",
   "execution_count": 29,
   "id": "c76b2b23",
   "metadata": {},
   "outputs": [
    {
     "name": "stdout",
     "output_type": "stream",
     "text": [
      "[[0 1 2 3 4]\n",
      " [5 6 7 8 9]]\n"
     ]
    }
   ],
   "source": [
    "x = np.arange(10).reshape((2,5))\n",
    "print(x)"
   ]
  },
  {
   "cell_type": "code",
   "execution_count": 30,
   "id": "cd85fa90",
   "metadata": {},
   "outputs": [
    {
     "data": {
      "text/plain": [
       "array([[ 5,  6,  7,  8,  9],\n",
       "       [10, 11, 12, 13, 14]])"
      ]
     },
     "execution_count": 30,
     "metadata": {},
     "output_type": "execute_result"
    }
   ],
   "source": [
    "np.add(x,5)"
   ]
  },
  {
   "cell_type": "code",
   "execution_count": 34,
   "id": "8ffa8836",
   "metadata": {},
   "outputs": [
    {
     "name": "stdout",
     "output_type": "stream",
     "text": [
      "array of 10 fives :\n",
      "[5. 5. 5. 5. 5. 5. 5. 5. 5. 5.]\n"
     ]
    }
   ],
   "source": [
    "print(\"array of 10 fives :\")\n",
    "print((np.ones(10)*5))"
   ]
  },
  {
   "cell_type": "markdown",
   "id": "6adaba95",
   "metadata": {},
   "source": [
    "14. Write a NumPy program to create an array of integers from 30 to 70."
   ]
  },
  {
   "cell_type": "code",
   "execution_count": 35,
   "id": "a901a3aa",
   "metadata": {},
   "outputs": [
    {
     "name": "stdout",
     "output_type": "stream",
     "text": [
      "Array of integers from 30 to 70 :\n",
      "[30 31 32 33 34 35 36 37 38 39 40 41 42 43 44 45 46 47 48 49 50 51 52 53\n",
      " 54 55 56 57 58 59 60 61 62 63 64 65 66 67 68 69]\n"
     ]
    }
   ],
   "source": [
    "print(\"Array of integers from 30 to 70 :\")\n",
    "print(np.arange(30,70))"
   ]
  },
  {
   "cell_type": "markdown",
   "id": "324aae51",
   "metadata": {},
   "source": [
    "15.Write a NumPy program to create an array of all even integers from 30 to 70."
   ]
  },
  {
   "cell_type": "code",
   "execution_count": 39,
   "id": "9046fa26",
   "metadata": {},
   "outputs": [
    {
     "name": "stdout",
     "output_type": "stream",
     "text": [
      "[30 32 34 36 38 40 42 44 46 48 50 52 54 56 58 60 62 64 66 68 70]\n"
     ]
    }
   ],
   "source": [
    "x=np.arange(30,71,2)\n",
    "print((x))\n"
   ]
  },
  {
   "cell_type": "markdown",
   "id": "d074322f",
   "metadata": {},
   "source": [
    "16. Write a NumPy program to create a 3x3 identity matrix."
   ]
  },
  {
   "cell_type": "code",
   "execution_count": 40,
   "id": "c2c6a683",
   "metadata": {},
   "outputs": [
    {
     "name": "stdout",
     "output_type": "stream",
     "text": [
      "[[0 1 2]\n",
      " [3 4 5]\n",
      " [6 7 8]]\n"
     ]
    }
   ],
   "source": [
    "x=np.arange(9).reshape(3,3)\n",
    "print(x)"
   ]
  },
  {
   "cell_type": "code",
   "execution_count": 41,
   "id": "d142fac4",
   "metadata": {},
   "outputs": [
    {
     "name": "stdout",
     "output_type": "stream",
     "text": [
      "3x3 matrix is :\n",
      "[[1. 0. 0.]\n",
      " [0. 1. 0.]\n",
      " [0. 0. 1.]]\n"
     ]
    }
   ],
   "source": [
    "print(\"3x3 matrix is :\")\n",
    "x=np.identity(3)\n",
    "print(x)"
   ]
  },
  {
   "cell_type": "markdown",
   "id": "f398ea9d",
   "metadata": {},
   "source": [
    "17. Write a NumPy program to generate a random number between 0 and 1."
   ]
  },
  {
   "cell_type": "code",
   "execution_count": 44,
   "id": "fedc0d39",
   "metadata": {},
   "outputs": [
    {
     "name": "stdout",
     "output_type": "stream",
     "text": [
      "Random number between 0-1 :\n",
      "0\n"
     ]
    }
   ],
   "source": [
    "print(\"Random number between 0-1 :\")\n",
    "print(np.random.randint(0,1))"
   ]
  },
  {
   "cell_type": "code",
   "execution_count": 46,
   "id": "dbe3150a",
   "metadata": {},
   "outputs": [
    {
     "data": {
      "text/plain": [
       "array([8, 8])"
      ]
     },
     "execution_count": 46,
     "metadata": {},
     "output_type": "execute_result"
    }
   ],
   "source": [
    "np.random.randint(1,10,)"
   ]
  },
  {
   "cell_type": "code",
   "execution_count": 53,
   "id": "76d7cc75",
   "metadata": {},
   "outputs": [
    {
     "name": "stdout",
     "output_type": "stream",
     "text": [
      "Random number between 0-1 :\n",
      "[0.5374365]\n"
     ]
    }
   ],
   "source": [
    "print(\"Random number between 0-1 :\")\n",
    "print(np.random.normal(0,1,1))"
   ]
  },
  {
   "cell_type": "markdown",
   "id": "5072a1da",
   "metadata": {},
   "source": [
    "18. Write a NumPy program to generate an array of 15 random numbers from a standard normal distribution."
   ]
  },
  {
   "cell_type": "code",
   "execution_count": 75,
   "id": "e2b8cd3a",
   "metadata": {},
   "outputs": [],
   "source": [
    "x=np.random.normal(0,1,15).reshape((3,5))"
   ]
  },
  {
   "cell_type": "code",
   "execution_count": 77,
   "id": "2ffc0a88",
   "metadata": {},
   "outputs": [
    {
     "name": "stdout",
     "output_type": "stream",
     "text": [
      "[[ 0.27086359  1.03786009 -0.99094489 -0.98861135  1.61365334]\n",
      " [ 0.02691532  2.03921044  0.01695249 -0.85419949  0.15476548]\n",
      " [ 0.7551914  -0.70774334  0.57593339  0.21386795 -0.12776064]]\n"
     ]
    }
   ],
   "source": [
    "print(x)"
   ]
  },
  {
   "cell_type": "markdown",
   "id": "58472b92",
   "metadata": {},
   "source": [
    "19. Write a NumPy program to create a vector with values ranging from 15 to 55 and print all values except the first and last."
   ]
  },
  {
   "cell_type": "code",
   "execution_count": 78,
   "id": "eb485a81",
   "metadata": {},
   "outputs": [
    {
     "name": "stdout",
     "output_type": "stream",
     "text": [
      "original value of vector :\n",
      "[15 16 17 18 19 20 21 22 23 24 25 26 27 28 29 30 31 32 33 34 35 36 37 38\n",
      " 39 40 41 42 43 44 45 46 47 48 49 50 51 52 53 54]\n",
      "all values excepting 1st and last :\n",
      "[16 17 18 19 20 21 22 23 24 25 26 27 28 29 30 31 32 33 34 35 36 37 38 39\n",
      " 40 41 42 43 44 45 46 47 48 49 50 51 52 53]\n"
     ]
    }
   ],
   "source": [
    "v=np.arange(15,55)\n",
    "print(\"original value of vector :\")\n",
    "print(v)\n",
    "print(\"all values excepting 1st and last :\")\n",
    "print(v[1:-1])"
   ]
  },
  {
   "cell_type": "code",
   "execution_count": 90,
   "id": "bc3ad6f6",
   "metadata": {},
   "outputs": [
    {
     "name": "stdout",
     "output_type": "stream",
     "text": [
      "[[[[[ 0  1]\n",
      "    [ 2  3]]\n",
      "\n",
      "   [[ 4  5]\n",
      "    [ 6  7]]]\n",
      "\n",
      "\n",
      "  [[[ 8  9]\n",
      "    [10 11]]\n",
      "\n",
      "   [[12 13]\n",
      "    [14 15]]]]\n",
      "\n",
      "\n",
      "\n",
      " [[[[16 17]\n",
      "    [18 19]]\n",
      "\n",
      "   [[20 21]\n",
      "    [22 23]]]\n",
      "\n",
      "\n",
      "  [[[24 25]\n",
      "    [26 27]]\n",
      "\n",
      "   [[28 29]\n",
      "    [30 31]]]]]\n"
     ]
    }
   ],
   "source": [
    "x=np.arange(32).reshape(2,2,2,2,2)\n",
    "print(x)"
   ]
  },
  {
   "cell_type": "code",
   "execution_count": 91,
   "id": "cdc154dc",
   "metadata": {},
   "outputs": [
    {
     "data": {
      "text/plain": [
       "numpy.ndarray"
      ]
     },
     "execution_count": 91,
     "metadata": {},
     "output_type": "execute_result"
    }
   ],
   "source": [
    "type(x)"
   ]
  },
  {
   "cell_type": "markdown",
   "id": "9501b55b",
   "metadata": {},
   "source": [
    "20. Write a NumPy program to create a 3X4 array and iterate over it."
   ]
  },
  {
   "cell_type": "code",
   "execution_count": 114,
   "id": "45489585",
   "metadata": {},
   "outputs": [
    {
     "name": "stdout",
     "output_type": "stream",
     "text": [
      "original array\n",
      "[[10 11 12 13]\n",
      " [14 15 16 17]\n",
      " [18 19 20 21]]\n",
      "Elements of the array :\n",
      "[[10 11 12 13]\n",
      " [14 15 16 17]\n",
      " [18 19 20 21]][[10 11 12 13]\n",
      " [14 15 16 17]\n",
      " [18 19 20 21]][[10 11 12 13]\n",
      " [14 15 16 17]\n",
      " [18 19 20 21]][[10 11 12 13]\n",
      " [14 15 16 17]\n",
      " [18 19 20 21]][[10 11 12 13]\n",
      " [14 15 16 17]\n",
      " [18 19 20 21]][[10 11 12 13]\n",
      " [14 15 16 17]\n",
      " [18 19 20 21]][[10 11 12 13]\n",
      " [14 15 16 17]\n",
      " [18 19 20 21]][[10 11 12 13]\n",
      " [14 15 16 17]\n",
      " [18 19 20 21]][[10 11 12 13]\n",
      " [14 15 16 17]\n",
      " [18 19 20 21]][[10 11 12 13]\n",
      " [14 15 16 17]\n",
      " [18 19 20 21]][[10 11 12 13]\n",
      " [14 15 16 17]\n",
      " [18 19 20 21]][[10 11 12 13]\n",
      " [14 15 16 17]\n",
      " [18 19 20 21]]"
     ]
    }
   ],
   "source": [
    "\n",
    "x=np.arange(10,22).reshape((3,4))\n",
    "print(\"original array\")\n",
    "print(x)\n",
    "print(\"Elements of the array :\")\n",
    "for i in np.nditer(x):\n",
    "    print(x,end=\"\")"
   ]
  },
  {
   "cell_type": "code",
   "execution_count": 112,
   "id": "b35c4d49",
   "metadata": {},
   "outputs": [
    {
     "name": "stdout",
     "output_type": "stream",
     "text": [
      "Original array:\n",
      "[[10 11 12 13]\n",
      " [14 15 16 17]\n",
      " [18 19 20 21]]\n",
      "Each element of the array is:\n",
      "10 11 12 13 14 15 16 17 18 19 20 21 "
     ]
    }
   ],
   "source": [
    "a = np.arange(10,22).reshape((3, 4))\n",
    "print(\"Original array:\")\n",
    "print(a)\n",
    "print(\"Each element of the array is:\")\n",
    "for x in np.nditer(a):\n",
    "    print(x,end=\" \")"
   ]
  },
  {
   "cell_type": "markdown",
   "id": "0bd9dae2",
   "metadata": {},
   "source": [
    "21. Write a NumPy program to create a vector of length 10 with values evenly distributed between 5 and 50."
   ]
  },
  {
   "cell_type": "code",
   "execution_count": 127,
   "id": "0980c600",
   "metadata": {},
   "outputs": [],
   "source": [
    "x=np.linspace(5,50,10)"
   ]
  },
  {
   "cell_type": "code",
   "execution_count": 128,
   "id": "e2ec659f",
   "metadata": {},
   "outputs": [
    {
     "name": "stdout",
     "output_type": "stream",
     "text": [
      "[ 5. 10. 15. 20. 25. 30. 35. 40. 45. 50.]\n"
     ]
    }
   ],
   "source": [
    "print(x)"
   ]
  },
  {
   "cell_type": "code",
   "execution_count": 129,
   "id": "6f150cad",
   "metadata": {},
   "outputs": [
    {
     "name": "stdout",
     "output_type": "stream",
     "text": [
      "[10. 20. 30. 40. 50.]\n"
     ]
    }
   ],
   "source": [
    "x=np.linspace(10,50,5)\n",
    "print(x)"
   ]
  },
  {
   "cell_type": "code",
   "execution_count": 130,
   "id": "929a2d73",
   "metadata": {},
   "outputs": [
    {
     "data": {
      "text/plain": [
       "5"
      ]
     },
     "execution_count": 130,
     "metadata": {},
     "output_type": "execute_result"
    }
   ],
   "source": [
    "len(x)"
   ]
  },
  {
   "cell_type": "markdown",
   "id": "6ce0c042",
   "metadata": {},
   "source": [
    "22. Write a NumPy program to create a vector with values from 0 to 20 and change the sign of the numbers in the range from 9 to 15."
   ]
  },
  {
   "cell_type": "code",
   "execution_count": 133,
   "id": "42d74dbe",
   "metadata": {},
   "outputs": [
    {
     "name": "stdout",
     "output_type": "stream",
     "text": [
      "Original array ;\n",
      "[ 0  1  2  3  4  5  6  7  8  9 10 11 12 13 14 15 16 17 18 19 20]\n",
      "Affter changing sign : \n",
      "[  0   1   2   3   4   5   6   7   8  -9 -10 -11 -12 -13 -14 -15  16  17\n",
      "  18  19  20]\n"
     ]
    }
   ],
   "source": [
    "x=np.arange(21)\n",
    "print(\"Original array :\")\n",
    "print(x)\n",
    "print(\"Affter changing sign : \")\n",
    "x[(x>=9) &(x<=15)] *= -1\n",
    "print(x)"
   ]
  },
  {
   "cell_type": "markdown",
   "id": "12bc4f9f",
   "metadata": {},
   "source": [
    "23. Write a NumPy program to create a vector of length 5 filled with arbitrary integers from 0 to 10."
   ]
  },
  {
   "cell_type": "code",
   "execution_count": 134,
   "id": "fb7ae0fe",
   "metadata": {},
   "outputs": [
    {
     "name": "stdout",
     "output_type": "stream",
     "text": [
      "[10  8  8 10  5]\n"
     ]
    }
   ],
   "source": [
    "x=np.random.randint(0,11,5)\n",
    "print(x)"
   ]
  },
  {
   "cell_type": "code",
   "execution_count": null,
   "id": "b7c46eb7",
   "metadata": {},
   "outputs": [],
   "source": []
  }
 ],
 "metadata": {
  "kernelspec": {
   "display_name": "Python 3 (ipykernel)",
   "language": "python",
   "name": "python3"
  },
  "language_info": {
   "codemirror_mode": {
    "name": "ipython",
    "version": 3
   },
   "file_extension": ".py",
   "mimetype": "text/x-python",
   "name": "python",
   "nbconvert_exporter": "python",
   "pygments_lexer": "ipython3",
   "version": "3.10.9"
  }
 },
 "nbformat": 4,
 "nbformat_minor": 5
}
