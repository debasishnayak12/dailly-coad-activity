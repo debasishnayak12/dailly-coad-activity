{
 "cells": [
  {
   "cell_type": "code",
   "execution_count": 36,
   "id": "8d2d0f39-de6d-40ec-a220-45b736dd4f8a",
   "metadata": {},
   "outputs": [],
   "source": [
    "import requests\n",
    "import logging\n",
    "import os\n",
    "from bs4 import BeautifulSoup\n",
    "from urllib.request import urlopen"
   ]
  },
  {
   "cell_type": "code",
   "execution_count": 39,
   "id": "8e1fe154-6e90-4a86-9e0e-405320694a38",
   "metadata": {},
   "outputs": [],
   "source": [
    "save_dir=\"images\"\n",
    "if not os.path.exists(save_dir):\n",
    "    os.makedirs(save_dir)"
   ]
  },
  {
   "cell_type": "code",
   "execution_count": 40,
   "id": "d2d9e12e-06c3-4982-9b64-518d1b0f295f",
   "metadata": {},
   "outputs": [],
   "source": [
    "query=\"Virat kohli\""
   ]
  },
  {
   "cell_type": "code",
   "execution_count": 41,
   "id": "e72fdf0b-74a9-4239-be48-d26979897505",
   "metadata": {},
   "outputs": [
    {
     "data": {
      "text/plain": [
       "<Response [200]>"
      ]
     },
     "execution_count": 41,
     "metadata": {},
     "output_type": "execute_result"
    }
   ],
   "source": [
    "response=requests.get(f\"https://www.google.com/search?sxsrf=AB5stBhgUXJDOD8Dq19MaXXVrgVDfiG-Ig:1690780253655&q={query}&tbm=isch&source=lnms&sa=X&ved=2ahUKEwiZ7qWjl7iAAxVPcWwGHb6YCBAQ0pQJegQICxAB&biw=1280&bih=595&dpr=1.5\")\n",
    "response"
   ]
  },
  {
   "cell_type": "code",
   "execution_count": 47,
   "id": "450cf813-cd68-4eb1-86c8-c1748ba0efa4",
   "metadata": {},
   "outputs": [
    {
     "data": {
      "text/plain": [
       "<!DOCTYPE html PUBLIC \"-//WAPFORUM//DTD XHTML Mobile 1.0//EN\" \"http://www.wapforum.org/DTD/xhtml-mobile10.dtd\">\n",
       "<html lang=\"en-IN\" xmlns=\"http://www.w3.org/1999/xhtml\"><head><meta content=\"application/xhtml+xml; charset=utf-8\" http-equiv=\"Content-Type\"/><meta content=\"no-cache\" name=\"Cache-Control\"/><title>Virat kohli - Google Search</title><style>a{text-decoration:none;color:inherit}a:hover{text-decoration:underline}a img{border:0}body{font-family:arial,sans-serif;padding:8px;margin:0 auto;max-width:700px;min-width:240px;}.FbhRzb{border-left:thin solid #dadce0;border-right:thin solid #dadce0;border-top:thin solid #dadce0;height:40px;overflow:hidden}.n692Zd{margin-bottom:10px}.cvifge{height:40px;border-spacing:0}.QvGUP{height:40px;padding:0 8px 0 8px;vertical-align:top}.O4cRJf{height:40px;width:100%;padding:0;padding-right:16px}.O1ePr{height:40px;padding:0;vertical-align:top}.kgJEQe{height:36px;width:98px;vertical-align:top;margin-top:4px}.lXLRf{vertical-align:top}.MhzMZd{border:0;vertical-align:middle;font-size:14px;height:40px;padding:0;width:100%;padding-left:16px}.xB0fq{height:40px;border:none;font-size:14px;background-color:#1a73e8;color:#fff;padding:0 16px;margin:0;vertical-align:top;cursor:pointer}.xB0fq:focus{border:1px solid #1a73e8}.M7pB2{border:thin solid #dadce0;margin:0 0 3px 0;font-size:13px;font-weight:500;height:40px}.euZec{width:100%;height:40px;text-align:center;border-spacing:0}table.euZec td{padding:0;width:25%}.QIqI7{display:inline-block;padding-top:4px;font-weight:bold;color:#4285f4}.EY24We{border-bottom:2px solid #4285f4}.CsQyDc{display:inline-block;color:#70757a}.TuS8Ad{font-size:14px}.HddGcc{padding:8px;color:#70757a}.dzp8ae{font-weight:bold;color:#3c4043}.rEM8G{color:#70757a}.bookcf{table-layout:fixed;width:100%;border-spacing:0}.InWNIe{text-align:center}.uZgmoc{border:thin solid #dadce0;color:#70757a;font-size:14px;text-align:center;table-layout:fixed;width:100%}.frGj1b{display:block;padding:12px 0 12px 0;width:100%}.BnJWBc{text-align:center;padding:6px 0 13px 0;height:35px}.e3goi{vertical-align:top;padding:0;height:180px}.GpQGbf{margin:auto;border-collapse:collapse;border-spacing:0;width:100%}</style></head><body><style>.X6ZCif{color:#202124;font-size:11px;line-height:16px;display:inline-block;padding-top:2px;overflow:hidden;padding-bottom:4px;width:100%}.TwVfHd{border-radius:16px;border:thin solid #dadce0;display:inline-block;padding:8px 8px;margin-right:8px;margin-bottom:4px}.yekiAe{background-color:#dadce0}.mnTahd{width:100%}.ezO2md{border:thin solid #dadce0;padding:12px 16px 12px 16px;margin-bottom:10px;font-family:arial,sans-serif}.lIMUZd{font-family:arial,sans-serif}.IkMU6e{border-spacing:0}.SjCsie{width:100%}.EnarA{text-align:center}.NZWO1b{width:162px;height:140px;line-height:140px;overflow:'hidden';text-align:center}.yWs4tf{text-align:center;margin:auto;vertical-align:middle;max-width:162px;max-height:140px}.jB2rPd{padding-top:2px;padding-bottom:8px;}.fYyStc{word-break:break-word}.ynsChf{display:block;white-space:nowrap;overflow:hidden;text-overflow:ellipsis}.Fj3V3b{color:#1967d2;font-size:14px;line-height:20px}.FrIlee{color:#202124;font-size:11px;line-height:16px}.F9iS2e{color:#70757a;font-size:11px;line-height:16px}.WMQ2Le{color:#70757a;font-size:12px;line-height:16px}.x3G5ab{color:#202124;font-size:12px;line-height:16px}.fuLhoc{color:#1967d2;font-size:16px;line-height:20px}.epoveb{font-size:24px;line-height:28px;font-weight:400;color:#202124}.dXDvrc{color:#0d652d;font-size:14px;line-height:20px;word-wrap:break-word}.dloBPe{font-weight:bold}.YVIcad{color:#70757a}.JkVVdd{color:#ea4335}.oXZRFd{color:#ea4335}.MQHtg{color:#fbbc04}.pyMRrb{color:#1e8e3e}.EtTZid{color:#1e8e3e}.M3vVJe{color:#1967d2}.qXLe6d{display:block}.NHQNef{font-style:italic}.Cb8Z7c{white-space:pre}a.ZWRArf{text-decoration:none}a .CVA68e:hover{text-decoration:underline}</style><div class=\"n692Zd\"><div class=\"BnJWBc\"><a class=\"lXLRf\" href=\"/?sa=X&amp;biw=1280&amp;bih=595&amp;output=images&amp;ie=UTF-8&amp;tbm=isch&amp;ved=0ahUKEwiHz5epgbmAAxVfwjgGHU0vDUMQPAgC\"><img alt=\"Google\" class=\"kgJEQe\" src=\"/images/branding/searchlogo/1x/googlelogo_desk_heirloom_color_150x55dp.gif\"/></a></div><div class=\"FbhRzb\"><form action=\"/search\"><input name=\"biw\" type=\"hidden\" value=\"1280\"/><input name=\"bih\" type=\"hidden\" value=\"595\"/><input name=\"ie\" type=\"hidden\" value=\"ISO-8859-1\"/><input name=\"tbm\" type=\"hidden\" value=\"isch\"/><input name=\"oq\" type=\"hidden\"/><input name=\"aqs\" type=\"hidden\"/><table class=\"cvifge\"><tr><td class=\"O4cRJf\"><input class=\"MhzMZd\" name=\"q\" type=\"text\" value=\"Virat kohli\"/></td><td class=\"O1ePr\"><input class=\"xB0fq\" type=\"submit\" value=\"Search\"/></td></tr></table></form></div><div class=\"M7pB2\"><table class=\"euZec\"><tbody><tr><td><a class=\"CsQyDc\" href=\"/search?q=Virat+kohli&amp;biw=1280&amp;bih=595&amp;ie=UTF-8&amp;source=lnms&amp;sa=X&amp;ved=0ahUKEwiHz5epgbmAAxVfwjgGHU0vDUMQ_AUIBCgA\">ALL</a></td><td class=\"EY24We\"><span class=\"QIqI7\">IMAGES</span></td><td><a class=\"CsQyDc\" href=\"/search?q=Virat+kohli&amp;biw=1280&amp;bih=595&amp;ie=UTF-8&amp;tbm=nws&amp;source=lnms&amp;sa=X&amp;ved=0ahUKEwiHz5epgbmAAxVfwjgGHU0vDUMQ_AUIBigC\">NEWS</a></td><td><a class=\"CsQyDc\" href=\"/search?q=Virat+kohli&amp;biw=1280&amp;bih=595&amp;ie=UTF-8&amp;tbm=vid&amp;source=lnms&amp;sa=X&amp;ved=0ahUKEwiHz5epgbmAAxVfwjgGHU0vDUMQ_AUIBygD\">VIDEOS</a></td></tr></tbody></table></div></div><div class=\"X6ZCif\"><a class=\"TwVfHd\" href=\"/search?biw=1280&amp;bih=595&amp;ie=UTF-8&amp;tbm=isch&amp;q=Virat+kohli&amp;chips=q:virat+kohli,g_1:wallpaper&amp;sa=X&amp;ved=0ahUKEwiHz5epgbmAAxVfwjgGHU0vDUMQ4lYICygA\">wallpaper</a><a class=\"TwVfHd\" href=\"/search?biw=1280&amp;bih=595&amp;ie=UTF-8&amp;tbm=isch&amp;q=Virat+kohli&amp;chips=q:virat+kohli,g_1:hairstyle&amp;sa=X&amp;ved=0ahUKEwiHz5epgbmAAxVfwjgGHU0vDUMQ4lYIDCgB\">hairstyle</a><a class=\"TwVfHd\" href=\"/search?biw=1280&amp;bih=595&amp;ie=UTF-8&amp;tbm=isch&amp;q=Virat+kohli&amp;chips=q:virat+kohli,g_1:style&amp;sa=X&amp;ved=0ahUKEwiHz5epgbmAAxVfwjgGHU0vDUMQ4lYIDSgC\">style</a><a class=\"TwVfHd\" href=\"/search?biw=1280&amp;bih=595&amp;ie=UTF-8&amp;tbm=isch&amp;q=Virat+kohli&amp;chips=q:virat+kohli,g_1:wedding&amp;sa=X&amp;ved=0ahUKEwiHz5epgbmAAxVfwjgGHU0vDUMQ4lYIDigD\">wedding</a><a class=\"TwVfHd\" href=\"/search?biw=1280&amp;bih=595&amp;ie=UTF-8&amp;tbm=isch&amp;q=Virat+kohli&amp;chips=q:virat+kohli,g_1:new+look&amp;sa=X&amp;ved=0ahUKEwiHz5epgbmAAxVfwjgGHU0vDUMQ4lYIDygE\">new look</a><a class=\"TwVfHd\" href=\"/search?biw=1280&amp;bih=595&amp;ie=UTF-8&amp;tbm=isch&amp;q=Virat+kohli&amp;chips=q:virat+kohli,g_1:captain&amp;sa=X&amp;ved=0ahUKEwiHz5epgbmAAxVfwjgGHU0vDUMQ4lYIECgF\">captain</a><a class=\"TwVfHd\" href=\"/search?biw=1280&amp;bih=595&amp;ie=UTF-8&amp;tbm=isch&amp;q=Virat+kohli&amp;chips=q:virat+kohli,g_1:tattoo&amp;sa=X&amp;ved=0ahUKEwiHz5epgbmAAxVfwjgGHU0vDUMQ4lYIESgG\">tattoo</a><a class=\"TwVfHd\" href=\"/search?biw=1280&amp;bih=595&amp;ie=UTF-8&amp;tbm=isch&amp;q=Virat+kohli&amp;chips=q:virat+kohli,g_1:century&amp;sa=X&amp;ved=0ahUKEwiHz5epgbmAAxVfwjgGHU0vDUMQ4lYIEigH\">century</a><a class=\"TwVfHd\" href=\"/search?biw=1280&amp;bih=595&amp;ie=UTF-8&amp;tbm=isch&amp;q=Virat+kohli&amp;chips=q:virat+kohli,g_1:sketch&amp;sa=X&amp;ved=0ahUKEwiHz5epgbmAAxVfwjgGHU0vDUMQ4lYIEygI\">sketch</a><a class=\"TwVfHd\" href=\"/search?biw=1280&amp;bih=595&amp;ie=UTF-8&amp;tbm=isch&amp;q=Virat+kohli&amp;chips=q:virat+kohli,g_1:rohit+sharma&amp;sa=X&amp;ved=0ahUKEwiHz5epgbmAAxVfwjgGHU0vDUMQ4lYIFCgJ\">rohit sharma</a></div><div><table class=\"GpQGbf\"><tr><td align=\"center\" class=\"e3goi\"><div class=\"mnTahd\"> <div> <div class=\"lIMUZd\"><div><table class=\"IkMU6e\"><tr><td><a href=\"/url?q=https://en.wikipedia.org/wiki/Virat_Kohli&amp;sa=U&amp;ved=2ahUKEwiHz5epgbmAAxVfwjgGHU0vDUMQqoUBegQIABAB&amp;usg=AOvVaw2DA7OffrmYRfDZzGGM8N8G\"><div class=\"NZWO1b\"><img alt=\"\" class=\"yWs4tf\" src=\"https://encrypted-tbn0.gstatic.com/images?q=tbn:ANd9GcSApOD8cC7Jh33c0VqbcFkcmx0og9wr1DYsD50a8Tp3p-0I33M_SuuLXA0Kizk&amp;s\"/></div></a></td></tr><tr><td><a href=\"/url?q=https://en.wikipedia.org/wiki/Virat_Kohli&amp;sa=U&amp;ved=2ahUKEwiHz5epgbmAAxVfwjgGHU0vDUMQr4kDegQIABAC&amp;usg=AOvVaw1-RbBdu7f2eHCu43QGOS5v\"><div class=\"jB2rPd\"> <span class=\"qXLe6d x3G5ab\"> <span class=\"fYyStc\">Virat Kohli - Wikipedia</span> </span> <span class=\"qXLe6d F9iS2e\"> <span class=\"fYyStc\">en.wikipedia.org</span> </span> </div></a></td></tr></table></div></div> </div> </div></td><td align=\"center\" class=\"e3goi\"><div class=\"mnTahd\"> <div> <div class=\"lIMUZd\"><div><table class=\"IkMU6e\"><tr><td><a href=\"/url?q=https://www.zeebiz.com/web-stories/trending/sports/sachin-tendulkar-vs-virat-kohli-records-after-500-international-matches-runs-100s-50s-average-1690300926080&amp;sa=U&amp;ved=2ahUKEwiHz5epgbmAAxVfwjgGHU0vDUMQqoUBegQIEhAB&amp;usg=AOvVaw3CxS9nQwjPc5lslTRudz6t\"><div class=\"NZWO1b\"><img alt=\"\" class=\"yWs4tf\" src=\"https://encrypted-tbn0.gstatic.com/images?q=tbn:ANd9GcSDzghEWlDVR4HINdcej04lBxbi1aoTL_CPHZh2TfFntrG95uCrdJ1ObDS4cA&amp;s\"/></div></a></td></tr><tr><td><a href=\"/url?q=https://www.zeebiz.com/web-stories/trending/sports/sachin-tendulkar-vs-virat-kohli-records-after-500-international-matches-runs-100s-50s-average-1690300926080&amp;sa=U&amp;ved=2ahUKEwiHz5epgbmAAxVfwjgGHU0vDUMQr4kDegQIEhAC&amp;usg=AOvVaw2tJpZNxSuEn3RHFaBUZRt7\"><div class=\"jB2rPd\"> <span class=\"qXLe6d x3G5ab\"> <span class=\"fYyStc\">Virat Kohli vs Sachin...</span> </span> <span class=\"qXLe6d F9iS2e\"> <span class=\"fYyStc\">www.zeebiz.com</span> </span> </div></a></td></tr></table></div></div> </div> </div></td><td align=\"center\" class=\"e3goi\"><div class=\"mnTahd\"> <div> <div class=\"lIMUZd\"><div><table class=\"IkMU6e\"><tr><td><a href=\"/url?q=https://m.timesofindia.com/sports/cricket/india-in-west-indies/virat-kohli-can-score-as-quickly-as-guys-you-call-six-hitters-curtly-ambrose/articleshow/102223510.cms&amp;sa=U&amp;ved=2ahUKEwiHz5epgbmAAxVfwjgGHU0vDUMQqoUBegQIExAB&amp;usg=AOvVaw0PLZI2RyFz1njohNO0fFRk\"><div class=\"NZWO1b\"><img alt=\"\" class=\"yWs4tf\" src=\"https://encrypted-tbn0.gstatic.com/images?q=tbn:ANd9GcS9C58BNcMmQwtKOOVPr2QxPHvO0WyNIRF5XejM_bsxPzCH1IyGGEB2t2o2tlg&amp;s\"/></div></a></td></tr><tr><td><a href=\"/url?q=https://m.timesofindia.com/sports/cricket/india-in-west-indies/virat-kohli-can-score-as-quickly-as-guys-you-call-six-hitters-curtly-ambrose/articleshow/102223510.cms&amp;sa=U&amp;ved=2ahUKEwiHz5epgbmAAxVfwjgGHU0vDUMQr4kDegQIExAC&amp;usg=AOvVaw0tTyTfQUvMlbyiLywVVaBi\"><div class=\"jB2rPd\"> <span class=\"qXLe6d x3G5ab\"> <span class=\"fYyStc\">Virat Kohli can score as...</span> </span> <span class=\"qXLe6d F9iS2e\"> <span class=\"fYyStc\">m.timesofindia.com</span> </span> </div></a></td></tr></table></div></div> </div> </div></td><td align=\"center\" class=\"e3goi\"><div class=\"mnTahd\"> <div> <div class=\"lIMUZd\"><div><table class=\"IkMU6e\"><tr><td><a href=\"/url?q=https://www.timesnownews.com/sports/cricket/india-vs-west-indies-wouldnt-say-that-west-indies-legend-gary-sobers-gives-huge-warning-to-virat-kohli-article-102258424&amp;sa=U&amp;ved=2ahUKEwiHz5epgbmAAxVfwjgGHU0vDUMQqoUBegQIDBAB&amp;usg=AOvVaw3qRjP0egIguo6pZKlC5gC3\"><div class=\"NZWO1b\"><img alt=\"\" class=\"yWs4tf\" src=\"https://encrypted-tbn0.gstatic.com/images?q=tbn:ANd9GcTKoFpIxozXSgMeua4Y7vQbGvoqQ-iRZrsNYjWdrF8bLRkjY84qCkNhnT-n6wg&amp;s\"/></div></a></td></tr><tr><td><a href=\"/url?q=https://www.timesnownews.com/sports/cricket/india-vs-west-indies-wouldnt-say-that-west-indies-legend-gary-sobers-gives-huge-warning-to-virat-kohli-article-102258424&amp;sa=U&amp;ved=2ahUKEwiHz5epgbmAAxVfwjgGHU0vDUMQr4kDegQIDBAC&amp;usg=AOvVaw09kx8LA4MQ5Sb68uze1Nnr\"><div class=\"jB2rPd\"> <span class=\"qXLe6d x3G5ab\"> <span class=\"fYyStc\">India vs West Indies:...</span> </span> <span class=\"qXLe6d F9iS2e\"> <span class=\"fYyStc\">www.timesnownews.com</span> </span> </div></a></td></tr></table></div></div> </div> </div></td></tr><tr><td align=\"center\" class=\"e3goi\"><div class=\"mnTahd\"> <div> <div class=\"lIMUZd\"><div><table class=\"IkMU6e\"><tr><td><a href=\"/url?q=https://sports.ndtv.com/cricket/virat-kohli-once-apologised-thrice-to-zaheer-khan-during-one-game-ishant-sharma-reveals-why-4239925&amp;sa=U&amp;ved=2ahUKEwiHz5epgbmAAxVfwjgGHU0vDUMQqoUBegQIDhAB&amp;usg=AOvVaw316xWWZDFvqC_lGS-XmAdD\"><div class=\"NZWO1b\"><img alt=\"\" class=\"yWs4tf\" src=\"https://encrypted-tbn0.gstatic.com/images?q=tbn:ANd9GcTQisRy9KKPpaR789gUkso2hXdR_nmiUys7sAz5OBHssfxQcCNVOkVb8LmRZQ&amp;s\"/></div></a></td></tr><tr><td><a href=\"/url?q=https://sports.ndtv.com/cricket/virat-kohli-once-apologised-thrice-to-zaheer-khan-during-one-game-ishant-sharma-reveals-why-4239925&amp;sa=U&amp;ved=2ahUKEwiHz5epgbmAAxVfwjgGHU0vDUMQr4kDegQIDhAC&amp;usg=AOvVaw1gAOWDnKF2hRqo3hXB6kWo\"><div class=\"jB2rPd\"> <span class=\"qXLe6d x3G5ab\"> <span class=\"fYyStc\">Virat Kohli Once Apologised...</span> </span> <span class=\"qXLe6d F9iS2e\"> <span class=\"fYyStc\">sports.ndtv.com</span> </span> </div></a></td></tr></table></div></div> </div> </div></td><td align=\"center\" class=\"e3goi\"><div class=\"mnTahd\"> <div> <div class=\"lIMUZd\"><div><table class=\"IkMU6e\"><tr><td><a href=\"/url?q=https://www.news18.com/cricketnext/news/ipl-15-kevin-pietersen-feels-virat-kohli-will-need-more-games-to-find-his-feet-5015473.html&amp;sa=U&amp;ved=2ahUKEwiHz5epgbmAAxVfwjgGHU0vDUMQqoUBegQIDxAB&amp;usg=AOvVaw3bB2hEthTk3nSNaTeUr_3q\"><div class=\"NZWO1b\"><img alt=\"\" class=\"yWs4tf\" src=\"https://encrypted-tbn0.gstatic.com/images?q=tbn:ANd9GcRyORR6g-FRNLSsZLxHhLsjx6xjtP4sbgIKTK-T_EGpjrhODo7joT6mfR0A1ek&amp;s\"/></div></a></td></tr><tr><td><a href=\"/url?q=https://www.news18.com/cricketnext/news/ipl-15-kevin-pietersen-feels-virat-kohli-will-need-more-games-to-find-his-feet-5015473.html&amp;sa=U&amp;ved=2ahUKEwiHz5epgbmAAxVfwjgGHU0vDUMQr4kDegQIDxAC&amp;usg=AOvVaw1HC-j8h1_KPIfB8TO-qXv3\"><div class=\"jB2rPd\"> <span class=\"qXLe6d x3G5ab\"> <span class=\"fYyStc\">IPL 15: Kevin Pietersen...</span> </span> <span class=\"qXLe6d F9iS2e\"> <span class=\"fYyStc\">www.news18.com</span> </span> </div></a></td></tr></table></div></div> </div> </div></td><td align=\"center\" class=\"e3goi\"><div class=\"mnTahd\"> <div> <div class=\"lIMUZd\"><div><table class=\"IkMU6e\"><tr><td><a href=\"/url?q=https://www.forbes.com/profile/virat-kohli/&amp;sa=U&amp;ved=2ahUKEwiHz5epgbmAAxVfwjgGHU0vDUMQqoUBegQIERAB&amp;usg=AOvVaw05EQ57V9-Ogk3HFv1tyL35\"><div class=\"NZWO1b\"><img alt=\"\" class=\"yWs4tf\" src=\"https://encrypted-tbn0.gstatic.com/images?q=tbn:ANd9GcQXhRozPeN_ofFzgMvQcHZvcplv3EpOrLtmrSnBG88kwoJo8RFn0Ev3aLykTYA&amp;s\"/></div></a></td></tr><tr><td><a href=\"/url?q=https://www.forbes.com/profile/virat-kohli/&amp;sa=U&amp;ved=2ahUKEwiHz5epgbmAAxVfwjgGHU0vDUMQr4kDegQIERAC&amp;usg=AOvVaw18YWWIuhRq9v58uvn2zE-s\"><div class=\"jB2rPd\"> <span class=\"qXLe6d x3G5ab\"> <span class=\"fYyStc\">0x0.jpg?format=jpg&amp;crop=233...</span> </span> <span class=\"qXLe6d F9iS2e\"> <span class=\"fYyStc\">www.forbes.com</span> </span> </div></a></td></tr></table></div></div> </div> </div></td><td align=\"center\" class=\"e3goi\"><div class=\"mnTahd\"> <div> <div class=\"lIMUZd\"><div><table class=\"IkMU6e\"><tr><td><a href=\"/url?q=https://www.dnaindia.com/web-stories/sports/cricket/virat-kohli-to-ms-dhoni-check-educational-qualification-of-indian-cricketers-1690649303067&amp;sa=U&amp;ved=2ahUKEwiHz5epgbmAAxVfwjgGHU0vDUMQqoUBegQICRAB&amp;usg=AOvVaw20WHMwTmKOqa6Dmqj9nbW9\"><div class=\"NZWO1b\"><img alt=\"\" class=\"yWs4tf\" src=\"https://encrypted-tbn0.gstatic.com/images?q=tbn:ANd9GcS_0zjgzoqeGx4D_kjYWU6TnsS9XpT_nz-c2dLfeZ1_0bksodxtMXjWIfp1JQ&amp;s\"/></div></a></td></tr><tr><td><a href=\"/url?q=https://www.dnaindia.com/web-stories/sports/cricket/virat-kohli-to-ms-dhoni-check-educational-qualification-of-indian-cricketers-1690649303067&amp;sa=U&amp;ved=2ahUKEwiHz5epgbmAAxVfwjgGHU0vDUMQr4kDegQICRAC&amp;usg=AOvVaw0WA1PLUDPNRAEzPI_0SPVB\"><div class=\"jB2rPd\"> <span class=\"qXLe6d x3G5ab\"> <span class=\"fYyStc\">Virat Kohli to MS Dhoni:...</span> </span> <span class=\"qXLe6d F9iS2e\"> <span class=\"fYyStc\">www.dnaindia.com</span> </span> </div></a></td></tr></table></div></div> </div> </div></td></tr><tr><td align=\"center\" class=\"e3goi\"><div class=\"mnTahd\"> <div> <div class=\"lIMUZd\"><div><table class=\"IkMU6e\"><tr><td><a href=\"/url?q=https://www.timesnownews.com/sports/cricket/india-vs-west-indies-virat-kohli-to-stay-on-bench-for-3rd-odi-vs-wi-team-india-drop-major-hint-article-102279771&amp;sa=U&amp;ved=2ahUKEwiHz5epgbmAAxVfwjgGHU0vDUMQqoUBegQIEBAB&amp;usg=AOvVaw3PLzWQj783xCQ8uWC21wjz\"><div class=\"NZWO1b\"><img alt=\"\" class=\"yWs4tf\" src=\"https://encrypted-tbn0.gstatic.com/images?q=tbn:ANd9GcRec8fL8OuoYTKa4PYUISRU9hyGvU93SriCzmW0KdVDRHfSTS4bjneJvyI52D0&amp;s\"/></div></a></td></tr><tr><td><a href=\"/url?q=https://www.timesnownews.com/sports/cricket/india-vs-west-indies-virat-kohli-to-stay-on-bench-for-3rd-odi-vs-wi-team-india-drop-major-hint-article-102279771&amp;sa=U&amp;ved=2ahUKEwiHz5epgbmAAxVfwjgGHU0vDUMQr4kDegQIEBAC&amp;usg=AOvVaw2pmj8bkCUFGaqapQWTH56v\"><div class=\"jB2rPd\"> <span class=\"qXLe6d x3G5ab\"> <span class=\"fYyStc\">India vs West Indies: Virat...</span> </span> <span class=\"qXLe6d F9iS2e\"> <span class=\"fYyStc\">www.timesnownews.com</span> </span> </div></a></td></tr></table></div></div> </div> </div></td><td align=\"center\" class=\"e3goi\"><div class=\"mnTahd\"> <div> <div class=\"lIMUZd\"><div><table class=\"IkMU6e\"><tr><td><a href=\"/url?q=https://timesofindia.indiatimes.com/sports/cricket/india-in-bangladesh/virat-kohli-slams-72nd-international-ton-surpasses-ricky-ponting-to-go-second-behind-sachin-tendulkar/articleshow/96131593.cms&amp;sa=U&amp;ved=2ahUKEwiHz5epgbmAAxVfwjgGHU0vDUMQqoUBegQIChAB&amp;usg=AOvVaw3s51F59rQI1Jpdz-vq2Op_\"><div class=\"NZWO1b\"><img alt=\"\" class=\"yWs4tf\" src=\"https://encrypted-tbn0.gstatic.com/images?q=tbn:ANd9GcR3ZFK0A4umNXAAYD4om18k3x2BgBYqPuIywILpy7ckkNFY6U2shFp4v0czbQ&amp;s\"/></div></a></td></tr><tr><td><a href=\"/url?q=https://timesofindia.indiatimes.com/sports/cricket/india-in-bangladesh/virat-kohli-slams-72nd-international-ton-surpasses-ricky-ponting-to-go-second-behind-sachin-tendulkar/articleshow/96131593.cms&amp;sa=U&amp;ved=2ahUKEwiHz5epgbmAAxVfwjgGHU0vDUMQr4kDegQIChAC&amp;usg=AOvVaw31Pqv8UlngFxMFejlK1i34\"><div class=\"jB2rPd\"> <span class=\"qXLe6d x3G5ab\"> <span class=\"fYyStc\">Virat Kohli slams 72nd...</span> </span> <span class=\"qXLe6d F9iS2e\"> <span class=\"fYyStc\">timesofindia.indiatimes.com...</span> </span> </div></a></td></tr></table></div></div> </div> </div></td><td align=\"center\" class=\"e3goi\"><div class=\"mnTahd\"> <div> <div class=\"lIMUZd\"><div><table class=\"IkMU6e\"><tr><td><a href=\"/url?q=https://www.indiatoday.in/sports/cricket/story/india-world-cup-2023-virat-kohli-virender-sehwag-schedule-announcement-2398542-2023-06-27&amp;sa=U&amp;ved=2ahUKEwiHz5epgbmAAxVfwjgGHU0vDUMQqoUBegQIDRAB&amp;usg=AOvVaw2D4hDmj6MdmqpU8z6LsLya\"><div class=\"NZWO1b\"><img alt=\"\" class=\"yWs4tf\" src=\"https://encrypted-tbn0.gstatic.com/images?q=tbn:ANd9GcT31MU-l5iezqCLOPE2jeiBB0geQsn8njIF0T290gdxybDBKMJOC5V1jM9QAg&amp;s\"/></div></a></td></tr><tr><td><a href=\"/url?q=https://www.indiatoday.in/sports/cricket/story/india-world-cup-2023-virat-kohli-virender-sehwag-schedule-announcement-2398542-2023-06-27&amp;sa=U&amp;ved=2ahUKEwiHz5epgbmAAxVfwjgGHU0vDUMQr4kDegQIDRAC&amp;usg=AOvVaw2-krX7-r7RigsqmRs1hEIM\"><div class=\"jB2rPd\"> <span class=\"qXLe6d x3G5ab\"> <span class=\"fYyStc\">India would want to win the...</span> </span> <span class=\"qXLe6d F9iS2e\"> <span class=\"fYyStc\">www.indiatoday.in</span> </span> </div></a></td></tr></table></div></div> </div> </div></td><td align=\"center\" class=\"e3goi\"><div class=\"mnTahd\"> <div> <div class=\"lIMUZd\"><div><table class=\"IkMU6e\"><tr><td><a href=\"/url?q=https://nationaltoday.com/birthday/virat-kohli/&amp;sa=U&amp;ved=2ahUKEwiHz5epgbmAAxVfwjgGHU0vDUMQqoUBegQICxAB&amp;usg=AOvVaw0Dd5SuVkr8cLdTPJGmMjTC\"><div class=\"NZWO1b\"><img alt=\"\" class=\"yWs4tf\" src=\"https://encrypted-tbn0.gstatic.com/images?q=tbn:ANd9GcRLqGxMbCeVkZIDV3mQfmlpSxuBcW4YTlZBp78_utfaZ7ACU-1GI0fyT3cQVA&amp;s\"/></div></a></td></tr><tr><td><a href=\"/url?q=https://nationaltoday.com/birthday/virat-kohli/&amp;sa=U&amp;ved=2ahUKEwiHz5epgbmAAxVfwjgGHU0vDUMQr4kDegQICxAC&amp;usg=AOvVaw3G5oyLHb-TYBiQ5jwDwVpI\"><div class=\"jB2rPd\"> <span class=\"qXLe6d x3G5ab\"> <span class=\"fYyStc\">Virat Kohli - Age, Bio,...</span> </span> <span class=\"qXLe6d F9iS2e\"> <span class=\"fYyStc\">nationaltoday.com</span> </span> </div></a></td></tr></table></div></div> </div> </div></td></tr><tr><td align=\"center\" class=\"e3goi\"><div class=\"mnTahd\"> <div> <div class=\"lIMUZd\"><div><table class=\"IkMU6e\"><tr><td><a href=\"/url?q=https://www.news18.com/cricketnext/rohit-sharma-yuzvendra-chahals-antics-virat-kohli-jaydev-unadkat-react-india-vs-west-indies-8460109.html&amp;sa=U&amp;ved=2ahUKEwiHz5epgbmAAxVfwjgGHU0vDUMQqoUBegQIAhAB&amp;usg=AOvVaw2Blrc82osjEX8FfUeyvlZZ\"><div class=\"NZWO1b\"><img alt=\"\" class=\"yWs4tf\" src=\"https://encrypted-tbn0.gstatic.com/images?q=tbn:ANd9GcRTlfouCcNW_fH3nob8CApadt2YBQWg8Aha9FD8SQuM8GMgsoUq6GENE2Ajpg&amp;s\"/></div></a></td></tr><tr><td><a href=\"/url?q=https://www.news18.com/cricketnext/rohit-sharma-yuzvendra-chahals-antics-virat-kohli-jaydev-unadkat-react-india-vs-west-indies-8460109.html&amp;sa=U&amp;ved=2ahUKEwiHz5epgbmAAxVfwjgGHU0vDUMQr4kDegQIAhAC&amp;usg=AOvVaw3oyac4BZuIkuxcY48h9f42\"><div class=\"jB2rPd\"> <span class=\"qXLe6d x3G5ab\"> <span class=\"fYyStc\">IND vs WI 2023: Rohit...</span> </span> <span class=\"qXLe6d F9iS2e\"> <span class=\"fYyStc\">www.news18.com</span> </span> </div></a></td></tr></table></div></div> </div> </div></td><td align=\"center\" class=\"e3goi\"><div class=\"mnTahd\"> <div> <div class=\"lIMUZd\"><div><table class=\"IkMU6e\"><tr><td><a href=\"/url?q=https://www.livemint.com/sports/cricket-news/virat-kohli-smashes-century-in-odi-against-sri-lanka-close-to-breaking-tendulkar-s-record-11673350925843.html&amp;sa=U&amp;ved=2ahUKEwiHz5epgbmAAxVfwjgGHU0vDUMQqoUBegQICBAB&amp;usg=AOvVaw3w1Yo8iOruI8gUCF6H3o05\"><div class=\"NZWO1b\"><img alt=\"\" class=\"yWs4tf\" src=\"https://encrypted-tbn0.gstatic.com/images?q=tbn:ANd9GcSp3kQOyVVmAnA2QMEE6FqFu6ulP9AJGt_bdQVPzJ7xb8LLDv5yZKFvw0Y-30Y&amp;s\"/></div></a></td></tr><tr><td><a href=\"/url?q=https://www.livemint.com/sports/cricket-news/virat-kohli-smashes-century-in-odi-against-sri-lanka-close-to-breaking-tendulkar-s-record-11673350925843.html&amp;sa=U&amp;ved=2ahUKEwiHz5epgbmAAxVfwjgGHU0vDUMQr4kDegQICBAC&amp;usg=AOvVaw1nkjvbkg_1qs9brcW7fCo3\"><div class=\"jB2rPd\"> <span class=\"qXLe6d x3G5ab\"> <span class=\"fYyStc\">Virat Kohli smashes century...</span> </span> <span class=\"qXLe6d F9iS2e\"> <span class=\"fYyStc\">www.livemint.com</span> </span> </div></a></td></tr></table></div></div> </div> </div></td><td align=\"center\" class=\"e3goi\"><div class=\"mnTahd\"> <div> <div class=\"lIMUZd\"><div><table class=\"IkMU6e\"><tr><td><a href=\"/url?q=https://m.rediff.com/cricket/report/we-have-got-back-the-original-virat-kohli/20230117.htm&amp;sa=U&amp;ved=2ahUKEwiHz5epgbmAAxVfwjgGHU0vDUMQqoUBegQIBhAB&amp;usg=AOvVaw0E6-PS51qgZHXB0HPXnxEk\"><div class=\"NZWO1b\"><img alt=\"\" class=\"yWs4tf\" src=\"https://encrypted-tbn0.gstatic.com/images?q=tbn:ANd9GcR31yH7qlDziUlJXlHkXWecPZWAX-UXw5HvmxOTVjhraNS4IrYozrED5TWnDQ&amp;s\"/></div></a></td></tr><tr><td><a href=\"/url?q=https://m.rediff.com/cricket/report/we-have-got-back-the-original-virat-kohli/20230117.htm&amp;sa=U&amp;ved=2ahUKEwiHz5epgbmAAxVfwjgGHU0vDUMQr4kDegQIBhAC&amp;usg=AOvVaw32xaDRWH09REqYTKI4RIjg\"><div class=\"jB2rPd\"> <span class=\"qXLe6d x3G5ab\"> <span class=\"fYyStc\">We have got back the...</span> </span> <span class=\"qXLe6d F9iS2e\"> <span class=\"fYyStc\">m.rediff.com</span> </span> </div></a></td></tr></table></div></div> </div> </div></td><td align=\"center\" class=\"e3goi\"><div class=\"mnTahd\"> <div> <div class=\"lIMUZd\"><div><table class=\"IkMU6e\"><tr><td><a href=\"/url?q=https://mobcup.net/wallpapers/virat-kohli-hd&amp;sa=U&amp;ved=2ahUKEwiHz5epgbmAAxVfwjgGHU0vDUMQqoUBegQIBBAB&amp;usg=AOvVaw3b_6d9VmHZh7057Km24s9o\"><div class=\"NZWO1b\"><img alt=\"\" class=\"yWs4tf\" src=\"https://encrypted-tbn0.gstatic.com/images?q=tbn:ANd9GcS8KTiPsdIdv6tCZuf-oRwHoP4zesJHEmjSw7cAb2DxIRKzl8eI7bxEupbJGQI&amp;s\"/></div></a></td></tr><tr><td><a href=\"/url?q=https://mobcup.net/wallpapers/virat-kohli-hd&amp;sa=U&amp;ved=2ahUKEwiHz5epgbmAAxVfwjgGHU0vDUMQr4kDegQIBBAC&amp;usg=AOvVaw2MDvKcasFMOVJl8rSDsQU2\"><div class=\"jB2rPd\"> <span class=\"qXLe6d x3G5ab\"> <span class=\"fYyStc\">Virat kohli hd Wallpapers...</span> </span> <span class=\"qXLe6d F9iS2e\"> <span class=\"fYyStc\">mobcup.net</span> </span> </div></a></td></tr></table></div></div> </div> </div></td></tr><tr><td align=\"center\" class=\"e3goi\"><div class=\"mnTahd\"> <div> <div class=\"lIMUZd\"><div><table class=\"IkMU6e\"><tr><td><a href=\"/url?q=https://www.forbesindia.com/article/lifes/in-a-room-full-of-people-who-support-and-love-me-i-felt-alone-virat-kohli-on-mental-health-struggles/79129/1&amp;sa=U&amp;ved=2ahUKEwiHz5epgbmAAxVfwjgGHU0vDUMQqoUBegQIARAB&amp;usg=AOvVaw2LxQ1HWQ3Aa3u7caBy2OC7\"><div class=\"NZWO1b\"><img alt=\"\" class=\"yWs4tf\" src=\"https://encrypted-tbn0.gstatic.com/images?q=tbn:ANd9GcQMzIq1yMrFHamuJKT8uT9Mws9uEpBjvIn9NcqQTjrjCVLYbHqNjuYlnSk4GDE&amp;s\"/></div></a></td></tr><tr><td><a href=\"/url?q=https://www.forbesindia.com/article/lifes/in-a-room-full-of-people-who-support-and-love-me-i-felt-alone-virat-kohli-on-mental-health-struggles/79129/1&amp;sa=U&amp;ved=2ahUKEwiHz5epgbmAAxVfwjgGHU0vDUMQr4kDegQIARAC&amp;usg=AOvVaw3GZgBhKyhme8DVfZs2wuAr\"><div class=\"jB2rPd\"> <span class=\"qXLe6d x3G5ab\"> <span class=\"fYyStc\">In A Room Full Of People...</span> </span> <span class=\"qXLe6d F9iS2e\"> <span class=\"fYyStc\">www.forbesindia.com</span> </span> </div></a></td></tr></table></div></div> </div> </div></td><td align=\"center\" class=\"e3goi\"><div class=\"mnTahd\"> <div> <div class=\"lIMUZd\"><div><table class=\"IkMU6e\"><tr><td><a href=\"/url?q=https://english.jagran.com/cricket/only-way-to-make-sense-out-of-change-virat-kohli-post-another-cryptic-story-post-wtc-final-loss-10082847&amp;sa=U&amp;ved=2ahUKEwiHz5epgbmAAxVfwjgGHU0vDUMQqoUBegQIAxAB&amp;usg=AOvVaw0kKhEQSu5IlenqtFKVTNWR\"><div class=\"NZWO1b\"><img alt=\"\" class=\"yWs4tf\" src=\"https://encrypted-tbn0.gstatic.com/images?q=tbn:ANd9GcRGYkG5ICR8iRwn42yp2Da-6lzhYbfwoAAIk4KKLlZMlPuP4czNJSzqEMO_HI0&amp;s\"/></div></a></td></tr><tr><td><a href=\"/url?q=https://english.jagran.com/cricket/only-way-to-make-sense-out-of-change-virat-kohli-post-another-cryptic-story-post-wtc-final-loss-10082847&amp;sa=U&amp;ved=2ahUKEwiHz5epgbmAAxVfwjgGHU0vDUMQr4kDegQIAxAC&amp;usg=AOvVaw1aiJojr0FIF9K1eA9BUbmx\"><div class=\"jB2rPd\"> <span class=\"qXLe6d x3G5ab\"> <span class=\"fYyStc\">Virat Kohli Posts Another...</span> </span> <span class=\"qXLe6d F9iS2e\"> <span class=\"fYyStc\">english.jagran.com</span> </span> </div></a></td></tr></table></div></div> </div> </div></td><td align=\"center\" class=\"e3goi\"><div class=\"mnTahd\"> <div> <div class=\"lIMUZd\"><div><table class=\"IkMU6e\"><tr><td><a href=\"/url?q=https://www.dnaindia.com/technology/report-virat-kohli-uses-rs-20000-apple-earbuds-that-aren-t-available-in-india-not-apple-airpods-pro-3053376&amp;sa=U&amp;ved=2ahUKEwiHz5epgbmAAxVfwjgGHU0vDUMQqoUBegQIBxAB&amp;usg=AOvVaw2h2OZTIkQRk9YLogfE22_i\"><div class=\"NZWO1b\"><img alt=\"\" class=\"yWs4tf\" src=\"https://encrypted-tbn0.gstatic.com/images?q=tbn:ANd9GcRZJo33H9n0_WI5mo6qPjFFxMNOnC6gKTatQcX4aVQVlSZDmBsXBdfl3W__mw&amp;s\"/></div></a></td></tr><tr><td><a href=\"/url?q=https://www.dnaindia.com/technology/report-virat-kohli-uses-rs-20000-apple-earbuds-that-aren-t-available-in-india-not-apple-airpods-pro-3053376&amp;sa=U&amp;ved=2ahUKEwiHz5epgbmAAxVfwjgGHU0vDUMQr4kDegQIBxAC&amp;usg=AOvVaw31nx1zkz7a290nDDMLLR6R\"><div class=\"jB2rPd\"> <span class=\"qXLe6d x3G5ab\"> <span class=\"fYyStc\">Virat Kohli uses Rs 20,000...</span> </span> <span class=\"qXLe6d F9iS2e\"> <span class=\"fYyStc\">www.dnaindia.com</span> </span> </div></a></td></tr></table></div></div> </div> </div></td><td align=\"center\" class=\"e3goi\"><div class=\"mnTahd\"> <div> <div class=\"lIMUZd\"><div><table class=\"IkMU6e\"><tr><td><a href=\"/url?q=https://www.mykhel.com/cricket/players/virat-kohli-ipl-p3788/&amp;sa=U&amp;ved=2ahUKEwiHz5epgbmAAxVfwjgGHU0vDUMQqoUBegQIBRAB&amp;usg=AOvVaw3HgXFZxbjuEr8X9DypPpD0\"><div class=\"NZWO1b\"><img alt=\"\" class=\"yWs4tf\" src=\"https://encrypted-tbn0.gstatic.com/images?q=tbn:ANd9GcRNYxI7NzkxReEfzTANecdflgCygz-vaygIJgdlCAr2LjdYWljenNcYEEmPNQ&amp;s\"/></div></a></td></tr><tr><td><a href=\"/url?q=https://www.mykhel.com/cricket/players/virat-kohli-ipl-p3788/&amp;sa=U&amp;ved=2ahUKEwiHz5epgbmAAxVfwjgGHU0vDUMQr4kDegQIBRAC&amp;usg=AOvVaw1qlpw2euf4Jn7v1_IQIC_P\"><div class=\"jB2rPd\"> <span class=\"qXLe6d x3G5ab\"> <span class=\"fYyStc\">Virat Kohli IPL Career:...</span> </span> <span class=\"qXLe6d F9iS2e\"> <span class=\"fYyStc\">www.mykhel.com</span> </span> </div></a></td></tr></table></div></div> </div> </div></td></tr></table></div><table class=\"uZgmoc\"><tbody><td><a class=\"frGj1b\" href=\"/search?q=Virat+kohli&amp;biw=1280&amp;bih=595&amp;ie=UTF-8&amp;tbm=isch&amp;ei=kLHHZIfHCd-E4-EPzd60mAQ&amp;start=20&amp;sa=N\">Next &gt;</a></td></tbody></table><br/><div class=\"TuS8Ad\" data-ved=\"0ahUKEwiHz5epgbmAAxVfwjgGHU0vDUMQpyoIUg\"><style>.VYM29{font-weight:bold}</style><div align=\"center\" class=\"HddGcc\"><span class=\"VYM29\">Bhubaneswar, Odisha</span><span> - </span><span>From your IP address</span><span> - </span><a href=\"/url?q=https://support.google.com/websearch%3Fp%3Dws_settings_location%26hl%3Den-IN&amp;sa=U&amp;ved=0ahUKEwiHz5epgbmAAxVfwjgGHU0vDUMQty4IUw&amp;usg=AOvVaw1Lk3wwX_wzXOf3LCuvaUpN\">Learn more</a></div><div align=\"center\"><a class=\"rEM8G\" href=\"/url?q=https://accounts.google.com/ServiceLogin%3Fcontinue%3Dhttps://www.google.com/search%253Fsxsrf%253DAB5stBhgUXJDOD8Dq19MaXXVrgVDfiG-Ig:1690780253655%2526q%253DVirat%252Bkohli%2526tbm%253Disch%2526source%253Dlnms%2526sa%253DX%2526ved%253D2ahUKEwiZ7qWjl7iAAxVPcWwGHb6YCBAQ0pQJegQICxAB%2526biw%253D1280%2526bih%253D595%2526dpr%253D1.5%26hl%3Den&amp;sa=U&amp;ved=0ahUKEwiHz5epgbmAAxVfwjgGHU0vDUMQxs8CCFQ&amp;usg=AOvVaw1MJ2w7orHBpN5q5GzKy4i_\">Sign in</a></div><div><table class=\"bookcf\"><tbody class=\"InWNIe\"><tr><td><a class=\"rEM8G\" href=\"https://www.google.com/preferences?hl=en&amp;sa=X&amp;ved=0ahUKEwiHz5epgbmAAxVfwjgGHU0vDUMQv5YECFU\">Settings</a></td><td><a class=\"rEM8G\" href=\"https://www.google.com/intl/en_in/policies/privacy/\">Privacy</a></td><td><a class=\"rEM8G\" href=\"https://www.google.com/intl/en_in/policies/terms/\">Terms</a></td></tr></tbody></table></div></div><div> </div></body></html>"
      ]
     },
     "execution_count": 47,
     "metadata": {},
     "output_type": "execute_result"
    }
   ],
   "source": [
    "soup=BeautifulSoup(response.content,\"html.parser\")\n",
    "soup"
   ]
  },
  {
   "cell_type": "code",
   "execution_count": 48,
   "id": "c10c8e1c-b0d4-4ced-8e58-4c314d76065c",
   "metadata": {},
   "outputs": [
    {
     "data": {
      "text/plain": [
       "[<img alt=\"Google\" class=\"kgJEQe\" src=\"/images/branding/searchlogo/1x/googlelogo_desk_heirloom_color_150x55dp.gif\"/>,\n",
       " <img alt=\"\" class=\"yWs4tf\" src=\"https://encrypted-tbn0.gstatic.com/images?q=tbn:ANd9GcSApOD8cC7Jh33c0VqbcFkcmx0og9wr1DYsD50a8Tp3p-0I33M_SuuLXA0Kizk&amp;s\"/>,\n",
       " <img alt=\"\" class=\"yWs4tf\" src=\"https://encrypted-tbn0.gstatic.com/images?q=tbn:ANd9GcSDzghEWlDVR4HINdcej04lBxbi1aoTL_CPHZh2TfFntrG95uCrdJ1ObDS4cA&amp;s\"/>,\n",
       " <img alt=\"\" class=\"yWs4tf\" src=\"https://encrypted-tbn0.gstatic.com/images?q=tbn:ANd9GcS9C58BNcMmQwtKOOVPr2QxPHvO0WyNIRF5XejM_bsxPzCH1IyGGEB2t2o2tlg&amp;s\"/>,\n",
       " <img alt=\"\" class=\"yWs4tf\" src=\"https://encrypted-tbn0.gstatic.com/images?q=tbn:ANd9GcTKoFpIxozXSgMeua4Y7vQbGvoqQ-iRZrsNYjWdrF8bLRkjY84qCkNhnT-n6wg&amp;s\"/>,\n",
       " <img alt=\"\" class=\"yWs4tf\" src=\"https://encrypted-tbn0.gstatic.com/images?q=tbn:ANd9GcTQisRy9KKPpaR789gUkso2hXdR_nmiUys7sAz5OBHssfxQcCNVOkVb8LmRZQ&amp;s\"/>,\n",
       " <img alt=\"\" class=\"yWs4tf\" src=\"https://encrypted-tbn0.gstatic.com/images?q=tbn:ANd9GcRyORR6g-FRNLSsZLxHhLsjx6xjtP4sbgIKTK-T_EGpjrhODo7joT6mfR0A1ek&amp;s\"/>,\n",
       " <img alt=\"\" class=\"yWs4tf\" src=\"https://encrypted-tbn0.gstatic.com/images?q=tbn:ANd9GcQXhRozPeN_ofFzgMvQcHZvcplv3EpOrLtmrSnBG88kwoJo8RFn0Ev3aLykTYA&amp;s\"/>,\n",
       " <img alt=\"\" class=\"yWs4tf\" src=\"https://encrypted-tbn0.gstatic.com/images?q=tbn:ANd9GcS_0zjgzoqeGx4D_kjYWU6TnsS9XpT_nz-c2dLfeZ1_0bksodxtMXjWIfp1JQ&amp;s\"/>,\n",
       " <img alt=\"\" class=\"yWs4tf\" src=\"https://encrypted-tbn0.gstatic.com/images?q=tbn:ANd9GcRec8fL8OuoYTKa4PYUISRU9hyGvU93SriCzmW0KdVDRHfSTS4bjneJvyI52D0&amp;s\"/>,\n",
       " <img alt=\"\" class=\"yWs4tf\" src=\"https://encrypted-tbn0.gstatic.com/images?q=tbn:ANd9GcR3ZFK0A4umNXAAYD4om18k3x2BgBYqPuIywILpy7ckkNFY6U2shFp4v0czbQ&amp;s\"/>,\n",
       " <img alt=\"\" class=\"yWs4tf\" src=\"https://encrypted-tbn0.gstatic.com/images?q=tbn:ANd9GcT31MU-l5iezqCLOPE2jeiBB0geQsn8njIF0T290gdxybDBKMJOC5V1jM9QAg&amp;s\"/>,\n",
       " <img alt=\"\" class=\"yWs4tf\" src=\"https://encrypted-tbn0.gstatic.com/images?q=tbn:ANd9GcRLqGxMbCeVkZIDV3mQfmlpSxuBcW4YTlZBp78_utfaZ7ACU-1GI0fyT3cQVA&amp;s\"/>,\n",
       " <img alt=\"\" class=\"yWs4tf\" src=\"https://encrypted-tbn0.gstatic.com/images?q=tbn:ANd9GcRTlfouCcNW_fH3nob8CApadt2YBQWg8Aha9FD8SQuM8GMgsoUq6GENE2Ajpg&amp;s\"/>,\n",
       " <img alt=\"\" class=\"yWs4tf\" src=\"https://encrypted-tbn0.gstatic.com/images?q=tbn:ANd9GcSp3kQOyVVmAnA2QMEE6FqFu6ulP9AJGt_bdQVPzJ7xb8LLDv5yZKFvw0Y-30Y&amp;s\"/>,\n",
       " <img alt=\"\" class=\"yWs4tf\" src=\"https://encrypted-tbn0.gstatic.com/images?q=tbn:ANd9GcR31yH7qlDziUlJXlHkXWecPZWAX-UXw5HvmxOTVjhraNS4IrYozrED5TWnDQ&amp;s\"/>,\n",
       " <img alt=\"\" class=\"yWs4tf\" src=\"https://encrypted-tbn0.gstatic.com/images?q=tbn:ANd9GcS8KTiPsdIdv6tCZuf-oRwHoP4zesJHEmjSw7cAb2DxIRKzl8eI7bxEupbJGQI&amp;s\"/>,\n",
       " <img alt=\"\" class=\"yWs4tf\" src=\"https://encrypted-tbn0.gstatic.com/images?q=tbn:ANd9GcQMzIq1yMrFHamuJKT8uT9Mws9uEpBjvIn9NcqQTjrjCVLYbHqNjuYlnSk4GDE&amp;s\"/>,\n",
       " <img alt=\"\" class=\"yWs4tf\" src=\"https://encrypted-tbn0.gstatic.com/images?q=tbn:ANd9GcRGYkG5ICR8iRwn42yp2Da-6lzhYbfwoAAIk4KKLlZMlPuP4czNJSzqEMO_HI0&amp;s\"/>,\n",
       " <img alt=\"\" class=\"yWs4tf\" src=\"https://encrypted-tbn0.gstatic.com/images?q=tbn:ANd9GcRZJo33H9n0_WI5mo6qPjFFxMNOnC6gKTatQcX4aVQVlSZDmBsXBdfl3W__mw&amp;s\"/>,\n",
       " <img alt=\"\" class=\"yWs4tf\" src=\"https://encrypted-tbn0.gstatic.com/images?q=tbn:ANd9GcRNYxI7NzkxReEfzTANecdflgCygz-vaygIJgdlCAr2LjdYWljenNcYEEmPNQ&amp;s\"/>]"
      ]
     },
     "execution_count": 48,
     "metadata": {},
     "output_type": "execute_result"
    }
   ],
   "source": [
    "image_tag=soup.find_all(\"img\")\n",
    "image_tag"
   ]
  },
  {
   "cell_type": "code",
   "execution_count": 49,
   "id": "3f818a58-54f9-456c-8b87-be08645906fc",
   "metadata": {},
   "outputs": [],
   "source": [
    "del image_tag[0]\n",
    "\n"
   ]
  },
  {
   "cell_type": "code",
   "execution_count": 50,
   "id": "7af2f905-2053-45fe-9641-f2bc15e1771b",
   "metadata": {},
   "outputs": [
    {
     "data": {
      "text/plain": [
       "[<img alt=\"\" class=\"yWs4tf\" src=\"https://encrypted-tbn0.gstatic.com/images?q=tbn:ANd9GcSApOD8cC7Jh33c0VqbcFkcmx0og9wr1DYsD50a8Tp3p-0I33M_SuuLXA0Kizk&amp;s\"/>,\n",
       " <img alt=\"\" class=\"yWs4tf\" src=\"https://encrypted-tbn0.gstatic.com/images?q=tbn:ANd9GcSDzghEWlDVR4HINdcej04lBxbi1aoTL_CPHZh2TfFntrG95uCrdJ1ObDS4cA&amp;s\"/>,\n",
       " <img alt=\"\" class=\"yWs4tf\" src=\"https://encrypted-tbn0.gstatic.com/images?q=tbn:ANd9GcS9C58BNcMmQwtKOOVPr2QxPHvO0WyNIRF5XejM_bsxPzCH1IyGGEB2t2o2tlg&amp;s\"/>,\n",
       " <img alt=\"\" class=\"yWs4tf\" src=\"https://encrypted-tbn0.gstatic.com/images?q=tbn:ANd9GcTKoFpIxozXSgMeua4Y7vQbGvoqQ-iRZrsNYjWdrF8bLRkjY84qCkNhnT-n6wg&amp;s\"/>,\n",
       " <img alt=\"\" class=\"yWs4tf\" src=\"https://encrypted-tbn0.gstatic.com/images?q=tbn:ANd9GcTQisRy9KKPpaR789gUkso2hXdR_nmiUys7sAz5OBHssfxQcCNVOkVb8LmRZQ&amp;s\"/>,\n",
       " <img alt=\"\" class=\"yWs4tf\" src=\"https://encrypted-tbn0.gstatic.com/images?q=tbn:ANd9GcRyORR6g-FRNLSsZLxHhLsjx6xjtP4sbgIKTK-T_EGpjrhODo7joT6mfR0A1ek&amp;s\"/>,\n",
       " <img alt=\"\" class=\"yWs4tf\" src=\"https://encrypted-tbn0.gstatic.com/images?q=tbn:ANd9GcQXhRozPeN_ofFzgMvQcHZvcplv3EpOrLtmrSnBG88kwoJo8RFn0Ev3aLykTYA&amp;s\"/>,\n",
       " <img alt=\"\" class=\"yWs4tf\" src=\"https://encrypted-tbn0.gstatic.com/images?q=tbn:ANd9GcS_0zjgzoqeGx4D_kjYWU6TnsS9XpT_nz-c2dLfeZ1_0bksodxtMXjWIfp1JQ&amp;s\"/>,\n",
       " <img alt=\"\" class=\"yWs4tf\" src=\"https://encrypted-tbn0.gstatic.com/images?q=tbn:ANd9GcRec8fL8OuoYTKa4PYUISRU9hyGvU93SriCzmW0KdVDRHfSTS4bjneJvyI52D0&amp;s\"/>,\n",
       " <img alt=\"\" class=\"yWs4tf\" src=\"https://encrypted-tbn0.gstatic.com/images?q=tbn:ANd9GcR3ZFK0A4umNXAAYD4om18k3x2BgBYqPuIywILpy7ckkNFY6U2shFp4v0czbQ&amp;s\"/>,\n",
       " <img alt=\"\" class=\"yWs4tf\" src=\"https://encrypted-tbn0.gstatic.com/images?q=tbn:ANd9GcT31MU-l5iezqCLOPE2jeiBB0geQsn8njIF0T290gdxybDBKMJOC5V1jM9QAg&amp;s\"/>,\n",
       " <img alt=\"\" class=\"yWs4tf\" src=\"https://encrypted-tbn0.gstatic.com/images?q=tbn:ANd9GcRLqGxMbCeVkZIDV3mQfmlpSxuBcW4YTlZBp78_utfaZ7ACU-1GI0fyT3cQVA&amp;s\"/>,\n",
       " <img alt=\"\" class=\"yWs4tf\" src=\"https://encrypted-tbn0.gstatic.com/images?q=tbn:ANd9GcRTlfouCcNW_fH3nob8CApadt2YBQWg8Aha9FD8SQuM8GMgsoUq6GENE2Ajpg&amp;s\"/>,\n",
       " <img alt=\"\" class=\"yWs4tf\" src=\"https://encrypted-tbn0.gstatic.com/images?q=tbn:ANd9GcSp3kQOyVVmAnA2QMEE6FqFu6ulP9AJGt_bdQVPzJ7xb8LLDv5yZKFvw0Y-30Y&amp;s\"/>,\n",
       " <img alt=\"\" class=\"yWs4tf\" src=\"https://encrypted-tbn0.gstatic.com/images?q=tbn:ANd9GcR31yH7qlDziUlJXlHkXWecPZWAX-UXw5HvmxOTVjhraNS4IrYozrED5TWnDQ&amp;s\"/>,\n",
       " <img alt=\"\" class=\"yWs4tf\" src=\"https://encrypted-tbn0.gstatic.com/images?q=tbn:ANd9GcS8KTiPsdIdv6tCZuf-oRwHoP4zesJHEmjSw7cAb2DxIRKzl8eI7bxEupbJGQI&amp;s\"/>,\n",
       " <img alt=\"\" class=\"yWs4tf\" src=\"https://encrypted-tbn0.gstatic.com/images?q=tbn:ANd9GcQMzIq1yMrFHamuJKT8uT9Mws9uEpBjvIn9NcqQTjrjCVLYbHqNjuYlnSk4GDE&amp;s\"/>,\n",
       " <img alt=\"\" class=\"yWs4tf\" src=\"https://encrypted-tbn0.gstatic.com/images?q=tbn:ANd9GcRGYkG5ICR8iRwn42yp2Da-6lzhYbfwoAAIk4KKLlZMlPuP4czNJSzqEMO_HI0&amp;s\"/>,\n",
       " <img alt=\"\" class=\"yWs4tf\" src=\"https://encrypted-tbn0.gstatic.com/images?q=tbn:ANd9GcRZJo33H9n0_WI5mo6qPjFFxMNOnC6gKTatQcX4aVQVlSZDmBsXBdfl3W__mw&amp;s\"/>,\n",
       " <img alt=\"\" class=\"yWs4tf\" src=\"https://encrypted-tbn0.gstatic.com/images?q=tbn:ANd9GcRNYxI7NzkxReEfzTANecdflgCygz-vaygIJgdlCAr2LjdYWljenNcYEEmPNQ&amp;s\"/>]"
      ]
     },
     "execution_count": 50,
     "metadata": {},
     "output_type": "execute_result"
    }
   ],
   "source": [
    "image_tag"
   ]
  },
  {
   "cell_type": "code",
   "execution_count": 51,
   "id": "f5aefcd1-ff92-4ae3-92a3-a33a0b476bbc",
   "metadata": {},
   "outputs": [
    {
     "data": {
      "text/plain": [
       "20"
      ]
     },
     "execution_count": 51,
     "metadata": {},
     "output_type": "execute_result"
    }
   ],
   "source": [
    "len(image_tag)"
   ]
  },
  {
   "cell_type": "code",
   "execution_count": 52,
   "id": "c1392532-a2be-4d73-bdff-7b2bd92231d4",
   "metadata": {},
   "outputs": [],
   "source": [
    "for i in image_tag:\n",
    "    image_url=i['src']\n",
    "    image_data=requests.get(image_url).content\n",
    "    with open(os.path.join(save_dir,f\"{query}_{image_tag.index(i)}.jpg\"),\"wb\") as f:\n",
    "        f.write(image_data)"
   ]
  },
  {
   "cell_type": "code",
   "execution_count": null,
   "id": "4f7a859a-73b6-4ac0-8266-a7ce457217f1",
   "metadata": {},
   "outputs": [],
   "source": []
  }
 ],
 "metadata": {
  "kernelspec": {
   "display_name": "Python 3 (ipykernel)",
   "language": "python",
   "name": "python3"
  },
  "language_info": {
   "codemirror_mode": {
    "name": "ipython",
    "version": 3
   },
   "file_extension": ".py",
   "mimetype": "text/x-python",
   "name": "python",
   "nbconvert_exporter": "python",
   "pygments_lexer": "ipython3",
   "version": "3.9.0"
  }
 },
 "nbformat": 4,
 "nbformat_minor": 5
}
